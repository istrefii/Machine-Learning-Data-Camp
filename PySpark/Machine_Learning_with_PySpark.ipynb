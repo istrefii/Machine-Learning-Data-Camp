{
  "nbformat": 4,
  "nbformat_minor": 0,
  "metadata": {
    "colab": {
      "provenance": [],
      "collapsed_sections": []
    },
    "kernelspec": {
      "name": "python3",
      "display_name": "Python 3"
    },
    "language_info": {
      "name": "python"
    }
  },
  "cells": [
    {
      "cell_type": "markdown",
      "source": [
        "# Course Description\n",
        "Spark is a powerful, general purpose tool for working with Big Data. Spark transparently handles the distribution of compute tasks across a cluster. This means that operations are fast, but it also allows you to focus on the analysis rather than worry about technical details. In this course you'll learn how to get data into Spark and then delve into the three fundamental Spark Machine Learning algorithms: Linear Regression, Logistic Regression/Classifiers, and creating pipelines. Along the way you'll analyse a large dataset of flight delays and spam text messages. With this background you'll be ready to harness the power of Spark and apply it on your own Machine Learning projects!\n",
        "\n",
        "CHAPTERS:\n",
        "1. Intro \n",
        "2. Classification\n",
        "3. Regression\n",
        "4. Ensemble Pipelines"
      ],
      "metadata": {
        "id": "c5SSyC4ErXd5"
      }
    },
    {
      "cell_type": "markdown",
      "source": [
        "# CHAPTER 1 \n",
        "\n",
        "## Introduction\n",
        "Spark is a framework for working with Big Data. In this chapter you'll cover some background about Spark and Machine Learning. You'll then find out how to connect to Spark using Python and load CSV data."
      ],
      "metadata": {
        "id": "8X_DmHHyrgX-"
      }
    },
    {
      "cell_type": "markdown",
      "source": [
        "# Characteristics of Spark\n",
        "Spark is currently the most popular technology for processing large quantities of data. Not only is it able to handle enormous data volumes, but it does so very efficiently too! Also, unlike some other distributed computing technologies, developing with Spark is a pleasure.\n",
        "\n",
        "Which of these describe Spark?\n",
        "\n",
        "Answer: \n",
        "Spark is a framework for cluster computing.\n",
        "Spark does most processing in memory.\n",
        "Spark has a high-level API, which conceals a lot of complexity."
      ],
      "metadata": {
        "id": "CjR6ysSHrgbJ"
      }
    },
    {
      "cell_type": "markdown",
      "source": [
        "# Components in a Spark Cluster\n",
        "Spark is a distributed computing platform. It achieves efficiency by distributing data and computation across a cluster of computers.\n",
        "\n",
        "A Spark cluster consists of a number of hardware and software components which work together.\n",
        "\n",
        "Which of these is not part of a Spark cluster?\n",
        "\n",
        "A load balancer "
      ],
      "metadata": {
        "id": "CKzUNdNdtZFr"
      }
    },
    {
      "cell_type": "markdown",
      "source": [
        "# Location of Spark master\n",
        "Which of the following is are  valid ways to specify the location of a Spark cluster?\n",
        "\n",
        "\n",
        "spark://13.59.151.161:7077\n",
        "\n",
        "spark://ec2-18-188-22-23.us-east-2.compute.amazonaws.com:7077\n",
        "\n",
        "local\n",
        "\n",
        "local[4]\n",
        "\n",
        "local[*]"
      ],
      "metadata": {
        "id": "WhGFhSSWtZIN"
      }
    },
    {
      "cell_type": "code",
      "source": [
        "!pip install pyspark\n",
        "import pyspark\n",
        "pyspark.__version__"
      ],
      "metadata": {
        "colab": {
          "base_uri": "https://localhost:8080/",
          "height": 298
        },
        "id": "qxpOEEZerYCd",
        "outputId": "4bf9de21-4180-4624-c37a-66423dbe584c"
      },
      "execution_count": 1,
      "outputs": [
        {
          "output_type": "stream",
          "name": "stdout",
          "text": [
            "Looking in indexes: https://pypi.org/simple, https://us-python.pkg.dev/colab-wheels/public/simple/\n",
            "Collecting pyspark\n",
            "  Downloading pyspark-3.3.1.tar.gz (281.4 MB)\n",
            "\u001b[K     |████████████████████████████████| 281.4 MB 35 kB/s \n",
            "\u001b[?25hCollecting py4j==0.10.9.5\n",
            "  Downloading py4j-0.10.9.5-py2.py3-none-any.whl (199 kB)\n",
            "\u001b[K     |████████████████████████████████| 199 kB 59.8 MB/s \n",
            "\u001b[?25hBuilding wheels for collected packages: pyspark\n",
            "  Building wheel for pyspark (setup.py) ... \u001b[?25l\u001b[?25hdone\n",
            "  Created wheel for pyspark: filename=pyspark-3.3.1-py2.py3-none-any.whl size=281845513 sha256=bb700de14e917c65472071f2d3ce02b41e09fa8a0b87c6c60e25822a1432e383\n",
            "  Stored in directory: /root/.cache/pip/wheels/42/59/f5/79a5bf931714dcd201b26025347785f087370a10a3329a899c\n",
            "Successfully built pyspark\n",
            "Installing collected packages: py4j, pyspark\n",
            "Successfully installed py4j-0.10.9.5 pyspark-3.3.1\n"
          ]
        },
        {
          "output_type": "execute_result",
          "data": {
            "text/plain": [
              "'3.3.1'"
            ],
            "application/vnd.google.colaboratory.intrinsic+json": {
              "type": "string"
            }
          },
          "metadata": {},
          "execution_count": 1
        }
      ]
    },
    {
      "cell_type": "markdown",
      "source": [
        "# Creating a SparkSession\n",
        "In this exercise, you'll spin up a local Spark cluster using all available cores. The cluster will be accessible via a SparkSession object.\n",
        "\n",
        "The SparkSession class has a builder attribute, which is an instance of the Builder class. The Builder class exposes three important methods that let you:\n",
        "\n",
        "specify the location of the master node;\n",
        "\n",
        "name the application (optional); and\n",
        "\n",
        "retrieve an existing SparkSession or, if there is none, create a new one.\n",
        "\n",
        "The SparkSession class has a version attribute which gives the version of Spark. Note: The version can also be accessed via the __version__ attribute on the pyspark module.\n",
        "\n",
        "Find out more about SparkSession here.\n",
        "\n",
        "Once you are finished with the cluster, it's a good idea to shut it down, which will free up its resources, making them available for other processes.\n",
        "\n",
        "Note:: You might find it useful to review the slides from the lessons in the Slides panel next to the IPython Shell."
      ],
      "metadata": {
        "id": "XKFtnqHCu4SC"
      }
    },
    {
      "cell_type": "code",
      "source": [
        "# Import the SparkSession class\n",
        "from pyspark.sql import SparkSession\n",
        "\n",
        "# Create SparkSession object\n",
        "spark = SparkSession.builder \\\n",
        "                    .master('local[*]') \\\n",
        "                    .appName('test') \\\n",
        "                    .getOrCreate()\n",
        "\n",
        "# What version of Spark?\n",
        "print(spark.version)\n",
        "\n",
        "# Terminate the cluster\n",
        "#spark.stop()\n",
        "\n",
        "# Nicely done! The session object will now allow us to load data into Spark."
      ],
      "metadata": {
        "colab": {
          "base_uri": "https://localhost:8080/"
        },
        "id": "l6-d6g6ftyj7",
        "outputId": "b175ccea-ce43-407b-db23-86b3b91fb043"
      },
      "execution_count": 2,
      "outputs": [
        {
          "output_type": "stream",
          "name": "stdout",
          "text": [
            "3.3.1\n"
          ]
        }
      ]
    },
    {
      "cell_type": "markdown",
      "source": [
        "# Loading flights data\n",
        "In this exercise you're going to load some airline flight data from a CSV file. To ensure that the exercise runs quickly these data have been trimmed down to only 50 000 records. You can get a larger dataset in the same format here.\n",
        "\n",
        "Notes on CSV format:\n",
        "\n",
        "fields are separated by a comma (this is the default separator) and\n",
        "missing data are denoted by the string 'NA'.\n",
        "Data dictionary:\n",
        "\n",
        "mon — month (integer between 1 and 12)\n",
        "\n",
        "dom — day of month (integer between 1 and 31)\n",
        "\n",
        "dow — day of week (integer; 1 = Monday and 7 = Sunday)\n",
        "\n",
        "carrier — carrier (IATA code)\n",
        "\n",
        "flight — flight number\n",
        "\n",
        "org — origin airport (IATA code)\n",
        "\n",
        "mile — distance (miles)\n",
        "\n",
        "depart — departure time (decimal hour)\n",
        "\n",
        "duration — expected duration (minutes)\n",
        "\n",
        "delay — delay (minutes)\n",
        "\n",
        "pyspark has been imported for you and the session has been initialized.\n",
        "\n",
        "Note: The data have been aggressively down-sampled."
      ],
      "metadata": {
        "id": "eEWYudXSvucA"
      }
    },
    {
      "cell_type": "code",
      "source": [
        "# Read data from CSV file\n",
        "flights = spark.read.csv('flights.csv',\n",
        "                         sep=',',\n",
        "                         header=True,\n",
        "                         inferSchema=True,\n",
        "                         nullValue='NA')\n",
        "\n",
        "# Get number of records\n",
        "print(\"The data contain %d records.\" % flights.count())\n",
        "\n",
        "# View the first five records\n",
        "flights.show(5)\n",
        "\n",
        "# Check column data types\n",
        "print(flights.dtypes)\n",
        "\n",
        "#The correct data types have been inferred for all of the columns."
      ],
      "metadata": {
        "colab": {
          "base_uri": "https://localhost:8080/"
        },
        "id": "yATK93i3voMY",
        "outputId": "60132a8e-4ba0-4a9e-bb9c-6486b3b02c3b"
      },
      "execution_count": 3,
      "outputs": [
        {
          "output_type": "stream",
          "name": "stdout",
          "text": [
            "The data contain 50000 records.\n",
            "+---+---+---+-------+------+---+----+------+--------+-----+\n",
            "|mon|dom|dow|carrier|flight|org|mile|depart|duration|delay|\n",
            "+---+---+---+-------+------+---+----+------+--------+-----+\n",
            "| 11| 20|  6|     US|    19|JFK|2153|  9.48|     351| null|\n",
            "|  0| 22|  2|     UA|  1107|ORD| 316| 16.33|      82|   30|\n",
            "|  2| 20|  4|     UA|   226|SFO| 337|  6.17|      82|   -8|\n",
            "|  9| 13|  1|     AA|   419|ORD|1236| 10.33|     195|   -5|\n",
            "|  4|  2|  5|     AA|   325|ORD| 258|  8.92|      65| null|\n",
            "+---+---+---+-------+------+---+----+------+--------+-----+\n",
            "only showing top 5 rows\n",
            "\n",
            "[('mon', 'int'), ('dom', 'int'), ('dow', 'int'), ('carrier', 'string'), ('flight', 'int'), ('org', 'string'), ('mile', 'int'), ('depart', 'double'), ('duration', 'int'), ('delay', 'int')]\n"
          ]
        }
      ]
    },
    {
      "cell_type": "markdown",
      "source": [
        "# Loading SMS spam data\n",
        "You've seen that it's possible to infer data types directly from the data. Sometimes it's convenient to have direct control over the column types. You do this by defining an explicit schema.\n",
        "\n",
        "The file sms.csv contains a selection of SMS messages which have been classified as either 'spam' or 'ham'. These data have been adapted from the UCI Machine Learning Repository. There are a total of 5574 SMS, of which 747 have been labelled as spam.\n",
        "\n",
        "Notes on CSV format:\n",
        "\n",
        "no header record and\n",
        "\n",
        "\n",
        "fields are separated by a semicolon (this is not the default separator).\n",
        "\n",
        "Data dictionary:\n",
        "id — record identifier\n",
        "\n",
        "text — content of SMS message\n",
        "\n",
        "label — spam or ham (integer; 0 = ham and 1 = spam)"
      ],
      "metadata": {
        "id": "10kif7uMyfWl"
      }
    },
    {
      "cell_type": "code",
      "source": [
        "from pyspark.sql.types import StructType, StructField, IntegerType, StringType\n",
        "\n",
        "# Specify column names and types\n",
        "schema = StructType([\n",
        "    StructField(\"id\", IntegerType()),\n",
        "    StructField(\"text\", StringType()),\n",
        "    StructField(\"label\", IntegerType())\n",
        "])\n",
        "\n",
        "# Load data from a delimited file\n",
        "sms = spark.read.csv(\"sms.csv\", sep=';', header=False, schema=schema)\n",
        "\n",
        "# Print schema of DataFrame\n",
        "sms.printSchema()"
      ],
      "metadata": {
        "colab": {
          "base_uri": "https://localhost:8080/"
        },
        "id": "-ZLRO7pBySu1",
        "outputId": "39c33f7d-0274-4c94-ed27-3fbff48b233b"
      },
      "execution_count": 4,
      "outputs": [
        {
          "output_type": "stream",
          "name": "stdout",
          "text": [
            "root\n",
            " |-- id: integer (nullable = true)\n",
            " |-- text: string (nullable = true)\n",
            " |-- label: integer (nullable = true)\n",
            "\n"
          ]
        }
      ]
    },
    {
      "cell_type": "markdown",
      "source": [
        "# CHAPTER 2 \n",
        "## Classification\n",
        "Now that you are familiar with getting data into Spark, you'll move onto building two types of classification model: Decision Trees and Logistic Regression. You'll also find out about a few approaches to data preparation."
      ],
      "metadata": {
        "id": "2MNcVOfM4Gg1"
      }
    },
    {
      "cell_type": "markdown",
      "source": [
        "# Removing columns and rows\n",
        "You previously loaded airline flight data from a CSV file. You're going to develop a model which will predict whether or not a given flight will be delayed.\n",
        "\n",
        "In this exercise you need to trim those data down by:\n",
        "\n",
        "removing an uninformative column and\n",
        "removing rows which do not have information about whether or not a flight was delayed.\n",
        "The data are available as flights."
      ],
      "metadata": {
        "id": "5w4RDAS14ItV"
      }
    },
    {
      "cell_type": "code",
      "source": [
        "# Remove the 'flight' column\n",
        "flights_drop_column = flights.drop('flight')\n",
        "\n",
        "# Number of records with missing 'delay' values\n",
        "flights_drop_column.filter('delay IS NULL').count()\n",
        "\n",
        "# Remove records with missing 'delay' values\n",
        "flights_valid_delay = flights_drop_column.filter('delay IS NOT NULL')\n",
        "\n",
        "# Remove records with missing values in any column and get the number of remaining rows\n",
        "flights_none_missing = flights_valid_delay.dropna()\n",
        "print(flights_none_missing.count())\n",
        "flights= flights_none_missing"
      ],
      "metadata": {
        "colab": {
          "base_uri": "https://localhost:8080/"
        },
        "id": "Sw1LgJaYzQHE",
        "outputId": "cfee3353-a44c-4059-b6a0-1fbc908448b9"
      },
      "execution_count": 5,
      "outputs": [
        {
          "output_type": "stream",
          "name": "stdout",
          "text": [
            "47022\n"
          ]
        }
      ]
    },
    {
      "cell_type": "markdown",
      "source": [
        "# Column manipulation\n",
        "The Federal Aviation Administration (FAA) considers a flight to be \"delayed\" when it arrives 15 minutes or more after its scheduled time.\n",
        "\n",
        "The next step of preparing the flight data has two parts:\n",
        "\n",
        "convert the units of distance, replacing the mile column with a kmcolumn; and\n",
        "create a Boolean column indicating whether or not a flight was delayed."
      ],
      "metadata": {
        "id": "WMtrc7Jk4vzs"
      }
    },
    {
      "cell_type": "code",
      "source": [
        "# Import the required function\n",
        "from pyspark.sql.functions import round\n",
        "\n",
        "# Convert 'mile' to 'km' and drop 'mile' column (1 mile is equivalent to 1.60934 km)\n",
        "flights_km = flights.withColumn('km', round(flights.mile * 1.60934, 0)) \\\n",
        "                    .drop('mile')\n",
        "\n",
        "# Create 'label' column indicating whether flight delayed (1) or not (0)\n",
        "flights_km = flights_km.withColumn('label', (flights_km.delay >= 15).cast('integer'))\n",
        "\n",
        "# Check first five records\n",
        "flights_km.show(5)\n",
        "flights=flights_km"
      ],
      "metadata": {
        "colab": {
          "base_uri": "https://localhost:8080/"
        },
        "id": "YgAHgwMf4lYA",
        "outputId": "41aff6b8-4e2d-41c1-9f02-2848d4937ecd"
      },
      "execution_count": 6,
      "outputs": [
        {
          "output_type": "stream",
          "name": "stdout",
          "text": [
            "+---+---+---+-------+---+------+--------+-----+------+-----+\n",
            "|mon|dom|dow|carrier|org|depart|duration|delay|    km|label|\n",
            "+---+---+---+-------+---+------+--------+-----+------+-----+\n",
            "|  0| 22|  2|     UA|ORD| 16.33|      82|   30| 509.0|    1|\n",
            "|  2| 20|  4|     UA|SFO|  6.17|      82|   -8| 542.0|    0|\n",
            "|  9| 13|  1|     AA|ORD| 10.33|     195|   -5|1989.0|    0|\n",
            "|  5|  2|  1|     UA|SFO|  7.98|     102|    2| 885.0|    0|\n",
            "|  7|  2|  6|     AA|ORD| 10.83|     135|   54|1180.0|    1|\n",
            "+---+---+---+-------+---+------+--------+-----+------+-----+\n",
            "only showing top 5 rows\n",
            "\n"
          ]
        }
      ]
    },
    {
      "cell_type": "markdown",
      "source": [
        "# Categorical columns\n",
        "In the flights data there are two columns, carrier and org, which hold categorical data. You need to transform those columns into indexed numerical values."
      ],
      "metadata": {
        "id": "HQCb6Wzm6JIE"
      }
    },
    {
      "cell_type": "code",
      "source": [
        "from pyspark.ml.feature import StringIndexer\n",
        "\n",
        "# Create an indexer\n",
        "indexer = StringIndexer(inputCol='carrier', outputCol='carrier_idx')\n",
        "\n",
        "# Indexer identifies categories in the data\n",
        "indexer_model = indexer.fit(flights)\n",
        "\n",
        "# Indexer creates a new column with numeric index values\n",
        "flights_indexed = indexer_model.transform(flights)\n",
        "\n",
        "# Repeat the process for the other categorical feature\n",
        "flights_indexed = StringIndexer(inputCol='org', outputCol='org_idx').fit(flights_indexed).transform(flights_indexed)\n",
        "flights_indexed.show(5)\n",
        "flights=flights_indexed"
      ],
      "metadata": {
        "colab": {
          "base_uri": "https://localhost:8080/"
        },
        "id": "VDfIJ1s15iao",
        "outputId": "0f22d2c9-f593-4fdf-af74-291f4065cf19"
      },
      "execution_count": 7,
      "outputs": [
        {
          "output_type": "stream",
          "name": "stdout",
          "text": [
            "+---+---+---+-------+---+------+--------+-----+------+-----+-----------+-------+\n",
            "|mon|dom|dow|carrier|org|depart|duration|delay|    km|label|carrier_idx|org_idx|\n",
            "+---+---+---+-------+---+------+--------+-----+------+-----+-----------+-------+\n",
            "|  0| 22|  2|     UA|ORD| 16.33|      82|   30| 509.0|    1|        0.0|    0.0|\n",
            "|  2| 20|  4|     UA|SFO|  6.17|      82|   -8| 542.0|    0|        0.0|    1.0|\n",
            "|  9| 13|  1|     AA|ORD| 10.33|     195|   -5|1989.0|    0|        1.0|    0.0|\n",
            "|  5|  2|  1|     UA|SFO|  7.98|     102|    2| 885.0|    0|        0.0|    1.0|\n",
            "|  7|  2|  6|     AA|ORD| 10.83|     135|   54|1180.0|    1|        1.0|    0.0|\n",
            "+---+---+---+-------+---+------+--------+-----+------+-----+-----------+-------+\n",
            "only showing top 5 rows\n",
            "\n"
          ]
        }
      ]
    },
    {
      "cell_type": "markdown",
      "source": [
        "# Assembling columns\n",
        "The final stage of data preparation is to consolidate all of the predictor columns into a single column.\n",
        "\n",
        "An updated version of the flights data, which takes into account all of the changes from the previous few exercises, has the following predictor columns:\n",
        "\n",
        "mon, dom and dow\n",
        "\n",
        "carrier_idx (indexed value from carrier)\n",
        "\n",
        "org_idx (indexed value from org)\n",
        "\n",
        "km\n",
        "\n",
        "depart\n",
        "\n",
        "duration"
      ],
      "metadata": {
        "id": "x7yoRaEX7ASx"
      }
    },
    {
      "cell_type": "code",
      "source": [
        "# Import the necessary class\n",
        "from pyspark.ml.feature import VectorAssembler\n",
        "\n",
        "# Create an assembler object\n",
        "assembler = VectorAssembler(inputCols=[\n",
        "    'mon', 'dom', 'dow', 'carrier_idx', 'org_idx', 'km', 'depart', 'duration'\n",
        "], outputCol='features')\n",
        "\n",
        "# Consolidate predictor columns\n",
        "flights_assembled = assembler.transform(flights)\n",
        "flights= flights_assembled\n",
        "# Check the resulting column\n",
        "flights_assembled.select('features', 'delay').show(5, truncate=False)"
      ],
      "metadata": {
        "colab": {
          "base_uri": "https://localhost:8080/"
        },
        "id": "AivKjqSS6vHe",
        "outputId": "666ea62a-ee90-480a-f788-a3522f780549"
      },
      "execution_count": 8,
      "outputs": [
        {
          "output_type": "stream",
          "name": "stdout",
          "text": [
            "+-----------------------------------------+-----+\n",
            "|features                                 |delay|\n",
            "+-----------------------------------------+-----+\n",
            "|[0.0,22.0,2.0,0.0,0.0,509.0,16.33,82.0]  |30   |\n",
            "|[2.0,20.0,4.0,0.0,1.0,542.0,6.17,82.0]   |-8   |\n",
            "|[9.0,13.0,1.0,1.0,0.0,1989.0,10.33,195.0]|-5   |\n",
            "|[5.0,2.0,1.0,0.0,1.0,885.0,7.98,102.0]   |2    |\n",
            "|[7.0,2.0,6.0,1.0,0.0,1180.0,10.83,135.0] |54   |\n",
            "+-----------------------------------------+-----+\n",
            "only showing top 5 rows\n",
            "\n"
          ]
        }
      ]
    },
    {
      "cell_type": "markdown",
      "source": [
        "# Train/test split\n",
        "To objectively assess a Machine Learning model you need to be able to test it on an independent set of data. You can't use the same data that you used to train the model: of course the model will perform (relatively) well on those data!\n",
        "\n",
        "You will split the data into two components:\n",
        "\n",
        "training data (used to train the model) and\n",
        "\n",
        "testing data (used to test the model).\n",
        "\n",
        "Note: From here on you'll be working with a smaller subset of the flights data, which just makes the exercises run more quickly."
      ],
      "metadata": {
        "id": "v5A9eeAMG3sZ"
      }
    },
    {
      "cell_type": "code",
      "source": [
        "# Split into training and testing sets in a 80:20 ratio\n",
        "flights_train, flights_test = flights.randomSplit([0.8, 0.2], seed=43)\n",
        "\n",
        "# Check that training set has around 80% of records\n",
        "training_ratio = flights_train.count() / flights.count()\n",
        "print(training_ratio)"
      ],
      "metadata": {
        "colab": {
          "base_uri": "https://localhost:8080/"
        },
        "id": "HzbuO7le7kFE",
        "outputId": "347eb391-25e2-4281-801f-ecc579fbc31d"
      },
      "execution_count": 9,
      "outputs": [
        {
          "output_type": "stream",
          "name": "stdout",
          "text": [
            "0.8025392369529156\n"
          ]
        }
      ]
    },
    {
      "cell_type": "markdown",
      "source": [
        "# Build a Decision Tree\n",
        "Now that you've split the flights data into training and testing sets, you can use the training set to fit a Decision Tree model.\n",
        "\n",
        "The data are available as flights_train and flights_test.\n",
        "\n",
        "NOTE: It will take a few seconds for the model to train… please be patient!"
      ],
      "metadata": {
        "id": "fZRjwtrJHRn_"
      }
    },
    {
      "cell_type": "code",
      "source": [
        "# Import the Decision Tree Classifier class\n",
        "from pyspark.ml.classification import DecisionTreeClassifier\n",
        "\n",
        "# Create a classifier object and fit to the training data\n",
        "tree = DecisionTreeClassifier()\n",
        "tree_model = tree.fit(flights_train)\n",
        "\n",
        "# Create predictions for the testing data and take a look at the predictions\n",
        "prediction = tree_model.transform(flights_test)\n",
        "prediction.select('label', 'prediction', 'probability').show(5, False)"
      ],
      "metadata": {
        "colab": {
          "base_uri": "https://localhost:8080/"
        },
        "id": "rEBH4xqiGZ_R",
        "outputId": "acb42b97-0b18-4bd4-e1e1-ec6dbe2cb0b1"
      },
      "execution_count": 10,
      "outputs": [
        {
          "output_type": "stream",
          "name": "stdout",
          "text": [
            "+-----+----------+---------------------------------------+\n",
            "|label|prediction|probability                            |\n",
            "+-----+----------+---------------------------------------+\n",
            "|1    |0.0       |[0.53228285933897,0.46771714066103]    |\n",
            "|1    |0.0       |[0.53228285933897,0.46771714066103]    |\n",
            "|0    |1.0       |[0.3564311885324934,0.6435688114675066]|\n",
            "|1    |1.0       |[0.3564311885324934,0.6435688114675066]|\n",
            "|1    |1.0       |[0.3564311885324934,0.6435688114675066]|\n",
            "+-----+----------+---------------------------------------+\n",
            "only showing top 5 rows\n",
            "\n"
          ]
        }
      ]
    },
    {
      "cell_type": "markdown",
      "source": [
        "# Evaluate the Decision Tree\n",
        "You can assess the quality of your model by evaluating how well it performs on the testing data. Because the model was not trained on these data, this represents an objective assessment of the model.\n",
        "\n",
        "A confusion matrix gives a useful breakdown of predictions versus known values. It has four cells which represent the counts of:\n",
        "\n",
        "True Negatives (TN) — model predicts negative outcome & known outcome is negative\n",
        "\n",
        "True Positives (TP) — model predicts positive outcome & known outcome is \n",
        "positive\n",
        "\n",
        "False Negatives (FN) — model predicts negative outcome but known outcome is positive\n",
        "\n",
        "False Positives (FP) — model predicts positive outcome but known outcome is negative.\n",
        "\n",
        "These counts (TN, TP, FN and FP) should sum to the number of records in the testing data, which is only a subset of the flights data. You can compare to the number of records in the tests data, which is flights_test.count().\n",
        "\n",
        "Note: These predictions are made on the testing data, so the counts are smaller than they would have been for predictions on the training data."
      ],
      "metadata": {
        "id": "zFn1rBg3JRSr"
      }
    },
    {
      "cell_type": "code",
      "source": [
        "# Create a confusion matrix\n",
        "prediction.groupBy('label', 'prediction').count().show()\n",
        "\n",
        "# Calculate the elements of the confusion matrix\n",
        "TN = prediction.filter('prediction = 0 AND label = prediction').count()\n",
        "TP = prediction.filter('prediction = 1 AND label = prediction').count()\n",
        "FN = prediction.filter('prediction = 0 AND label != prediction').count()\n",
        "FP = prediction.filter('prediction = 1 AND label != prediction').count()\n",
        "\n",
        "# Accuracy measures the proportion of correct predictions\n",
        "accuracy = (TN + TP) / (TN + TP + FN + FP)\n",
        "print(accuracy)\n",
        "\n",
        "print(\"\\nThe accuracy is decent but there are a lot of false predictions. We can make this model better!\")"
      ],
      "metadata": {
        "colab": {
          "base_uri": "https://localhost:8080/"
        },
        "id": "0CZEedc6HYbX",
        "outputId": "21d67e6b-5229-4e47-d603-da24a3a80743"
      },
      "execution_count": 11,
      "outputs": [
        {
          "output_type": "stream",
          "name": "stdout",
          "text": [
            "+-----+----------+-----+\n",
            "|label|prediction|count|\n",
            "+-----+----------+-----+\n",
            "|    1|       0.0| 1210|\n",
            "|    0|       0.0| 2374|\n",
            "|    1|       1.0| 3553|\n",
            "|    0|       1.0| 2148|\n",
            "+-----+----------+-----+\n",
            "\n",
            "0.6383414108777599\n",
            "\n",
            "The accuracy is decent but there are a lot of false predictions. We can make this model better!\n"
          ]
        }
      ]
    },
    {
      "cell_type": "markdown",
      "source": [
        "# Build a Logistic Regression model\n",
        "You've already built a Decision Tree model using the flights data. Now you're going to create a Logistic Regression model on the same data.\n",
        "\n",
        "The objective is to predict whether a flight is likely to be delayed by at least 15 minutes (label 1) or not (label 0).\n",
        "\n",
        "Although you have a variety of predictors at your disposal, you'll only use the mon, depart and duration columns for the moment. These are numerical features which can immediately be used for a Logistic Regression model. You'll need to do a little more work before you can include categorical features. Stay tuned!\n",
        "\n",
        "The data have been split into training and testing sets and are available as flights_train and flights_test."
      ],
      "metadata": {
        "id": "_I_cbY8Jnx-g"
      }
    },
    {
      "cell_type": "code",
      "source": [
        "# Import the logistic regression class\n",
        "from pyspark.ml.classification import LogisticRegression\n",
        "\n",
        "# Create a classifier object and train on training data\n",
        "logistic = LogisticRegression().fit(flights_train)\n",
        "\n",
        "# Create predictions for the testing data and show confusion matrix\n",
        "prediction = logistic.transform(flights_test)\n",
        "prediction.groupBy('label', 'prediction').count().show()"
      ],
      "metadata": {
        "colab": {
          "base_uri": "https://localhost:8080/"
        },
        "id": "r_1OWwvcKO_O",
        "outputId": "5bdf97e1-8fa5-43df-8799-8b444ae2d926"
      },
      "execution_count": 12,
      "outputs": [
        {
          "output_type": "stream",
          "name": "stdout",
          "text": [
            "+-----+----------+-----+\n",
            "|label|prediction|count|\n",
            "+-----+----------+-----+\n",
            "|    1|       0.0| 1705|\n",
            "|    0|       0.0| 2561|\n",
            "|    1|       1.0| 3058|\n",
            "|    0|       1.0| 1961|\n",
            "+-----+----------+-----+\n",
            "\n"
          ]
        }
      ]
    },
    {
      "cell_type": "markdown",
      "source": [
        "# Evaluate the Logistic Regression model\n",
        "Accuracy is generally not a very reliable metric because it can be biased by the most common target class.\n",
        "\n",
        "There are two other useful metrics:\n",
        "\n",
        "precision and\n",
        "recall.\n",
        "Check the slides for this lesson to get the relevant expressions.\n",
        "\n",
        "Precision is the proportion of positive predictions which are correct. For all flights which are predicted to be delayed, what proportion is actually delayed?\n",
        "\n",
        "Recall is the proportion of positives outcomes which are correctly predicted. For all delayed flights, what proportion is correctly predicted by the model?\n",
        "\n",
        "The precision and recall are generally formulated in terms of the positive target class. But it's also possible to calculate weighted versions of these metrics which look at both target classes.\n",
        "\n",
        "The components of the confusion matrix are available as TN, TP, FN and FP, as well as the object prediction."
      ],
      "metadata": {
        "id": "yDUYiBv3n75f"
      }
    },
    {
      "cell_type": "code",
      "source": [
        "TN = prediction.filter('prediction = 0 AND label = prediction').count()\n",
        "TP = prediction.filter('prediction = 1 AND label = prediction').count()\n",
        "FN = prediction.filter('prediction = 0 AND label != prediction').count()\n",
        "FP = prediction.filter('prediction = 1 AND label != prediction').count()"
      ],
      "metadata": {
        "id": "ftMcLytCn88q"
      },
      "execution_count": 13,
      "outputs": []
    },
    {
      "cell_type": "code",
      "source": [
        "from pyspark.ml.evaluation import MulticlassClassificationEvaluator, BinaryClassificationEvaluator\n",
        "\n",
        "# Calculate precision and recall\n",
        "precision = TP / (TP + FP)\n",
        "recall = TP / (TP + FN)\n",
        "print('precision = {:.2f}\\nrecall    = {:.2f}'.format(precision, recall))\n",
        "\n",
        "# Find weighted precision\n",
        "multi_evaluator = MulticlassClassificationEvaluator()\n",
        "weighted_precision = multi_evaluator.evaluate(prediction, {multi_evaluator.metricName: \"weightedPrecision\"})\n",
        "\n",
        "# Find AUC\n",
        "binary_evaluator = BinaryClassificationEvaluator()\n",
        "auc = binary_evaluator.evaluate(prediction, {binary_evaluator.metricName: \"areaUnderROC\"})\n",
        "\n",
        "#The weighted precision indicates what proportion of predictions (positive and negative) are correct."
      ],
      "metadata": {
        "colab": {
          "base_uri": "https://localhost:8080/"
        },
        "id": "V0Sd_LlRo1e-",
        "outputId": "2eb57441-87b1-4cbe-de95-751db0d3eb46"
      },
      "execution_count": 14,
      "outputs": [
        {
          "output_type": "stream",
          "name": "stdout",
          "text": [
            "precision = 0.61\n",
            "recall    = 0.64\n"
          ]
        }
      ]
    },
    {
      "cell_type": "markdown",
      "source": [
        "# Punctuation, numbers and tokens\n",
        "At the end of the previous chapter you loaded a dataset of SMS messages which had been labeled as either \"spam\" (label 1) or \"ham\" (label 0). You're now going to use those data to build a classifier model.\n",
        "\n",
        "But first you'll need to prepare the SMS messages as follows:\n",
        "\n",
        "remove punctuation and numbers\n",
        "tokenize (split into individual words)\n",
        "remove stop words\n",
        "apply the hashing trick\n",
        "convert to TF-IDF representation.\n",
        "In this exercise you'll remove punctuation and numbers, then tokenize the messages.\n",
        "\n",
        "The SMS data are available as sms."
      ],
      "metadata": {
        "id": "uC_XlfUuEuSl"
      }
    },
    {
      "cell_type": "code",
      "source": [
        "sms.show(5)"
      ],
      "metadata": {
        "colab": {
          "base_uri": "https://localhost:8080/"
        },
        "id": "myi1Mf3YE0tb",
        "outputId": "e64ccc5a-e29f-4713-db35-56301259f657"
      },
      "execution_count": 15,
      "outputs": [
        {
          "output_type": "stream",
          "name": "stdout",
          "text": [
            "+---+--------------------+-----+\n",
            "| id|                text|label|\n",
            "+---+--------------------+-----+\n",
            "|  1|Sorry, I'll call ...|    0|\n",
            "|  2|Dont worry. I gue...|    0|\n",
            "|  3|Call FREEPHONE 08...|    1|\n",
            "|  4|Win a 1000 cash p...|    1|\n",
            "|  5|Go until jurong p...|    0|\n",
            "+---+--------------------+-----+\n",
            "only showing top 5 rows\n",
            "\n"
          ]
        }
      ]
    },
    {
      "cell_type": "code",
      "source": [
        "# Import the necessary functions\n",
        "from pyspark.sql.functions import regexp_replace\n",
        "from pyspark.ml.feature import Tokenizer\n",
        "\n",
        "# Remove punctuation (REGEX provided) and numbers\n",
        "wrangled = sms.withColumn('text', regexp_replace(sms.text, '[_():;,.!?\\\\-]', ' '))\n",
        "wrangled = wrangled.withColumn('text', regexp_replace(wrangled.text, '[0-9]', ' '))\n",
        "\n",
        "# Merge multiple spaces\n",
        "wrangled = wrangled.withColumn('text', regexp_replace(wrangled.text, ' +', ' '))\n",
        "\n",
        "# Split the text into words\n",
        "wrangled = Tokenizer(inputCol='text', outputCol='words').transform(wrangled)\n",
        "\n",
        "wrangled.show(4, truncate=False)\n",
        "sms= wrangled\n",
        "#Next you'll remove stop words and apply the hashing trick."
      ],
      "metadata": {
        "colab": {
          "base_uri": "https://localhost:8080/"
        },
        "id": "4zcDoItNo249",
        "outputId": "ac4e5449-a528-406d-c55c-8b7fec820da4"
      },
      "execution_count": 16,
      "outputs": [
        {
          "output_type": "stream",
          "name": "stdout",
          "text": [
            "+---+----------------------------------+-----+------------------------------------------+\n",
            "|id |text                              |label|words                                     |\n",
            "+---+----------------------------------+-----+------------------------------------------+\n",
            "|1  |Sorry I'll call later in meeting  |0    |[sorry, i'll, call, later, in, meeting]   |\n",
            "|2  |Dont worry I guess he's busy      |0    |[dont, worry, i, guess, he's, busy]       |\n",
            "|3  |Call FREEPHONE now                |1    |[call, freephone, now]                    |\n",
            "|4  |Win a cash prize or a prize worth |1    |[win, a, cash, prize, or, a, prize, worth]|\n",
            "+---+----------------------------------+-----+------------------------------------------+\n",
            "only showing top 4 rows\n",
            "\n"
          ]
        }
      ]
    },
    {
      "cell_type": "markdown",
      "source": [
        "# Stop words and hashing\n",
        "The next steps will be to remove stop words and then apply the hashing trick, converting the results into a TF-IDF.\n",
        "\n",
        "A quick reminder about these concepts:\n",
        "\n",
        "The hashing trick provides a fast and space-efficient way to map a very large (possibly infinite) set of items (in this case, all words contained in the SMS messages) onto a smaller, finite number of values.\n",
        "\n",
        "The TF-IDF matrix reflects how important a word is to each document. It takes into account both the frequency of the word within each document but also the frequency of the word across all of the documents in the collection.\n",
        "\n",
        "The tokenized SMS data are stored in sms in a column named words. You've cleaned up the handling of spaces in the data so that the tokenized text is neater."
      ],
      "metadata": {
        "id": "ubdxOFTqFqWK"
      }
    },
    {
      "cell_type": "code",
      "source": [
        "sms= sms.drop('text')\n",
        "sms= sms.select('id', 'words', 'label')\n",
        "sms.show(3)"
      ],
      "metadata": {
        "colab": {
          "base_uri": "https://localhost:8080/"
        },
        "id": "bCSk5ec9FhXP",
        "outputId": "be365208-3af0-410c-cf06-235210f959c6"
      },
      "execution_count": 17,
      "outputs": [
        {
          "output_type": "stream",
          "name": "stdout",
          "text": [
            "+---+--------------------+-----+\n",
            "| id|               words|label|\n",
            "+---+--------------------+-----+\n",
            "|  1|[sorry, i'll, cal...|    0|\n",
            "|  2|[dont, worry, i, ...|    0|\n",
            "|  3|[call, freephone,...|    1|\n",
            "+---+--------------------+-----+\n",
            "only showing top 3 rows\n",
            "\n"
          ]
        }
      ]
    },
    {
      "cell_type": "code",
      "source": [
        "from pyspark.ml.feature import StopWordsRemover, HashingTF, IDF\n",
        "\n",
        "# Remove stop words.\n",
        "wrangled = StopWordsRemover(inputCol='words', outputCol='terms')\\\n",
        "      .transform(sms)\n",
        "\n",
        "# Apply the hashing trick\n",
        "wrangled = HashingTF(inputCol='terms', outputCol='hash', numFeatures=1024)\\\n",
        "      .transform(wrangled)\n",
        "\n",
        "# Convert hashed symbols to TF-IDF\n",
        "tf_idf = IDF(inputCol='hash', outputCol='features')\\\n",
        "      .fit(wrangled).transform(wrangled)\n",
        "      \n",
        "tf_idf.select('terms', 'features').show(4, truncate=False)\n",
        "\n",
        "sms= tf_idf"
      ],
      "metadata": {
        "colab": {
          "base_uri": "https://localhost:8080/"
        },
        "id": "MaNpYd51GDt4",
        "outputId": "80413da6-05b7-44bf-8e67-f41ba855a4f6"
      },
      "execution_count": 18,
      "outputs": [
        {
          "output_type": "stream",
          "name": "stdout",
          "text": [
            "+--------------------------------+----------------------------------------------------------------------------------------------------+\n",
            "|terms                           |features                                                                                            |\n",
            "+--------------------------------+----------------------------------------------------------------------------------------------------+\n",
            "|[sorry, call, later, meeting]   |(1024,[138,384,577,996],[2.273418200008753,3.6288353225642043,3.5890949939146903,4.104259019279279])|\n",
            "|[dont, worry, guess, busy]      |(1024,[215,233,276,329],[3.9913186080986836,3.3790235241678332,4.734227298217693,4.58299632849377]) |\n",
            "|[call, freephone]               |(1024,[133,138],[5.367951058306837,2.273418200008753])                                              |\n",
            "|[win, cash, prize, prize, worth]|(1024,[31,47,62,389],[3.6632029660684124,4.754846585420428,4.072170704727778,7.064594791043114])    |\n",
            "+--------------------------------+----------------------------------------------------------------------------------------------------+\n",
            "only showing top 4 rows\n",
            "\n"
          ]
        }
      ]
    },
    {
      "cell_type": "markdown",
      "source": [
        "# Training a spam classifier\n",
        "The SMS data have now been prepared for building a classifier. Specifically, this is what you have done:\n",
        "\n",
        "removed numbers and punctuation\n",
        "\n",
        "split the messages into words (or \"tokens\")\n",
        "\n",
        "removed stop words\n",
        "\n",
        "applied the hashing trick and\n",
        "\n",
        "converted to a TF-IDF representation.\n",
        "\n",
        "Next you'll need to split the TF-IDF data into training and testing sets. Then you'll use the training data to fit a Logistic Regression model and finally evaluate the performance of that model on the testing data.\n",
        "\n",
        "The data are stored in sms and LogisticRegression has been imported for you."
      ],
      "metadata": {
        "id": "Y3FuSbT-IHV0"
      }
    },
    {
      "cell_type": "code",
      "source": [
        "# Split the data into training and testing sets\n",
        "sms_train, sms_test = sms.randomSplit([.8, .2], seed=13)\n",
        "\n",
        "# Fit a Logistic Regression model to the training data\n",
        "logistic = LogisticRegression(regParam=0.2).fit(sms_train)\n",
        "\n",
        "# Make predictions on the testing data\n",
        "prediction = logistic.transform(sms_test)\n",
        "\n",
        "# Create a confusion matrix, comparing predictions to known labels\n",
        "prediction.groupBy('label', 'prediction').count().show()\n",
        "\n",
        "#Your classifier won't be fooled by spam SMS"
      ],
      "metadata": {
        "colab": {
          "base_uri": "https://localhost:8080/"
        },
        "id": "oH0vnFbg4WAA",
        "outputId": "b2dc0e04-1d6f-49e3-d51d-a69b7ffc0997"
      },
      "execution_count": 19,
      "outputs": [
        {
          "output_type": "stream",
          "name": "stdout",
          "text": [
            "+-----+----------+-----+\n",
            "|label|prediction|count|\n",
            "+-----+----------+-----+\n",
            "|    1|       0.0|   41|\n",
            "|    0|       0.0|  948|\n",
            "|    1|       1.0|  105|\n",
            "|    0|       1.0|    2|\n",
            "+-----+----------+-----+\n",
            "\n"
          ]
        }
      ]
    },
    {
      "cell_type": "markdown",
      "source": [
        "# CHAPTER 3\n",
        "\n",
        "## Regression\n",
        "\n",
        "Next you'll learn to create Linear Regression models. You'll also find out how to augment your data by engineering new predictors as well as a robust approach to selecting only the most relevant predictors."
      ],
      "metadata": {
        "id": "bGVDOxVx5R36"
      }
    },
    {
      "cell_type": "markdown",
      "source": [
        "# Encoding flight origin\n",
        "The org column in the flights data is a categorical variable giving the airport from which a flight departs.\n",
        "\n",
        "ORD — O'Hare International Airport (Chicago)\n",
        "\n",
        "SFO — San Francisco International Airport\n",
        "\n",
        "JFK — John F Kennedy International Airport (New York)\n",
        "\n",
        "LGA — La Guardia Airport (New York)\n",
        "\n",
        "SMF — Sacramento\n",
        "\n",
        "SJC — San Jose\n",
        "\n",
        "OGG — Kahului (Hawaii)\n",
        "\n",
        "Obviously this is only a small subset of airports. Nevertheless, since this is a categorical variable, it needs to be one-hot encoded before it can be used in a regression model.\n",
        "\n",
        "The data are in a variable called flights. You have already used a string indexer to create a column of indexed values corresponding to the strings in org.\n",
        "\n",
        "You might find it useful to revise the slides from the lessons in the Slides panel next to the IPython Shell."
      ],
      "metadata": {
        "id": "fX68PUcM5Y4R"
      }
    },
    {
      "cell_type": "code",
      "source": [
        "# Read data from CSV file\n",
        "flights = spark.read.csv('flights.csv',\n",
        "                         sep=',',\n",
        "                         header=True,\n",
        "                         inferSchema=True,\n",
        "                         nullValue='NA')\n",
        "\n",
        "# Get number of records\n",
        "print(\"The data contain %d records.\" % flights.count())\n",
        "\n",
        "flights = StringIndexer(inputCol='org', outputCol='org_idx').fit(flights).transform(flights)\n",
        "\n",
        "# View the first five records\n",
        "flights.show(1)\n",
        "flights.dtypes\n",
        "\n",
        "#The correct data types have been inferred for all of the columns."
      ],
      "metadata": {
        "colab": {
          "base_uri": "https://localhost:8080/"
        },
        "id": "fChhBOed76BP",
        "outputId": "ef403e96-97e4-48eb-e549-417d1e3e5629"
      },
      "execution_count": 20,
      "outputs": [
        {
          "output_type": "stream",
          "name": "stdout",
          "text": [
            "The data contain 50000 records.\n",
            "+---+---+---+-------+------+---+----+------+--------+-----+-------+\n",
            "|mon|dom|dow|carrier|flight|org|mile|depart|duration|delay|org_idx|\n",
            "+---+---+---+-------+------+---+----+------+--------+-----+-------+\n",
            "| 11| 20|  6|     US|    19|JFK|2153|  9.48|     351| null|    2.0|\n",
            "+---+---+---+-------+------+---+----+------+--------+-----+-------+\n",
            "only showing top 1 row\n",
            "\n"
          ]
        },
        {
          "output_type": "execute_result",
          "data": {
            "text/plain": [
              "[('mon', 'int'),\n",
              " ('dom', 'int'),\n",
              " ('dow', 'int'),\n",
              " ('carrier', 'string'),\n",
              " ('flight', 'int'),\n",
              " ('org', 'string'),\n",
              " ('mile', 'int'),\n",
              " ('depart', 'double'),\n",
              " ('duration', 'int'),\n",
              " ('delay', 'int'),\n",
              " ('org_idx', 'double')]"
            ]
          },
          "metadata": {},
          "execution_count": 20
        }
      ]
    },
    {
      "cell_type": "code",
      "source": [
        "# Import the one hot encoder class\n",
        "from pyspark.ml.feature import OneHotEncoder\n",
        "\n",
        "# Create an instance of the one hot encoder\n",
        "onehot = OneHotEncoder(inputCols=['org_idx'], outputCols=['org_dummy'])\n",
        "\n",
        "# Apply the one hot encoder to the flights data\n",
        "onehot = onehot.fit(flights)\n",
        "flights_onehot = onehot.transform(flights)\n",
        "\n",
        "# Check the results\n",
        "flights_onehot.select('org', 'org_idx', 'org_dummy').distinct().sort('org_idx').show()\n",
        "flights=flights_onehot\n",
        "\n",
        "# Note that one of the category levels, OGG, does not get a dummy variable."
      ],
      "metadata": {
        "colab": {
          "base_uri": "https://localhost:8080/"
        },
        "id": "YZLFbkP_8Cax",
        "outputId": "8f21b1bb-344d-410f-bc37-79e177c626ec"
      },
      "execution_count": 21,
      "outputs": [
        {
          "output_type": "stream",
          "name": "stdout",
          "text": [
            "+---+-------+-------------+\n",
            "|org|org_idx|    org_dummy|\n",
            "+---+-------+-------------+\n",
            "|ORD|    0.0|(7,[0],[1.0])|\n",
            "|SFO|    1.0|(7,[1],[1.0])|\n",
            "|JFK|    2.0|(7,[2],[1.0])|\n",
            "|LGA|    3.0|(7,[3],[1.0])|\n",
            "|SJC|    4.0|(7,[4],[1.0])|\n",
            "|SMF|    5.0|(7,[5],[1.0])|\n",
            "|TUS|    6.0|(7,[6],[1.0])|\n",
            "|OGG|    7.0|    (7,[],[])|\n",
            "+---+-------+-------------+\n",
            "\n"
          ]
        }
      ]
    },
    {
      "cell_type": "markdown",
      "source": [
        "Correct! This statement is false: XL is the least frequent size, so it receives an index of 3. However, it is one-hot encoded to (3,[],[]) because it does not get it's own dummy variable. If none of the other dummy variables are true, then this one must be true. So to make a separate dummy variable would be redundant!"
      ],
      "metadata": {
        "id": "Gn4pXKSWEa0v"
      }
    },
    {
      "cell_type": "markdown",
      "source": [
        "# Flight duration model: Just distance\n",
        "In this exercise you'll build a regression model to predict flight duration (the duration column).\n",
        "\n",
        "For the moment you'll keep the model simple, including only the distance of the flight (the km column) as a predictor.\n",
        "\n",
        "The data are in flights. The first few records are displayed in the terminal. These data have also been split into training and testing sets and are available as flights_train and flights_test."
      ],
      "metadata": {
        "id": "0cfx37LhEdMt"
      }
    },
    {
      "cell_type": "code",
      "source": [
        "flights.show(1)"
      ],
      "metadata": {
        "colab": {
          "base_uri": "https://localhost:8080/"
        },
        "id": "-BAxXereEZxh",
        "outputId": "3755118f-83fc-4915-eb5b-5f4beee75175"
      },
      "execution_count": 22,
      "outputs": [
        {
          "output_type": "stream",
          "name": "stdout",
          "text": [
            "+---+---+---+-------+------+---+----+------+--------+-----+-------+-------------+\n",
            "|mon|dom|dow|carrier|flight|org|mile|depart|duration|delay|org_idx|    org_dummy|\n",
            "+---+---+---+-------+------+---+----+------+--------+-----+-------+-------------+\n",
            "| 11| 20|  6|     US|    19|JFK|2153|  9.48|     351| null|    2.0|(7,[2],[1.0])|\n",
            "+---+---+---+-------+------+---+----+------+--------+-----+-------+-------------+\n",
            "only showing top 1 row\n",
            "\n"
          ]
        }
      ]
    },
    {
      "cell_type": "code",
      "source": [
        "\n",
        "# Number of records with missing 'delay' values\n",
        "flights.filter('delay IS NULL').count()\n",
        "\n",
        "# Remove records with missing 'delay' values\n",
        "flights_valid_delay = flights.filter('delay IS NOT NULL')\n",
        "\n",
        "# Remove records with missing values in any column and get the number of remaining rows\n",
        "flights_none_missing = flights_valid_delay.dropna()\n",
        "print(flights_none_missing.count())\n",
        "flights= flights_none_missing\n",
        "\n",
        "# Import the required function\n",
        "from pyspark.sql.functions import round\n",
        "\n",
        "# Convert 'mile' to 'km' and drop 'mile' column (1 mile is equivalent to 1.60934 km)\n",
        "flights_km = flights.withColumn('km', round(flights.mile * 1.60934, 0)) \\\n",
        "                    .drop('mile')\n",
        "\n",
        "# Create 'label' column indicating whether flight delayed (1) or not (0)\n",
        "flights_km = flights_km.withColumn('label', (flights_km.delay >= 15).cast('integer'))\n",
        "\n",
        "# Check first five records\n",
        "flights_km.show(5)\n",
        "flights=flights_km\n",
        "\n",
        "# Import the necessary class\n",
        "from pyspark.ml.feature import VectorAssembler\n",
        "\n",
        "# Create an assembler object\n",
        "assembler = VectorAssembler(inputCols=['km'], outputCol='features')\n",
        "\n",
        "# Consolidate predictor columns\n",
        "flights_assembled = assembler.transform(flights)\n",
        "flights= flights_assembled\n",
        "\n",
        "flights.show(1)"
      ],
      "metadata": {
        "colab": {
          "base_uri": "https://localhost:8080/"
        },
        "id": "Qhv1MnktEjRF",
        "outputId": "9663f36c-2454-42e0-a4ee-0aaa345514eb"
      },
      "execution_count": 23,
      "outputs": [
        {
          "output_type": "stream",
          "name": "stdout",
          "text": [
            "47022\n",
            "+---+---+---+-------+------+---+------+--------+-----+-------+-------------+------+-----+\n",
            "|mon|dom|dow|carrier|flight|org|depart|duration|delay|org_idx|    org_dummy|    km|label|\n",
            "+---+---+---+-------+------+---+------+--------+-----+-------+-------------+------+-----+\n",
            "|  0| 22|  2|     UA|  1107|ORD| 16.33|      82|   30|    0.0|(7,[0],[1.0])| 509.0|    1|\n",
            "|  2| 20|  4|     UA|   226|SFO|  6.17|      82|   -8|    1.0|(7,[1],[1.0])| 542.0|    0|\n",
            "|  9| 13|  1|     AA|   419|ORD| 10.33|     195|   -5|    0.0|(7,[0],[1.0])|1989.0|    0|\n",
            "|  5|  2|  1|     UA|   704|SFO|  7.98|     102|    2|    1.0|(7,[1],[1.0])| 885.0|    0|\n",
            "|  7|  2|  6|     AA|   380|ORD| 10.83|     135|   54|    0.0|(7,[0],[1.0])|1180.0|    1|\n",
            "+---+---+---+-------+------+---+------+--------+-----+-------+-------------+------+-----+\n",
            "only showing top 5 rows\n",
            "\n",
            "+---+---+---+-------+------+---+------+--------+-----+-------+-------------+-----+-----+--------+\n",
            "|mon|dom|dow|carrier|flight|org|depart|duration|delay|org_idx|    org_dummy|   km|label|features|\n",
            "+---+---+---+-------+------+---+------+--------+-----+-------+-------------+-----+-----+--------+\n",
            "|  0| 22|  2|     UA|  1107|ORD| 16.33|      82|   30|    0.0|(7,[0],[1.0])|509.0|    1| [509.0]|\n",
            "+---+---+---+-------+------+---+------+--------+-----+-------+-------------+-----+-----+--------+\n",
            "only showing top 1 row\n",
            "\n"
          ]
        }
      ]
    },
    {
      "cell_type": "code",
      "source": [
        "from pyspark.ml.regression import LinearRegression\n",
        "from pyspark.ml.evaluation import RegressionEvaluator\n",
        "# Split into training and testing sets in a 80:20 ratio\n",
        "flights_train, flights_test = flights.randomSplit([0.8, 0.2], seed=43)\n",
        "# Create a regression object and train on training data\n",
        "regression = LinearRegression(labelCol='duration').fit(flights_train)\n",
        "\n",
        "# Create predictions for the testing data and take a look at the predictions\n",
        "predictions = regression.transform(flights_test)\n",
        "predictions.select('duration', 'prediction').show(5, False)\n",
        "\n",
        "# Calculate the RMSE\n",
        "RegressionEvaluator(labelCol='duration').evaluate(predictions)"
      ],
      "metadata": {
        "colab": {
          "base_uri": "https://localhost:8080/"
        },
        "id": "EiOdHlOLFEcO",
        "outputId": "0c7e1333-308c-4dac-dda3-3c36523ea6d7"
      },
      "execution_count": 24,
      "outputs": [
        {
          "output_type": "stream",
          "name": "stdout",
          "text": [
            "+--------+------------------+\n",
            "|duration|prediction        |\n",
            "+--------+------------------+\n",
            "|370     |345.38306605885526|\n",
            "|379     |345.38306605885526|\n",
            "|310     |346.7447421524886 |\n",
            "|120     |133.3398388114036 |\n",
            "|80      |85.07598615929011 |\n",
            "+--------+------------------+\n",
            "only showing top 5 rows\n",
            "\n"
          ]
        },
        {
          "output_type": "execute_result",
          "data": {
            "text/plain": [
              "17.15354057247383"
            ]
          },
          "metadata": {},
          "execution_count": 24
        }
      ]
    },
    {
      "cell_type": "markdown",
      "source": [
        "# Interpreting the coefficients\n",
        "The linear regression model for flight duration as a function of distance takes the form\n",
        "\n",
        "\n",
        "where\n",
        "\n",
        "intercept (component of duration which does not depend on distance) and\n",
        "\n",
        "coefficient (rate at which duration increases as a function of distance; also called the slope).\n",
        "\n",
        "By looking at the coefficients of your model you will be able to infer\n",
        "\n",
        "how much of the average flight duration is actually spent on the ground and\n",
        "\n",
        "what the average speed is during a flight.\n",
        "\n",
        "The linear regression model is available as regression."
      ],
      "metadata": {
        "id": "T7fxy6NYFeTa"
      }
    },
    {
      "cell_type": "code",
      "source": [
        "# Intercept (average minutes on ground)\n",
        "inter = regression.intercept\n",
        "print(inter)\n",
        "\n",
        "# Coefficients\n",
        "coefs = regression.coefficients\n",
        "print(coefs)\n",
        "\n",
        "# Average minutes per km\n",
        "minutes_per_km = regression.coefficients[0]\n",
        "print(minutes_per_km)\n",
        "\n",
        "# Average speed in km per hour\n",
        "avg_speed = 60 / minutes_per_km\n",
        "print(avg_speed)\n",
        "\n",
        "#The average speed of a commercial jet is around 850 km/hour. But you got that already from the data!"
      ],
      "metadata": {
        "colab": {
          "base_uri": "https://localhost:8080/"
        },
        "id": "DGbJsm9QFLYa",
        "outputId": "38a73cc9-6a8b-4184-d191-c73b4ac78b39"
      },
      "execution_count": 25,
      "outputs": [
        {
          "output_type": "stream",
          "name": "stdout",
          "text": [
            "44.074406006554185\n",
            "[0.07564867186851647]\n",
            "0.07564867186851647\n",
            "793.1401638390278\n"
          ]
        }
      ]
    },
    {
      "cell_type": "markdown",
      "source": [
        "# Flight duration model: Adding origin airport\n",
        "Some airports are busier than others. Some airports are bigger than others too. Flights departing from large or busy airports are likely to spend more time taxiing or waiting for their takeoff slot. So it stands to reason that the duration of a flight might depend not only on the distance being covered but also the airport from which the flight departs.\n",
        "\n",
        "You are going to make the regression model a little more sophisticated by including the departure airport as a predictor.\n",
        "\n",
        "These data have been split into training and testing sets and are available as flights_train and flights_test. The origin airport, stored in the org column, has been indexed into org_idx, which in turn has been one-hot encoded into org_dummy. The first few records are displayed in the terminal."
      ],
      "metadata": {
        "id": "d5UVXfetI718"
      }
    },
    {
      "cell_type": "code",
      "source": [
        "flights= flights.drop('features')\n",
        "assembler = VectorAssembler(inputCols=['km', 'org_dummy'], outputCol='features')\n",
        "\n",
        "# Consolidate predictor columns\n",
        "flights_assembled = assembler.transform(flights)\n",
        "flights= flights_assembled\n",
        "flights.show(1)\n"
      ],
      "metadata": {
        "colab": {
          "base_uri": "https://localhost:8080/"
        },
        "id": "d5fNndemF1kQ",
        "outputId": "795fed6a-2517-4cc0-eb7d-7d3fa6d797bc"
      },
      "execution_count": 26,
      "outputs": [
        {
          "output_type": "stream",
          "name": "stdout",
          "text": [
            "+---+---+---+-------+------+---+------+--------+-----+-------+-------------+-----+-----+--------------------+\n",
            "|mon|dom|dow|carrier|flight|org|depart|duration|delay|org_idx|    org_dummy|   km|label|            features|\n",
            "+---+---+---+-------+------+---+------+--------+-----+-------+-------------+-----+-----+--------------------+\n",
            "|  0| 22|  2|     UA|  1107|ORD| 16.33|      82|   30|    0.0|(7,[0],[1.0])|509.0|    1|(8,[0,1],[509.0,1...|\n",
            "+---+---+---+-------+------+---+------+--------+-----+-------+-------------+-----+-----+--------------------+\n",
            "only showing top 1 row\n",
            "\n"
          ]
        }
      ]
    },
    {
      "cell_type": "code",
      "source": [
        "from pyspark.ml.regression import LinearRegression\n",
        "from pyspark.ml.evaluation import RegressionEvaluator\n",
        "\n",
        "# Create a regression object and train on training data\n",
        "regression = LinearRegression(labelCol='duration').fit(flights_train)\n",
        "\n",
        "# Create predictions for the testing data\n",
        "predictions = regression.transform(flights_test)\n",
        "\n",
        "# Calculate the RMSE on testing data\n",
        "RegressionEvaluator(labelCol='duration').evaluate(predictions)"
      ],
      "metadata": {
        "colab": {
          "base_uri": "https://localhost:8080/"
        },
        "id": "E-BvTVvGRhiI",
        "outputId": "6393870b-b7db-4a83-80c7-37d0907e0657"
      },
      "execution_count": 27,
      "outputs": [
        {
          "output_type": "execute_result",
          "data": {
            "text/plain": [
              "17.15354057247383"
            ]
          },
          "metadata": {},
          "execution_count": 27
        }
      ]
    },
    {
      "cell_type": "markdown",
      "source": [
        "# Interpreting coefficients\n",
        "Remember that origin airport, org, has eight possible values (ORD, SFO, JFK, LGA, SMF, SJC, TUS and OGG) which have been one-hot encoded to seven dummy variables in org_dummy.\n",
        "\n",
        "The values for km and org_dummy have been assembled into features, which has eight columns with sparse representation. Column indices in features are as follows:\n",
        "\n",
        "0 — km\n",
        "\n",
        "1 — ORD\n",
        "\n",
        "2 — SFO\n",
        "\n",
        "3 — JFK\n",
        "\n",
        "4 — LGA\n",
        "\n",
        "5 — SMF\n",
        "\n",
        "6 — SJC and\n",
        "\n",
        "7 — TUS.\n",
        "\n",
        "Note that OGG does not appear in this list because it is the reference level for the origin airport category.\n",
        "\n",
        "In this exercise you'll be using the intercept and coefficients attributes to interpret the model.\n",
        "\n",
        "The coefficients attribute is a list, where the first element indicates how flight duration changes with flight distance."
      ],
      "metadata": {
        "id": "c5PTLWMSSpkK"
      }
    },
    {
      "cell_type": "code",
      "source": [
        "# Average speed in km per hour\n",
        "avg_speed_hour = 60 / regression.coefficients[0]\n",
        "print(avg_speed_hour)\n",
        "\n",
        "# Average minutes on ground at OGG\n",
        "inter = regression.intercept\n",
        "print(inter)\n",
        "\n",
        "# Average minutes on ground at JFK\n",
        "avg_ground_jfk = inter + regression.coefficients[3]\n",
        "print(avg_ground_jfk)\n",
        " \n",
        "# Average minutes on ground at LGA\n",
        "avg_ground_lga = inter + regression.coefficients[4]\n",
        "print(avg_ground_lga)\n",
        "\n",
        "#You are going to spend around 44 minutes at OGG"
      ],
      "metadata": {
        "colab": {
          "base_uri": "https://localhost:8080/"
        },
        "id": "zP14Hsy4RsPO",
        "outputId": "3924afdc-2c9a-46be-c6be-cc9e1cea566d"
      },
      "execution_count": 30,
      "outputs": [
        {
          "output_type": "stream",
          "name": "stdout",
          "text": [
            "793.1401638390278\n",
            "44.074406006554185\n"
          ]
        }
      ]
    },
    {
      "cell_type": "markdown",
      "source": [
        "# Bucketing departure time\n",
        "Time of day data are a challenge with regression models. They are also a great candidate for bucketing.\n",
        "\n",
        "In this lesson you will convert the flight departure times from numeric values between 0 (corresponding to 00:00) and 24 (corresponding to 24:00) to binned values. You'll then take those binned values and one-hot encode them."
      ],
      "metadata": {
        "id": "omqgVJOZ_DRF"
      }
    },
    {
      "cell_type": "code",
      "source": [
        "# Read data from CSV file\n",
        "flights = spark.read.csv('flights.csv',\n",
        "                         sep=',',\n",
        "                         header=True,\n",
        "                         inferSchema=True,\n",
        "                         nullValue='NA')\n",
        "flights.show(1)"
      ],
      "metadata": {
        "colab": {
          "base_uri": "https://localhost:8080/"
        },
        "id": "6yPydqjxTAAe",
        "outputId": "6a12516e-af9c-4712-a225-2d9f1b11659e"
      },
      "execution_count": 57,
      "outputs": [
        {
          "output_type": "stream",
          "name": "stdout",
          "text": [
            "+---+---+---+-------+------+---+----+------+--------+-----+\n",
            "|mon|dom|dow|carrier|flight|org|mile|depart|duration|delay|\n",
            "+---+---+---+-------+------+---+----+------+--------+-----+\n",
            "| 11| 20|  6|     US|    19|JFK|2153|  9.48|     351| null|\n",
            "+---+---+---+-------+------+---+----+------+--------+-----+\n",
            "only showing top 1 row\n",
            "\n"
          ]
        }
      ]
    },
    {
      "cell_type": "code",
      "source": [
        "from pyspark.ml.feature import Bucketizer, OneHotEncoder\n",
        "\n",
        "# Create buckets at 3 hour intervals through the day\n",
        "buckets = Bucketizer(splits=[0, 3, 6, 9, 12, 15, 18, 21, 24], inputCol='depart', outputCol='depart_bucket')\n",
        "\n",
        "# Bucket the departure times\n",
        "bucketed = buckets.transform(flights)\n",
        "bucketed.select('depart', 'depart_bucket').show(5)\n",
        "\n",
        "# Create a one-hot encoder\n",
        "onehot = OneHotEncoder(inputCols=['depart_bucket'], outputCols=['depart_dummy'])\n",
        "\n",
        "# One-hot encode the bucketed departure times\n",
        "flights_onehot = onehot.fit(bucketed).transform(bucketed)\n",
        "flights_onehot.select('depart', 'depart_bucket', 'depart_dummy').show(5)\n",
        "flights= flights_onehot"
      ],
      "metadata": {
        "colab": {
          "base_uri": "https://localhost:8080/"
        },
        "id": "L9YjdEQd_J7F",
        "outputId": "f4921e19-9db0-414f-904e-3d48e14a6728"
      },
      "execution_count": 58,
      "outputs": [
        {
          "output_type": "stream",
          "name": "stdout",
          "text": [
            "+------+-------------+\n",
            "|depart|depart_bucket|\n",
            "+------+-------------+\n",
            "|  9.48|          3.0|\n",
            "| 16.33|          5.0|\n",
            "|  6.17|          2.0|\n",
            "| 10.33|          3.0|\n",
            "|  8.92|          2.0|\n",
            "+------+-------------+\n",
            "only showing top 5 rows\n",
            "\n",
            "+------+-------------+-------------+\n",
            "|depart|depart_bucket| depart_dummy|\n",
            "+------+-------------+-------------+\n",
            "|  9.48|          3.0|(7,[3],[1.0])|\n",
            "| 16.33|          5.0|(7,[5],[1.0])|\n",
            "|  6.17|          2.0|(7,[2],[1.0])|\n",
            "| 10.33|          3.0|(7,[3],[1.0])|\n",
            "|  8.92|          2.0|(7,[2],[1.0])|\n",
            "+------+-------------+-------------+\n",
            "only showing top 5 rows\n",
            "\n"
          ]
        }
      ]
    },
    {
      "cell_type": "markdown",
      "source": [
        "# Flight duration model: Adding departure time\n",
        "In the previous exercise the departure time was bucketed and converted to dummy variables. Now you're going to include those dummy variables in a regression model for flight duration.\n",
        "\n",
        "The data are in flights. The km, org_dummy and depart_dummy columns have been assembled into features, where km is index 0, org_dummy runs from index 1 to 7 and depart_dummy from index 8 to 14.\n",
        "\n",
        "The data have been split into training and testing sets and a linear regression model, regression, has been built on the training data. Predictions have been made on the testing data and are available as predictions."
      ],
      "metadata": {
        "id": "utbs9e56Bflc"
      }
    },
    {
      "cell_type": "code",
      "source": [
        "# Convert 'mile' to 'km' and drop 'mile' column (1 mile is equivalent to 1.60934 km)\n",
        "flights = flights.withColumn('km', round(flights.mile * 1.60934, 0)) \\\n",
        "                    .drop('mile')\n",
        "\n",
        "flights = StringIndexer(inputCol='org', outputCol='org_idx').fit(flights).transform(flights)\n",
        "# Create an instance of the one hot encoder\n",
        "onehot = OneHotEncoder(inputCols=['org_idx'], outputCols=['org_dummy'])\n",
        "\n",
        "# Apply the one hot encoder to the flights data\n",
        "onehot = onehot.fit(flights)\n",
        "flights = onehot.transform(flights)\n",
        "\n",
        "# create features\n",
        "assembler = VectorAssembler(inputCols=[\n",
        "    'km', 'org_dummy', 'depart_dummy'], outputCol='features')\n",
        "\n",
        "# Consolidate predictor columns\n",
        "flights_assembled = assembler.transform(flights)\n",
        "flights= flights_assembled\n",
        "\n",
        "# Remove records with missing values in any column and get the number of remaining rows\n",
        "flights = flights.dropna()\n",
        "\n",
        "flights_train, flights_test= flights.randomSplit([0.8, 0.2], seed=43)\n",
        "flights.show(1)\n",
        "\n",
        "# Create a regression object and train on training data\n",
        "regression = LinearRegression(labelCol='duration').fit(flights_train)\n",
        "\n",
        "# Create predictions for the testing data\n",
        "predictions = regression.transform(flights_test)"
      ],
      "metadata": {
        "colab": {
          "base_uri": "https://localhost:8080/"
        },
        "id": "wooTX498AQMA",
        "outputId": "2160167b-1790-4f0c-caf1-1f0b9d06e9ac"
      },
      "execution_count": 49,
      "outputs": [
        {
          "output_type": "stream",
          "name": "stdout",
          "text": [
            "+---+---+---+-------+------+---+------+--------+-----+-------------+-------------+-----+-------+-------------+--------------------+\n",
            "|mon|dom|dow|carrier|flight|org|depart|duration|delay|depart_bucket| depart_dummy|   km|org_idx|    org_dummy|            features|\n",
            "+---+---+---+-------+------+---+------+--------+-----+-------------+-------------+-----+-------+-------------+--------------------+\n",
            "|  0| 22|  2|     UA|  1107|ORD| 16.33|      82|   30|          5.0|(7,[5],[1.0])|509.0|    0.0|(7,[0],[1.0])|(15,[0,1,13],[509...|\n",
            "+---+---+---+-------+------+---+------+--------+-----+-------------+-------------+-----+-------+-------------+--------------------+\n",
            "only showing top 1 row\n",
            "\n"
          ]
        }
      ]
    },
    {
      "cell_type": "markdown",
      "source": [
        "# Flight duration model: Adding departure time\n",
        "In the previous exercise the departure time was bucketed and converted to dummy variables. Now you're going to include those dummy variables in a regression model for flight duration.\n",
        "\n",
        "The data are in flights. The km, org_dummy and depart_dummy columns have been assembled into features, where km is index 0, org_dummy runs from index 1 to 7 and depart_dummy from index 8 to 14.\n",
        "\n",
        "The data have been split into training and testing sets and a linear regression model, regression, has been built on the training data. Predictions have been made on the testing data and are available as predictions."
      ],
      "metadata": {
        "id": "ZtG6677EOzL-"
      }
    },
    {
      "cell_type": "code",
      "source": [
        "# Find the RMSE on testing data\n",
        "from pyspark.ml.evaluation import RegressionEvaluator\n",
        "rmse = RegressionEvaluator(labelCol='duration').evaluate(predictions)\n",
        "print(\"The test RMSE is\", rmse)\n",
        "\n",
        "# Average minutes on ground at OGG for flights departing between 21:00 and 24:00\n",
        "avg_eve_ogg = regression.intercept\n",
        "print(avg_eve_ogg)\n",
        "\n",
        "# Average minutes on ground at OGG for flights departing between 03:00 and 06:00\n",
        "avg_night_ogg = regression.intercept + regression.coefficients[9]\n",
        "print(avg_night_ogg)\n",
        "\n",
        "# Average minutes on ground at JFK for flights departing between 03:00 and 06:00\n",
        "avg_night_jfk = regression.intercept + regression.coefficients[9] + regression.coefficients[3]\n",
        "print(avg_night_jfk)\n",
        "\n",
        "# Adding departure time resulted in a smaller RMSE. Nice!"
      ],
      "metadata": {
        "colab": {
          "base_uri": "https://localhost:8080/"
        },
        "id": "w6ujQKDvA8qM",
        "outputId": "1788e5f6-ddc1-49c1-d81a-156962d7a607"
      },
      "execution_count": 50,
      "outputs": [
        {
          "output_type": "stream",
          "name": "stdout",
          "text": [
            "The test RMSE is 10.756621337092772\n",
            "10.280756041418275\n",
            "10.83880844485804\n",
            "62.498763512911516\n"
          ]
        }
      ]
    },
    {
      "cell_type": "markdown",
      "source": [
        "# Flight duration model: More features!\n",
        "Let's add more features to our model. This will not necessarily result in a better model. Adding some features might improve the model. Adding other features might make it worse.\n",
        "\n",
        "More features will always make the model more complicated and difficult to interpret.\n",
        "\n",
        "These are the features you'll include in the next model:\n",
        "\n",
        "km\n",
        "\n",
        "org (origin airport, one-hot encoded, 8 levels)\n",
        "\n",
        "depart (departure time, binned in 3 hour intervals, one-hot encoded, 8 levels)\n",
        "\n",
        "dow (departure day of week, one-hot encoded, 7 levels) and\n",
        "\n",
        "mon (departure month, one-hot encoded, 12 levels).\n",
        "\n",
        "These have been assembled into the features column, which is a sparse representation of 32 columns (remember one-hot encoding produces a number of columns which is one fewer than the number of levels).\n",
        "\n",
        "The data are available as flights, randomly split into flights_train and flights_test.\n",
        "\n",
        "This exercise is based on a small subset of the flights data."
      ],
      "metadata": {
        "id": "TZm5H_99PGev"
      }
    },
    {
      "cell_type": "code",
      "source": [
        "# Convert 'mile' to 'km' and drop 'mile' column (1 mile is equivalent to 1.60934 km)\n",
        "flights = flights.withColumn('km', round(flights.mile * 1.60934, 0)) \\\n",
        "                    .drop('mile')\n",
        "\n",
        "flights = StringIndexer(inputCol='org', outputCol='org_idx').fit(flights).transform(flights)\n",
        "# Create an instance of the one hot encoder\n",
        "onehot = OneHotEncoder(inputCols=['org_idx'], outputCols=['org_dummy'])\n",
        "\n",
        "# Apply the one hot encoder to the flights data\n",
        "onehot = onehot.fit(flights)\n",
        "flights = onehot.transform(flights)\n",
        "\n",
        "# create features\n",
        "assembler = VectorAssembler(inputCols=[\n",
        "    'km', 'org_dummy', 'depart', 'dow', 'mon'], outputCol='features')\n",
        "\n",
        "# Consolidate predictor columns\n",
        "flights_assembled = assembler.transform(flights)\n",
        "flights= flights_assembled\n",
        "\n",
        "# Remove records with missing values in any column and get the number of remaining rows\n",
        "flights = flights.dropna()\n",
        "\n",
        "flights_train, flights_test= flights.randomSplit([0.8, 0.2], seed=43)"
      ],
      "metadata": {
        "id": "XAjW8clMOyGC"
      },
      "execution_count": 59,
      "outputs": []
    },
    {
      "cell_type": "code",
      "source": [
        "from pyspark.ml.regression import LinearRegression\n",
        "from pyspark.ml.evaluation import RegressionEvaluator\n",
        "\n",
        "# Fit linear regression model to training data\n",
        "regression = LinearRegression(labelCol='duration').fit(flights_train)\n",
        "\n",
        "# Make predictions on testing data\n",
        "predictions = regression.transform(flights_test)\n",
        "\n",
        "# Calculate the RMSE on testing data\n",
        "rmse = RegressionEvaluator(labelCol='duration').evaluate(predictions)\n",
        "print(\"The test RMSE is\", rmse)\n",
        "\n",
        "# Look at the model coefficients\n",
        "coeffs = regression.coefficients\n",
        "print(coeffs)\n",
        "\n",
        "#With all those non-zero coefficients the model is a little hard to interpret!"
      ],
      "metadata": {
        "colab": {
          "base_uri": "https://localhost:8080/"
        },
        "id": "eKoEI6V6PLse",
        "outputId": "3401679d-7926-465b-da69-095c068ca349"
      },
      "execution_count": 60,
      "outputs": [
        {
          "output_type": "stream",
          "name": "stdout",
          "text": [
            "The test RMSE is 11.067223999713685\n",
            "[0.07435622697794397,28.968970111537338,20.997898574871147,52.71993609458039,47.08175295752043,18.754010757620165,16.175519777573026,18.677021072426648,0.13516935927934803,-0.043364511404527295,0.08213076330140325]\n"
          ]
        }
      ]
    },
    {
      "cell_type": "markdown",
      "source": [
        "# Flight duration model: Regularization!\n",
        "In the previous exercise you added more predictors to the flight duration model. The model performed well on testing data, but with so many coefficients it was difficult to interpret.\n",
        "\n",
        "In this exercise you'll use Lasso regression (regularized with a L1 penalty) to create a more parsimonious model. Many of the coefficients in the resulting model will be set to zero. This means that only a subset of the predictors actually contribute to the model. Despite the simpler model, it still produces a good RMSE on the testing data.\n",
        "\n",
        "You'll use a specific value for the regularization strength. Later you'll learn how to find the best value using cross validation.\n",
        "\n",
        "The data (same as previous exercise) are available as flights, randomly split into flights_train and flights_test.\n",
        "\n",
        "There are two parameters for this model, λ (regParam) and α (elasticNetParam), where α determines the type of regularization and λ gives the strength of regularization."
      ],
      "metadata": {
        "id": "FMrvDopXQl5y"
      }
    },
    {
      "cell_type": "code",
      "source": [
        "from pyspark.ml.regression import LinearRegression\n",
        "from pyspark.ml.evaluation import RegressionEvaluator\n",
        "\n",
        "# Fit Lasso model (λ = 1, α = 1) to training data\n",
        "regression = LinearRegression(labelCol='duration', regParam=1, elasticNetParam=1).fit(flights_train)\n",
        "\n",
        "# Calculate the RMSE on testing data\n",
        "rmse = RegressionEvaluator(labelCol='duration').evaluate(regression.transform(flights_test))\n",
        "print(\"The test RMSE is\", rmse)\n",
        "\n",
        "# Look at the model coefficients\n",
        "coeffs = regression.coefficients\n",
        "print(coeffs)\n",
        "\n",
        "# Number of zero coefficients\n",
        "zero_coeff = sum([beta == 0 for beta in regression.coefficients])\n",
        "print(\"Number of coefficients equal to 0:\", zero_coeff)\n",
        "\n",
        "#Regularization produced a far simpler model with similar test performance."
      ],
      "metadata": {
        "colab": {
          "base_uri": "https://localhost:8080/"
        },
        "id": "T_vg2EjTQitL",
        "outputId": "bebb4fa7-edac-4721-f7ac-7e9f97eadf5f"
      },
      "execution_count": 61,
      "outputs": [
        {
          "output_type": "stream",
          "name": "stdout",
          "text": [
            "The test RMSE is 11.740588521756035\n",
            "[0.07349139798003887,5.798647978257913,0.0,28.965676512671624,21.945310180434085,0.0,-2.2555855768816615,0.0,0.0,0.0,0.0]\n",
            "Number of coefficients equal to 0: 6\n"
          ]
        }
      ]
    },
    {
      "cell_type": "markdown",
      "source": [
        "# CHAPTER 4\n",
        "\n",
        "## Ensembles & Pipelines\n",
        "\n",
        "Finally you'll learn how to make your models more efficient. You'll find out how to use pipelines to make your code clearer and easier to maintain. Then you'll use cross-validation to better test your models and select good model parameters. Finally you'll dabble in two types of ensemble model."
      ],
      "metadata": {
        "id": "aiNCa0UNUBN5"
      }
    },
    {
      "cell_type": "markdown",
      "source": [
        "# Flight duration model: Pipeline stages\n",
        "You're going to create the stages for the flights duration model pipeline. You will use these in the next exercise to build a pipeline and to create a regression model.\n",
        "\n",
        "The StringIndexer, OneHotEncoder, VectorAssembler and LinearRegression classes are already imported."
      ],
      "metadata": {
        "id": "-xyTtn7ZUFLl"
      }
    },
    {
      "cell_type": "code",
      "source": [
        "# Read data from CSV file\n",
        "flights = spark.read.csv('flights.csv',\n",
        "                         sep=',',\n",
        "                         header=True,\n",
        "                         inferSchema=True,\n",
        "                         nullValue='NA')\n",
        "flights.show(1)\n",
        "\n",
        "# Convert 'mile' to 'km' and drop 'mile' column (1 mile is equivalent to 1.60934 km)\n",
        "flights = flights.withColumn('km', round(flights.mile * 1.60934, 0)) \\\n",
        "                    .drop('mile')\n",
        "\n",
        "# Remove records with missing values in any column and get the number of remaining rows\n",
        "flights = flights.dropna()"
      ],
      "metadata": {
        "colab": {
          "base_uri": "https://localhost:8080/"
        },
        "id": "fiVBG8wBW5C3",
        "outputId": "fba1ed07-01b4-45b1-d010-d57527950ec4"
      },
      "execution_count": 69,
      "outputs": [
        {
          "output_type": "stream",
          "name": "stdout",
          "text": [
            "+---+---+---+-------+------+---+----+------+--------+-----+\n",
            "|mon|dom|dow|carrier|flight|org|mile|depart|duration|delay|\n",
            "+---+---+---+-------+------+---+----+------+--------+-----+\n",
            "| 11| 20|  6|     US|    19|JFK|2153|  9.48|     351| null|\n",
            "+---+---+---+-------+------+---+----+------+--------+-----+\n",
            "only showing top 1 row\n",
            "\n"
          ]
        }
      ]
    },
    {
      "cell_type": "code",
      "source": [
        "# Convert categorical strings to index values\n",
        "indexer = StringIndexer(inputCol='org', outputCol='org_idx')\n",
        "\n",
        "# One-hot encode index values\n",
        "onehot = OneHotEncoder(\n",
        "    inputCols=['org_idx', 'dow'],\n",
        "    outputCols=['org_dummy', 'dow_dummy']\n",
        ")\n",
        "\n",
        "# Assemble predictors into a single column\n",
        "assembler = VectorAssembler(inputCols=['km', 'org_dummy', 'dow_dummy'], outputCol='features')\n",
        "\n",
        "# A linear regression object\n",
        "regression = LinearRegression(labelCol='duration')"
      ],
      "metadata": {
        "id": "4Vnm8D9xSU05"
      },
      "execution_count": 70,
      "outputs": []
    },
    {
      "cell_type": "markdown",
      "source": [
        "# Flight duration model: Pipeline model\n",
        "You're now ready to put those stages together in a pipeline.\n",
        "\n",
        "You'll construct the pipeline and then train the pipeline on the training data. This will apply each of the individual stages in the pipeline to the training data in turn. None of the stages will be exposed to the testing data at all: there will be no leakage!\n",
        "\n",
        "Once the entire pipeline has been trained it will then be used to make predictions on the testing data.\n",
        "\n",
        "The data are available as flights, which has been randomly split into flights_train and flights_test."
      ],
      "metadata": {
        "id": "VZJFX6OhWbOC"
      }
    },
    {
      "cell_type": "code",
      "source": [
        "flights_train, flights_test= flights.randomSplit([0.8, 0.2], seed=43)"
      ],
      "metadata": {
        "id": "MQCQS7c3WWKa"
      },
      "execution_count": 71,
      "outputs": []
    },
    {
      "cell_type": "code",
      "source": [
        "# Import class for creating a pipeline\n",
        "from pyspark.ml import Pipeline\n",
        "\n",
        "# Construct a pipeline\n",
        "pipeline = Pipeline(stages=[indexer, onehot, assembler, regression])\n",
        "\n",
        "# Train the pipeline on the training data\n",
        "pipeline = pipeline.fit(flights_train)\n",
        "\n",
        "# Make predictions on the testing data\n",
        "predictions = pipeline.transform(flights_test)\n",
        "\n",
        "#A pipeline makes your code easier to read and maintain."
      ],
      "metadata": {
        "id": "hkyC5EbNWd81"
      },
      "execution_count": 72,
      "outputs": []
    },
    {
      "cell_type": "markdown",
      "source": [
        "# SMS spam pipeline\n",
        "You haven't looked at the SMS data for quite a while. Last time we did the following:\n",
        "\n",
        "split the text into tokens\n",
        "\n",
        "removed stop words\n",
        "\n",
        "applied the hashing trick\n",
        "\n",
        "converted the data from counts to IDF and\n",
        "\n",
        "trained a logistic regression model.\n",
        "\n",
        "Each of these steps was done independently. This seems like a great application for a pipeline!\n",
        "\n",
        "The Pipeline and LogisticRegression classes have already been imported into the session, so you don't need to worry about that!"
      ],
      "metadata": {
        "id": "yBCGfNOeXKf_"
      }
    },
    {
      "cell_type": "code",
      "source": [
        "from pyspark.sql.types import StructType, StructField, IntegerType, StringType\n",
        "\n",
        "# Specify column names and types\n",
        "schema = StructType([\n",
        "    StructField(\"id\", IntegerType()),\n",
        "    StructField(\"text\", StringType()),\n",
        "    StructField(\"label\", IntegerType())\n",
        "])\n",
        "\n",
        "# Load data from a delimited file\n",
        "sms = spark.read.csv(\"sms.csv\", sep=';', header=False, schema=schema)\n",
        "\n",
        "# Print schema of DataFrame\n",
        "sms.printSchema()\n",
        "sms.show(1)"
      ],
      "metadata": {
        "colab": {
          "base_uri": "https://localhost:8080/"
        },
        "id": "J3WFGEBBWzaZ",
        "outputId": "1f21e175-8c9d-4e6b-9f94-c417ea5f1121"
      },
      "execution_count": 74,
      "outputs": [
        {
          "output_type": "stream",
          "name": "stdout",
          "text": [
            "root\n",
            " |-- id: integer (nullable = true)\n",
            " |-- text: string (nullable = true)\n",
            " |-- label: integer (nullable = true)\n",
            "\n",
            "+---+--------------------+-----+\n",
            "| id|                text|label|\n",
            "+---+--------------------+-----+\n",
            "|  1|Sorry, I'll call ...|    0|\n",
            "+---+--------------------+-----+\n",
            "only showing top 1 row\n",
            "\n"
          ]
        }
      ]
    },
    {
      "cell_type": "code",
      "source": [
        "from pyspark.ml.feature import Tokenizer, StopWordsRemover, HashingTF, IDF\n",
        "\n",
        "# Break text into tokens at non-word characters\n",
        "tokenizer = Tokenizer(inputCol='text', outputCol='words')\n",
        "\n",
        "# Remove stop words\n",
        "remover = StopWordsRemover(inputCol='words', outputCol='terms')\n",
        "\n",
        "# Apply the hashing trick and transform to TF-IDF\n",
        "hasher = HashingTF(inputCol='terms', outputCol=\"hash\")\n",
        "idf = IDF(inputCol='hash', outputCol=\"features\")\n",
        "\n",
        "# Create a logistic regression object and add everything to a pipeline\n",
        "logistic = LogisticRegression()\n",
        "pipeline = Pipeline(stages=[tokenizer, remover, hasher, idf, logistic])\n",
        "\n",
        "# SO MUCH EASIER"
      ],
      "metadata": {
        "id": "ZGI_7RIAXNq0"
      },
      "execution_count": 75,
      "outputs": []
    },
    {
      "cell_type": "markdown",
      "source": [
        "# Cross validating simple flight duration model\n",
        "You've already built a few models for predicting flight duration and evaluated them with a simple train/test split. However, cross-validation provides a much better way to evaluate model performance.\n",
        "\n",
        "In this exercise you're going to train a simple model for flight duration using cross-validation. Travel time is usually strongly correlated with distance, so using the km column alone should give a decent model.\n",
        "\n",
        "The data have been randomly split into flights_train and flights_test.\n",
        "\n",
        "The following classes have already been imported: LinearRegression, RegressionEvaluator, ParamGridBuilder and CrossValidator."
      ],
      "metadata": {
        "id": "OAM9SMz5ocDl"
      }
    },
    {
      "cell_type": "code",
      "source": [
        "# Read data from CSV file\n",
        "flights = spark.read.csv('flights.csv',\n",
        "                         sep=',',\n",
        "                         header=True,\n",
        "                         inferSchema=True,\n",
        "                         nullValue='NA')\n",
        "\n",
        "# Convert 'mile' to 'km' and drop 'mile' column (1 mile is equivalent to 1.60934 km)\n",
        "flights = flights.withColumn('km', round(flights.mile * 1.60934, 0)) \\\n",
        "                    .drop('mile')\n",
        "                    \n",
        "assembler = VectorAssembler(inputCols=['km'], outputCol='features')\n",
        "\n",
        "# Consolidate predictor columns\n",
        "flights_assembled = assembler.transform(flights)\n",
        "flights= flights_assembled\n",
        "\n",
        "# Remove records with missing values in any column and get the number of remaining rows\n",
        "flights = flights.dropna()\n",
        "flights.show()\n",
        "flights_train, flights_test= flights.randomSplit([0.8, 0.2], seed=43)"
      ],
      "metadata": {
        "colab": {
          "base_uri": "https://localhost:8080/"
        },
        "id": "VOCNj0JVXmin",
        "outputId": "177450a8-c534-498c-c7c9-223512026406"
      },
      "execution_count": 99,
      "outputs": [
        {
          "output_type": "stream",
          "name": "stdout",
          "text": [
            "+---+---+---+-------+------+---+------+--------+-----+------+--------+\n",
            "|mon|dom|dow|carrier|flight|org|depart|duration|delay|    km|features|\n",
            "+---+---+---+-------+------+---+------+--------+-----+------+--------+\n",
            "|  0| 22|  2|     UA|  1107|ORD| 16.33|      82|   30| 509.0| [509.0]|\n",
            "|  2| 20|  4|     UA|   226|SFO|  6.17|      82|   -8| 542.0| [542.0]|\n",
            "|  9| 13|  1|     AA|   419|ORD| 10.33|     195|   -5|1989.0|[1989.0]|\n",
            "|  5|  2|  1|     UA|   704|SFO|  7.98|     102|    2| 885.0| [885.0]|\n",
            "|  7|  2|  6|     AA|   380|ORD| 10.83|     135|   54|1180.0|[1180.0]|\n",
            "|  1| 16|  6|     UA|  1477|ORD|   8.0|     232|   -7|2317.0|[2317.0]|\n",
            "|  1| 22|  5|     UA|   620|SJC|  7.98|     250|  -13|2943.0|[2943.0]|\n",
            "| 11|  8|  1|     OO|  5590|SFO|  7.77|      60|   88| 254.0| [254.0]|\n",
            "|  4| 26|  1|     AA|  1144|SFO| 13.25|     210|  -10|2356.0|[2356.0]|\n",
            "|  4| 25|  0|     AA|   321|ORD| 13.75|     160|   31|1574.0|[1574.0]|\n",
            "|  8| 30|  2|     UA|   646|ORD| 13.28|     151|   16|1157.0|[1157.0]|\n",
            "|  3| 16|  3|     UA|   107|ORD|   9.0|     264|    3|2808.0|[2808.0]|\n",
            "|  0|  3|  4|     AA|  1559|LGA| 17.08|     190|   32|1765.0|[1765.0]|\n",
            "|  5|  9|  1|     UA|   770|SFO|  12.7|     158|   20|1556.0|[1556.0]|\n",
            "|  3| 10|  4|     B6|   937|ORD| 17.58|     265|  155|2792.0|[2792.0]|\n",
            "| 11| 15|  1|     AA|  2303|ORD|  6.75|     160|   23|1291.0|[1291.0]|\n",
            "|  8| 18|  4|     UA|   802|SJC|  6.33|     160|   17|1526.0|[1526.0]|\n",
            "|  2| 14|  5|     B6|    71|JFK|  6.17|     166|    0|1519.0|[1519.0]|\n",
            "|  7| 21|  4|     OO|  5806|ORD|  19.0|     110|   21| 977.0| [977.0]|\n",
            "| 11|  6|  6|     OO|  5524|SFO|  8.75|      82|   40| 509.0| [509.0]|\n",
            "+---+---+---+-------+------+---+------+--------+-----+------+--------+\n",
            "only showing top 20 rows\n",
            "\n"
          ]
        }
      ]
    },
    {
      "cell_type": "code",
      "source": [
        "from pyspark.ml.tuning import CrossValidator, ParamGridBuilder, CrossValidatorModel\n",
        "\n",
        "# Create an empty parameter grid\n",
        "params = ParamGridBuilder().build()\n",
        "\n",
        "# Create objects for building and evaluating a regression model\n",
        "regression = LinearRegression(labelCol='duration')\n",
        "evaluator = RegressionEvaluator(labelCol='duration')\n",
        "\n",
        "# Create a cross validator\n",
        "cv = CrossValidator(estimator=regression, estimatorParamMaps=params, evaluator=evaluator, numFolds=5)\n",
        "\n",
        "# Train and test model on multiple folds of the training data\n",
        "cv = cv.fit(flights_train)\n",
        "\n",
        "# NOTE: Since cross-valdiation builds multiple models, the fit() method can take a little while to complete."
      ],
      "metadata": {
        "id": "-qy5gv55ou47"
      },
      "execution_count": 100,
      "outputs": []
    },
    {
      "cell_type": "markdown",
      "source": [
        "# Cross validating flight duration model pipeline\n",
        "The cross-validated model that you just built was simple, using km alone to predict duration.\n",
        "\n",
        "Another important predictor of flight duration is the origin airport. Flights generally take longer to get into the air from busy airports. Let's see if adding this predictor improves the model!\n",
        "\n",
        "In this exercise you'll add the org field to the model. However, since org is categorical, there's more work to be done before it can be included: it must first be transformed to an index and then one-hot encoded before being assembled with km and used to build the regression model. We'll wrap these operations up in a pipeline.\n",
        "\n",
        "The following objects have already been created:\n",
        "\n",
        "params — an empty parameter grid\n",
        "\n",
        "evaluator — a regression evaluator\n",
        "\n",
        "regression — a LinearRegression object with labelCol='duration'.\n",
        "\n",
        "The StringIndexer, OneHotEncoder, VectorAssembler and CrossValidator classes have already been imported."
      ],
      "metadata": {
        "id": "PM7_LSvPq6HC"
      }
    },
    {
      "cell_type": "code",
      "source": [
        "\n",
        "flights_train, flights_test= flights.randomSplit([0.8, 0.2], seed=43)\n",
        "# Create an indexer for the org field\n",
        "indexer = StringIndexer(inputCol='org', outputCol='org_idx')\n",
        "\n",
        "# Create an one-hot encoder for the indexed org field\n",
        "onehot = OneHotEncoder(inputCols=['org_idx'], outputCols=['org_dummy'])\n",
        "\n",
        "# Assemble the km and one-hot encoded fields\n",
        "assembler = VectorAssembler(inputCols=['km', 'org_dummy'], outputCol='features')\n",
        "\n",
        "# Create a pipeline and cross-validator.\n",
        "pipeline = Pipeline(stages=[indexer, onehot, assembler, regression])\n",
        "cv = CrossValidator(estimator=pipeline,\n",
        "                    estimatorParamMaps=params,\n",
        "                    evaluator=evaluator)\n",
        "\n",
        "#Wrapping operations in a pipeline makes cross validating the entire workflow easy!"
      ],
      "metadata": {
        "id": "B7jYeBdNqjoD"
      },
      "execution_count": 90,
      "outputs": []
    },
    {
      "cell_type": "markdown",
      "source": [
        "# Optimizing flights linear regression\n",
        "Up until now you've been using the default hyper-parameters when building your models. In this exercise you'll use cross validation to choose an optimal (or close to optimal) set of model hyper-parameters.\n",
        "\n",
        "The following have already been created:\n",
        "\n",
        "regression — a LinearRegression object\n",
        "\n",
        "pipeline — a pipeline with string indexer, one-hot encoder, vector assembler \n",
        "and linear regression and\n",
        "\n",
        "evaluator — a RegressionEvaluator object."
      ],
      "metadata": {
        "id": "cqI8KWH6r776"
      }
    },
    {
      "cell_type": "code",
      "source": [
        "# Create parameter grid\n",
        "params = ParamGridBuilder()\n",
        "\n",
        "# Add grids for two parameters\n",
        "params = params.addGrid(regression.regParam, [0.01, 0.1, 1.0, 10.0]) \\\n",
        "               .addGrid(regression.elasticNetParam, [0.0, 0.5, 1.0])\n",
        "\n",
        "# Build the parameter grid\n",
        "params = params.build()\n",
        "print('Number of models to be tested: ', len(params))\n",
        "\n",
        "# Create cross-validator\n",
        "cv = CrossValidator(estimator=pipeline, estimatorParamMaps=params, evaluator=evaluator, numFolds=5)\n",
        "\n",
        "#Nice! Multiple models are built effortlessly using grid search."
      ],
      "metadata": {
        "colab": {
          "base_uri": "https://localhost:8080/"
        },
        "id": "4ZkILUNir5cA",
        "outputId": "b0f92952-d3de-49ca-8d9c-8ad70b29c65e"
      },
      "execution_count": 94,
      "outputs": [
        {
          "output_type": "stream",
          "name": "stdout",
          "text": [
            "Number of models to be tested:  12\n"
          ]
        }
      ]
    },
    {
      "cell_type": "markdown",
      "source": [
        "# Dissecting the best flight duration model\n",
        "You just set up a CrossValidator to find good parameters for the linear regression model predicting flight duration.\n",
        "\n",
        "The model pipeline has multiple stages (objects of type StringIndexer, OneHotEncoder, VectorAssembler and LinearRegression), which operate in sequence. The stages are available as the stages attribute on the pipeline object. They are represented by a list and the stages are executed in the sequence in which they appear in the list.\n",
        "\n",
        "Now you're going to take a closer look at the pipeline, split out the stages and use it to make predictions on the testing data.\n",
        "\n",
        "The following objects have already been created:\n",
        "\n",
        "cv — a trained CrossValidatorModel object and\n",
        "\n",
        "evaluator — a RegressionEvaluator object.\n",
        "\n",
        "The flights data have been randomly split into flights_train and flights_test."
      ],
      "metadata": {
        "id": "Tp_CA9Bh2zdb"
      }
    },
    {
      "cell_type": "code",
      "source": [
        "# Get the best model from cross validation\n",
        "best_model = cv.best_Model\n",
        "\n",
        "# Look at the stages in the best model\n",
        "print(best_model.stages)\n",
        "\n",
        "# Get the parameters for the LinearRegression object in the best model\n",
        "best_model.stages[3].extractParamMap()\n",
        "\n",
        "# Generate predictions on testing data using the best model then calculate RMSE\n",
        "predictions = best_model.transform(flights_test)\n",
        "print(\"RMSE =\", evaluator.evaluate(predictions))\n",
        "\n",
        "# this model performs well on training data"
      ],
      "metadata": {
        "id": "poKVZ4Vj4BwT"
      },
      "execution_count": null,
      "outputs": []
    },
    {
      "cell_type": "markdown",
      "source": [
        "# SMS spam optimised\n",
        "The pipeline you built earlier for the SMS spam model used the default parameters for all of the elements in the pipeline. It's very unlikely that these parameters will give a particularly good model though. In this exercise you're going to run the pipeline for a selection of parameter values. We're going to do this in a systematic way: the values for each of the parameters will be laid out on a grid and then pipeline will systematically run across each point in the grid.\n",
        "\n",
        "In this exercise you'll set up a parameter grid which can be used with cross validation to choose a good set of parameters for the SMS spam classifier.\n",
        "\n",
        "The following are already defined:\n",
        "\n",
        "hasher — a HashingTF object and\n",
        "\n",
        "logistic — a LogisticRegression object."
      ],
      "metadata": {
        "id": "rfZZ3MKD4SAK"
      }
    },
    {
      "cell_type": "code",
      "source": [
        "# Create parameter grid\n",
        "params = ParamGridBuilder()\n",
        "\n",
        "# Add grid for hashing trick parameters\n",
        "params = params.addGrid(hasher.numFeatures, [1024, 4096, 16384]) \\\n",
        "               .addGrid(hasher.binary, [True, False])\n",
        "\n",
        "# Add grid for logistic regression parameters\n",
        "params = params.addGrid(logistic.regParam, [0.01, 0.1, 1.0, 10.0]) \\\n",
        "               .addGrid(logistic.elasticNetParam, [0.0, 0.5, 1.0])\n",
        "\n",
        "# Build parameter grid\n",
        "params = params.build()"
      ],
      "metadata": {
        "id": "asxtXYYJ4UQk"
      },
      "execution_count": 102,
      "outputs": []
    },
    {
      "cell_type": "markdown",
      "source": [
        "# How many models for grid search?\n",
        "How many models will be built when the cross-validator below is fit to data?"
      ],
      "metadata": {
        "id": "w7eI8RBH6Dmv"
      }
    },
    {
      "cell_type": "code",
      "source": [
        "params = ParamGridBuilder().addGrid(hasher.numFeatures, [1024, 4096, 16384]) \\\n",
        "                           .addGrid(hasher.binary, [True, False]) \\\n",
        "                           .addGrid(logistic.regParam, [0.01, 0.1, 1.0, 10.0]) \\\n",
        "                           .addGrid(logistic.elasticNetParam, [0.0, 0.5, 1.0]) \\\n",
        "                           .build()\n",
        "cv = CrossValidator(estimator= logistic, estimatorParamMaps=params, numFolds=5)\n",
        "\n",
        "# Correct! There are 72 points in the parameter grid and 5 folds in the cross-validator. \n",
        "# The product is 360. It takes time to build all of those models, which is why you're not doing it here!"
      ],
      "metadata": {
        "id": "rxJB7jnk5_CB"
      },
      "execution_count": 104,
      "outputs": []
    },
    {
      "cell_type": "markdown",
      "source": [
        "# Delayed flights with Gradient-Boosted Trees\n",
        "You've previously built a classifier for flights likely to be delayed using a Decision Tree. In this exercise you'll compare a Decision Tree model to a Gradient-Boosted Trees model.\n",
        "\n",
        "The flights data have been randomly split into flights_train and flights_test."
      ],
      "metadata": {
        "id": "tQyoPISQ6ZcG"
      }
    },
    {
      "cell_type": "code",
      "source": [
        "# Read data from CSV file\n",
        "flights = spark.read.csv('flights.csv',\n",
        "                         sep=',',\n",
        "                         header=True,\n",
        "                         inferSchema=True,\n",
        "                         nullValue='NA')\n",
        "\n",
        "# Remove records with missing values in any column and get the number of remaining rows\n",
        "flights_none_missing = flights_valid_delay.dropna()\n",
        "print(flights_none_missing.count())\n",
        "flights= flights_none_missing\n",
        "\n",
        "# Convert 'mile' to 'km' and drop 'mile' column (1 mile is equivalent to 1.60934 km)\n",
        "flights_km = flights.withColumn('km', round(flights.mile * 1.60934, 0)) \\\n",
        "                    .drop('mile')\n",
        "\n",
        "# Create 'label' column indicating whether flight delayed (1) or not (0)\n",
        "flights_km = flights_km.withColumn('label', (flights_km.delay >= 15).cast('integer'))\n",
        "\n",
        "# Check first five records\n",
        "flights=flights_km\n",
        "\n",
        "assembler = VectorAssembler(inputCols=[\n",
        "    'mon', 'depart', 'duration'], outputCol='features')\n",
        "# Consolidate predictor columns\n",
        "flights_assembled = assembler.transform(flights)\n",
        "flights= flights_assembled\n",
        "flights= flights.select('mon', 'depart', 'duration', 'features', 'label')\n",
        "flights.show(1)\n",
        "flights_train, flights_test= flights.randomSplit([0.8, 0.2], seed=43)"
      ],
      "metadata": {
        "colab": {
          "base_uri": "https://localhost:8080/"
        },
        "id": "n5LNrOZb6IdH",
        "outputId": "c13713ec-4f1c-4f7d-8958-9142722c1524"
      },
      "execution_count": 114,
      "outputs": [
        {
          "output_type": "stream",
          "name": "stdout",
          "text": [
            "47022\n",
            "+---+------+--------+----------------+-----+\n",
            "|mon|depart|duration|        features|label|\n",
            "+---+------+--------+----------------+-----+\n",
            "|  0| 16.33|      82|[0.0,16.33,82.0]|    1|\n",
            "+---+------+--------+----------------+-----+\n",
            "only showing top 1 row\n",
            "\n"
          ]
        }
      ]
    },
    {
      "cell_type": "code",
      "source": [
        "# Import the classes required\n",
        "from pyspark.ml.classification import DecisionTreeClassifier, GBTClassifier\n",
        "from pyspark.ml.evaluation import BinaryClassificationEvaluator\n",
        "\n",
        "# Create model objects and train on training data\n",
        "tree = DecisionTreeClassifier().fit(flights_train)\n",
        "gbt = GBTClassifier().fit(flights_train)\n",
        "\n",
        "# Compare AUC on testing data\n",
        "evaluator = BinaryClassificationEvaluator()\n",
        "print(evaluator.evaluate(tree.transform(flights_test)))\n",
        "print(evaluator.evaluate(gbt.transform(flights_test)))\n",
        "\n",
        "# Find the number of trees and the relative importance of features\n",
        "print(gbt.trees)\n",
        "print(gbt.featureImportances)\n",
        "\n",
        "print(\"\\nGood job! A Gradient-Boosted Tree almost always provides better performance than a plain Decision Tree.\")"
      ],
      "metadata": {
        "colab": {
          "base_uri": "https://localhost:8080/"
        },
        "id": "HBhENhkB97TL",
        "outputId": "d31845d5-8458-4526-f1b6-49b4eadd56e4"
      },
      "execution_count": 115,
      "outputs": [
        {
          "output_type": "stream",
          "name": "stdout",
          "text": [
            "0.6361513592076004\n",
            "0.6791667618213177\n",
            "[DecisionTreeRegressionModel: uid=dtr_fd2753017b68, depth=5, numNodes=63, numFeatures=3, DecisionTreeRegressionModel: uid=dtr_941d9a1843a2, depth=5, numNodes=63, numFeatures=3, DecisionTreeRegressionModel: uid=dtr_2eaf093f080c, depth=5, numNodes=63, numFeatures=3, DecisionTreeRegressionModel: uid=dtr_23d5e72af3e5, depth=5, numNodes=63, numFeatures=3, DecisionTreeRegressionModel: uid=dtr_6cff2a231e98, depth=5, numNodes=63, numFeatures=3, DecisionTreeRegressionModel: uid=dtr_9841fc4c857f, depth=5, numNodes=63, numFeatures=3, DecisionTreeRegressionModel: uid=dtr_4b5e56beda12, depth=5, numNodes=63, numFeatures=3, DecisionTreeRegressionModel: uid=dtr_b8429c05166f, depth=5, numNodes=63, numFeatures=3, DecisionTreeRegressionModel: uid=dtr_823ef345e2c2, depth=5, numNodes=63, numFeatures=3, DecisionTreeRegressionModel: uid=dtr_2a5f1c7d006d, depth=5, numNodes=63, numFeatures=3, DecisionTreeRegressionModel: uid=dtr_adc0daeb80a1, depth=5, numNodes=63, numFeatures=3, DecisionTreeRegressionModel: uid=dtr_26f7c2cfe8e5, depth=5, numNodes=63, numFeatures=3, DecisionTreeRegressionModel: uid=dtr_06124fdddba4, depth=5, numNodes=63, numFeatures=3, DecisionTreeRegressionModel: uid=dtr_e8caeb92bb5a, depth=5, numNodes=63, numFeatures=3, DecisionTreeRegressionModel: uid=dtr_b09eedebba42, depth=5, numNodes=63, numFeatures=3, DecisionTreeRegressionModel: uid=dtr_122b25105840, depth=5, numNodes=63, numFeatures=3, DecisionTreeRegressionModel: uid=dtr_6822eac8cb84, depth=5, numNodes=63, numFeatures=3, DecisionTreeRegressionModel: uid=dtr_ea4bc31b6c01, depth=5, numNodes=63, numFeatures=3, DecisionTreeRegressionModel: uid=dtr_28bd92642696, depth=5, numNodes=63, numFeatures=3, DecisionTreeRegressionModel: uid=dtr_b37d2a0306a8, depth=5, numNodes=63, numFeatures=3]\n",
            "(3,[0,1,2],[0.3396008848044385,0.3165809646200044,0.3438181505755571])\n",
            "\n",
            "Good job! A Gradient-Boosted Tree almost always provides better performance than a plain Decision Tree.\n"
          ]
        }
      ]
    },
    {
      "cell_type": "markdown",
      "source": [
        "# Delayed flights with a Random Forest\n",
        "In this exercise you'll bring together cross validation and ensemble methods. You'll be training a Random Forest classifier to predict delayed flights, using cross validation to choose the best values for model parameters.\n",
        "\n",
        "You'll find good values for the following parameters:\n",
        "\n",
        "featureSubsetStrategy — the number of features to consider for splitting at each node and\n",
        "\n",
        "maxDepth — the maximum number of splits along any branch.\n",
        "\n",
        "Unfortunately building this model takes too long, so we won't be running the .fit() method on the pipeline."
      ],
      "metadata": {
        "id": "U3aILcUg_S6_"
      }
    },
    {
      "cell_type": "code",
      "source": [
        "from pyspark.ml.classification import RandomForestClassifier\n",
        "# Create a random forest classifier\n",
        "forest = RandomForestClassifier()\n",
        "\n",
        "# Create a parameter grid\n",
        "params = ParamGridBuilder() \\\n",
        "            .addGrid(forest.featureSubsetStrategy, ['all', 'onethird', 'sqrt', 'log2']) \\\n",
        "            .addGrid(forest.maxDepth, [2, 5, 10]) \\\n",
        "            .build()\n",
        "\n",
        "# Create a binary classification evaluator\n",
        "evaluator = BinaryClassificationEvaluator()\n",
        "\n",
        "# Create a cross-validator\n",
        "cv = CrossValidator(estimator=forest, estimatorParamMaps=params, evaluator=evaluator, numFolds=5)"
      ],
      "metadata": {
        "id": "bJxWTOpm_K6m"
      },
      "execution_count": 118,
      "outputs": []
    },
    {
      "cell_type": "markdown",
      "source": [
        "# Evaluating Random Forest\n",
        "In this final exercise you'll be evaluating the results of cross-validation on a Random Forest model.\n",
        "\n",
        "The following have already been created:\n",
        "\n",
        "cv - a cross-validator which has already been fit to the training data\n",
        "\n",
        "evaluator — a BinaryClassificationEvaluator object and\n",
        "\n",
        "flights_test — the testing data."
      ],
      "metadata": {
        "id": "Qn855jbEAITn"
      }
    },
    {
      "cell_type": "code",
      "source": [
        "cv.fit(flights_train)\n",
        "# Average AUC for each parameter combination in grid\n",
        "print(cv.avgMetrics)\n",
        "\n",
        "# Average AUC for the best model\n",
        "print(max(cv.avgMetrics))\n",
        "\n",
        "# What's the optimal parameter value for maxDepth?\n",
        "print(cv.bestModel.explainParam('maxDepth'))\n",
        "# What's the optimal parameter value for featureSubsetStrategy?\n",
        "print(cv.bestModel.explainParam('featureSubsetStrategy'))\n",
        "\n",
        "# AUC for best model on testing data\n",
        "print(evaluator.evaluate(cv.transform(flights_test)))\n",
        "\n",
        "print(\"\\nFantastic! Optimized Random Forest > Random Forest > Decision Tree\")"
      ],
      "metadata": {
        "id": "dekrUX2ZAWgt"
      },
      "execution_count": null,
      "outputs": []
    },
    {
      "cell_type": "code",
      "source": [],
      "metadata": {
        "id": "qjTeejeIBb8Q"
      },
      "execution_count": null,
      "outputs": []
    }
  ]
}