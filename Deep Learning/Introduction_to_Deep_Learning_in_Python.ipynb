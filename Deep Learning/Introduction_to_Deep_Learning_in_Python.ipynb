{
  "nbformat": 4,
  "nbformat_minor": 0,
  "metadata": {
    "colab": {
      "provenance": [],
      "collapsed_sections": []
    },
    "kernelspec": {
      "name": "python3",
      "display_name": "Python 3"
    },
    "language_info": {
      "name": "python"
    }
  },
  "cells": [
    {
      "cell_type": "markdown",
      "source": [
        "#Steps\n",
        "### 1. Import Packages\n",
        "### 2. get X(features) and y(target).  y= to_categorical(df.column)\n",
        "### 3. get ncols/input_shape X.shape[1]\n",
        "### 4. Create model (model= Sequential())\n",
        "### 5. Create Dense layers (model.add(keras.layers.Dense(50, activation='relu', input_shape=input_shape)\n",
        "### 6. Compile model  (model.compile(optimizer='adam', loss='categorical_crossentropy', metrics=['accuracy'])\n",
        "### 7. Fit model. (model.fit(X,y, epochs=20, validation_split=.30))"
      ],
      "metadata": {
        "id": "IVmB2H3VsiIW"
      }
    },
    {
      "cell_type": "markdown",
      "source": [
        "# Course Description \n",
        "Deep learning is the machine learning technique behind the most exciting capabilities in diverse areas like robotics, natural language processing, image recognition, and artificial intelligence, including the famous AlphaGo. In this course, you'll gain hands-on, practical knowledge of how to use deep learning with Keras 2.0, the latest version of a cutting-edge library for deep learning in Python."
      ],
      "metadata": {
        "id": "Yt2EtTgP4UmK"
      }
    },
    {
      "cell_type": "markdown",
      "source": [
        "# Coding the forward propagation algorithm\n",
        "In this exercise, you'll write code to do forward propagation (prediction) for your first neural network:\n",
        "\n",
        "Each data point is a customer. The first input is how many accounts they have, and the second input is how many children they have. The model will predict how many transactions the user makes in the next year. You will use this data throughout the first 2 chapters of this course.\n",
        "\n",
        "The input data has been pre-loaded as input_data, and the weights are available in a dictionary called weights. The array of weights for the first node in the hidden layer are in weights['node_0'], and the array of weights for the second node in the hidden layer are in weights['node_1'].\n",
        "\n",
        "The weights feeding into the output node are available in weights['output'].\n",
        "\n",
        "NumPy will be pre-imported for you as np in all exercises."
      ],
      "metadata": {
        "id": "Zsf_N8IpREv0"
      }
    },
    {
      "cell_type": "code",
      "source": [
        "import numpy as np\n",
        "import pandas as pd\n",
        "input_data= np.array([3, 5])\n",
        "weights= {'node_0': np.array([2, 4]), 'node_1': np.array([ 4, -5]), 'output': np.array([2, 7])}"
      ],
      "metadata": {
        "id": "ReQObDuJ4VlQ"
      },
      "execution_count": 2,
      "outputs": []
    },
    {
      "cell_type": "code",
      "source": [
        "# Calculate node 0 value: node_0_value\n",
        "node_0_value = (input_data * weights['node_0']).sum()\n",
        "\n",
        "# Calculate node 1 value: node_1_value\n",
        "node_1_value = (input_data * weights['node_1']).sum()\n",
        "\n",
        "# Put node values into array: hidden_layer_outputs\n",
        "hidden_layer_outputs = np.array([node_0_value, node_1_value])\n",
        "\n",
        "# Calculate output: output\n",
        "output = np.array(hidden_layer_outputs * weights['output']).sum()\n",
        "\n",
        "# Print output\n",
        "print(output)\n"
      ],
      "metadata": {
        "colab": {
          "base_uri": "https://localhost:8080/"
        },
        "id": "eWOeivVXRPeq",
        "outputId": "89ddd253-07bc-45c2-c818-c91fee92884e"
      },
      "execution_count": 3,
      "outputs": [
        {
          "output_type": "stream",
          "name": "stdout",
          "text": [
            "-39\n"
          ]
        }
      ]
    },
    {
      "cell_type": "markdown",
      "source": [
        "# The Rectified Linear Activation Function\n",
        "As Dan explained to you in the video, an \"activation function\" is a function applied at each node. It converts the node's input into some output.\n",
        "\n",
        "The rectified linear activation function (called ReLU) has been shown to lead to very high-performance networks. This function takes a single number as an input, returning 0 if the input is negative, and the input if the input is positive.\n",
        "\n",
        "Here are some examples:\n",
        "relu(3) = 3\n",
        "relu(-3) = 0"
      ],
      "metadata": {
        "id": "cL6dc6dGUCqx"
      }
    },
    {
      "cell_type": "code",
      "source": [
        "def relu(input):\n",
        "    '''Define your relu activation function here'''\n",
        "    # Calculate the value for the output of the relu function: output\n",
        "    output = max(0, input)\n",
        "    \n",
        "    # Return the value just calculated\n",
        "    return(output)\n",
        "\n",
        "# Calculate node 0 value: node_0_output\n",
        "node_0_input = (input_data * weights['node_0']).sum()\n",
        "node_0_output = relu(node_0_input)\n",
        "\n",
        "# Calculate node 1 value: node_1_output\n",
        "node_1_input = (input_data * weights['node_1']).sum()\n",
        "node_1_output = relu(node_1_input)\n",
        "\n",
        "# Put node values into array: hidden_layer_outputs\n",
        "hidden_layer_outputs = np.array([node_0_output, node_1_output])\n",
        "\n",
        "# Calculate model output (do not apply relu)\n",
        "model_output = (hidden_layer_outputs * weights['output']).sum()\n",
        "\n",
        "# Print model output\n",
        "print(model_output)"
      ],
      "metadata": {
        "colab": {
          "base_uri": "https://localhost:8080/"
        },
        "id": "Z4AU6fuuSQkj",
        "outputId": "c4828f4f-f127-40f8-a519-11398fd48e85"
      },
      "execution_count": 4,
      "outputs": [
        {
          "output_type": "stream",
          "name": "stdout",
          "text": [
            "52\n"
          ]
        }
      ]
    },
    {
      "cell_type": "markdown",
      "source": [
        "# Applying the network to many observations/rows of data\n",
        "You'll now define a function called predict_with_network() which will generate predictions for multiple data observations, which are pre-loaded as input_data. As before, weights are also pre-loaded. In addition, the relu() function you defined in the previous exercise has been pre-loaded."
      ],
      "metadata": {
        "id": "nEBIyWpiUmI6"
      }
    },
    {
      "cell_type": "code",
      "source": [
        "input_data= [np.array([3,5]), np.array([1,-1]), np.array([0,0]), np.array([8,4])]"
      ],
      "metadata": {
        "id": "NJFMRgfjUe-f"
      },
      "execution_count": 5,
      "outputs": []
    },
    {
      "cell_type": "code",
      "source": [
        "# Define predict_with_network()\n",
        "def predict_with_network(input_data_row, weights):\n",
        "\n",
        "    # Calculate node 0 value\n",
        "    node_0_input = (input_data_row * weights['node_0']).sum()\n",
        "    node_0_output = relu(node_0_input)\n",
        "\n",
        "    # Calculate node 1 value\n",
        "    node_1_input = (input_data_row * weights['node_1']).sum()\n",
        "    node_1_output = relu(node_1_input)\n",
        "\n",
        "    # Put node values into array: hidden_layer_outputs\n",
        "    hidden_layer_outputs = np.array([node_0_output, node_1_output])\n",
        "    \n",
        "    # Calculate model output\n",
        "    input_to_final_layer = (hidden_layer_outputs * weights['output']).sum()\n",
        "    model_output = relu(input_to_final_layer)\n",
        "    \n",
        "    # Return model output\n",
        "    return(model_output)\n",
        "\n",
        "\n",
        "# Create empty list to store prediction results\n",
        "results = []\n",
        "for input_data_row in input_data:\n",
        "    # Append prediction to results\n",
        "    results.append(predict_with_network(input_data_row, weights))\n",
        "\n",
        "# Print results\n",
        "print(results)\n",
        "        "
      ],
      "metadata": {
        "colab": {
          "base_uri": "https://localhost:8080/"
        },
        "id": "YULHxd7AU1bQ",
        "outputId": "570745c5-c666-4e6f-efd2-d998c7f02c24"
      },
      "execution_count": 6,
      "outputs": [
        {
          "output_type": "stream",
          "name": "stdout",
          "text": [
            "[52, 63, 0, 148]\n"
          ]
        }
      ]
    },
    {
      "cell_type": "markdown",
      "source": [
        "# Multi-layer neural networks\n",
        "In this exercise, you'll write code to do forward propagation for a neural network with 2 hidden layers. Each hidden layer has two nodes. The input data has been preloaded as input_data. The nodes in the first hidden layer are called node_0_0 and node_0_1. Their weights are pre-loaded as weights['node_0_0'] and weights['node_0_1'] respectively.\n",
        "\n",
        "The nodes in the second hidden layer are called node_1_0 and node_1_1. Their weights are pre-loaded as weights['node_1_0'] and weights['node_1_1'] respectively.\n",
        "\n",
        "We then create a model output from the hidden nodes using weights pre-loaded as weights['output']."
      ],
      "metadata": {
        "id": "y0ZcN0o8Zduw"
      }
    },
    {
      "cell_type": "code",
      "source": [
        "input_data= np.array([3,5])\n",
        "weights= {'node_0_0': np.array([2, 4]),\n",
        " 'node_0_1': np.array([ 4, -5]),\n",
        " 'node_1_0': np.array([-1,  2]),\n",
        " 'node_1_1': np.array([1, 2]),\n",
        " 'output': np.array([2, 7])}"
      ],
      "metadata": {
        "id": "8ag8Z4LVZeuq"
      },
      "execution_count": 7,
      "outputs": []
    },
    {
      "cell_type": "code",
      "source": [
        "def predict_with_network(input_data):\n",
        "    # Calculate node 0 in the first hidden layer\n",
        "    node_0_0_input = (input_data * weights['node_0_0']).sum()\n",
        "    node_0_0_output = relu(node_0_0_input)\n",
        "\n",
        "    # Calculate node 1 in the first hidden layer\n",
        "    node_0_1_input = (input_data * weights['node_0_1']).sum()\n",
        "    node_0_1_output = relu(node_0_1_input)\n",
        "\n",
        "    # Put node values into array: hidden_0_outputs\n",
        "    hidden_0_outputs = np.array([node_0_0_output, node_0_1_output])\n",
        "\n",
        "    # Calculate node 0 in the second hidden layer\n",
        "    node_1_0_input = (hidden_0_outputs * weights['node_1_0']).sum()\n",
        "    node_1_0_output = relu(node_1_0_input)\n",
        "\n",
        "    # Calculate node 1 in the second hidden layer\n",
        "    node_1_1_input = (hidden_0_outputs * weights['node_1_1']).sum()\n",
        "    node_1_1_output = relu(node_1_1_input)\n",
        "\n",
        "    # Put node values into array: hidden_1_outputs\n",
        "    hidden_1_outputs = np.array([node_1_0_output, node_1_1_output])\n",
        "    \n",
        "    # Calculate output here: model_output\n",
        "    model_output = (hidden_1_outputs * weights['output']).sum()\n",
        "    \n",
        "    # Return model_output\n",
        "    return(model_output)\n",
        "\n",
        "output = predict_with_network(input_data)\n",
        "print(output)\n"
      ],
      "metadata": {
        "colab": {
          "base_uri": "https://localhost:8080/"
        },
        "id": "mb2INskSaJIE",
        "outputId": "23136151-c54c-4582-ff5e-50e4d9680897"
      },
      "execution_count": 8,
      "outputs": [
        {
          "output_type": "stream",
          "name": "stdout",
          "text": [
            "182\n"
          ]
        }
      ]
    },
    {
      "cell_type": "markdown",
      "source": [
        "# Representations are learned\n",
        "How are the weights that determine the features/interactions in Neural Networks created?\n",
        "\n",
        "The model training process sets them to optimize predictive accuracy."
      ],
      "metadata": {
        "id": "g8OmGCXNcFZ8"
      }
    },
    {
      "cell_type": "markdown",
      "source": [
        "# Levels of representation\n",
        "Which layers of a model capture more complex or \"higher level\" interactions?\n",
        "\n",
        "The last layers capture the most complex interactions.\n"
      ],
      "metadata": {
        "id": "i7QC52jfcKSK"
      }
    },
    {
      "cell_type": "markdown",
      "source": [
        "# Coding how weight changes affect accuracy\n",
        "Now you'll get to change weights in a real network and see how they affect model accuracy!\n",
        "\n",
        "\n",
        "Its weights have been pre-loaded as weights_0. Your task in this exercise is to update a single weight in weights_0 to create weights_1, which gives a perfect prediction (in which the predicted value is equal to target_actual: 3).\n",
        "\n",
        "Use a pen and paper if necessary to experiment with different combinations. You'll use the predict_with_network() function, which takes an array of data as the first argument, and weights as the second argument."
      ],
      "metadata": {
        "id": "Zag1xLk1epZ_"
      }
    },
    {
      "cell_type": "code",
      "source": [
        "def predict_with_network(input_data_point, weights):  \n",
        "  node_0_input = (input_data_point * weights['node_0']).sum()   \n",
        "  node_0_output = relu(node_0_input)  \n",
        "  node_1_input = (input_data_point * weights['node_1']).sum()    \n",
        "  node_1_output = relu(node_1_input)  \n",
        "  hidden_layer_values = np.array([node_0_output, node_1_output])   \n",
        "  input_to_final_layer = (hidden_layer_values * weights['output']).sum()   \n",
        "  model_output = relu(input_to_final_layer)   \n",
        "  return(model_output)"
      ],
      "metadata": {
        "id": "6KAFnynzfl1a"
      },
      "execution_count": 9,
      "outputs": []
    },
    {
      "cell_type": "code",
      "source": [
        "# The data point you will make a prediction for\n",
        "input_data = np.array([0, 3])\n",
        "\n",
        "# Sample weights\n",
        "weights_0 = {'node_0': [2, 1],\n",
        "             'node_1': [1, 2],\n",
        "             'output': [1, 1]\n",
        "            }\n",
        "\n",
        "# The actual target value, used to calculate the error\n",
        "target_actual = 3\n",
        "\n",
        "# Make prediction using original weights\n",
        "model_output_0 = predict_with_network(input_data, weights_0)\n",
        "\n",
        "# Calculate error: error_0\n",
        "error_0 = model_output_0 - target_actual\n",
        "\n",
        "# Create weights that cause the network to make perfect prediction (3): weights_1\n",
        "weights_1 = {'node_0': [2, 1],\n",
        "             'node_1': [1, 2],\n",
        "             'output': [1, 0]\n",
        "            }\n",
        "\n",
        "# Make prediction using new weights: model_output_1\n",
        "model_output_1 = predict_with_network(input_data, weights_1)\n",
        "\n",
        "# Calculate error: error_1\n",
        "error_1 = model_output_1 - target_actual\n",
        "\n",
        "# Print error_0 and error_1\n",
        "print(error_0)\n",
        "print(error_1)\n"
      ],
      "metadata": {
        "colab": {
          "base_uri": "https://localhost:8080/"
        },
        "id": "IZxrk7Xwb6Lo",
        "outputId": "c5cca55f-1878-447c-939a-06847a10b08a"
      },
      "execution_count": 10,
      "outputs": [
        {
          "output_type": "stream",
          "name": "stdout",
          "text": [
            "6\n",
            "0\n"
          ]
        }
      ]
    },
    {
      "cell_type": "markdown",
      "source": [
        "# Scaling up to multiple data points\n",
        "You've seen how different weights will have different accuracies on a single prediction. But usually, you'll want to measure model accuracy on many points. You'll now write code to compare model accuracies for two different sets of weights, which have been stored as weights_0 and weights_1.\n",
        "\n",
        "input_data is a list of arrays. Each item in that list contains the data to make a single prediction. target_actuals is a list of numbers. Each item in that list is the actual value we are trying to predict.\n",
        "\n",
        "In this exercise, you'll use the mean_squared_error() function from sklearn.metrics. It takes the true values and the predicted values as arguments.\n",
        "\n",
        "You'll also use the preloaded predict_with_network() function, which takes an array of data as the first argument, and weights as the second argument."
      ],
      "metadata": {
        "id": "RstkFF3_f2Vf"
      }
    },
    {
      "cell_type": "code",
      "source": [
        "input_data= [np.array([0, 3]), np.array([1, 2]), np.array([-1, -2]), np.array([4, 0])]\n",
        "weights_0= {'node_0': np.array([2, 1]), 'node_1': np.array([1, 2]), 'output': np.array([1, 1])}\n",
        "weights_1= {'node_0': np.array([2, 1]),\n",
        " 'node_1': np.array([1. , 1.5]),\n",
        " 'output': np.array([1. , 1.5])}\n",
        "target_actuals= [1, 3, 5, 7]"
      ],
      "metadata": {
        "id": "f5aSe0Xpfdnp"
      },
      "execution_count": 11,
      "outputs": []
    },
    {
      "cell_type": "code",
      "source": [
        "from sklearn.metrics import mean_squared_error\n",
        "\n",
        "# Create model_output_0 \n",
        "model_output_0 = []\n",
        "# Create model_output_1\n",
        "model_output_1 = []\n",
        "\n",
        "# Loop over input_data\n",
        "for row in input_data:\n",
        "    # Append prediction to model_output_0\n",
        "    model_output_0.append(predict_with_network(row, weights_0))\n",
        "    \n",
        "    # Append prediction to model_output_1\n",
        "    model_output_1.append(predict_with_network(row, weights_1))\n",
        "\n",
        "# Calculate the mean squared error for model_output_0: mse_0\n",
        "mse_0 = mean_squared_error(target_actuals, model_output_0)\n",
        "\n",
        "# Calculate the mean squared error for model_output_1: mse_1\n",
        "mse_1 = mean_squared_error(target_actuals, model_output_1)\n",
        "\n",
        "# Print mse_0 and mse_1\n",
        "print(\"Mean squared error with weights_0: %f\" %mse_0)\n",
        "print(\"Mean squared error with weights_1: %f\" %mse_1)\n"
      ],
      "metadata": {
        "colab": {
          "base_uri": "https://localhost:8080/"
        },
        "id": "F0hjqfeygTz8",
        "outputId": "0d153b46-83dc-42bc-856a-9632c5d31e0d"
      },
      "execution_count": 12,
      "outputs": [
        {
          "output_type": "stream",
          "name": "stdout",
          "text": [
            "Mean squared error with weights_0: 37.500000\n",
            "Mean squared error with weights_1: 49.890625\n"
          ]
        }
      ]
    },
    {
      "cell_type": "markdown",
      "source": [
        "# Calculating slopes\n",
        "You're now going to practice calculating slopes. When plotting the mean-squared error loss function against predictions, the slope is 2 * x * (xb-y), or 2 * input_data * error. Note that x and b may have multiple numbers (x is a vector for each data point, and b is a vector). In this case, the output will also be a vector, which is exactly what you want.\n",
        "\n",
        "You're ready to write the code to calculate this slope while using a single data point. You'll use pre-defined weights called weights as well as data for a single point called input_data. The actual value of the target you want to predict is stored in target."
      ],
      "metadata": {
        "id": "fVI6LHPUdm7W"
      }
    },
    {
      "cell_type": "code",
      "source": [
        "weights= np.array([0,2,1])\n",
        "input_data= np.array([1, 2, 3])\n",
        "target=0"
      ],
      "metadata": {
        "id": "ZfeHgrxigqnV"
      },
      "execution_count": 13,
      "outputs": []
    },
    {
      "cell_type": "code",
      "source": [
        "# Calculate the predictions: preds\n",
        "preds = (input_data * weights).sum()\n",
        "\n",
        "# Calculate the error: error\n",
        "error = preds - target\n",
        "\n",
        "# Calculate the slope: slope\n",
        "slope = input_data * error * 2\n",
        "\n",
        "# Print the slope\n",
        "print(slope)\n"
      ],
      "metadata": {
        "colab": {
          "base_uri": "https://localhost:8080/"
        },
        "id": "zZ6SenKUfGEu",
        "outputId": "a8b7a231-71a4-4785-dae4-e86062d80ce3"
      },
      "execution_count": 14,
      "outputs": [
        {
          "output_type": "stream",
          "name": "stdout",
          "text": [
            "[14 28 42]\n"
          ]
        }
      ]
    },
    {
      "cell_type": "markdown",
      "source": [
        "# Improving model weights\n",
        "Hurray! You've just calculated the slopes you need. Now it's time to use those slopes to improve your model. If you add the slopes to your weights, you will move in the right direction. However, it's possible to move too far in that direction. So you will want to take a small step in that direction first, using a lower learning rate, and verify that the model is improving.\n",
        "\n",
        "The weights have been pre-loaded as weights, the actual value of the target as target, and the input data as input_data. The predictions from the initial weights are stored as preds."
      ],
      "metadata": {
        "id": "8cW5XdrpfZuC"
      }
    },
    {
      "cell_type": "code",
      "source": [
        "# Set the learning rate: learning_rate\n",
        "learning_rate = 0.01\n",
        "\n",
        "# Calculate the predictions: preds\n",
        "preds = (weights * input_data).sum()\n",
        "\n",
        "# Calculate the error: error\n",
        "error = preds - target\n",
        "\n",
        "# Calculate the slope: slope\n",
        "slope = 2 * input_data * error\n",
        "\n",
        "# Update the weights: weights_updated\n",
        "weights_updated = weights- (learning_rate * slope)\n",
        "\n",
        "# Get updated predictions: preds_updated\n",
        "preds_updated = (input_data * weights_updated).sum()\n",
        "\n",
        "# Calculate updated error: error_updated\n",
        "error_updated = preds_updated - target\n",
        "\n",
        "# Print the original error\n",
        "print(error)\n",
        "\n",
        "# Print the updated error\n",
        "print(error_updated)\n",
        "\n",
        "#updatting the model decrease the error "
      ],
      "metadata": {
        "colab": {
          "base_uri": "https://localhost:8080/"
        },
        "id": "SE1qhXNkfXhM",
        "outputId": "dd9670b6-30fa-402e-cb1d-27bbfaf915c4"
      },
      "execution_count": 15,
      "outputs": [
        {
          "output_type": "stream",
          "name": "stdout",
          "text": [
            "7\n",
            "5.04\n"
          ]
        }
      ]
    },
    {
      "cell_type": "markdown",
      "source": [
        "# Making multiple updates to weights\n",
        "You're now going to make multiple updates so you can dramatically improve your model weights, and see how the predictions improve with each update.\n",
        "\n",
        "To keep your code clean, there is a pre-loaded get_slope() function that takes input_data, target, and weights as arguments. There is also a get_mse() function that takes the same arguments. The input_data, target, and weights have been pre-loaded.\n",
        "\n",
        "This network does not have any hidden layers, and it goes directly from the input (with 3 nodes) to an output node. Note that weights is a single array.\n",
        "\n",
        "We have also pre-loaded matplotlib.pyplot, and the error history will be plotted after you have done your gradient descent steps."
      ],
      "metadata": {
        "id": "YEUiXgOwf5Sl"
      }
    },
    {
      "cell_type": "code",
      "source": [
        "def get_error(input_data, target, weights):\n",
        "  preds = (weights * input_data).sum()\n",
        "  error = preds - target\n",
        "  return(error)\n",
        "\n",
        "def get_slope(input_data, target, weights):\n",
        "  error = get_error(input_data, target, weights)\n",
        "  slope = 2 * input_data * error\n",
        "  return(slope)\n",
        "\n",
        "def get_mse(input_data, target, weights):\n",
        "  errors = get_error(input_data, target, weights)\n",
        "  mse = np.mean(errors**2)   \n",
        "  return(mse)\n",
        "\n",
        "import matplotlib.pyplot as plt"
      ],
      "metadata": {
        "id": "irci0YJffzua"
      },
      "execution_count": 16,
      "outputs": []
    },
    {
      "cell_type": "code",
      "source": [
        "n_updates = 20\n",
        "mse_hist = []\n",
        "\n",
        "# Iterate over the number of updates\n",
        "for i in range(n_updates):\n",
        "    # Calculate the slope: slope\n",
        "    slope = get_slope(input_data, target, weights)\n",
        "    \n",
        "    # Update the weights: weights\n",
        "    weights = weights - 0.01 * slope\n",
        "    \n",
        "    # Calculate mse with new weights: mse\n",
        "    mse = get_mse(input_data, target, weights)\n",
        "    \n",
        "    # Append the mse to mse_hist\n",
        "    mse_hist.append(mse)\n",
        "\n",
        "# Plot the mse history\n",
        "plt.plot(mse_hist)\n",
        "plt.xlabel('Iterations')\n",
        "plt.ylabel('Mean Squared Error')\n",
        "plt.show()\n"
      ],
      "metadata": {
        "colab": {
          "base_uri": "https://localhost:8080/",
          "height": 279
        },
        "id": "yOEuwTgZgUp5",
        "outputId": "9ef8a890-97b7-4ff8-f5b3-eba566df9b2c"
      },
      "execution_count": 17,
      "outputs": [
        {
          "output_type": "display_data",
          "data": {
            "text/plain": [
              "<Figure size 432x288 with 1 Axes>"
            ],
            "image/png": "[encoded data removed]"
          },
          "metadata": {
            "needs_background": "light"
          }
        }
      ]
    },
    {
      "cell_type": "markdown",
      "source": [
        "# The relationship between forward and backward propagation\n",
        "If you have gone through 4 iterations of calculating slopes (using backward propagation) and then updated weights, how many times must you have done forward propagation?\n",
        "\n",
        "4, Each time you generate predictions using forward propagation, you update the weights using backward propagation."
      ],
      "metadata": {
        "id": "mYtnQNb2hMI3"
      }
    },
    {
      "cell_type": "markdown",
      "source": [
        "# Thinking about backward propagation\n",
        "If your predictions were all exactly right, and your errors were all exactly 0, the slope of the loss function with respect to your predictions would also be 0. In that circumstance, which of the following statements would be correct?\n",
        "\n",
        "In this situation, the updates to all weights in the network would indeed also be 0"
      ],
      "metadata": {
        "id": "cNEnS02FiKsa"
      }
    },
    {
      "cell_type": "markdown",
      "source": [
        "# Specifying a model\n",
        "Now you'll get to work with your first model in Keras, and will immediately be able to run more complex neural network models on larger datasets compared to the first two chapters.\n",
        "\n",
        "To start, you'll take the skeleton of a neural network and add a hidden layer and an output layer. You'll then fit that model and see Keras do the optimization so your model continually gets better.\n",
        "\n",
        "As a start, you'll predict workers wages based on characteristics like their industry, education and level of experience. You can find the dataset in a pandas dataframe called df. For convenience, everything in df except for the target has been converted to a NumPy matrix called predictors. The target, wage_per_hour, is available as a NumPy matrix called target.\n",
        "\n",
        "For all exercises in this chapter, we've imported the Sequential model constructor, the Dense layer constructor, and pandas."
      ],
      "metadata": {
        "id": "Wdl2BuSOigAF"
      }
    },
    {
      "cell_type": "code",
      "source": [
        "df= pd.read_csv('https://assets.datacamp.com/production/repositories/654/datasets/8a57adcdb5bfb3e603dad7d3c61682dfe63082b8/hourly_wages.csv')\n",
        "print(df.head())\n",
        "target= np.array(df.wage_per_hour, np.float32)\n",
        "predictors= np.array(df.drop('wage_per_hour', axis=1), np.float32)"
      ],
      "metadata": {
        "colab": {
          "base_uri": "https://localhost:8080/"
        },
        "id": "UhfhHUgVgwae",
        "outputId": "cbb3801b-7659-4c0f-f777-974ab7565ff1"
      },
      "execution_count": 21,
      "outputs": [
        {
          "output_type": "stream",
          "name": "stdout",
          "text": [
            "   wage_per_hour  union  education_yrs  experience_yrs  age  female  marr  \\\n",
            "0           5.10      0              8              21   35       1     1   \n",
            "1           4.95      0              9              42   57       1     1   \n",
            "2           6.67      0             12               1   19       0     0   \n",
            "3           4.00      0             12               4   22       0     0   \n",
            "4           7.50      0             12              17   35       0     1   \n",
            "\n",
            "   south  manufacturing  construction  \n",
            "0      0              1             0  \n",
            "1      0              1             0  \n",
            "2      0              1             0  \n",
            "3      0              0             0  \n",
            "4      0              0             0  \n"
          ]
        }
      ]
    },
    {
      "cell_type": "code",
      "source": [
        "# Import necessary modules\n",
        "import keras\n",
        "from keras.layers import Dense\n",
        "from keras.models import Sequential\n",
        "\n",
        "# Save the number of columns in predictors: n_cols\n",
        "n_cols = predictors.shape[1]\n",
        "\n",
        "# Set up the model: model\n",
        "model = Sequential()\n",
        "\n",
        "# Add the first layer\n",
        "model.add(keras.layers.Dense(50, activation='relu', input_shape=(n_cols, )))\n",
        "\n",
        "# Add the second layer\n",
        "model.add(keras.layers.Dense(32, activation='relu'))\n",
        "\n",
        "# Add the output layer\n",
        "model.add(keras.layers.Dense(1))"
      ],
      "metadata": {
        "id": "5WqNkIkZimG2"
      },
      "execution_count": 22,
      "outputs": []
    },
    {
      "cell_type": "markdown",
      "source": [
        "# Compiling the model\n",
        "You're now going to compile the model you specified earlier. To compile the model, you need to specify the optimizer and loss function to use. In the video, Dan mentioned that the Adam optimizer is an excellent choice. You can read more about it as well as other Keras optimizers here, and if you are really curious to learn more, you can read the original paper that introduced the Adam optimizer.\n",
        "\n",
        "In this exercise, you'll use the Adam optimizer and the mean squared error loss function. Go for it!"
      ],
      "metadata": {
        "id": "5UOsKpP8jKcP"
      }
    },
    {
      "cell_type": "code",
      "source": [
        "# Import necessary modules\n",
        "import keras\n",
        "from keras.layers import Dense\n",
        "from keras.models import Sequential\n",
        "\n",
        "# Specify the model\n",
        "n_cols = predictors.shape[1]\n",
        "model = Sequential()\n",
        "model.add(Dense(50, activation='relu', input_shape = (n_cols,)))\n",
        "model.add(Dense(32, activation='relu'))\n",
        "model.add(Dense(1))\n",
        "\n",
        "# Compile the model\n",
        "model.compile(optimizer='adam', loss='mean_squared_error')\n",
        "\n",
        "# Verify that model contains information from compiling\n",
        "print(\"Loss function: \" + model.loss)"
      ],
      "metadata": {
        "colab": {
          "base_uri": "https://localhost:8080/"
        },
        "id": "6BH7AkQJjDlD",
        "outputId": "cc28f158-7e78-460f-83ad-2dc21b80cbbb"
      },
      "execution_count": 23,
      "outputs": [
        {
          "output_type": "stream",
          "name": "stdout",
          "text": [
            "Loss function: mean_squared_error\n"
          ]
        }
      ]
    },
    {
      "cell_type": "markdown",
      "source": [
        "# Fitting the model\n",
        "You're at the most fun part. You'll now fit the model. Recall that the data to be used as predictive features is loaded in a NumPy matrix called predictors and the data to be predicted is stored in a NumPy matrix called target. Your model is pre-written and it has been compiled with the code from the previous exercise."
      ],
      "metadata": {
        "id": "furoLumrjRJF"
      }
    },
    {
      "cell_type": "code",
      "source": [
        "# Import necessary modules\n",
        "import keras\n",
        "from keras.layers import Dense\n",
        "from keras.models import Sequential\n",
        "\n",
        "# Specify the model\n",
        "n_cols = predictors.shape[1]\n",
        "model = Sequential()\n",
        "model.add(Dense(50, activation='relu', input_shape = (n_cols,)))\n",
        "model.add(Dense(32, activation='relu'))\n",
        "model.add(Dense(1))\n",
        "\n",
        "# Compile the model\n",
        "model.compile(optimizer='adam', loss='mean_squared_error')\n",
        "\n",
        "# Fit the model\n",
        "model.fit(predictors, target)\n"
      ],
      "metadata": {
        "colab": {
          "base_uri": "https://localhost:8080/"
        },
        "id": "Ke2HfOLVjMtb",
        "outputId": "fcc965ac-e2ed-473e-9689-a336102ba1c9"
      },
      "execution_count": 24,
      "outputs": [
        {
          "output_type": "stream",
          "name": "stdout",
          "text": [
            "17/17 [==============================] - 1s 4ms/step - loss: 55.3610\n"
          ]
        },
        {
          "output_type": "execute_result",
          "data": {
            "text/plain": [
              "<keras.callbacks.History at 0x7fdea3e5d0d0>"
            ]
          },
          "metadata": {},
          "execution_count": 24
        }
      ]
    },
    {
      "cell_type": "markdown",
      "source": [
        "# Last steps in classification models\n",
        "You'll now create a classification model using the titanic dataset, which has been pre-loaded into a DataFrame called df. You'll take information about the passengers and predict which ones survived.\n",
        "\n",
        "The predictive variables are stored in a NumPy array predictors. The target to predict is in df.survived, though you'll have to manipulate it for Keras. The number of predictive features is stored in n_cols.\n",
        "\n",
        "Here, you'll use the 'sgd' optimizer, which stands for Stochastic Gradient Descent. You'll learn more about this in the next chapter!\n",
        "\n"
      ],
      "metadata": {
        "id": "NtadrMotj0m4"
      }
    },
    {
      "cell_type": "code",
      "source": [
        "df= pd.read_csv('https://assets.datacamp.com/production/repositories/654/datasets/92b75b9bc0c0a8a30999d76f4a1ee786ef072a9c/titanic_all_numeric.csv')\n",
        "df.head()"
      ],
      "metadata": {
        "colab": {
          "base_uri": "https://localhost:8080/",
          "height": 206
        },
        "id": "9v-jL4YPjuJe",
        "outputId": "3a0ecf04-6535-4ce2-c27b-3d698d0ca49c"
      },
      "execution_count": 31,
      "outputs": [
        {
          "output_type": "execute_result",
          "data": {
            "text/plain": [
              "   survived  pclass   age  sibsp  parch     fare  male  age_was_missing  \\\n",
              "0         0       3  22.0      1      0   7.2500     1            False   \n",
              "1         1       1  38.0      1      0  71.2833     0            False   \n",
              "2         1       3  26.0      0      0   7.9250     0            False   \n",
              "3         1       1  35.0      1      0  53.1000     0            False   \n",
              "4         0       3  35.0      0      0   8.0500     1            False   \n",
              "\n",
              "   embarked_from_cherbourg  embarked_from_queenstown  \\\n",
              "0                        0                         0   \n",
              "1                        1                         0   \n",
              "2                        0                         0   \n",
              "3                        0                         0   \n",
              "4                        0                         0   \n",
              "\n",
              "   embarked_from_southampton  \n",
              "0                          1  \n",
              "1                          0  \n",
              "2                          1  \n",
              "3                          1  \n",
              "4                          1  "
            ],
            "text/html": [
              "\n",
              "  <div id=\"df-b19bd107-3abf-4fbe-858b-ff703062af46\">\n",
              "    <div class=\"colab-df-container\">\n",
              "      <div>\n",
              "<style scoped>\n",
              "    .dataframe tbody tr th:only-of-type {\n",
              "        vertical-align: middle;\n",
              "    }\n",
              "\n",
              "    .dataframe tbody tr th {\n",
              "        vertical-align: top;\n",
              "    }\n",
              "\n",
              "    .dataframe thead th {\n",
              "        text-align: right;\n",
              "    }\n",
              "</style>\n",
              "<table border=\"1\" class=\"dataframe\">\n",
              "  <thead>\n",
              "    <tr style=\"text-align: right;\">\n",
              "      <th></th>\n",
              "      <th>survived</th>\n",
              "      <th>pclass</th>\n",
              "      <th>age</th>\n",
              "      <th>sibsp</th>\n",
              "      <th>parch</th>\n",
              "      <th>fare</th>\n",
              "      <th>male</th>\n",
              "      <th>age_was_missing</th>\n",
              "      <th>embarked_from_cherbourg</th>\n",
              "      <th>embarked_from_queenstown</th>\n",
              "      <th>embarked_from_southampton</th>\n",
              "    </tr>\n",
              "  </thead>\n",
              "  <tbody>\n",
              "    <tr>\n",
              "      <th>0</th>\n",
              "      <td>0</td>\n",
              "      <td>3</td>\n",
              "      <td>22.0</td>\n",
              "      <td>1</td>\n",
              "      <td>0</td>\n",
              "      <td>7.2500</td>\n",
              "      <td>1</td>\n",
              "      <td>False</td>\n",
              "      <td>0</td>\n",
              "      <td>0</td>\n",
              "      <td>1</td>\n",
              "    </tr>\n",
              "    <tr>\n",
              "      <th>1</th>\n",
              "      <td>1</td>\n",
              "      <td>1</td>\n",
              "      <td>38.0</td>\n",
              "      <td>1</td>\n",
              "      <td>0</td>\n",
              "      <td>71.2833</td>\n",
              "      <td>0</td>\n",
              "      <td>False</td>\n",
              "      <td>1</td>\n",
              "      <td>0</td>\n",
              "      <td>0</td>\n",
              "    </tr>\n",
              "    <tr>\n",
              "      <th>2</th>\n",
              "      <td>1</td>\n",
              "      <td>3</td>\n",
              "      <td>26.0</td>\n",
              "      <td>0</td>\n",
              "      <td>0</td>\n",
              "      <td>7.9250</td>\n",
              "      <td>0</td>\n",
              "      <td>False</td>\n",
              "      <td>0</td>\n",
              "      <td>0</td>\n",
              "      <td>1</td>\n",
              "    </tr>\n",
              "    <tr>\n",
              "      <th>3</th>\n",
              "      <td>1</td>\n",
              "      <td>1</td>\n",
              "      <td>35.0</td>\n",
              "      <td>1</td>\n",
              "      <td>0</td>\n",
              "      <td>53.1000</td>\n",
              "      <td>0</td>\n",
              "      <td>False</td>\n",
              "      <td>0</td>\n",
              "      <td>0</td>\n",
              "      <td>1</td>\n",
              "    </tr>\n",
              "    <tr>\n",
              "      <th>4</th>\n",
              "      <td>0</td>\n",
              "      <td>3</td>\n",
              "      <td>35.0</td>\n",
              "      <td>0</td>\n",
              "      <td>0</td>\n",
              "      <td>8.0500</td>\n",
              "      <td>1</td>\n",
              "      <td>False</td>\n",
              "      <td>0</td>\n",
              "      <td>0</td>\n",
              "      <td>1</td>\n",
              "    </tr>\n",
              "  </tbody>\n",
              "</table>\n",
              "</div>\n",
              "      <button class=\"colab-df-convert\" onclick=\"convertToInteractive('df-b19bd107-3abf-4fbe-858b-ff703062af46')\"\n",
              "              title=\"Convert this dataframe to an interactive table.\"\n",
              "              style=\"display:none;\">\n",
              "        \n",
              "  <svg xmlns=\"http://www.w3.org/2000/svg\" height=\"24px\"viewBox=\"0 0 24 24\"\n",
              "       width=\"24px\">\n",
              "    <path d=\"M0 0h24v24H0V0z\" fill=\"none\"/>\n",
              "    <path d=\"M18.56 5.44l.94 2.06.94-2.06 2.06-.94-2.06-.94-.94-2.06-.94 2.06-2.06.94zm-11 1L8.5 8.5l.94-2.06 2.06-.94-2.06-.94L8.5 2.5l-.94 2.06-2.06.94zm10 10l.94 2.06.94-2.06 2.06-.94-2.06-.94-.94-2.06-.94 2.06-2.06.94z\"/><path d=\"M17.41 7.96l-1.37-1.37c-.4-.4-.92-.59-1.43-.59-.52 0-1.04.2-1.43.59L10.3 9.45l-7.72 7.72c-.78.78-.78 2.05 0 2.83L4 21.41c.39.39.9.59 1.41.59.51 0 1.02-.2 1.41-.59l7.78-7.78 2.81-2.81c.8-.78.8-2.07 0-2.86zM5.41 20L4 18.59l7.72-7.72 1.47 1.35L5.41 20z\"/>\n",
              "  </svg>\n",
              "      </button>\n",
              "      \n",
              "  <style>\n",
              "    .colab-df-container {\n",
              "      display:flex;\n",
              "      flex-wrap:wrap;\n",
              "      gap: 12px;\n",
              "    }\n",
              "\n",
              "    .colab-df-convert {\n",
              "      background-color: #E8F0FE;\n",
              "      border: none;\n",
              "      border-radius: 50%;\n",
              "      cursor: pointer;\n",
              "      display: none;\n",
              "      fill: #1967D2;\n",
              "      height: 32px;\n",
              "      padding: 0 0 0 0;\n",
              "      width: 32px;\n",
              "    }\n",
              "\n",
              "    .colab-df-convert:hover {\n",
              "      background-color: #E2EBFA;\n",
              "      box-shadow: 0px 1px 2px rgba(60, 64, 67, 0.3), 0px 1px 3px 1px rgba(60, 64, 67, 0.15);\n",
              "      fill: #174EA6;\n",
              "    }\n",
              "\n",
              "    [theme=dark] .colab-df-convert {\n",
              "      background-color: #3B4455;\n",
              "      fill: #D2E3FC;\n",
              "    }\n",
              "\n",
              "    [theme=dark] .colab-df-convert:hover {\n",
              "      background-color: #434B5C;\n",
              "      box-shadow: 0px 1px 3px 1px rgba(0, 0, 0, 0.15);\n",
              "      filter: drop-shadow(0px 1px 2px rgba(0, 0, 0, 0.3));\n",
              "      fill: #FFFFFF;\n",
              "    }\n",
              "  </style>\n",
              "\n",
              "      <script>\n",
              "        const buttonEl =\n",
              "          document.querySelector('#df-b19bd107-3abf-4fbe-858b-ff703062af46 button.colab-df-convert');\n",
              "        buttonEl.style.display =\n",
              "          google.colab.kernel.accessAllowed ? 'block' : 'none';\n",
              "\n",
              "        async function convertToInteractive(key) {\n",
              "          const element = document.querySelector('#df-b19bd107-3abf-4fbe-858b-ff703062af46');\n",
              "          const dataTable =\n",
              "            await google.colab.kernel.invokeFunction('convertToInteractive',\n",
              "                                                     [key], {});\n",
              "          if (!dataTable) return;\n",
              "\n",
              "          const docLinkHtml = 'Like what you see? Visit the ' +\n",
              "            '<a target=\"_blank\" href=https://colab.research.google.com/notebooks/data_table.ipynb>data table notebook</a>'\n",
              "            + ' to learn more about interactive tables.';\n",
              "          element.innerHTML = '';\n",
              "          dataTable['output_type'] = 'display_data';\n",
              "          await google.colab.output.renderOutput(dataTable, element);\n",
              "          const docLink = document.createElement('div');\n",
              "          docLink.innerHTML = docLinkHtml;\n",
              "          element.appendChild(docLink);\n",
              "        }\n",
              "      </script>\n",
              "    </div>\n",
              "  </div>\n",
              "  "
            ]
          },
          "metadata": {},
          "execution_count": 31
        }
      ]
    },
    {
      "cell_type": "code",
      "source": [
        "# Import necessary modules\n",
        "import keras\n",
        "from keras.layers import Dense\n",
        "from keras.models import Sequential\n",
        "from keras.utils.np_utils import to_categorical\n",
        "\n",
        "# Convert the target to categorical: target\n",
        "predictors= np.array(df.drop('survived', axis=1), np.float32)\n",
        "n_cols= predictors.shape[1]\n",
        "target = to_categorical(df.survived)\n",
        "\n",
        "# Set up the model\n",
        "model = Sequential()\n",
        "\n",
        "# Add the first layer\n",
        "model.add(keras.layers.Dense(32, activation='relu', input_shape=(n_cols, )))\n",
        "\n",
        "# Add the output layer\n",
        "model.add(keras.layers.Dense(2, activation='softmax'))\n",
        "\n",
        "# Compile the model\n",
        "model.compile(optimizer= 'sgd', loss='categorical_crossentropy', metrics=['accuracy'])\n",
        "\n",
        "# Fit the model\n",
        "model.fit(predictors, target)\n"
      ],
      "metadata": {
        "colab": {
          "base_uri": "https://localhost:8080/"
        },
        "id": "oDAqO1jzj7h1",
        "outputId": "ff2bd771-4445-4060-d334-abb52f603f91"
      },
      "execution_count": 35,
      "outputs": [
        {
          "output_type": "stream",
          "name": "stdout",
          "text": [
            "28/28 [==============================] - 1s 4ms/step - loss: 1.5314 - accuracy: 0.6218\n"
          ]
        },
        {
          "output_type": "execute_result",
          "data": {
            "text/plain": [
              "<keras.callbacks.History at 0x7fdea3753fd0>"
            ]
          },
          "metadata": {},
          "execution_count": 35
        }
      ]
    },
    {
      "cell_type": "markdown",
      "source": [
        "# Saving, reloading and using your Model"
      ],
      "metadata": {
        "id": "PbRRruYflVzu"
      }
    },
    {
      "cell_type": "code",
      "source": [
        "#@title prediction data\n",
        "pred_data= np.array([[2, 34.0, 0, 0, 13.0, 1, False, 0, 0, 1],\n",
        "       [2, 31.0, 1, 1, 26.25, 0, False, 0, 0, 1],\n",
        "       [1, 11.0, 1, 2, 120.0, 1, False, 0, 0, 1],\n",
        "       [3, 0.42, 0, 1, 8.5167, 1, False, 1, 0, 0],\n",
        "       [3, 27.0, 0, 0, 6.975, 1, False, 0, 0, 1],\n",
        "       [3, 31.0, 0, 0, 7.775, 1, False, 0, 0, 1],\n",
        "       [1, 39.0, 0, 0, 0.0, 1, False, 0, 0, 1],\n",
        "       [3, 18.0, 0, 0, 7.775, 0, False, 0, 0, 1],\n",
        "       [2, 39.0, 0, 0, 13.0, 1, False, 0, 0, 1],\n",
        "       [1, 33.0, 1, 0, 53.1, 0, False, 0, 0, 1],\n",
        "       [3, 26.0, 0, 0, 7.8875, 1, False, 0, 0, 1],\n",
        "       [3, 39.0, 0, 0, 24.15, 1, False, 0, 0, 1],\n",
        "       [2, 35.0, 0, 0, 10.5, 1, False, 0, 0, 1],\n",
        "       [3, 6.0, 4, 2, 31.275, 0, False, 0, 0, 1],\n",
        "       [3, 30.5, 0, 0, 8.05, 1, False, 0, 0, 1],\n",
        "       [1, 29.69911764705882, 0, 0, 0.0, 1, True, 0, 0, 1],\n",
        "       [3, 23.0, 0, 0, 7.925, 0, False, 0, 0, 1],\n",
        "       [2, 31.0, 1, 1, 37.0042, 1, False, 1, 0, 0],\n",
        "       [3, 43.0, 0, 0, 6.45, 1, False, 0, 0, 1],\n",
        "       [3, 10.0, 3, 2, 27.9, 1, False, 0, 0, 1],\n",
        "       [1, 52.0, 1, 1, 93.5, 0, False, 0, 0, 1],\n",
        "       [3, 27.0, 0, 0, 8.6625, 1, False, 0, 0, 1],\n",
        "       [1, 38.0, 0, 0, 0.0, 1, False, 0, 0, 1],\n",
        "       [3, 27.0, 0, 1, 12.475, 0, False, 0, 0, 1],\n",
        "       [3, 2.0, 4, 1, 39.6875, 1, False, 0, 0, 1],\n",
        "       [3, 29.69911764705882, 0, 0, 6.95, 1, True, 0, 1, 0],\n",
        "       [3, 29.69911764705882, 0, 0, 56.4958, 1, True, 0, 0, 1],\n",
        "       [2, 1.0, 0, 2, 37.0042, 1, False, 1, 0, 0],\n",
        "       [3, 29.69911764705882, 0, 0, 7.75, 1, True, 0, 1, 0],\n",
        "       [1, 62.0, 0, 0, 80.0, 0, False, 0, 0, 0],\n",
        "       [3, 15.0, 1, 0, 14.4542, 0, False, 1, 0, 0],\n",
        "       [2, 0.83, 1, 1, 18.75, 1, False, 0, 0, 1],\n",
        "       [3, 29.69911764705882, 0, 0, 7.2292, 1, True, 1, 0, 0],\n",
        "       [3, 23.0, 0, 0, 7.8542, 1, False, 0, 0, 1],\n",
        "       [3, 18.0, 0, 0, 8.3, 1, False, 0, 0, 1],\n",
        "       [1, 39.0, 1, 1, 83.1583, 0, False, 1, 0, 0],\n",
        "       [3, 21.0, 0, 0, 8.6625, 1, False, 0, 0, 1],\n",
        "       [3, 29.69911764705882, 0, 0, 8.05, 1, True, 0, 0, 1],\n",
        "       [3, 32.0, 0, 0, 56.4958, 1, False, 0, 0, 1],\n",
        "       [1, 29.69911764705882, 0, 0, 29.7, 1, True, 1, 0, 0],\n",
        "       [3, 20.0, 0, 0, 7.925, 1, False, 0, 0, 1],\n",
        "       [2, 16.0, 0, 0, 10.5, 1, False, 0, 0, 1],\n",
        "       [1, 30.0, 0, 0, 31.0, 0, False, 1, 0, 0],\n",
        "       [3, 34.5, 0, 0, 6.4375, 1, False, 1, 0, 0],\n",
        "       [3, 17.0, 0, 0, 8.6625, 1, False, 0, 0, 1],\n",
        "       [3, 42.0, 0, 0, 7.55, 1, False, 0, 0, 1],\n",
        "       [3, 29.69911764705882, 8, 2, 69.55, 1, True, 0, 0, 1],\n",
        "       [3, 35.0, 0, 0, 7.8958, 1, False, 1, 0, 0],\n",
        "       [2, 28.0, 0, 1, 33.0, 1, False, 0, 0, 1],\n",
        "       [1, 29.69911764705882, 1, 0, 89.1042, 0, True, 1, 0, 0],\n",
        "       [3, 4.0, 4, 2, 31.275, 1, False, 0, 0, 1],\n",
        "       [3, 74.0, 0, 0, 7.775, 1, False, 0, 0, 1],\n",
        "       [3, 9.0, 1, 1, 15.2458, 0, False, 1, 0, 0],\n",
        "       [1, 16.0, 0, 1, 39.4, 0, False, 0, 0, 1],\n",
        "       [2, 44.0, 1, 0, 26.0, 0, False, 0, 0, 1],\n",
        "       [3, 18.0, 0, 1, 9.35, 0, False, 0, 0, 1],\n",
        "       [1, 45.0, 1, 1, 164.8667, 0, False, 0, 0, 1],\n",
        "       [1, 51.0, 0, 0, 26.55, 1, False, 0, 0, 1],\n",
        "       [3, 24.0, 0, 3, 19.2583, 0, False, 1, 0, 0],\n",
        "       [3, 29.69911764705882, 0, 0, 7.2292, 1, True, 1, 0, 0],\n",
        "       [3, 41.0, 2, 0, 14.1083, 1, False, 0, 0, 1],\n",
        "       [2, 21.0, 1, 0, 11.5, 1, False, 0, 0, 1],\n",
        "       [1, 48.0, 0, 0, 25.9292, 0, False, 0, 0, 1],\n",
        "       [3, 29.69911764705882, 8, 2, 69.55, 0, True, 0, 0, 1],\n",
        "       [2, 24.0, 0, 0, 13.0, 1, False, 0, 0, 1],\n",
        "       [2, 42.0, 0, 0, 13.0, 0, False, 0, 0, 1],\n",
        "       [2, 27.0, 1, 0, 13.8583, 0, False, 1, 0, 0],\n",
        "       [1, 31.0, 0, 0, 50.4958, 1, False, 0, 0, 1],\n",
        "       [3, 29.69911764705882, 0, 0, 9.5, 1, True, 0, 0, 1],\n",
        "       [3, 4.0, 1, 1, 11.1333, 1, False, 0, 0, 1],\n",
        "       [3, 26.0, 0, 0, 7.8958, 1, False, 0, 0, 1],\n",
        "       [1, 47.0, 1, 1, 52.5542, 0, False, 0, 0, 1],\n",
        "       [1, 33.0, 0, 0, 5.0, 1, False, 0, 0, 1],\n",
        "       [3, 47.0, 0, 0, 9.0, 1, False, 0, 0, 1],\n",
        "       [2, 28.0, 1, 0, 24.0, 0, False, 1, 0, 0],\n",
        "       [3, 15.0, 0, 0, 7.225, 0, False, 1, 0, 0],\n",
        "       [3, 20.0, 0, 0, 9.8458, 1, False, 0, 0, 1],\n",
        "       [3, 19.0, 0, 0, 7.8958, 1, False, 0, 0, 1],\n",
        "       [3, 29.69911764705882, 0, 0, 7.8958, 1, True, 0, 0, 1],\n",
        "       [1, 56.0, 0, 1, 83.1583, 0, False, 1, 0, 0],\n",
        "       [2, 25.0, 0, 1, 26.0, 0, False, 0, 0, 1],\n",
        "       [3, 33.0, 0, 0, 7.8958, 1, False, 0, 0, 1],\n",
        "       [3, 22.0, 0, 0, 10.5167, 0, False, 0, 0, 1],\n",
        "       [2, 28.0, 0, 0, 10.5, 1, False, 0, 0, 1],\n",
        "       [3, 25.0, 0, 0, 7.05, 1, False, 0, 0, 1],\n",
        "       [3, 39.0, 0, 5, 29.125, 0, False, 0, 1, 0],\n",
        "       [2, 27.0, 0, 0, 13.0, 1, False, 0, 0, 1],\n",
        "       [1, 19.0, 0, 0, 30.0, 0, False, 0, 0, 1],\n",
        "       [3, 29.69911764705882, 1, 2, 23.45, 0, True, 0, 0, 1],\n",
        "       [1, 26.0, 0, 0, 30.0, 1, False, 1, 0, 0],\n",
        "       [3, 32.0, 0, 0, 7.75, 1, False, 0, 1, 0]])"
      ],
      "metadata": {
        "cellView": "form",
        "id": "5IGxrq3Rlys4"
      },
      "execution_count": 38,
      "outputs": []
    },
    {
      "cell_type": "code",
      "source": [
        "from keras.models import load_model\n",
        "model.save('model_file.h5')\n",
        "my_model= load_model('model_file.h5')\n",
        "predictions= my_model.predict(pred_data)\n",
        "probability_true= predictions[:,1]\n",
        "probability_true"
      ],
      "metadata": {
        "colab": {
          "base_uri": "https://localhost:8080/"
        },
        "id": "QrwaFAvUkiV8",
        "outputId": "7954370c-592c-4466-e1f7-d86d326ca5b0"
      },
      "execution_count": 41,
      "outputs": [
        {
          "output_type": "execute_result",
          "data": {
            "text/plain": [
              "array([0.6042715 , 0.87670076, 0.99996674, 0.5234354 , 0.359584  ,\n",
              "       0.36206183, 0.22820638, 0.42819464, 0.5619178 , 0.98758715,\n",
              "       0.39664435, 0.86688066, 0.50578964, 0.89527386, 0.3732158 ,\n",
              "       0.22566499, 0.39110368, 0.933709  , 0.260138  , 0.8288149 ,\n",
              "       0.99956053, 0.41720983, 0.23373932, 0.50350684, 0.9534982 ,\n",
              "       0.23837756, 0.9858    , 0.9430427 , 0.2615828 , 0.998678  ,\n",
              "       0.6087063 , 0.81282353, 0.28139395, 0.41964185, 0.48512498,\n",
              "       0.9986633 , 0.46895444, 0.33874226, 0.9875497 , 0.90741056,\n",
              "       0.44855314, 0.677682  , 0.92247415, 0.27795964, 0.52295595,\n",
              "       0.29464954, 0.9883535 , 0.31442806, 0.9300961 , 0.9991284 ,\n",
              "       0.89394593, 0.14489935, 0.62108487, 0.96307   , 0.8610073 ,\n",
              "       0.4903627 , 0.99999905, 0.87688947, 0.7202674 , 0.28139395,\n",
              "       0.47835633, 0.6424806 , 0.85571915, 0.9895259 , 0.69472307,\n",
              "       0.48428208, 0.614209  , 0.98540443, 0.39231607, 0.6025411 ,\n",
              "       0.3969327 , 0.987422  , 0.41643196, 0.30182076, 0.8387376 ,\n",
              "       0.40595445, 0.53433853, 0.45618767, 0.33325386, 0.99892503,\n",
              "       0.8804324 , 0.35508236, 0.5015638 , 0.5651727 , 0.3743111 ,\n",
              "       0.86353385, 0.6612772 , 0.926478  , 0.7821466 , 0.91561675,\n",
              "       0.28329754], dtype=float32)"
            ]
          },
          "metadata": {},
          "execution_count": 41
        }
      ]
    },
    {
      "cell_type": "markdown",
      "source": [
        "# Making predictions\n",
        "The trained network from your previous coding exercise is now stored as model. New data to make predictions is stored in a NumPy array as pred_data. Use model to make predictions on your new data.\n",
        "\n",
        "In this exercise, your predictions will be probabilities, which is the most common way for data scientists to communicate their predictions to colleagues."
      ],
      "metadata": {
        "id": "rhc3AzQamI8o"
      }
    },
    {
      "cell_type": "code",
      "source": [
        "# Specify, compile, and fit the model\n",
        "model = Sequential()\n",
        "model.add(Dense(32, activation='relu', input_shape = (n_cols,)))\n",
        "model.add(Dense(2, activation='softmax'))\n",
        "model.compile(optimizer='sgd', \n",
        "              loss='categorical_crossentropy', \n",
        "              metrics=['accuracy'])\n",
        "model.fit(predictors, target)\n",
        "\n",
        "# Calculate predictions: predictions\n",
        "predictions = model.predict(pred_data)\n",
        "\n",
        "# Calculate predicted probability of survival: predicted_prob_true\n",
        "predicted_prob_true = predictions[:,1]\n",
        "\n",
        "# print predicted_prob_true\n",
        "print(predicted_prob_true)"
      ],
      "metadata": {
        "colab": {
          "base_uri": "https://localhost:8080/"
        },
        "id": "TUHjjOKdlmVX",
        "outputId": "ef95c577-7c02-4430-df07-d5e5a6139756"
      },
      "execution_count": 42,
      "outputs": [
        {
          "output_type": "stream",
          "name": "stdout",
          "text": [
            "28/28 [==============================] - 1s 5ms/step - loss: 2.8161 - accuracy: 0.5802\n",
            "[0.28657266 0.4320014  0.99902916 0.52742326 0.3529539  0.34881234\n",
            " 0.17879978 0.37172124 0.31461507 0.85710686 0.35551804 0.30856764\n",
            " 0.34879947 0.8373485  0.35257766 0.28019977 0.3802604  0.62489563\n",
            " 0.2515315  0.7882744  0.96959084 0.34501594 0.1830395  0.29531732\n",
            " 0.8702577  0.55309325 0.9086714  0.8513584  0.5352942  0.8401204\n",
            " 0.54563814 0.69692844 0.4332917  0.34074596 0.3498914  0.9633159\n",
            " 0.31334016 0.38534203 0.9045322  0.46934506 0.3238643  0.40457162\n",
            " 0.50086904 0.32144752 0.37076283 0.2828609  0.92736506 0.3575676\n",
            " 0.60425484 0.9812378  0.8122738  0.13956062 0.65781254 0.86311305\n",
            " 0.2671003  0.37211496 0.9997296  0.18129987 0.44370985 0.4332917\n",
            " 0.3100162  0.33394682 0.21989176 0.93331665 0.32858554 0.38674867\n",
            " 0.33779034 0.8453736  0.35461116 0.6431395  0.35534927 0.5836209\n",
            " 0.31974375 0.2890547  0.4379647  0.40390936 0.34669694 0.32890192\n",
            " 0.38859117 0.92662865 0.5411116  0.3443487  0.3506279  0.30788216\n",
            " 0.35918063 0.45379582 0.28792718 0.73821443 0.42016622 0.5330751\n",
            " 0.49383518]\n"
          ]
        }
      ]
    },
    {
      "cell_type": "markdown",
      "source": [
        "# Changing optimization parameters\n",
        "It's time to get your hands dirty with optimization. You'll now try optimizing a model at a very low learning rate, a very high learning rate, and a \"just right\" learning rate. You'll want to look at the results after running this exercise, remembering that a low value for the loss function is good.\n",
        "\n",
        "For these exercises, we've pre-loaded the predictors and target values from your previous classification models (predicting who would survive on the Titanic). You'll want the optimization to start from scratch every time you change the learning rate, to give a fair comparison of how each learning rate did in your results. So we have created a function get_new_model() that creates an unoptimized model to optimize."
      ],
      "metadata": {
        "id": "OEKfbmNamZI2"
      }
    },
    {
      "cell_type": "code",
      "source": [
        "n_cols= predictors.shape[1]\n",
        "input_shape= (n_cols,)\n",
        "def get_new_model(input_shape = input_shape):\n",
        "  model = Sequential()\n",
        "  model.add(Dense(100, activation='relu', input_shape = input_shape))   \n",
        "  model.add(Dense(100, activation='relu'))  \n",
        "  model.add(Dense(2, activation='softmax'))\n",
        "  return(model)"
      ],
      "metadata": {
        "id": "zLEzkWsVmLRa"
      },
      "execution_count": 49,
      "outputs": []
    },
    {
      "cell_type": "code",
      "source": [
        "# Import the SGD optimizer\n",
        "from tensorflow.keras.optimizers import SGD\n",
        "\n",
        "# Create list of learning rates: lr_to_test\n",
        "lr_to_test = [.000001, 0.01, 1]\n",
        "\n",
        "# Loop over learning rates\n",
        "for lr in lr_to_test:\n",
        "    print('\\n\\nTesting model with learning rate: %f\\n'%lr )\n",
        "    \n",
        "    # Build new model to test, unaffected by previous models\n",
        "    model = get_new_model()\n",
        "    \n",
        "    # Create SGD optimizer with specified learning rate: my_optimizer\n",
        "    my_optimizer = SGD(lr=lr)\n",
        "    \n",
        "    # Compile the model\n",
        "    model.compile(optimizer=my_optimizer, loss='categorical_crossentropy')\n",
        "    \n",
        "    # Fit the model\n",
        "    model.fit(predictors, target, epochs=5)\n"
      ],
      "metadata": {
        "colab": {
          "base_uri": "https://localhost:8080/"
        },
        "id": "njgnCC3DmpOX",
        "outputId": "3431bea1-5da8-443d-da7d-894321c1d17e"
      },
      "execution_count": 54,
      "outputs": [
        {
          "output_type": "stream",
          "name": "stdout",
          "text": [
            "\n",
            "\n",
            "Testing model with learning rate: 0.000001\n",
            "\n",
            "Epoch 1/5\n",
            "28/28 [==============================] - 1s 3ms/step - loss: 1.0987\n",
            "Epoch 2/5\n",
            "28/28 [==============================] - 0s 2ms/step - loss: 1.0936\n",
            "Epoch 3/5\n",
            "28/28 [==============================] - 0s 3ms/step - loss: 1.0885\n",
            "Epoch 4/5\n",
            "28/28 [==============================] - 0s 2ms/step - loss: 1.0836\n",
            "Epoch 5/5\n",
            "28/28 [==============================] - 0s 2ms/step - loss: 1.0788\n",
            "\n",
            "\n",
            "Testing model with learning rate: 0.010000\n",
            "\n",
            "Epoch 1/5\n",
            "28/28 [==============================] - 0s 2ms/step - loss: 1.7187\n",
            "Epoch 2/5\n",
            "28/28 [==============================] - 0s 2ms/step - loss: 0.6673\n",
            "Epoch 3/5\n",
            "28/28 [==============================] - 0s 2ms/step - loss: 0.6308\n",
            "Epoch 4/5\n",
            "28/28 [==============================] - 0s 2ms/step - loss: 0.6008\n",
            "Epoch 5/5\n",
            "28/28 [==============================] - 0s 2ms/step - loss: 0.6097\n",
            "\n",
            "\n",
            "Testing model with learning rate: 1.000000\n",
            "\n",
            "Epoch 1/5\n",
            "28/28 [==============================] - 0s 2ms/step - loss: 1695.3533\n",
            "Epoch 2/5\n",
            "28/28 [==============================] - 0s 2ms/step - loss: 0.6717\n",
            "Epoch 3/5\n",
            "28/28 [==============================] - 0s 2ms/step - loss: 0.6675\n",
            "Epoch 4/5\n",
            "28/28 [==============================] - 0s 2ms/step - loss: 0.6751\n",
            "Epoch 5/5\n",
            "28/28 [==============================] - 0s 3ms/step - loss: 0.6719\n"
          ]
        }
      ]
    },
    {
      "cell_type": "markdown",
      "source": [
        "# Evaluating model accuracy on validation dataset\n",
        "Now it's your turn to monitor model accuracy with a validation data set. A model definition has been provided as model. Your job is to add the code to compile it and then fit it. You'll check the validation score in each epoch."
      ],
      "metadata": {
        "id": "n4PTajopn_24"
      }
    },
    {
      "cell_type": "code",
      "source": [
        "# Save the number of columns in predictors: n_cols\n",
        "n_cols = predictors.shape[1]\n",
        "input_shape = (n_cols,)\n",
        "\n",
        "# Specify the model\n",
        "model = keras.Sequential()\n",
        "model.add(Dense(100, activation='relu', input_shape = input_shape))\n",
        "model.add(Dense(100, activation='relu'))\n",
        "model.add(Dense(2, activation='softmax'))\n",
        "\n",
        "# Compile the model\n",
        "model.compile(optimizer='adam', loss='categorical_crossentropy', metrics=['accuracy'])\n",
        "\n",
        "# Fit the model\n",
        "hist = model.fit(predictors, target, validation_split=0.3)\n"
      ],
      "metadata": {
        "colab": {
          "base_uri": "https://localhost:8080/"
        },
        "id": "t8GYfD2omzzA",
        "outputId": "1587a46b-1a3a-4cc1-ab4d-b46e22b34ad8"
      },
      "execution_count": 56,
      "outputs": [
        {
          "output_type": "stream",
          "name": "stdout",
          "text": [
            "20/20 [==============================] - 1s 28ms/step - loss: 1.4191 - accuracy: 0.6100 - val_loss: 0.5757 - val_accuracy: 0.6903\n"
          ]
        }
      ]
    },
    {
      "cell_type": "markdown",
      "source": [
        "# Early stopping: Optimizing the optimization\n",
        "Now that you know how to monitor your model performance throughout optimization, you can use early stopping to stop optimization when it isn't helping any more. Since the optimization stops automatically when it isn't helping, you can also set a high value for epochs in your call to .fit(), as Dan showed in the video.\n",
        "\n",
        "The model you'll optimize has been specified as model. As before, the data is pre-loaded as predictors and target."
      ],
      "metadata": {
        "id": "-IHYOayeoUTn"
      }
    },
    {
      "cell_type": "code",
      "source": [
        "# Import EarlyStopping\n",
        "from keras.callbacks import EarlyStopping\n",
        "\n",
        "# Save the number of columns in predictors: n_cols\n",
        "n_cols = predictors.shape[1]\n",
        "input_shape = (n_cols,)\n",
        "\n",
        "# Specify the model\n",
        "model = Sequential()\n",
        "model.add(Dense(100, activation='relu', input_shape = input_shape))\n",
        "model.add(Dense(100, activation='relu'))\n",
        "model.add(Dense(2, activation='softmax'))\n",
        "\n",
        "# Compile the model\n",
        "model.compile(optimizer='adam', loss='categorical_crossentropy', metrics=['accuracy'])\n",
        "\n",
        "# Define early_stopping_monitor\n",
        "early_stopping_monitor = EarlyStopping(patience=2)\n",
        "\n",
        "# Fit the model\n",
        "model.fit(predictors, target, epochs=30, validation_split=0.3, callbacks=[early_stopping_monitor])\n"
      ],
      "metadata": {
        "colab": {
          "base_uri": "https://localhost:8080/"
        },
        "id": "LI-rvpgzoLcp",
        "outputId": "c8da89c7-4db2-4d51-c9a9-ea0cecf3289f"
      },
      "execution_count": 57,
      "outputs": [
        {
          "output_type": "stream",
          "name": "stdout",
          "text": [
            "Epoch 1/30\n",
            "20/20 [==============================] - 1s 26ms/step - loss: 0.8968 - accuracy: 0.5827 - val_loss: 0.5879 - val_accuracy: 0.6493\n",
            "Epoch 2/30\n",
            "20/20 [==============================] - 0s 11ms/step - loss: 0.6952 - accuracy: 0.6421 - val_loss: 0.5523 - val_accuracy: 0.7276\n",
            "Epoch 3/30\n",
            "20/20 [==============================] - 0s 8ms/step - loss: 0.8348 - accuracy: 0.6501 - val_loss: 0.5463 - val_accuracy: 0.7239\n",
            "Epoch 4/30\n",
            "20/20 [==============================] - 0s 5ms/step - loss: 0.6455 - accuracy: 0.6677 - val_loss: 0.5382 - val_accuracy: 0.7463\n",
            "Epoch 5/30\n",
            "20/20 [==============================] - 0s 5ms/step - loss: 0.5839 - accuracy: 0.6886 - val_loss: 0.5096 - val_accuracy: 0.7575\n",
            "Epoch 6/30\n",
            "20/20 [==============================] - 0s 8ms/step - loss: 0.5867 - accuracy: 0.6806 - val_loss: 0.4983 - val_accuracy: 0.7612\n",
            "Epoch 7/30\n",
            "20/20 [==============================] - 0s 6ms/step - loss: 0.5796 - accuracy: 0.6902 - val_loss: 0.5285 - val_accuracy: 0.7649\n",
            "Epoch 8/30\n",
            "20/20 [==============================] - 0s 5ms/step - loss: 0.5659 - accuracy: 0.7191 - val_loss: 0.6377 - val_accuracy: 0.7164\n"
          ]
        },
        {
          "output_type": "execute_result",
          "data": {
            "text/plain": [
              "<keras.callbacks.History at 0x7fde9bd73290>"
            ]
          },
          "metadata": {},
          "execution_count": 57
        }
      ]
    },
    {
      "cell_type": "markdown",
      "source": [
        "# Experimenting with wider networks\n",
        "Now you know everything you need to begin experimenting with different models!\n",
        "\n",
        "A model called model_1 has been pre-loaded. You can see a summary of this model printed in the IPython Shell. This is a relatively small network, with only 10 units in each hidden layer.\n",
        "\n",
        "In this exercise you'll create a new model called model_2 which is similar to model_1, except it has 100 units in each hidden layer.\n",
        "\n",
        "After you create model_2, both models will be fitted, and a graph showing both models loss score at each epoch will be shown. We added the argument verbose=False in the fitting commands to print out fewer updates, since you will look at these graphically instead of as text.\n",
        "\n",
        "Because you are fitting two models, it will take a moment to see the outputs after you hit run, so be patient."
      ],
      "metadata": {
        "id": "ind7dFVdpq0s"
      }
    },
    {
      "cell_type": "code",
      "source": [
        "# Define early_stopping_monitor\n",
        "early_stopping_monitor= EarlyStopping(patience=2)\n",
        "\n",
        "# create model_1\n",
        "model_1= Sequential()\n",
        "\n",
        "# create dense layers\n",
        "model_1.add(keras.layers.Dense(10, activation='relu', input_shape=input_shape))\n",
        "model_1.add(keras.layers.Dense(10, activation='relu'))\n",
        "model_1.add(keras.layers.Dense(2, activation='softmax'))\n",
        "\n",
        "# compile\n",
        "model_1.compile(optimizer='adam', loss='categorical_crossentropy', metrics=['accuracy'])\n",
        "\n",
        "# Create the new model: model_2\n",
        "model_2 = Sequential()\n",
        "\n",
        "# Add the first and second layers\n",
        "model_2.add(keras.layers.Dense(100, activation='relu', input_shape=input_shape))\n",
        "model_2.add(keras.layers.Dense(100, activation='relu'))\n",
        "\n",
        "# Add the output layer\n",
        "model_2.add(keras.layers.Dense(2, activation='softmax'))\n",
        "\n",
        "# Compile model_2\n",
        "model_2.compile(optimizer='adam', loss='categorical_crossentropy', metrics=['accuracy'])\n",
        "\n",
        "# Fit model_1\n",
        "model_1_training = model_1.fit(predictors, target, epochs=15, validation_split=0.2, callbacks=[early_stopping_monitor], verbose=False)\n",
        "\n",
        "# Fit model_2\n",
        "model_2_training = model_2.fit(predictors, target, epochs=15, validation_split=0.2, callbacks=[early_stopping_monitor], verbose=False)\n",
        "\n",
        "# Create the plot\n",
        "plt.plot(model_1_training.history['val_loss'], 'r', model_2_training.history['val_loss'], 'b')\n",
        "plt.xlabel('Epochs')\n",
        "plt.ylabel('Validation score')\n",
        "plt.show()\n"
      ],
      "metadata": {
        "colab": {
          "base_uri": "https://localhost:8080/",
          "height": 279
        },
        "id": "v0JR69eapNb3",
        "outputId": "bb7bb8cf-1045-4125-fdb0-62765e52f46b"
      },
      "execution_count": 60,
      "outputs": [
        {
          "output_type": "display_data",
          "data": {
            "text/plain": [
              "<Figure size 432x288 with 1 Axes>"
            ],
            "image/png": "[encoded data removed]"
          },
          "metadata": {
            "needs_background": "light"
          }
        }
      ]
    },
    {
      "cell_type": "markdown",
      "source": [
        "# Adding layers to a network\n",
        "You've seen how to experiment with wider networks. In this exercise, you'll try a deeper network (more hidden layers).\n",
        "\n",
        "Once again, you have a baseline model called model_1 as a starting point. It has 1 hidden layer, with 50 units. You can see a summary of that model's structure printed out. You will create a similar network with 3 hidden layers (still keeping 50 units in each layer).\n",
        "\n",
        "This will again take a moment to fit both models, so you'll need to wait a few seconds to see the results after you run your code."
      ],
      "metadata": {
        "id": "u6EsFU69rD7X"
      }
    },
    {
      "cell_type": "code",
      "source": [
        "# create model_1\n",
        "model_1= Sequential()\n",
        "\n",
        "# create dense layers\n",
        "model_1.add(keras.layers.Dense(50, activation='relu', input_shape=input_shape))\n",
        "model_1.add(keras.layers.Dense(2, activation='softmax'))\n",
        "\n",
        "# compile\n",
        "model_1.compile(optimizer='adam', loss='categorical_crossentropy', metrics=['accuracy'])\n",
        "\n",
        "# The input shape to use in the first hidden layer\n",
        "input_shape = (n_cols,)\n",
        "\n",
        "# Create the new model: model_2\n",
        "model_2 = Sequential()\n",
        "\n",
        "# Add the first, second, and third hidden layers\n",
        "model_2.add(keras.layers.Dense(50, activation='relu', input_shape=input_shape))\n",
        "model_2.add(keras.layers.Dense(50, activation='relu'))\n",
        "model_2.add(keras.layers.Dense(50, activation='relu'))\n",
        "\n",
        "# Add the output layer\n",
        "model_2.add(keras.layers.Dense(2, activation='softmax'))\n",
        "\n",
        "# Compile model_2\n",
        "model_2.compile(optimizer='adam', loss='categorical_crossentropy', metrics=['accuracy'])\n",
        "\n",
        "# Fit model 1\n",
        "model_1_training = model_1.fit(predictors, target, epochs=20, validation_split=0.4, callbacks=[early_stopping_monitor], verbose=False)\n",
        "\n",
        "# Fit model 2\n",
        "model_2_training = model_2.fit(predictors, target, epochs=20, validation_split=0.4, callbacks=[early_stopping_monitor], verbose=False)\n",
        "\n",
        "# Create the plot\n",
        "plt.plot(model_1_training.history['val_loss'], 'r', model_2_training.history['val_loss'], 'b')\n",
        "plt.xlabel('Epochs')\n",
        "plt.ylabel('Validation score')\n",
        "plt.show()\n"
      ],
      "metadata": {
        "colab": {
          "base_uri": "https://localhost:8080/",
          "height": 279
        },
        "id": "6sZx67BpqntP",
        "outputId": "45b4088e-f7e6-4c70-8d86-12cfd12f1ecd"
      },
      "execution_count": 61,
      "outputs": [
        {
          "output_type": "display_data",
          "data": {
            "text/plain": [
              "<Figure size 432x288 with 1 Axes>"
            ],
            "image/png": "[encoded data removed]"
          },
          "metadata": {
            "needs_background": "light"
          }
        }
      ]
    },
    {
      "cell_type": "markdown",
      "source": [
        "# Experimenting with model structures\n",
        "You've just run an experiment where you compared two networks that were identical except that the 2nd network had an extra hidden layer. You see that this 2nd network (the deeper network) had better performance. Given that, which of the following would be a good experiment to run next for even better performance?\n",
        "\n",
        "Answer: \n",
        "Try a new network with fewer layers than anything you have tried yet."
      ],
      "metadata": {
        "id": "Qt4cbDblrdyH"
      }
    },
    {
      "cell_type": "markdown",
      "source": [
        "# Building your own digit recognition model\n",
        "You've reached the final exercise of the course - you now know everything you need to build an accurate model to recognize handwritten digits!\n",
        "\n",
        "We've already done the basic manipulation of the MNIST dataset shown in the video, so you have X and y loaded and ready to model with. Sequential and Dense from Keras are also pre-imported.\n",
        "\n",
        "To add an extra challenge, we've loaded only 2500 images, rather than 60000 which you will see in some published results. Deep learning models perform better with more data, however, they also take longer to train, especially when they start becoming more complex.\n",
        "\n",
        "If you have a computer with a CUDA compatible GPU, you can take advantage of it to improve computation time. If you don't have a GPU, no problem! You can set up a deep learning environment in the cloud that can run your models on a GPU. Here is a blog post by Dan that explains how to do this - check it out after completing this exercise! It is a great next step as you continue your deep learning journey.\n",
        "\n",
        "Ready to take your deep learning to the next level? Check out Advanced Deep Learning with Keras to see how the Keras functional API lets you build domain knowledge to solve new types of problems. Once you know how to use the functional API, take a look at Image Processing with Keras in Python to learn image-specific applications of Keras."
      ],
      "metadata": {
        "id": "2dcOfR6Zrl9J"
      }
    },
    {
      "cell_type": "code",
      "source": [
        "mnist= pd.read_csv('https://assets.datacamp.com/production/repositories/654/datasets/24769dae9dc51a77b9baa785d42ea42e3f8f7538/mnist.csv')\n",
        "mnist\n",
        "X= np.array(mnist.drop('5', axis=1), np.float32)\n",
        "y= to_categorical(mnist['5'])\n",
        "n_cols= X.shape[1]\n",
        "input_shape= (n_cols, )"
      ],
      "metadata": {
        "id": "E5TWxhztrMAF"
      },
      "execution_count": 68,
      "outputs": []
    },
    {
      "cell_type": "code",
      "source": [
        "# Create the model: model\n",
        "model = Sequential()\n",
        "\n",
        "# Add the first hidden layer\n",
        "model.add(Dense(50, activation='relu', input_shape=(784, )))\n",
        "\n",
        "# Add the second hidden layer\n",
        "model.add(Dense(50, activation='relu'))\n",
        "\n",
        "# Add the output layer\n",
        "model.add(Dense(10, activation='softmax'))\n",
        "\n",
        "# Compile the model\n",
        "model.compile(optimizer='adam', loss='categorical_crossentropy', metrics=['accuracy'])\n",
        "\n",
        "# Fit the model\n",
        "model.fit(X,y, validation_split=0.3, epochs=10)\n"
      ],
      "metadata": {
        "colab": {
          "base_uri": "https://localhost:8080/"
        },
        "id": "k5fazcoLrtFT",
        "outputId": "79122300-feeb-4607-8324-d3a51976c1d9"
      },
      "execution_count": 72,
      "outputs": [
        {
          "output_type": "stream",
          "name": "stdout",
          "text": [
            "Epoch 1/10\n",
            "44/44 [==============================] - 2s 16ms/step - loss: 23.9285 - accuracy: 0.4121 - val_loss: 5.9711 - val_accuracy: 0.6067\n",
            "Epoch 2/10\n",
            "44/44 [==============================] - 0s 8ms/step - loss: 4.1916 - accuracy: 0.6779 - val_loss: 3.7878 - val_accuracy: 0.6800\n",
            "Epoch 3/10\n",
            "44/44 [==============================] - 0s 8ms/step - loss: 2.0891 - accuracy: 0.7743 - val_loss: 3.6935 - val_accuracy: 0.7017\n",
            "Epoch 4/10\n",
            "44/44 [==============================] - 0s 9ms/step - loss: 1.2451 - accuracy: 0.8307 - val_loss: 2.8536 - val_accuracy: 0.7550\n",
            "Epoch 5/10\n",
            "44/44 [==============================] - 0s 5ms/step - loss: 0.6876 - accuracy: 0.8836 - val_loss: 2.9980 - val_accuracy: 0.7283\n",
            "Epoch 6/10\n",
            "44/44 [==============================] - 0s 4ms/step - loss: 0.4664 - accuracy: 0.9157 - val_loss: 2.8232 - val_accuracy: 0.7583\n",
            "Epoch 7/10\n",
            "44/44 [==============================] - 0s 5ms/step - loss: 0.3208 - accuracy: 0.9386 - val_loss: 2.7140 - val_accuracy: 0.7600\n",
            "Epoch 8/10\n",
            "44/44 [==============================] - 0s 4ms/step - loss: 0.1894 - accuracy: 0.9571 - val_loss: 2.8431 - val_accuracy: 0.7517\n",
            "Epoch 9/10\n",
            "44/44 [==============================] - 0s 5ms/step - loss: 0.1410 - accuracy: 0.9693 - val_loss: 2.7302 - val_accuracy: 0.7600\n",
            "Epoch 10/10\n",
            "44/44 [==============================] - 0s 5ms/step - loss: 0.1160 - accuracy: 0.9721 - val_loss: 2.5349 - val_accuracy: 0.7750\n"
          ]
        },
        {
          "output_type": "execute_result",
          "data": {
            "text/plain": [
              "<keras.callbacks.History at 0x7fde9ff46d90>"
            ]
          },
          "metadata": {},
          "execution_count": 72
        }
      ]
    },
    {
      "cell_type": "code",
      "source": [],
      "metadata": {
        "id": "KH154nXMsDKj"
      },
      "execution_count": null,
      "outputs": []
    }
  ]
}