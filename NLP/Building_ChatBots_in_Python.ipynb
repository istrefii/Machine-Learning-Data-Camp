{
  "nbformat": 4,
  "nbformat_minor": 0,
  "metadata": {
    "colab": {
      "provenance": []
    },
    "kernelspec": {
      "name": "python3",
      "display_name": "Python 3"
    },
    "language_info": {
      "name": "python"
    }
  },
  "cells": [
    {
      "cell_type": "markdown",
      "source": [
        "# Course Description\n",
        "Messaging and voice-controlled devices are the next big platforms, and conversational computing has a big role to play in creating engaging augmented and virtual reality experiences. This course will get you started on the path toward building such applications. There are a number of unique challenges to building these kinds of programs, like how do I turn human language into instructions for machines? In this course, you'll tackle this first with rule-based systems and then with machine learning. Some chat systems are designed to be useful, while others are just good fun. You will build one of each and put everything together to make a helpful, friendly chatbot. Once you complete the course, you’ll also learn how to  connect your chatbot to Facebook Messenger!"
      ],
      "metadata": {
        "id": "jRHZ7cdm7yKy"
      }
    },
    {
      "cell_type": "markdown",
      "source": [
        "# CHAPTER 1 Chatbots 101\n",
        "\n",
        "In this chapter, you'll learn how to build your first chatbot. After gaining a bit of historical context, you'll set up a basic structure for receiving text and responding to users, and then learn how to add the basic elements of personality. You'll then build rule-based systems for parsing text."
      ],
      "metadata": {
        "id": "1BDBmIh87yOH"
      }
    },
    {
      "cell_type": "markdown",
      "source": [
        "## Introduction to conversational software\n"
      ],
      "metadata": {
        "id": "nYYNz3NJ7yRP"
      }
    },
    {
      "cell_type": "markdown",
      "source": [
        "### EchoBot I\n",
        "Hello, World!\n",
        "\n",
        "You'll begin learning how to build chatbots in Python by writing two functions to build the simplest bot possible: EchoBot. EchoBot just responds by replying with the same message it receives.\n",
        "\n",
        "In this exercise, you'll define a function that responds to a user's message. In the next exercise, you'll complete EchoBot by writing a function to send a message to the bot."
      ],
      "metadata": {
        "id": "A76IRKeX7yT3"
      }
    },
    {
      "cell_type": "code",
      "source": [
        "bot_template = \"BOT : {0}\"\n",
        "user_template = \"USER : {0}\"\n",
        "\n",
        "# Define a function that responds to a user's message: respond\n",
        "def respond(message):\n",
        "    # Concatenate the user's message to the end of a standard bot respone\n",
        "    bot_message = \"I can hear you! You said: \" + message\n",
        "    # Return the result\n",
        "    return bot_message\n",
        "\n",
        "# Test function\n",
        "print(respond(\"hello!\"))"
      ],
      "metadata": {
        "colab": {
          "base_uri": "https://localhost:8080/"
        },
        "id": "P43p82g48T4j",
        "outputId": "924231c4-bfd4-486e-bfb8-4bc56643ef32"
      },
      "execution_count": 1,
      "outputs": [
        {
          "output_type": "stream",
          "name": "stdout",
          "text": [
            "I can hear you! You said: hello!\n"
          ]
        }
      ]
    },
    {
      "cell_type": "markdown",
      "source": [
        "### EchoBot II\n",
        "Having written your respond() function, you'll now define a function called send_message() with a single parameter message which logs the message and the bot's response.\n",
        "\n"
      ],
      "metadata": {
        "id": "7sl_KXWA8aCz"
      }
    },
    {
      "cell_type": "code",
      "source": [
        "# Create templates\n",
        "bot_template = \"BOT : {0}\"\n",
        "user_template = \"USER : {0}\"\n",
        "\n",
        "# Define a function that sends a message to the bot: send_message\n",
        "def send_message(message):\n",
        "    # Print user_template including the user_message\n",
        "    print(user_template.format(message))\n",
        "    # Get the bot's response to the message\n",
        "    response = respond(message)\n",
        "    # Print the bot template including the bot's response.\n",
        "    print(bot_template.format(response))\n",
        "\n",
        "# Send a message to the bot\n",
        "send_message(\"hello\")"
      ],
      "metadata": {
        "colab": {
          "base_uri": "https://localhost:8080/"
        },
        "id": "fh2nX-AD8Wot",
        "outputId": "704ec5e9-7b9f-4bad-c052-3f08d21a030c"
      },
      "execution_count": 2,
      "outputs": [
        {
          "output_type": "stream",
          "name": "stdout",
          "text": [
            "USER : hello\n",
            "BOT : I can hear you! You said: hello\n"
          ]
        }
      ]
    },
    {
      "cell_type": "markdown",
      "source": [
        "## Creating a personality\n"
      ],
      "metadata": {
        "id": "ZMAYhLhJ8i2l"
      }
    },
    {
      "cell_type": "markdown",
      "source": [
        "### Chitchat\n",
        "Now you're going to leave the simple EchoBot behind and create a bot which can answer simple questions such as \"What's your name?\" and \"What's today's weather?\"\n",
        "\n",
        "You'll use a dictionary with these questions as keys and the correct responses as values.\n",
        "\n",
        "This means the bot will only respond correctly if the message matches exactly, which is a big limitation. In later exercises you will create much more robust solutions.\n",
        "\n",
        "The send_message() function has already been defined for you, as well as the bot_template and user_template variables."
      ],
      "metadata": {
        "id": "nlKkBDTQ8kCo"
      }
    },
    {
      "cell_type": "code",
      "source": [
        "# Define variables\n",
        "name = \"Greg\"\n",
        "weather = \"cloudy\"\n",
        "\n",
        "# Define a dictionary with the predefined responses\n",
        "responses = {\n",
        "  \"what's your name?\": \"my name is {0}\".format(name),\n",
        "  \"what's today's weather?\": \"the weather is {0}\".format(weather),\n",
        "  \"default\": \"default message\"\n",
        "}\n",
        "\n",
        "# Return the matching response if there is one, default otherwise\n",
        "def respond(message):\n",
        "    # Check if the message is in the responses\n",
        "    if message in responses:\n",
        "        # Return the matching message\n",
        "        bot_message = responses[message]\n",
        "    else:\n",
        "        # Return the \"default\" message\n",
        "        bot_message = responses[\"default\"]\n",
        "    return bot_message"
      ],
      "metadata": {
        "id": "SDYMB0S-8gD5"
      },
      "execution_count": 3,
      "outputs": []
    },
    {
      "cell_type": "code",
      "source": [
        "respond(\"what's today's weather?\")"
      ],
      "metadata": {
        "colab": {
          "base_uri": "https://localhost:8080/",
          "height": 35
        },
        "id": "Vf4Mx0rl8pVr",
        "outputId": "55048450-6f11-4d47-d6aa-713403b9bf5f"
      },
      "execution_count": 4,
      "outputs": [
        {
          "output_type": "execute_result",
          "data": {
            "text/plain": [
              "'the weather is cloudy'"
            ],
            "application/vnd.google.colaboratory.intrinsic+json": {
              "type": "string"
            }
          },
          "metadata": {},
          "execution_count": 4
        }
      ]
    },
    {
      "cell_type": "markdown",
      "source": [
        "### Adding variety\n",
        "It can get a little boring hearing the same old answers over and over. In this exercise, you'll add some variation. If you ask your bot how it's feeling, the likelihood that it responds with \"oh I'm great!\" or \"I'm very sad today\" should be equal.\n",
        "\n",
        "Here, you'll use the random module - specifically random.choice(ls) - which randomly selects an element from a list ls.\n",
        "\n",
        "A dictionary called responses, which maps each message to a list of possible responses, has been defined for you."
      ],
      "metadata": {
        "id": "NdLFwaIv83C_"
      }
    },
    {
      "cell_type": "code",
      "source": [
        "# Import the random module\n",
        "import random\n",
        "\n",
        "name = \"Greg\"\n",
        "weather = \"cloudy\"\n",
        "\n",
        "# Define a dictionary containing a list of responses for each message\n",
        "responses = {\n",
        "  \"what's your name?\": [\n",
        "      \"my name is {0}\".format(name),\n",
        "      \"they call me {0}\".format(name),\n",
        "      \"I go by {0}\".format(name)\n",
        "   ],\n",
        "  \"what's today's weather?\": [\n",
        "      \"the weather is {0}\".format(weather),\n",
        "      \"it's {0} today\".format(weather)\n",
        "    ],\n",
        "  \"default\": [\"default message\"]\n",
        "}\n",
        "\n",
        "# Use random.choice() to choose a matching response\n",
        "def respond(message):\n",
        "    # Check if the message is in the responses\n",
        "    if message in responses:\n",
        "        # Return a random matching response\n",
        "        bot_message = random.choice(responses[message])\n",
        "    else:\n",
        "        # Return a random \"default\" response\n",
        "        bot_message = random.choice(responses[\"default\"])\n",
        "    return bot_message\n",
        "\n",
        "respond(\"what's your name?\")"
      ],
      "metadata": {
        "colab": {
          "base_uri": "https://localhost:8080/",
          "height": 35
        },
        "id": "WytI4KkP8tOu",
        "outputId": "8570c34b-d290-4d34-e8a6-d09f60966bb2"
      },
      "execution_count": 5,
      "outputs": [
        {
          "output_type": "execute_result",
          "data": {
            "text/plain": [
              "'they call me Greg'"
            ],
            "application/vnd.google.colaboratory.intrinsic+json": {
              "type": "string"
            }
          },
          "metadata": {},
          "execution_count": 5
        }
      ]
    },
    {
      "cell_type": "markdown",
      "source": [
        "### ELIZA I: asking questions\n",
        "Asking questions is a great way to create an engaging conversation. Here, you'll create the very first hint of ELIZA's famous personality, by responding to statements with a question and responding to questions with answers.\n",
        "\n",
        "A dictionary of responses with \"question\" and \"statement\" as keys and lists of appropriate responses as values has already been defined for you. Explore this in the Shell with responses.keys() and responses[\"question\"]"
      ],
      "metadata": {
        "id": "z0ZUE2df9ER3"
      }
    },
    {
      "cell_type": "code",
      "source": [
        "import random\n",
        "\n",
        "responses= {'question': [\"I don't know :(\", 'you tell me!'],\n",
        " 'statement': ['tell me more!',\n",
        "  'why do you think that?',\n",
        "  'how long have you felt this way?',\n",
        "  'I find that extremely interesting',\n",
        "  'can you back that up?',\n",
        "  'oh wow!',\n",
        "  ':)']}\n",
        "\n",
        "def respond(message):\n",
        "    # Check for a question mark\n",
        "    if message.endswith(\"?\"):\n",
        "        # Return a random question\n",
        "        return random.choice(responses[\"question\"])\n",
        "    # Return a random statement\n",
        "    return random.choice(responses[\"statement\"])\n",
        "\n",
        "\n",
        "# Send messages ending in a question mark\n",
        "send_message(\"what's today's weather?\")\n",
        "send_message(\"what's today's weather?\")\n",
        "\n",
        "# Send messages which don't end with a question mark\n",
        "send_message(\"I love building chatbots\")\n",
        "send_message(\"I love building chatbots\")\n"
      ],
      "metadata": {
        "colab": {
          "base_uri": "https://localhost:8080/"
        },
        "id": "vDp7Y2NI89Bv",
        "outputId": "b347c052-dd07-4f48-8a4c-2a818fe16f68"
      },
      "execution_count": 7,
      "outputs": [
        {
          "output_type": "stream",
          "name": "stdout",
          "text": [
            "USER : what's today's weather?\n",
            "BOT : I don't know :(\n",
            "USER : what's today's weather?\n",
            "BOT : I don't know :(\n",
            "USER : I love building chatbots\n",
            "BOT : tell me more!\n",
            "USER : I love building chatbots\n",
            "BOT : I find that extremely interesting\n"
          ]
        }
      ]
    },
    {
      "cell_type": "markdown",
      "source": [
        "## Text processing with regular expressions\n"
      ],
      "metadata": {
        "id": "H0WIikTi9XbY"
      }
    },
    {
      "cell_type": "markdown",
      "source": [
        "### ELIZA II: Extracting key phrases\n",
        "The really clever thing about ELIZA is the way the program appears to understand what you told it by occasionally including phrases uttered by the user in its responses.\n",
        "\n",
        "In this exercise, you will match messages against some common patterns and extract phrases using re.search(). A dictionary called rules has already been defined, which matches the following patterns:\n",
        "\n",
        "\"do you think (.*)\"\n",
        "\"do you remember (.*)\"\n",
        "\"I want (.*)\"\n",
        "\"if (.*)\"\n",
        "Inspect this dictionary in the Shell before starting the exercise."
      ],
      "metadata": {
        "id": "WpgVfIPO9ZCv"
      }
    },
    {
      "cell_type": "code",
      "source": [
        "rules= {'I want (.*)': ['What would it mean if you got {0}',\n",
        "  'Why do you want {0}',\n",
        "  \"What's stopping you from getting {0}\"],\n",
        " 'do you remember (.*)': ['Did you think I would forget {0}',\n",
        "  \"Why haven't you been able to forget {0}\",\n",
        "  'What about {0}',\n",
        "  'Yes .. and?'],\n",
        " 'do you think (.*)': ['if {0}? Absolutely.', 'No chance'],\n",
        " 'if (.*)': [\"Do you really think it's likely that {0}\",\n",
        "  'Do you wish that {0}',\n",
        "  'What do you think about {0}',\n",
        "  'Really--if {0}']}\n",
        "\n",
        "import re\n",
        "# Define match_rule()\n",
        "def match_rule(rules, message):\n",
        "    response, phrase = \"default\", None\n",
        "\n",
        "    # Iterate over the rules dictionary\n",
        "    for pattern, responses in rules.items():\n",
        "        # Create a match object\n",
        "        match = re.search(pattern, message)\n",
        "        if match is not None:\n",
        "            # Choose a random response\n",
        "            response = random.choice(responses)\n",
        "            if '{0}' in response:\n",
        "                phrase = match.group(1)\n",
        "    # Return the response and phrase\n",
        "    return response.format(phrase)\n",
        "\n",
        "# Test match_rule\n",
        "print(match_rule(rules, \"do you remember your last birthday\"))"
      ],
      "metadata": {
        "colab": {
          "base_uri": "https://localhost:8080/"
        },
        "id": "4ykDkSy39UvF",
        "outputId": "5f1f5b09-a4b7-4932-86a7-f19bbf6d5bf8"
      },
      "execution_count": 8,
      "outputs": [
        {
          "output_type": "stream",
          "name": "stdout",
          "text": [
            "Why haven't you been able to forget your last birthday\n"
          ]
        }
      ]
    },
    {
      "cell_type": "markdown",
      "source": [
        "### ELIZA III: Pronouns\n",
        "To make responses grammatically coherent, you'll want to transform the extracted phrases from first to second person and vice versa. In English, conjugating verbs is easy, and simply swapping \"me\" and 'you', \"my\" and \"your\" works in most cases.\n",
        "\n",
        "In this exercise, you'll define a function called replace_pronouns() which uses re.sub() to map \"me\" and \"my\" to \"you\" and \"your\" (and vice versa) in a string."
      ],
      "metadata": {
        "id": "pMsB30J_92Na"
      }
    },
    {
      "cell_type": "code",
      "source": [
        "# Define replace_pronouns()\n",
        "def replace_pronouns(message):\n",
        "\n",
        "    message = message.lower()\n",
        "    if 'me' in message:\n",
        "        # Replace 'me' with 'you'\n",
        "        return re.sub(\"me\", \"you\", message)\n",
        "    if 'my' in message:\n",
        "        # Replace 'my' with 'your'\n",
        "        return re.sub(\"my\", \"your\", message)\n",
        "    if 'your' in message:\n",
        "        # Replace 'your' with 'my'\n",
        "        return re.sub(\"your\", \"my\", message)\n",
        "    if 'you' in message:\n",
        "        # Replace 'you' with 'me'\n",
        "        return re.sub(\"you\", \"me\", message)\n",
        "\n",
        "    return message\n",
        "\n",
        "print(replace_pronouns(\"my last birthday\"))\n",
        "print(replace_pronouns(\"when you went to Florida\"))\n",
        "print(replace_pronouns(\"I had my own castle\"))"
      ],
      "metadata": {
        "colab": {
          "base_uri": "https://localhost:8080/"
        },
        "id": "lEvZRRJ19wOX",
        "outputId": "d50bcd24-e0b5-4e0c-af47-d746ec15eb10"
      },
      "execution_count": 9,
      "outputs": [
        {
          "output_type": "stream",
          "name": "stdout",
          "text": [
            "your last birthday\n",
            "when me went to florida\n",
            "i had your own castle\n"
          ]
        }
      ]
    },
    {
      "cell_type": "markdown",
      "source": [
        "### ELIZA IV: Putting it all together\n",
        "Now you're going to put everything from the previous exercises together and experience the magic! The match_rule(), send_message(), and replace_pronouns() functions have already been defined, and the rules dictionary is available in your workspace.\n",
        "\n",
        "Your job here is to write a function called respond() with a single argument message which creates an appropriate response to be handled by send_message()."
      ],
      "metadata": {
        "id": "InivwFue96Yz"
      }
    },
    {
      "cell_type": "code",
      "source": [
        "# functions\n",
        "def match_rule(rules, message):\n",
        "    for pattern, responses in rules.items():\n",
        "        match = re.search(pattern, message)\n",
        "        if match is not None:\n",
        "            response = random.choice(responses)\n",
        "            var = match.group(1) if '{0}' in response else None\n",
        "            return response, var\n",
        "    return \"default\", None\n",
        "\n",
        "def send_message(message):\n",
        "    print(user_template.format(message))\n",
        "    response = respond(message)\n",
        "    print(bot_template.format(response))\n",
        "\n",
        "def replace_pronouns(message):\n",
        "\n",
        "    message = message.lower()\n",
        "    if 'me' in message:\n",
        "        return re.sub('me', 'you', message)\n",
        "    elif 'my' in message:\n",
        "        return re.sub('my', 'your', message)\n",
        "    elif 'your' in message:\n",
        "        return re.sub('your', 'my', message)\n",
        "    elif 'you' in message:\n",
        "        return re.sub('you', 'me', message)\n",
        "\n",
        "    return message\n",
        "\n",
        "rules= {'I want (.*)': ['What would it mean if you got {0}',\n",
        "  'Why do you want {0}',\n",
        "  \"What's stopping you from getting {0}\"],\n",
        " 'do you remember (.*)': ['Did you think I would forget {0}',\n",
        "  \"Why haven't you been able to forget {0}\",\n",
        "  'What about {0}',\n",
        "  'Yes .. and?'],\n",
        " 'do you think (.*)': ['if {0}? Absolutely.', 'No chance'],\n",
        " 'if (.*)': [\"Do you really think it's likely that {0}\",\n",
        "  'Do you wish that {0}',\n",
        "  'What do you think about {0}',\n",
        "  'Really--if {0}']}"
      ],
      "metadata": {
        "id": "RMQxRtfXDMvL"
      },
      "execution_count": 10,
      "outputs": []
    },
    {
      "cell_type": "code",
      "source": [
        "0# Define respond()\n",
        "def respond(message):\n",
        "    # Call match_rule\n",
        "    response, phrase = match_rule(rules, message)\n",
        "    if '{0}' in response:\n",
        "        # Replace the pronouns in the phrase\n",
        "        phrase = replace_pronouns(phrase)\n",
        "        # Include the phrase in the response\n",
        "        response = response.format(phrase)\n",
        "    return response\n",
        "\n",
        "# Send the messages\n",
        "send_message(\"do you remember your last birthday\")\n",
        "send_message(\"do you think humans should be worried about AI\")\n",
        "send_message(\"I want a robot friend\")\n",
        "send_message(\"what if you could be anything you wanted\")"
      ],
      "metadata": {
        "colab": {
          "base_uri": "https://localhost:8080/"
        },
        "id": "0wtYi_Np937w",
        "outputId": "4de7c09e-919b-48dc-8801-2fbc024ab4fd"
      },
      "execution_count": 11,
      "outputs": [
        {
          "output_type": "stream",
          "name": "stdout",
          "text": [
            "USER : do you remember your last birthday\n",
            "BOT : Yes .. and?\n",
            "USER : do you think humans should be worried about AI\n",
            "BOT : No chance\n",
            "USER : I want a robot friend\n",
            "BOT : Why do you want a robot friend\n",
            "USER : what if you could be anything you wanted\n",
            "BOT : What do you think about me could be anything me wanted\n"
          ]
        }
      ]
    },
    {
      "cell_type": "markdown",
      "source": [
        "# CHAPTER 2 Understanding natural language\n",
        "\n",
        "Here, you'll use machine learning to turn natural language into structured data using spaCy, scikit-learn, and rasa NLU. You'll start with a refresher on the theoretical foundations and then move onto building models using the ATIS dataset, which contains thousands of sentences from real people interacting with a flight booking system."
      ],
      "metadata": {
        "id": "F0tQnXMjEOMK"
      }
    },
    {
      "cell_type": "markdown",
      "source": [
        "## Understanding intents and entities\n",
        "\n",
        "Intents: what a person is trying to say\n",
        "\n",
        "Entities: NER\n",
        "\n",
        "Regular expressions to recognize intents: simple, highly computational\n"
      ],
      "metadata": {
        "id": "o-Ve7GRrFA2G"
      }
    },
    {
      "cell_type": "markdown",
      "source": [
        "### Intent classification with regex I\n",
        "You'll begin by implementing a very simple technique to recognize intents - looking for the presence of keywords.\n",
        "\n",
        "A dictionary, keywords, has already been defined. It has the intents \"greet\", \"goodbye\", and \"thankyou\" as keys, and lists of keywords as the corresponding values. For example, keywords[\"greet\"] is set to \"[\"hello\",\"hi\",\"hey\"].\n",
        "\n",
        "Also defined is a second dictionary, responses, indicating how the bot should respond to each of these intents. It also has a default response with the key \"default\".\n",
        "\n",
        "The function send_message(), along with the bot and user templates, have also already been defined. Your job in this exercise is to create a dictionary with the intents as keys and regex objects as values."
      ],
      "metadata": {
        "id": "wvntYjd4GPku"
      }
    },
    {
      "cell_type": "code",
      "source": [
        "keywords= {'goodbye': ['bye', 'farewell'],\n",
        "           'greet': ['hello', 'hi', 'hey'],\n",
        "           'thankyou': ['thank', 'thx']}\n",
        "\n",
        "responses= {'default': 'default message',\n",
        " 'goodbye': 'goodbye for now',\n",
        " 'greet': 'Hello you! :)',\n",
        " 'thankyou': 'you are very welcome'}\n",
        "\n",
        " # define a dictonary of patters\n",
        "patterns= {}\n",
        "\n",
        " # iterate over the keywords dictionary\n",
        "for intent, keys in keywords.items():\n",
        "  patterns[intent]= re.compile('|'.join(keys))\n",
        "\n",
        "# print patterns\n",
        "print(patterns)"
      ],
      "metadata": {
        "colab": {
          "base_uri": "https://localhost:8080/"
        },
        "id": "7FaWaKxs-lip",
        "outputId": "a5c69e1a-bef8-481c-95bf-caf1fe50bf61"
      },
      "execution_count": 12,
      "outputs": [
        {
          "output_type": "stream",
          "name": "stdout",
          "text": [
            "{'goodbye': re.compile('bye|farewell'), 'greet': re.compile('hello|hi|hey'), 'thankyou': re.compile('thank|thx')}\n"
          ]
        }
      ]
    },
    {
      "cell_type": "markdown",
      "source": [
        "### Intent classification with regex II\n",
        "With your patterns dictionary created, it's now time to define a function to find the intent of a message."
      ],
      "metadata": {
        "id": "wMGm9fvIeTOq"
      }
    },
    {
      "cell_type": "code",
      "source": [
        "# Define a function to find the intent of a message\n",
        "def match_intent(message):\n",
        "    matched_intent = None\n",
        "    for intent, pattern in patterns.items():\n",
        "        # Check if the pattern occurs in the message\n",
        "        if pattern.search(message):\n",
        "            matched_intent = intent\n",
        "    return matched_intent\n",
        "\n",
        "# Define a respond function\n",
        "def respond(message):\n",
        "    # Call the match_intent function\n",
        "    intent = match_intent(message)\n",
        "    # Fall back to the default response\n",
        "    key = \"default\"\n",
        "    if intent in responses:\n",
        "        key = intent\n",
        "    return responses[key]\n",
        "\n",
        "# Send messages\n",
        "send_message(\"hello!\")\n",
        "send_message(\"bye byeee\")\n",
        "send_message(\"thanks very much!\")"
      ],
      "metadata": {
        "colab": {
          "base_uri": "https://localhost:8080/"
        },
        "id": "f3rHNenfdsWP",
        "outputId": "142eec8f-439a-4417-9c80-46584324b156"
      },
      "execution_count": 13,
      "outputs": [
        {
          "output_type": "stream",
          "name": "stdout",
          "text": [
            "USER : hello!\n",
            "BOT : Hello you! :)\n",
            "USER : bye byeee\n",
            "BOT : goodbye for now\n",
            "USER : thanks very much!\n",
            "BOT : you are very welcome\n"
          ]
        }
      ]
    },
    {
      "cell_type": "markdown",
      "source": [
        "### Entity extraction with regex\n",
        "Now you'll use another simple method, this time for finding a person's name in a sentence, such as \"hello, my name is David Copperfield\".\n",
        "\n",
        "You'll look for the keywords \"name\" or \"call(ed)\", and find capitalized words using regex and assume those are names. Your job in this exercise is to define a find_name() function to do this."
      ],
      "metadata": {
        "id": "Tymcw91XgyRF"
      }
    },
    {
      "cell_type": "code",
      "source": [
        "# define find_name():\n",
        "def find_name(message):\n",
        "  #make name none for now\n",
        "  name= None\n",
        "  # Create a pattern for checking if the key occurs\n",
        "  name_keyword= re.compile('name|call')\n",
        "  # Create a pattern for finding cap words\n",
        "  name_pattern= re.compile('[A-Z]{1}[a-z]*')\n",
        "\n",
        "  # if you find name or call in fucntion\n",
        "  if name_keyword.search(message):\n",
        "    # get matching words in string. Get all captizaled words\n",
        "    name_words= name_pattern.findall(message)\n",
        "    if len(name_words) > 0:\n",
        "      # return name if keywords are present:\n",
        "      name= ' '.join(name_words)\n",
        "      # return name. This will return all capitazled words\n",
        "      return name\n",
        "\n",
        "# define respond()\n",
        "def respond(message):\n",
        "  # call name function to see\n",
        "  name=find_name(message)\n",
        "  # if no return then make bot say hi there\n",
        "  if name is None:\n",
        "    return 'Hi there!'\n",
        "  else:\n",
        "    return 'Hello, {0}!'.format(name)\n",
        "\n",
        "# send message\n",
        "send_message('my name is Indrit Istrefi')\n",
        "send_message('call me Drit')\n",
        "send_message('name is drit')"
      ],
      "metadata": {
        "colab": {
          "base_uri": "https://localhost:8080/"
        },
        "id": "ATi_MgmVfnsZ",
        "outputId": "f4e9e229-6c18-4745-ec04-db7db5d768a5"
      },
      "execution_count": 14,
      "outputs": [
        {
          "output_type": "stream",
          "name": "stdout",
          "text": [
            "USER : my name is Indrit Istrefi\n",
            "BOT : Hello, Indrit Istrefi!\n",
            "USER : call me Drit\n",
            "BOT : Hello, Drit!\n",
            "USER : name is drit\n",
            "BOT : Hi there!\n"
          ]
        }
      ]
    },
    {
      "cell_type": "markdown",
      "source": [
        "## Word vector\n",
        "\n",
        "Using ML. Represent text data as vectors. Cosine similarity"
      ],
      "metadata": {
        "id": "geW2mwC-yQ7L"
      }
    },
    {
      "cell_type": "markdown",
      "source": [
        "### word vectors with spaCy\n",
        "In this exercise you'll get your first experience with word vectors! You're going to use the ATIS dataset, which contains thousands of sentences from real people interacting with a flight booking system.\n",
        "\n",
        "The user utterances are available in the list sentences, and the corresponding intents in labels.\n",
        "\n",
        "Your job is to create a 2D array X with as many rows as there are sentences in the dataset, where each row is a vector describing that sentence."
      ],
      "metadata": {
        "id": "wtCC7866yRcQ"
      }
    },
    {
      "cell_type": "code",
      "source": [
        "import pandas as pd\n",
        "atis= pd.read_csv('atis_intents.csv', header=None)\n",
        "atis.rename(columns={0: 'labels', 1: 'sentences'}, inplace=True)\n",
        "# Create empty lists to store the first 30 rows of each column\n",
        "labels = []\n",
        "sentences = []\n",
        "\n",
        "# Loop through the 'labels' column and store the first 30 values in the list\n",
        "for label in atis['labels'][:30]:\n",
        "    labels.append(label)\n",
        "\n",
        "# Loop through the 'sentences' column and store the first 30 values in the list\n",
        "for sentence in atis['sentences'][:30]:\n",
        "    sentences.append(sentence)\n",
        "\n",
        "atis.head()\n",
        "sentences"
      ],
      "metadata": {
        "colab": {
          "base_uri": "https://localhost:8080/"
        },
        "id": "fheIbwCijEOw",
        "outputId": "da2a9e25-f8f5-4763-c013-021b1f263997"
      },
      "execution_count": 16,
      "outputs": [
        {
          "output_type": "execute_result",
          "data": {
            "text/plain": [
              "[' i want to fly from boston at 838 am and arrive in denver at 1110 in the morning',\n",
              " ' what flights are available from pittsburgh to baltimore on thursday morning',\n",
              " ' what is the arrival time in san francisco for the 755 am flight leaving washington',\n",
              " ' cheapest airfare from tacoma to orlando',\n",
              " ' round trip fares from pittsburgh to philadelphia under 1000 dollars',\n",
              " ' i need a flight tomorrow from columbus to minneapolis',\n",
              " ' what kind of aircraft is used on a flight from cleveland to dallas',\n",
              " ' show me the flights from pittsburgh to los angeles on thursday',\n",
              " ' all flights from boston to washington',\n",
              " ' what kind of ground transportation is available in denver',\n",
              " ' show me the flights from dallas to san francisco',\n",
              " ' show me the flights from san diego to newark by way of houston',\n",
              " \" what's the airport at orlando\",\n",
              " ' what is the cheapest flight from boston to bwi',\n",
              " ' all flights to baltimore after 6 pm',\n",
              " ' show me the first class fares from boston to denver',\n",
              " ' show me the ground transportation in denver',\n",
              " ' all flights from denver to pittsburgh leaving after 6 pm and before 7 pm',\n",
              " ' i need information on flights for tuesday leaving baltimore for dallas dallas to boston and boston to baltimore',\n",
              " ' please give me the flights from boston to pittsburgh on thursday of next week',\n",
              " ' i would like to fly from denver to pittsburgh on united airlines',\n",
              " ' show me the flights from san diego to newark',\n",
              " ' please list all first class flights on united from denver to baltimore',\n",
              " ' what kinds of planes are used by american airlines',\n",
              " \" i'd like to have some information on a ticket from denver to pittsburgh and atlanta\",\n",
              " \" i'd like to book a flight from atlanta to denver\",\n",
              " ' which airline serves denver pittsburgh and atlanta',\n",
              " \" show me all flights from boston to pittsburgh on wednesday of next week which leave boston after 2 o'clock pm\",\n",
              " ' atlanta ground transportation',\n",
              " ' i also need service from dallas to boston arriving by noon']"
            ]
          },
          "metadata": {},
          "execution_count": 16
        }
      ]
    },
    {
      "cell_type": "code",
      "source": [
        "# Load the spacy model: nlp\n",
        "nlp = spacy.load('en_core_web_sm')\n",
        "\n",
        "# Calculate the length of sentences\n",
        "n_sentences = len(sentences)\n",
        "\n",
        "# Calculate the dimensionality of nlp\n",
        "#embedding_dim = nlp.vocab.vectors_length\n",
        "embedding_dim= nlp.vocab.vectors_length\n",
        "# Initialize the array with zeros: X\n",
        "X = np.zeros((n_sentences, embedding_dim))\n",
        "\n",
        "# Iterate over the sentences\n",
        "for idx, sentence in enumerate(sentences):\n",
        "    # Pass each each sentence to the nlp object to create a document\n",
        "    doc = nlp(sentence)\n",
        "    # Save the document's .vector attribute to the corresponding row in X\n",
        "    X[idx, :] = doc.vector"
      ],
      "metadata": {
        "id": "QK_hJfkkz5bt"
      },
      "execution_count": 21,
      "outputs": []
    },
    {
      "cell_type": "markdown",
      "source": [
        "## Intents and classification\n",
        "\n"
      ],
      "metadata": {
        "id": "KMHqpo_mIqM8"
      }
    },
    {
      "cell_type": "markdown",
      "source": [
        "### Intent classification with sklearn\n",
        "An array X containing vectors describing each of the sentences in the ATIS dataset has been created for you, along with a 1D array y containing the labels. The labels are integers corresponding to the intents in the dataset. For example, label 0 corresponds to the intent atis_flight.\n",
        "\n",
        "Now, you'll use the scikit-learn library to train a classifier on this same dataset. Specifically, you will fit and evaluate a support vector classifier."
      ],
      "metadata": {
        "id": "u7VuaZhgLuX6"
      }
    },
    {
      "cell_type": "code",
      "source": [
        "# Import SVC\n",
        "from sklearn.svm import SVC\n",
        "\n",
        "# Create a support vector classifier\n",
        "clf = SVC(C=1)\n",
        "\n",
        "# Fit the classifier using the training data\n",
        "clf.fit(X_train, y_train)\n",
        "\n",
        "# Predict the labels of the test set\n",
        "y_pred = clf.predict(X_test)\n",
        "\n",
        "# Count the number of correct predictions\n",
        "n_correct = 0\n",
        "for i in range(len(y_test)):\n",
        "    if y_pred[i] == y_test[i]:\n",
        "        n_correct += 1\n",
        "\n",
        "print(\"Predicted {0} correctly out of {1} test examples\".format(n_correct, len(y_test)))"
      ],
      "metadata": {
        "id": "zd8eiIJWLLt9"
      },
      "execution_count": 32,
      "outputs": []
    },
    {
      "cell_type": "markdown",
      "source": [
        "## Entity extraction\n",
        "\n"
      ],
      "metadata": {
        "id": "ZBQTA8yTLzIp"
      }
    },
    {
      "cell_type": "markdown",
      "source": [
        "### Using spaCy's entity recognizer\n",
        "In this exercise, you'll use spaCy's built-in entity recognizer to extract names, dates, and organizations from search queries. The spaCy library has been imported for you, and its English model has been loaded as nlp.\n",
        "\n",
        "Your job is to define a function called extract_entities(), which takes in a single argument message and returns a dictionary with the included entity types as keys, and the extracted entities as values. The included entity types are contained in a list called include_entities."
      ],
      "metadata": {
        "id": "YyThQphrM5VR"
      }
    },
    {
      "cell_type": "code",
      "source": [
        "# Define included_entities\n",
        "include_entities= ['DATE', 'ORG', 'PERSON']\n",
        "\n",
        "import spacy\n",
        "\n",
        "# Load the spacy model: nlp\n",
        "nlp = spacy.load('en_core_web_sm')\n",
        "\n",
        "# define function extract_entities()\n",
        "def extract_entities(message):\n",
        "  # Create a dictionary called ents to hold the entities by calling dict.fromkeys() with include_entities as the sole argument.\n",
        "  # right now this returns none for each\n",
        "  ents= dict.fromkeys(include_entities)\n",
        "  # create a spacy doc\n",
        "  doc= nlp(message)\n",
        "  # iterate over the entities in the document\n",
        "  for ent in doc.ents:\n",
        "    # if label is =DATE, ORG, PERSON\n",
        "    if ent.label_ in include_entities:\n",
        "      # save interesting entities\n",
        "      ents[ent.label_]= ent.text\n",
        "    return ents\n",
        "\n",
        "print(extract_entities('friends called Mary who have worked at Google since 2010'))\n",
        "print(extract_entities('people who graduated from MIT in 1999'))"
      ],
      "metadata": {
        "colab": {
          "base_uri": "https://localhost:8080/"
        },
        "id": "SZF1EstWLQWI",
        "outputId": "fe4174c5-928e-4d80-e46d-f040e203a538"
      },
      "execution_count": 19,
      "outputs": [
        {
          "output_type": "stream",
          "name": "stdout",
          "text": [
            "{'DATE': None, 'ORG': None, 'PERSON': 'Mary'}\n",
            "{'DATE': None, 'ORG': 'MIT', 'PERSON': None}\n"
          ]
        }
      ]
    },
    {
      "cell_type": "markdown",
      "source": [
        "### Assigning roles using spaCy's parser\n",
        "In this exercise you'll use spaCy's powerful syntax parser to assign roles to the entities in your users' messages. To do this, you'll define two functions, find_parent_item() and assign_colors(). In doing so, you'll use a parse tree to assign roles, similar to how Alan did in the video.\n",
        "\n",
        "Recall that you can access the ancestors of a word using its .ancestors attribute."
      ],
      "metadata": {
        "id": "T4x4D6hKOicv"
      }
    },
    {
      "cell_type": "code",
      "source": [
        "# create colors list\n",
        "colors= ['black', 'red', 'blue']\n",
        "items = ['shoes', 'handback', 'jacket', 'jeans']\n",
        "\n",
        "def entity_type(word):\n",
        "    # Initialize the entity type as None (unknown)\n",
        "    type = None\n",
        "\n",
        "    # Check if the word is present in the colors list\n",
        "    if word.text in colors:\n",
        "        type = \"color\"  # If found, assign the entity type as \"color\"\n",
        "    # Check if the word is present in the items list\n",
        "    elif word.text in items:\n",
        "        type = \"item\"  # If found, assign the entity type as \"item\"\n",
        "\n",
        "    # Return the entity type (None if not found in any list)\n",
        "    return type\n",
        "\n",
        "\n",
        "\n",
        "# Create the document\n",
        "doc = nlp(\"let's see that jacket in red and some blue jeans\")\n",
        "\n",
        "# Iterate over parents in parse tree until an item entity is found\n",
        "def find_parent_item(word):\n",
        "    # Iterate over the word's ancestors\n",
        "    for parent in word.ancestors:\n",
        "        # Check for an \"item\" entity\n",
        "        if entity_type(parent) == \"item\":\n",
        "            return parent.text\n",
        "    return None\n",
        "\n",
        "# For all color entities, find their parent item\n",
        "def assign_colors(doc):\n",
        "    # Iterate over the document\n",
        "    for word in doc:\n",
        "        # Check for \"color\" entities\n",
        "        if entity_type(word) == \"color\":\n",
        "            # Find the parent\n",
        "            item =  find_parent_item(word)\n",
        "            print(\"item: {0} has color : {1}\".format(item, word))\n",
        "\n",
        "# Assign the colors\n",
        "assign_colors(doc)"
      ],
      "metadata": {
        "colab": {
          "base_uri": "https://localhost:8080/"
        },
        "id": "ZIvVHfouNsrk",
        "outputId": "8751f273-f8d9-4750-f8f1-41fd9684395b"
      },
      "execution_count": 20,
      "outputs": [
        {
          "output_type": "stream",
          "name": "stdout",
          "text": [
            "item: jacket has color : red\n",
            "item: jeans has color : blue\n"
          ]
        }
      ]
    },
    {
      "cell_type": "code",
      "source": [
        "def entity_type(word):\n",
        "  type = None\n",
        "  if word.text in colors:\n",
        "    type = \"color\"\n",
        "  elif word.text in items:\n",
        "      type = \"item\"\n",
        "  return type\n"
      ],
      "metadata": {
        "id": "XlRt4CG2P2ZY"
      },
      "execution_count": 21,
      "outputs": []
    },
    {
      "cell_type": "markdown",
      "source": [
        "## Robust language understanding with rasa NLU\n",
        "\n",
        "library for inent recognition and entity extraction\n",
        "\n",
        "Conditional random field, hard to handle typos"
      ],
      "metadata": {
        "id": "gGgCPFN1qiiG"
      }
    },
    {
      "cell_type": "markdown",
      "source": [
        "### Rasa NLU\n",
        "In this exercise, you'll use Rasa NLU to create an interpreter, which parses incoming user messages and returns a set of entities. Your job is to train an interpreter using the MITIE entity recognition model in Rasa NLU."
      ],
      "metadata": {
        "id": "zrePKU-Gqikf"
      }
    },
    {
      "cell_type": "code",
      "source": [
        "\n",
        "# Import necessary modules\n",
        "from rasa_nlu.converters import load_data\n",
        "from rasa_nlu.config import RasaNLUConfig\n",
        "from rasa_nlu.model import Trainer\n",
        "\n",
        "# Create args dictionary\n",
        "args = {'pipeline': 'spacy_sklearn'}\n",
        "\n",
        "# Create a configuration and trainer\n",
        "config = RasaNLUConfig(cmdline_args=args)\n",
        "trainer = Trainer(config)\n",
        "\n",
        "# Load the training data\n",
        "training_data = load_data(\"./training_data.json\")\n",
        "\n",
        "# Create an interpreter by training the model\n",
        "interpreter = trainer.train(training_data)\n",
        "\n",
        "# Test the interpreter\n",
        "print(interpreter.parse(\"I'm looking for a Mexican restaurant in the North of town\"))"
      ],
      "metadata": {
        "id": "YJImPdTQsHqY"
      },
      "execution_count": 34,
      "outputs": []
    },
    {
      "cell_type": "markdown",
      "source": [
        "### Data-efficient entity recognition\n",
        "Most systems for extracting entities from text are built to extract 'Universal' things like names, dates, and places. But you probably don't have enough training data for your bot to make these systems perform well!\n",
        "\n",
        "In this exercise, you'll activate the MITIE entity recognizer inside Rasa to extract restaurants-related entities using a very small amount of training data. A dictionary args has already been defined for you, along with a training_data object."
      ],
      "metadata": {
        "id": "Bj7XW0K1qinf"
      }
    },
    {
      "cell_type": "code",
      "source": [
        "# Import necessary modules\n",
        "from rasa_nlu.config import RasaNLUConfig\n",
        "from rasa_nlu.model import Trainer\n",
        "!pip install scikit-learn\n",
        "\n",
        "pipeline = [\n",
        "    \"nlp_spacy\",\n",
        "    \"tokenizer_spacy\",\n",
        "    \"ner_crf\"\n",
        "]\n",
        "\n",
        "# Create a config that uses this pipeline\n",
        "config = RasaNLUConfig(cmdline_args={'pipeline': pipeline})\n",
        "\n",
        "# Create a trainer that uses this config\n",
        "trainer = Trainer(config)\n",
        "\n",
        "# Create an interpreter by training the model\n",
        "interpreter = trainer.train(training_data)\n",
        "\n",
        "# Parse some messages\n",
        "print(interpreter.parse(\"show me Chinese food in the centre of town\"))\n",
        "print(interpreter.parse(\"I want an Indian restaurant in the west\"))\n",
        "print(interpreter.parse(\"are there any good pizza places in the center?\"))"
      ],
      "metadata": {
        "id": "TE_9h9TguTHY"
      },
      "execution_count": 38,
      "outputs": []
    },
    {
      "cell_type": "markdown",
      "source": [
        "#CHAPTER 3 Building a virtual assistant\n",
        "\n",
        "\n",
        "In this chapter, you'll build a personal assistant to help you plan a trip. It will be able to respond to questions like \"are there any cheap hotels in the north of town?\" by looking inside a hotel’s database for matching results.0"
      ],
      "metadata": {
        "id": "e0Tp_otHwUw8"
      }
    },
    {
      "cell_type": "markdown",
      "source": [
        "## Virtual assistants and accessing data\n"
      ],
      "metadata": {
        "id": "yfpJFNguwYf2"
      }
    },
    {
      "cell_type": "markdown",
      "source": [
        "### SQL basics\n",
        "Time to begin writing queries for your first hotel booking chatbot! The database has been loaded as \"hotels.db\" and a cursor, which has access to the database, has already been defined for you as cursor.\n",
        "\n",
        "Three queries are provided below. Your job is to identify which query returns ONLY the \"Hotel California\".\n",
        "\n",
        "You can test each query below by calling the cursor's .execute() method and passing the query in as a string. Then, you can print the results by calling the cursor's .fetchall() method, which takes no arguments."
      ],
      "metadata": {
        "id": "NpEatYULwYiz"
      }
    },
    {
      "cell_type": "markdown",
      "source": [
        "### SQL statements in Python\n",
        "It's time to begin writing SQL queries! In this exercise, your job is to run a query against the hotels database to find all the expensive hotels in the south. The connection to the database has been created for you, along with a cursor c.\n",
        "\n",
        "As Alan described in the video, you should be careful about SQL injection. Here, you'll pass parameters the safe way: As an extra tuple argument to the .execute() method. This ensures malicious code can't be injected into your query."
      ],
      "metadata": {
        "id": "l3F4z_KmxhYs"
      }
    },
    {
      "cell_type": "code",
      "source": [
        "# import sqlite3\n",
        "import sqlite3\n",
        "\n",
        "# open connection to DB. Connect\n",
        "conn= sqlite3.connect('hotels.db')\n",
        "\n",
        "# create a cursor\n",
        "c= conn.cursor()\n",
        "\n",
        "c.execute('SELECT * FROM hotels')\n",
        "\n",
        "c.fetchall()"
      ],
      "metadata": {
        "colab": {
          "base_uri": "https://localhost:8080/"
        },
        "id": "1qWbSCHswHqs",
        "outputId": "43e8c011-626a-49ae-c20f-2d29516475a7"
      },
      "execution_count": 1,
      "outputs": [
        {
          "output_type": "execute_result",
          "data": {
            "text/plain": [
              "[('Hotel for Dogs', 'mid', 'east', 3),\n",
              " ('Hotel California', 'mid', 'north', 3),\n",
              " ('Grand Hotel', 'hi', 'south', 5),\n",
              " ('Cozy Cottage', 'lo', 'south', 2),\n",
              " (\"Ben's BnB\", 'hi', 'north', 4),\n",
              " ('The Grand', 'hi', 'west', 5),\n",
              " ('Central Rooms', 'mid', 'center', 3)]"
            ]
          },
          "metadata": {},
          "execution_count": 1
        }
      ]
    },
    {
      "cell_type": "code",
      "source": [
        "# Import sqlite3\n",
        "import sqlite3\n",
        "\n",
        "# Open connection to DB\n",
        "conn = sqlite3.connect('hotels.db')\n",
        "\n",
        "# Create a cursor\n",
        "c = conn.cursor()\n",
        "\n",
        "# Define area and price\n",
        "area, price = \"south\", \"hi\"\n",
        "t = (area, price)\n",
        "\n",
        "# Execute the query\n",
        "c.execute('SELECT * FROM hotels WHERE area=? AND price=?', t)\n",
        "\n",
        "# Print the results\n",
        "print(c.fetchall())"
      ],
      "metadata": {
        "colab": {
          "base_uri": "https://localhost:8080/"
        },
        "id": "yLHVe2GzyHpO",
        "outputId": "0dae5789-335b-40cb-ff52-c7af7d5f884c"
      },
      "execution_count": 2,
      "outputs": [
        {
          "output_type": "stream",
          "name": "stdout",
          "text": [
            "[('Grand Hotel', 'hi', 'south', 5)]\n"
          ]
        }
      ]
    },
    {
      "cell_type": "markdown",
      "source": [
        "## Exploring a DB with natural language\n"
      ],
      "metadata": {
        "id": "jsdp4_gAymZh"
      }
    },
    {
      "cell_type": "markdown",
      "source": [
        "### Creating queries from parameters\n",
        "Now you're going to implement a more powerful function for querying the hotels database. The goal is for that function to take arguments that can later be specified by other parts of your code.\n",
        "\n",
        "More specifically, your job is to define a find_hotels() function which takes a single argument - a dictionary of column names and values - and returns a list of matching hotels from the databas"
      ],
      "metadata": {
        "id": "h3sGnb35ymds"
      }
    },
    {
      "cell_type": "code",
      "source": [
        "# Define find_hotels(). Feed it a list of params\n",
        "def find_hotels(params):\n",
        "    # Create the base query\n",
        "    query = 'SELECT * FROM hotels'\n",
        "    # Add filter clauses for each of the parameters\n",
        "    if len(params) > 0:\n",
        "        # filters is the area=? and price=? if params {'area': 'south', 'price': 'lo}\n",
        "        filters = [\"{}=?\".format(k) for k in params]\n",
        "        #print('filters:', filters)\n",
        "        # join the WHERE area=? and price=? to original query6\n",
        "        query += \" WHERE \" + \" and \".join(filters)\n",
        "        #print('query:', query)\n",
        "    # Create the tuple of values\n",
        "    # value is south and lo\n",
        "    t = tuple(params.values())\n",
        "    #print('t:', t)\n",
        "\n",
        "    # Open connection to DB\n",
        "    conn = sqlite3.connect('hotels.db')\n",
        "    # Create a cursor\n",
        "    c = conn.cursor()\n",
        "    # Execute the query\n",
        "    c.execute(query, t)\n",
        "    # Return the results\n",
        "    return c.fetchall()"
      ],
      "metadata": {
        "id": "a2wAGYk4ygML"
      },
      "execution_count": 47,
      "outputs": []
    },
    {
      "cell_type": "markdown",
      "source": [
        "### Using your custom function to find hotels\n",
        "Here, you'll see your find_hotels() function in action! Recall that it accepts a single argument, params, which is a dictionary of column names and values."
      ],
      "metadata": {
        "id": "Tmv6EYne2YZ8"
      }
    },
    {
      "cell_type": "code",
      "source": [
        "# Create the dictionary of column names and values\n",
        "params = {'area': 'south', 'price': 'lo'}\n",
        "\n",
        "# Find the hotels that match the parameters\n",
        "print(find_hotels(params))"
      ],
      "metadata": {
        "colab": {
          "base_uri": "https://localhost:8080/"
        },
        "id": "oK6iCtjy2Vvl",
        "outputId": "799f40e3-0bc1-4ab6-bb2d-f8bf7c7bce93"
      },
      "execution_count": 48,
      "outputs": [
        {
          "output_type": "stream",
          "name": "stdout",
          "text": [
            "[('Cozy Cottage', 'lo', 'south', 2)]\n"
          ]
        }
      ]
    },
    {
      "cell_type": "markdown",
      "source": [
        "### Creating SQL from natural language\n",
        "Now you'll write a respond() function that can handle messages like \"I want an expensive hotel in the south of town\" and respond appropriately according to the number of matching results in a database. This is an important functionality for any database-backed chatbot.\n",
        "\n",
        "Your find_hotels() function from the previous exercises has already been defined for you, along with a Rasa NLU interpreter object, which can handle hotel queries, and a list of responses, which you can explore in the Shell."
      ],
      "metadata": {
        "id": "rgs-X60s3SA4"
      }
    },
    {
      "cell_type": "code",
      "source": [
        "# responses list\n",
        "responses= [\"I'm sorry :( I couldn't find anything like that\",\n",
        " '{} is a great hotel!',\n",
        " '{} or {} would work!',\n",
        " '{} is one option, but I know others too :)']\n",
        "\n",
        "# Define respond()\n",
        "def respond(message):\n",
        "    # Extract the entities\n",
        "    entities = interpreter.parse(message)[\"entities\"]\n",
        "    # Initialize an empty params dictionary\n",
        "    params = {}\n",
        "    # Fill the dictionary with entities\n",
        "    for ent in entities:\n",
        "        params[ent[\"entity\"]] = str(ent[\"value\"])\n",
        "\n",
        "    # Find hotels that match the dictionary\n",
        "    results = find_hotels(params)\n",
        "    # Get the names of the hotels and index of the response\n",
        "    names = [r[0] for r in results]\n",
        "    n = min(len(results),3)\n",
        "    # Select the nth element of the responses array\n",
        "    return responses[n].format(*names)\n",
        "\n",
        "# Test the respond() function\n",
        "print(respond('I want an expensive hotel in the south of town'))\n",
        "\n",
        "# output\n",
        "# entities: [{'start': 10, 'end': 19, 'value': 'hi', 'entity': 'price', 'extractor': 'ner_crf', 'processors': ['ner_synonyms']}, {'start': 33, 'end': 38, 'value': 'south', 'entity': 'area', 'extractor': 'ner_crf'}]\n",
        "# params: {'price': 'hi'}\n",
        "# params: {'price': 'hi', 'area': 'south'}\n",
        "# results: [('Grand Hotel', 'hi', 'south', 5)]\n",
        "# names: ['Grand Hotel']\n",
        "# n: 1\n",
        "# Grand Hotel is a great hotel!"
      ],
      "metadata": {
        "id": "Kd_roWj24S-d"
      },
      "execution_count": null,
      "outputs": []
    },
    {
      "cell_type": "markdown",
      "source": [
        "## Incremental slot filling and negation\n",
        "\n",
        "How to remember conservation. How to tell people what you dont want"
      ],
      "metadata": {
        "id": "vCnB5RdJ3sU2"
      }
    },
    {
      "cell_type": "markdown",
      "source": [
        "### Refining your search\n",
        "Now you'll write a bot that allows users to add filters incrementally, just in case they don't specify all of their preferences in one message.\n",
        "\n",
        "To do this, initialize an empty dictionary params outside of your respond() function (as opposed to inside the function, like in the previous exercise). Your respond() function will take in this dictionary as an argument."
      ],
      "metadata": {
        "id": "9pkuMPCQ4vfC"
      }
    },
    {
      "cell_type": "code",
      "source": [
        "# Define a respond function, taking the message and existing params as input\n",
        "def respond(message, params):\n",
        "    # Extract the entities\n",
        "    entities = interpreter.parse(message)[\"entities\"]\n",
        "\n",
        "    # Fill the dictionary with entities\n",
        "    for ent in entities:\n",
        "        params[ent[\"entity\"]] = str(ent[\"value\"])\n",
        "\n",
        "\n",
        "    # Find the hotels\n",
        "    results = find_hotels(params)\n",
        "\n",
        "    names = [r[0] for r in results]\n",
        "\n",
        "    n = min(len(results), 3)\n",
        "\n",
        "    # Return the appropriate response\n",
        "    return responses[n].format(*names), params\n",
        "\n",
        "# Initialize params dictionary\n",
        "params = {}\n",
        "\n",
        "# Pass the messages to the bot\n",
        "for message in [\"I want an expensive hotel\", \"in the north of town\"]:\n",
        "    print(\"USER: {}\".format(message))\n",
        "    response, params = respond(message, params)\n",
        "    print(\"BOT: {}\".format(response))\n",
        "\n",
        "\n",
        "# USER: I want an expensive hotel\n",
        "# #ent: [{'start': 10, 'end': 19, 'value': 'hi', 'entity': 'price', 'extractor': 'ner_crf', 'processors': ['ner_synonyms']}]\n",
        "# #params: {'price': 'hi'}\n",
        "# #results: [('Grand Hotel', 'hi', 'south', 5), (\"Ben's BnB\", 'hi', 'north', 4), ('The Grand', 'hi', 'west', 5)]\n",
        "# names: ['Grand Hotel', \"Ben's BnB\", 'The Grand']\n",
        "# n: 3\n",
        "# BOT: Grand Hotel is one option, but I know others too :)\n",
        "\n",
        "\n",
        "# USER: in the north of town\n",
        "# ent: [{'start': 7, 'end': 12, 'value': 'north', 'entity': 'area', 'extractor': 'ner_crf'}]\n",
        "# params: {'price': 'hi', 'area': 'north'}\n",
        "# results: [(\"Ben's BnB\", 'hi', 'north', 4)]\n",
        "# names: [\"Ben's BnB\"]\n",
        "# n: 1\n",
        "# BOT: Ben's BnB is a great hotel!"
      ],
      "metadata": {
        "id": "1W0NWp3b5KE0"
      },
      "execution_count": null,
      "outputs": []
    },
    {
      "cell_type": "markdown",
      "source": [
        "### Basic negation\n",
        "Quite often, you'll find your users telling you what they don't want - and that's important to understand! In general, negation is a difficult problem in NLP. Here, we'll take a very simple approach that works for many cases.\n",
        "\n",
        "A list of tests called tests has been defined for you. Explore it in the Shell - you'll find that each test is a tuple consisting of:\n",
        "\n",
        "A string containing a message with entities.\n",
        "A dictionary containing the entities as keys and a Boolean saying whether they are negated as the key.\n",
        "Your job is to define a function called negated_ents() which looks for negated entities in a message."
      ],
      "metadata": {
        "id": "lmc-Kaus6Tv5"
      }
    },
    {
      "cell_type": "code",
      "source": [
        "tests= [(\"no I don't want to be in the south\", {'south': False}),\n",
        " ('no it should be in the south', {'south': True}),\n",
        " ('no in the south not the north', {'north': False, 'south': True}),\n",
        " ('not north', {'north': False})]\n",
        "\n",
        " # Define negated_ents()\n",
        "def negated_ents(phrase):\n",
        "    # Extract the entities using keyword matching\n",
        "    ents = [e for e in [\"south\", \"north\"] if e in phrase]\n",
        "    print('ents', ents)\n",
        "    # Find the index of the final character of each entity\n",
        "    ends = sorted([phrase.index(e) + len(e) for e in ents])\n",
        "    print('ends', ends)\n",
        "    # Initialise a list to store sentence chunks\n",
        "    chunks = []\n",
        "    # Take slices of the sentence up to and including each entitiy\n",
        "    start = 0\n",
        "    for end in ends:\n",
        "        chunks.append(phrase[start:end])\n",
        "        print('chunks', chunks)\n",
        "        start = end\n",
        "    result = {}\n",
        "    # Iterate over the chunks and look for entities\n",
        "    for chunk in chunks:\n",
        "        for ent in ents:\n",
        "            if ent in chunk:\n",
        "                # If the entity contains a negation, assign the key to be False\n",
        "                if \"not\" in chunk or \"n't\" in chunk:\n",
        "                    result[ent] = False\n",
        "                else:\n",
        "                    result[ent] = True\n",
        "    return result\n",
        "\n",
        "# Check that the entities are correctly assigned as True or False\n",
        "for test in tests:\n",
        "    print(negated_ents(test[0]) == test[1])\n",
        "\n",
        "#  ents ['south']\n",
        "#     ends [34]\n",
        "#     chunks [\"no I don't want to be in the south\"]\n",
        "#     True\n",
        "#     ents ['south']\n",
        "#     ends [28]\n",
        "#     chunks ['no it should be in the south']\n",
        "#     True\n",
        "#     ents ['south', 'north']\n",
        "#     ends [15, 29]\n",
        "#     chunks ['no in the south']\n",
        "#     chunks ['no in the south', ' not the north']\n",
        "#     True\n",
        "#     ents ['north']\n",
        "#     ends [9]\n",
        "#     chunks ['not north']\n",
        "#     True"
      ],
      "metadata": {
        "id": "bYt0sS6z6U77"
      },
      "execution_count": null,
      "outputs": []
    },
    {
      "cell_type": "markdown",
      "source": [
        "### Filtering with excluded slots\n",
        "Now you're going to put together some of the ideas from previous exercises in order to allow users to tell your bot about what they do and do not want, split across multiple messages.\n",
        "\n",
        "The negated_ents() function has already been defined for you. Additionally, a slightly tweaked version of the find_hotels() function, which accepts a neg_params dictionary in addition to a params dictionary, has been defined."
      ],
      "metadata": {
        "id": "kKG6Eu2B6RpN"
      }
    },
    {
      "cell_type": "code",
      "source": [
        "# Define the respond function\n",
        "def respond(message, params, neg_params):\n",
        "    # Extract the entities\n",
        "    entities = interpreter.parse(message)[\"entities\"]\n",
        "    print('entities:', entities)\n",
        "    ent_vals = [e[\"value\"] for e in entities]\n",
        "    print('ent_vals:', ent_vals)\n",
        "    # Look for negated entities\n",
        "    negated = negated_ents(message, ent_vals)\n",
        "    print('negated:', negated)\n",
        "    for ent in entities:\n",
        "        if ent[\"value\"] in negated and negated[ent[\"value\"]]:\n",
        "            neg_params[ent[\"entity\"]] = str(ent[\"value\"])\n",
        "        else:\n",
        "            params[ent[\"entity\"]] = str(ent[\"value\"])\n",
        "    # Find the hotels\n",
        "    results = find_hotels(params, neg_params)\n",
        "    print('results:', results)\n",
        "    names = [r[0] for r in results]\n",
        "    print('names:', names)\n",
        "    n = min(len(results),3)\n",
        "    print('n:', n)\n",
        "    # Return the correct response\n",
        "    return responses[n].format(*names), params, neg_params\n",
        "\n",
        "# Initialize params and neg_params\n",
        "params = {}\n",
        "neg_params = {}\n",
        "\n",
        "# Pass the messages to the bot\n",
        "for message in [\"I want a cheap hotel\", \"but not in the north of town\"]:\n",
        "    print(\"USER: {}\".format(message))\n",
        "    response, params, neg_params = respond(message, params, neg_params)\n",
        "    print(\"BOT: {}\".format(response))\n",
        "\n",
        "# USER: I want a cheap hotel\n",
        "    # entities: [{'start': 9, 'end': 14, 'value': 'lo', 'entity': 'price', 'extractor': 'ner_crf', 'processors': ['ner_synonyms']}]\n",
        "    # ent_vals: ['lo']\n",
        "    # negated: {}\n",
        "    # results: [('Cozy Cottage', 'lo', 'south', 2)]\n",
        "    # names: ['Cozy Cottage']\n",
        "    # n: 1\n",
        "    # BOT: Cozy Cottage is a great hotel!\n",
        "    # USER: but not in the north of town\n",
        "    # entities: [{'start': 15, 'end': 20, 'value': 'north', 'entity': 'area', 'extractor': 'ner_crf'}]\n",
        "    # ent_vals: ['north']\n",
        "    # negated: {'north': False}\n",
        "    # results: []\n",
        "    # names: []\n",
        "    # n: 0\n",
        "    # BOT: I'm sorry :( I couldn't find anything like that"
      ],
      "metadata": {
        "id": "N6kAj9OX7gNU"
      },
      "execution_count": null,
      "outputs": []
    },
    {
      "cell_type": "markdown",
      "source": [
        "# CHAPTER 4 Dialogue\n",
        "\n",
        "\n",
        "Everything you've built so far has statelessly mapped intents to actions and responses. It's amazing how far you can get with that! But to build more sophisticated bots you will always want to add some statefulness. That's what you'll do here, as you build a chatbot that helps users order coffee."
      ],
      "metadata": {
        "id": "daPjwAIr8g00"
      }
    },
    {
      "cell_type": "markdown",
      "source": [
        "### Form filling\n",
        "You'll often want your bot to guide users through a series of steps, such as when they're placing an order.\n",
        "\n",
        "In this exercise, you'll begin building a bot that lets users order coffee. They can choose between two types: Colombian and Kenyan. If the user provides unexpected input, your bot will handle this differently depending on where they are in the flow.\n",
        "\n",
        "Your job here is to identify the appropriate state and next state based on the intents and response messages provided. For example, if the intent is \"order\", then the state changes from INIT to CHOOSE_COFFEE.\n",
        "\n",
        "A function send_message(policy, state, message) has already been defined for you. It takes the policy, the current state, and message as arguments, and returns the new state as a result. Additionally, an interpret(message) function, similar to the one Alan described in the video, has been pre-defined for you."
      ],
      "metadata": {
        "id": "fIssqMSC8kat"
      }
    },
    {
      "cell_type": "code",
      "source": [
        "def respond(policy, state, message):\n",
        "   # The function 'respond' takes three parameters:\n",
        "    # - policy: A dictionary that maps a combination of (state, message interpretation) to (new_state, response).\n",
        "    # - state: Represents the current state of the conversation or context.\n",
        "    # - message: Represents the input message from the user.\n",
        "\n",
        "    # The function uses the policy dictionary to determine the appropriate response based on the current state and message interpretation.\n",
        "    # It expects that the policy dictionary is structured as described below:\n",
        "    # policy = { (state1, interpretation1): (new_state1, response1),\n",
        "    #            (state1, interpretation2): (new_state2, response2),\n",
        "    #            ... }\n",
        "\n",
        "    # The message is interpreted using the 'interpret' function (assumed to be defined elsewhere).\n",
        "    # The combination of the current state and interpreted message is used as a key to look up the appropriate response in the policy.\n",
        "\n",
        "    # The response from the policy is a tuple containing the new state and the response message to be returned.\n",
        "    (new_state, response) = policy[(state, interpret(message))]\n",
        "    return new_state, response\n",
        "\n",
        "\n",
        "def send_message(policy, state, message):\n",
        "    # The function 'send_message' takes three parameters:\n",
        "    # - policy: A dictionary mapping conversation states and message interpretations to responses.\n",
        "    # - state: Represents the current state of the conversation.\n",
        "    # - message: Represents the input message from the user.\n",
        "\n",
        "    # Print the user's message in a formatted way.\n",
        "    print(\"USER : {}\".format(message))\n",
        "\n",
        "    # Call the 'respond' function to get the bot's response and the new state.\n",
        "    new_state, response = respond(policy, state, message)\n",
        "\n",
        "    # Print the bot's response in a formatted way.\n",
        "    print(\"BOT : {}\".format(response))\n",
        "\n",
        "    # Return the new state, which represents the updated conversation context.\n",
        "    return new_state\n",
        "\n",
        "\n",
        "def interpret(message):\n",
        "    # The function 'interpret' takes a single parameter:\n",
        "    # - message: Represents the input message from the user.\n",
        "\n",
        "    # Convert the input message to lowercase for case-insensitive processing.\n",
        "    msg = message.lower()\n",
        "\n",
        "    # Check if the word 'order' is present in the lowercase message.\n",
        "    if 'order' in msg:\n",
        "        # If the word 'order' is found in the message, interpret the message as an intent to place an order.\n",
        "        return 'order'\n",
        "\n",
        "    # Check if either 'kenyan' or 'colombian' are present in the lowercase message.\n",
        "    if 'kenyan' in msg or 'colombian' in msg:\n",
        "        # If either 'kenyan' or 'colombian' is found in the message, interpret the message as a request to specify coffee type.\n",
        "        return 'specify_coffee'\n",
        "\n",
        "    # If none of the specific keywords are found in the message, interpret the message as having no specific intent.\n",
        "    return 'none'\n"
      ],
      "metadata": {
        "id": "wh8H6f9B8jWP"
      },
      "execution_count": 4,
      "outputs": []
    },
    {
      "cell_type": "code",
      "source": [
        "# Define the INIT state\n",
        "INIT = 0\n",
        "\n",
        "# Define the CHOOSE_COFFEE state\n",
        "CHOOSE_COFFEE = 1\n",
        "\n",
        "# Define the ORDERED state\n",
        "ORDERED = 2\n",
        "\n",
        "# Define the policy rules\n",
        "policy = {\n",
        "    (INIT, \"order\"): (CHOOSE_COFFEE, \"ok, Colombian or Kenyan?\"),\n",
        "    (INIT, \"none\"): (INIT, \"I'm sorry - I'm not sure how to help you\"),\n",
        "    (CHOOSE_COFFEE, \"specify_coffee\"): (ORDERED, \"perfect, the beans are on their way!\"),\n",
        "    (CHOOSE_COFFEE, \"none\"): (CHOOSE_COFFEE, \"I'm sorry - would you like Colombian or Kenyan?\"),\n",
        "}\n",
        "\n",
        "# Create the list of messages\n",
        "messages = [\n",
        "    \"I'd like to become a professional dancer\",\n",
        "    \"well then I'd like to order some coffee\",\n",
        "    \"my favourite animal is a zebra\",\n",
        "    \"kenyan\"\n",
        "]\n",
        "\n",
        "# Call send_message() for each message\n",
        "state = INIT\n",
        "for message in messages:\n",
        "    state = send_message(policy, state, message)"
      ],
      "metadata": {
        "colab": {
          "base_uri": "https://localhost:8080/"
        },
        "id": "Jf3cX9jX_1nY",
        "outputId": "bd8ca929-6270-4118-a7e5-49b475a17d6f"
      },
      "execution_count": 5,
      "outputs": [
        {
          "output_type": "stream",
          "name": "stdout",
          "text": [
            "USER : I'd like to become a professional dancer\n",
            "BOT : I'm sorry - I'm not sure how to help you\n",
            "USER : well then I'd like to order some coffee\n",
            "BOT : ok, Colombian or Kenyan?\n",
            "USER : my favourite animal is a zebra\n",
            "BOT : I'm sorry - would you like Colombian or Kenyan?\n",
            "USER : kenyan\n",
            "BOT : perfect, the beans are on their way!\n"
          ]
        }
      ]
    },
    {
      "cell_type": "markdown",
      "source": [
        "### Asking contextual questions\n",
        "Sometimes your users need some help! They will have questions and expect the bot to help them.\n",
        "\n",
        "In this exercise, you'll allow users to ask the coffee bot to explain the steps to them. As in the previous exercise, the answer they get will depend on where they are in the flow."
      ],
      "metadata": {
        "id": "Pru-nVi6Bwem"
      }
    },
    {
      "cell_type": "code",
      "source": [
        "def interpret(message):\n",
        "    msg = message.lower()\n",
        "    if 'order' in msg:\n",
        "        return 'order'\n",
        "    if 'kenyan' in msg or 'colombian' in msg:\n",
        "        return 'specify_coffee'\n",
        "    if 'what' in msg:\n",
        "        return 'ask_explanation'\n",
        "    return 'none'\n",
        "\n",
        "def respond(state, message):\n",
        "    (new_state, response) = policy_rules[(state, interpret(message))]\n",
        "    return new_state, response\n",
        "\n",
        "def send_message(state, message):\n",
        "    print(\"USER : {}\".format(message))\n",
        "    new_state, response = respond(state, message)\n",
        "    print(\"BOT : {}\".format(response))\n",
        "    return new_state\n",
        "\n",
        "# Define the states\n",
        "INIT=0\n",
        "CHOOSE_COFFEE=1\n",
        "ORDERED=2\n",
        "\n",
        "# Define the policy rules dictionary\n",
        "policy_rules = {\n",
        "    (INIT, \"ask_explanation\"): (INIT, \"I'm a bot to help you order coffee beans\"),\n",
        "    (INIT, \"order\"): (CHOOSE_COFFEE, \"ok, Colombian or Kenyan?\"),\n",
        "    (CHOOSE_COFFEE, \"specify_coffee\"): (ORDERED, \"perfect, the beans are on their way!\"),\n",
        "    (CHOOSE_COFFEE, \"ask_explanation\"): (CHOOSE_COFFEE, \"We have two kinds of coffee beans - the Kenyan ones make a slightly sweeter coffee, and cost $6. The Brazilian beans make a nutty coffee and cost $5.\")\n",
        "}\n",
        "\n",
        "# Define send_messages()\n",
        "def send_messages(messages):\n",
        "    state = INIT\n",
        "    for msg in messages:\n",
        "        state = send_message(state, msg)\n",
        "\n",
        "# Send the messages\n",
        "send_messages([\n",
        "    \"what can you do for me?\",\n",
        "    \"well then I'd like to order some coffee\",\n",
        "    \"what do you mean by that?\",\n",
        "    \"kenyan\"\n",
        "])"
      ],
      "metadata": {
        "colab": {
          "base_uri": "https://localhost:8080/"
        },
        "id": "OMOVaHvRA46Z",
        "outputId": "9603d719-27f4-4956-93b1-e2edca883ba5"
      },
      "execution_count": 9,
      "outputs": [
        {
          "output_type": "stream",
          "name": "stdout",
          "text": [
            "USER : what can you do for me?\n",
            "BOT : I'm a bot to help you order coffee beans\n",
            "USER : well then I'd like to order some coffee\n",
            "BOT : ok, Colombian or Kenyan?\n",
            "USER : what do you mean by that?\n",
            "BOT : We have two kinds of coffee beans - the Kenyan ones make a slightly sweeter coffee, and cost $6. The Brazilian beans make a nutty coffee and cost $5.\n",
            "USER : kenyan\n",
            "BOT : perfect, the beans are on their way!\n"
          ]
        }
      ]
    },
    {
      "cell_type": "markdown",
      "source": [
        "### Dealing with rejection\n",
        "What happens if you make a suggestion to your user and they don't like it? Your bot will look really silly if it makes the same suggestion again right away.\n",
        "\n",
        "Here, you're going to modify your respond() function so that it accepts and returns 4 arguments:\n",
        "\n",
        "The user message as an argument, and the bot response as the first return value.\n",
        "A dictionary params including the entities the user has specified.\n",
        "A prev_suggestions list. When passed to respond(), this should contain the suggestions made in the previous bot message. When returned by respond(), it should contain the current suggestions.\n",
        "An excluded list, which contains all of the results your user has already explicitly rejected.\n",
        "Your function should add the previous suggestions to the excluded list whenever it receives a \"deny\" intent. It should also filter out excluded suggestions from the response."
      ],
      "metadata": {
        "id": "-6ZKPPeNC3jT"
      }
    },
    {
      "cell_type": "code",
      "source": [
        "def interpret(message):\n",
        "    # The function 'interpret' takes a single parameter:\n",
        "    # - message: Represents the input message from the user.\n",
        "\n",
        "    # Use the 'parse' function of the 'interpreter' object/module to process the input message.\n",
        "    data = interpreter.parse(message)\n",
        "\n",
        "    # Check if the word 'no' is present in the message.\n",
        "    if 'no' in message:\n",
        "        # If the word 'no' is found in the message, modify the intent name in the parsed data to 'deny'.\n",
        "        data[\"intent\"][\"name\"] = \"deny\"\n",
        "\n",
        "    # Return the modified or unmodified parsed data.\n",
        "    return data\n"
      ],
      "metadata": {
        "id": "L8c1blpsCWSX"
      },
      "execution_count": 10,
      "outputs": []
    },
    {
      "cell_type": "code",
      "source": [
        "# Define respond()\n",
        "def respond(message, params, prev_suggestions, excluded):\n",
        "    # Interpret the message\n",
        "    parse_data = interpret(message)\n",
        "    print('parse:', parse_data)\n",
        "    # Extract the intent\n",
        "    intent = parse_data[\"intent\"][\"name\"]\n",
        "    print('intent:', intent)\n",
        "    # Extract the entities\n",
        "    entities = parse_data[\"entities\"]\n",
        "    print('entities:', entities)\n",
        "    # Add the suggestion to the excluded list if intent is \"deny\"\n",
        "    if intent == \"deny\":\n",
        "        excluded.extend(prev_suggestions)\n",
        "        print('excluded:', excluded)\n",
        "    # Fill the dictionary with entities\n",
        "    for ent in entities:\n",
        "        params[ent[\"entity\"]] = str(ent[\"value\"])\n",
        "        print('params:', params)\n",
        "    # Find matching hotels\n",
        "    results = [\n",
        "        r\n",
        "        for r in find_hotels(params, excluded)\n",
        "        if r[0] not in excluded\n",
        "    ]\n",
        "    print('results:', results)\n",
        "    # Extract the suggestions\n",
        "    names = [r[0] for r in results]\n",
        "    print('names:', names)\n",
        "    n = min(len(results), 3)\n",
        "    print('n:', n)\n",
        "    suggestions = names[:2]\n",
        "    print('suggestions:', suggestions)\n",
        "    return responses[n].format(*names), params, suggestions, excluded\n",
        "\n",
        "# Initialize the empty dictionary and lists\n",
        "params, suggestions, excluded = {}, [], []\n",
        "\n",
        "# Send the messages\n",
        "for message in [\"I want a mid range hotel\", \"no that doesn't work for me\"]:\n",
        "    print(\"USER: {}\".format(message))\n",
        "    response, params, suggestions, excluded = respond(message, params, suggestions, excluded)\n",
        "    print(\"BOT: {}\".format(response))\n",
        "\n",
        "# #USER: I want a mid range hotel\n",
        "#     parse: {'intent': {'name': '', 'confidence': 0.0}, 'entities': [], 'text': 'I want a mid range hotel'}\n",
        "#     intent:\n",
        "#     entities: []\n",
        "#     results: [('Hotel for Dogs', 'mid', 'east', 3), ('Hotel California', 'mid', 'north', 3), ('Grand Hotel', 'hi', 'south', 5), ('Cozy Cottage', 'lo', 'south', 2), (\"Ben's BnB\", 'hi', 'north', 4), ('The Grand', 'hi', 'west', 5), ('Central Rooms', 'mid', 'center', 3)]\n",
        "#     names: ['Hotel for Dogs', 'Hotel California', 'Grand Hotel', 'Cozy Cottage', \"Ben's BnB\", 'The Grand', 'Central Rooms']\n",
        "#     n: 3\n",
        "#     suggestions: ['Hotel for Dogs', 'Hotel California']\n",
        "#     BOT: Hotel for Dogs is one option, but I know others too :)\n",
        "#     USER: no that doesn't work for me\n",
        "#     parse: {'intent': {'name': 'deny', 'confidence': 0.0}, 'entities': [], 'text': \"no that doesn't work for me\"}\n",
        "#     intent: deny\n",
        "#     entities: []\n",
        "#     excluded: ['Hotel for Dogs', 'Hotel California']\n",
        "#     results: [('Grand Hotel', 'hi', 'south', 5), ('Cozy Cottage', 'lo', 'south', 2), (\"Ben's BnB\", 'hi', 'north', 4), ('The Grand', 'hi', 'west', 5), ('Central Rooms', 'mid', 'center', 3)]\n",
        "#     names: ['Grand Hotel', 'Cozy Cottage', \"Ben's BnB\", 'The Grand', 'Central Rooms']\n",
        "#     n: 3\n",
        "#     suggestions: ['Grand Hotel', 'Cozy Cottage']\n",
        "#     BOT: Grand Hotel is one option, but I know others too :)"
      ],
      "metadata": {
        "id": "4zaC9JFvDfDg"
      },
      "execution_count": 11,
      "outputs": []
    },
    {
      "cell_type": "markdown",
      "source": [
        "## Asking questions & queuing answers\n",
        "\n"
      ],
      "metadata": {
        "id": "InxHlHC4LgmB"
      }
    },
    {
      "cell_type": "markdown",
      "source": [
        "### Pending actions I\n",
        "You can really improve the user experience of your bot by asking the user simple yes or no follow-up questions. One easy way to handle these follow-ups is to define pending actions which get executed as soon as the user says \"yes\", and wiped if the user says \"no\".\n",
        "\n",
        "In this exercise, you're going to define a policy() function which takes the intent as its sole argument and returns two values: The next action to take and a pending action. The policy function should return this pending action when a \"yes\" or \"affirm\" intent is returned and should wipe the pending actions if a \"no\" or \"deny\" intent is returned.\n",
        "\n",
        "Here, the interpret(message) function has been defined for you such that if \"yes\" is in the message, \"affirm\" is returned, and if \"no\" is in the message, then \"deny\" is returned."
      ],
      "metadata": {
        "id": "8q3OtUvcMHg4"
      }
    },
    {
      "cell_type": "code",
      "source": [
        "def interpret(message):\n",
        "    # The function 'interpret' takes a single parameter:\n",
        "    # - message: Represents the input message from the user.\n",
        "\n",
        "    # Convert the input message to lowercase for case-insensitive processing.\n",
        "    msg = message.lower()\n",
        "\n",
        "    # Check if the word 'order' is present in the lowercase message.\n",
        "    if 'order' in msg:\n",
        "        # If the word 'order' is found in the message, interpret the message as an intent to place an order.\n",
        "        return 'order'\n",
        "\n",
        "    # Check if the word 'yes' is present in the lowercase message.\n",
        "    elif 'yes' in msg:\n",
        "        # If the word 'yes' is found in the message, interpret the message as an affirmation.\n",
        "        return 'affirm'\n",
        "\n",
        "    # Check if the word 'no' is present in the lowercase message.\n",
        "    elif 'no' in msg:\n",
        "        # If the word 'no' is found in the message, interpret the message as a denial.\n",
        "        return 'deny'\n",
        "\n",
        "    # If none of the specific keywords are found in the message, interpret the message as having no specific intent.\n",
        "    return 'none'\n"
      ],
      "metadata": {
        "id": "1rFRBSIoEEgs"
      },
      "execution_count": 1,
      "outputs": []
    },
    {
      "cell_type": "code",
      "source": [
        "def policy(intent):\n",
        "    # The function 'policy' takes a single parameter:\n",
        "    # - intent: Represents the interpreted intent of the user's message.\n",
        "\n",
        "    # Check the intent and determine the appropriate response and new state.\n",
        "\n",
        "    # If the intent is \"affirm\", respond with \"do_pending\" to indicate that some pending action should be taken.\n",
        "    if intent == \"affirm\":\n",
        "        return \"do_pending\", None\n",
        "\n",
        "    # If the intent is \"deny\", respond with \"Ok\" to acknowledge the user's denial.\n",
        "    if intent == \"deny\":\n",
        "        return \"Ok\", None\n",
        "\n",
        "    # If the intent is \"order\", respond with a specific message and a follow-up question.\n",
        "    # The response includes two parts: the new state and the response message.\n",
        "    if intent == \"order\":\n",
        "        return (\n",
        "            \"Unfortunately, the Kenyan coffee is currently out of stock, would you like to order the Brazilian beans?\",\n",
        "            \"Alright, I've ordered that for you!\"\n",
        "        )\n"
      ],
      "metadata": {
        "id": "wQ8fo4QAMcTN"
      },
      "execution_count": 2,
      "outputs": []
    },
    {
      "cell_type": "markdown",
      "source": [
        "### Pending actions II\n",
        "Having defined your policy() function, it's now time to write a send_message() function which takes both a pending action and a message as its arguments and leverages the policy() function to determine the bot's response.\n",
        "\n",
        "Your policy(intent) function from the previous exercise has been pre-loaded."
      ],
      "metadata": {
        "id": "_e3HXp8lM7O9"
      }
    },
    {
      "cell_type": "code",
      "source": [
        "# Define send_message()\n",
        "def send_message(pending, message):\n",
        "    print(\"USER : {}\".format(message))\n",
        "    action, pending_action = policy(interpret(message))\n",
        "    if action == 'do_pending' and pending is not None:\n",
        "        print(\"BOT : {}\".format(pending))\n",
        "    else:\n",
        "        print(\"BOT : {}\".format(action))\n",
        "    return pending_action\n",
        "\n",
        "# Define send_messages()\n",
        "def send_messages(messages):\n",
        "    pending = None\n",
        "    for msg in messages:\n",
        "        pending = send_message(pending, msg)\n",
        "\n",
        "# Send the messages\n",
        "send_messages([\n",
        "    \"I'd like to order some coffee\",\n",
        "    \"ok yes please\"\n",
        "])"
      ],
      "metadata": {
        "colab": {
          "base_uri": "https://localhost:8080/"
        },
        "id": "K76xDH1cMyuA",
        "outputId": "44c05dc4-796f-4c57-ebf3-3e5f1da74e4a"
      },
      "execution_count": 3,
      "outputs": [
        {
          "output_type": "stream",
          "name": "stdout",
          "text": [
            "USER : I'd like to order some coffee\n",
            "BOT : Unfortunately, the Kenyan coffee is currently out of stock, would you like to order the Brazilian beans?\n",
            "USER : ok yes please\n",
            "BOT : Alright, I've ordered that for you!\n"
          ]
        }
      ]
    },
    {
      "cell_type": "markdown",
      "source": [
        "### Pending state transitions\n",
        "You'll often need to briefly deviate from the flow of a conversation, for example to authenticate a user, before returning to the topic of discussion.\n",
        "\n",
        "In these cases, it's often simpler - and easier to debug - if you save some actions/states as pending rather than adding ever more complicated rules.\n",
        "\n",
        "Here, you're going to define a policy_rules dictionary, where the keys are tuples of the current state and the received intent, and the values are tuples of the next state, the bot's response, and a state for which to set a pending transition."
      ],
      "metadata": {
        "id": "4Ol_7iJpN_sO"
      }
    },
    {
      "cell_type": "code",
      "source": [
        "def interpret(message):\n",
        "    msg = message.lower()\n",
        "    if 'order' in msg:\n",
        "        return 'order'\n",
        "    if 'kenyan' in msg or 'colombian' in msg:\n",
        "        return 'specify_coffee'\n",
        "    if any([d in msg for d in string.digits]):\n",
        "        return 'number'\n",
        "    return 'none'\n",
        "\n",
        "def send_message(state, pending, message):\n",
        "    print(\"USER : {}\".format(message))\n",
        "    new_state, response, pending_state = policy_rules[(state, interpret(message))]\n",
        "    print(\"BOT : {}\".format(response))\n",
        "    if pending is not None:\n",
        "        new_state, response, pending_state = policy_rules[pending]\n",
        "        print(\"BOT : {}\".format(response))\n",
        "    if pending_state is not None:\n",
        "        pending = (pending_state, interpret(message))\n",
        "    return new_state, pending\n",
        "\n",
        "import string"
      ],
      "metadata": {
        "id": "4d1oMvMzOxvo"
      },
      "execution_count": 15,
      "outputs": []
    },
    {
      "cell_type": "code",
      "source": [
        "# Define the states\n",
        "INIT=0\n",
        "AUTHED=1\n",
        "CHOOSE_COFFEE=2\n",
        "ORDERED=3\n",
        "\n",
        "# Define the policy rules\n",
        "policy_rules = {\n",
        "    (INIT, \"order\"): (INIT, \"you'll have to log in first, what's your phone number?\", AUTHED),\n",
        "    (INIT, \"number\"): (AUTHED, \"perfect, welcome back!\", None),\n",
        "    (AUTHED, \"order\"): (CHOOSE_COFFEE, \"would you like Colombian or Kenyan?\", None),\n",
        "    (CHOOSE_COFFEE, \"specify_coffee\"): (ORDERED, \"perfect, the beans are on their way!\", None)\n",
        "}\n",
        "\n",
        "# Define send_messages()\n",
        "def send_messages(messages):\n",
        "    state = INIT\n",
        "    print('state:', state)\n",
        "    pending = None\n",
        "    for msg in messages:\n",
        "        state, pending = send_message(state, pending, msg)\n",
        "        print('state, pending:', state, pending)\n",
        "\n",
        "# Send the messages\n",
        "send_messages([\n",
        "    \"I'd like to order some coffee\",\n",
        "    \"555-1234\",\n",
        "    \"kenyan\"\n",
        "])"
      ],
      "metadata": {
        "colab": {
          "base_uri": "https://localhost:8080/"
        },
        "id": "uzUqBkypNqRg",
        "outputId": "c09d2cb8-d2fd-4543-f98f-15420398c952"
      },
      "execution_count": 16,
      "outputs": [
        {
          "output_type": "stream",
          "name": "stdout",
          "text": [
            "state: 0\n",
            "USER : I'd like to order some coffee\n",
            "BOT : you'll have to log in first, what's your phone number?\n",
            "state, pending: 0 (1, 'order')\n",
            "USER : 555-1234\n",
            "BOT : perfect, welcome back!\n",
            "BOT : would you like Colombian or Kenyan?\n",
            "state, pending: 2 (1, 'order')\n",
            "USER : kenyan\n",
            "BOT : perfect, the beans are on their way!\n",
            "BOT : would you like Colombian or Kenyan?\n",
            "state, pending: 2 (1, 'order')\n"
          ]
        }
      ]
    },
    {
      "cell_type": "markdown",
      "source": [
        "### Putting it all together I\n",
        "It's time to put everything you've learned in the course together by combining the coffee ordering bot with the ELIZA rules from chapter 1.\n",
        "\n",
        "To begin, you'll define a function called chitchat_response(), which calls the predefined function match_rule() from back in chapter 1. This returns a response if the message matched an ELIZA template, and otherwise, None.\n",
        "\n",
        "The ELIZA rules are contained in a dictionary called eliza_rules."
      ],
      "metadata": {
        "id": "686HBgMmPZrq"
      }
    },
    {
      "cell_type": "code",
      "source": [
        "eliza_rules=  {'I want (.*)': ['What would it mean if you got {0}',\n",
        "  'Why do you want {0}',\n",
        "  \"What's stopping you from getting {0}\"],\n",
        " 'do you remember (.*)': ['Did you think I would forget {0}',\n",
        "  \"Why haven't you been able to forget {0}\",\n",
        "  'What about {0}',\n",
        "  'Yes .. and?'],\n",
        " 'do you think (.*)': ['if {0}? Absolutely.', 'No chance'],\n",
        " 'if (.*)': [\"Do you really think it's likely that {0}\",\n",
        "  'Do you wish that {0}',\n",
        "  'What do you think about {0}',\n",
        "  'Really--if {0}']}\n",
        "\n",
        "\n",
        "import re\n",
        "import random\n",
        "\n",
        "def match_rule(rules, message):\n",
        "    # The function 'match_rule' takes two parameters:\n",
        "    # - rules: A dictionary containing patterns as keys and lists of responses as values.\n",
        "    # - message: Represents the input message from the user.\n",
        "\n",
        "    # Iterate through the patterns and responses in the rules dictionary.\n",
        "    for pattern, responses in rules.items():\n",
        "        # Use regular expression search to find a match between the pattern and the input message.\n",
        "        match = re.search(pattern, message)\n",
        "        if match is not None:\n",
        "            # If a match is found, randomly choose a response from the list of responses.\n",
        "            response = random.choice(responses)\n",
        "\n",
        "            # Check if the response contains the placeholder '{0}'.\n",
        "            # If so, extract the captured group from the regular expression match.\n",
        "            # This is used to extract a variable from the message and include it in the response.\n",
        "            var = match.group(1) if '{0}' in response else None\n",
        "\n",
        "            # Return the selected response and the extracted variable (if any).\n",
        "            return response, var\n",
        "\n",
        "    # If no pattern matches, return a default response.\n",
        "    return \"default\", None\n",
        "\n",
        "def replace_pronouns(message):\n",
        "\n",
        "    message = message.lower()\n",
        "    if 'me' in message:\n",
        "        return re.sub('me', 'you', message)\n",
        "    if 'i' in message:\n",
        "        return re.sub('i', 'you', message)\n",
        "    elif 'my' in message:\n",
        "        return re.sub('my', 'your', message)\n",
        "    elif 'your' in message:\n",
        "        return re.sub('your', 'my', message)\n",
        "    elif 'you' in message:\n",
        "        return re.sub('you', 'me', message)\n",
        "\n",
        "    return message"
      ],
      "metadata": {
        "id": "y6kn6b8POmlP"
      },
      "execution_count": 20,
      "outputs": []
    },
    {
      "cell_type": "code",
      "source": [
        "# Define chitchat_response()\n",
        "def chitchat_response(message):\n",
        "    # Call match_rule()\n",
        "    response, phrase = match_rule(eliza_rules, message)\n",
        "    # Return none if response is \"default\"\n",
        "    if response == \"default\":\n",
        "        return None\n",
        "    if '{0}' in response:\n",
        "        # Replace the pronouns of phrase\n",
        "        phrase = replace_pronouns(phrase)\n",
        "        # Calculate the response\n",
        "        response = response.format(phrase)\n",
        "    return response"
      ],
      "metadata": {
        "id": "qY9YF05RPgDL"
      },
      "execution_count": 21,
      "outputs": []
    },
    {
      "cell_type": "markdown",
      "source": [
        "### Putting it all together II\n",
        "With your chitchat_response(message) function defined, the next step is to define a send_message() function. This function should first call chitchat_response(message) and only use the coffee bot policy if there is no matching message."
      ],
      "metadata": {
        "id": "FiovAxM0Q6HT"
      }
    },
    {
      "cell_type": "code",
      "source": [
        "# Define send_message()\n",
        "# Function to handle a single user message and generate bot responses\n",
        "def send_message(state, pending, message):\n",
        "    print(\"USER: {}\".format(message))\n",
        "\n",
        "    # Check if there's a chitchat response for the message\n",
        "    response = chitchat_response(message)\n",
        "    if response is not None:\n",
        "        # If there's a chitchat response, print and return the response\n",
        "        print(\"BOT: {}\".format(response))\n",
        "        return state, None\n",
        "\n",
        "    # If no chitchat response, use predefined policy rules based on the current state and user message\n",
        "    # Look up the response and pending state in the policy_rules dictionary\n",
        "    new_state, response, pending_state = policy_rules[(state, interpret(message))]\n",
        "    print(\"BOT: {}\".format(response))\n",
        "\n",
        "    # Check if there's a pending state (used for handling multi-step conversations)\n",
        "    if pending is not None:\n",
        "        # If there's a pending state, look up the response and pending state based on the pending state\n",
        "        new_state, response, pending_state = policy_rules[pending]\n",
        "        print(\"BOT: {}\".format(response))\n",
        "\n",
        "    # Update pending state if needed\n",
        "    if pending_state is not None:\n",
        "        pending = (pending_state, interpret(message))\n",
        "\n",
        "    # Return the new state and pending state\n",
        "    return new_state, pending\n",
        "\n",
        "\n",
        "# Function to send a list of messages and simulate a conversation\n",
        "def send_messages(messages):\n",
        "    # Start with an initial state (may be defined elsewhere)\n",
        "    state = INIT\n",
        "    pending = None  # Initialize pending state\n",
        "\n",
        "    # Iterate through the list of messages\n",
        "    for msg in messages:\n",
        "        # Call the send_message function for each message, updating the state and pending state\n",
        "        state, pending = send_message(state, pending, msg)\n",
        "\n",
        "# Example usage of the send_messages function\n",
        "send_messages([\n",
        "    \"I'd like to order some coffee\",\n",
        "    \"555-12345\",\n",
        "    \"do you remember when I ordered 1000 kilos by accident?\",\n",
        "    \"kenyan\"\n",
        "])\n"
      ],
      "metadata": {
        "colab": {
          "base_uri": "https://localhost:8080/"
        },
        "id": "e807Tq4vQWEo",
        "outputId": "975aa117-e4ed-479e-cbf9-410b43d0a8d9"
      },
      "execution_count": 23,
      "outputs": [
        {
          "output_type": "stream",
          "name": "stdout",
          "text": [
            "USER: I'd like to order some coffee\n",
            "BOT: you'll have to log in first, what's your phone number?\n",
            "USER: 555-12345\n",
            "BOT: perfect, welcome back!\n",
            "BOT: would you like Colombian or Kenyan?\n",
            "USER: do you remember when I ordered 1000 kilos by accident?\n",
            "BOT: What about when you ordered 1000 kyoulos by accyoudent?\n",
            "USER: kenyan\n",
            "BOT: perfect, the beans are on their way!\n"
          ]
        }
      ]
    },
    {
      "cell_type": "markdown",
      "source": [
        "## Frontiers of dialogue research"
      ],
      "metadata": {
        "id": "jm7qY7HGRHbK"
      }
    },
    {
      "cell_type": "markdown",
      "source": [
        "### Generating text with neural networks\n",
        "In this final exercise of the course, you're going to generate text using a neural network trained on the scripts of every episode of The Simpsons. Specifically, you'll use a simplified version of the sample_text() function that Alan described in the video.\n",
        "\n",
        "It takes in two arguments: seed and temperature. The seed argument is the initial sequence that the network uses to generate the subsequent text, while the temperature argument controls how risky the network is when generating text. At very low temperatures, it just repeats the most common combinations of letters, and at very high temperatures, it generates complete gibberish. In order to ensure fast runtimes, the network in this exercise will only work for a subset of temperature values.\n",
        "\n",
        "After you finish this exercise, be sure to check out this tutorial by Alan where he walks you through how to connect a chatbot to Facebook Messenger!\n",
        "\n",
        "https://www.datacamp.com/tutorial/facebook-chatbot-python-deploy"
      ],
      "metadata": {
        "id": "msf4mGFQRw36"
      }
    },
    {
      "cell_type": "code",
      "source": [
        "generated= {0.2: \"i'm gonna punch lenny in the back of the been a to the on the man to the mother and the father to simpson the father to with the marge in the for the like the fame to the been to the for my bart the don't was in the like the for the father the father a was the father been a say the been to me the do it and the father been to go. i want to the boy i can the from a man to be the for the been a like the father to make my bart of the father\",\n",
        " 0.5: \"i'm gonna punch lenny in the back of the kin't she change and i'm all better it and the was the fad a drivera it? what i want to did hey, he would you would in your bus who know is the like and this don't are for your this all for your manset the for it a man is on the see the will they want to know i'm are for one start of that and i got the better this is. it whoce and i don't are on the mater stop in the from a for the be your mileat\",\n",
        " 1.0: \"i'm gonna punch lenny in the back of the to to macks how screath. firl done we wouldn't wil that kill. of this torshmobote since, i know i ord did, can give crika of sintenn prescoam.whover my me after may? there's right. that up. there's ruining isay.oh.solls.nan'h those off point chuncing car your anal medion.hey, are exallies a off while bea dolk of sure, hello, no in her, we'll rundems... i'm eventy taving me to too the letberngonce\",\n",
        " 1.2: \"i'm gonna punch lenny in the back of the burear prespe-nakes, 'lisa to isn't that godios.and when be the bowniday' would lochs meine, mind crikvin' suhle ovotaci!..... hey, a poielyfd othe flancer, this in are rightplouten of of we doll hurrs, truelturone? rake inswaydan justy!we scrikent.ow.. by back hous, smadge, the lighel irely.yes, homer. wel'e esasmoy ryelalrs all wronencay...... nank. i wenth makedyk. come on help cerzind, now, n\"}\n",
        "def sample_text(seed, temperature):\n",
        "    return generated[temperature]"
      ],
      "metadata": {
        "id": "yAlS-qeTQ9V6"
      },
      "execution_count": 26,
      "outputs": []
    },
    {
      "cell_type": "code",
      "source": [
        "# Feed the seed text into the neural network\n",
        "seed = \"i'm gonna punch lenny in the back of the\"\n",
        "\n",
        "# Iterate over the different temperature values\n",
        "for temperature in [0.2, 0.5, 1.0, 1.2]:\n",
        "    print(\"\\nGenerating text with riskiness : {}\\n\".format(temperature))\n",
        "    # Call the sample_text function\n",
        "    print(sample_text(seed, temperature))"
      ],
      "metadata": {
        "colab": {
          "base_uri": "https://localhost:8080/"
        },
        "id": "XfWMxtm_R5Y_",
        "outputId": "58fc0863-1d47-4802-ca7b-8cb1085cfb69"
      },
      "execution_count": 27,
      "outputs": [
        {
          "output_type": "stream",
          "name": "stdout",
          "text": [
            "\n",
            "Generating text with riskiness : 0.2\n",
            "\n",
            "i'm gonna punch lenny in the back of the been a to the on the man to the mother and the father to simpson the father to with the marge in the for the like the fame to the been to the for my bart the don't was in the like the for the father the father a was the father been a say the been to me the do it and the father been to go. i want to the boy i can the from a man to be the for the been a like the father to make my bart of the father\n",
            "\n",
            "Generating text with riskiness : 0.5\n",
            "\n",
            "i'm gonna punch lenny in the back of the kin't she change and i'm all better it and the was the fad a drivera it? what i want to did hey, he would you would in your bus who know is the like and this don't are for your this all for your manset the for it a man is on the see the will they want to know i'm are for one start of that and i got the better this is. it whoce and i don't are on the mater stop in the from a for the be your mileat\n",
            "\n",
            "Generating text with riskiness : 1.0\n",
            "\n",
            "i'm gonna punch lenny in the back of the to to macks how screath. firl done we wouldn't wil that kill. of this torshmobote since, i know i ord did, can give crika of sintenn prescoam.whover my me after may? there's right. that up. there's ruining isay.oh.solls.nan'h those off point chuncing car your anal medion.hey, are exallies a off while bea dolk of sure, hello, no in her, we'll rundems... i'm eventy taving me to too the letberngonce\n",
            "\n",
            "Generating text with riskiness : 1.2\n",
            "\n",
            "i'm gonna punch lenny in the back of the burear prespe-nakes, 'lisa to isn't that godios.and when be the bowniday' would lochs meine, mind crikvin' suhle ovotaci!..... hey, a poielyfd othe flancer, this in are rightplouten of of we doll hurrs, truelturone? rake inswaydan justy!we scrikent.ow.. by back hous, smadge, the lighel irely.yes, homer. wel'e esasmoy ryelalrs all wronencay...... nank. i wenth makedyk. come on help cerzind, now, n\n"
          ]
        }
      ]
    },
    {
      "cell_type": "code",
      "source": [],
      "metadata": {
        "id": "LyKf33VFSik7"
      },
      "execution_count": null,
      "outputs": []
    }
  ]
}