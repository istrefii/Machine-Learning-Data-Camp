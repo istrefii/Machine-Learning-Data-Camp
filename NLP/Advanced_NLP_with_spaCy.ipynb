{
  "nbformat": 4,
  "nbformat_minor": 0,
  "metadata": {
    "colab": {
      "provenance": []
    },
    "kernelspec": {
      "name": "python3",
      "display_name": "Python 3"
    },
    "language_info": {
      "name": "python"
    }
  },
  "cells": [
    {
      "cell_type": "markdown",
      "source": [
        "#WHAT I LEARNED\n",
        "\n",
        "1. Extract linguistic features: part-of-speech tahgs, dependencies, named entities\n",
        "\n",
        "2. Worked with pre-trained stats model\n",
        "\n",
        "3. Find words and phrases using Matcher and PhraseMatcher match rules\n",
        "\n",
        "4. Best practices for working with data structures Doc, Token, Span, Vocab, Lexeme\n",
        "\n",
        "5. Find semantic similarties using word vectors\n",
        "\n",
        "6. Write custom pipeline componenets with extension attributes\n",
        "\n",
        "7. Scale up your spaCy pipelines and make them fasters\n",
        "\n",
        "8. Create training data for spaCy stats models\n",
        "\n",
        "9. Train and update spaCy neural network models with new data"
      ],
      "metadata": {
        "id": "wXOmMi9DUaJJ"
      }
    },
    {
      "cell_type": "markdown",
      "source": [
        "# Course Description\n",
        "If you're working with a lot of text, you'll eventually want to know more about it. For example, what's it about? What do the words mean in context? Who is doing what to whom? What companies and products are mentioned? Which texts are similar to each other? In this course, you'll learn how to use spaCy, a fast-growing industry standard library for NLP in Python, to build advanced natural language understanding systems, using both rule-based and machine learning approaches.\n",
        "\n",
        "CHEAT SHEET: https://images.datacamp.com/image/upload/v1653829192/Marketing/Blog/spaCy_Cheat_Sheet_final.pdf"
      ],
      "metadata": {
        "id": "BxyfC_Z3U3Hw"
      }
    },
    {
      "cell_type": "markdown",
      "source": [
        "# CHAPTER 1 Finding words, phrases, names and concepts\n",
        "\n",
        "\n",
        "This chapter will introduce you to the basics of text processing with spaCy. You'll learn about the data structures, how to work with statistical models, and how to use them to predict linguistic features in your text."
      ],
      "metadata": {
        "id": "2w3EHyLrU3KV"
      }
    },
    {
      "cell_type": "markdown",
      "source": [
        "### Getting Started\n",
        "Let's get started and try out spaCy! In this exercise, you'll be able to try out some of the 45+ available languages.\n",
        "\n",
        "This course introduces a lot of new concepts, so if you ever need a quick refresher, download the spaCy Cheat Sheet and keep it handy!"
      ],
      "metadata": {
        "id": "ZCAoTX9BU3M9"
      }
    },
    {
      "cell_type": "code",
      "source": [
        "# Import the English language class\n",
        "from spacy.lang.en import English\n",
        "\n",
        "# Create the nlp object\n",
        "nlp = English()\n",
        "\n",
        "# Process a text\n",
        "doc = nlp(\"This is a sentence.\")\n",
        "\n",
        "# Print the document text\n",
        "print(doc.text)"
      ],
      "metadata": {
        "colab": {
          "base_uri": "https://localhost:8080/"
        },
        "id": "kQHr_Qr6VDcB",
        "outputId": "ef7ad06e-1290-4866-a542-417efc4c1d3b"
      },
      "execution_count": 1,
      "outputs": [
        {
          "output_type": "stream",
          "name": "stdout",
          "text": [
            "This is a sentence.\n"
          ]
        }
      ]
    },
    {
      "cell_type": "code",
      "source": [
        "# Import the German language class\n",
        "from spacy.lang.de import German\n",
        "\n",
        "# Create the nlp object\n",
        "nlp = German()\n",
        "\n",
        "# Process a text (this is German for: \"Kind regards!\")\n",
        "doc = nlp(\"Liebe Grüße!\")\n",
        "\n",
        "# Print the document text\n",
        "print(doc.text)"
      ],
      "metadata": {
        "colab": {
          "base_uri": "https://localhost:8080/"
        },
        "id": "Wl2O1_3sVE-H",
        "outputId": "e852ef92-1956-4fb9-bcd2-3f73ddc4ec89"
      },
      "execution_count": 2,
      "outputs": [
        {
          "output_type": "stream",
          "name": "stdout",
          "text": [
            "Liebe Grüße!\n"
          ]
        }
      ]
    },
    {
      "cell_type": "code",
      "source": [
        "# Import the Spanish language class\n",
        "from spacy.lang.es import Spanish\n",
        "\n",
        "# Create the nlp object\n",
        "nlp = Spanish()\n",
        "\n",
        "# Process a text (this is Spanish for: \"How are you?\")\n",
        "doc = nlp(\"¿Cómo estás?\")\n",
        "\n",
        "# Print the document text\n",
        "print(doc.text)"
      ],
      "metadata": {
        "colab": {
          "base_uri": "https://localhost:8080/"
        },
        "id": "YLWhXNfQVIIX",
        "outputId": "8f42fa5e-20ad-4658-ea8e-38b99b525011"
      },
      "execution_count": 3,
      "outputs": [
        {
          "output_type": "stream",
          "name": "stdout",
          "text": [
            "¿Cómo estás?\n"
          ]
        }
      ]
    },
    {
      "cell_type": "markdown",
      "source": [
        "### Documents, spans and tokens\n",
        "When you call nlp on a string, spaCy first tokenizes the text and creates a document object. In this exercise, you'll learn more about the Doc, as well as its views Token and Span."
      ],
      "metadata": {
        "id": "vPwutpqwVKwD"
      }
    },
    {
      "cell_type": "code",
      "source": [
        "# Import the English language class and create the nlp object\n",
        "from spacy.lang.en import English\n",
        "nlp = English()\n",
        "\n",
        "# Process the text\n",
        "doc = nlp(\"I like tree kangaroos and narwhals.\")\n",
        "\n",
        "# Select the first token\n",
        "first_token = doc[0]\n",
        "\n",
        "# Print the first token's text\n",
        "print(first_token.text)"
      ],
      "metadata": {
        "colab": {
          "base_uri": "https://localhost:8080/"
        },
        "id": "Ap7j4OcxVKIK",
        "outputId": "bc9acaa6-221d-43d0-b810-a8967e4bacd8"
      },
      "execution_count": 4,
      "outputs": [
        {
          "output_type": "stream",
          "name": "stdout",
          "text": [
            "I\n"
          ]
        }
      ]
    },
    {
      "cell_type": "code",
      "source": [
        "# Import the English language class and create the nlp object\n",
        "from spacy.lang.en import English\n",
        "nlp = English()\n",
        "\n",
        "# Process the text\n",
        "doc = nlp(\"I like tree kangaroos and narwhals.\")\n",
        "\n",
        "# A slice of the Doc for \"tree kangaroos\"\n",
        "tree_kangaroos = doc[2:4]\n",
        "print(tree_kangaroos.text)\n",
        "\n",
        "# A slice of the Doc for \"tree kangaroos and narwhals\" (without the \".\")\n",
        "tree_kangaroos_and_narwhals = doc[2:6]\n",
        "print(tree_kangaroos_and_narwhals.text)"
      ],
      "metadata": {
        "colab": {
          "base_uri": "https://localhost:8080/"
        },
        "id": "wROQqBxuVPj7",
        "outputId": "d23fe169-500b-4a01-db59-c0aa3a2fbb68"
      },
      "execution_count": 5,
      "outputs": [
        {
          "output_type": "stream",
          "name": "stdout",
          "text": [
            "tree kangaroos\n",
            "tree kangaroos and narwhals\n"
          ]
        }
      ]
    },
    {
      "cell_type": "markdown",
      "source": [
        "### Lexical attributes\n",
        "In this example, you'll use spaCy's Doc and Token objects, and lexical attributes to find percentages in a text. You'll be looking for two subsequent tokens: a number and a percent sign. The English nlp object has already been created."
      ],
      "metadata": {
        "id": "Q__wWM8vVTT6"
      }
    },
    {
      "cell_type": "code",
      "source": [
        "# Process the text\n",
        "doc = nlp(\"In 1990, more than 60% of people in East Asia were in extreme poverty. Now less than 4% are.\")\n",
        "\n",
        "# Iterate over the tokens in the doc\n",
        "for token in doc:\n",
        "    # Check if the token resembles a number\n",
        "    if token.like_num:\n",
        "        # Get the next token in the document\n",
        "        next_token = doc[token.i+1]\n",
        "        # Check if the next token's text equals '%'\n",
        "        if next_token.text == '%':\n",
        "            print('Percentage found:', token.text)"
      ],
      "metadata": {
        "id": "pKzmWWf4VSWr",
        "colab": {
          "base_uri": "https://localhost:8080/"
        },
        "outputId": "f09802b2-5b3b-4d3e-9586-06e624e23c49"
      },
      "execution_count": 6,
      "outputs": [
        {
          "output_type": "stream",
          "name": "stdout",
          "text": [
            "Percentage found: 60\n",
            "Percentage found: 4\n"
          ]
        }
      ]
    },
    {
      "cell_type": "markdown",
      "source": [
        "## Statistical models\n"
      ],
      "metadata": {
        "id": "kd-9QNO7VdFr"
      }
    },
    {
      "cell_type": "markdown",
      "source": [
        "### Loading models\n",
        "Let's start by loading a model. spacy is already imported."
      ],
      "metadata": {
        "id": "S1P9ZNmKWdzX"
      }
    },
    {
      "cell_type": "code",
      "source": [
        "import spacy\n",
        "# Load the 'en_core_web_sm' model – spaCy is already imported\n",
        "nlp = spacy.load('en_core_web_sm')\n",
        "\n",
        "text = \"It’s official: Apple is the first U.S. public company to reach a $1 trillion market value\"\n",
        "\n",
        "# Process the text\n",
        "doc = nlp(text)\n",
        "\n",
        "# Print the document text\n",
        "print(doc.text)"
      ],
      "metadata": {
        "colab": {
          "base_uri": "https://localhost:8080/"
        },
        "id": "LnhxMuHAVWyX",
        "outputId": "05d18453-cadd-4075-f413-aad1a27de0b3"
      },
      "execution_count": 7,
      "outputs": [
        {
          "output_type": "stream",
          "name": "stdout",
          "text": [
            "It’s official: Apple is the first U.S. public company to reach a $1 trillion market value\n"
          ]
        }
      ]
    },
    {
      "cell_type": "code",
      "source": [
        "# Load the 'de_core_news_sm' model – spaCy is already imported\n",
        "nlp = spacy.load('de_core_news_sm')\n",
        "\n",
        "text = \"Als erstes Unternehmen der Börsengeschichte hat Apple einen Marktwert von einer Billion US-Dollar erreicht\"\n",
        "\n",
        "# Process the text\n",
        "doc = nlp(text)\n",
        "\n",
        "# Print the document text\n",
        "print(doc.text)"
      ],
      "metadata": {
        "id": "8bhvHbafWo3X"
      },
      "execution_count": 72,
      "outputs": []
    },
    {
      "cell_type": "markdown",
      "source": [
        "### Predicting linguistic annotations\n",
        "You'll now get to try one of spaCy's pre-trained model packages and see its predictions in action. Feel free to try it out on your own text! The small English model is already available as the variable nlp.\n",
        "\n",
        "To find out what a tag or label means, you can call spacy.explain in the IPython shell. For example: spacy.explain('PROPN') or spacy.explain('GPE')."
      ],
      "metadata": {
        "id": "9UrFAiqLXLJ4"
      }
    },
    {
      "cell_type": "code",
      "source": [
        "text = \"It’s official: Apple is the first U.S. public company to reach a $1 trillion market value\"\n",
        "\n",
        "# Process the text\n",
        "doc = nlp(text)\n",
        "\n",
        "for token in doc:\n",
        "    # Get the token text, part-of-speech tag and dependency label\n",
        "    token_text = token.text\n",
        "    token_pos = token.pos_\n",
        "    token_dep = token.dep_\n",
        "    # This is for formatting only\n",
        "    print('{:<12}{:<10}{:<10}'.format(token_text, token_pos, token_dep))"
      ],
      "metadata": {
        "colab": {
          "base_uri": "https://localhost:8080/"
        },
        "id": "kOexaTdVW0fl",
        "outputId": "5f5910ea-701b-4cb6-eb30-db5aad55593e"
      },
      "execution_count": 8,
      "outputs": [
        {
          "output_type": "stream",
          "name": "stdout",
          "text": [
            "It          PRON      nsubj     \n",
            "’s          VERB      ccomp     \n",
            "official    NOUN      acomp     \n",
            ":           PUNCT     punct     \n",
            "Apple       PROPN     nsubj     \n",
            "is          AUX       ROOT      \n",
            "the         DET       det       \n",
            "first       ADJ       amod      \n",
            "U.S.        PROPN     nmod      \n",
            "public      ADJ       amod      \n",
            "company     NOUN      attr      \n",
            "to          PART      aux       \n",
            "reach       VERB      relcl     \n",
            "a           DET       det       \n",
            "$           SYM       quantmod  \n",
            "1           NUM       compound  \n",
            "trillion    NUM       nummod    \n",
            "market      NOUN      compound  \n",
            "value       NOUN      dobj      \n"
          ]
        }
      ]
    },
    {
      "cell_type": "code",
      "source": [
        "text = \"It’s official: Apple is the first U.S. public company to reach a $1 trillion market value\"\n",
        "\n",
        "# Process the text\n",
        "doc = nlp(text)\n",
        "\n",
        "# Iterate over the predicted entities\n",
        "for ent in doc.ents:\n",
        "    # print the entity text and its label\n",
        "    print(ent.text, ent.label_)"
      ],
      "metadata": {
        "id": "klHIO1zjXNMf",
        "colab": {
          "base_uri": "https://localhost:8080/"
        },
        "outputId": "24a7d3ec-efc8-401e-d2a3-e2557c3ba2fd"
      },
      "execution_count": 9,
      "outputs": [
        {
          "output_type": "stream",
          "name": "stdout",
          "text": [
            "Apple ORG\n",
            "first ORDINAL\n",
            "U.S. GPE\n",
            "$1 trillion MONEY\n"
          ]
        }
      ]
    },
    {
      "cell_type": "markdown",
      "source": [
        "### Predicting named entities in context\n",
        "Models are statistical and not always right. Whether their predictions are correct depends on the training data and the text you're processing. Let's take a look at an example. The small English model is available as the variable nlp."
      ],
      "metadata": {
        "id": "uXdkaxYsXcLw"
      }
    },
    {
      "cell_type": "code",
      "source": [
        "text = \"New iPhone X release date leaked as Apple reveals pre-orders by mistake\"\n",
        "\n",
        "# Process the text\n",
        "doc = nlp(text)\n",
        "\n",
        "# Iterate over the entities\n",
        "for ent in doc.ents:\n",
        "    # print the entity text and label\n",
        "    print(ent.text, ent.label_)\n",
        "\n",
        "# look like it didnt label iPhone X"
      ],
      "metadata": {
        "id": "gPZ9auE-XZIA",
        "colab": {
          "base_uri": "https://localhost:8080/"
        },
        "outputId": "1283e844-33f7-4199-8ded-e603915fe909"
      },
      "execution_count": 10,
      "outputs": [
        {
          "output_type": "stream",
          "name": "stdout",
          "text": [
            "Apple ORG\n"
          ]
        }
      ]
    },
    {
      "cell_type": "code",
      "source": [
        "text = \"New iPhone X release date leaked as Apple reveals pre-orders by mistake\"\n",
        "\n",
        "# Process the text\n",
        "doc = nlp(text)\n",
        "\n",
        "# Iterate over the entities\n",
        "for ent in doc.ents:\n",
        "    # print the entity text and label\n",
        "    print(ent.text, ent.label_)\n",
        "\n",
        "# Get the span for \"iPhone X\"\n",
        "iphone_x = doc[1:3]\n",
        "\n",
        "# Print the span text\n",
        "print('Missing entity:', iphone_x.text)\n",
        "\n",
        "#you don't always have to do this manually. spaCy's rule-based matcher, which can help you find certain words and phrases in text."
      ],
      "metadata": {
        "colab": {
          "base_uri": "https://localhost:8080/"
        },
        "id": "m5IBEenpXpD7",
        "outputId": "136edbc2-0708-4645-bd29-77688ee9a8d2"
      },
      "execution_count": 11,
      "outputs": [
        {
          "output_type": "stream",
          "name": "stdout",
          "text": [
            "Apple ORG\n",
            "Missing entity: iPhone X\n"
          ]
        }
      ]
    },
    {
      "cell_type": "markdown",
      "source": [
        "## Rule-based matching\n"
      ],
      "metadata": {
        "id": "x2hjAzzAX88n"
      }
    },
    {
      "cell_type": "markdown",
      "source": [
        "### Using the Matcher\n",
        "Let's try spaCy's rule-based Matcher. You'll be using the example from the previous exercise and write a pattern that can match the phrase \"iPhone X\" in the text. The nlp object and a processed doc are already available."
      ],
      "metadata": {
        "id": "XYMlwNXqaEx4"
      }
    },
    {
      "cell_type": "code",
      "source": [
        "# Import the Matcher\n",
        "from spacy.matcher import Matcher\n",
        "\n",
        "# Initialize the Matcher with the shared vocabulary\n",
        "matcher = Matcher(nlp.vocab)"
      ],
      "metadata": {
        "id": "CDLptXFBX6s4"
      },
      "execution_count": 12,
      "outputs": []
    },
    {
      "cell_type": "code",
      "source": [
        "# Import the Matcher and initialize it with the shared vocabulary\n",
        "from spacy.matcher import Matcher\n",
        "matcher = Matcher(nlp.vocab)\n",
        "\n",
        "# Create a pattern matching two tokens: \"iPhone\" and \"X\"\n",
        "pattern = [{'TEXT': 'iPhone'}, {'TEXT': 'X'}]\n",
        "\n",
        "# Add the pattern to the matcher\n",
        "matcher.add('IPHONE_X_PATTERN', [pattern])\n",
        "\n",
        "# Use the matcher on the doc\n",
        "matches = matcher(doc)\n",
        "print('Matches:', [doc[start:end].text for match_id, start, end in matches])\n",
        "\n",
        "#the tokens at doc[1:3] describing the span for \"iPhone X\"."
      ],
      "metadata": {
        "colab": {
          "base_uri": "https://localhost:8080/"
        },
        "id": "qvO3Q5fyZH4Q",
        "outputId": "56b2a628-8153-4dbf-dcb0-ff7afc2e77fd"
      },
      "execution_count": 13,
      "outputs": [
        {
          "output_type": "stream",
          "name": "stdout",
          "text": [
            "Matches: ['iPhone X']\n"
          ]
        }
      ]
    },
    {
      "cell_type": "markdown",
      "source": [
        "### Writing match patterns\n",
        "In this exercise, you'll practice writing more complex match patterns using different token attributes and operators. A matcher is already initialized and available as the variable matcher.\n",
        "\n"
      ],
      "metadata": {
        "id": "93ZNfw3XaDLT"
      }
    },
    {
      "cell_type": "code",
      "source": [
        "doc = nlp(\"After making the iOS update you won't notice a radical system-wide redesign: nothing like the aesthetic upheaval we got with iOS 7. Most of iOS 11's furniture remains the same as in iOS 10. But you will discover some tweaks once you delve a little deeper.\")\n",
        "\n",
        "# Write a pattern for full iOS versions (\"iOS 7\", \"iOS 11\", \"iOS 10\")\n",
        "pattern = [{'TEXT': 'iOS'}, {'IS_DIGIT': True}]\n",
        "\n",
        "# Add the pattern to the matcher and apply the matcher to the doc\n",
        "matcher.add('IOS_VERSION_PATTERN', [pattern])\n",
        "matches = matcher(doc)\n",
        "print('Total matches found:', len(matches))\n",
        "\n",
        "# Iterate over the matches and print the span text\n",
        "for match_id, start, end in matches:\n",
        "    print('Match found:', doc[start:end].text)"
      ],
      "metadata": {
        "colab": {
          "base_uri": "https://localhost:8080/"
        },
        "id": "W26frxxXZlKR",
        "outputId": "41f4531d-6dc6-4d70-aafe-ad934d992649"
      },
      "execution_count": 14,
      "outputs": [
        {
          "output_type": "stream",
          "name": "stdout",
          "text": [
            "Total matches found: 3\n",
            "Match found: iOS 7\n",
            "Match found: iOS 11\n",
            "Match found: iOS 10\n"
          ]
        }
      ]
    },
    {
      "cell_type": "code",
      "source": [
        "doc = nlp(\"i downloaded Fortnite on my laptop and can't open the game at all. Help? so when I was downloading Minecraft, I got the Windows version where it is the '.zip' folder and I used the default program to unpack it... do I also need to download Winzip?\")\n",
        "\n",
        "# Write a pattern that matches a form of \"download\" plus proper noun\n",
        "pattern = [{'LEMMA': 'download'}, {'POS': 'PROPN'}]\n",
        "\n",
        "# Add the pattern to the matcher and apply the matcher to the doc\n",
        "matcher.add('DOWNLOAD_THINGS_PATTERN', [pattern])\n",
        "matches = matcher(doc)\n",
        "print('Total matches found:', len(matches))\n",
        "\n",
        "# Iterate over the matches and print the span text\n",
        "for match_id, start, end in matches:\n",
        "    print('Match found:', doc[start:end].text)"
      ],
      "metadata": {
        "id": "_zrAeGrZbox2",
        "colab": {
          "base_uri": "https://localhost:8080/"
        },
        "outputId": "ffdbfc06-5ca0-43f7-f971-3864ed2c56ba"
      },
      "execution_count": 15,
      "outputs": [
        {
          "output_type": "stream",
          "name": "stdout",
          "text": [
            "Total matches found: 3\n",
            "Match found: downloaded Fortnite\n",
            "Match found: downloading Minecraft\n",
            "Match found: download Winzip\n"
          ]
        }
      ]
    },
    {
      "cell_type": "code",
      "source": [
        "doc = nlp(\"Features of the app include a beautiful design, smart search, automatic labels and optional voice responses.\")\n",
        "\n",
        "# Write a pattern for adjective plus one or two nouns\n",
        "pattern = [{'POS': 'ADJ'}, {'POS': 'NOUN'}, {'POS': 'NOUN', 'OP': '?'}]\n",
        "\n",
        "# Add the pattern to the matcher and apply the matcher to the doc\n",
        "matcher.add('ADJ_NOUN_PATTERN', [pattern])\n",
        "matches = matcher(doc)\n",
        "print('Total matches found:', len(matches))\n",
        "\n",
        "# Iterate over the matches and print the span text\n",
        "for match_id, start, end in matches:\n",
        "    print('Match found:', doc[start:end].text)"
      ],
      "metadata": {
        "id": "EvuQWi6hb7n4",
        "colab": {
          "base_uri": "https://localhost:8080/"
        },
        "outputId": "ba3b2589-4079-4726-d9d7-8149f458efee"
      },
      "execution_count": 16,
      "outputs": [
        {
          "output_type": "stream",
          "name": "stdout",
          "text": [
            "Total matches found: 5\n",
            "Match found: beautiful design\n",
            "Match found: smart search\n",
            "Match found: automatic labels\n",
            "Match found: optional voice\n",
            "Match found: optional voice responses\n"
          ]
        }
      ]
    },
    {
      "cell_type": "markdown",
      "source": [
        "# CHAPTER 2 Large-scale data analysis with spaCy\n",
        "\n",
        "In this chapter, you'll use your new skills to extract specific information from large volumes of text. You'll learn how to make the most of spaCy's data structures, and how to effectively combine statistical and rule-based approaches for text analysis."
      ],
      "metadata": {
        "id": "axwYmYrFdWf7"
      }
    },
    {
      "cell_type": "markdown",
      "source": [
        "## Data Structures Vocab, Lexemes and StringStore"
      ],
      "metadata": {
        "id": "VYGTOZSXRVth"
      }
    },
    {
      "cell_type": "markdown",
      "source": [
        "### Strings to hashes\n",
        "The nlp object has already been created for you."
      ],
      "metadata": {
        "id": "LSE6EyDAR6qg"
      }
    },
    {
      "cell_type": "code",
      "source": [
        "# Look up the hash for the word \"cat\"\n",
        "cat_hash = nlp.vocab.strings['cat']\n",
        "print(cat_hash)\n",
        "\n",
        "# Look up the cat_hash to get the string\n",
        "cat_string = nlp.vocab.strings[cat_hash]\n",
        "print(cat_string)"
      ],
      "metadata": {
        "id": "Zq2uI0_RRjFx",
        "colab": {
          "base_uri": "https://localhost:8080/"
        },
        "outputId": "af441939-8c08-4822-df81-626ec3a75e13"
      },
      "execution_count": 17,
      "outputs": [
        {
          "output_type": "stream",
          "name": "stdout",
          "text": [
            "5439657043933447811\n",
            "cat\n"
          ]
        }
      ]
    },
    {
      "cell_type": "code",
      "source": [
        "# Look up the hash for the string label \"PERSON\"\n",
        "person_hash = nlp.vocab.strings[\"PERSON\"]\n",
        "print(person_hash)\n",
        "\n",
        "# Look up the person_hash to get the string\n",
        "person_string = nlp.vocab.strings[person_hash]\n",
        "print(person_string)"
      ],
      "metadata": {
        "id": "V-WejYX0SHJd",
        "colab": {
          "base_uri": "https://localhost:8080/"
        },
        "outputId": "7274d6a9-4d8a-482c-d1e4-e10389e71318"
      },
      "execution_count": 18,
      "outputs": [
        {
          "output_type": "stream",
          "name": "stdout",
          "text": [
            "380\n",
            "PERSON\n"
          ]
        }
      ]
    },
    {
      "cell_type": "markdown",
      "source": [
        "### Vocab, hashes and lexemes\n",
        "Why does this code throw an error?\n",
        "\n",
        "from spacy.lang.en import English\n",
        "from spacy.lang.de import German\n",
        "\n",
        "// Create an English and German nlp object\n",
        "nlp = English()\n",
        "nlp_de = German()\n",
        "\n",
        "// Get the ID for the string 'Bowie'\n",
        "bowie_id = nlp.vocab.strings['Bowie']\n",
        "print(bowie_id)\n",
        "\n",
        "// Look up the ID for 'Bowie' in the vocab\n",
        "print(nlp_de.vocab.strings[bowie_id])\n",
        "The English language class is already available as the nlp object."
      ],
      "metadata": {
        "id": "lDJcfNpgSfVJ"
      }
    },
    {
      "cell_type": "markdown",
      "source": [
        "## Data Structures: Doc, Span and Token\n",
        "\n",
        "Convert results to strings as late as possible"
      ],
      "metadata": {
        "id": "e4Q8Kn-OSp-S"
      }
    },
    {
      "cell_type": "markdown",
      "source": [
        "### Creating a Doc\n",
        "Let's create some Doc objects from scratch! The nlp object has already been created for you.\n",
        "\n",
        "By the way, if you haven't downloaded it already, check out the spaCy Cheat Sheet. It includes an overview of the most important concepts and methods and might come in handy if you ever need a quick refresher!"
      ],
      "metadata": {
        "id": "b3sGbrrbTU1j"
      }
    },
    {
      "cell_type": "code",
      "source": [
        "# Import the Doc class\n",
        "from spacy.tokens import Doc\n",
        "\n",
        "# Desired text: \"spaCy is cool!\"\n",
        "sentence= ['spaCy is cool!']\n",
        "words = ['spaCy', 'is', 'cool', '!']\n",
        "spaces = [True, True, False, False]\n",
        "\n",
        "# Create a Doc from the words and spaces\n",
        "doc = Doc(nlp.vocab, words=words, spaces=spaces)\n",
        "print(doc.text)"
      ],
      "metadata": {
        "id": "dv7MZILLSdlj",
        "colab": {
          "base_uri": "https://localhost:8080/"
        },
        "outputId": "9a22c1d7-5603-47f4-ae27-e24aebf10537"
      },
      "execution_count": 19,
      "outputs": [
        {
          "output_type": "stream",
          "name": "stdout",
          "text": [
            "spaCy is cool!\n"
          ]
        }
      ]
    },
    {
      "cell_type": "code",
      "source": [
        "# Import the Doc class\n",
        "from spacy.tokens import Doc\n",
        "\n",
        "# Desired text: \"Go, get started!\"\n",
        "words = ['Go', ',', 'get', 'started', '!']\n",
        "spaces = [False, True, True, False, False]\n",
        "\n",
        "# Create a Doc from the words and spaces\n",
        "doc = Doc(nlp.vocab, words=words, spaces=spaces)\n",
        "print(doc.text)"
      ],
      "metadata": {
        "colab": {
          "base_uri": "https://localhost:8080/"
        },
        "id": "b8WbPbAeUUyq",
        "outputId": "ab6d8cdb-88df-4782-92d7-1c7fe3329538"
      },
      "execution_count": 20,
      "outputs": [
        {
          "output_type": "stream",
          "name": "stdout",
          "text": [
            "Go, get started!\n"
          ]
        }
      ]
    },
    {
      "cell_type": "code",
      "source": [
        "# Import the Doc class\n",
        "from spacy.tokens import Doc\n",
        "\n",
        "# Desired text: \"Oh, really?!\"\n",
        "words = ['Oh', ',', 'really', '?', '!']\n",
        "spaces = [False, True, False, False, False]\n",
        "\n",
        "# Create a Doc from the words and spaces\n",
        "doc = Doc(nlp.vocab, words=words, spaces=spaces)\n",
        "print(doc.text)"
      ],
      "metadata": {
        "colab": {
          "base_uri": "https://localhost:8080/"
        },
        "id": "TV-TVwlWUs1r",
        "outputId": "e9275100-1099-48bf-a239-e9231bf11825"
      },
      "execution_count": 21,
      "outputs": [
        {
          "output_type": "stream",
          "name": "stdout",
          "text": [
            "Oh, really?!\n"
          ]
        }
      ]
    },
    {
      "cell_type": "markdown",
      "source": [
        "### Docs, spans and entities from scratch\n",
        "In this exercise, you'll create the Doc and Span objects manually, and update the named entities – just like spaCy does behind the scenes. A shared nlp object has already been created."
      ],
      "metadata": {
        "id": "CSMAjII8VGHa"
      }
    },
    {
      "cell_type": "code",
      "source": [
        "# Import the Doc and Span classes\n",
        "from spacy.tokens import Doc, Span\n",
        "\n",
        "words = ['I', 'like', 'David', 'Bowie']\n",
        "spaces = [True, True, True, False]\n",
        "\n",
        "# Create a doc from the words and spaces\n",
        "doc = Doc(nlp.vocab, words=words, spaces=spaces)\n",
        "print(doc.text)"
      ],
      "metadata": {
        "colab": {
          "base_uri": "https://localhost:8080/"
        },
        "id": "l5Ssdjs6VFVw",
        "outputId": "4bb85f6f-3af1-4081-d755-9d4250df462a"
      },
      "execution_count": 22,
      "outputs": [
        {
          "output_type": "stream",
          "name": "stdout",
          "text": [
            "I like David Bowie\n"
          ]
        }
      ]
    },
    {
      "cell_type": "code",
      "source": [
        "# Import the Doc and Span classes\n",
        "from spacy.tokens import Doc, Span\n",
        "\n",
        "# Create a doc from the words and spaces\n",
        "doc = Doc(nlp.vocab, words=['I', 'like', 'David', 'Bowie'], spaces=[True, True, True, False])\n",
        "\n",
        "# Create a span for \"David Bowie\" from the doc and assign it the label \"PERSON\"\n",
        "span = Span(doc, 2, 4, label='PERSON')\n",
        "\n",
        "# Add the span to the doc's entities\n",
        "doc.ents = [span]\n",
        "\n",
        "# Print entities' text and labels\n",
        "print([(ent.text, ent.label_) for ent in doc.ents])"
      ],
      "metadata": {
        "colab": {
          "base_uri": "https://localhost:8080/"
        },
        "id": "zmy4q9blVZ1J",
        "outputId": "9bd1e6e7-60f2-480a-9c48-7bac7cdad613"
      },
      "execution_count": 23,
      "outputs": [
        {
          "output_type": "stream",
          "name": "stdout",
          "text": [
            "[('David Bowie', 'PERSON')]\n"
          ]
        }
      ]
    },
    {
      "cell_type": "markdown",
      "source": [
        "### Data structures best practices\n",
        "The code in this example is trying to analyze a text and collect all proper nouns. If the token following the proper noun is a verb, it should also be extracted. A doc object has already been created.\n",
        "\n",
        "//Get all tokens and part-of-speech tags\n",
        "\n",
        "pos_tags = [token.pos_ for token in doc]\n",
        "\n",
        "for index, pos in enumerate(pos_tags):\n",
        "    # Check if the current token is a proper noun\n",
        "    if pos == 'PROPN':\n",
        "        # Check if the next token is a verb\n",
        "        if pos_tags[index + 1] == 'VERB':\n",
        "            print('Found a verb after a proper noun!')"
      ],
      "metadata": {
        "id": "QRXkygNOVypJ"
      }
    },
    {
      "cell_type": "code",
      "source": [
        "# Import the Doc and Span classes\n",
        "from spacy.tokens import Doc, Span\n",
        "\n",
        "# Create a doc from the words and spaces\n",
        "doc = Doc(nlp.vocab, words=['Berlin', 'is', 'a', 'nice', 'city'], spaces=[True, True, True, True, False])\n",
        "\n",
        "print(doc.text)"
      ],
      "metadata": {
        "colab": {
          "base_uri": "https://localhost:8080/"
        },
        "id": "wP96VcwzVsfL",
        "outputId": "7049560d-a39d-4096-b074-80660b44532d"
      },
      "execution_count": 24,
      "outputs": [
        {
          "output_type": "stream",
          "name": "stdout",
          "text": [
            "Berlin is a nice city\n"
          ]
        }
      ]
    },
    {
      "cell_type": "code",
      "source": [
        "# Iterate over the tokens\n",
        "for token in doc:\n",
        "    # Check if the current token is a proper noun\n",
        "    if token.pos_ == 'PROPN':\n",
        "        # Check if the next token is a verb\n",
        "        if doc[token.i + 1].pos_ == 'VERB':\n",
        "            print('Found a verb after a proper noun!')"
      ],
      "metadata": {
        "id": "Pz9Xu38kWgSo"
      },
      "execution_count": 25,
      "outputs": []
    },
    {
      "cell_type": "markdown",
      "source": [
        "## Word vectors and similarity\n",
        "\n",
        "Similarity is determined using word vectors"
      ],
      "metadata": {
        "id": "Ma_zp3W9W473"
      }
    },
    {
      "cell_type": "markdown",
      "source": [
        "### Inspecting word vectors\n",
        "In this exercise, you'll use a larger English model, which includes around 20.000 word vectors. Because vectors take a little longer to load, we're using a slightly compressed version of it than the one you can download with spaCy. The model is already pre-installed, and spacy has already been imported for you.\n",
        "\n",
        "https://spacy.io/models/en"
      ],
      "metadata": {
        "id": "j4zuJZ2oYPu-"
      }
    },
    {
      "cell_type": "code",
      "source": [
        "# Download the 'en_core_web_md' model\n",
        "spacy.cli.download(\"en_core_web_md\")\n",
        "nlp = spacy.load('en_core_web_md')"
      ],
      "metadata": {
        "colab": {
          "base_uri": "https://localhost:8080/"
        },
        "id": "q3HWLtipWtTx",
        "outputId": "19055ff2-c896-40d6-b967-654221bb62a1"
      },
      "execution_count": 26,
      "outputs": [
        {
          "output_type": "stream",
          "name": "stdout",
          "text": [
            "\u001b[38;5;2m✔ Download and installation successful\u001b[0m\n",
            "You can now load the package via spacy.load('en_core_web_md')\n"
          ]
        }
      ]
    },
    {
      "cell_type": "code",
      "source": [
        "# Load the en_core_web_md model\n",
        "nlp = spacy.load('en_core_web_md')\n",
        "\n",
        "# Process a text\n",
        "doc = nlp(\"Two bananas in pyjamas\")\n",
        "\n",
        "# Get the vector for the token \"bananas\"\n",
        "bananas_vector = doc[1].vector\n",
        "print(bananas_vector)\n",
        "\n",
        "##you'll be using spaCy to predict similarities between documents, spans and\n",
        "# tokens via the word vectors under the hood."
      ],
      "metadata": {
        "colab": {
          "base_uri": "https://localhost:8080/"
        },
        "id": "7mQ5saaFY8kI",
        "outputId": "3f039c81-3ed9-417b-fa49-1210854f30c7"
      },
      "execution_count": 27,
      "outputs": [
        {
          "output_type": "stream",
          "name": "stdout",
          "text": [
            "[-2.1689e-01 -2.5989e+00 -1.3144e+00  2.2500e+00 -4.6767e-01 -2.0695e+00\n",
            " -6.3379e-01 -4.0222e-01 -3.4022e+00 -3.6932e-01 -7.9938e-01 -1.0412e+00\n",
            "  9.3756e-01  1.6070e+00  8.8330e-01 -2.8483e+00  1.3349e-01 -3.1656e+00\n",
            "  8.1896e-01 -4.8113e+00  1.5655e+00  1.6665e+00 -4.7081e-01 -1.9475e+00\n",
            " -1.1779e+00 -1.3810e+00 -2.0071e+00 -2.1639e-01  9.0609e-01  1.5279e+00\n",
            "  1.2587e-04 -2.9000e+00  7.6069e-01 -2.2825e+00  1.2495e-02 -1.5653e+00\n",
            "  2.0052e+00 -1.7747e+00  5.9220e-01 -1.1428e+00 -1.3441e+00  3.4784e-01\n",
            "  1.7492e+00  1.9086e+00  1.0600e+00  1.2965e+00  4.1431e-01  7.9416e-01\n",
            " -1.1277e+00 -1.1403e+00  7.5891e-01 -9.4419e-01  1.4413e+00 -2.2554e+00\n",
            "  1.6226e-01  3.8901e-01  1.2299e-01  1.1577e+00  1.5524e+00  1.3853e+00\n",
            "  1.1112e+00  7.5767e-01  3.9431e+00 -2.8506e-01 -2.1645e+00 -1.0862e+00\n",
            " -1.4973e+00 -1.2781e+00  2.4643e+00 -1.5886e+00  2.5679e-01  6.4918e-01\n",
            "  1.6809e-01  5.7693e-01  3.1121e-01 -4.5278e-01 -2.7555e+00 -2.1846e+00\n",
            "  4.4865e+00  2.7107e-01 -5.3831e-01  8.3013e-01  6.7752e-02  1.4234e-01\n",
            "  1.2585e+00 -8.5423e-01  9.2971e-01 -3.9940e-01 -5.8663e-01  6.6604e-01\n",
            "  2.3871e+00  4.9333e-01  2.3922e+00 -3.7396e+00 -3.9524e-01 -6.3799e-01\n",
            "  3.3500e+00 -2.0430e+00 -1.5601e+00 -2.3594e+00 -1.4671e+00 -3.2848e+00\n",
            "  1.5197e+00 -1.1674e+00 -1.2885e+00  3.4890e+00 -4.0526e+00  1.6946e+00\n",
            " -1.5310e+00  2.6790e+00  1.2865e+00 -2.9286e-02  3.1037e+00  1.3635e-01\n",
            " -1.3327e-01  5.4603e-01  1.2937e+00 -2.3662e+00  2.8862e-01  1.6226e+00\n",
            "  6.3531e-01  1.5498e+00 -2.3349e+00  1.6150e+00 -2.0071e+00 -4.8784e-01\n",
            "  1.7768e+00 -2.6920e+00  1.6341e+00  4.0537e-01  3.7324e-01  7.8494e-01\n",
            "  1.3917e+00 -2.9035e-01  2.5224e+00  1.2485e+00 -1.5159e+00 -2.0832e+00\n",
            " -1.8766e-01 -1.3394e+00 -5.3597e-01 -2.4915e+00  1.6341e+00 -3.0336e+00\n",
            "  1.8791e-01 -2.4776e-01  1.6347e+00 -7.0009e-01  2.1221e+00 -2.3470e+00\n",
            " -2.1513e+00  1.2630e+00 -2.8195e-01 -5.6535e-01 -9.0373e-01  1.3455e+00\n",
            "  4.1099e+00  6.9325e-01  4.6835e-01  2.9949e-01 -3.2456e-01 -2.1713e+00\n",
            "  4.6691e-01 -1.3795e-01  6.0910e-01 -1.3374e+00 -8.3586e-01  1.8260e+00\n",
            " -4.5386e-01  1.2555e+00 -6.6705e-01 -3.0835e-01 -1.4692e-01  3.9952e+00\n",
            " -1.1289e+00  1.7926e-01 -5.8095e-01  6.2500e-01  2.6151e+00 -1.3212e+00\n",
            " -1.9355e+00  2.4898e+00 -1.7301e+00  8.6154e-01 -2.5272e+00 -3.0166e+00\n",
            "  5.8867e-01 -1.4207e-01  1.7611e+00 -1.0399e+00  5.7063e-01  7.2554e-01\n",
            "  8.7684e-01  1.6996e+00  1.1084e+00 -2.6877e-01 -2.2970e+00  1.8850e+00\n",
            "  1.2536e-01  1.1671e+00 -1.3038e+00  8.2640e-01  3.8002e-01 -1.0354e+00\n",
            "  2.2547e+00 -2.4526e-01  8.3622e-01 -7.9525e-01  1.4251e+00  4.5795e-02\n",
            "  2.5062e+00  7.2175e-01 -3.8197e-01  1.1387e+00  1.6779e+00 -1.6925e+00\n",
            "  8.2290e-02 -3.3117e-01 -6.1974e-01  8.0306e-01  2.1189e+00 -7.8231e-01\n",
            "  3.3266e-01 -7.1646e-01  1.7721e+00 -1.2573e+00  1.5601e-01  9.6129e-01\n",
            "  4.8986e-01  3.1657e+00 -3.0332e+00 -9.1339e-01 -2.8627e-01 -9.8174e-01\n",
            " -2.7599e+00  2.9160e+00 -1.1540e+00  2.9537e+00 -1.1502e+00 -2.2760e+00\n",
            "  1.1679e+00  2.0314e-01 -2.2882e+00  1.0485e+00 -4.9545e-01  2.4065e+00\n",
            "  9.1433e-01  1.3808e-01 -1.1361e+00 -1.2278e+00 -1.8958e+00 -2.4934e-01\n",
            " -4.1792e+00 -1.3781e+00 -8.9829e-01 -1.4802e+00 -1.2894e+00  2.2336e+00\n",
            " -2.4411e+00  3.0410e-01  2.1452e+00  1.8540e+00 -3.3640e-01  4.2768e-01\n",
            " -4.2577e-01  2.2337e-01  3.3650e+00 -2.1996e-01 -1.7426e+00  1.4554e+00\n",
            "  2.5087e+00 -1.1257e+00  1.4096e+00  1.3704e-01  7.6963e-01 -7.6688e-02\n",
            " -6.1875e-01 -2.0445e-01  4.9965e-01 -6.7246e-01 -4.0058e-01 -1.1536e+00\n",
            " -9.2837e-01 -2.5444e+00 -1.9880e-01 -2.1432e+00 -1.8218e+00 -5.7831e-01\n",
            " -1.6785e+00  2.6610e+00  1.0343e+00 -1.4297e+00  1.4563e+00 -2.0388e+00\n",
            " -1.4377e+00 -9.7985e-01  2.9488e+00 -2.7107e-01 -2.4010e-01 -1.3845e-01]\n"
          ]
        }
      ]
    },
    {
      "cell_type": "markdown",
      "source": [
        "### Comparing similarities\n",
        "In this exercise, you'll be using spaCy's similarity methods to compare Doc, Token and Span objects and get similarity scores. The medium English model is already available as the nlp object."
      ],
      "metadata": {
        "id": "jlrrcrRAZotw"
      }
    },
    {
      "cell_type": "code",
      "source": [
        "doc1 = nlp(\"It's a warm summer day\")\n",
        "doc2 = nlp(\"It's sunny outside\")\n",
        "\n",
        "# Get the similarity of doc1 and doc2\n",
        "similarity = doc1.similarity(doc2)\n",
        "print(similarity)"
      ],
      "metadata": {
        "colab": {
          "base_uri": "https://localhost:8080/"
        },
        "id": "NxDpb_HSZg5J",
        "outputId": "c90781e7-36ad-44ca-ee61-c0da2c33adf5"
      },
      "execution_count": 28,
      "outputs": [
        {
          "output_type": "stream",
          "name": "stdout",
          "text": [
            "0.8220092482601077\n"
          ]
        }
      ]
    },
    {
      "cell_type": "code",
      "source": [
        "doc = nlp(\"TV and books\")\n",
        "token1, token2 = doc[0], doc[2]\n",
        "\n",
        "# Get the similarity of the tokens \"TV\" and \"books\"\n",
        "similarity = token1.similarity(token2)\n",
        "print(similarity)"
      ],
      "metadata": {
        "colab": {
          "base_uri": "https://localhost:8080/"
        },
        "id": "cGsvSjWpZwly",
        "outputId": "b9dfadee-926f-46c8-ffe3-dab8ef59b0b7"
      },
      "execution_count": 29,
      "outputs": [
        {
          "output_type": "stream",
          "name": "stdout",
          "text": [
            "0.10219937562942505\n"
          ]
        }
      ]
    },
    {
      "cell_type": "code",
      "source": [
        "doc = nlp(\"This was a great restaurant. Afterwards, we went to a really nice bar.\")\n",
        "\n",
        "# Create spans for \"great restaurant\" and \"really nice bar\"\n",
        "span1 = doc[3:5]\n",
        "span2 = doc[-4:-1]\n",
        "\n",
        "# Get the similarity of the spans\n",
        "similarity = span1.similarity(span2)\n",
        "print(similarity)\n",
        "\n",
        "# Once you're getting serious about developing NLP applications that leverage semantic similarity,\n",
        "# you might want to train vectors on your own data, or tweak the similarity algorithm."
      ],
      "metadata": {
        "colab": {
          "base_uri": "https://localhost:8080/"
        },
        "id": "wlL9kOLyZ34c",
        "outputId": "34b5803a-835b-4631-adc7-1f89a9ad8a64"
      },
      "execution_count": 30,
      "outputs": [
        {
          "output_type": "stream",
          "name": "stdout",
          "text": [
            "0.6348510384559631\n"
          ]
        }
      ]
    },
    {
      "cell_type": "markdown",
      "source": [
        "## Combining models and rules"
      ],
      "metadata": {
        "id": "PICkQfKtbBxb"
      }
    },
    {
      "cell_type": "markdown",
      "source": [
        "### Debugging patterns (2)\n",
        "Both patterns in this exercise contain mistakes and won't match as expected. Can you fix them?\n",
        "\n",
        "The nlp and a doc have already been created for you. If you get stuck, try printing the tokens in the doc to see how the text will be split and adjust the pattern so that each dictionary represents one token."
      ],
      "metadata": {
        "id": "PBcg07DYbBz0"
      }
    },
    {
      "cell_type": "code",
      "source": [
        "# Create the match patterns\n",
        "pattern1 = [{'LOWER': 'amazon'}, {'IS_TITLE': True, 'POS': 'PROPN'}]\n",
        "pattern2 = [{'LOWER': 'ad'}, {'TEXT': '-'}, {'LOWER': 'free'}, {'POS': 'NOUN'}]\n",
        "\n",
        "# Initialize the Matcher and add the patterns\n",
        "matcher = Matcher(nlp.vocab)\n",
        "matcher.add('PATTERN1', [pattern1])\n",
        "matcher.add('PATTERN2', [pattern2])\n",
        "\n",
        "# Iterate over the matches\n",
        "for match_id, start, end in matcher(doc):\n",
        "    # Print pattern string name and text of matched span\n",
        "    print(doc.vocab.strings[match_id], doc[start:end].text)\n",
        "\n",
        "# Well done! For the token '_', you can match on the attribute TEXT, LOWER or even SHAPE. All of those are correct. As you can see,\n",
        "# paying close attention to the tokenization is very important when working with the token-based Matcher.\n",
        "# Sometimes it's much easier to just match exact strings instead and use the PhraseMatcher, which we'll get to in the next exercise."
      ],
      "metadata": {
        "id": "nbqXJ6U2aWkF"
      },
      "execution_count": 31,
      "outputs": []
    },
    {
      "cell_type": "markdown",
      "source": [
        "### Efficient phrase matching\n",
        "Sometimes it's more efficient to match exact strings instead of writing patterns describing the individual tokens. This is especially true for finite categories of things – like all countries of the world.\n",
        "\n",
        "We already have a list of countries, so let's use this as the basis of our information extraction script. A list of string names is available as the variable COUNTRIES. The nlp object and a test doc have already been created and the doc.text has been printed to the shell."
      ],
      "metadata": {
        "id": "V0tL3qnPdBEw"
      }
    },
    {
      "cell_type": "code",
      "source": [
        "COUNTRIES= ['Afghanistan',\n",
        " 'Åland Islands',\n",
        " 'Albania',\n",
        " 'Algeria',\n",
        " 'American Samoa',\n",
        " 'Andorra',\n",
        " 'Angola',\n",
        " 'Anguilla',\n",
        " 'Antarctica',\n",
        " 'Antigua and Barbuda',\n",
        " 'Argentina',\n",
        " 'Armenia',\n",
        " 'Aruba',\n",
        " 'Australia',\n",
        " 'Austria',\n",
        " 'Azerbaijan',\n",
        " 'Bahamas',\n",
        " 'Bahrain',\n",
        " 'Bangladesh',\n",
        " 'Barbados',\n",
        " 'Belarus',\n",
        " 'Belgium',\n",
        " 'Belize',\n",
        " 'Benin',\n",
        " 'Bermuda',\n",
        " 'Bhutan',\n",
        " 'Bolivia (Plurinational State of)',\n",
        " 'Bonaire, Sint Eustatius and Saba',\n",
        " 'Bosnia and Herzegovina',\n",
        " 'Botswana',\n",
        " 'Bouvet Island',\n",
        " 'Brazil',\n",
        " 'British Indian Ocean Territory',\n",
        " 'United States Minor Outlying Islands',\n",
        " 'Virgin Islands (British)',\n",
        " 'Virgin Islands (U.S.)',\n",
        " 'Brunei Darussalam',\n",
        " 'Bulgaria',\n",
        " 'Burkina Faso',\n",
        " 'Burundi',\n",
        " 'Cambodia',\n",
        " 'Cameroon',\n",
        " 'Canada',\n",
        " 'Cabo Verde',\n",
        " 'Cayman Islands',\n",
        " 'Central African Republic',\n",
        " 'Chad',\n",
        " 'Chile',\n",
        " 'China',\n",
        " 'Christmas Island',\n",
        " 'Cocos (Keeling) Islands',\n",
        " 'Colombia',\n",
        " 'Comoros',\n",
        " 'Congo',\n",
        " 'Congo (Democratic Republic of the)',\n",
        " 'Cook Islands',\n",
        " 'Costa Rica',\n",
        " 'Croatia',\n",
        " 'Cuba',\n",
        " 'Curaçao',\n",
        " 'Cyprus',\n",
        " 'Czech Republic',\n",
        " 'Denmark',\n",
        " 'Djibouti',\n",
        " 'Dominica',\n",
        " 'Dominican Republic',\n",
        " 'Ecuador',\n",
        " 'Egypt',\n",
        " 'El Salvador',\n",
        " 'Equatorial Guinea',\n",
        " 'Eritrea',\n",
        " 'Estonia',\n",
        " 'Ethiopia',\n",
        " 'Falkland Islands (Malvinas)',\n",
        " 'Faroe Islands',\n",
        " 'Fiji',\n",
        " 'Finland',\n",
        " 'France',\n",
        " 'French Guiana',\n",
        " 'French Polynesia',\n",
        " 'French Southern Territories',\n",
        " 'Gabon',\n",
        " 'Gambia',\n",
        " 'Georgia',\n",
        " 'Germany',\n",
        " 'Ghana',\n",
        " 'Gibraltar',\n",
        " 'Greece',\n",
        " 'Greenland',\n",
        " 'Grenada',\n",
        " 'Guadeloupe',\n",
        " 'Guam',\n",
        " 'Guatemala',\n",
        " 'Guernsey',\n",
        " 'Guinea',\n",
        " 'Guinea-Bissau',\n",
        " 'Guyana',\n",
        " 'Haiti',\n",
        " 'Heard Island and McDonald Islands',\n",
        " 'Holy See',\n",
        " 'Honduras',\n",
        " 'Hong Kong',\n",
        " 'Hungary',\n",
        " 'Iceland',\n",
        " 'India',\n",
        " 'Indonesia',\n",
        " \"Côte d'Ivoire\",\n",
        " 'Iran (Islamic Republic of)',\n",
        " 'Iraq',\n",
        " 'Ireland',\n",
        " 'Isle of Man',\n",
        " 'Israel',\n",
        " 'Italy',\n",
        " 'Jamaica',\n",
        " 'Japan',\n",
        " 'Jersey',\n",
        " 'Jordan',\n",
        " 'Kazakhstan',\n",
        " 'Kenya',\n",
        " 'Kiribati',\n",
        " 'Kuwait',\n",
        " 'Kyrgyzstan',\n",
        " \"Lao People's Democratic Republic\",\n",
        " 'Latvia',\n",
        " 'Lebanon',\n",
        " 'Lesotho',\n",
        " 'Liberia',\n",
        " 'Libya',\n",
        " 'Liechtenstein',\n",
        " 'Lithuania',\n",
        " 'Luxembourg',\n",
        " 'Macao',\n",
        " 'Macedonia (the former Yugoslav Republic of)',\n",
        " 'Madagascar',\n",
        " 'Malawi',\n",
        " 'Malaysia',\n",
        " 'Maldives',\n",
        " 'Mali',\n",
        " 'Malta',\n",
        " 'Marshall Islands',\n",
        " 'Martinique',\n",
        " 'Mauritania',\n",
        " 'Mauritius',\n",
        " 'Mayotte',\n",
        " 'Mexico',\n",
        " 'Micronesia (Federated States of)',\n",
        " 'Moldova (Republic of)',\n",
        " 'Monaco',\n",
        " 'Mongolia',\n",
        " 'Montenegro',\n",
        " 'Montserrat',\n",
        " 'Morocco',\n",
        " 'Mozambique',\n",
        " 'Myanmar',\n",
        " 'Namibia',\n",
        " 'Nauru',\n",
        " 'Nepal',\n",
        " 'Netherlands',\n",
        " 'New Caledonia',\n",
        " 'New Zealand',\n",
        " 'Nicaragua',\n",
        " 'Niger',\n",
        " 'Nigeria',\n",
        " 'Niue',\n",
        " 'Norfolk Island',\n",
        " \"Korea (Democratic People's Republic of)\",\n",
        " 'Northern Mariana Islands',\n",
        " 'Norway',\n",
        " 'Oman',\n",
        " 'Pakistan',\n",
        " 'Palau',\n",
        " 'Palestine, State of',\n",
        " 'Panama',\n",
        " 'Papua New Guinea',\n",
        " 'Paraguay',\n",
        " 'Peru',\n",
        " 'Philippines',\n",
        " 'Pitcairn',\n",
        " 'Poland',\n",
        " 'Portugal',\n",
        " 'Puerto Rico',\n",
        " 'Qatar',\n",
        " 'Republic of Kosovo',\n",
        " 'Réunion',\n",
        " 'Romania',\n",
        " 'Russian Federation',\n",
        " 'Rwanda',\n",
        " 'Saint Barthélemy',\n",
        " 'Saint Helena, Ascension and Tristan da Cunha',\n",
        " 'Saint Kitts and Nevis',\n",
        " 'Saint Lucia',\n",
        " 'Saint Martin (French part)',\n",
        " 'Saint Pierre and Miquelon',\n",
        " 'Saint Vincent and the Grenadines',\n",
        " 'Samoa',\n",
        " 'San Marino',\n",
        " 'Sao Tome and Principe',\n",
        " 'Saudi Arabia',\n",
        " 'Senegal',\n",
        " 'Serbia',\n",
        " 'Seychelles',\n",
        " 'Sierra Leone',\n",
        " 'Singapore',\n",
        " 'Sint Maarten (Dutch part)',\n",
        " 'Slovakia',\n",
        " 'Slovenia',\n",
        " 'Solomon Islands',\n",
        " 'Somalia',\n",
        " 'South Africa',\n",
        " 'South Georgia and the South Sandwich Islands',\n",
        " 'Korea (Republic of)',\n",
        " 'South Sudan',\n",
        " 'Spain',\n",
        " 'Sri Lanka',\n",
        " 'Sudan',\n",
        " 'Suriname',\n",
        " 'Svalbard and Jan Mayen',\n",
        " 'Swaziland',\n",
        " 'Sweden',\n",
        " 'Switzerland',\n",
        " 'Syrian Arab Republic',\n",
        " 'Taiwan',\n",
        " 'Tajikistan',\n",
        " 'Tanzania, United Republic of',\n",
        " 'Thailand',\n",
        " 'Timor-Leste',\n",
        " 'Togo',\n",
        " 'Tokelau',\n",
        " 'Tonga',\n",
        " 'Trinidad and Tobago',\n",
        " 'Tunisia',\n",
        " 'Turkey',\n",
        " 'Turkmenistan',\n",
        " 'Turks and Caicos Islands',\n",
        " 'Tuvalu',\n",
        " 'Uganda',\n",
        " 'Ukraine',\n",
        " 'United Arab Emirates',\n",
        " 'United Kingdom of Great Britain and Northern Ireland',\n",
        " 'United States of America',\n",
        " 'Uruguay',\n",
        " 'Uzbekistan',\n",
        " 'Vanuatu',\n",
        " 'Venezuela (Bolivarian Republic of)',\n",
        " 'Viet Nam',\n",
        " 'Wallis and Futuna',\n",
        " 'Western Sahara',\n",
        " 'Yemen',\n",
        " 'Zambia',\n",
        " 'Zimbabwe']"
      ],
      "metadata": {
        "id": "tQVHkgo4cu0e"
      },
      "execution_count": 32,
      "outputs": []
    },
    {
      "cell_type": "code",
      "source": [
        "doc= Doc(nlp.vocab, words= ['Czech', 'Republic', 'may', 'help', 'Slovakia', 'protect', 'its', 'airspace'], spaces=[True, True, True, True, True, True, True, False])\n",
        "doc"
      ],
      "metadata": {
        "colab": {
          "base_uri": "https://localhost:8080/"
        },
        "id": "k7kAy6DFcl3-",
        "outputId": "2f7863f7-9d57-46e3-ba26-ae769acf3785"
      },
      "execution_count": 33,
      "outputs": [
        {
          "output_type": "execute_result",
          "data": {
            "text/plain": [
              "Czech Republic may help Slovakia protect its airspace"
            ]
          },
          "metadata": {},
          "execution_count": 33
        }
      ]
    },
    {
      "cell_type": "code",
      "source": [
        "# Import the PhraseMatcher and initialize it\n",
        "from spacy.matcher import PhraseMatcher\n",
        "matcher = PhraseMatcher(nlp.vocab)\n",
        "\n",
        "# Create pattern Doc objects and add them to the matcher\n",
        "# This is the faster version of: [nlp(country) for country in COUNTRIES]\n",
        "patterns = list(nlp.pipe(COUNTRIES))\n",
        "matcher.add('COUNTRY', [*patterns])\n",
        "\n",
        "# Call the matcher on the test document and print the result\n",
        "matches = matcher(doc)\n",
        "print([doc[start:end] for match_id, start, end in matches])"
      ],
      "metadata": {
        "colab": {
          "base_uri": "https://localhost:8080/"
        },
        "id": "vRpKG23AdihM",
        "outputId": "8e52416d-06c6-4022-f7f6-16b8304c8fbe"
      },
      "execution_count": 34,
      "outputs": [
        {
          "output_type": "stream",
          "name": "stdout",
          "text": [
            "[Czech Republic, Slovakia]\n"
          ]
        }
      ]
    },
    {
      "cell_type": "markdown",
      "source": [
        "### Extracting countries and relationships\n",
        "In the previous exercise, you wrote a script using spaCy's PhraseMatcher to find country names in text. Let's use that country matcher on a longer text, analyze the syntax and update the document's entities with the matched countries. The nlp object has already been created.\n",
        "\n",
        "The text is available as the variable text, the PhraseMatcher with the country patterns as the variable matcher. The Span class has already been imported."
      ],
      "metadata": {
        "id": "1URdHEBoeMmt"
      }
    },
    {
      "cell_type": "code",
      "source": [
        "text= '''\n",
        "After the Cold War, the UN saw a radical expansion in its peacekeeping duties, taking on more missions in ten years than it had in the previous four decades.Between 1988 and 2000, the number of adopted Security Council resolutions more than doubled, and the peacekeeping budget increased more than tenfold. The UN negotiated an end to the Salvadoran Civil War, launched a successful peacekeeping mission in Namibia, and oversaw democratic elections in post-apartheid South Africa and post-Khmer Rouge Cambodia. In 1991, the UN authorized a US-led coalition that repulsed the Iraqi invasion of Kuwait. Brian Urquhart, Under-Secretary-General from 1971 to 1985, later described the hopes raised by these successes as a \"false renaissance\" for the organization, given the more troubled missions that followed. Though the UN Charter had been written primarily to prevent aggression by one nation against another, in the early 1990s the UN faced a number of simultaneous, serious crises within nations such as Somalia, Haiti, Mozambique, and the former Yugoslavia. The UN mission in Somalia was widely viewed as a failure after the US withdrawal following casualties in the Battle of Mogadishu, and the UN mission to Bosnia faced \"worldwide ridicule\" for its indecisive and confused mission in the face of ethnic cleansing. In 1994, the UN Assistance Mission for Rwanda failed to intervene in the Rwandan genocide amid indecision in the Security Council. Beginning in the last decades of the Cold War, American and European critics of the UN condemned the organization for perceived mismanagement and corruption. In 1984, the US President, Ronald Reagan, withdrew his nation\\'s funding from UNESCO (the United Nations Educational, Scientific and Cultural Organization, founded 1946) over allegations of mismanagement, followed by Britain and Singapore. Boutros Boutros-Ghali, Secretary-General from 1992 to 1996, initiated a reform of the Secretariat, reducing the size of the organization somewhat. His successor, Kofi Annan (1997–2006), initiated further management reforms in the face of threats from the United States to withhold its UN dues. In the late 1990s and 2000s, international interventions authorized by the UN took a wider variety of forms. The UN mission in the Sierra Leone Civil War of 1991–2002 was supplemented by British Royal Marines, and the invasion of Afghanistan in 2001 was overseen by NATO. In 2003, the United States invaded Iraq despite failing to pass a UN Security Council resolution for authorization, prompting a new round of questioning of the organization\\'s effectiveness. Under the eighth Secretary-General, Ban Ki-moon, the UN has intervened with peacekeepers in crises including the War in Darfur in Sudan and the Kivu conflict in the Democratic Republic of Congo and sent observers and chemical weapons inspectors to the Syrian Civil War. In 2013, an internal review of UN actions in the final battles of the Sri Lankan Civil War in 2009 concluded that the organization had suffered \"systemic failure\". One hundred and one UN personnel died in the 2010 Haiti earthquake, the worst loss of life in the organization\\'s history. The Millennium Summit was held in 2000 to discuss the UN\\'s role in the 21st century. The three day meeting was the largest gathering of world leaders in history, and culminated in the adoption by all member states of the Millennium Development Goals (MDGs), a commitment to achieve international development in areas such as poverty reduction, gender equality, and public health. Progress towards these goals, which were to be met by 2015, was ultimately uneven. The 2005 World Summit reaffirmed the UN\\'s focus on promoting development, peacekeeping, human rights, and global security. The Sustainable Development Goals were launched in 2015 to succeed the Millennium Development Goals. In addition to addressing global challenges, the UN has sought to improve its accountability and democratic legitimacy by engaging more with civil society and fostering a global constituency. In an effort to enhance transparency, in 2016 the organization held its first public debate between candidates for Secretary-General. On 1 January 2017, Portuguese diplomat António Guterres, who previously served as UN High Commissioner for Refugees, became the ninth Secretary-General. Guterres has highlighted several key goals for his administration, including an emphasis on diplomacy for preventing conflicts, more effective peacekeeping efforts, and streamlining the organization to be more responsive and versatile to global needs.\n",
        "'''\n",
        "print(text)"
      ],
      "metadata": {
        "colab": {
          "base_uri": "https://localhost:8080/"
        },
        "id": "EIQJdRdUeAnM",
        "outputId": "2d1bd581-8d5b-462f-f915-8d90f70c7488"
      },
      "execution_count": 35,
      "outputs": [
        {
          "output_type": "stream",
          "name": "stdout",
          "text": [
            "\n",
            "After the Cold War, the UN saw a radical expansion in its peacekeeping duties, taking on more missions in ten years than it had in the previous four decades.Between 1988 and 2000, the number of adopted Security Council resolutions more than doubled, and the peacekeeping budget increased more than tenfold. The UN negotiated an end to the Salvadoran Civil War, launched a successful peacekeeping mission in Namibia, and oversaw democratic elections in post-apartheid South Africa and post-Khmer Rouge Cambodia. In 1991, the UN authorized a US-led coalition that repulsed the Iraqi invasion of Kuwait. Brian Urquhart, Under-Secretary-General from 1971 to 1985, later described the hopes raised by these successes as a \"false renaissance\" for the organization, given the more troubled missions that followed. Though the UN Charter had been written primarily to prevent aggression by one nation against another, in the early 1990s the UN faced a number of simultaneous, serious crises within nations such as Somalia, Haiti, Mozambique, and the former Yugoslavia. The UN mission in Somalia was widely viewed as a failure after the US withdrawal following casualties in the Battle of Mogadishu, and the UN mission to Bosnia faced \"worldwide ridicule\" for its indecisive and confused mission in the face of ethnic cleansing. In 1994, the UN Assistance Mission for Rwanda failed to intervene in the Rwandan genocide amid indecision in the Security Council. Beginning in the last decades of the Cold War, American and European critics of the UN condemned the organization for perceived mismanagement and corruption. In 1984, the US President, Ronald Reagan, withdrew his nation's funding from UNESCO (the United Nations Educational, Scientific and Cultural Organization, founded 1946) over allegations of mismanagement, followed by Britain and Singapore. Boutros Boutros-Ghali, Secretary-General from 1992 to 1996, initiated a reform of the Secretariat, reducing the size of the organization somewhat. His successor, Kofi Annan (1997–2006), initiated further management reforms in the face of threats from the United States to withhold its UN dues. In the late 1990s and 2000s, international interventions authorized by the UN took a wider variety of forms. The UN mission in the Sierra Leone Civil War of 1991–2002 was supplemented by British Royal Marines, and the invasion of Afghanistan in 2001 was overseen by NATO. In 2003, the United States invaded Iraq despite failing to pass a UN Security Council resolution for authorization, prompting a new round of questioning of the organization's effectiveness. Under the eighth Secretary-General, Ban Ki-moon, the UN has intervened with peacekeepers in crises including the War in Darfur in Sudan and the Kivu conflict in the Democratic Republic of Congo and sent observers and chemical weapons inspectors to the Syrian Civil War. In 2013, an internal review of UN actions in the final battles of the Sri Lankan Civil War in 2009 concluded that the organization had suffered \"systemic failure\". One hundred and one UN personnel died in the 2010 Haiti earthquake, the worst loss of life in the organization's history. The Millennium Summit was held in 2000 to discuss the UN's role in the 21st century. The three day meeting was the largest gathering of world leaders in history, and culminated in the adoption by all member states of the Millennium Development Goals (MDGs), a commitment to achieve international development in areas such as poverty reduction, gender equality, and public health. Progress towards these goals, which were to be met by 2015, was ultimately uneven. The 2005 World Summit reaffirmed the UN's focus on promoting development, peacekeeping, human rights, and global security. The Sustainable Development Goals were launched in 2015 to succeed the Millennium Development Goals. In addition to addressing global challenges, the UN has sought to improve its accountability and democratic legitimacy by engaging more with civil society and fostering a global constituency. In an effort to enhance transparency, in 2016 the organization held its first public debate between candidates for Secretary-General. On 1 January 2017, Portuguese diplomat António Guterres, who previously served as UN High Commissioner for Refugees, became the ninth Secretary-General. Guterres has highlighted several key goals for his administration, including an emphasis on diplomacy for preventing conflicts, more effective peacekeeping efforts, and streamlining the organization to be more responsive and versatile to global needs.\n",
            "\n"
          ]
        }
      ]
    },
    {
      "cell_type": "code",
      "source": [
        "# Create a doc and find matches in it\n",
        "doc = nlp(text)\n",
        "\n",
        "# Iterate over the matches\n",
        "for match_id, start, end in matcher(doc):\n",
        "    # Create a Span with the label for \"GPE\"\n",
        "    span = Span(doc, start, end, label='GPE')\n",
        "\n",
        "    # Overwrite the doc.ents and add the span\n",
        "    doc.ents = list(doc.ents) + [span]\n",
        "\n",
        "# Print the entities in the document\n",
        "print([(ent.text, ent.label_) for ent in doc.ents if ent.label_ == 'GPE'])\n",
        "\n",
        "#Output: [('Namibia', 'GPE'), ('South Africa', 'GPE'), ('Cambodia', 'GPE'), ('Kuwait', 'GPE'), ('Somalia', 'GPE'), ('Haiti', 'GPE'),\n",
        " #('Mozambique', 'GPE'), ('Somalia', 'GPE'), ('Rwanda', 'GPE'), ('Singapore', 'GPE'), ('Sierra Leone', 'GPE'), ('Afghanistan', 'GPE'), ('Iraq', 'GPE'),\n",
        "  #('Sudan', 'GPE'), ('Congo', 'GPE'), ('Haiti', 'GPE')]"
      ],
      "metadata": {
        "id": "I14eokUseRPz",
        "colab": {
          "base_uri": "https://localhost:8080/"
        },
        "outputId": "e8578f87-0589-4835-96ab-7d26730d8f5c"
      },
      "execution_count": 61,
      "outputs": [
        {
          "output_type": "stream",
          "name": "stdout",
          "text": [
            "This document is 27 tokens long.\n",
            "[]\n"
          ]
        }
      ]
    },
    {
      "cell_type": "code",
      "source": [
        "# Create a doc and find matches in it\n",
        "doc = nlp(text)\n",
        "\n",
        "# Iterate over the matches\n",
        "for match_id, start, end in matcher(doc):\n",
        "    # Create a Span with the label for \"GPE\" and overwrite the doc.ents\n",
        "    span = Span(doc, start, end, label='GPE')\n",
        "    doc.ents = list(doc.ents) + [span]\n",
        "\n",
        "    # Get the span's root head token\n",
        "    span_root_head = span.root.head\n",
        "    # Print the text of the span root's head token and the span text\n",
        "    print(span_root_head.text, '-->', span.text)\n",
        "\n",
        "# <script.py> output:\n",
        "    # Namibia --> Namibia\n",
        "    # South --> South Africa\n",
        "    # Cambodia --> Cambodia\n",
        "    # Kuwait --> Kuwait\n",
        "    # Somalia --> Somalia\n",
        "    # Haiti --> Haiti\n",
        "    # Mozambique --> Mozambique\n",
        "    # Somalia --> Somalia\n",
        "    # Rwanda --> Rwanda\n",
        "    # Singapore --> Singapore\n",
        "    # Sierra --> Sierra Leone\n",
        "    # Afghanistan --> Afghanistan\n",
        "    # Iraq --> Iraq\n",
        "    # Sudan --> Sudan\n",
        "    # Congo --> Congo\n",
        "    # Haiti --> Haiti"
      ],
      "metadata": {
        "id": "BxL3nE59ffsA",
        "colab": {
          "base_uri": "https://localhost:8080/"
        },
        "outputId": "b234c6a4-6eb7-4063-9a89-87262365e8cd"
      },
      "execution_count": 62,
      "outputs": [
        {
          "output_type": "stream",
          "name": "stdout",
          "text": [
            "This document is 27 tokens long.\n"
          ]
        }
      ]
    },
    {
      "cell_type": "markdown",
      "source": [
        "#CHAPTER 3 Processing Pipelines\n",
        "\n",
        "This chapter will show you to everything you need to know about spaCy's processing pipeline. You'll learn what goes on under the hood when you process a text, how to write your own components and add them to the pipeline, and how to use custom attributes to add your own meta data to the documents, spans and tokens."
      ],
      "metadata": {
        "id": "LRzLUpDF11-4"
      }
    },
    {
      "cell_type": "markdown",
      "source": [
        "## Processing pipelines\n",
        "\n",
        "tagger, parser, ner, textcat"
      ],
      "metadata": {
        "id": "Kb8nKdJW12Nt"
      }
    },
    {
      "cell_type": "markdown",
      "source": [
        "### What happens when you call nlp?\n",
        "What does spaCy do when you call nlp on a string of text? The IPython shell has a pre-loaded nlp object that logs what's going on under the hood. Try processing a text with it!\n",
        "\n",
        "doc = nlp(\"This is a sentence.\")\n",
        "\n",
        "1) Tokenizing text: hi\n",
        "\n",
        "2) Calling pipeline component 'tagger' on Doc\n",
        "\n",
        "3) Calling pipeline component 'parser' on Doc\n",
        "\n",
        "4) Calling pipeline component 'ner' on Doc\n",
        "\n",
        "5) Returning processed Doc"
      ],
      "metadata": {
        "id": "FiuCmMvL12Sq"
      }
    },
    {
      "cell_type": "markdown",
      "source": [
        "### Inspecting the pipeline\n",
        "Let's inspect the small English model's pipeline!"
      ],
      "metadata": {
        "id": "bYGzSOFl3J0e"
      }
    },
    {
      "cell_type": "code",
      "source": [
        "# Load the en_core_web_sm model\n",
        "nlp = spacy.load('en_core_web_sm')\n",
        "\n",
        "# Print the names of the pipeline components\n",
        "print(nlp.pipe_names)\n",
        "\n",
        "# Print the full pipeline of (name, component) tuples\n",
        "print(nlp.pipeline)"
      ],
      "metadata": {
        "colab": {
          "base_uri": "https://localhost:8080/"
        },
        "id": "jwwt9a0TgLKo",
        "outputId": "6ce6443d-9945-4713-e451-3a6fc1e2a70c"
      },
      "execution_count": 39,
      "outputs": [
        {
          "output_type": "stream",
          "name": "stdout",
          "text": [
            "['tok2vec', 'tagger', 'parser', 'attribute_ruler', 'lemmatizer', 'ner']\n",
            "[('tok2vec', <spacy.pipeline.tok2vec.Tok2Vec object at 0x7e27641351e0>), ('tagger', <spacy.pipeline.tagger.Tagger object at 0x7e275ee39fc0>), ('parser', <spacy.pipeline.dep_parser.DependencyParser object at 0x7e289a7ec890>), ('attribute_ruler', <spacy.pipeline.attributeruler.AttributeRuler object at 0x7e276427ecc0>), ('lemmatizer', <spacy.lang.en.lemmatizer.EnglishLemmatizer object at 0x7e276b03ebc0>), ('ner', <spacy.pipeline.ner.EntityRecognizer object at 0x7e2754a352a0>)]\n"
          ]
        }
      ]
    },
    {
      "cell_type": "markdown",
      "source": [
        "## Custom Pipeline Components\n",
        "\n"
      ],
      "metadata": {
        "id": "6rd1IJ8F3zH6"
      }
    },
    {
      "cell_type": "markdown",
      "source": [
        "### Use cases for custom components\n",
        "\n",
        "these problems can be solved by custom pipeline components\n",
        "\n",
        "computing your own values based on tokens and their attributes\n",
        "\n",
        "adding named entities, for example based on a dictionary\n",
        "\n"
      ],
      "metadata": {
        "id": "uwwnUJMh4eSb"
      }
    },
    {
      "cell_type": "markdown",
      "source": [
        "### Simple components\n",
        "The example shows a custom component that prints the character length of a document. Can you complete it? spacy has already been imported for you."
      ],
      "metadata": {
        "id": "SI-SNIVk4eaw"
      }
    },
    {
      "cell_type": "code",
      "source": [
        "\n",
        "from spacy.language import Language\n",
        "from spacy.tokens import Doc, Token\n",
        "\n",
        "# Define the custom component\n",
        "@Language.component(\"length_component\")\n",
        "def length_component(doc):\n",
        "    # Get the doc's length\n",
        "    doc_length = len(doc)\n",
        "    print(\"This document is {} tokens long.\".format(doc_length))\n",
        "    # Return the doc\n",
        "    return doc\n",
        "\n",
        "# Load the small English model and Add the component first in the pipeline\n",
        "nlp = spacy.load('en_core_web_sm')\n",
        "nlp.add_pipe(\"length_component\", first=True)\n",
        "\n",
        "# Process a text\n",
        "doc = nlp(\"This is a sentence\")"
      ],
      "metadata": {
        "colab": {
          "base_uri": "https://localhost:8080/"
        },
        "id": "rq5Y_bf85A3c",
        "outputId": "d7de6050-4008-4293-80f6-005cbcf120c5"
      },
      "execution_count": 40,
      "outputs": [
        {
          "output_type": "stream",
          "name": "stdout",
          "text": [
            "This document is 4 tokens long.\n"
          ]
        }
      ]
    },
    {
      "cell_type": "markdown",
      "source": [
        "### Complex components\n",
        "In this exercise, you'll be writing a custom component that uses the PhraseMatcher to find animal names in the document and adds the matched spans to the doc.ents.\n",
        "\n",
        "A PhraseMatcher with the animal patterns has already been created as the variable matcher. The small English model is available as the variable nlp. The Span object has already been imported for you."
      ],
      "metadata": {
        "id": "syKMI4JW4edm"
      }
    },
    {
      "cell_type": "code",
      "source": [
        "animal_patterns= ['Golden Retriever', 'cat', 'turtle', 'Rattus norvegicus']\n",
        "\n",
        "\n",
        "doc= Doc(nlp.vocab, words= ['I', 'have', 'a', 'cat', 'and', 'a', 'Golden', 'Retriever'], spaces=[True, True, True, True, True, True, True, False])\n",
        "doc\n",
        "\n",
        "# Import the PhraseMatcher and initialize it\n",
        "from spacy.matcher import PhraseMatcher\n",
        "matcher = PhraseMatcher(nlp.vocab)\n",
        "\n",
        "# Create pattern Doc objects and add them to the matcher\n",
        "# This is the faster version of: [nlp(country) for country in COUNTRIES]\n",
        "patterns = list(nlp.pipe(animal_patterns))\n",
        "matcher.add('ANIMAL', [*patterns])"
      ],
      "metadata": {
        "colab": {
          "base_uri": "https://localhost:8080/"
        },
        "id": "AWZHT8UZ3p9I",
        "outputId": "852d1e37-10b9-4a55-ee21-54fe59273dab"
      },
      "execution_count": 41,
      "outputs": [
        {
          "output_type": "stream",
          "name": "stdout",
          "text": [
            "This document is 2 tokens long.\n",
            "This document is 1 tokens long.\n",
            "This document is 1 tokens long.\n",
            "This document is 2 tokens long.\n"
          ]
        }
      ]
    },
    {
      "cell_type": "code",
      "source": [
        "# Define the custom component\n",
        "@Language.component(\"animal_component\")\n",
        "def animal_component(doc):\n",
        "    # Create a Span for each match and assign the label 'ANIMAL'\n",
        "    # and overwrite the doc.ents with the matched spans\n",
        "    doc.ents = [Span(doc, start, end, label='ANIMAL')\n",
        "                for match_id, start, end in matcher(doc)]\n",
        "    return doc\n",
        "\n",
        "# Add the component to the pipeline after the 'ner' component\n",
        "nlp.add_pipe('animal_component', after='ner')\n",
        "\n",
        "# Process the text and print the text and label for the doc.ents\n",
        "doc = nlp(\"I have a cat and a Golden Retriever\")\n",
        "print([(ent.text, ent.label_) for ent in doc.ents])"
      ],
      "metadata": {
        "colab": {
          "base_uri": "https://localhost:8080/"
        },
        "id": "jc8GYEL45tH-",
        "outputId": "a3d0ddc1-bea3-4f1e-b213-74d73fbb93ae"
      },
      "execution_count": 42,
      "outputs": [
        {
          "output_type": "stream",
          "name": "stdout",
          "text": [
            "This document is 8 tokens long.\n",
            "[('cat', 'ANIMAL'), ('Golden Retriever', 'ANIMAL')]\n"
          ]
        }
      ]
    },
    {
      "cell_type": "markdown",
      "source": [
        "## Extension attributes\n"
      ],
      "metadata": {
        "id": "nNL1QhRF7V-X"
      }
    },
    {
      "cell_type": "markdown",
      "source": [
        "### Setting extension attributes (1)\n",
        "Let's practice setting some extension attributes. The nlp object has already been created for you and the Doc, Token and Span classes are already imported.\n",
        "\n",
        "Remember that if you run your code more than once, you might see an error message that the extension already exists. That's because DataCamp will re-run your code in the same session. To solve this, you can set force=True on set_extension, or reload to start a new Python session. None of this will affect the answer you submit."
      ],
      "metadata": {
        "id": "UeBt3cxQ7WBL"
      }
    },
    {
      "cell_type": "code",
      "source": [
        "# Use Token.set_extension to register is_country (default False).\n",
        "# Update it for \"Spain\" and print it for all tokens.\n",
        "\n",
        "# Register the Token extension attribute 'is_country' with the default value False\n",
        "Token.set_extension('is_country', default=False)\n",
        "\n",
        "# Process the text and set the is_country attribute to True for the token \"Spain\"\n",
        "doc = nlp(\"I live in Spain.\")\n",
        "doc[3]._.is_country = True\n",
        "\n",
        "# Print the token text and the is_country attribute for all tokens\n",
        "print([(token.text, token._.is_country) for token in doc])"
      ],
      "metadata": {
        "colab": {
          "base_uri": "https://localhost:8080/"
        },
        "id": "GhM4ZM_a6X9F",
        "outputId": "6d39028b-a403-4f65-cc36-d4384c5c1e70"
      },
      "execution_count": 43,
      "outputs": [
        {
          "output_type": "stream",
          "name": "stdout",
          "text": [
            "This document is 5 tokens long.\n",
            "[('I', False), ('live', False), ('in', False), ('Spain', True), ('.', False)]\n"
          ]
        }
      ]
    },
    {
      "cell_type": "code",
      "source": [
        "# Use Token.set_extension to register 'reversed' (getter function get_reversed).\n",
        "# print its value for each token.\n",
        "\n",
        "# Define the getter function that takes a token and returns its reversed text\n",
        "def get_reversed(token):\n",
        "    return token.text[::-1]\n",
        "\n",
        "# Register the Token property extension 'reversed' with the getter get_reversed\n",
        "Token.set_extension('reversed', getter=get_reversed)\n",
        "\n",
        "# Process the text and print the reversed attribute for each token\n",
        "doc = nlp(\"All generalizations are false, including this one.\")\n",
        "for token in doc:\n",
        "    print('reversed:', token._.reversed)"
      ],
      "metadata": {
        "colab": {
          "base_uri": "https://localhost:8080/"
        },
        "id": "qj-ellfw-F1A",
        "outputId": "ae5916a1-30e2-4c9f-952e-912eaf05fb3f"
      },
      "execution_count": 44,
      "outputs": [
        {
          "output_type": "stream",
          "name": "stdout",
          "text": [
            "This document is 9 tokens long.\n",
            "reversed: llA\n",
            "reversed: snoitazilareneg\n",
            "reversed: era\n",
            "reversed: eslaf\n",
            "reversed: ,\n",
            "reversed: gnidulcni\n",
            "reversed: siht\n",
            "reversed: eno\n",
            "reversed: .\n"
          ]
        }
      ]
    },
    {
      "cell_type": "markdown",
      "source": [
        "### Setting extension attributes (2)\n",
        "Let's try setting some more complex attributes using getters and method extensions. The nlp object has already been created for you and the Doc, Token and Span classes are already imported.\n",
        "\n",
        "Remember that if you run your code more than once, you might see an error message that the extension already exists. That's because DataCamp will re-run your code in the same session. To solve this, you can set force=True on set_extension, or reload to start a new Python session. None of this will affect the answer you submit."
      ],
      "metadata": {
        "id": "19WLrGZO-_4f"
      }
    },
    {
      "cell_type": "code",
      "source": [
        "# Complete the has_number function\n",
        "# Use Doc.set_extension to register 'has_number' (getter get_has_number) and print its value.\n",
        "\n",
        "# Define the getter function\n",
        "def get_has_number(doc):\n",
        "    # Return if any of the tokens in the doc return True for token.like_num\n",
        "    return any(token.like_num for token in doc)\n",
        "\n",
        "# Register the Doc property extension 'has_number' with the getter get_has_number\n",
        "Doc.set_extension('has_number', getter=get_has_number)\n",
        "\n",
        "# Process the text and check the custom has_number attribute\n",
        "doc = nlp(\"The museum closed for five years in 2012.\")\n",
        "print('has_number:', doc._.has_number)"
      ],
      "metadata": {
        "colab": {
          "base_uri": "https://localhost:8080/"
        },
        "id": "YDa2DVj3-7Tc",
        "outputId": "0bfefc0f-4ff4-422b-ae7e-034d34c01040"
      },
      "execution_count": 45,
      "outputs": [
        {
          "output_type": "stream",
          "name": "stdout",
          "text": [
            "This document is 9 tokens long.\n",
            "has_number: True\n"
          ]
        }
      ]
    },
    {
      "cell_type": "code",
      "source": [
        "# Use Span.set_extension to register 'to_html' (method to_html).\n",
        "# Call it on doc[0:2] with the tag 'strong'.\n",
        "\n",
        "# Define the method\n",
        "def to_html(span, tag):\n",
        "    # Wrap the span text in a HTML tag and return it\n",
        "    return '<{tag}>{text}</{tag}>'.format(tag=tag, text=span.text)\n",
        "\n",
        "# Register the Span property extension 'to_html' with the method to_html\n",
        "Span.set_extension('to_html', method=to_html)\n",
        "\n",
        "# Process the text and call the to_html method on the span with the tag name 'strong'\n",
        "doc = nlp(\"Hello world, this is a sentence.\")\n",
        "span = doc[0:2]\n",
        "print(span._.to_html('strong'))"
      ],
      "metadata": {
        "colab": {
          "base_uri": "https://localhost:8080/"
        },
        "id": "tMgHZzgm_qWm",
        "outputId": "f526204f-89a3-4e04-83ed-8d147537ec8f"
      },
      "execution_count": 46,
      "outputs": [
        {
          "output_type": "stream",
          "name": "stdout",
          "text": [
            "This document is 8 tokens long.\n",
            "<strong>Hello world</strong>\n"
          ]
        }
      ]
    },
    {
      "cell_type": "markdown",
      "source": [
        "### Entities and extensions\n",
        "In this exercise, you'll combine custom extension attributes with the model's predictions and create an attribute getter that returns a Wikipedia search URL if the span is a person, organization, or location.\n",
        "\n",
        "The Span class is already imported and the nlp object has been created for you."
      ],
      "metadata": {
        "id": "JPHr1XdAIeEN"
      }
    },
    {
      "cell_type": "code",
      "source": [
        "def get_wikipedia_url(span):\n",
        "    # Get a Wikipedia URL if the span has one of the labels\n",
        "    if span.label_ in ('PERSON', 'ORG', 'GPE', 'LOCATION'):\n",
        "        entity_text = span.text.replace(' ', '_')\n",
        "        return \"https://en.wikipedia.org/w/index.php?search=\" + entity_text\n",
        "\n",
        "# Set the Span extension wikipedia_url using get getter get_wikipedia_url\n",
        "Span.set_extension('wikipedia_url', getter=get_wikipedia_url, force=True)\n",
        "\n",
        "doc = nlp(\"In over fifty years from his very first recordings right through to his last album, David Bowie was at the vanguard of contemporary culture.\")\n",
        "for ent in doc.ents:\n",
        "    # Print the text and Wikipedia URL of the entity\n",
        "    print(ent.text, ent._.wikipedia_url)\n",
        "\n",
        "# You now have a pipeline component that uses named entities predicted by the model to generate Wikipedia URLs\n",
        "# and adds them as a custom attribute. Try opening the link in your browser to see what happens!\n",
        "\n"
      ],
      "metadata": {
        "id": "OEuUXTk3ATCu",
        "colab": {
          "base_uri": "https://localhost:8080/"
        },
        "outputId": "5c8c6b3a-aa0b-4e0c-ab76-10f7a5fb862a"
      },
      "execution_count": 47,
      "outputs": [
        {
          "output_type": "stream",
          "name": "stdout",
          "text": [
            "This document is 26 tokens long.\n"
          ]
        }
      ]
    },
    {
      "cell_type": "markdown",
      "source": [
        "### Components with extensions\n",
        "Extension attributes are especially powerful if they're combined with custom pipeline components. In this exercise, you'll write a pipeline component that finds country names and a custom extension attribute that returns a country's capital, if available.\n",
        "\n",
        "The nlp object has already been created and the Span class is already imported. A phrase matcher with all countries is available as the variable matcher. A dictionary of countries mapped to their capital cities is available as the variable capitals."
      ],
      "metadata": {
        "id": "SuWnxW7sJppP"
      }
    },
    {
      "cell_type": "code",
      "source": [
        "capitals= {'Afghanistan': 'Kabul',\n",
        " 'Albania': 'Tirana',\n",
        " 'Algeria': 'Algiers',\n",
        " 'American Samoa': 'Pago Pago',\n",
        " 'Andorra': 'Andorra la Vella',\n",
        " 'Angola': 'Luanda',\n",
        " 'Anguilla': 'The Valley',\n",
        " 'Antarctica': '',\n",
        " 'Antigua and Barbuda': \"Saint John's\",\n",
        " 'Argentina': 'Buenos Aires',\n",
        " 'Armenia': 'Yerevan',\n",
        " 'Aruba': 'Oranjestad',\n",
        " 'Australia': 'Canberra',\n",
        " 'Austria': 'Vienna',\n",
        " 'Azerbaijan': 'Baku',\n",
        " 'Bahamas': 'Nassau',\n",
        " 'Bahrain': 'Manama',\n",
        " 'Bangladesh': 'Dhaka',\n",
        " 'Barbados': 'Bridgetown',\n",
        " 'Belarus': 'Minsk',\n",
        " 'Belgium': 'Brussels',\n",
        " 'Belize': 'Belmopan',\n",
        " 'Benin': 'Porto-Novo',\n",
        " 'Bermuda': 'Hamilton',\n",
        " 'Bhutan': 'Thimphu',\n",
        " 'Bolivia (Plurinational State of)': 'Sucre',\n",
        " 'Bonaire, Sint Eustatius and Saba': 'Kralendijk',\n",
        " 'Bosnia and Herzegovina': 'Sarajevo',\n",
        " 'Botswana': 'Gaborone',\n",
        " 'Bouvet Island': '',\n",
        " 'Brazil': 'Brasília',\n",
        " 'British Indian Ocean Territory': 'Diego Garcia',\n",
        " 'Brunei Darussalam': 'Bandar Seri Begawan',\n",
        " 'Bulgaria': 'Sofia',\n",
        " 'Burkina Faso': 'Ouagadougou',\n",
        " 'Burundi': 'Bujumbura',\n",
        " 'Cabo Verde': 'Praia',\n",
        " 'Cambodia': 'Phnom Penh',\n",
        " 'Cameroon': 'Yaoundé',\n",
        " 'Canada': 'Ottawa',\n",
        " 'Cayman Islands': 'George Town',\n",
        " 'Central African Republic': 'Bangui',\n",
        " 'Chad': \"N'Djamena\",\n",
        " 'Chile': 'Santiago',\n",
        " 'China': 'Beijing',\n",
        " 'Christmas Island': 'Flying Fish Cove',\n",
        " 'Cocos (Keeling) Islands': 'West Island',\n",
        " 'Colombia': 'Bogotá',\n",
        " 'Comoros': 'Moroni',\n",
        " 'Congo': 'Brazzaville',\n",
        " 'Congo (Democratic Republic of the)': 'Kinshasa',\n",
        " 'Cook Islands': 'Avarua',\n",
        " 'Costa Rica': 'San José',\n",
        " 'Croatia': 'Zagreb',\n",
        " 'Cuba': 'Havana',\n",
        " 'Curaçao': 'Willemstad',\n",
        " 'Cyprus': 'Nicosia',\n",
        " 'Czech Republic': 'Prague',\n",
        " \"Côte d'Ivoire\": 'Yamoussoukro',\n",
        " 'Denmark': 'Copenhagen',\n",
        " 'Djibouti': 'Djibouti',\n",
        " 'Dominica': 'Roseau',\n",
        " 'Dominican Republic': 'Santo Domingo',\n",
        " 'Ecuador': 'Quito',\n",
        " 'Egypt': 'Cairo',\n",
        " 'El Salvador': 'San Salvador',\n",
        " 'Equatorial Guinea': 'Malabo',\n",
        " 'Eritrea': 'Asmara',\n",
        " 'Estonia': 'Tallinn',\n",
        " 'Ethiopia': 'Addis Ababa',\n",
        " 'Falkland Islands (Malvinas)': 'Stanley',\n",
        " 'Faroe Islands': 'Tórshavn',\n",
        " 'Fiji': 'Suva',\n",
        " 'Finland': 'Helsinki',\n",
        " 'France': 'Paris',\n",
        " 'French Guiana': 'Cayenne',\n",
        " 'French Polynesia': 'Papeetē',\n",
        " 'French Southern Territories': 'Port-aux-Français',\n",
        " 'Gabon': 'Libreville',\n",
        " 'Gambia': 'Banjul',\n",
        " 'Georgia': 'Tbilisi',\n",
        " 'Germany': 'Berlin',\n",
        " 'Ghana': 'Accra',\n",
        " 'Gibraltar': 'Gibraltar',\n",
        " 'Greece': 'Athens',\n",
        " 'Greenland': 'Nuuk',\n",
        " 'Grenada': \"St. George's\",\n",
        " 'Guadeloupe': 'Basse-Terre',\n",
        " 'Guam': 'Hagåtña',\n",
        " 'Guatemala': 'Guatemala City',\n",
        " 'Guernsey': 'St. Peter Port',\n",
        " 'Guinea': 'Conakry',\n",
        " 'Guinea-Bissau': 'Bissau',\n",
        " 'Guyana': 'Georgetown',\n",
        " 'Haiti': 'Port-au-Prince',\n",
        " 'Heard Island and McDonald Islands': '',\n",
        " 'Holy See': 'Rome',\n",
        " 'Honduras': 'Tegucigalpa',\n",
        " 'Hong Kong': 'City of Victoria',\n",
        " 'Hungary': 'Budapest',\n",
        " 'Iceland': 'Reykjavík',\n",
        " 'India': 'New Delhi',\n",
        " 'Indonesia': 'Jakarta',\n",
        " 'Iran (Islamic Republic of)': 'Tehran',\n",
        " 'Iraq': 'Baghdad',\n",
        " 'Ireland': 'Dublin',\n",
        " 'Isle of Man': 'Douglas',\n",
        " 'Israel': 'Jerusalem',\n",
        " 'Italy': 'Rome',\n",
        " 'Jamaica': 'Kingston',\n",
        " 'Japan': 'Tokyo',\n",
        " 'Jersey': 'Saint Helier',\n",
        " 'Jordan': 'Amman',\n",
        " 'Kazakhstan': 'Astana',\n",
        " 'Kenya': 'Nairobi',\n",
        " 'Kiribati': 'South Tarawa',\n",
        " \"Korea (Democratic People's Republic of)\": 'Pyongyang',\n",
        " 'Korea (Republic of)': 'Seoul',\n",
        " 'Kuwait': 'Kuwait City',\n",
        " 'Kyrgyzstan': 'Bishkek',\n",
        " \"Lao People's Democratic Republic\": 'Vientiane',\n",
        " 'Latvia': 'Riga',\n",
        " 'Lebanon': 'Beirut',\n",
        " 'Lesotho': 'Maseru',\n",
        " 'Liberia': 'Monrovia',\n",
        " 'Libya': 'Tripoli',\n",
        " 'Liechtenstein': 'Vaduz',\n",
        " 'Lithuania': 'Vilnius',\n",
        " 'Luxembourg': 'Luxembourg',\n",
        " 'Macao': '',\n",
        " 'Macedonia (the former Yugoslav Republic of)': 'Skopje',\n",
        " 'Madagascar': 'Antananarivo',\n",
        " 'Malawi': 'Lilongwe',\n",
        " 'Malaysia': 'Kuala Lumpur',\n",
        " 'Maldives': 'Malé',\n",
        " 'Mali': 'Bamako',\n",
        " 'Malta': 'Valletta',\n",
        " 'Marshall Islands': 'Majuro',\n",
        " 'Martinique': 'Fort-de-France',\n",
        " 'Mauritania': 'Nouakchott',\n",
        " 'Mauritius': 'Port Louis',\n",
        " 'Mayotte': 'Mamoudzou',\n",
        " 'Mexico': 'Mexico City',\n",
        " 'Micronesia (Federated States of)': 'Palikir',\n",
        " 'Moldova (Republic of)': 'Chișinău',\n",
        " 'Monaco': 'Monaco',\n",
        " 'Mongolia': 'Ulan Bator',\n",
        " 'Montenegro': 'Podgorica',\n",
        " 'Montserrat': 'Plymouth',\n",
        " 'Morocco': 'Rabat',\n",
        " 'Mozambique': 'Maputo',\n",
        " 'Myanmar': 'Naypyidaw',\n",
        " 'Namibia': 'Windhoek',\n",
        " 'Nauru': 'Yaren',\n",
        " 'Nepal': 'Kathmandu',\n",
        " 'Netherlands': 'Amsterdam',\n",
        " 'New Caledonia': 'Nouméa',\n",
        " 'New Zealand': 'Wellington',\n",
        " 'Nicaragua': 'Managua',\n",
        " 'Niger': 'Niamey',\n",
        " 'Nigeria': 'Abuja',\n",
        " 'Niue': 'Alofi',\n",
        " 'Norfolk Island': 'Kingston',\n",
        " 'Northern Mariana Islands': 'Saipan',\n",
        " 'Norway': 'Oslo',\n",
        " 'Oman': 'Muscat',\n",
        " 'Pakistan': 'Islamabad',\n",
        " 'Palau': 'Ngerulmud',\n",
        " 'Palestine, State of': 'Ramallah',\n",
        " 'Panama': 'Panama City',\n",
        " 'Papua New Guinea': 'Port Moresby',\n",
        " 'Paraguay': 'Asunción',\n",
        " 'Peru': 'Lima',\n",
        " 'Philippines': 'Manila',\n",
        " 'Pitcairn': 'Adamstown',\n",
        " 'Poland': 'Warsaw',\n",
        " 'Portugal': 'Lisbon',\n",
        " 'Puerto Rico': 'San Juan',\n",
        " 'Qatar': 'Doha',\n",
        " 'Republic of Kosovo': 'Pristina',\n",
        " 'Romania': 'Bucharest',\n",
        " 'Russian Federation': 'Moscow',\n",
        " 'Rwanda': 'Kigali',\n",
        " 'Réunion': 'Saint-Denis',\n",
        " 'Saint Barthélemy': 'Gustavia',\n",
        " 'Saint Helena, Ascension and Tristan da Cunha': 'Jamestown',\n",
        " 'Saint Kitts and Nevis': 'Basseterre',\n",
        " 'Saint Lucia': 'Castries',\n",
        " 'Saint Martin (French part)': 'Marigot',\n",
        " 'Saint Pierre and Miquelon': 'Saint-Pierre',\n",
        " 'Saint Vincent and the Grenadines': 'Kingstown',\n",
        " 'Samoa': 'Apia',\n",
        " 'San Marino': 'City of San Marino',\n",
        " 'Sao Tome and Principe': 'São Tomé',\n",
        " 'Saudi Arabia': 'Riyadh',\n",
        " 'Senegal': 'Dakar',\n",
        " 'Serbia': 'Belgrade',\n",
        " 'Seychelles': 'Victoria',\n",
        " 'Sierra Leone': 'Freetown',\n",
        " 'Singapore': 'Singapore',\n",
        " 'Sint Maarten (Dutch part)': 'Philipsburg',\n",
        " 'Slovakia': 'Bratislava',\n",
        " 'Slovenia': 'Ljubljana',\n",
        " 'Solomon Islands': 'Honiara',\n",
        " 'Somalia': 'Mogadishu',\n",
        " 'South Africa': 'Pretoria',\n",
        " 'South Georgia and the South Sandwich Islands': 'King Edward Point',\n",
        " 'South Sudan': 'Juba',\n",
        " 'Spain': 'Madrid',\n",
        " 'Sri Lanka': 'Colombo',\n",
        " 'Sudan': 'Khartoum',\n",
        " 'Suriname': 'Paramaribo',\n",
        " 'Svalbard and Jan Mayen': 'Longyearbyen',\n",
        " 'Swaziland': 'Lobamba',\n",
        " 'Sweden': 'Stockholm',\n",
        " 'Switzerland': 'Bern',\n",
        " 'Syrian Arab Republic': 'Damascus',\n",
        " 'Taiwan': 'Taipei',\n",
        " 'Tajikistan': 'Dushanbe',\n",
        " 'Tanzania, United Republic of': 'Dodoma',\n",
        " 'Thailand': 'Bangkok',\n",
        " 'Timor-Leste': 'Dili',\n",
        " 'Togo': 'Lomé',\n",
        " 'Tokelau': 'Fakaofo',\n",
        " 'Tonga': \"Nuku'alofa\",\n",
        " 'Trinidad and Tobago': 'Port of Spain',\n",
        " 'Tunisia': 'Tunis',\n",
        " 'Turkey': 'Ankara',\n",
        " 'Turkmenistan': 'Ashgabat',\n",
        " 'Turks and Caicos Islands': 'Cockburn Town',\n",
        " 'Tuvalu': 'Funafuti',\n",
        " 'Uganda': 'Kampala',\n",
        " 'Ukraine': 'Kiev',\n",
        " 'United Arab Emirates': 'Abu Dhabi',\n",
        " 'United Kingdom of Great Britain and Northern Ireland': 'London',\n",
        " 'United States Minor Outlying Islands': '',\n",
        " 'United States of America': 'Washington, D.C.',\n",
        " 'Uruguay': 'Montevideo',\n",
        " 'Uzbekistan': 'Tashkent',\n",
        " 'Vanuatu': 'Port Vila',\n",
        " 'Venezuela (Bolivarian Republic of)': 'Caracas',\n",
        " 'Viet Nam': 'Hanoi',\n",
        " 'Virgin Islands (British)': 'Road Town',\n",
        " 'Virgin Islands (U.S.)': 'Charlotte Amalie',\n",
        " 'Wallis and Futuna': 'Mata-Utu',\n",
        " 'Western Sahara': 'El Aaiún',\n",
        " 'Yemen': \"Sana'a\",\n",
        " 'Zambia': 'Lusaka',\n",
        " 'Zimbabwe': 'Harare',\n",
        " 'Åland Islands': 'Mariehamn'}"
      ],
      "metadata": {
        "id": "x4IBgFFLJfet"
      },
      "execution_count": 48,
      "outputs": []
    },
    {
      "cell_type": "code",
      "source": [
        "# cause i ran it more then once\n",
        "nlp.remove_pipe(\"countries_component\")\n",
        "\n",
        "# Define the custom component\n",
        "@Language.component(\"countries_component\")\n",
        "def countries_component(doc):\n",
        "    # Create an entity Span with the label 'GPE' for all matches\n",
        "    doc.ents = [Span(doc, start, end, label='GPE')\n",
        "                for match_id, start, end in matcher(doc)]\n",
        "    return doc\n",
        "\n",
        "\n",
        "nlp.add_pipe(\"countries_component\", before=\"ner\")\n",
        "\n",
        "# Register capital and getter that looks up the span text in country capitals\n",
        "Span.set_extension('capital', getter=lambda span: capitals.get(span.text), force=True)\n",
        "\n",
        "# Process the text and print the entity text, label and capital attributes\n",
        "doc = nlp(\"Czech Republic may help Slovakia protect its airspace\")\n",
        "print([(ent.text, ent.label_, ent._.capital) for ent in doc.ents])\n",
        "\n",
        "# <script.py> output:\n",
        "#    [('Czech Republic', 'GPE', 'Prague'), ('Slovakia', 'GPE', 'Bratislava')]"
      ],
      "metadata": {
        "colab": {
          "base_uri": "https://localhost:8080/"
        },
        "id": "bG3utnUSJu0c",
        "outputId": "7ddfa321-fadb-4a17-df7f-6e7b1df61998"
      },
      "execution_count": 51,
      "outputs": [
        {
          "output_type": "stream",
          "name": "stdout",
          "text": [
            "This document is 8 tokens long.\n",
            "[]\n"
          ]
        }
      ]
    },
    {
      "cell_type": "markdown",
      "source": [
        "## Scaling and performance\n"
      ],
      "metadata": {
        "id": "q22tHsSmLwdA"
      }
    },
    {
      "cell_type": "markdown",
      "source": [
        "### Processing streams\n",
        "In this exercise, you'll be using nlp.pipe for more efficient text processing. The nlp object has already been created for you. A list of tweets about a popular American fast food chain are available as the variable TEXTS."
      ],
      "metadata": {
        "id": "ZgeFCjybMZZ1"
      }
    },
    {
      "cell_type": "code",
      "source": [
        "TEXTS= ['McDonalds is my favorite restaurant.',\n",
        " 'Here I thought @McDonalds only had precooked burgers but it seems they only have not cooked ones?? I have no time to get sick..',\n",
        " 'People really still eat McDonalds :(',\n",
        " 'The McDonalds in Spain has chicken wings. My heart is so happy ',\n",
        " '@McDonalds Please bring back the most delicious fast food sandwich of all times!!....The Arch Deluxe :P',\n",
        " 'please hurry and open. I WANT A #McRib SANDWICH SO BAD! :D',\n",
        " 'This morning i made a terrible decision by gettin mcdonalds and now my stomach is payin for it']"
      ],
      "metadata": {
        "id": "GytCxiFfKtWS"
      },
      "execution_count": 52,
      "outputs": []
    },
    {
      "cell_type": "code",
      "source": [
        "# Process the texts and print the adjectives\n",
        "for doc in nlp.pipe(TEXTS):\n",
        "    print([token.text for token in doc if token.pos_ == 'ADJ'])"
      ],
      "metadata": {
        "colab": {
          "base_uri": "https://localhost:8080/"
        },
        "id": "amtHzIFPMfk6",
        "outputId": "5897d12d-e91d-4797-ff6c-4acb65bbdbdb"
      },
      "execution_count": 53,
      "outputs": [
        {
          "output_type": "stream",
          "name": "stdout",
          "text": [
            "This document is 6 tokens long.\n",
            "This document is 27 tokens long.\n",
            "This document is 6 tokens long.\n",
            "This document is 13 tokens long.\n",
            "This document is 18 tokens long.\n",
            "This document is 15 tokens long.\n",
            "This document is 18 tokens long.\n",
            "['favorite']\n",
            "['sick']\n",
            "[]\n",
            "['happy']\n",
            "['delicious', 'fast']\n",
            "[]\n",
            "['terrible']\n"
          ]
        }
      ]
    },
    {
      "cell_type": "code",
      "source": [
        "# Process the texts and print the entities\n",
        "docs = list(nlp.pipe(TEXTS))\n",
        "entities = [doc.ents for doc in docs]\n",
        "print(*entities)"
      ],
      "metadata": {
        "colab": {
          "base_uri": "https://localhost:8080/"
        },
        "id": "7WvA2PZ4M3Xa",
        "outputId": "3adcc358-3aee-4006-9a4c-854ac04384f8"
      },
      "execution_count": 54,
      "outputs": [
        {
          "output_type": "stream",
          "name": "stdout",
          "text": [
            "This document is 6 tokens long.\n",
            "This document is 27 tokens long.\n",
            "This document is 6 tokens long.\n",
            "This document is 13 tokens long.\n",
            "This document is 18 tokens long.\n",
            "This document is 15 tokens long.\n",
            "This document is 18 tokens long.\n",
            "() () () () () () ()\n"
          ]
        }
      ]
    },
    {
      "cell_type": "code",
      "source": [
        "#original\n",
        "people = ['David Bowie', 'Angela Merkel', 'Lady Gaga']\n",
        "\n",
        "# Create a list of patterns for the PhraseMatcher\n",
        "patterns = [nlp(person) for person in people]\n",
        "\n",
        "\n",
        "# BETTER\n",
        "people = ['David Bowie', 'Angela Merkel', 'Lady Gaga']\n",
        "\n",
        "# Create a list of patterns for the PhraseMatcher\n",
        "patterns = list(nlp.pipe(people))"
      ],
      "metadata": {
        "colab": {
          "base_uri": "https://localhost:8080/"
        },
        "id": "mfkrDWUqNP3x",
        "outputId": "1c4ef5f0-989f-460f-a156-738999299c3e"
      },
      "execution_count": 55,
      "outputs": [
        {
          "output_type": "stream",
          "name": "stdout",
          "text": [
            "This document is 2 tokens long.\n",
            "This document is 2 tokens long.\n",
            "This document is 2 tokens long.\n",
            "This document is 2 tokens long.\n",
            "This document is 2 tokens long.\n",
            "This document is 2 tokens long.\n"
          ]
        }
      ]
    },
    {
      "cell_type": "markdown",
      "source": [
        "### Processing data with context\n",
        "In this exercise, you'll be using custom attributes to add author and book meta information to quotes.\n",
        "\n",
        "A list of (text, context) examples is available as the variable DATA. The texts are quotes from famous books, and the contexts dictionaries with the keys 'author' and 'book'. The nlp object has already been created for you."
      ],
      "metadata": {
        "id": "7xYvTyKRNrPM"
      }
    },
    {
      "cell_type": "code",
      "source": [
        "# Import the Doc class\n",
        "from spacy.tokens import Doc\n",
        "\n",
        "# Register the Doc extension 'author' (default None)\n",
        "Doc.set_extension('author', default=None)\n",
        "\n",
        "# Register the Doc extension 'book' (default None)\n",
        "Doc.set_extension('book', default=None)"
      ],
      "metadata": {
        "id": "AffPyZNaNntn"
      },
      "execution_count": 56,
      "outputs": []
    },
    {
      "cell_type": "code",
      "source": [
        "DATA= [('One morning, when Gregor Samsa woke from troubled dreams, he found himself transformed in his bed into a horrible vermin.',\n",
        "  {'author': 'Franz Kafka', 'book': 'Metamorphosis'}),\n",
        " (\"I know not all that may be coming, but be it what it will, I'll go to it laughing.\",\n",
        "  {'author': 'Herman Melville', 'book': 'Moby-Dick or, The Whale'}),\n",
        " ('It was the best of times, it was the worst of times.',\n",
        "  {'author': 'Charles Dickens', 'book': 'A Tale of Two Cities'}),\n",
        " ('The only people for me are the mad ones, the ones who are mad to live, mad to talk, mad to be saved, desirous of everything at the same time, the ones who never yawn or say a commonplace thing, but burn, burn, burn like fabulous yellow roman candles exploding like spiders across the stars.',\n",
        "  {'author': 'Jack Kerouac', 'book': 'On the Road'}),\n",
        " ('It was a bright cold day in April, and the clocks were striking thirteen.',\n",
        "  {'author': 'George Orwell', 'book': '1984'}),\n",
        " ('Nowadays people know the price of everything and the value of nothing.',\n",
        "  {'author': 'Oscar Wilde', 'book': 'The Picture Of Dorian Gray'})]"
      ],
      "metadata": {
        "id": "-y8piDs2OB2j"
      },
      "execution_count": 57,
      "outputs": []
    },
    {
      "cell_type": "code",
      "source": [
        "# Import the Doc class and register the extensions 'author' and 'book'\n",
        "from spacy.tokens import Doc\n",
        "Doc.set_extension('book', default=None, force=True)\n",
        "Doc.set_extension('author', default=None, force=True)\n",
        "\n",
        "for doc, context in nlp.pipe(DATA, as_tuples=True):\n",
        "\n",
        "    # Set the doc._.book and doc._.author attributes from the context\n",
        "    doc._.book = context['book']\n",
        "    doc._.author = context['author']\n",
        "\n",
        "    # Print the text and custom attribute data\n",
        "    print(doc.text, '\\n', \"— '{}' by {}\".format(doc._.book, doc._.author), '\\n')"
      ],
      "metadata": {
        "colab": {
          "base_uri": "https://localhost:8080/"
        },
        "id": "u_khusnLOjWK",
        "outputId": "cc079e52-d019-45e2-84df-07d260d527ac"
      },
      "execution_count": 58,
      "outputs": [
        {
          "output_type": "stream",
          "name": "stdout",
          "text": [
            "This document is 23 tokens long.\n",
            "This document is 23 tokens long.\n",
            "This document is 14 tokens long.\n",
            "This document is 64 tokens long.\n",
            "This document is 16 tokens long.\n",
            "This document is 13 tokens long.\n",
            "One morning, when Gregor Samsa woke from troubled dreams, he found himself transformed in his bed into a horrible vermin. \n",
            " — 'Metamorphosis' by Franz Kafka \n",
            "\n",
            "I know not all that may be coming, but be it what it will, I'll go to it laughing. \n",
            " — 'Moby-Dick or, The Whale' by Herman Melville \n",
            "\n",
            "It was the best of times, it was the worst of times. \n",
            " — 'A Tale of Two Cities' by Charles Dickens \n",
            "\n",
            "The only people for me are the mad ones, the ones who are mad to live, mad to talk, mad to be saved, desirous of everything at the same time, the ones who never yawn or say a commonplace thing, but burn, burn, burn like fabulous yellow roman candles exploding like spiders across the stars. \n",
            " — 'On the Road' by Jack Kerouac \n",
            "\n",
            "It was a bright cold day in April, and the clocks were striking thirteen. \n",
            " — '1984' by George Orwell \n",
            "\n",
            "Nowadays people know the price of everything and the value of nothing. \n",
            " — 'The Picture Of Dorian Gray' by Oscar Wilde \n",
            "\n"
          ]
        }
      ]
    },
    {
      "cell_type": "markdown",
      "source": [
        "### Selective processing\n",
        "In this exercise, you'll use the nlp.make_doc and nlp.disable_pipes methods to only run selected components when processing a text. The small English model is already loaded in as the nlp object."
      ],
      "metadata": {
        "id": "oSSzmkjIP20p"
      }
    },
    {
      "cell_type": "code",
      "source": [
        "text = \"Chick-fil-A is an American fast food restaurant chain headquartered in the city of College Park, Georgia, specializing in chicken sandwiches.\"\n",
        "\n",
        "# Only tokenize the text\n",
        "doc = nlp.make_doc(text)\n",
        "\n",
        "print([token.text for token in doc])"
      ],
      "metadata": {
        "colab": {
          "base_uri": "https://localhost:8080/"
        },
        "id": "fh_S3dH0O3Hc",
        "outputId": "b0cf225f-558a-454c-e37c-11ed38cbdf91"
      },
      "execution_count": 59,
      "outputs": [
        {
          "output_type": "stream",
          "name": "stdout",
          "text": [
            "['Chick', '-', 'fil', '-', 'A', 'is', 'an', 'American', 'fast', 'food', 'restaurant', 'chain', 'headquartered', 'in', 'the', 'city', 'of', 'College', 'Park', ',', 'Georgia', ',', 'specializing', 'in', 'chicken', 'sandwiches', '.']\n"
          ]
        }
      ]
    },
    {
      "cell_type": "code",
      "source": [
        "text = \"Chick-fil-A is an American fast food restaurant chain headquartered in the city of College Park, Georgia, specializing in chicken sandwiches.\"\n",
        "\n",
        "# Disable the tagger and parser\n",
        "with nlp.disable_pipes('tagger', 'parser'):\n",
        "    # Process the text\n",
        "    doc = nlp(text)\n",
        "    # Print the entities in the doc\n",
        "    print(doc.ents)\n",
        "\n",
        "\n",
        "#<script.py> output:\n",
        "#    (American, College Park, Georgia)\n"
      ],
      "metadata": {
        "colab": {
          "base_uri": "https://localhost:8080/"
        },
        "id": "wu9QZ0UgQA7K",
        "outputId": "ab2fe202-cc3c-46a9-d69a-b75dd2457a54"
      },
      "execution_count": 60,
      "outputs": [
        {
          "output_type": "stream",
          "name": "stdout",
          "text": [
            "This document is 27 tokens long.\n",
            "()\n"
          ]
        },
        {
          "output_type": "stream",
          "name": "stderr",
          "text": [
            "/usr/local/lib/python3.10/dist-packages/spacy/pipeline/lemmatizer.py:211: UserWarning: [W108] The rule-based lemmatizer did not find POS annotation for one or more tokens. Check that your pipeline includes components that assign token.pos, typically 'tagger'+'attribute_ruler' or 'morphologizer'.\n",
            "  warnings.warn(Warnings.W108)\n"
          ]
        }
      ]
    },
    {
      "cell_type": "markdown",
      "source": [
        "# CHAPTER 4 Training a neural network model\n",
        "\n",
        "In this chapter, you'll learn how to update spaCy's statistical models to customize them for your use case – for example, to predict a new entity type in online comments. You'll write your own training loop from scratch, and understand the basics of how training works, along with tips and tricks that can make your custom NLP projects more successful.\n"
      ],
      "metadata": {
        "id": "KSrbWiOOQlhH"
      }
    },
    {
      "cell_type": "markdown",
      "source": [
        "## Training and updating models"
      ],
      "metadata": {
        "id": "HtWhmH8BQn1u"
      }
    },
    {
      "cell_type": "markdown",
      "source": [
        "### Purpose of training\n",
        "While spaCy comes with a range of pre-trained models to predict linguistic annotations, you almost always want to fine-tune them with more examples. You can do this by training them with more labelled data.\n",
        "\n",
        "What does training not help with?\n",
        "\n",
        "Discover pattern in unlabel data"
      ],
      "metadata": {
        "id": "tR4ux1pxQn-M"
      }
    },
    {
      "cell_type": "markdown",
      "source": [
        "### Creating training data (1)\n",
        "spaCy's rule-based Matcher is a great way to quickly create training data for named entity models. A list of sentences is available as the variable TEXTS. You can print it the IPython shell to inspect it. We want to find all mentions of different iPhone models, so we can create training data to teach a model to recognize them as 'GADGET'.\n",
        "\n",
        "The nlp object has already been created for you and the Matcher is available as the variable matcher."
      ],
      "metadata": {
        "id": "UzLeMU4TMMSL"
      }
    },
    {
      "cell_type": "code",
      "source": [
        "TEXTS= ['How to preorder the iPhone X',\n",
        " 'iPhone X is coming',\n",
        " 'Should I pay $1,000 for the iPhone X?',\n",
        " 'The iPhone 8 reviews are here',\n",
        " 'Your iPhone goes up to 11 today',\n",
        " 'I need a new phone! Any tips?']\n",
        ""
      ],
      "metadata": {
        "id": "xTWpFiC_MJcN"
      },
      "execution_count": 63,
      "outputs": []
    },
    {
      "cell_type": "code",
      "source": [
        "# Initialize the PhraseMatcher\n",
        "matcher = Matcher(nlp.vocab)\n",
        "\n",
        "# Two tokens whose lowercase forms match 'iphone' and 'x'\n",
        "pattern1 = [{'LOWER': 'iphone'}, {'LOWER': 'x'}]\n",
        "\n",
        "# Token whose lowercase form matches 'iphone' and an optional digit\n",
        "pattern2 = [{'LOWER': 'iphone'}, {'IS_DIGIT': True, 'OP': '?'}]\n",
        "\n",
        "# Add patterns to the matcher\n",
        "matcher.add('GADGET', [pattern1])\n",
        "matcher.add('GADGET', [pattern2])\n",
        "\n"
      ],
      "metadata": {
        "id": "ih8LzO_5NFrq"
      },
      "execution_count": 76,
      "outputs": []
    },
    {
      "cell_type": "markdown",
      "source": [
        "### Creating training data (2)\n",
        "Let's use the match patterns we've created in the previous exercise to bootstrap a set of training examples. The nlp object has already been created for you and the Matcher with the added patterns pattern1 and pattern2 is available as the variable matcher. A list of sentences is available as the variable TEXTS."
      ],
      "metadata": {
        "id": "PjFAzAJgOgkE"
      }
    },
    {
      "cell_type": "code",
      "source": [
        "# Create a Doc object for each text in TEXTS\n",
        "for doc in nlp.pipe(TEXTS):\n",
        "    # Find the matches in the doc\n",
        "    matches = matcher(doc)\n",
        "\n",
        "    # Get a list of (start, end, label) tuples of matches in the text\n",
        "    entities = [(start, end, 'GADGET') for doc, start, end in matches]\n",
        "    print(doc.text, entities)\n",
        "\n",
        "#OUTPUT:\n",
        "# How to preorder the iPhone X [(4, 6, 'GADGET')]\n",
        "# iPhone X is coming [(0, 2, 'GADGET')]\n",
        "# Should I pay $1,000 for the iPhone X? [(7, 9, 'GADGET')]\n",
        "# The iPhone 8 reviews are here [(1, 3, 'GADGET')]\n",
        "# Your iPhone goes up to 11 today []\n",
        "# I need a new phone! Any tips? []"
      ],
      "metadata": {
        "id": "Y_sVovAxNF5e"
      },
      "execution_count": 78,
      "outputs": []
    },
    {
      "cell_type": "code",
      "source": [
        "TRAINING_DATA = []\n",
        "\n",
        "# Create a Doc object for each text in TEXTS\n",
        "for doc in nlp.pipe(TEXTS):\n",
        "    # Match on the doc and create a list of matched spans\n",
        "    spans = [doc[start:end] for match_id, start, end in matcher(doc)]\n",
        "    # Get (start character, end character, label) tuples of matches\n",
        "    entities = [(span.start_char, span.end_char, 'GADGET') for span in spans]\n",
        "\n",
        "    # Format the matches as a (doc.text, entities) tuple\n",
        "    training_example = (doc.text, {'entities': entities})\n",
        "    # Append the example to the training data\n",
        "    TRAINING_DATA.append(training_example)\n",
        "\n",
        "print(*TRAINING_DATA, sep='\\n')\n",
        "\n",
        "#<script.py> output:\n",
        "    # ('How to preorder the iPhone X', {'entities': [(20, 28, 'GADGET')]})\n",
        "    # ('iPhone X is coming', {'entities': [(0, 8, 'GADGET')]})\n",
        "    # ('Should I pay $1,000 for the iPhone X?', {'entities': [(28, 36, 'GADGET')]})\n",
        "    # ('The iPhone 8 reviews are here', {'entities': [(4, 12, 'GADGET')]})\n",
        "    # ('Your iPhone goes up to 11 today', {'entities': []})\n",
        "    # ('I need a new phone! Any tips?', {'entities': []})"
      ],
      "metadata": {
        "id": "btXuY1AJOwQN"
      },
      "execution_count": 80,
      "outputs": []
    },
    {
      "cell_type": "markdown",
      "source": [
        "## The training loop\n"
      ],
      "metadata": {
        "id": "5oZfzZZzPMrR"
      }
    },
    {
      "cell_type": "markdown",
      "source": [
        "### Setting up the pipeline\n",
        "In this exercise, you'll prepare a spaCy pipeline to train the entity recognizer to recognize 'GADGET' entities in a text – for exampe, \"iPhone X\".\n",
        "\n",
        "spacy has already been imported for you."
      ],
      "metadata": {
        "id": "8Tf2GdWIPMt2"
      }
    },
    {
      "cell_type": "code",
      "source": [
        "# Create a blank 'en' model\n",
        "nlp = spacy.blank('en')\n",
        "\n",
        "# Create a new entity recognizer and add it to the pipeline\n",
        "ner = nlp.create_pipe('ner')\n",
        "nlp.add_pipe(ner)\n",
        "\n",
        "# Add the label 'GADGET' to the entity recognizer\n",
        "ner.add_label('GADGET')"
      ],
      "metadata": {
        "id": "kldQCsxWPHZv"
      },
      "execution_count": 82,
      "outputs": []
    },
    {
      "cell_type": "markdown",
      "source": [
        "### Building a training loop\n",
        "Let's write a simple training loop from scratch!\n",
        "\n",
        "The pipeline you've created in the previous exercise is available as the nlp object. It already contains the entity recognizer with the added label 'GADGET'.\n",
        "\n",
        "The small set of labelled examples that you've created previously is available as the global variable TRAINING_DATA. To see the examples, you can print them in your script or in the IPython shell. spacy and random have already been imported for you."
      ],
      "metadata": {
        "id": "RgnxE8D0QNVy"
      }
    },
    {
      "cell_type": "code",
      "source": [
        "TRAINING_DATA= [('How to preorder the iPhone X', {'entities': [(20, 28, 'GADGET')]}),\n",
        " ('iPhone X is coming', {'entities': [(0, 8, 'GADGET')]}),\n",
        " ('Should I pay $1,000 for the iPhone X?', {'entities': [(28, 36, 'GADGET')]}),\n",
        " ('The iPhone 8 reviews are here', {'entities': [(4, 12, 'GADGET')]}),\n",
        " ('Your iPhone goes up to 11 today', {'entities': [(5, 11, 'GADGET')]}),\n",
        " ('I need a new phone! Any tips?', {'entities': []})]"
      ],
      "metadata": {
        "id": "DEztI32RPErV"
      },
      "execution_count": null,
      "outputs": []
    },
    {
      "cell_type": "code",
      "source": [
        "# Start the training\n",
        "nlp.begin_training()\n",
        "\n",
        "# Loop for 10 iterations\n",
        "for itn in range(10):\n",
        "    # Shuffle the training data\n",
        "    random.shuffle(TRAINING_DATA)\n",
        "    print('random:', random.shuffle(TRAINING_DATA))\n",
        "    losses = {}\n",
        "\n",
        "    # Batch the examples and iterate over them\n",
        "    for batch in spacy.util.minibatch(TRAINING_DATA, size=2):\n",
        "        print('batch:', batch)\n",
        "        texts = [text for text, entities in batch]\n",
        "        print('texts:', texts)\n",
        "        annotations = [entities for text, entities in batch]\n",
        "        print('annotations:', annotations)\n",
        "\n",
        "        # Update the model\n",
        "        nlp.update(texts, annotations, losses=losses)\n",
        "        print(losses)\n",
        "\n",
        "# <script.py> output:\n",
        "#     random: None\n",
        "#     batch: [('I need a new phone! Any tips?', {'entities': []}), ('How to preorder the iPhone X', {'entities': [(20, 28, 'GADGET')]})]\n",
        "#     texts: ['I need a new phone! Any tips?', 'How to preorder the iPhone X']\n",
        "#     annotations: [{'entities': []}, {'entities': [(20, 28, 'GADGET')]}]\n",
        "#     {'ner': 11.999999642372131}\n",
        "#     batch: [('iPhone X is coming', {'entities': [(0, 8, 'GADGET')]}), ('Should I pay $1,000 for the iPhone X?', {'entities': [(28, 36, 'GADGET')]})]\n",
        "#     texts: ['iPhone X is coming', 'Should I pay $1,000 for the iPhone X?']\n",
        "#     annotations: [{'entities': [(0, 8, 'GADGET')]}, {'entities': [(28, 36, 'GADGET')]}]\n",
        "#     {'ner': 22.53183114528656}\n",
        "#     batch: [('The iPhone 8 reviews are here', {'entities': [(4, 12, 'GADGET')]}), ('Your iPhone goes up to 11 today', {'entities': [(5, 11, 'GADGET')]})]\n",
        "#     texts: ['The iPhone 8 reviews are here', 'Your iPhone goes up to 11 today']\n",
        "#     annotations: [{'entities': [(4, 12, 'GADGET')]}, {'entities': [(5, 11, 'GADGET')]}]\n",
        "#     {'ner': 31.701135993003845}\n",
        "#     random: None\n",
        "#     batch: [('Your iPhone goes up to 11 today', {'entities': [(5, 11, 'GADGET')]}), ('iPhone X is coming', {'entities': [(0, 8, 'GADGET')]})]\n",
        "#     texts: ['Your iPhone goes up to 11 today', 'iPhone X is coming']\n",
        "#     annotations: [{'entities': [(5, 11, 'GADGET')]}, {'entities': [(0, 8, 'GADGET')]}]\n",
        "#     {'ner': 6.115316092967987}\n",
        "#     batch: [('The iPhone 8 reviews are here', {'entities': [(4, 12, 'GADGET')]}), ('How to preorder the iPhone X', {'entities': [(20, 28, 'GADGET')]})]\n",
        "#     texts: ['The iPhone 8 reviews are here', 'How to preorder the iPhone X']\n",
        "#     annotations: [{'entities': [(4, 12, 'GADGET')]}, {'entities': [(20, 28, 'GADGET')]}]\n",
        "#     {'ner': 11.430656850337982}\n",
        "#     batch: [('Should I pay $1,000 for the iPhone X?', {'entities': [(28, 36, 'GADGET')]}), ('I need a new phone! Any tips?', {'entities': []})]\n",
        "#     texts: ['Should I pay $1,000 for the iPhone X?', 'I need a new phone! Any tips?']\n",
        "#     annotations: [{'entities': [(28, 36, 'GADGET')]}, {'entities': []}]\n",
        "#     {'ner': 16.42770153284073}\n",
        "#     random: None\n",
        "#     batch: [('Your iPhone goes up to 11 today', {'entities': [(5, 11, 'GADGET')]}), ('I need a new phone! Any tips?', {'entities': []})]\n",
        "#     texts: ['Your iPhone goes up to 11 today', 'I need a new phone! Any tips?']\n",
        "#     annotations: [{'entities': [(5, 11, 'GADGET')]}, {'entities': []}]\n",
        "#     {'ner': 2.3262053430080414}\n",
        "#     batch: [('iPhone X is coming', {'entities': [(0, 8, 'GADGET')]}), ('Should I pay $1,000 for the iPhone X?', {'entities': [(28, 36, 'GADGET')]})]\n",
        "#     texts: ['iPhone X is coming', 'Should I pay $1,000 for the iPhone X?']\n",
        "#     annotations: [{'entities': [(0, 8, 'GADGET')]}, {'entities': [(28, 36, 'GADGET')]}]\n",
        "#     {'ner': 5.552737276535481}\n",
        "#     batch: [('The iPhone 8 reviews are here', {'entities': [(4, 12, 'GADGET')]}), ('How to preorder the iPhone X', {'entities': [(20, 28, 'GADGET')]})]\n",
        "#     texts: ['The iPhone 8 reviews are here', 'How to preorder the iPhone X']\n",
        "#     annotations: [{'entities': [(4, 12, 'GADGET')]}, {'entities': [(20, 28, 'GADGET')]}]\n",
        "#     {'ner': 9.060084632714279}\n",
        "#     random: None\n",
        "#     batch: [('Your iPhone goes up to 11 today', {'entities': [(5, 11, 'GADGET')]}), ('The iPhone 8 reviews are here', {'entities': [(4, 12, 'GADGET')]})]\n",
        "#     texts: ['Your iPhone goes up to 11 today', 'The iPhone 8 reviews are here']\n",
        "#     annotations: [{'entities': [(5, 11, 'GADGET')]}, {'entities': [(4, 12, 'GADGET')]}]\n",
        "#     {'ner': 3.2921266618941445}\n",
        "#     batch: [('I need a new phone! Any tips?', {'entities': []}), ('Should I pay $1,000 for the iPhone X?', {'entities': [(28, 36, 'GADGET')]})]\n",
        "#     texts: ['I need a new phone! Any tips?', 'Should I pay $1,000 for the iPhone X?']\n",
        "#     annotations: [{'entities': []}, {'entities': [(28, 36, 'GADGET')]}]\n",
        "#     {'ner': 4.31446285227139}\n",
        "#     batch: [('iPhone X is coming', {'entities': [(0, 8, 'GADGET')]}), ('How to preorder the iPhone X', {'entities': [(20, 28, 'GADGET')]})]\n",
        "#     texts: ['iPhone X is coming', 'How to preorder the iPhone X']\n",
        "#     annotations: [{'entities': [(0, 8, 'GADGET')]}, {'entities': [(20, 28, 'GADGET')]}]\n",
        "#     {'ner': 7.411704116631881}\n",
        "#     random: None\n",
        "#     batch: [('I need a new phone! Any tips?', {'entities': []}), ('Your iPhone goes up to 11 today', {'entities': [(5, 11, 'GADGET')]})]\n",
        "#     texts: ['I need a new phone! Any tips?', 'Your iPhone goes up to 11 today']\n",
        "#     annotations: [{'entities': []}, {'entities': [(5, 11, 'GADGET')]}]\n",
        "#     {'ner': 0.8126044412201736}\n",
        "#     batch: [('Should I pay $1,000 for the iPhone X?', {'entities': [(28, 36, 'GADGET')]}), ('The iPhone 8 reviews are here', {'entities': [(4, 12, 'GADGET')]})]\n",
        "#     texts: ['Should I pay $1,000 for the iPhone X?', 'The iPhone 8 reviews are here']\n",
        "#     annotations: [{'entities': [(28, 36, 'GADGET')]}, {'entities': [(4, 12, 'GADGET')]}]\n",
        "#     {'ner': 5.228105610149214}\n",
        "#     batch: [('iPhone X is coming', {'entities': [(0, 8, 'GADGET')]}), ('How to preorder the iPhone X', {'entities': [(20, 28, 'GADGET')]})]\n",
        "#     texts: ['iPhone X is coming', 'How to preorder the iPhone X']\n",
        "#     annotations: [{'entities': [(0, 8, 'GADGET')]}, {'entities': [(20, 28, 'GADGET')]}]\n",
        "#     {'ner': 8.659203528804937}\n",
        "#     random: None\n",
        "#     batch: [('iPhone X is coming', {'entities': [(0, 8, 'GADGET')]}), ('Your iPhone goes up to 11 today', {'entities': [(5, 11, 'GADGET')]})]\n",
        "#     texts: ['iPhone X is coming', 'Your iPhone goes up to 11 today']\n",
        "#     annotations: [{'entities': [(0, 8, 'GADGET')]}, {'entities': [(5, 11, 'GADGET')]}]\n",
        "#     {'ner': 2.438779136398807}\n",
        "#     batch: [('How to preorder the iPhone X', {'entities': [(20, 28, 'GADGET')]}), ('I need a new phone! Any tips?', {'entities': []})]\n",
        "#     texts: ['How to preorder the iPhone X', 'I need a new phone! Any tips?']\n",
        "#     annotations: [{'entities': [(20, 28, 'GADGET')]}, {'entities': []}]\n",
        "#     {'ner': 3.4826324112946168}\n",
        "#     batch: [('The iPhone 8 reviews are here', {'entities': [(4, 12, 'GADGET')]}), ('Should I pay $1,000 for the iPhone X?', {'entities': [(28, 36, 'GADGET')]})]\n",
        "#     texts: ['The iPhone 8 reviews are here', 'Should I pay $1,000 for the iPhone X?']\n",
        "#     annotations: [{'entities': [(4, 12, 'GADGET')]}, {'entities': [(28, 36, 'GADGET')]}]\n",
        "#     {'ner': 6.446082263835706}\n",
        "#     random: None\n",
        "#     batch: [('Should I pay $1,000 for the iPhone X?', {'entities': [(28, 36, 'GADGET')]}), ('How to preorder the iPhone X', {'entities': [(20, 28, 'GADGET')]})]\n",
        "#     texts: ['Should I pay $1,000 for the iPhone X?', 'How to preorder the iPhone X']\n",
        "#     annotations: [{'entities': [(28, 36, 'GADGET')]}, {'entities': [(20, 28, 'GADGET')]}]\n",
        "#     {'ner': 1.4833969387691468}\n",
        "#     batch: [('Your iPhone goes up to 11 today', {'entities': [(5, 11, 'GADGET')]}), ('The iPhone 8 reviews are here', {'entities': [(4, 12, 'GADGET')]})]\n",
        "#     texts: ['Your iPhone goes up to 11 today', 'The iPhone 8 reviews are here']\n",
        "#     annotations: [{'entities': [(5, 11, 'GADGET')]}, {'entities': [(4, 12, 'GADGET')]}]\n",
        "#     {'ner': 2.7859302376164123}\n",
        "#     batch: [('iPhone X is coming', {'entities': [(0, 8, 'GADGET')]}), ('I need a new phone! Any tips?', {'entities': []})]\n",
        "#     texts: ['iPhone X is coming', 'I need a new phone! Any tips?']\n",
        "#     annotations: [{'entities': [(0, 8, 'GADGET')]}, {'entities': []}]\n",
        "#     {'ner': 3.2335402196100063}\n",
        "#     random: None\n",
        "#     batch: [('How to preorder the iPhone X', {'entities': [(20, 28, 'GADGET')]}), ('Should I pay $1,000 for the iPhone X?', {'entities': [(28, 36, 'GADGET')]})]\n",
        "#     texts: ['How to preorder the iPhone X', 'Should I pay $1,000 for the iPhone X?']\n",
        "#     annotations: [{'entities': [(20, 28, 'GADGET')]}, {'entities': [(28, 36, 'GADGET')]}]\n",
        "#     {'ner': 0.23502754060609732}\n",
        "#     batch: [('Your iPhone goes up to 11 today', {'entities': [(5, 11, 'GADGET')]}), ('The iPhone 8 reviews are here', {'entities': [(4, 12, 'GADGET')]})]\n",
        "#     texts: ['Your iPhone goes up to 11 today', 'The iPhone 8 reviews are here']\n",
        "#     annotations: [{'entities': [(5, 11, 'GADGET')]}, {'entities': [(4, 12, 'GADGET')]}]\n",
        "#     {'ner': 2.774232676034444}\n",
        "#     batch: [('I need a new phone! Any tips?', {'entities': []}), ('iPhone X is coming', {'entities': [(0, 8, 'GADGET')]})]\n",
        "#     texts: ['I need a new phone! Any tips?', 'iPhone X is coming']\n",
        "#     annotations: [{'entities': []}, {'entities': [(0, 8, 'GADGET')]}]\n",
        "#     {'ner': 2.8161797297798827}\n",
        "#     random: None\n",
        "#     batch: [('The iPhone 8 reviews are here', {'entities': [(4, 12, 'GADGET')]}), ('Your iPhone goes up to 11 today', {'entities': [(5, 11, 'GADGET')]})]\n",
        "#     texts: ['The iPhone 8 reviews are here', 'Your iPhone goes up to 11 today']\n",
        "#     annotations: [{'entities': [(4, 12, 'GADGET')]}, {'entities': [(5, 11, 'GADGET')]}]\n",
        "#     {'ner': 2.651838634375359}\n",
        "#     batch: [('I need a new phone! Any tips?', {'entities': []}), ('iPhone X is coming', {'entities': [(0, 8, 'GADGET')]})]\n",
        "#     texts: ['I need a new phone! Any tips?', 'iPhone X is coming']\n",
        "#     annotations: [{'entities': []}, {'entities': [(0, 8, 'GADGET')]}]\n",
        "#     {'ner': 2.655443485509177}\n",
        "#     batch: [('How to preorder the iPhone X', {'entities': [(20, 28, 'GADGET')]}), ('Should I pay $1,000 for the iPhone X?', {'entities': [(28, 36, 'GADGET')]})]\n",
        "#     texts: ['How to preorder the iPhone X', 'Should I pay $1,000 for the iPhone X?']\n",
        "#     annotations: [{'entities': [(20, 28, 'GADGET')]}, {'entities': [(28, 36, 'GADGET')]}]\n",
        "#     {'ner': 2.6557519075226947}\n",
        "#     random: None\n",
        "#     batch: [('Should I pay $1,000 for the iPhone X?', {'entities': [(28, 36, 'GADGET')]}), ('How to preorder the iPhone X', {'entities': [(20, 28, 'GADGET')]})]\n",
        "#     texts: ['Should I pay $1,000 for the iPhone X?', 'How to preorder the iPhone X']\n",
        "#     annotations: [{'entities': [(28, 36, 'GADGET')]}, {'entities': [(20, 28, 'GADGET')]}]\n",
        "#     {'ner': 6.508660462145599e-05}\n",
        "#     batch: [('I need a new phone! Any tips?', {'entities': []}), ('The iPhone 8 reviews are here', {'entities': [(4, 12, 'GADGET')]})]\n",
        "#     texts: ['I need a new phone! Any tips?', 'The iPhone 8 reviews are here']\n",
        "#     annotations: [{'entities': []}, {'entities': [(4, 12, 'GADGET')]}]\n",
        "#     {'ner': 0.00017008849332811327}\n",
        "#     batch: [('iPhone X is coming', {'entities': [(0, 8, 'GADGET')]}), ('Your iPhone goes up to 11 today', {'entities': [(5, 11, 'GADGET')]})]\n",
        "#     texts: ['iPhone X is coming', 'Your iPhone goes up to 11 today']\n",
        "#     annotations: [{'entities': [(0, 8, 'GADGET')]}, {'entities': [(5, 11, 'GADGET')]}]\n",
        "#     {'ner': 1.6183852915911352}\n",
        "\n",
        "\n",
        "# The numbers printed to the IPython shell represent the loss on each iteration, the amount of work left for the optimizer. The lower the number, the better.\n",
        "# In real life, you normally want to use a lot more data than this, ideally at least a few hundred or a few thousand examples."
      ],
      "metadata": {
        "id": "hcpPTG-UQ7mK"
      },
      "execution_count": null,
      "outputs": []
    },
    {
      "cell_type": "markdown",
      "source": [
        "### Exploring the model\n",
        "Let's see how the model performs on unseen data! To speed things up a little, here's a trained model for the label 'GADGET', using the examples from the previous exercise, plus a few hundred more. The loaded model is already available as the nlp object. A list of test texts is available as TEST_DATA."
      ],
      "metadata": {
        "id": "wEbiTZkLRRxW"
      }
    },
    {
      "cell_type": "code",
      "source": [
        "TEST_DATA= ['Apple is slowing down the iPhone 8 and iPhone X - how to stop it',\n",
        " \"I finally understand what the iPhone X 'notch' is for\",\n",
        " 'Everything you need to know about the Samsung Galaxy S9',\n",
        " 'Looking to compare iPad models? Here’s how the 2018 lineup stacks up',\n",
        " 'The iPhone 8 and iPhone 8 Plus are smartphones designed, developed, and marketed by Apple',\n",
        " 'what is the cheapest ipad, especially ipad pro???',\n",
        " 'Samsung Galaxy is a series of mobile computing devices designed, manufactured and marketed by Samsung Electronics']"
      ],
      "metadata": {
        "id": "VgYIY9tmRSVY"
      },
      "execution_count": 84,
      "outputs": []
    },
    {
      "cell_type": "code",
      "source": [
        "# Process each text in TEST_DATA\n",
        "for doc in nlp.pipe(TEST_DATA):\n",
        "    # Print the document text and entitites\n",
        "    print(doc.text)\n",
        "    print(doc.ents, '\\n\\n')\n",
        "\n",
        "#<script.py> output:\n",
        "    # Apple is slowing down the iPhone 8 and iPhone X - how to stop it\n",
        "    # (iPhone 8, iPhone X)\n",
        "\n",
        "\n",
        "    # I finally understand what the iPhone X 'notch' is for\n",
        "    # (iPhone X,)\n",
        "\n",
        "\n",
        "    # Everything you need to know about the Samsung Galaxy S9\n",
        "    # (Samsung Galaxy,)\n",
        "\n",
        "\n",
        "    # Looking to compare iPad models? Here’s how the 2018 lineup stacks up\n",
        "    # (iPad,)\n",
        "\n",
        "\n",
        "    # The iPhone 8 and iPhone 8 Plus are smartphones designed, developed, and marketed by Apple\n",
        "    # (iPhone 8, iPhone 8)\n",
        "\n",
        "\n",
        "    # what is the cheapest ipad, especially ipad pro???\n",
        "    # (ipad, ipad)\n",
        "\n",
        "\n",
        "    # Samsung Galaxy is a series of mobile computing devices designed, manufactured and marketed by Samsung Electronics\n",
        "    # (Samsung Galaxy,)"
      ],
      "metadata": {
        "colab": {
          "base_uri": "https://localhost:8080/"
        },
        "id": "vdDxDav7RoNH",
        "outputId": "69212ede-c325-4e39-a9c4-cbfe9b85db2b"
      },
      "execution_count": 85,
      "outputs": [
        {
          "output_type": "stream",
          "name": "stdout",
          "text": [
            "Apple is slowing down the iPhone 8 and iPhone X - how to stop it\n",
            "() \n",
            "\n",
            "\n",
            "I finally understand what the iPhone X 'notch' is for\n",
            "() \n",
            "\n",
            "\n",
            "Everything you need to know about the Samsung Galaxy S9\n",
            "() \n",
            "\n",
            "\n",
            "Looking to compare iPad models? Here’s how the 2018 lineup stacks up\n",
            "() \n",
            "\n",
            "\n",
            "The iPhone 8 and iPhone 8 Plus are smartphones designed, developed, and marketed by Apple\n",
            "() \n",
            "\n",
            "\n",
            "what is the cheapest ipad, especially ipad pro???\n",
            "() \n",
            "\n",
            "\n",
            "Samsung Galaxy is a series of mobile computing devices designed, manufactured and marketed by Samsung Electronics\n",
            "() \n",
            "\n",
            "\n"
          ]
        }
      ]
    },
    {
      "cell_type": "markdown",
      "source": [
        "## Training best practices\n",
        "\n",
        "Problem 1: Models can forget things\n",
        "\n",
        "Problem 2: Models cant learn everything"
      ],
      "metadata": {
        "id": "rmOWlsEIR8cX"
      }
    },
    {
      "cell_type": "markdown",
      "source": [
        "### Good data vs. bad data\n",
        "Here's an excerpt from a training set that labels the entity type TOURIST_DESTINATION in traveler reviews."
      ],
      "metadata": {
        "id": "km6__dUySddJ"
      }
    },
    {
      "cell_type": "code",
      "source": [
        "TRAINING_DATA = [\n",
        "    (\"i went to amsterdem last year and the canals were beautiful\", {'entities': [(10, 19, 'TOURIST_DESTINATION')]}),\n",
        "    (\"You should visit Paris once in your life, but the Eiffel Tower is kinda boring\", {'entities': [(17, 22, 'TOURIST_DESTINATION')]}),\n",
        "    (\"There's also a Paris in Arkansas, lol\", {'entities': []}),\n",
        "    (\"Berlin is perfect for summer holiday: lots of parks, great nightlife, cheap beer!\", {'entities': [(0, 6, 'TOURIST_DESTINATION')]})\n",
        "]\n",
        "\n",
        "#print(*TRAINING_DATA, sep='\\n')\n",
        "\n",
        "# Rewrite the TRAINING_DATA to only use the label GPE (cities, states, countries) instead of TOURIST_DESTINATION.\n",
        "\n",
        "TRAINING_DATA = [\n",
        "    (\"i went to amsterdem last year and the canals were beautiful\", {'entities': [(10, 19, 'GPE')]}),\n",
        "    (\"You should visit Paris once in your life, but the Eiffel Tower is kinda boring\", {'entities': [(17, 22, 'GPE')]}),\n",
        "    (\"There's also a Paris in Arkansas, lol\", {'entities': [(15, 20, 'GPE'), (24, 32, 'GPE')]}),\n",
        "    (\"Berlin is perfect for summer holiday: lots of parks, great nightlife, cheap beer!\", {'entities': [(0, 6, 'GPE')]})\n",
        "]\n",
        "\n",
        "print(*TRAINING_DATA, sep='\\n')"
      ],
      "metadata": {
        "colab": {
          "base_uri": "https://localhost:8080/"
        },
        "id": "XDkednhJRoe5",
        "outputId": "dd7faf3d-ecf6-4761-cc71-0f58daf6efb0"
      },
      "execution_count": 87,
      "outputs": [
        {
          "output_type": "stream",
          "name": "stdout",
          "text": [
            "('i went to amsterdem last year and the canals were beautiful', {'entities': [(10, 19, 'GPE')]})\n",
            "('You should visit Paris once in your life, but the Eiffel Tower is kinda boring', {'entities': [(17, 22, 'GPE')]})\n",
            "(\"There's also a Paris in Arkansas, lol\", {'entities': [(15, 20, 'GPE'), (24, 32, 'GPE')]})\n",
            "('Berlin is perfect for summer holiday: lots of parks, great nightlife, cheap beer!', {'entities': [(0, 6, 'GPE')]})\n"
          ]
        }
      ]
    },
    {
      "cell_type": "markdown",
      "source": [
        "### Training multiple labels\n",
        "Here's a small sample of a dataset created to train a new entity type WEBSITE. The original dataset contains a few thousand sentences. In this exercise, you'll be doing the labeling by hand. In real life, you probably want to automate this and use an annotation tool – for example, Brat\n",
        "http://brat.nlplab.org/\n",
        "\n",
        ", a popular open-source solution, or Prodigy\n",
        "https://prodi.gy/\n",
        "\n",
        ", our own annotation tool that integrates with spaCy.\n",
        "\n",
        "After this exercise you will be nearly done with the course! If you enjoyed it, feel free to send Ines a thank you via Twitter - she'll appreciate it! Tweet to Ines"
      ],
      "metadata": {
        "id": "WQ3bOSkNTJRR"
      }
    },
    {
      "cell_type": "code",
      "source": [
        "TRAINING_DATA = [\n",
        "    (\"Reddit partners with Patreon to help creators build communities\",\n",
        "     {'entities': [(0, 6, 'WEBSITE'), (21, 28, 'WEBSITE')]}),\n",
        "\n",
        "    (\"PewDiePie smashes YouTube record\",\n",
        "     {'entities': [(18, 25, 'WEBSITE')]}),\n",
        "\n",
        "    (\"Reddit founder Alexis Ohanian gave away two Metallica tickets to fans\",\n",
        "     {'entities': [(0, 6, 'WEBSITE')]}),\n",
        "    # And so on...\n",
        "]"
      ],
      "metadata": {
        "id": "qxBqULmjTAZ6"
      },
      "execution_count": 88,
      "outputs": []
    },
    {
      "cell_type": "code",
      "source": [
        "TRAINING_DATA = [\n",
        "    (\"Reddit partners with Patreon to help creators build communities\",\n",
        "     {'entities': [(0, 6, 'WEBSITE'), (21, 28, 'WEBSITE')]}),\n",
        "\n",
        "    (\"PewDiePie smashes YouTube record\",\n",
        "     {'entities': [(0,9, 'PERSON'), (18, 25, 'WEBSITE')]}),\n",
        "\n",
        "    (\"Reddit founder Alexis Ohanian gave away two Metallica tickets to fans\",\n",
        "     {'entities': [(0, 6, 'WEBSITE'), (15, 29, 'PERSON')]}),\n",
        "    # And so on...\n",
        "]"
      ],
      "metadata": {
        "id": "I9JOAUi5T4YG"
      },
      "execution_count": 89,
      "outputs": []
    },
    {
      "cell_type": "code",
      "source": [],
      "metadata": {
        "id": "xyRxxNwFUUMc"
      },
      "execution_count": null,
      "outputs": []
    }
  ]
}