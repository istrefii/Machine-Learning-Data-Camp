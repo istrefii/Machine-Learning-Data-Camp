{
  "nbformat": 4,
  "nbformat_minor": 0,
  "metadata": {
    "colab": {
      "provenance": [],
      "collapsed_sections": []
    },
    "kernelspec": {
      "name": "python3",
      "display_name": "Python 3"
    },
    "language_info": {
      "name": "python"
    }
  },
  "cells": [
    {
      "cell_type": "markdown",
      "source": [
        "# Learned\n",
        "Functional API, Shared layers, Categorical embeddings, Multiple inputs/outputs, Regression/classfication in one model\n",
        "\n",
        "Mulitple output could do regression and classification. Regression get less penalty from random choice. \n",
        "\n",
        "Skip connections: make it easier for adam optimizer to find global min\n"
      ],
      "metadata": {
        "id": "F5e7ferCm59J"
      }
    },
    {
      "cell_type": "markdown",
      "source": [
        "# Course Description\n",
        "This course shows you how to solve a variety of problems using the versatile Keras functional API. You will start with simple, multi-layer dense networks (also known as multi-layer perceptrons), and continue on to more complicated architectures. The course will cover how to build models with multiple inputs and a single output, as well as how to share weights between layers in a model. We will also cover advanced topics such as category embeddings and multiple-output networks. If you've ever wanted to train a network that does both classification and regression, then this course is for you!"
      ],
      "metadata": {
        "id": "LQ1nvyy9m6ow"
      }
    },
    {
      "cell_type": "markdown",
      "source": [
        "# Chapter 1\n",
        "\n",
        "1. Create input layers\n",
        "2. Create output layers\n",
        "3. Create model with input and output tensors\n",
        "4. Compile \n",
        "5. Visualize \n",
        "6. Fit and evlaute "
      ],
      "metadata": {
        "id": "7KiNCD9Xm9No"
      }
    },
    {
      "cell_type": "markdown",
      "source": [
        "# Input layers\n",
        "The first step in creating a neural network model is to define the Input layer. This layer takes in raw data, usually in the form of numpy arrays. The shape of the Input layer defines how many variables your neural network will use. For example, if the input data has 10 columns, you define an Input layer with a shape of (10,).\n",
        "\n",
        "In this case, you are only using one input in your network."
      ],
      "metadata": {
        "id": "JOSlut7DnERg"
      }
    },
    {
      "cell_type": "code",
      "source": [
        "# Import Input from tensorflow.keras.layers\n",
        "from tensorflow.keras.layers import Input\n",
        "\n",
        "# Create an input layer of shape 1\n",
        "input_tensor = Input(shape=(1,))"
      ],
      "metadata": {
        "id": "K6ol_YyRm7Nm"
      },
      "execution_count": 2,
      "outputs": []
    },
    {
      "cell_type": "markdown",
      "source": [
        "# Dense layers\n",
        "Once you have an Input layer, the next step is to add a Dense layer.\n",
        "\n",
        "Dense layers learn a weight matrix, where the first dimension of the matrix is the dimension of the input data, and the second dimension is the dimension of the output data. Recall that your Input layer has a shape of 1. In this case, your output layer will also have a shape of 1. This means that the Dense layer will learn a 1x1 weight matrix.\n",
        "\n",
        "In this exercise, you will add a dense layer to your model, after the input layer."
      ],
      "metadata": {
        "id": "7CWR1fNinJpg"
      }
    },
    {
      "cell_type": "code",
      "source": [
        "# Load layers\n",
        "from tensorflow.keras.layers import Input, Dense\n",
        "\n",
        "# Input layer\n",
        "input_tensor = Input(shape=(1,))\n",
        "\n",
        "# Dense layer\n",
        "output_layer = Dense(1)\n",
        "\n",
        "# Connect the dense layer to the input_tensor\n",
        "output_tensor = output_layer(input_tensor)"
      ],
      "metadata": {
        "id": "GhOFT59pnF-F"
      },
      "execution_count": 3,
      "outputs": []
    },
    {
      "cell_type": "markdown",
      "source": [
        "# Output layers\n",
        "Output layers are simply Dense layers! Output layers are used to reduce the dimension of the inputs to the dimension of the outputs. You'll learn more about output dimensions in chapter 4, but for now, you'll always use a single output in your neural networks, which is equivalent to Dense(1) or a dense layer with a single unit."
      ],
      "metadata": {
        "id": "ZkK7VKoonNQe"
      }
    },
    {
      "cell_type": "code",
      "source": [
        "# Load layers\n",
        "from tensorflow.keras.layers import Input, Dense\n",
        "\n",
        "# Input layer\n",
        "input_tensor = Input(shape=(1,))\n",
        "\n",
        "# Create a dense layer and connect the dense layer to the input_tensor in one step\n",
        "# Note that you did this in 2 steps in the previous exercise, but are doing it in one step now\n",
        "output_tensor = Dense(1)(input_tensor)"
      ],
      "metadata": {
        "id": "IyMc64p9nLwL"
      },
      "execution_count": 4,
      "outputs": []
    },
    {
      "cell_type": "markdown",
      "source": [
        "# Build a model\n",
        "Once you've defined an input layer and an output layer, you can build a Keras model. The model object is how you tell Keras where the model starts and stops: where data comes in and where predictions come out."
      ],
      "metadata": {
        "id": "k1bHfAcgnUEo"
      }
    },
    {
      "cell_type": "code",
      "source": [
        "# Input/dense/output layers\n",
        "from tensorflow.keras.layers import Input, Dense\n",
        "input_tensor = Input(shape=(1,))\n",
        "output_tensor = Dense(1)(input_tensor)\n",
        "\n",
        "# Build the model\n",
        "from tensorflow.keras.models import Model\n",
        "model = Model(input_tensor, output_tensor)"
      ],
      "metadata": {
        "id": "Rcr6UAJRnTPK"
      },
      "execution_count": 5,
      "outputs": []
    },
    {
      "cell_type": "markdown",
      "source": [
        "# Compile a model\n",
        "The final step in creating a model is compiling it. Now that you've created a model, you have to compile it before you can fit it to data. This finalizes your model, freezes all its settings, and prepares it to meet some data!\n",
        "\n",
        "During compilation, you specify the optimizer to use for fitting the model to the data, and a loss function. 'adam' is a good default optimizer to use, and will generally work well. Loss function depends on the problem at hand. Mean squared error is a common loss function and will optimize for predicting the mean, as is done in least squares regression.\n",
        "\n",
        "Mean absolute error optimizes for the median and is used in quantile regression. For this dataset, 'mean_absolute_error' works pretty well, so use it as your loss function."
      ],
      "metadata": {
        "id": "RWLqVgXanYK2"
      }
    },
    {
      "cell_type": "code",
      "source": [
        "# Compile the model\n",
        "model.compile(optimizer='adam', loss='mean_absolute_error')"
      ],
      "metadata": {
        "id": "r6yOoJlKnWkq"
      },
      "execution_count": 6,
      "outputs": []
    },
    {
      "cell_type": "markdown",
      "source": [
        "# Visualize a model\n",
        "Now that you've compiled the model, take a look a the result of your hard work! You can do this by looking at the model summary, as well as its plot.\n",
        "\n",
        "The summary will tell you the names of the layers, as well as how many units they have and how many parameters are in the model.\n",
        "\n",
        "The plot will show how the layers connect to each other."
      ],
      "metadata": {
        "id": "1UG-cvu7nbUn"
      }
    },
    {
      "cell_type": "code",
      "source": [
        "# Import the plotting function\n",
        "from tensorflow.keras.utils import plot_model\n",
        "import matplotlib.pyplot as plt\n",
        "\n",
        "# Summarize the model\n",
        "model.summary()\n",
        "\n",
        "# Plot the model\n",
        "plot_model(model, to_file='model.png')\n",
        "\n",
        "# Display the image\n",
        "data = plt.imread('model.png')\n",
        "plt.imshow(data)\n",
        "plt.show()"
      ],
      "metadata": {
        "colab": {
          "base_uri": "https://localhost:8080/",
          "height": 495
        },
        "id": "VbRNDgMLnaHc",
        "outputId": "b1888874-846e-4cac-b176-818064c17b06"
      },
      "execution_count": 7,
      "outputs": [
        {
          "output_type": "stream",
          "name": "stdout",
          "text": [
            "Model: \"model\"\n",
            "_________________________________________________________________\n",
            " Layer (type)                Output Shape              Param #   \n",
            "=================================================================\n",
            " input_4 (InputLayer)        [(None, 1)]               0         \n",
            "                                                                 \n",
            " dense_2 (Dense)             (None, 1)                 2         \n",
            "                                                                 \n",
            "=================================================================\n",
            "Total params: 2\n",
            "Trainable params: 2\n",
            "Non-trainable params: 0\n",
            "_________________________________________________________________\n"
          ]
        },
        {
          "output_type": "display_data",
          "data": {
            "text/plain": [
              "<Figure size 432x288 with 1 Axes>"
            ],
            "image/png": "[encoded data removed]"
          },
          "metadata": {
            "needs_background": "light"
          }
        }
      ]
    },
    {
      "cell_type": "markdown",
      "source": [
        "# Fit the model to the tournament basketball data\n",
        "Now that the model is compiled, you are ready to fit it to some data!\n",
        "\n",
        "In this exercise, you'll use a dataset of scores from US College Basketball tournament games. Each row of the dataset has the team ids: team_1 and team_2, as integers. It also has the seed difference between the teams (seeds are assigned by the tournament committee and represent a ranking of how strong the teams are) and the score difference of the game (e.g. if team_1 wins by 5 points, the score difference is 5).\n",
        "\n",
        "To fit the model, you provide a matrix of X variables (in this case one column: the seed difference) and a matrix of Y variables (in this case one column: the score difference).\n",
        "\n",
        "The games_tourney DataFrame along with the compiled model object is available in your workspace."
      ],
      "metadata": {
        "id": "o-2KEUg0ngCu"
      }
    },
    {
      "cell_type": "code",
      "source": [
        "import pandas as pd \n",
        "import numpy as np\n",
        "games_tourney= pd.read_csv('games_tourney.csv')\n",
        "games_tourney_train= games_tourney.iloc[0:3430, :]\n",
        "games_tourney_test= games_tourney.iloc[3430:, :]\n",
        "games_tourney.head()"
      ],
      "metadata": {
        "colab": {
          "base_uri": "https://localhost:8080/",
          "height": 206
        },
        "id": "l6F_gI2bneCJ",
        "outputId": "b6bd30f1-825b-4e36-b178-1ace869ae34f"
      },
      "execution_count": 8,
      "outputs": [
        {
          "output_type": "execute_result",
          "data": {
            "text/plain": [
              "   season  team_1  team_2  home  seed_diff  score_diff  score_1  score_2  won\n",
              "0    1985     288      73     0         -3          -9       41       50    0\n",
              "1    1985    5929      73     0          4           6       61       55    1\n",
              "2    1985    9884      73     0          5          -4       59       63    0\n",
              "3    1985      73     288     0          3           9       50       41    1\n",
              "4    1985    3920     410     0          1          -9       54       63    0"
            ],
            "text/html": [
              "\n",
              "  <div id=\"df-541b8294-f512-454b-be2c-6fa4aac2c27b\">\n",
              "    <div class=\"colab-df-container\">\n",
              "      <div>\n",
              "<style scoped>\n",
              "    .dataframe tbody tr th:only-of-type {\n",
              "        vertical-align: middle;\n",
              "    }\n",
              "\n",
              "    .dataframe tbody tr th {\n",
              "        vertical-align: top;\n",
              "    }\n",
              "\n",
              "    .dataframe thead th {\n",
              "        text-align: right;\n",
              "    }\n",
              "</style>\n",
              "<table border=\"1\" class=\"dataframe\">\n",
              "  <thead>\n",
              "    <tr style=\"text-align: right;\">\n",
              "      <th></th>\n",
              "      <th>season</th>\n",
              "      <th>team_1</th>\n",
              "      <th>team_2</th>\n",
              "      <th>home</th>\n",
              "      <th>seed_diff</th>\n",
              "      <th>score_diff</th>\n",
              "      <th>score_1</th>\n",
              "      <th>score_2</th>\n",
              "      <th>won</th>\n",
              "    </tr>\n",
              "  </thead>\n",
              "  <tbody>\n",
              "    <tr>\n",
              "      <th>0</th>\n",
              "      <td>1985</td>\n",
              "      <td>288</td>\n",
              "      <td>73</td>\n",
              "      <td>0</td>\n",
              "      <td>-3</td>\n",
              "      <td>-9</td>\n",
              "      <td>41</td>\n",
              "      <td>50</td>\n",
              "      <td>0</td>\n",
              "    </tr>\n",
              "    <tr>\n",
              "      <th>1</th>\n",
              "      <td>1985</td>\n",
              "      <td>5929</td>\n",
              "      <td>73</td>\n",
              "      <td>0</td>\n",
              "      <td>4</td>\n",
              "      <td>6</td>\n",
              "      <td>61</td>\n",
              "      <td>55</td>\n",
              "      <td>1</td>\n",
              "    </tr>\n",
              "    <tr>\n",
              "      <th>2</th>\n",
              "      <td>1985</td>\n",
              "      <td>9884</td>\n",
              "      <td>73</td>\n",
              "      <td>0</td>\n",
              "      <td>5</td>\n",
              "      <td>-4</td>\n",
              "      <td>59</td>\n",
              "      <td>63</td>\n",
              "      <td>0</td>\n",
              "    </tr>\n",
              "    <tr>\n",
              "      <th>3</th>\n",
              "      <td>1985</td>\n",
              "      <td>73</td>\n",
              "      <td>288</td>\n",
              "      <td>0</td>\n",
              "      <td>3</td>\n",
              "      <td>9</td>\n",
              "      <td>50</td>\n",
              "      <td>41</td>\n",
              "      <td>1</td>\n",
              "    </tr>\n",
              "    <tr>\n",
              "      <th>4</th>\n",
              "      <td>1985</td>\n",
              "      <td>3920</td>\n",
              "      <td>410</td>\n",
              "      <td>0</td>\n",
              "      <td>1</td>\n",
              "      <td>-9</td>\n",
              "      <td>54</td>\n",
              "      <td>63</td>\n",
              "      <td>0</td>\n",
              "    </tr>\n",
              "  </tbody>\n",
              "</table>\n",
              "</div>\n",
              "      <button class=\"colab-df-convert\" onclick=\"convertToInteractive('df-541b8294-f512-454b-be2c-6fa4aac2c27b')\"\n",
              "              title=\"Convert this dataframe to an interactive table.\"\n",
              "              style=\"display:none;\">\n",
              "        \n",
              "  <svg xmlns=\"http://www.w3.org/2000/svg\" height=\"24px\"viewBox=\"0 0 24 24\"\n",
              "       width=\"24px\">\n",
              "    <path d=\"M0 0h24v24H0V0z\" fill=\"none\"/>\n",
              "    <path d=\"M18.56 5.44l.94 2.06.94-2.06 2.06-.94-2.06-.94-.94-2.06-.94 2.06-2.06.94zm-11 1L8.5 8.5l.94-2.06 2.06-.94-2.06-.94L8.5 2.5l-.94 2.06-2.06.94zm10 10l.94 2.06.94-2.06 2.06-.94-2.06-.94-.94-2.06-.94 2.06-2.06.94z\"/><path d=\"M17.41 7.96l-1.37-1.37c-.4-.4-.92-.59-1.43-.59-.52 0-1.04.2-1.43.59L10.3 9.45l-7.72 7.72c-.78.78-.78 2.05 0 2.83L4 21.41c.39.39.9.59 1.41.59.51 0 1.02-.2 1.41-.59l7.78-7.78 2.81-2.81c.8-.78.8-2.07 0-2.86zM5.41 20L4 18.59l7.72-7.72 1.47 1.35L5.41 20z\"/>\n",
              "  </svg>\n",
              "      </button>\n",
              "      \n",
              "  <style>\n",
              "    .colab-df-container {\n",
              "      display:flex;\n",
              "      flex-wrap:wrap;\n",
              "      gap: 12px;\n",
              "    }\n",
              "\n",
              "    .colab-df-convert {\n",
              "      background-color: #E8F0FE;\n",
              "      border: none;\n",
              "      border-radius: 50%;\n",
              "      cursor: pointer;\n",
              "      display: none;\n",
              "      fill: #1967D2;\n",
              "      height: 32px;\n",
              "      padding: 0 0 0 0;\n",
              "      width: 32px;\n",
              "    }\n",
              "\n",
              "    .colab-df-convert:hover {\n",
              "      background-color: #E2EBFA;\n",
              "      box-shadow: 0px 1px 2px rgba(60, 64, 67, 0.3), 0px 1px 3px 1px rgba(60, 64, 67, 0.15);\n",
              "      fill: #174EA6;\n",
              "    }\n",
              "\n",
              "    [theme=dark] .colab-df-convert {\n",
              "      background-color: #3B4455;\n",
              "      fill: #D2E3FC;\n",
              "    }\n",
              "\n",
              "    [theme=dark] .colab-df-convert:hover {\n",
              "      background-color: #434B5C;\n",
              "      box-shadow: 0px 1px 3px 1px rgba(0, 0, 0, 0.15);\n",
              "      filter: drop-shadow(0px 1px 2px rgba(0, 0, 0, 0.3));\n",
              "      fill: #FFFFFF;\n",
              "    }\n",
              "  </style>\n",
              "\n",
              "      <script>\n",
              "        const buttonEl =\n",
              "          document.querySelector('#df-541b8294-f512-454b-be2c-6fa4aac2c27b button.colab-df-convert');\n",
              "        buttonEl.style.display =\n",
              "          google.colab.kernel.accessAllowed ? 'block' : 'none';\n",
              "\n",
              "        async function convertToInteractive(key) {\n",
              "          const element = document.querySelector('#df-541b8294-f512-454b-be2c-6fa4aac2c27b');\n",
              "          const dataTable =\n",
              "            await google.colab.kernel.invokeFunction('convertToInteractive',\n",
              "                                                     [key], {});\n",
              "          if (!dataTable) return;\n",
              "\n",
              "          const docLinkHtml = 'Like what you see? Visit the ' +\n",
              "            '<a target=\"_blank\" href=https://colab.research.google.com/notebooks/data_table.ipynb>data table notebook</a>'\n",
              "            + ' to learn more about interactive tables.';\n",
              "          element.innerHTML = '';\n",
              "          dataTable['output_type'] = 'display_data';\n",
              "          await google.colab.output.renderOutput(dataTable, element);\n",
              "          const docLink = document.createElement('div');\n",
              "          docLink.innerHTML = docLinkHtml;\n",
              "          element.appendChild(docLink);\n",
              "        }\n",
              "      </script>\n",
              "    </div>\n",
              "  </div>\n",
              "  "
            ]
          },
          "metadata": {},
          "execution_count": 8
        }
      ]
    },
    {
      "cell_type": "code",
      "source": [
        "# Now fit the model\n",
        "model.fit(games_tourney_train['seed_diff'], games_tourney_train['score_diff'],\n",
        "          epochs=1,\n",
        "          batch_size=128,\n",
        "          validation_split=.10,\n",
        "          verbose=True)"
      ],
      "metadata": {
        "colab": {
          "base_uri": "https://localhost:8080/"
        },
        "id": "-u9xymbcnjNC",
        "outputId": "a79adcbc-161c-4f71-9ee3-2809bc3b18f7"
      },
      "execution_count": 9,
      "outputs": [
        {
          "output_type": "stream",
          "name": "stdout",
          "text": [
            "25/25 [==============================] - 1s 13ms/step - loss: 9.1863 - val_loss: 8.4994\n"
          ]
        },
        {
          "output_type": "execute_result",
          "data": {
            "text/plain": [
              "<keras.callbacks.History at 0x7f47ec69d890>"
            ]
          },
          "metadata": {},
          "execution_count": 9
        }
      ]
    },
    {
      "cell_type": "markdown",
      "source": [
        "# Evaluate the model on a test set\n",
        "After fitting the model, you can evaluate it on new data. You will give the model a new X matrix (also called test data), allow it to make predictions, and then compare to the known y variable (also called target data).\n",
        "\n",
        "In this case, you'll use data from the post-season tournament to evaluate your model. The tournament games happen after the regular season games you used to train our model, and are therefore a good evaluation of how well your model performs out-of-sample.\n",
        "\n",
        "The games_tourney_test DataFrame along with the fitted model object is available in your workspace."
      ],
      "metadata": {
        "id": "XGUgu_Xqnlyt"
      }
    },
    {
      "cell_type": "code",
      "source": [
        "# Load the X variable from the test data\n",
        "X_test = games_tourney_test['seed_diff']\n",
        "\n",
        "# Load the y variable from the test data\n",
        "y_test = games_tourney_test['score_diff']\n",
        "\n",
        "# Evaluate the model on the test data\n",
        "print(model.evaluate(X_test, y_test, verbose=False))"
      ],
      "metadata": {
        "colab": {
          "base_uri": "https://localhost:8080/"
        },
        "id": "ZwI7g87Pnke6",
        "outputId": "718e35c5-a9cc-495c-fb4d-f7ae9afe5b5e"
      },
      "execution_count": 10,
      "outputs": [
        {
          "output_type": "stream",
          "name": "stdout",
          "text": [
            "9.325017929077148\n"
          ]
        }
      ]
    },
    {
      "cell_type": "markdown",
      "source": [
        "# CHAPTER 2\n",
        "1. Create embedding layer\n",
        "2. Create Model with flatten embedding layer and input_layer\n",
        "3. Define both inputs team_1 team_2\n",
        "4. Pass both inputs into model created before\n",
        "5. Subtract both variables in previous step\n",
        "6. Create model with team_1 and team_2 and subtracted \n",
        "7. Compile Fit and Evaulate"
      ],
      "metadata": {
        "id": "03JY-A1vnqBy"
      }
    },
    {
      "cell_type": "markdown",
      "source": [
        "# Define team lookup\n",
        "Shared layers allow a model to use the same weight matrix for multiple steps. In this exercise, you will build a \"team strength\" layer that represents each team by a single number. You will use this number for both teams in the model. The model will learn a number for each team that works well both when the team is team_1 and when the team is team_2 in the input data.\n",
        "\n",
        "The games_season DataFrame is available in your workspace."
      ],
      "metadata": {
        "id": "b0ChIEkNnr3L"
      }
    },
    {
      "cell_type": "code",
      "source": [
        "games_season= pd.read_csv('games_season.csv')\n",
        "games_season.head()"
      ],
      "metadata": {
        "colab": {
          "base_uri": "https://localhost:8080/",
          "height": 206
        },
        "id": "4fh3YTtcnotv",
        "outputId": "890bafe1-c4dc-4ca0-c1dd-a7470f0e6ff1"
      },
      "execution_count": 11,
      "outputs": [
        {
          "output_type": "execute_result",
          "data": {
            "text/plain": [
              "   season  team_1  team_2  home  score_diff  score_1  score_2  won\n",
              "0    1985    3745    6664     0          17       81       64    1\n",
              "1    1985     126    7493     1           7       77       70    1\n",
              "2    1985     288    3593     1           7       63       56    1\n",
              "3    1985    1846    9881     1          16       70       54    1\n",
              "4    1985    2675   10298     1          12       86       74    1"
            ],
            "text/html": [
              "\n",
              "  <div id=\"df-04093de7-a155-49c5-9a60-eb437a2bfa7c\">\n",
              "    <div class=\"colab-df-container\">\n",
              "      <div>\n",
              "<style scoped>\n",
              "    .dataframe tbody tr th:only-of-type {\n",
              "        vertical-align: middle;\n",
              "    }\n",
              "\n",
              "    .dataframe tbody tr th {\n",
              "        vertical-align: top;\n",
              "    }\n",
              "\n",
              "    .dataframe thead th {\n",
              "        text-align: right;\n",
              "    }\n",
              "</style>\n",
              "<table border=\"1\" class=\"dataframe\">\n",
              "  <thead>\n",
              "    <tr style=\"text-align: right;\">\n",
              "      <th></th>\n",
              "      <th>season</th>\n",
              "      <th>team_1</th>\n",
              "      <th>team_2</th>\n",
              "      <th>home</th>\n",
              "      <th>score_diff</th>\n",
              "      <th>score_1</th>\n",
              "      <th>score_2</th>\n",
              "      <th>won</th>\n",
              "    </tr>\n",
              "  </thead>\n",
              "  <tbody>\n",
              "    <tr>\n",
              "      <th>0</th>\n",
              "      <td>1985</td>\n",
              "      <td>3745</td>\n",
              "      <td>6664</td>\n",
              "      <td>0</td>\n",
              "      <td>17</td>\n",
              "      <td>81</td>\n",
              "      <td>64</td>\n",
              "      <td>1</td>\n",
              "    </tr>\n",
              "    <tr>\n",
              "      <th>1</th>\n",
              "      <td>1985</td>\n",
              "      <td>126</td>\n",
              "      <td>7493</td>\n",
              "      <td>1</td>\n",
              "      <td>7</td>\n",
              "      <td>77</td>\n",
              "      <td>70</td>\n",
              "      <td>1</td>\n",
              "    </tr>\n",
              "    <tr>\n",
              "      <th>2</th>\n",
              "      <td>1985</td>\n",
              "      <td>288</td>\n",
              "      <td>3593</td>\n",
              "      <td>1</td>\n",
              "      <td>7</td>\n",
              "      <td>63</td>\n",
              "      <td>56</td>\n",
              "      <td>1</td>\n",
              "    </tr>\n",
              "    <tr>\n",
              "      <th>3</th>\n",
              "      <td>1985</td>\n",
              "      <td>1846</td>\n",
              "      <td>9881</td>\n",
              "      <td>1</td>\n",
              "      <td>16</td>\n",
              "      <td>70</td>\n",
              "      <td>54</td>\n",
              "      <td>1</td>\n",
              "    </tr>\n",
              "    <tr>\n",
              "      <th>4</th>\n",
              "      <td>1985</td>\n",
              "      <td>2675</td>\n",
              "      <td>10298</td>\n",
              "      <td>1</td>\n",
              "      <td>12</td>\n",
              "      <td>86</td>\n",
              "      <td>74</td>\n",
              "      <td>1</td>\n",
              "    </tr>\n",
              "  </tbody>\n",
              "</table>\n",
              "</div>\n",
              "      <button class=\"colab-df-convert\" onclick=\"convertToInteractive('df-04093de7-a155-49c5-9a60-eb437a2bfa7c')\"\n",
              "              title=\"Convert this dataframe to an interactive table.\"\n",
              "              style=\"display:none;\">\n",
              "        \n",
              "  <svg xmlns=\"http://www.w3.org/2000/svg\" height=\"24px\"viewBox=\"0 0 24 24\"\n",
              "       width=\"24px\">\n",
              "    <path d=\"M0 0h24v24H0V0z\" fill=\"none\"/>\n",
              "    <path d=\"M18.56 5.44l.94 2.06.94-2.06 2.06-.94-2.06-.94-.94-2.06-.94 2.06-2.06.94zm-11 1L8.5 8.5l.94-2.06 2.06-.94-2.06-.94L8.5 2.5l-.94 2.06-2.06.94zm10 10l.94 2.06.94-2.06 2.06-.94-2.06-.94-.94-2.06-.94 2.06-2.06.94z\"/><path d=\"M17.41 7.96l-1.37-1.37c-.4-.4-.92-.59-1.43-.59-.52 0-1.04.2-1.43.59L10.3 9.45l-7.72 7.72c-.78.78-.78 2.05 0 2.83L4 21.41c.39.39.9.59 1.41.59.51 0 1.02-.2 1.41-.59l7.78-7.78 2.81-2.81c.8-.78.8-2.07 0-2.86zM5.41 20L4 18.59l7.72-7.72 1.47 1.35L5.41 20z\"/>\n",
              "  </svg>\n",
              "      </button>\n",
              "      \n",
              "  <style>\n",
              "    .colab-df-container {\n",
              "      display:flex;\n",
              "      flex-wrap:wrap;\n",
              "      gap: 12px;\n",
              "    }\n",
              "\n",
              "    .colab-df-convert {\n",
              "      background-color: #E8F0FE;\n",
              "      border: none;\n",
              "      border-radius: 50%;\n",
              "      cursor: pointer;\n",
              "      display: none;\n",
              "      fill: #1967D2;\n",
              "      height: 32px;\n",
              "      padding: 0 0 0 0;\n",
              "      width: 32px;\n",
              "    }\n",
              "\n",
              "    .colab-df-convert:hover {\n",
              "      background-color: #E2EBFA;\n",
              "      box-shadow: 0px 1px 2px rgba(60, 64, 67, 0.3), 0px 1px 3px 1px rgba(60, 64, 67, 0.15);\n",
              "      fill: #174EA6;\n",
              "    }\n",
              "\n",
              "    [theme=dark] .colab-df-convert {\n",
              "      background-color: #3B4455;\n",
              "      fill: #D2E3FC;\n",
              "    }\n",
              "\n",
              "    [theme=dark] .colab-df-convert:hover {\n",
              "      background-color: #434B5C;\n",
              "      box-shadow: 0px 1px 3px 1px rgba(0, 0, 0, 0.15);\n",
              "      filter: drop-shadow(0px 1px 2px rgba(0, 0, 0, 0.3));\n",
              "      fill: #FFFFFF;\n",
              "    }\n",
              "  </style>\n",
              "\n",
              "      <script>\n",
              "        const buttonEl =\n",
              "          document.querySelector('#df-04093de7-a155-49c5-9a60-eb437a2bfa7c button.colab-df-convert');\n",
              "        buttonEl.style.display =\n",
              "          google.colab.kernel.accessAllowed ? 'block' : 'none';\n",
              "\n",
              "        async function convertToInteractive(key) {\n",
              "          const element = document.querySelector('#df-04093de7-a155-49c5-9a60-eb437a2bfa7c');\n",
              "          const dataTable =\n",
              "            await google.colab.kernel.invokeFunction('convertToInteractive',\n",
              "                                                     [key], {});\n",
              "          if (!dataTable) return;\n",
              "\n",
              "          const docLinkHtml = 'Like what you see? Visit the ' +\n",
              "            '<a target=\"_blank\" href=https://colab.research.google.com/notebooks/data_table.ipynb>data table notebook</a>'\n",
              "            + ' to learn more about interactive tables.';\n",
              "          element.innerHTML = '';\n",
              "          dataTable['output_type'] = 'display_data';\n",
              "          await google.colab.output.renderOutput(dataTable, element);\n",
              "          const docLink = document.createElement('div');\n",
              "          docLink.innerHTML = docLinkHtml;\n",
              "          element.appendChild(docLink);\n",
              "        }\n",
              "      </script>\n",
              "    </div>\n",
              "  </div>\n",
              "  "
            ]
          },
          "metadata": {},
          "execution_count": 11
        }
      ]
    },
    {
      "cell_type": "code",
      "source": [
        "#  imports \n",
        "from tensorflow.keras.layers import Embedding\n",
        "from numpy import unique \n",
        "\n",
        "# count the number of unique number of teams\n",
        "n_teams= unique(games_season.team_1).shape[0]\n",
        "\n",
        "# Create an embedding layer that maps each team ID to a single number representing that team's strength.\n",
        "# output shape should be 1 dimension (as we want to represent the teams by a single number).\n",
        "# input length should be 1 dimension (as each team is represented by exactly one id)\n",
        "team_lookup= Embedding(input_dim= n_teams, output_dim=1, input_length=1, name='Team-Strength')"
      ],
      "metadata": {
        "id": "dPz02zbLntqy"
      },
      "execution_count": 12,
      "outputs": []
    },
    {
      "cell_type": "markdown",
      "source": [
        "# Define team model\n",
        "The team strength lookup has three components: an input, an embedding layer, and a flatten layer that creates the output.\n",
        "\n",
        "If you wrap these three layers in a model with an input and output, you can re-use that stack of three layers at multiple places.\n",
        "\n",
        "Note again that the weights for all three layers will be shared everywhere we use them."
      ],
      "metadata": {
        "id": "1zELu1GInxPd"
      }
    },
    {
      "cell_type": "code",
      "source": [
        "# Imports\n",
        "from tensorflow.keras.layers import Input, Embedding, Flatten\n",
        "from tensorflow.keras.models import Model\n",
        "\n",
        "# Create an input layer for the team ID\n",
        "teamid_in = Input(shape=(1,))\n",
        "\n",
        "# Lookup the input in the team strength embedding layer\n",
        "strength_lookup = team_lookup(teamid_in)\n",
        "\n",
        "# Flatten the output\n",
        "strength_lookup_flat = Flatten()(strength_lookup)\n",
        "\n",
        "# Combine the operations into a single, re-usable model\n",
        "team_strength_model = Model(teamid_in, strength_lookup_flat, name='Team-Strength-Model')"
      ],
      "metadata": {
        "id": "FblIydWAnvJ4"
      },
      "execution_count": 13,
      "outputs": []
    },
    {
      "cell_type": "markdown",
      "source": [
        "# Defining two inputs\n",
        "In this exercise, you will define two input layers for the two teams in your model. This allows you to specify later in the model how the data from each team will be used differently."
      ],
      "metadata": {
        "id": "rI_hl_-Dnz-o"
      }
    },
    {
      "cell_type": "code",
      "source": [
        "# Load the input layer from tensorflow.keras.layers\n",
        "from tensorflow.keras.layers import Input\n",
        "\n",
        "# Input layer for team 1\n",
        "team_in_1 = Input(shape=(1,), name='Team-1-In')\n",
        "\n",
        "# Separate input layer for team 2\n",
        "team_in_2 = Input(shape=(1,), name='Team-2-In')"
      ],
      "metadata": {
        "id": "cH0peeQdnzaN"
      },
      "execution_count": 14,
      "outputs": []
    },
    {
      "cell_type": "markdown",
      "source": [
        "# Lookup both inputs in the same model\n",
        "Now that you have a team strength model and an input layer for each team, you can lookup the team inputs in the shared team strength model. The two inputs will share the same weights.\n",
        "\n",
        "In this dataset, you have 10,888 unique teams. You want to learn a strength rating for each team, such that if any pair of teams plays each other, you can predict the score, even if those two teams have never played before. Furthermore, you want the strength rating to be the same, regardless of whether the team is the home team or the away team.\n",
        "\n",
        "To achieve this, you use a shared layer, defined by the re-usable model (team_strength_model()) you built in exercise 3 and the two input layers (team_in_1 and team_in_2) from the previous exercise, all of which are available in your workspace."
      ],
      "metadata": {
        "id": "qD8MED6Vn4TV"
      }
    },
    {
      "cell_type": "code",
      "source": [
        "# Lookup team 1 in the team strength model\n",
        "team_1_strength = team_strength_model(team_in_1)\n",
        "\n",
        "# Lookup team 2 in the team strength model\n",
        "team_2_strength = team_strength_model(team_in_2)"
      ],
      "metadata": {
        "id": "W9_vZ2SOn2r0"
      },
      "execution_count": 15,
      "outputs": []
    },
    {
      "cell_type": "markdown",
      "source": [
        "# Output layer using shared layer\n",
        "Now that you've looked up how \"strong\" each team is, subtract the team strengths to determine which team is expected to win the game.\n",
        "\n",
        "This is a bit like the seeds that the tournament committee uses, which are also a measure of team strength. But rather than using seed differences to predict score differences, you'll use the difference of your own team strength model to predict score differences.\n",
        "\n",
        "The subtract layer will combine the weights from the two layers by subtracting them."
      ],
      "metadata": {
        "id": "e5YTLaVNn7yo"
      }
    },
    {
      "cell_type": "code",
      "source": [
        "# Import the Subtract layer from tensorflow.keras\n",
        "from tensorflow.keras.layers import Subtract\n",
        "\n",
        "# Create a subtract layer using the inputs from the previous exercise\n",
        "score_diff = Subtract()([team_1_strength, team_2_strength])"
      ],
      "metadata": {
        "id": "zg5g9bGMn6qM"
      },
      "execution_count": 16,
      "outputs": []
    },
    {
      "cell_type": "markdown",
      "source": [
        "# Model using two inputs and one output\n",
        "Now that you have your two inputs (team id 1 and team id 2) and output (score difference), you can wrap them up in a model so you can use it later for fitting to data and evaluating on new data.\n",
        "\n",
        "Your model will look like the following diagram:"
      ],
      "metadata": {
        "id": "WChnjaKZoAYI"
      }
    },
    {
      "cell_type": "code",
      "source": [
        "# Imports\n",
        "from tensorflow.keras.layers import Subtract\n",
        "from tensorflow.keras.models import Model\n",
        "\n",
        "# Subtraction layer from previous exercise\n",
        "score_diff = Subtract()([team_1_strength, team_2_strength])\n",
        "\n",
        "# Create the model\n",
        "model = Model([team_in_1, team_in_2], score_diff)\n",
        "\n",
        "# Compile the model\n",
        "model.compile(optimizer='adam', loss='mean_absolute_error')"
      ],
      "metadata": {
        "id": "Ch89bQrxn-kN"
      },
      "execution_count": 17,
      "outputs": []
    },
    {
      "cell_type": "markdown",
      "source": [
        "# Fit the model to the regular season training data\n",
        "Now that you've defined a complete team strength model, you can fit it to the basketball data! Since your model has two inputs now, you need to pass the input data as a list."
      ],
      "metadata": {
        "id": "RFx3HqgkoEqm"
      }
    },
    {
      "cell_type": "code",
      "source": [
        "# Get the team_1 column from the regular season data\n",
        "input_1 = games_season['team_1']\n",
        "\n",
        "# Get the team_2 column from the regular season data\n",
        "input_2 = games_season['team_2']\n",
        "\n",
        "# Fit the model to input 1 and 2, using score diff as a target\n",
        "model.fit([input_1, input_2],\n",
        "          games_season['score_diff'],\n",
        "          epochs=1,\n",
        "          batch_size=2048,\n",
        "          validation_split=0.10,\n",
        "          verbose=True)"
      ],
      "metadata": {
        "colab": {
          "base_uri": "https://localhost:8080/"
        },
        "id": "gi04cqdcoDBU",
        "outputId": "d2bf886c-9f83-490e-c814-b22eef404c81"
      },
      "execution_count": 18,
      "outputs": [
        {
          "output_type": "stream",
          "name": "stdout",
          "text": [
            "138/138 [==============================] - 1s 4ms/step - loss: 12.1204 - val_loss: 11.8383\n"
          ]
        },
        {
          "output_type": "execute_result",
          "data": {
            "text/plain": [
              "<keras.callbacks.History at 0x7f47e9d48310>"
            ]
          },
          "metadata": {},
          "execution_count": 18
        }
      ]
    },
    {
      "cell_type": "markdown",
      "source": [
        "# Evaluate the model on the tournament test data\n",
        "The model you fit to the regular season data (model) in the previous exercise and the tournament dataset (games_tourney) are available in your workspace.\n",
        "\n",
        "In this exercise, you will evaluate the model on this new dataset. This evaluation will tell you how well you can predict the tournament games, based on a model trained with the regular season data. This is interesting because many teams play each other in the tournament that did not play in the regular season, so this is a very good check that your model is not overfitting."
      ],
      "metadata": {
        "id": "k0jReIbEoJa2"
      }
    },
    {
      "cell_type": "code",
      "source": [
        "# Get team_1 from the tournament data\n",
        "input_1 = games_tourney['team_1']\n",
        "\n",
        "# Get team_2 from the tournament data\n",
        "input_2 = games_tourney['team_2']\n",
        "\n",
        "# Evaluate the model using these inputs\n",
        "print(model.evaluate([input_1, input_2], games_tourney['score_diff'], verbose=False))"
      ],
      "metadata": {
        "colab": {
          "base_uri": "https://localhost:8080/"
        },
        "id": "5eNba9HKoGqi",
        "outputId": "aa3aa7e4-7e28-4a99-a89e-753efea8cadc"
      },
      "execution_count": 19,
      "outputs": [
        {
          "output_type": "stream",
          "name": "stdout",
          "text": [
            "11.681192398071289\n"
          ]
        }
      ]
    },
    {
      "cell_type": "markdown",
      "source": [
        "# CHAPTER 3\n",
        "\n",
        "1. Make 3 inputs (team1, team2, home)\n",
        "2. Create model, compile, fit \n",
        "3. Add prediction to tournament data using regular seaon model"
      ],
      "metadata": {
        "id": "MJ754NxLoMig"
      }
    },
    {
      "cell_type": "markdown",
      "source": [
        "# Make an input layer for home vs. away\n",
        "Now you will make an improvement to the model you used in the previous chapter for regular season games. You know there is a well-documented home-team advantage in basketball, so you will add a new input to your model to capture this effect.\n",
        "\n",
        "This model will have three inputs: team_id_1, team_id_2, and home. The team IDs will be integers that you look up in your team strength model from the previous chapter, and home will be a binary variable, 1 if team_1 is playing at home, 0 if they are not.\n",
        "\n",
        "The team_strength_model you used in the previous chapter has been loaded into your workspace. After applying it to each input, use a Concatenate layer to join the two team strengths and with the home vs away variable, and pass the result to a Dense layer."
      ],
      "metadata": {
        "id": "5RWgJj5PoMlI"
      }
    },
    {
      "cell_type": "code",
      "source": [
        "from tensorflow.keras.layers import Concatenate, Add\n",
        "# Create an Input for each team\n",
        "team_in_1 = Input(shape=(1,), name='Team-1-In')\n",
        "team_in_2 = Input(shape=(1,), name='Team-2-In')\n",
        "\n",
        "# Create an input for home vs away\n",
        "home_in = Input(shape=(1,), name='Home-In')\n",
        "\n",
        "# Lookup the team inputs in the team strength model\n",
        "team_1_strength = team_strength_model(team_in_1)\n",
        "team_2_strength = team_strength_model(team_in_2)\n",
        "\n",
        "# Combine the team strengths with the home input using a Concatenate layer, then add a Dense layer\n",
        "out = Concatenate()([team_1_strength, team_2_strength, home_in])\n",
        "out = Dense(1)(out)"
      ],
      "metadata": {
        "id": "_3srBug9oLXC"
      },
      "execution_count": 20,
      "outputs": []
    },
    {
      "cell_type": "markdown",
      "source": [
        "# Make a model and compile it\n",
        "Now that you've input and output layers for the 3-input model, wrap them up in a Keras model class, and then compile the model, so you can fit it to data and use it to make predictions on new data."
      ],
      "metadata": {
        "id": "GVmB2bC_oS6l"
      }
    },
    {
      "cell_type": "code",
      "source": [
        "# Import the model class\n",
        "from tensorflow.keras.models import Model\n",
        "\n",
        "# Make a Model\n",
        "model = Model([team_in_1, team_in_2, home_in], out)\n",
        "\n",
        "# Compile the model\n",
        "model.compile(optimizer='adam', loss='mean_absolute_error')"
      ],
      "metadata": {
        "id": "3IT_w0C_oRt8"
      },
      "execution_count": 21,
      "outputs": []
    },
    {
      "cell_type": "markdown",
      "source": [
        "# Fit the model and evaluate\n",
        "Now that you've defined a new model, fit it to the regular season basketball data.\n",
        "\n",
        "Use the model you fit in the previous exercise (which was trained on the regular season data) and evaluate the model on data for tournament games (games_tourney)."
      ],
      "metadata": {
        "id": "E7x4kg6JprhM"
      }
    },
    {
      "cell_type": "code",
      "source": [
        "# Fit the model to the games_season dataset\n",
        "model.fit([games_season.team_1, games_season.team_2, games_season.home],\n",
        "          games_season.score_diff,\n",
        "          epochs=1,\n",
        "          verbose=True,\n",
        "          validation_split=.10,\n",
        "          batch_size=2048)\n",
        "\n",
        "# Evaluate the model on the games_tourney dataset\n",
        "print(model.evaluate([games_tourney.team_1, games_tourney.team_2, games_tourney.home], games_tourney.score_diff, verbose=False))"
      ],
      "metadata": {
        "colab": {
          "base_uri": "https://localhost:8080/"
        },
        "id": "j7b-Uygxpp7j",
        "outputId": "3272652d-aac2-48fc-f14a-15973d53dbd2"
      },
      "execution_count": 22,
      "outputs": [
        {
          "output_type": "stream",
          "name": "stdout",
          "text": [
            "138/138 [==============================] - 3s 11ms/step - loss: 12.1430 - val_loss: 11.9974\n",
            "11.68924617767334\n"
          ]
        }
      ]
    },
    {
      "cell_type": "markdown",
      "source": [
        "# Model summaries\n",
        "In this exercise, you will take a closer look at the summary of one of your 3-input models available in your workspace as model. Note how many layers the model has, how many parameters it has, and how many of those parameters are trainable/non-trainable."
      ],
      "metadata": {
        "id": "z0BeVVhtsHdZ"
      }
    },
    {
      "cell_type": "code",
      "source": [
        "model.summary()"
      ],
      "metadata": {
        "colab": {
          "base_uri": "https://localhost:8080/"
        },
        "id": "zLzdRt_Uqity",
        "outputId": "29ee5a37-da1f-46f9-d511-1db17ea59703"
      },
      "execution_count": 23,
      "outputs": [
        {
          "output_type": "stream",
          "name": "stdout",
          "text": [
            "Model: \"model_2\"\n",
            "__________________________________________________________________________________________________\n",
            " Layer (type)                   Output Shape         Param #     Connected to                     \n",
            "==================================================================================================\n",
            " Team-1-In (InputLayer)         [(None, 1)]          0           []                               \n",
            "                                                                                                  \n",
            " Team-2-In (InputLayer)         [(None, 1)]          0           []                               \n",
            "                                                                                                  \n",
            " Team-Strength-Model (Functiona  (None, 1)           10888       ['Team-1-In[0][0]',              \n",
            " l)                                                               'Team-2-In[0][0]']              \n",
            "                                                                                                  \n",
            " Home-In (InputLayer)           [(None, 1)]          0           []                               \n",
            "                                                                                                  \n",
            " concatenate (Concatenate)      (None, 3)            0           ['Team-Strength-Model[2][0]',    \n",
            "                                                                  'Team-Strength-Model[3][0]',    \n",
            "                                                                  'Home-In[0][0]']                \n",
            "                                                                                                  \n",
            " dense_3 (Dense)                (None, 1)            4           ['concatenate[0][0]']            \n",
            "                                                                                                  \n",
            "==================================================================================================\n",
            "Total params: 10,892\n",
            "Trainable params: 10,892\n",
            "Non-trainable params: 0\n",
            "__________________________________________________________________________________________________\n"
          ]
        }
      ]
    },
    {
      "cell_type": "markdown",
      "source": [
        "# Plotting models\n",
        "In addition to summarizing your model, you can also plot your model to get a more intuitive sense of it. Your model is available in the workspace."
      ],
      "metadata": {
        "id": "snihUktCsSBZ"
      }
    },
    {
      "cell_type": "code",
      "source": [
        "# Imports\n",
        "import matplotlib.pyplot as plt\n",
        "from tensorflow.keras.utils import plot_model\n",
        "\n",
        "# Plot the model\n",
        "plot_model(model, to_file='model.png')\n",
        "\n",
        "# Display the image\n",
        "data = plt.imread('model.png')\n",
        "plt.imshow(data)\n",
        "plt.show()\n",
        "\n",
        "# Model has 3 input layers\n",
        "# 1 output layer\n",
        "# Team-strength model is shared by two inputs"
      ],
      "metadata": {
        "colab": {
          "base_uri": "https://localhost:8080/",
          "height": 248
        },
        "id": "ryFu8dP3sJCd",
        "outputId": "25aebe3f-8042-4512-df66-ae3d3d55a4e7"
      },
      "execution_count": 24,
      "outputs": [
        {
          "output_type": "display_data",
          "data": {
            "text/plain": [
              "<Figure size 432x288 with 1 Axes>"
            ],
            "image/png": "[encoded data removed]"
          },
          "metadata": {
            "needs_background": "light"
          }
        }
      ]
    },
    {
      "cell_type": "markdown",
      "source": [
        "# Add the model predictions to the tournament data\n",
        "In lesson 1 of this chapter, you used the regular season model to make predictions on the tournament dataset, and got pretty good results! Try to improve your predictions for the tournament by modeling it specifically.\n",
        "\n",
        "You'll use the prediction from the regular season model as an input to the tournament model. This is a form of \"model stacking.\"\n",
        "\n",
        "To start, take the regular season model from the previous lesson, and predict on the tournament data. Add this prediction to the tournament data as a new column."
      ],
      "metadata": {
        "id": "FG4hIZ8ouh9d"
      }
    },
    {
      "cell_type": "code",
      "source": [
        "# predict on tourney data using model for reg season\n",
        "games_tourney['pred']= model.predict([games_tourney.team_1, games_tourney.team_2, games_tourney.home])"
      ],
      "metadata": {
        "id": "KiVkK8ufsmaO"
      },
      "execution_count": 25,
      "outputs": []
    },
    {
      "cell_type": "markdown",
      "source": [
        "# Create an input layer with multiple columns\n",
        "In this exercise, you will look at a different way to create models with multiple inputs. This method only works for purely numeric data, but its a much simpler approach to making multi-variate neural networks.\n",
        "\n",
        "Now you have three numeric columns in the tournament dataset: 'seed_diff', 'home', and 'pred'. In this exercise, you will create a neural network that uses a single input layer to process all three of these numeric inputs.\n",
        "\n",
        "This model should have a single output to predict the tournament game score difference."
      ],
      "metadata": {
        "id": "cTmxAfXjvZjY"
      }
    },
    {
      "cell_type": "code",
      "source": [
        "games_tourney.head()"
      ],
      "metadata": {
        "colab": {
          "base_uri": "https://localhost:8080/",
          "height": 206
        },
        "id": "Vjsl2cKRvXUn",
        "outputId": "3fae9005-6880-4e56-ed94-fa6065101b30"
      },
      "execution_count": 26,
      "outputs": [
        {
          "output_type": "execute_result",
          "data": {
            "text/plain": [
              "   season  team_1  team_2  home  seed_diff  score_diff  score_1  score_2  won  \\\n",
              "0    1985     288      73     0         -3          -9       41       50    0   \n",
              "1    1985    5929      73     0          4           6       61       55    1   \n",
              "2    1985    9884      73     0          5          -4       59       63    0   \n",
              "3    1985      73     288     0          3           9       50       41    1   \n",
              "4    1985    3920     410     0          1          -9       54       63    0   \n",
              "\n",
              "       pred  \n",
              "0  0.139310  \n",
              "1  0.183055  \n",
              "2  0.136148  \n",
              "3  0.129226  \n",
              "4  0.092624  "
            ],
            "text/html": [
              "\n",
              "  <div id=\"df-a69f3c06-c375-4fe9-b415-fc1bba015e40\">\n",
              "    <div class=\"colab-df-container\">\n",
              "      <div>\n",
              "<style scoped>\n",
              "    .dataframe tbody tr th:only-of-type {\n",
              "        vertical-align: middle;\n",
              "    }\n",
              "\n",
              "    .dataframe tbody tr th {\n",
              "        vertical-align: top;\n",
              "    }\n",
              "\n",
              "    .dataframe thead th {\n",
              "        text-align: right;\n",
              "    }\n",
              "</style>\n",
              "<table border=\"1\" class=\"dataframe\">\n",
              "  <thead>\n",
              "    <tr style=\"text-align: right;\">\n",
              "      <th></th>\n",
              "      <th>season</th>\n",
              "      <th>team_1</th>\n",
              "      <th>team_2</th>\n",
              "      <th>home</th>\n",
              "      <th>seed_diff</th>\n",
              "      <th>score_diff</th>\n",
              "      <th>score_1</th>\n",
              "      <th>score_2</th>\n",
              "      <th>won</th>\n",
              "      <th>pred</th>\n",
              "    </tr>\n",
              "  </thead>\n",
              "  <tbody>\n",
              "    <tr>\n",
              "      <th>0</th>\n",
              "      <td>1985</td>\n",
              "      <td>288</td>\n",
              "      <td>73</td>\n",
              "      <td>0</td>\n",
              "      <td>-3</td>\n",
              "      <td>-9</td>\n",
              "      <td>41</td>\n",
              "      <td>50</td>\n",
              "      <td>0</td>\n",
              "      <td>0.139310</td>\n",
              "    </tr>\n",
              "    <tr>\n",
              "      <th>1</th>\n",
              "      <td>1985</td>\n",
              "      <td>5929</td>\n",
              "      <td>73</td>\n",
              "      <td>0</td>\n",
              "      <td>4</td>\n",
              "      <td>6</td>\n",
              "      <td>61</td>\n",
              "      <td>55</td>\n",
              "      <td>1</td>\n",
              "      <td>0.183055</td>\n",
              "    </tr>\n",
              "    <tr>\n",
              "      <th>2</th>\n",
              "      <td>1985</td>\n",
              "      <td>9884</td>\n",
              "      <td>73</td>\n",
              "      <td>0</td>\n",
              "      <td>5</td>\n",
              "      <td>-4</td>\n",
              "      <td>59</td>\n",
              "      <td>63</td>\n",
              "      <td>0</td>\n",
              "      <td>0.136148</td>\n",
              "    </tr>\n",
              "    <tr>\n",
              "      <th>3</th>\n",
              "      <td>1985</td>\n",
              "      <td>73</td>\n",
              "      <td>288</td>\n",
              "      <td>0</td>\n",
              "      <td>3</td>\n",
              "      <td>9</td>\n",
              "      <td>50</td>\n",
              "      <td>41</td>\n",
              "      <td>1</td>\n",
              "      <td>0.129226</td>\n",
              "    </tr>\n",
              "    <tr>\n",
              "      <th>4</th>\n",
              "      <td>1985</td>\n",
              "      <td>3920</td>\n",
              "      <td>410</td>\n",
              "      <td>0</td>\n",
              "      <td>1</td>\n",
              "      <td>-9</td>\n",
              "      <td>54</td>\n",
              "      <td>63</td>\n",
              "      <td>0</td>\n",
              "      <td>0.092624</td>\n",
              "    </tr>\n",
              "  </tbody>\n",
              "</table>\n",
              "</div>\n",
              "      <button class=\"colab-df-convert\" onclick=\"convertToInteractive('df-a69f3c06-c375-4fe9-b415-fc1bba015e40')\"\n",
              "              title=\"Convert this dataframe to an interactive table.\"\n",
              "              style=\"display:none;\">\n",
              "        \n",
              "  <svg xmlns=\"http://www.w3.org/2000/svg\" height=\"24px\"viewBox=\"0 0 24 24\"\n",
              "       width=\"24px\">\n",
              "    <path d=\"M0 0h24v24H0V0z\" fill=\"none\"/>\n",
              "    <path d=\"M18.56 5.44l.94 2.06.94-2.06 2.06-.94-2.06-.94-.94-2.06-.94 2.06-2.06.94zm-11 1L8.5 8.5l.94-2.06 2.06-.94-2.06-.94L8.5 2.5l-.94 2.06-2.06.94zm10 10l.94 2.06.94-2.06 2.06-.94-2.06-.94-.94-2.06-.94 2.06-2.06.94z\"/><path d=\"M17.41 7.96l-1.37-1.37c-.4-.4-.92-.59-1.43-.59-.52 0-1.04.2-1.43.59L10.3 9.45l-7.72 7.72c-.78.78-.78 2.05 0 2.83L4 21.41c.39.39.9.59 1.41.59.51 0 1.02-.2 1.41-.59l7.78-7.78 2.81-2.81c.8-.78.8-2.07 0-2.86zM5.41 20L4 18.59l7.72-7.72 1.47 1.35L5.41 20z\"/>\n",
              "  </svg>\n",
              "      </button>\n",
              "      \n",
              "  <style>\n",
              "    .colab-df-container {\n",
              "      display:flex;\n",
              "      flex-wrap:wrap;\n",
              "      gap: 12px;\n",
              "    }\n",
              "\n",
              "    .colab-df-convert {\n",
              "      background-color: #E8F0FE;\n",
              "      border: none;\n",
              "      border-radius: 50%;\n",
              "      cursor: pointer;\n",
              "      display: none;\n",
              "      fill: #1967D2;\n",
              "      height: 32px;\n",
              "      padding: 0 0 0 0;\n",
              "      width: 32px;\n",
              "    }\n",
              "\n",
              "    .colab-df-convert:hover {\n",
              "      background-color: #E2EBFA;\n",
              "      box-shadow: 0px 1px 2px rgba(60, 64, 67, 0.3), 0px 1px 3px 1px rgba(60, 64, 67, 0.15);\n",
              "      fill: #174EA6;\n",
              "    }\n",
              "\n",
              "    [theme=dark] .colab-df-convert {\n",
              "      background-color: #3B4455;\n",
              "      fill: #D2E3FC;\n",
              "    }\n",
              "\n",
              "    [theme=dark] .colab-df-convert:hover {\n",
              "      background-color: #434B5C;\n",
              "      box-shadow: 0px 1px 3px 1px rgba(0, 0, 0, 0.15);\n",
              "      filter: drop-shadow(0px 1px 2px rgba(0, 0, 0, 0.3));\n",
              "      fill: #FFFFFF;\n",
              "    }\n",
              "  </style>\n",
              "\n",
              "      <script>\n",
              "        const buttonEl =\n",
              "          document.querySelector('#df-a69f3c06-c375-4fe9-b415-fc1bba015e40 button.colab-df-convert');\n",
              "        buttonEl.style.display =\n",
              "          google.colab.kernel.accessAllowed ? 'block' : 'none';\n",
              "\n",
              "        async function convertToInteractive(key) {\n",
              "          const element = document.querySelector('#df-a69f3c06-c375-4fe9-b415-fc1bba015e40');\n",
              "          const dataTable =\n",
              "            await google.colab.kernel.invokeFunction('convertToInteractive',\n",
              "                                                     [key], {});\n",
              "          if (!dataTable) return;\n",
              "\n",
              "          const docLinkHtml = 'Like what you see? Visit the ' +\n",
              "            '<a target=\"_blank\" href=https://colab.research.google.com/notebooks/data_table.ipynb>data table notebook</a>'\n",
              "            + ' to learn more about interactive tables.';\n",
              "          element.innerHTML = '';\n",
              "          dataTable['output_type'] = 'display_data';\n",
              "          await google.colab.output.renderOutput(dataTable, element);\n",
              "          const docLink = document.createElement('div');\n",
              "          docLink.innerHTML = docLinkHtml;\n",
              "          element.appendChild(docLink);\n",
              "        }\n",
              "      </script>\n",
              "    </div>\n",
              "  </div>\n",
              "  "
            ]
          },
          "metadata": {},
          "execution_count": 26
        }
      ]
    },
    {
      "cell_type": "code",
      "source": [
        "# Create an input layer with 3 columns\n",
        "input_tensor = Input(shape=(3,))\n",
        "\n",
        "# Pass it to a Dense layer with 1 unit\n",
        "output_tensor = Dense(1)(input_tensor)\n",
        "\n",
        "# Create a model\n",
        "model = Model(input_tensor, output_tensor)\n",
        "\n",
        "# Compile the model\n",
        "model.compile(optimizer='adam', loss='mean_absolute_error')"
      ],
      "metadata": {
        "id": "j8WQR9ldvf2O"
      },
      "execution_count": 27,
      "outputs": []
    },
    {
      "cell_type": "markdown",
      "source": [
        "# Fit the model\n",
        "Now that you've enriched the tournament dataset and built a model to make use of the new data, fit that model to the tournament data.\n",
        "\n",
        "Note that this model has only one input layer that is capable of handling all 3 inputs, so it's inputs and outputs do not need to be a list.\n",
        "\n",
        "Tournament games are split into a training set and a test set. The tournament games before 2010 are in the training set, and the ones after 2010 are in the test set."
      ],
      "metadata": {
        "id": "J0kP_qwSwZA_"
      }
    },
    {
      "cell_type": "code",
      "source": [
        "games_tourney_train= games_tourney.iloc[0:3168, ]\n",
        "games_tourney_test= games_tourney.iloc[3168: , ]\n",
        "print(games_tourney_train.shape, games_tourney_test.shape)"
      ],
      "metadata": {
        "colab": {
          "base_uri": "https://localhost:8080/"
        },
        "id": "ppmSjWhLwSX9",
        "outputId": "62cf83dd-912c-4f88-e540-87ce9d4dc188"
      },
      "execution_count": 29,
      "outputs": [
        {
          "output_type": "stream",
          "name": "stdout",
          "text": [
            "(3168, 10) (1066, 10)\n"
          ]
        }
      ]
    },
    {
      "cell_type": "code",
      "source": [
        "# Fit the model\n",
        "model.fit(games_tourney_train[['home', 'seed_diff', 'pred']],\n",
        "          games_tourney_train['score_diff'],\n",
        "          epochs=1,\n",
        "          verbose=True)"
      ],
      "metadata": {
        "colab": {
          "base_uri": "https://localhost:8080/"
        },
        "id": "vAq8Y0R7wzW5",
        "outputId": "12388189-80f4-4f9b-ffaa-9774185533e9"
      },
      "execution_count": 30,
      "outputs": [
        {
          "output_type": "stream",
          "name": "stdout",
          "text": [
            "99/99 [==============================] - 1s 4ms/step - loss: 9.7372\n"
          ]
        },
        {
          "output_type": "execute_result",
          "data": {
            "text/plain": [
              "<keras.callbacks.History at 0x7f47ecc8c1d0>"
            ]
          },
          "metadata": {},
          "execution_count": 30
        }
      ]
    },
    {
      "cell_type": "markdown",
      "source": [
        "# Evaluate the model\n",
        "Now that you've fit your model to the tournament training data, evaluate it on the tournament test data. Recall that the tournament test data contains games from after 2010."
      ],
      "metadata": {
        "id": "inV382kOy_Vj"
      }
    },
    {
      "cell_type": "code",
      "source": [
        "# Evaluate the model on the games_tourney_test dataset\n",
        "print(model.evaluate(games_tourney_test[['home', 'seed_diff', 'pred']],\n",
        "               games_tourney_test['score_diff'], verbose=False))\n",
        "\n",
        "# predicts score off by 9 points "
      ],
      "metadata": {
        "colab": {
          "base_uri": "https://localhost:8080/"
        },
        "id": "OwshscvAy8uB",
        "outputId": "05d2a6a9-21db-458d-bc50-98312bd189b0"
      },
      "execution_count": 33,
      "outputs": [
        {
          "output_type": "stream",
          "name": "stdout",
          "text": [
            "9.333518028259277\n"
          ]
        }
      ]
    },
    {
      "cell_type": "markdown",
      "source": [
        "# CHAPTER 4\n",
        "\n",
        "1. For regression create Dense layer of 2, rest is same \n",
        "2. get weights() and column mean\n",
        "3. For regression and classification together create two different dense layers\n",
        "4. Compile using two different loss functions \n",
        "5. Fit the y in a list[]\n",
        "6. Get weights \n",
        "7. from scipy.special import expit as sigmoid\n",
        "8. evaluate "
      ],
      "metadata": {
        "id": "aOoWDhjV0WPe"
      }
    },
    {
      "cell_type": "markdown",
      "source": [
        "# Simple two-output model\n",
        "In this exercise, you will use the tournament data to build one model that makes two predictions: the scores of both teams in a given game. Your inputs will be the seed difference of the two teams, as well as the predicted score difference from the model you built in chapter 3.\n",
        "\n",
        "The output from your model will be the predicted score for team 1 as well as team 2. This is called \"multiple target regression\": one model making more than one prediction.\n"
      ],
      "metadata": {
        "id": "5a8zLyMe0Xg9"
      }
    },
    {
      "cell_type": "code",
      "source": [
        "# Define the input\n",
        "input_tensor = Input(shape=(2,))\n",
        "\n",
        "# Define the output\n",
        "output_tensor = Dense(2)(input_tensor)\n",
        "\n",
        "# Create a model\n",
        "model = Model(input_tensor, output_tensor)\n",
        "\n",
        "# Compile the model\n",
        "model.compile(optimizer='adam', loss='mean_absolute_error')"
      ],
      "metadata": {
        "id": "IoVUCBf8zl1n"
      },
      "execution_count": 34,
      "outputs": []
    },
    {
      "cell_type": "markdown",
      "source": [
        "# Fit a model with two outputs\n",
        "Now that you've defined your 2-output model, fit it to the tournament data. I've split the data into games_tourney_train and games_tourney_test, so use the training set to fit for now.\n",
        "\n",
        "This model will use the pre-tournament seeds, as well as your pre-tournament predictions from the regular season model you built previously in this course.\n",
        "\n",
        "As a reminder, this model will predict the scores of both teams."
      ],
      "metadata": {
        "id": "aZLWMHHz2tEN"
      }
    },
    {
      "cell_type": "code",
      "source": [
        "games_tourney_train= games_tourney.iloc[:3430, ]\n",
        "games_tourney_test= games_tourney.iloc[3430: ,]"
      ],
      "metadata": {
        "id": "FVgALkNI2QEp"
      },
      "execution_count": 36,
      "outputs": []
    },
    {
      "cell_type": "code",
      "source": [
        "# Fit the model\n",
        "model.fit(games_tourney_train[['seed_diff', 'pred']],\n",
        "  \t\t  games_tourney_train[['score_1', 'score_2']],\n",
        "  \t\t  verbose=True,\n",
        "  \t\t  epochs=100,\n",
        "  \t\t  batch_size=16384)"
      ],
      "metadata": {
        "colab": {
          "base_uri": "https://localhost:8080/"
        },
        "id": "UnM76yXh2ruV",
        "outputId": "b56e4534-a52d-47e3-b392-506b6cdea432"
      },
      "execution_count": 37,
      "outputs": [
        {
          "output_type": "stream",
          "name": "stdout",
          "text": [
            "Epoch 1/100\n",
            "1/1 [==============================] - 1s 503ms/step - loss: 71.5098\n",
            "Epoch 2/100\n",
            "1/1 [==============================] - 0s 14ms/step - loss: 71.5087\n",
            "Epoch 3/100\n",
            "1/1 [==============================] - 0s 14ms/step - loss: 71.5076\n",
            "Epoch 4/100\n",
            "1/1 [==============================] - 0s 11ms/step - loss: 71.5064\n",
            "Epoch 5/100\n",
            "1/1 [==============================] - 0s 8ms/step - loss: 71.5053\n",
            "Epoch 6/100\n",
            "1/1 [==============================] - 0s 9ms/step - loss: 71.5042\n",
            "Epoch 7/100\n",
            "1/1 [==============================] - 0s 8ms/step - loss: 71.5030\n",
            "Epoch 8/100\n",
            "1/1 [==============================] - 0s 7ms/step - loss: 71.5019\n",
            "Epoch 9/100\n",
            "1/1 [==============================] - 0s 8ms/step - loss: 71.5008\n",
            "Epoch 10/100\n",
            "1/1 [==============================] - 0s 7ms/step - loss: 71.4996\n",
            "Epoch 11/100\n",
            "1/1 [==============================] - 0s 7ms/step - loss: 71.4985\n",
            "Epoch 12/100\n",
            "1/1 [==============================] - 0s 10ms/step - loss: 71.4974\n",
            "Epoch 13/100\n",
            "1/1 [==============================] - 0s 10ms/step - loss: 71.4962\n",
            "Epoch 14/100\n",
            "1/1 [==============================] - 0s 10ms/step - loss: 71.4951\n",
            "Epoch 15/100\n",
            "1/1 [==============================] - 0s 11ms/step - loss: 71.4940\n",
            "Epoch 16/100\n",
            "1/1 [==============================] - 0s 13ms/step - loss: 71.4928\n",
            "Epoch 17/100\n",
            "1/1 [==============================] - 0s 9ms/step - loss: 71.4917\n",
            "Epoch 18/100\n",
            "1/1 [==============================] - 0s 14ms/step - loss: 71.4906\n",
            "Epoch 19/100\n",
            "1/1 [==============================] - 0s 19ms/step - loss: 71.4894\n",
            "Epoch 20/100\n",
            "1/1 [==============================] - 0s 15ms/step - loss: 71.4883\n",
            "Epoch 21/100\n",
            "1/1 [==============================] - 0s 11ms/step - loss: 71.4872\n",
            "Epoch 22/100\n",
            "1/1 [==============================] - 0s 12ms/step - loss: 71.4860\n",
            "Epoch 23/100\n",
            "1/1 [==============================] - 0s 7ms/step - loss: 71.4849\n",
            "Epoch 24/100\n",
            "1/1 [==============================] - 0s 7ms/step - loss: 71.4838\n",
            "Epoch 25/100\n",
            "1/1 [==============================] - 0s 6ms/step - loss: 71.4826\n",
            "Epoch 26/100\n",
            "1/1 [==============================] - 0s 12ms/step - loss: 71.4815\n",
            "Epoch 27/100\n",
            "1/1 [==============================] - 0s 7ms/step - loss: 71.4804\n",
            "Epoch 28/100\n",
            "1/1 [==============================] - 0s 7ms/step - loss: 71.4792\n",
            "Epoch 29/100\n",
            "1/1 [==============================] - 0s 7ms/step - loss: 71.4781\n",
            "Epoch 30/100\n",
            "1/1 [==============================] - 0s 7ms/step - loss: 71.4770\n",
            "Epoch 31/100\n",
            "1/1 [==============================] - 0s 8ms/step - loss: 71.4758\n",
            "Epoch 32/100\n",
            "1/1 [==============================] - 0s 10ms/step - loss: 71.4747\n",
            "Epoch 33/100\n",
            "1/1 [==============================] - 0s 10ms/step - loss: 71.4735\n",
            "Epoch 34/100\n",
            "1/1 [==============================] - 0s 11ms/step - loss: 71.4724\n",
            "Epoch 35/100\n",
            "1/1 [==============================] - 0s 17ms/step - loss: 71.4713\n",
            "Epoch 36/100\n",
            "1/1 [==============================] - 0s 10ms/step - loss: 71.4701\n",
            "Epoch 37/100\n",
            "1/1 [==============================] - 0s 18ms/step - loss: 71.4690\n",
            "Epoch 38/100\n",
            "1/1 [==============================] - 0s 22ms/step - loss: 71.4679\n",
            "Epoch 39/100\n",
            "1/1 [==============================] - 0s 21ms/step - loss: 71.4667\n",
            "Epoch 40/100\n",
            "1/1 [==============================] - 0s 19ms/step - loss: 71.4656\n",
            "Epoch 41/100\n",
            "1/1 [==============================] - 0s 22ms/step - loss: 71.4645\n",
            "Epoch 42/100\n",
            "1/1 [==============================] - 0s 14ms/step - loss: 71.4633\n",
            "Epoch 43/100\n",
            "1/1 [==============================] - 0s 16ms/step - loss: 71.4622\n",
            "Epoch 44/100\n",
            "1/1 [==============================] - 0s 15ms/step - loss: 71.4611\n",
            "Epoch 45/100\n",
            "1/1 [==============================] - 0s 17ms/step - loss: 71.4599\n",
            "Epoch 46/100\n",
            "1/1 [==============================] - 0s 12ms/step - loss: 71.4588\n",
            "Epoch 47/100\n",
            "1/1 [==============================] - 0s 15ms/step - loss: 71.4577\n",
            "Epoch 48/100\n",
            "1/1 [==============================] - 0s 10ms/step - loss: 71.4565\n",
            "Epoch 49/100\n",
            "1/1 [==============================] - 0s 13ms/step - loss: 71.4554\n",
            "Epoch 50/100\n",
            "1/1 [==============================] - 0s 13ms/step - loss: 71.4543\n",
            "Epoch 51/100\n",
            "1/1 [==============================] - 0s 18ms/step - loss: 71.4531\n",
            "Epoch 52/100\n",
            "1/1 [==============================] - 0s 23ms/step - loss: 71.4520\n",
            "Epoch 53/100\n",
            "1/1 [==============================] - 0s 13ms/step - loss: 71.4509\n",
            "Epoch 54/100\n",
            "1/1 [==============================] - 0s 12ms/step - loss: 71.4497\n",
            "Epoch 55/100\n",
            "1/1 [==============================] - 0s 18ms/step - loss: 71.4486\n",
            "Epoch 56/100\n",
            "1/1 [==============================] - 0s 14ms/step - loss: 71.4474\n",
            "Epoch 57/100\n",
            "1/1 [==============================] - 0s 14ms/step - loss: 71.4463\n",
            "Epoch 58/100\n",
            "1/1 [==============================] - 0s 14ms/step - loss: 71.4452\n",
            "Epoch 59/100\n",
            "1/1 [==============================] - 0s 9ms/step - loss: 71.4441\n",
            "Epoch 60/100\n",
            "1/1 [==============================] - 0s 10ms/step - loss: 71.4429\n",
            "Epoch 61/100\n",
            "1/1 [==============================] - 0s 12ms/step - loss: 71.4418\n",
            "Epoch 62/100\n",
            "1/1 [==============================] - 0s 10ms/step - loss: 71.4406\n",
            "Epoch 63/100\n",
            "1/1 [==============================] - 0s 14ms/step - loss: 71.4395\n",
            "Epoch 64/100\n",
            "1/1 [==============================] - 0s 13ms/step - loss: 71.4384\n",
            "Epoch 65/100\n",
            "1/1 [==============================] - 0s 9ms/step - loss: 71.4372\n",
            "Epoch 66/100\n",
            "1/1 [==============================] - 0s 8ms/step - loss: 71.4361\n",
            "Epoch 67/100\n",
            "1/1 [==============================] - 0s 8ms/step - loss: 71.4350\n",
            "Epoch 68/100\n",
            "1/1 [==============================] - 0s 9ms/step - loss: 71.4338\n",
            "Epoch 69/100\n",
            "1/1 [==============================] - 0s 9ms/step - loss: 71.4327\n",
            "Epoch 70/100\n",
            "1/1 [==============================] - 0s 9ms/step - loss: 71.4316\n",
            "Epoch 71/100\n",
            "1/1 [==============================] - 0s 9ms/step - loss: 71.4304\n",
            "Epoch 72/100\n",
            "1/1 [==============================] - 0s 9ms/step - loss: 71.4293\n",
            "Epoch 73/100\n",
            "1/1 [==============================] - 0s 12ms/step - loss: 71.4282\n",
            "Epoch 74/100\n",
            "1/1 [==============================] - 0s 10ms/step - loss: 71.4270\n",
            "Epoch 75/100\n",
            "1/1 [==============================] - 0s 10ms/step - loss: 71.4259\n",
            "Epoch 76/100\n",
            "1/1 [==============================] - 0s 9ms/step - loss: 71.4248\n",
            "Epoch 77/100\n",
            "1/1 [==============================] - 0s 10ms/step - loss: 71.4236\n",
            "Epoch 78/100\n",
            "1/1 [==============================] - 0s 11ms/step - loss: 71.4225\n",
            "Epoch 79/100\n",
            "1/1 [==============================] - 0s 10ms/step - loss: 71.4214\n",
            "Epoch 80/100\n",
            "1/1 [==============================] - 0s 10ms/step - loss: 71.4202\n",
            "Epoch 81/100\n",
            "1/1 [==============================] - 0s 10ms/step - loss: 71.4191\n",
            "Epoch 82/100\n",
            "1/1 [==============================] - 0s 15ms/step - loss: 71.4180\n",
            "Epoch 83/100\n",
            "1/1 [==============================] - 0s 14ms/step - loss: 71.4168\n",
            "Epoch 84/100\n",
            "1/1 [==============================] - 0s 17ms/step - loss: 71.4157\n",
            "Epoch 85/100\n",
            "1/1 [==============================] - 0s 9ms/step - loss: 71.4146\n",
            "Epoch 86/100\n",
            "1/1 [==============================] - 0s 8ms/step - loss: 71.4134\n",
            "Epoch 87/100\n",
            "1/1 [==============================] - 0s 9ms/step - loss: 71.4123\n",
            "Epoch 88/100\n",
            "1/1 [==============================] - 0s 13ms/step - loss: 71.4111\n",
            "Epoch 89/100\n",
            "1/1 [==============================] - 0s 8ms/step - loss: 71.4100\n",
            "Epoch 90/100\n",
            "1/1 [==============================] - 0s 8ms/step - loss: 71.4089\n",
            "Epoch 91/100\n",
            "1/1 [==============================] - 0s 7ms/step - loss: 71.4077\n",
            "Epoch 92/100\n",
            "1/1 [==============================] - 0s 8ms/step - loss: 71.4066\n",
            "Epoch 93/100\n",
            "1/1 [==============================] - 0s 8ms/step - loss: 71.4055\n",
            "Epoch 94/100\n",
            "1/1 [==============================] - 0s 7ms/step - loss: 71.4043\n",
            "Epoch 95/100\n",
            "1/1 [==============================] - 0s 8ms/step - loss: 71.4032\n",
            "Epoch 96/100\n",
            "1/1 [==============================] - 0s 8ms/step - loss: 71.4021\n",
            "Epoch 97/100\n",
            "1/1 [==============================] - 0s 10ms/step - loss: 71.4009\n",
            "Epoch 98/100\n",
            "1/1 [==============================] - 0s 8ms/step - loss: 71.3998\n",
            "Epoch 99/100\n",
            "1/1 [==============================] - 0s 7ms/step - loss: 71.3987\n",
            "Epoch 100/100\n",
            "1/1 [==============================] - 0s 7ms/step - loss: 71.3975\n"
          ]
        },
        {
          "output_type": "execute_result",
          "data": {
            "text/plain": [
              "<keras.callbacks.History at 0x7f47ec4f1710>"
            ]
          },
          "metadata": {},
          "execution_count": 37
        }
      ]
    },
    {
      "cell_type": "markdown",
      "source": [
        "# Inspect the model (I)\n",
        "Now that you've fit your model, let's take a look at it. You can use the .get_weights() method to inspect your model's weights.\n",
        "\n",
        "The input layer will have 4 weights: 2 for each input times 2 for each output.\n",
        "\n",
        "The output layer will have 2 weights, one for each output."
      ],
      "metadata": {
        "id": "T57bhv3e3Gzn"
      }
    },
    {
      "cell_type": "code",
      "source": [
        "# Print the model's weights\n",
        "print(model.get_weights())\n",
        "\n",
        "# Print the column means of the training data\n",
        "print(games_tourney_train.mean())\n",
        "\n",
        "# pred column messing up results\n",
        "# each addition unit of seed equals points for team1 "
      ],
      "metadata": {
        "colab": {
          "base_uri": "https://localhost:8080/"
        },
        "id": "QIQfX40I3AEk",
        "outputId": "ae452a39-0ce7-41a5-ebc2-2c756f59e7d7"
      },
      "execution_count": 38,
      "outputs": [
        {
          "output_type": "stream",
          "name": "stdout",
          "text": [
            "[array([[0.3778722 , 0.71973085],\n",
            "       [0.7493418 , 1.1076542 ]], dtype=float32), array([0.09999995, 0.09999995], dtype=float32)]\n",
            "season        1998.074052\n",
            "team_1        5556.771429\n",
            "team_2        5556.771429\n",
            "home             0.000000\n",
            "seed_diff        0.000000\n",
            "score_diff       0.000000\n",
            "score_1         71.621283\n",
            "score_2         71.621283\n",
            "won              0.500000\n",
            "pred             0.134502\n",
            "dtype: float64\n"
          ]
        }
      ]
    },
    {
      "cell_type": "markdown",
      "source": [
        "# Evaluate the model\n",
        "Now that you've fit your model and inspected it's weights to make sure it makes sense, evaluate it on the tournament test set to see how well it performs on new data."
      ],
      "metadata": {
        "id": "P7QsKRJu4Wlk"
      }
    },
    {
      "cell_type": "code",
      "source": [
        "# Evaluate the model on the tournament test data\n",
        "print(model.evaluate(games_tourney_test[['seed_diff', 'pred']], games_tourney_test[['score_1','score_2']], verbose=False))"
      ],
      "metadata": {
        "colab": {
          "base_uri": "https://localhost:8080/"
        },
        "id": "LoGRe8Yd3SFc",
        "outputId": "5fef8a1b-94e8-4916-d7cc-c7d94ad19777"
      },
      "execution_count": 39,
      "outputs": [
        {
          "output_type": "stream",
          "name": "stdout",
          "text": [
            "68.81605529785156\n"
          ]
        }
      ]
    },
    {
      "cell_type": "markdown",
      "source": [
        "# Classification and regression in one model\n",
        "Now you will create a different kind of 2-output model. This time, you will predict the score difference, instead of both team's scores and then you will predict the probability that team 1 won the game. This is a pretty cool model: it is going to do both classification and regression!\n",
        "\n",
        "In this model, turn off the bias, or intercept for each layer. Your inputs (seed difference and predicted score difference) have a mean of very close to zero, and your outputs both have means that are close to zero, so your model shouldn't need the bias term to fit the data well."
      ],
      "metadata": {
        "id": "XxMf-ozZ7he2"
      }
    },
    {
      "cell_type": "code",
      "source": [
        "# Create an input layer with 2 columns\n",
        "input_tensor = Input(shape=(2,))\n",
        "\n",
        "# Create the first output Regression \n",
        "output_tensor_1 = Dense(1, activation='linear', use_bias=False)(input_tensor)\n",
        "\n",
        "# Create the second output (use the first output as input here) Classification\n",
        "output_tensor_2 = Dense(1, activation='sigmoid', use_bias=False)(output_tensor_1)\n",
        "\n",
        "# Create a model with 2 outputs\n",
        "model = Model(input_tensor, [output_tensor_1, output_tensor_2])"
      ],
      "metadata": {
        "id": "OUIB_QPm4dt7"
      },
      "execution_count": 42,
      "outputs": []
    },
    {
      "cell_type": "markdown",
      "source": [
        "# Compile and fit the model\n",
        "Now that you have a model with 2 outputs, compile it with 2 loss functions: mean absolute error (MAE) for 'score_diff' and binary cross-entropy (also known as logloss) for 'won'. Then fit the model with 'seed_diff' and 'pred' as inputs. For outputs, predict 'score_diff' and 'won'.\n",
        "\n",
        "This model can use the scores of the games to make sure that close games (small score diff) have lower win probabilities than blowouts (large score diff).\n",
        "\n",
        "The regression problem is easier than the classification problem because MAE punishes the model less for a loss due to random chance. For example, if score_diff is -1 and won is 0, that means team_1 had some bad luck and lost by a single free throw. The data for the easy problem helps the model find a solution to the hard problem."
      ],
      "metadata": {
        "id": "o7HMB9Ds8_CO"
      }
    },
    {
      "cell_type": "code",
      "source": [
        "# Import the Adam optimizer\n",
        "from tensorflow.keras.optimizers import Adam\n",
        "\n",
        "# Compile the model with 2 losses and the Adam optimzer with a higher learning rate\n",
        "model.compile(loss=['mean_absolute_error', 'binary_crossentropy'], optimizer=Adam(learning_rate=0.01))\n",
        "\n",
        "# Fit the model to the tournament training data, with 2 inputs and 2 outputs\n",
        "model.fit(games_tourney_train[['seed_diff', 'pred']],\n",
        "          [games_tourney_train[['score_diff']], games_tourney_train[['won']]],\n",
        "          epochs=10,\n",
        "          verbose=True,\n",
        "          batch_size=16384)"
      ],
      "metadata": {
        "colab": {
          "base_uri": "https://localhost:8080/"
        },
        "id": "Ejz2ngho8pDS",
        "outputId": "dc3fac59-4476-480e-86bc-862022a2b19b"
      },
      "execution_count": 49,
      "outputs": [
        {
          "output_type": "stream",
          "name": "stdout",
          "text": [
            "Epoch 1/10\n",
            "1/1 [==============================] - 1s 1s/step - loss: 12.4769 - dense_6_loss: 11.7808 - dense_7_loss: 0.6961\n",
            "Epoch 2/10\n",
            "1/1 [==============================] - 0s 9ms/step - loss: 12.4672 - dense_6_loss: 11.7421 - dense_7_loss: 0.7251\n",
            "Epoch 3/10\n",
            "1/1 [==============================] - 0s 10ms/step - loss: 12.4601 - dense_6_loss: 11.7040 - dense_7_loss: 0.7561\n",
            "Epoch 4/10\n",
            "1/1 [==============================] - 0s 9ms/step - loss: 12.4554 - dense_6_loss: 11.6674 - dense_7_loss: 0.7879\n",
            "Epoch 5/10\n",
            "1/1 [==============================] - 0s 15ms/step - loss: 12.4526 - dense_6_loss: 11.6334 - dense_7_loss: 0.8192\n",
            "Epoch 6/10\n",
            "1/1 [==============================] - 0s 10ms/step - loss: 12.4512 - dense_6_loss: 11.6031 - dense_7_loss: 0.8481\n",
            "Epoch 7/10\n",
            "1/1 [==============================] - 0s 11ms/step - loss: 12.4506 - dense_6_loss: 11.5777 - dense_7_loss: 0.8728\n",
            "Epoch 8/10\n",
            "1/1 [==============================] - 0s 11ms/step - loss: 12.4500 - dense_6_loss: 11.5581 - dense_7_loss: 0.8919\n",
            "Epoch 9/10\n",
            "1/1 [==============================] - 0s 10ms/step - loss: 12.4492 - dense_6_loss: 11.5444 - dense_7_loss: 0.9048\n",
            "Epoch 10/10\n",
            "1/1 [==============================] - 0s 11ms/step - loss: 12.4479 - dense_6_loss: 11.5362 - dense_7_loss: 0.9117\n"
          ]
        },
        {
          "output_type": "execute_result",
          "data": {
            "text/plain": [
              "<keras.callbacks.History at 0x7f47e706b650>"
            ]
          },
          "metadata": {},
          "execution_count": 49
        }
      ]
    },
    {
      "cell_type": "markdown",
      "source": [
        "# Inspect the model (II)\n",
        "Now you should take a look at the weights for this model. In particular, note the last weight of the model. This weight converts the predicted score difference to a predicted win probability. If you multiply the predicted score difference by the last weight of the model and then apply the sigmoid function, you get the win probability of the game."
      ],
      "metadata": {
        "id": "x-e0DBjc-dom"
      }
    },
    {
      "cell_type": "code",
      "source": [
        "# Print the model weights\n",
        "print(model.get_weights())\n",
        "\n",
        "# Print the training data means\n",
        "print(games_tourney_train.mean())"
      ],
      "metadata": {
        "colab": {
          "base_uri": "https://localhost:8080/"
        },
        "id": "vtYORXJz-JRL",
        "outputId": "62910a16-8056-420b-fc22-36c46ca46eb9"
      },
      "execution_count": 50,
      "outputs": [
        {
          "output_type": "stream",
          "name": "stdout",
          "text": [
            "[array([[0.06351882],\n",
            "       [0.8241734 ]], dtype=float32), array([[-1.3503802]], dtype=float32)]\n",
            "season        1998.074052\n",
            "team_1        5556.771429\n",
            "team_2        5556.771429\n",
            "home             0.000000\n",
            "seed_diff        0.000000\n",
            "score_diff       0.000000\n",
            "score_1         71.621283\n",
            "score_2         71.621283\n",
            "won              0.500000\n",
            "pred             0.134502\n",
            "dtype: float64\n"
          ]
        }
      ]
    },
    {
      "cell_type": "code",
      "source": [
        "# Import the sigmoid function from scipy\n",
        "from scipy.special import expit as sigmoid\n",
        "\n",
        "# Weight from the model\n",
        "# this number is from the array of the cell above. Note it is .14 on datacamp and -1.35 for me\n",
        "weight = 0.14\n",
        "\n",
        "# Print the approximate win probability predicted close game\n",
        "print(sigmoid(1 * weight))\n",
        "\n",
        "# Print the approximate win probability predicted blowout game\n",
        "print(sigmoid(10 * weight))\n",
        "\n",
        "# model predicts a score difference of 1 to be a win percentage of 53%\n",
        "# model predicts a score difference of 10 to be a win percentage of 80%"
      ],
      "metadata": {
        "colab": {
          "base_uri": "https://localhost:8080/"
        },
        "id": "fE5T4Iby-o-c",
        "outputId": "9ae16ebe-a7a2-4f4b-cc1d-f240ab6da543"
      },
      "execution_count": 51,
      "outputs": [
        {
          "output_type": "stream",
          "name": "stdout",
          "text": [
            "0.5349429451582145\n",
            "0.8021838885585818\n"
          ]
        }
      ]
    },
    {
      "cell_type": "markdown",
      "source": [
        "# Evaluate on new data with two metrics\n",
        "Now that you've fit your model and inspected its weights to make sure they make sense, evaluate your model on the tournament test set to see how well it does on new data.\n",
        "\n",
        "Note that in this case, Keras will return 3 numbers: the first number will be the sum of both the loss functions, and then the next 2 numbers will be the loss functions you used when defining the model.\n",
        "\n",
        "Ready to take your deep learning to the next level? Check out \"Convolutional Neural Networks for Image Processing\"."
      ],
      "metadata": {
        "id": "cNnA6M1c_T4y"
      }
    },
    {
      "cell_type": "code",
      "source": [
        "# Evaluate the model on new data\n",
        "print(model.evaluate(games_tourney_test[['seed_diff', 'pred']],\n",
        "               [games_tourney_test[['score_diff']], games_tourney_test[['won']]], verbose=False))"
      ],
      "metadata": {
        "colab": {
          "base_uri": "https://localhost:8080/"
        },
        "id": "HSLzZdLG_ekO",
        "outputId": "1d64eeba-a4b5-4f4b-a4f8-3e31c4f15727"
      },
      "execution_count": 52,
      "outputs": [
        {
          "output_type": "stream",
          "name": "stdout",
          "text": [
            "[11.981493949890137, 11.092304229736328, 0.8891883492469788]\n"
          ]
        }
      ]
    },
    {
      "cell_type": "markdown",
      "source": [
        "# Skip Connections"
      ],
      "metadata": {
        "id": "AWSqSKhPCNvn"
      }
    },
    {
      "cell_type": "code",
      "source": [
        "input_tensor= Input((100,))\n",
        "hidden_tensor= Dense(256, activation='relu')(input_tensor)\n",
        "hidden_tensor= Dense(256, activation='relu')(hidden_tensor)\n",
        "hidden_tensor= Dense(256, activation='relu')(hidden_tensor)\n",
        "output_tensor= Concatenate()([input_tensor, hidden_tensor])\n",
        "output_tensor= Dense(256, activation='relu')(output_tensor)"
      ],
      "metadata": {
        "id": "q4nn73iX_e3b"
      },
      "execution_count": 54,
      "outputs": []
    },
    {
      "cell_type": "code",
      "source": [
        "from tensorflow import keras\n",
        "model1 = keras.models.load_model('ch3_stacked_tourney_model.h5')\n",
        "model2 = keras.models.load_model('ch4_2_output_reg_class_model.h5')\n",
        "model3 = keras.models.load_model('ch4_2_output_reg_model.h5')"
      ],
      "metadata": {
        "id": "p7isYBqDCuF8"
      },
      "execution_count": 57,
      "outputs": []
    },
    {
      "cell_type": "code",
      "source": [
        "model1.summary()"
      ],
      "metadata": {
        "colab": {
          "base_uri": "https://localhost:8080/"
        },
        "id": "j67XWMelDwyl",
        "outputId": "74a6e58e-6310-43c3-9f3a-09a95d659e5d"
      },
      "execution_count": 58,
      "outputs": [
        {
          "output_type": "stream",
          "name": "stdout",
          "text": [
            "Model: \"model_3\"\n",
            "_________________________________________________________________\n",
            " Layer (type)                Output Shape              Param #   \n",
            "=================================================================\n",
            " input_3 (InputLayer)        [(None, 3)]               0         \n",
            "                                                                 \n",
            " dense_3 (Dense)             (None, 1)                 4         \n",
            "                                                                 \n",
            "=================================================================\n",
            "Total params: 4\n",
            "Trainable params: 4\n",
            "Non-trainable params: 0\n",
            "_________________________________________________________________\n"
          ]
        }
      ]
    },
    {
      "cell_type": "code",
      "source": [
        "model2.summary()"
      ],
      "metadata": {
        "colab": {
          "base_uri": "https://localhost:8080/"
        },
        "id": "3QsCmtwBDyA0",
        "outputId": "dda1ca9b-867d-4bf9-f5ca-80b3919955c9"
      },
      "execution_count": 59,
      "outputs": [
        {
          "output_type": "stream",
          "name": "stdout",
          "text": [
            "Model: \"model_1\"\n",
            "_________________________________________________________________\n",
            " Layer (type)                Output Shape              Param #   \n",
            "=================================================================\n",
            " input_1 (InputLayer)        [(None, 2)]               0         \n",
            "                                                                 \n",
            " dense_1 (Dense)             (None, 1)                 2         \n",
            "                                                                 \n",
            " dense_2 (Dense)             (None, 1)                 1         \n",
            "                                                                 \n",
            "=================================================================\n",
            "Total params: 3\n",
            "Trainable params: 3\n",
            "Non-trainable params: 0\n",
            "_________________________________________________________________\n"
          ]
        }
      ]
    },
    {
      "cell_type": "code",
      "source": [
        "model3.summary()"
      ],
      "metadata": {
        "colab": {
          "base_uri": "https://localhost:8080/"
        },
        "id": "OtfYJyMsDzWe",
        "outputId": "29396ff0-fb42-4ab2-bb7c-07858625ad08"
      },
      "execution_count": 60,
      "outputs": [
        {
          "output_type": "stream",
          "name": "stdout",
          "text": [
            "Model: \"model_1\"\n",
            "_________________________________________________________________\n",
            " Layer (type)                Output Shape              Param #   \n",
            "=================================================================\n",
            " input_1 (InputLayer)        [(None, 2)]               0         \n",
            "                                                                 \n",
            " dense_1 (Dense)             (None, 2)                 6         \n",
            "                                                                 \n",
            "=================================================================\n",
            "Total params: 6\n",
            "Trainable params: 6\n",
            "Non-trainable params: 0\n",
            "_________________________________________________________________\n"
          ]
        }
      ]
    },
    {
      "cell_type": "code",
      "source": [],
      "metadata": {
        "id": "wC50V1aWD0kF"
      },
      "execution_count": null,
      "outputs": []
    }
  ]
}