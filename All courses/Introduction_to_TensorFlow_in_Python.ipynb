{
  "nbformat": 4,
  "nbformat_minor": 0,
  "metadata": {
    "colab": {
      "provenance": [],
      "collapsed_sections": []
    },
    "kernelspec": {
      "name": "python3",
      "display_name": "Python 3"
    },
    "language_info": {
      "name": "python"
    }
  },
  "cells": [
    {
      "cell_type": "markdown",
      "source": [
        "1. Low-level, basic and advanced opeartion, graph-based computation, gradient computation and optimization\n",
        "\n",
        "2. data loading and transformation, predefined and custom loss functions, linear models and batch training\n",
        "\n",
        "3. Dense neural networks layers, activation functions, opitmization algorithms, training neural networks\n",
        "\n",
        "4. Neural networks in Keras, training and validation, estimators API"
      ],
      "metadata": {
        "id": "DVIFTL0z2Vqj"
      }
    },
    {
      "cell_type": "markdown",
      "source": [
        "# Course Description\n",
        "Not long ago, cutting-edge computer vision algorithms couldn’t differentiate between images of cats and dogs. Today, a skilled data scientist equipped with nothing more than a laptop can classify tens of thousands of objects with greater accuracy than the human eye. In this course, you will use TensorFlow 2.6 to develop, train, and make predictions with the models that have powered major advances in recommendation systems, image classification, and FinTech. You will learn both high-level APIs, which will enable you to design and train deep learning models in 15 lines of code, and low-level APIs, which will allow you to move beyond off-the-shelf routines. You will also learn to accurately predict housing prices, credit card borrower defaults, and images of sign language gestures."
      ],
      "metadata": {
        "id": "_Qii2WZj4Ljp"
      }
    },
    {
      "cell_type": "markdown",
      "source": [
        "# Defining data as constants\n",
        "Throughout this course, we will use tensorflow version 2.6.0 and will exclusively import the submodules needed to complete each exercise. This will usually be done for you, but you will do it in this exercise by importing constant from tensorflow.\n",
        "\n",
        "After you have imported constant, you will use it to transform a numpy array, credit_numpy, into a tensorflow constant, credit_constant. This array contains feature columns from a dataset on credit card holders and is previewed in the image below. We will return to this dataset in later chapters.\n",
        "\n",
        "Note that tensorflow 2 allows you to use data as either a numpy array or a tensorflow constant object. Using a constant will ensure that any operations performed with that object are done in tensorflow."
      ],
      "metadata": {
        "id": "y2jpCF9x5XlC"
      }
    },
    {
      "cell_type": "code",
      "source": [
        "import pandas as pd \n",
        "import numpy as np\n",
        "df= pd.read_csv('uci_credit_card.csv')\n",
        "df1= df[['EDUCATION', 'MARRIAGE', 'AGE', 'BILL_AMT1']]\n",
        "credit_numpy= df1.to_numpy()\n",
        "credit_numpy"
      ],
      "metadata": {
        "colab": {
          "base_uri": "https://localhost:8080/"
        },
        "id": "z6R9KPBd4Nm2",
        "outputId": "500888ba-d048-4abc-bcb6-d1c8acbe5a35"
      },
      "execution_count": null,
      "outputs": [
        {
          "output_type": "execute_result",
          "data": {
            "text/plain": [
              "array([[ 2.0000e+00,  1.0000e+00,  2.4000e+01,  3.9130e+03],\n",
              "       [ 2.0000e+00,  2.0000e+00,  2.6000e+01,  2.6820e+03],\n",
              "       [ 2.0000e+00,  2.0000e+00,  3.4000e+01,  2.9239e+04],\n",
              "       ...,\n",
              "       [ 2.0000e+00,  2.0000e+00,  3.7000e+01,  3.5650e+03],\n",
              "       [ 3.0000e+00,  1.0000e+00,  4.1000e+01, -1.6450e+03],\n",
              "       [ 2.0000e+00,  1.0000e+00,  4.6000e+01,  4.7929e+04]])"
            ]
          },
          "metadata": {},
          "execution_count": 10
        }
      ]
    },
    {
      "cell_type": "code",
      "source": [
        "# Import constant from TensorFlow\n",
        "from tensorflow import constant\n",
        "\n",
        "# Convert the credit_numpy array into a tensorflow constant\n",
        "credit_constant = constant(credit_numpy)\n",
        "\n",
        "# Print constant datatype\n",
        "print('\\n The datatype is:', credit_constant.dtype)\n",
        "\n",
        "# Print constant shape\n",
        "print('\\n The shape is:', credit_constant.shape)"
      ],
      "metadata": {
        "colab": {
          "base_uri": "https://localhost:8080/"
        },
        "id": "J2IK_TwG534D",
        "outputId": "92b2e4a1-ab99-4c0e-ddd3-025751dab442"
      },
      "execution_count": null,
      "outputs": [
        {
          "output_type": "stream",
          "name": "stdout",
          "text": [
            "\n",
            " The datatype is: <dtype: 'float64'>\n",
            "\n",
            " The shape is: (30000, 4)\n"
          ]
        }
      ]
    },
    {
      "cell_type": "markdown",
      "source": [
        "# Defining variables\n",
        "Unlike a constant, a variable's value can be modified. This will be useful when we want to train a model by updating its parameters.\n",
        "\n",
        "Let's try defining and printing a variable. We'll then convert the variable to a numpy array, print again, and check for differences. Note that Variable(), which is used to create a variable tensor, has been imported from tensorflow and is available to use in the exercise."
      ],
      "metadata": {
        "id": "Muog8Ax76496"
      }
    },
    {
      "cell_type": "code",
      "source": [
        "# import variable from Tensorflow\n",
        "from tensorflow import Variable\n",
        "\n",
        "# Define the 1-dimensional variable A1\n",
        "A1 = Variable([1, 2, 3, 4])\n",
        "\n",
        "# Print the variable A1\n",
        "print('\\n A1: ', A1)\n",
        "\n",
        "# Convert A1 to a numpy array and assign it to B1\n",
        "B1 = A1.numpy()\n",
        "\n",
        "# Print B1\n",
        "print('\\n B1: ', B1)"
      ],
      "metadata": {
        "colab": {
          "base_uri": "https://localhost:8080/"
        },
        "id": "x-gD-XAj6xO4",
        "outputId": "4b9bd8ef-26d0-4d0c-dd37-fef17216b273"
      },
      "execution_count": null,
      "outputs": [
        {
          "output_type": "stream",
          "name": "stdout",
          "text": [
            "\n",
            " A1:  <tf.Variable 'Variable:0' shape=(4,) dtype=int32, numpy=array([1, 2, 3, 4], dtype=int32)>\n",
            "\n",
            " B1:  [1 2 3 4]\n"
          ]
        }
      ]
    },
    {
      "cell_type": "markdown",
      "source": [
        "# Performing element-wise multiplication\n",
        "Element-wise multiplication in TensorFlow is performed using two tensors with identical shapes. This is because the operation multiplies elements in corresponding positions in the two tensors. An example of an element-wise multiplication, denoted by the  symbol, is shown below:\n",
        "\n",
        "  \n",
        "  \n",
        " \n",
        "\n",
        "In this exercise, you will perform element-wise multiplication, paying careful attention to the shape of the tensors you multiply. Note that multiply(), constant(), and ones_like() have been imported for you."
      ],
      "metadata": {
        "id": "U5el07vT9uNr"
      }
    },
    {
      "cell_type": "code",
      "source": [
        "from tensorflow import multiply, ones_like\n",
        "# Define tensors A1 and A23 as constants\n",
        "A1 = constant([1, 2, 3, 4])\n",
        "A23 = constant([[1, 2, 3], [1, 6, 4]])\n",
        "\n",
        "# Define B1 and B23 to have the correct shape\n",
        "B1 = ones_like(A1)\n",
        "B23 = ones_like(A23)\n",
        "\n",
        "# Perform element-wise multiplication\n",
        "C1 = multiply(A1, B1)\n",
        "C23 = multiply(A23, B23)\n",
        "\n",
        "# Print the tensors C1 and C23\n",
        "print('\\n C1: {}'.format(C1.numpy()))\n",
        "print('\\n C23: {}'.format(C23.numpy()))"
      ],
      "metadata": {
        "colab": {
          "base_uri": "https://localhost:8080/"
        },
        "id": "PeuIUHiW7Q-M",
        "outputId": "52464de3-e671-4c1f-8cb2-3e16a4f522e5"
      },
      "execution_count": null,
      "outputs": [
        {
          "output_type": "stream",
          "name": "stdout",
          "text": [
            "\n",
            " C1: [1 2 3 4]\n",
            "\n",
            " C23: [[1 2 3]\n",
            " [1 6 4]]\n"
          ]
        }
      ]
    },
    {
      "cell_type": "markdown",
      "source": [
        "# Making predictions with matrix multiplication\n",
        "In later chapters, you will learn to train linear regression models. This process will yield a vector of parameters that can be multiplied by the input data to generate predictions. In this exercise, you will use input data, features, and a target vector, bill, which are taken from a credit card dataset we will use later in the course.\n",
        "\n",
        "The matrix of input data, features, contains two columns: education level and age. The target vector, bill, is the size of the credit card borrower's bill.\n",
        "\n",
        "Since we have not trained the model, you will enter a guess for the values of the parameter vector, params. You will then use matmul() to perform matrix multiplication of features by params to generate predictions, billpred, which you will compare with bill. Note that we have imported matmul() and constant()."
      ],
      "metadata": {
        "id": "X0zvuInt-LB9"
      }
    },
    {
      "cell_type": "code",
      "source": [
        "from tensorflow import matmul\n",
        "# Define features, params, and bill as constants\n",
        "features = constant([[2, 24], [2, 26], [2, 57], [1, 37]])\n",
        "params = constant([[1000], [150]])\n",
        "bill = constant([[3913], [2682], [8617], [64400]])\n",
        "\n",
        "# Compute billpred using features and params\n",
        "billpred = matmul(features, params)\n",
        "print('billpred:', billpred)\n",
        "# Compute and print the error\n",
        "error = bill- billpred\n",
        "print('error:', error.numpy())"
      ],
      "metadata": {
        "colab": {
          "base_uri": "https://localhost:8080/"
        },
        "id": "giT2J-Ww-ASj",
        "outputId": "a254e554-7991-4301-95b6-1a1092f3cbc9"
      },
      "execution_count": null,
      "outputs": [
        {
          "output_type": "stream",
          "name": "stdout",
          "text": [
            "billpred: tf.Tensor(\n",
            "[[ 5600]\n",
            " [ 5900]\n",
            " [10550]\n",
            " [ 6550]], shape=(4, 1), dtype=int32)\n",
            "error: [[-1687]\n",
            " [-3218]\n",
            " [-1933]\n",
            " [57850]]\n"
          ]
        }
      ]
    },
    {
      "cell_type": "markdown",
      "source": [
        "# Reshaping tensors\n",
        "Later in the course, you will classify images of sign language letters using a neural network. In some cases, the network will take 1-dimensional tensors as inputs, but your data will come in the form of images, which will either be either 2- or 3-dimensional tensors, depending on whether they are grayscale or color images.\n",
        "\n",
        "The figure below shows grayscale and color images of the sign language letter A. The two images have been imported for you and converted to the numpy arrays gray_tensor and color_tensor. Reshape these arrays into 1-dimensional vectors using the reshape operation, which has been imported for you from tensorflow. Note that the shape of gray_tensor is 28x28 and the shape of color_tensor is 28x28x3."
      ],
      "metadata": {
        "id": "CJKrAIa3W0B_"
      }
    },
    {
      "cell_type": "code",
      "source": [
        "# Reshape the grayscale image tensor into a vector\n",
        "gray_vector = reshape(gray_tensor, (784, 1))\n",
        "\n",
        "# Reshape the color image tensor into a vector\n",
        "color_vector = reshape(color_tensor, (2352, 1))"
      ],
      "metadata": {
        "id": "OjtpXQgQW705"
      },
      "execution_count": null,
      "outputs": []
    },
    {
      "cell_type": "markdown",
      "source": [
        "# Optimizing with gradients\n",
        "You are given a loss function, , which you want to minimize. You can do this by computing the slope using the GradientTape() operation at different values of x. If the slope is positive, you can decrease the loss by lowering x. If it is negative, you can decrease it by increasing x. This is how gradient descent works.\n",
        "\n",
        "The image shows a plot of y equals x squared. It also shows the gradient at x equals -1, x equals 0, and x equals 1.\n",
        "\n",
        "In practice, you will use a high level tensorflow operation to perform gradient descent automatically. In this exercise, however, you will compute the slope at x values of -1, 1, and 0. The following operations are available: GradientTape(), multiply(), and Variable()."
      ],
      "metadata": {
        "id": "47PQS1HEXckd"
      }
    },
    {
      "cell_type": "code",
      "source": [
        "from tensorflow import GradientTape\n",
        "\n",
        "def compute_gradient(x0):\n",
        "  \t# Define x as a variable with an initial value of x0\n",
        "\tx = Variable(x0)\n",
        "\twith GradientTape() as tape:\n",
        "\t\ttape.watch(x)\n",
        "        # Define y using the multiply operation\n",
        "\t\ty = multiply(x,x)\n",
        "    # Return the gradient of y with respect to x\n",
        "\treturn tape.gradient(y, x).numpy()\n",
        "\n",
        "# Compute and print gradients at x = -1, 1, and 0\n",
        "print(compute_gradient(-1.0))\n",
        "print(compute_gradient(1.0))\n",
        "print(compute_gradient(0.0))\n",
        "\n",
        "#slope is positive we lower the loss by reducing x\n",
        "#slope is negative we lower the loss by increase x"
      ],
      "metadata": {
        "colab": {
          "base_uri": "https://localhost:8080/"
        },
        "id": "E-yQzWsSXdSc",
        "outputId": "b4e2e31a-f919-4013-a79a-8ed88f3cd4ad"
      },
      "execution_count": null,
      "outputs": [
        {
          "output_type": "stream",
          "name": "stdout",
          "text": [
            "-2.0\n",
            "2.0\n",
            "0.0\n"
          ]
        }
      ]
    },
    {
      "cell_type": "markdown",
      "source": [
        "# Working with image data\n",
        "You are given a black-and-white image of a letter, which has been encoded as a tensor, letter. You want to determine whether the letter is an X or a K. You don't have a trained neural network, but you do have a simple model, model, which can be used to classify letter.\n",
        "\n",
        "The 3x3 tensor, letter, and the 1x3 tensor, model, are available in the Python shell. You can determine whether letter is a K by multiplying letter by model, summing over the result, and then checking if it is equal to 1. As with more complicated models, such as neural networks, model is a collection of weights, arranged in a tensor.\n",
        "\n",
        "Note that the functions reshape(), matmul(), and reduce_sum() have been imported from tensorflow and are available for use."
      ],
      "metadata": {
        "id": "qoQ5ZJojYTUa"
      }
    },
    {
      "cell_type": "code",
      "source": [
        "from tensorflow import reshape, reduce_sum\n",
        "letter= np.array([[1., 0., 1.],\n",
        "       [1., 1., 0.],\n",
        "       [1., 0., 1.]])\n",
        "model= np.array([[ 1.,  0., -1.]])"
      ],
      "metadata": {
        "id": "v3K33hV2Xz8X"
      },
      "execution_count": null,
      "outputs": []
    },
    {
      "cell_type": "code",
      "source": [
        "# Reshape model from a 1x3 to a 3x1 tensor\n",
        "model = reshape(model, (3, 1))\n",
        "\n",
        "# Multiply letter by model\n",
        "output = matmul(letter, model)\n",
        "\n",
        "# Sum over output and print prediction using the numpy method\n",
        "prediction = reduce_sum(output)\n",
        "print(prediction.numpy())\n",
        "\n",
        "#model show prediction is 1 which is the letter K"
      ],
      "metadata": {
        "colab": {
          "base_uri": "https://localhost:8080/"
        },
        "id": "yNIG9-RMYfAP",
        "outputId": "971943a5-8603-4e9c-85b5-1a244a7c9a50"
      },
      "execution_count": null,
      "outputs": [
        {
          "output_type": "stream",
          "name": "stdout",
          "text": [
            "1.0\n"
          ]
        }
      ]
    },
    {
      "cell_type": "markdown",
      "source": [
        "# Load data using pandas\n",
        "Before you can train a machine learning model, you must first import data. There are several valid ways to do this, but for now, we will use a simple one-liner from pandas: pd.read_csv(). Recall from the video that the first argument specifies the path or URL. All other arguments are optional.\n",
        "\n",
        "In this exercise, you will import the King County housing dataset, which we will use to train a linear model later in the chapter."
      ],
      "metadata": {
        "id": "j6sucQnnbkWR"
      }
    },
    {
      "cell_type": "code",
      "source": [
        "# Import pandas under the alias pd\n",
        "import pandas as pd\n",
        "\n",
        "# Assign the path to a string variable named data_path\n",
        "data_path = 'kc_house_data.csv'\n",
        "\n",
        "# Load the dataset as a dataframe named housing\n",
        "housing = pd.read_csv(data_path)\n",
        "\n",
        "# Print the price column of housing\n",
        "print(housing.price)"
      ],
      "metadata": {
        "colab": {
          "base_uri": "https://localhost:8080/"
        },
        "id": "XNRdSYcRY8rJ",
        "outputId": "384b8d14-22ea-4ad3-fd2c-bc60e52d86cd"
      },
      "execution_count": null,
      "outputs": [
        {
          "output_type": "stream",
          "name": "stdout",
          "text": [
            "0        221900.0\n",
            "1        538000.0\n",
            "2        180000.0\n",
            "3        604000.0\n",
            "4        510000.0\n",
            "           ...   \n",
            "21608    360000.0\n",
            "21609    400000.0\n",
            "21610    402101.0\n",
            "21611    400000.0\n",
            "21612    325000.0\n",
            "Name: price, Length: 21613, dtype: float64\n"
          ]
        }
      ]
    },
    {
      "cell_type": "markdown",
      "source": [
        "# Setting the data type\n",
        "In this exercise, you will both load data and set its type. Note that housing is available and pandas has been imported as pd. You will import numpy and tensorflow, and define tensors that are usable in tensorflow using columns in housing with a given data type. Recall that you can select the price column, for instance, from housing using housing['price']."
      ],
      "metadata": {
        "id": "HymlOvfwboqN"
      }
    },
    {
      "cell_type": "code",
      "source": [
        "# import modules\n",
        "import numpy as np\n",
        "import tensorflow as tf\n",
        "\n",
        "# Use a numpy array to define price as a 32-bit float\n",
        "price= np.array(housing.price, np.float32)\n",
        "\n",
        "# Define waterfront as a Boolean using cast\n",
        "waterfront= tf.cast(housing.waterfront, tf.bool)\n",
        "\n",
        "# Print price and waterfront\n",
        "print(price)\n",
        "print(waterfront)"
      ],
      "metadata": {
        "colab": {
          "base_uri": "https://localhost:8080/"
        },
        "id": "dDl6fcEUbiqF",
        "outputId": "bd6926c2-4db4-4f9e-bc8e-1e29358cc92f"
      },
      "execution_count": null,
      "outputs": [
        {
          "output_type": "stream",
          "name": "stdout",
          "text": [
            "[221900. 538000. 180000. ... 402101. 400000. 325000.]\n",
            "tf.Tensor([False False False ... False False False], shape=(21613,), dtype=bool)\n"
          ]
        }
      ]
    },
    {
      "cell_type": "markdown",
      "source": [
        "# Loss functions in TensorFlow\n",
        "In this exercise, you will compute the loss using data from the King County housing dataset. You are given a target, price, which is a tensor of house prices, and predictions, which is a tensor of predicted house prices. You will evaluate the loss function and print out the value of the loss."
      ],
      "metadata": {
        "id": "RJCb5aIGefso"
      }
    },
    {
      "cell_type": "code",
      "source": [
        "# Import the keras module from tensorflow\n",
        "from tensorflow import keras\n",
        "\n",
        "# Compute the mean squared error (mse)\n",
        "loss = keras.losses.mse(price, predictions)\n",
        "\n",
        "# Print the mean squared error (mse)\n",
        "print(loss.numpy())\n",
        "\n",
        "# Compute the mean absolute error (mae)\n",
        "loss = keras.losses.mae(price, predictions)\n",
        "\n",
        "# Print the mean absolute error (mae)\n",
        "print(loss.numpy())"
      ],
      "metadata": {
        "id": "tT8UP5rwcY8G"
      },
      "execution_count": null,
      "outputs": []
    },
    {
      "cell_type": "markdown",
      "source": [
        "# Modifying the loss function\n",
        "In the previous exercise, you defined a tensorflow loss function and then evaluated it once for a set of actual and predicted values. In this exercise, you will compute the loss within another function called loss_function(), which first generates predicted values from the data and variables. The purpose of this is to construct a function of the trainable model variables that returns the loss. You can then repeatedly evaluate this function for different variable values until you find the minimum. In practice, you will pass this function to an optimizer in tensorflow. Note that features and targets have been defined and are available. Additionally, Variable, float32, and keras are available."
      ],
      "metadata": {
        "id": "lDa3y0_Qe9tB"
      }
    },
    {
      "cell_type": "code",
      "source": [
        "from tensorflow import float32\n",
        "features = np.array([1, 2, 3, 4, 5])\n",
        "targets= np.array([2,4,6,8,10])\n",
        "features= tf.cast(features, float32)\n",
        "targets= tf.cast(targets, float32)\n",
        "print(features, targets)"
      ],
      "metadata": {
        "colab": {
          "base_uri": "https://localhost:8080/"
        },
        "id": "NSOXSX3hgbuF",
        "outputId": "ae2c7ece-9fab-4c4f-a71a-d2a5baff8826"
      },
      "execution_count": null,
      "outputs": [
        {
          "output_type": "stream",
          "name": "stdout",
          "text": [
            "tf.Tensor([1. 2. 3. 4. 5.], shape=(5,), dtype=float32) tf.Tensor([ 2.  4.  6.  8. 10.], shape=(5,), dtype=float32)\n"
          ]
        }
      ]
    },
    {
      "cell_type": "code",
      "source": [
        "# Initialize a variable named scalar\n",
        "scalar = Variable(1.0, float32)\n",
        "\n",
        "# Define the model\n",
        "def model(scalar, features = features):\n",
        "  \treturn scalar * features\n",
        "\n",
        "# Define a loss function\n",
        "def loss_function(scalar, features = features, targets = targets):\n",
        "\t# Compute the predicted values\n",
        "\tpredictions = model(scalar, features)\n",
        "    \n",
        "\t# Return the mean absolute error loss\n",
        "\treturn keras.losses.mae(targets, predictions)\n",
        "\n",
        "# Evaluate the loss function and print the loss\n",
        "print(loss_function(scalar).numpy())"
      ],
      "metadata": {
        "colab": {
          "base_uri": "https://localhost:8080/"
        },
        "id": "10j4nHjTgkXo",
        "outputId": "79bc9a77-a1a5-403e-ef99-e8fc39a567d1"
      },
      "execution_count": null,
      "outputs": [
        {
          "output_type": "stream",
          "name": "stdout",
          "text": [
            "3.0\n"
          ]
        }
      ]
    },
    {
      "cell_type": "markdown",
      "source": [
        "# Set up a linear regression\n",
        "A univariate linear regression identifies the relationship between a single feature and the target tensor. In this exercise, we will use a property's lot size and price. Just as we discussed in the video, we will take the natural logarithms of both tensors, which are available as price_log and size_log.\n",
        "\n",
        "In this exercise, you will define the model and the loss function. You will then evaluate the loss function for two different values of intercept and slope. Remember that the predicted values are given by intercept + features*slope. Additionally, note that keras.losses.mse() is available for you. Furthermore, slope and intercept have been defined as variables."
      ],
      "metadata": {
        "id": "QQKoUo85nkbr"
      }
    },
    {
      "cell_type": "code",
      "source": [
        "price_log= np.log(np.array(housing.price, np.float32))\n",
        "size_log= np.log(np.array(housing.sqft_living, np.float32))\n",
        "intercept= tf.Variable(0.1, np.float32)\n",
        "slope= tf.Variable(0.1, np.float32)"
      ],
      "metadata": {
        "id": "ivlU_i_Nhk-3"
      },
      "execution_count": null,
      "outputs": []
    },
    {
      "cell_type": "code",
      "source": [
        "# Define a linear regression model\n",
        "def linear_regression(intercept, slope, features = size_log):\n",
        "\treturn intercept + features*slope\n",
        "\n",
        "# Set loss_function() to take the variables as arguments\n",
        "def loss_function(intercept, slope, features = size_log, targets = price_log):\n",
        "\t# Set the predicted values\n",
        "\tpredictions = linear_regression(intercept, slope, features)\n",
        "    \n",
        "    # Return the mean squared error loss\n",
        "\treturn keras.losses.mse(targets, predictions)\n",
        "\n",
        "# Compute the loss for different slope and intercept values\n",
        "print(loss_function(0.1, 0.1).numpy())\n",
        "print(loss_function(0.1, 0.5).numpy())"
      ],
      "metadata": {
        "colab": {
          "base_uri": "https://localhost:8080/"
        },
        "id": "a-7l59Etqd-P",
        "outputId": "e6ab401d-d246-495b-959e-1b14cfa0508d"
      },
      "execution_count": null,
      "outputs": [
        {
          "output_type": "stream",
          "name": "stdout",
          "text": [
            "148.91295\n",
            "84.309\n"
          ]
        }
      ]
    },
    {
      "cell_type": "markdown",
      "source": [
        "# Train a linear model\n",
        "In this exercise, we will pick up where the previous exercise ended. The intercept and slope, intercept and slope, have been defined and initialized. Additionally, a function has been defined, loss_function(intercept, slope), which computes the loss using the data and model variables.\n",
        "\n",
        "You will now define an optimization operation as opt. You will then train a univariate linear model by minimizing the loss to find the optimal values of intercept and slope. Note that the opt operation will try to move closer to the optimum with each step, but will require many steps to find it. Thus, you must repeatedly execute the operation."
      ],
      "metadata": {
        "id": "fARlg-okrGkZ"
      }
    },
    {
      "cell_type": "code",
      "source": [
        "def plot_results(intercept, slope):\n",
        "\tsize_range = np.linspace(6,14,100)\n",
        "\tprice_pred = [intercept+slope*s for s in size_range]\n",
        "\tplt.scatter(size_log, price_log, color = 'black')\n",
        "\tplt.plot(size_range, price_pred, linewidth=3.0, color='red')\n",
        "\tplt.xlabel('log(size)')\n",
        "\tplt.ylabel('log(price)')\n",
        "\tplt.title('Scatterplot of data and fitted regression line')\n",
        "\tplt.show()"
      ],
      "metadata": {
        "id": "nG1ib-Slrt5n"
      },
      "execution_count": null,
      "outputs": []
    },
    {
      "cell_type": "code",
      "source": [
        "import matplotlib.pyplot as plt\n",
        "\n",
        "# Initialize an Adam optimizer\n",
        "opt = keras.optimizers.Adam(0.5)\n",
        "\n",
        "for j in range(100):\n",
        "\t# Apply minimize, pass the loss function, and supply the variables\n",
        "\topt.minimize(lambda: loss_function(intercept, slope), var_list=[intercept, slope])\n",
        "\n",
        "\t# Print every 10th value of the loss\n",
        "\tif j % 10 == 0:\n",
        "\t\tprint(loss_function(intercept, slope).numpy())\n",
        "\n",
        "# Plot data and regression line\n",
        "plot_results(intercept, slope)"
      ],
      "metadata": {
        "colab": {
          "base_uri": "https://localhost:8080/",
          "height": 469
        },
        "id": "wlxRaVdWqgA5",
        "outputId": "8dc08a35-2db7-49ed-ef99-afbc9fe7af3f"
      },
      "execution_count": null,
      "outputs": [
        {
          "output_type": "stream",
          "name": "stdout",
          "text": [
            "18.341175\n",
            "2.7092085\n",
            "1.7167029\n",
            "0.3587432\n",
            "0.21028161\n",
            "0.21356516\n",
            "0.2084652\n",
            "0.20633882\n",
            "0.20629987\n",
            "0.20428361\n"
          ]
        },
        {
          "output_type": "display_data",
          "data": {
            "text/plain": [
              "<Figure size 432x288 with 1 Axes>"
            ],
            "image/png": "[encoded data removed]"
          },
          "metadata": {
            "needs_background": "light"
          }
        }
      ]
    },
    {
      "cell_type": "markdown",
      "source": [
        "# Multiple linear regression\n",
        "In most cases, performing a univariate linear regression will not yield a model that is useful for making accurate predictions. In this exercise, you will perform a multiple regression, which uses more than one feature.\n",
        "\n",
        "You will use price_log as your target and size_log and bedrooms as your features. Each of these tensors has been defined and is available. You will also switch from using the the mean squared error loss to the mean absolute error loss: keras.losses.mae(). Finally, the predicted values are computed as follows: params[0] + feature1*params[1] + feature2*params[2]. Note that we've defined a vector of parameters, params, as a variable, rather than using three variables. Here, params[0] is the intercept and params[1] and params[2] are the slopes."
      ],
      "metadata": {
        "id": "BfpeLZTAr7oQ"
      }
    },
    {
      "cell_type": "code",
      "source": [
        "bedrooms= np.array(housing.bedrooms, np.float32)\n",
        "params= Variable([0.1, 0.5, 0.02])\n",
        "def print_results(params):\n",
        "\treturn print('loss: {:0.3f}, intercept: {:0.3f}, slope_1: {:0.3f}, slope_2: {:0.3f}'.format(loss_function(params).numpy(), params[0].numpy(), params[1].numpy(), params[2].numpy()))"
      ],
      "metadata": {
        "id": "Ad2J5uchrfJV"
      },
      "execution_count": null,
      "outputs": []
    },
    {
      "cell_type": "code",
      "source": [
        "# Define the linear regression model\n",
        "def linear_regression(params, feature1 = size_log, feature2 = bedrooms):\n",
        "\treturn params[0] + feature1*params[1] + feature2*params[2]\n",
        "\n",
        "# Define the loss function\n",
        "def loss_function(params, targets = price_log, feature1 = size_log, feature2 = bedrooms):\n",
        "\t# Set the predicted values\n",
        "\tpredictions = linear_regression(params, feature1, feature2)\n",
        "  \n",
        "\t# Use the mean absolute error loss\n",
        "\treturn keras.losses.mae(targets, predictions)\n",
        "\n",
        "# Define the optimize operation\n",
        "opt = keras.optimizers.Adam()\n",
        "\n",
        "# Perform minimization and print trainable variables\n",
        "for j in range(10):\n",
        "\topt.minimize(lambda: loss_function(params), var_list=[params])\n",
        "\tprint_results(params)"
      ],
      "metadata": {
        "colab": {
          "base_uri": "https://localhost:8080/"
        },
        "id": "vVIYm9pIsOnp",
        "outputId": "5298813c-486e-47d8-eddf-c0c5ccf8b9b3"
      },
      "execution_count": null,
      "outputs": [
        {
          "output_type": "stream",
          "name": "stdout",
          "text": [
            "loss: 9.093, intercept: 0.101, slope_1: 0.501, slope_2: 0.021\n",
            "loss: 9.081, intercept: 0.102, slope_1: 0.502, slope_2: 0.022\n",
            "loss: 9.069, intercept: 0.103, slope_1: 0.503, slope_2: 0.023\n",
            "loss: 9.058, intercept: 0.104, slope_1: 0.504, slope_2: 0.024\n",
            "loss: 9.046, intercept: 0.105, slope_1: 0.505, slope_2: 0.025\n",
            "loss: 9.034, intercept: 0.106, slope_1: 0.506, slope_2: 0.026\n",
            "loss: 9.022, intercept: 0.107, slope_1: 0.507, slope_2: 0.027\n",
            "loss: 9.010, intercept: 0.108, slope_1: 0.508, slope_2: 0.028\n",
            "loss: 8.998, intercept: 0.109, slope_1: 0.509, slope_2: 0.029\n",
            "loss: 8.986, intercept: 0.110, slope_1: 0.510, slope_2: 0.030\n"
          ]
        }
      ]
    },
    {
      "cell_type": "markdown",
      "source": [
        "# Preparing to batch train\n",
        "Before we can train a linear model in batches, we must first define variables, a loss function, and an optimization operation. In this exercise, we will prepare to train a model that will predict price_batch, a batch of house prices, using size_batch, a batch of lot sizes in square feet. In contrast to the previous lesson, we will do this by loading batches of data using pandas, converting it to numpy arrays, and then using it to minimize the loss function in steps.\n",
        "\n",
        "Variable(), keras(), and float32 have been imported for you. Note that you should not set default argument values for either the model or loss function, since we will generate the data in batches during the training process."
      ],
      "metadata": {
        "id": "Y7S3ENKwycEl"
      }
    },
    {
      "cell_type": "code",
      "source": [
        "# Define the intercept and slope\n",
        "intercept = Variable(10.0, float32)\n",
        "slope = Variable(0.5, float32)\n",
        "\n",
        "# Define the model\n",
        "def linear_regression(intercept, slope, features):\n",
        "\t# Define the predicted values\n",
        "\treturn intercept + features*slope\n",
        "\n",
        "# Define the loss function\n",
        "def loss_function(intercept, slope, targets, features):\n",
        "\t# Define the predicted values\n",
        "\tpredictions = linear_regression(intercept, slope, features)\n",
        "    \n",
        " \t# Define the MSE loss\n",
        "\treturn keras.losses.mse(targets, predictions)"
      ],
      "metadata": {
        "id": "o-hKPWiHtRUo"
      },
      "execution_count": null,
      "outputs": []
    },
    {
      "cell_type": "markdown",
      "source": [
        "# Training a linear model in batches\n",
        "In this exercise, we will train a linear regression model in batches, starting where we left off in the previous exercise. We will do this by stepping through the dataset in batches and updating the model's variables, intercept and slope, after each step. This approach will allow us to train with datasets that are otherwise too large to hold in memory.\n",
        "\n",
        "Note that the loss function,loss_function(intercept, slope, targets, features), has been defined for you. Additionally, keras has been imported for you and numpy is available as np. The trainable variables should be entered into var_list in the order in which they appear as loss function arguments."
      ],
      "metadata": {
        "id": "fZqRLs6U0b0K"
      }
    },
    {
      "cell_type": "code",
      "source": [
        "# Initialize Adam optimizer\n",
        "opt = keras.optimizers.Adam()\n",
        "\n",
        "# Load data in batches\n",
        "for batch in pd.read_csv('kc_house_data.csv', chunksize=100):\n",
        "\tsize_batch = np.array(batch['sqft_lot'], np.float32)\n",
        "\n",
        "\t# Extract the price values for the current batch\n",
        "\tprice_batch = np.array(batch['price'], np.float32)\n",
        "\n",
        "\t# Complete the loss, fill in the variable list, and minimize\n",
        "\topt.minimize(lambda: loss_function(intercept, slope, price_batch, size_batch), var_list=[intercept, slope])\n",
        "\n",
        "# Print trained parameters\n",
        "print(intercept.numpy(), slope.numpy())"
      ],
      "metadata": {
        "colab": {
          "base_uri": "https://localhost:8080/"
        },
        "id": "TTCejmFY0BQa",
        "outputId": "262c2950-0e38-4681-e52c-f30b49a9ed9f"
      },
      "execution_count": null,
      "outputs": [
        {
          "output_type": "stream",
          "name": "stdout",
          "text": [
            "10.217888 0.7016001\n"
          ]
        }
      ]
    },
    {
      "cell_type": "markdown",
      "source": [
        "# The linear algebra of dense layers\n",
        "There are two ways to define a dense layer in tensorflow. The first involves the use of low-level, linear algebraic operations. The second makes use of high-level keras operations. In this exercise, we will use the first method to construct the network shown in the image below.\n",
        "\n",
        "This image depicts an neural network with 5 input nodes and 3 output nodes.\n",
        "The input layer contains 3 features -- education, marital status, and age -- which are available as borrower_features. The hidden layer contains 2 nodes and the output layer contains a single node.\n",
        "\n",
        "For each layer, you will take the previous layer as an input, initialize a set of weights, compute the product of the inputs and weights, and then apply an activation function. Note that Variable(), ones(), matmul(), and keras() have been imported from tensorflow."
      ],
      "metadata": {
        "id": "QfO1QYbJ8D_c"
      }
    },
    {
      "cell_type": "code",
      "source": [
        "import numpy as np\n",
        "import pandas as pd\n",
        "\n",
        "borrower_features= np.array([[2,2,43]], dtype=np.float32)\n",
        "borrower_features"
      ],
      "metadata": {
        "colab": {
          "base_uri": "https://localhost:8080/"
        },
        "id": "pTrvmzd91f2E",
        "outputId": "219f0c7c-e369-48ff-dc7b-9d8d1e27a7c8"
      },
      "execution_count": 1,
      "outputs": [
        {
          "output_type": "execute_result",
          "data": {
            "text/plain": [
              "array([[ 2.,  2., 43.]], dtype=float32)"
            ]
          },
          "metadata": {},
          "execution_count": 1
        }
      ]
    },
    {
      "cell_type": "code",
      "source": [
        "from tensorflow import ones, Variable, matmul, keras\n",
        "# Initialize bias1\n",
        "bias1 = Variable(1.0)\n",
        "\n",
        "# Initialize weights1 as 3x2 variable of ones\n",
        "weights1 = Variable(ones((3, 2)))\n",
        "\n",
        "# Perform matrix multiplication of borrower_features and weights1\n",
        "product1 = matmul(borrower_features, weights1)\n",
        "\n",
        "# Apply sigmoid activation function to product1 + bias1\n",
        "dense1 = keras.activations.sigmoid(product1 + bias1)\n",
        "\n",
        "# Print shape of dense1\n",
        "print(\"\\n dense1's output shape: {}\".format(dense1.shape))\n",
        "\n",
        "# Initialize bias2 and weights2\n",
        "bias2 = Variable(1.0)\n",
        "weights2 = Variable(ones((2, 1)))\n",
        "\n",
        "# Perform matrix multiplication of dense1 and weights2\n",
        "product2 = matmul(dense1, weights2)\n",
        "\n",
        "# Apply activation to product2 + bias2 and print the prediction\n",
        "prediction = keras.activations.sigmoid(product2 + bias2)\n",
        "print('\\n prediction: {}'.format(prediction.numpy()[0,0]))\n",
        "print('\\n actual: 1')"
      ],
      "metadata": {
        "colab": {
          "base_uri": "https://localhost:8080/"
        },
        "id": "P15X8_Ts8WcW",
        "outputId": "a131dc76-da8a-4143-ae5a-e43c0a424c7d"
      },
      "execution_count": 2,
      "outputs": [
        {
          "output_type": "stream",
          "name": "stdout",
          "text": [
            "\n",
            " dense1's output shape: (1, 2)\n",
            "\n",
            " prediction: 0.9525741338729858\n",
            "\n",
            " actual: 1\n"
          ]
        }
      ]
    },
    {
      "cell_type": "markdown",
      "source": [
        "# The low-level approach with multiple examples\n",
        "In this exercise, we'll build further intuition for the low-level approach by constructing the first dense hidden layer for the case where we have multiple examples. We'll assume the model is trained and the first layer weights, weights1, and bias, bias1, are available. We'll then perform matrix multiplication of the borrower_features tensor by the weights1 variable. Recall that the borrower_features tensor includes education, marital status, and age. Finally, we'll apply the sigmoid function to the elements of products1 + bias1, yielding dense1.\n",
        "\n",
        " \n",
        " \n",
        "\n",
        "Note that matmul() and keras() have been imported from tensorflow."
      ],
      "metadata": {
        "id": "xPU9Iy9AynoM"
      }
    },
    {
      "cell_type": "code",
      "source": [
        "# Compute the product of borrower_features and weights1\n",
        "products1 = matmul(borrower_features, weights1)\n",
        "\n",
        "# Apply a sigmoid activation function to products1 + bias1\n",
        "dense1 = keras.activations.sigmoid(products1 + bias1)\n",
        "\n",
        "# Print the shapes of borrower_features, weights1, bias1, and dense1\n",
        "print('\\n shape of borrower_features: ', borrower_features.shape)\n",
        "print('\\n shape of weights1: ', weights1.shape)\n",
        "print('\\n shape of bias1: ', bias1.shape)\n",
        "print('\\n shape of dense1: ', dense1.shape)"
      ],
      "metadata": {
        "id": "2f7-FIJMIk3G",
        "colab": {
          "base_uri": "https://localhost:8080/"
        },
        "outputId": "a4f9da73-16fa-4dad-b35c-825b61562314"
      },
      "execution_count": 3,
      "outputs": [
        {
          "output_type": "stream",
          "name": "stdout",
          "text": [
            "\n",
            " shape of borrower_features:  (1, 3)\n",
            "\n",
            " shape of weights1:  (3, 2)\n",
            "\n",
            " shape of bias1:  ()\n",
            "\n",
            " shape of dense1:  (1, 2)\n"
          ]
        }
      ]
    },
    {
      "cell_type": "markdown",
      "source": [
        "# Using the dense layer operation\n",
        "We've now seen how to define dense layers in tensorflow using linear algebra. In this exercise, we'll skip the linear algebra and let keras work out the details. This will allow us to construct the network below, which has 2 hidden layers and 10 features, using less code than we needed for the network with 1 hidden layer and 3 features.\n",
        "\n",
        "This image depicts an neural network with 10 inputs nodes and 1 output node.\n",
        "\n",
        "To construct this network, we'll need to define three dense layers, each of which takes the previous layer as an input, multiplies it by weights, and applies an activation function. Note that input data has been defined and is available as a 100x10 tensor: borrower_features. Additionally, the keras.layers module is available."
      ],
      "metadata": {
        "id": "gMjrC0j7zjDR"
      }
    },
    {
      "cell_type": "code",
      "source": [
        "import tensorflow as tf\n",
        "from tensorflow import float32, cast\n",
        "borrower_features"
      ],
      "metadata": {
        "colab": {
          "base_uri": "https://localhost:8080/"
        },
        "id": "9hQuDocgzTDr",
        "outputId": "0650ce18-dc45-41df-a0ee-b4bc1743de23"
      },
      "execution_count": 6,
      "outputs": [
        {
          "output_type": "execute_result",
          "data": {
            "text/plain": [
              "<tf.Tensor: shape=(100, 10), dtype=float32, numpy=\n",
              "array([[6.96469188e-01, 2.86139339e-01, 2.26851448e-01, 5.51314771e-01,\n",
              "        7.19468951e-01, 4.23106462e-01, 9.80764210e-01, 6.84829712e-01,\n",
              "        4.80931908e-01, 3.92117530e-01],\n",
              "       [3.43178004e-01, 7.29049683e-01, 4.38572258e-01, 5.96778952e-02,\n",
              "        3.98044258e-01, 7.37995386e-01, 1.82491735e-01, 1.75451756e-01,\n",
              "        5.31551361e-01, 5.31827569e-01],\n",
              "       [6.34400964e-01, 8.49431813e-01, 7.24455297e-01, 6.11023486e-01,\n",
              "        7.22443402e-01, 3.22958916e-01, 3.61788660e-01, 2.28263229e-01,\n",
              "        2.93714046e-01, 6.30976140e-01],\n",
              "       [9.21049416e-02, 4.33701187e-01, 4.30862755e-01, 4.93685097e-01,\n",
              "        4.25830305e-01, 3.12261224e-01, 4.26351309e-01, 8.93389165e-01,\n",
              "        9.44160044e-01, 5.01836658e-01],\n",
              "       [6.23952925e-01, 1.15618393e-01, 3.17285478e-01, 4.14826214e-01,\n",
              "        8.66309166e-01, 2.50455379e-01, 4.83034253e-01, 9.85559762e-01,\n",
              "        5.19485116e-01, 6.12894535e-01],\n",
              "       [1.20628662e-01, 8.26340795e-01, 6.03060126e-01, 5.45068026e-01,\n",
              "        3.42763841e-01, 3.04120779e-01, 4.17022198e-01, 6.81300759e-01,\n",
              "        8.75456870e-01, 5.10422349e-01],\n",
              "       [6.69313788e-01, 5.85936546e-01, 6.24903500e-01, 6.74689054e-01,\n",
              "        8.42342436e-01, 8.31949860e-02, 7.63682842e-01, 2.43666381e-01,\n",
              "        1.94222957e-01, 5.72456956e-01],\n",
              "       [9.57125202e-02, 8.85326803e-01, 6.27248943e-01, 7.23416328e-01,\n",
              "        1.61292069e-02, 5.94431877e-01, 5.56785166e-01, 1.58959642e-01,\n",
              "        1.53070509e-01, 6.95529521e-01],\n",
              "       [3.18766415e-01, 6.91970289e-01, 5.54383278e-01, 3.88950586e-01,\n",
              "        9.25132513e-01, 8.41669977e-01, 3.57397556e-01, 4.35914621e-02,\n",
              "        3.04768085e-01, 3.98185670e-01],\n",
              "       [7.04958856e-01, 9.95358467e-01, 3.55914861e-01, 7.62547791e-01,\n",
              "        5.93176901e-01, 6.91701770e-01, 1.51127458e-01, 3.98876280e-01,\n",
              "        2.40855902e-01, 3.43456000e-01],\n",
              "       [5.13128161e-01, 6.66624546e-01, 1.05908483e-01, 1.30894944e-01,\n",
              "        3.21980596e-01, 6.61564350e-01, 8.46506238e-01, 5.53257346e-01,\n",
              "        8.54452491e-01, 3.84837806e-01],\n",
              "       [3.16787899e-01, 3.54264677e-01, 1.71081826e-01, 8.29112649e-01,\n",
              "        3.38670850e-01, 5.52370071e-01, 5.78551471e-01, 5.21533072e-01,\n",
              "        2.68806447e-03, 9.88345444e-01],\n",
              "       [9.05341566e-01, 2.07635865e-01, 2.92489409e-01, 5.20010173e-01,\n",
              "        9.01911378e-01, 9.83630896e-01, 2.57542074e-01, 5.64359069e-01,\n",
              "        8.06968689e-01, 3.94370049e-01],\n",
              "       [7.31073022e-01, 1.61069021e-01, 6.00698590e-01, 8.65864456e-01,\n",
              "        9.83521581e-01, 7.93657899e-02, 4.28347290e-01, 2.04542860e-01,\n",
              "        4.50636476e-01, 5.47763586e-01],\n",
              "       [9.33267102e-02, 2.96860784e-01, 9.27584231e-01, 5.69003761e-01,\n",
              "        4.57412004e-01, 7.53525972e-01, 7.41862178e-01, 4.85790335e-02,\n",
              "        7.08697379e-01, 8.39243352e-01],\n",
              "       [1.65937886e-01, 7.80997932e-01, 2.86536604e-01, 3.06469738e-01,\n",
              "        6.65261447e-01, 1.11392170e-01, 6.64872468e-01, 8.87856781e-01,\n",
              "        6.96311295e-01, 4.40327883e-01],\n",
              "       [4.38214391e-01, 7.65096068e-01, 5.65641999e-01, 8.49041641e-02,\n",
              "        5.82671106e-01, 8.14843714e-01, 3.37066382e-01, 9.27576602e-01,\n",
              "        7.50716984e-01, 5.74063838e-01],\n",
              "       [7.51644015e-01, 7.91489631e-02, 8.59389067e-01, 8.21504116e-01,\n",
              "        9.09871638e-01, 1.28631204e-01, 8.17800835e-02, 1.38415575e-01,\n",
              "        3.99378717e-01, 4.24306870e-01],\n",
              "       [5.62218368e-01, 1.22243546e-01, 2.01399505e-01, 8.11644375e-01,\n",
              "        4.67987567e-01, 8.07938218e-01, 7.42637832e-03, 5.51592708e-01,\n",
              "        9.31932151e-01, 5.82175434e-01],\n",
              "       [2.06095725e-01, 7.17757583e-01, 3.78985852e-01, 6.68383956e-01,\n",
              "        2.93197222e-02, 6.35900378e-01, 3.21979336e-02, 7.44780660e-01,\n",
              "        4.72912997e-01, 1.21754356e-01],\n",
              "       [5.42635918e-01, 6.67744428e-02, 6.53364897e-01, 9.96086299e-01,\n",
              "        7.69397318e-01, 5.73774099e-01, 1.02635257e-01, 6.99834049e-01,\n",
              "        6.61167860e-01, 4.90971319e-02],\n",
              "       [7.92299330e-01, 5.18716574e-01, 4.25867707e-01, 7.88187146e-01,\n",
              "        4.11569238e-01, 4.81026262e-01, 1.81628838e-01, 3.21318895e-01,\n",
              "        8.45533013e-01, 1.86903745e-01],\n",
              "       [4.17291075e-01, 9.89034534e-01, 2.36599818e-01, 9.16832328e-01,\n",
              "        9.18397486e-01, 9.12963450e-02, 4.63652730e-01, 5.02216339e-01,\n",
              "        3.13668936e-01, 4.73395362e-02],\n",
              "       [2.41685644e-01, 9.55296382e-02, 2.38249913e-01, 8.07791114e-01,\n",
              "        8.94978285e-01, 4.32228930e-02, 3.01946849e-01, 9.80582178e-01,\n",
              "        5.39504826e-01, 6.26309335e-01],\n",
              "       [5.54540846e-03, 4.84909445e-01, 9.88328516e-01, 3.75185519e-01,\n",
              "        9.70381573e-02, 4.61908758e-01, 9.63004470e-01, 3.41830611e-01,\n",
              "        7.98922718e-01, 7.98846304e-01],\n",
              "       [2.08248302e-01, 4.43367690e-01, 7.15601265e-01, 4.10519779e-01,\n",
              "        1.91006958e-01, 9.67494309e-01, 6.50750339e-01, 8.65459859e-01,\n",
              "        2.52423584e-02, 2.66905814e-01],\n",
              "       [5.02071083e-01, 6.74486384e-02, 9.93033290e-01, 2.36462399e-01,\n",
              "        3.74292195e-01, 2.14011908e-01, 1.05445869e-01, 2.32479781e-01,\n",
              "        3.00610125e-01, 6.34442270e-01],\n",
              "       [2.81234771e-01, 3.62276763e-01, 5.94284385e-03, 3.65719140e-01,\n",
              "        5.33885956e-01, 1.62015840e-01, 5.97433090e-01, 2.93152481e-01,\n",
              "        6.32050514e-01, 2.61966046e-02],\n",
              "       [8.87593448e-01, 1.61186308e-02, 1.26958027e-01, 7.77162433e-01,\n",
              "        4.58952338e-02, 7.10998714e-01, 9.71046150e-01, 8.71682942e-01,\n",
              "        7.10161626e-01, 9.58509743e-01],\n",
              "       [4.29813325e-01, 8.72878909e-01, 3.55957657e-01, 9.29763675e-01,\n",
              "        1.48777649e-01, 9.40029025e-01, 8.32716227e-01, 8.46054852e-01,\n",
              "        1.23923011e-01, 5.96486926e-01],\n",
              "       [1.63924806e-02, 7.21184373e-01, 7.73751410e-03, 8.48222747e-02,\n",
              "        2.25498408e-01, 8.75124514e-01, 3.63576323e-01, 5.39959908e-01,\n",
              "        5.68103194e-01, 2.25463361e-01],\n",
              "       [5.72146773e-01, 6.60951793e-01, 2.98245400e-01, 4.18626845e-01,\n",
              "        4.53088939e-01, 9.32350636e-01, 5.87493777e-01, 9.48252380e-01,\n",
              "        5.56034744e-01, 5.00561416e-01],\n",
              "       [3.53221106e-03, 4.80889052e-01, 9.27455008e-01, 1.98365688e-01,\n",
              "        5.20911328e-02, 4.06778902e-01, 3.72396469e-01, 8.57153058e-01,\n",
              "        2.66111158e-02, 9.20149207e-01],\n",
              "       [6.80903018e-01, 9.04226005e-01, 6.07529044e-01, 8.11953306e-01,\n",
              "        3.35543871e-01, 3.49566221e-01, 3.89874220e-01, 7.54797101e-01,\n",
              "        3.69291186e-01, 2.42219806e-01],\n",
              "       [9.37668383e-01, 9.08011079e-01, 3.48797321e-01, 6.34638071e-01,\n",
              "        2.73842216e-01, 2.06115127e-01, 3.36339533e-01, 3.27099890e-01,\n",
              "        8.82276118e-01, 8.22303832e-01],\n",
              "       [7.09623218e-01, 9.59345222e-01, 4.22543347e-01, 2.45033041e-01,\n",
              "        1.17398441e-01, 3.01053345e-01, 1.45263731e-01, 9.21861008e-02,\n",
              "        6.02932215e-01, 3.64187449e-01],\n",
              "       [5.64570367e-01, 1.91335723e-01, 6.76905870e-01, 2.15505451e-01,\n",
              "        2.78023601e-01, 7.41760433e-01, 5.59737921e-01, 3.34836423e-01,\n",
              "        5.42988777e-01, 6.93984687e-01],\n",
              "       [9.12132144e-01, 5.80713212e-01, 2.32686386e-01, 7.46697605e-01,\n",
              "        7.77769029e-01, 2.00401321e-01, 8.20574224e-01, 4.64934856e-01,\n",
              "        7.79766679e-01, 2.37478226e-01],\n",
              "       [3.32580268e-01, 9.53697145e-01, 6.57815099e-01, 7.72877812e-01,\n",
              "        6.88374341e-01, 2.04304114e-01, 4.70688760e-01, 8.08963895e-01,\n",
              "        6.75035119e-01, 6.02788571e-03],\n",
              "       [8.74077454e-02, 3.46794724e-01, 9.44365561e-01, 4.91190493e-01,\n",
              "        2.70176262e-01, 3.60423714e-01, 2.10652635e-01, 4.21200067e-01,\n",
              "        2.18035445e-01, 8.45752478e-01],\n",
              "       [4.56270605e-01, 2.79802024e-01, 9.32891667e-01, 3.14351350e-01,\n",
              "        9.09714639e-01, 4.34180908e-02, 7.07115054e-01, 4.83889043e-01,\n",
              "        4.44221050e-01, 3.63233462e-02],\n",
              "       [4.06831913e-02, 3.32753628e-01, 9.47119534e-01, 6.17659986e-01,\n",
              "        3.68874848e-01, 6.11977041e-01, 2.06131533e-01, 1.65066436e-01,\n",
              "        3.61817271e-01, 8.63353372e-01],\n",
              "       [5.09401739e-01, 2.96901524e-01, 9.50251639e-01, 8.15966070e-01,\n",
              "        3.22973937e-01, 9.72098231e-01, 9.87351120e-01, 4.08660144e-01,\n",
              "        6.55923128e-01, 4.05653208e-01],\n",
              "       [2.57348120e-01, 8.26526731e-02, 2.63610333e-01, 2.71479845e-01,\n",
              "        3.98639083e-01, 1.84886038e-01, 9.53818381e-01, 1.02879882e-01,\n",
              "        6.25208557e-01, 4.41697389e-01],\n",
              "       [4.23518062e-01, 3.71991783e-01, 8.68314683e-01, 2.80476987e-01,\n",
              "        2.05761567e-02, 9.18097019e-01, 8.64480257e-01, 2.76901782e-01,\n",
              "        5.23487568e-01, 1.09088197e-01],\n",
              "       [9.34270695e-02, 8.37466121e-01, 4.10265714e-01, 6.61716521e-01,\n",
              "        9.43200588e-01, 2.45130599e-01, 1.31598311e-02, 2.41484065e-02,\n",
              "        7.09385693e-01, 9.24551904e-01],\n",
              "       [4.67330277e-01, 3.75109136e-01, 5.42860448e-01, 8.58916819e-01,\n",
              "        6.52153850e-01, 2.32979894e-01, 7.74580181e-01, 1.34613499e-01,\n",
              "        1.65559977e-01, 6.12682283e-01],\n",
              "       [2.38783404e-01, 7.04778552e-01, 3.49518538e-01, 2.77423948e-01,\n",
              "        9.98918414e-01, 4.06161249e-02, 6.45822525e-01, 3.86995859e-02,\n",
              "        7.60210276e-01, 2.30089962e-01],\n",
              "       [8.98318663e-02, 6.48449719e-01, 7.32601225e-01, 6.78095341e-01,\n",
              "        5.19009456e-02, 2.94306934e-01, 4.51088339e-01, 2.87103295e-01,\n",
              "        8.10513437e-01, 1.31115109e-01],\n",
              "       [6.12179339e-01, 9.88214970e-01, 9.02556539e-01, 2.22157061e-01,\n",
              "        8.18876142e-05, 9.80597317e-01, 8.82712960e-01, 9.19472456e-01,\n",
              "        4.15503561e-01, 7.44615436e-01],\n",
              "       [2.12831497e-01, 3.92304063e-01, 8.51548076e-01, 1.27612218e-01,\n",
              "        8.93865347e-01, 4.96507972e-01, 4.26095665e-01, 3.05646390e-01,\n",
              "        9.16848779e-01, 5.17623484e-01],\n",
              "       [8.04026365e-01, 8.57651770e-01, 9.22382355e-01, 3.03380728e-01,\n",
              "        3.39810848e-01, 5.95073879e-01, 4.41324145e-01, 9.32842553e-01,\n",
              "        3.97564054e-01, 4.77778047e-01],\n",
              "       [6.17186069e-01, 4.04739499e-01, 9.92478430e-01, 9.88512859e-02,\n",
              "        2.20603317e-01, 3.22655141e-01, 1.47722840e-01, 2.84219235e-01,\n",
              "        7.79245317e-01, 5.22891998e-01],\n",
              "       [3.39536369e-02, 9.82622564e-01, 6.16006494e-01, 5.89394793e-02,\n",
              "        6.61168754e-01, 3.78369361e-01, 1.35673299e-01, 5.63664615e-01,\n",
              "        7.27079928e-01, 6.71126604e-01],\n",
              "       [2.47513160e-01, 5.24866223e-01, 5.37663460e-01, 7.16803372e-01,\n",
              "        3.59867334e-01, 7.97732592e-01, 6.27921820e-01, 3.83316055e-02,\n",
              "        5.46479046e-01, 8.61912072e-01],\n",
              "       [5.67574143e-01, 1.75828263e-01, 5.10376394e-01, 7.56945848e-01,\n",
              "        1.10105194e-01, 8.17099094e-01, 1.67481646e-01, 5.34076512e-01,\n",
              "        3.85743469e-01, 2.48623773e-01],\n",
              "       [6.47432506e-01, 3.73921096e-02, 7.60045826e-01, 5.26940644e-01,\n",
              "        8.75771224e-01, 5.20718336e-01, 3.50331701e-02, 1.43600971e-01,\n",
              "        7.95604587e-01, 4.91976053e-01],\n",
              "       [4.41879272e-01, 3.18434775e-01, 2.84549206e-01, 9.65886295e-01,\n",
              "        4.32969332e-01, 8.84003043e-01, 6.48163140e-01, 8.58427644e-01,\n",
              "        8.52449536e-01, 9.56312001e-01],\n",
              "       [6.97942257e-01, 8.05396914e-01, 7.33127892e-01, 6.05226815e-01,\n",
              "        7.17354119e-01, 7.15750396e-01, 4.09077927e-02, 5.16110837e-01,\n",
              "        7.92651355e-01, 2.42962182e-01],\n",
              "       [4.65147972e-01, 4.34985697e-01, 4.02787179e-01, 1.21839531e-01,\n",
              "        5.25711536e-01, 4.46248353e-01, 6.63392782e-01, 5.49413085e-01,\n",
              "        2.75429301e-02, 3.19179893e-02],\n",
              "       [7.01359808e-01, 7.07581103e-01, 9.59939122e-01, 8.76704693e-01,\n",
              "        4.68059659e-01, 6.25906527e-01, 4.57181722e-01, 2.22946241e-01,\n",
              "        3.76677006e-01, 1.03884235e-01],\n",
              "       [6.66527092e-01, 1.92030147e-01, 4.75467801e-01, 9.67436612e-01,\n",
              "        3.16689312e-02, 1.51729956e-01, 2.98579186e-01, 9.41806972e-01,\n",
              "        9.08841789e-01, 1.62000835e-01],\n",
              "       [9.81117785e-01, 7.50747502e-01, 5.39977074e-01, 9.31702912e-01,\n",
              "        8.80607128e-01, 3.91316503e-01, 6.56343222e-01, 6.47385120e-01,\n",
              "        3.26968193e-01, 1.79390177e-01],\n",
              "       [4.66809869e-01, 2.63281047e-01, 3.55065137e-01, 9.54143941e-01,\n",
              "        4.61137861e-01, 6.84891462e-01, 3.36229891e-01, 9.95861053e-01,\n",
              "        6.58767581e-01, 1.96009472e-01],\n",
              "       [9.81839970e-02, 9.43180561e-01, 9.44777846e-01, 6.21328354e-01,\n",
              "        1.69914998e-02, 2.25534886e-01, 8.01276803e-01, 8.75459850e-01,\n",
              "        4.53989804e-01, 3.65520626e-01],\n",
              "       [2.74224997e-01, 1.16970517e-01, 1.15744539e-01, 9.52602684e-01,\n",
              "        8.08626115e-01, 1.64779365e-01, 2.07050055e-01, 6.55551553e-01,\n",
              "        7.64664233e-01, 8.10314834e-01],\n",
              "       [1.63337693e-01, 9.84128296e-01, 2.27802068e-01, 5.89415431e-01,\n",
              "        5.87615728e-01, 9.67361867e-01, 6.57667458e-01, 5.84904253e-01,\n",
              "        5.18772602e-01, 7.64657557e-01],\n",
              "       [1.06055260e-01, 2.09190114e-03, 9.52488840e-01, 4.98657674e-01,\n",
              "        3.28335375e-01, 3.68053257e-01, 8.03843319e-01, 3.82370204e-01,\n",
              "        7.70169199e-01, 4.40461993e-01],\n",
              "       [8.44077468e-01, 7.62040615e-02, 4.81128335e-01, 4.66849715e-01,\n",
              "        2.64327973e-01, 9.43614721e-01, 9.05028462e-01, 4.43596303e-01,\n",
              "        9.71596092e-02, 2.06783146e-01],\n",
              "       [2.71491826e-01, 4.84219760e-01, 3.38377118e-01, 7.74136066e-01,\n",
              "        4.76026595e-01, 8.70370507e-01, 9.95781779e-01, 2.19835952e-01,\n",
              "        6.11671388e-01, 8.47502291e-01],\n",
              "       [9.45236623e-01, 2.90086418e-01, 7.27042735e-01, 1.50161488e-02,\n",
              "        8.79142463e-01, 6.39385507e-02, 7.33395398e-01, 9.94610369e-01,\n",
              "        5.01189768e-01, 2.09333986e-01],\n",
              "       [5.94643593e-01, 6.24149978e-01, 6.68072760e-01, 1.72611743e-01,\n",
              "        8.98712695e-01, 6.20991349e-01, 4.35687043e-02, 6.84041083e-01,\n",
              "        1.96084052e-01, 2.73407809e-02],\n",
              "       [5.50953269e-01, 8.13313663e-01, 8.59941125e-01, 1.03520922e-01,\n",
              "        6.63042784e-01, 7.10075200e-01, 2.94516981e-01, 9.71364021e-01,\n",
              "        2.78687477e-01, 6.99821860e-02],\n",
              "       [5.19280374e-01, 6.94314897e-01, 2.44659781e-01, 3.38582188e-01,\n",
              "        5.63627958e-01, 8.86678159e-01, 7.47325897e-01, 2.09591955e-01,\n",
              "        2.51777083e-01, 5.23880661e-01],\n",
              "       [7.68958688e-01, 6.18761778e-01, 5.01324296e-01, 5.97125351e-01,\n",
              "        7.56060004e-01, 5.37079811e-01, 8.97752762e-01, 9.47067499e-01,\n",
              "        9.15354490e-01, 7.54518330e-01],\n",
              "       [2.46321008e-01, 3.85271460e-01, 2.79999942e-01, 6.57660246e-01,\n",
              "        3.24221611e-01, 7.54391611e-01, 1.13509081e-01, 7.75364757e-01,\n",
              "        5.85901976e-01, 8.35388660e-01],\n",
              "       [4.30875659e-01, 6.24964476e-01, 5.54412127e-01, 9.75671291e-01,\n",
              "        7.55474389e-01, 5.44813275e-01, 1.74032092e-01, 9.04114246e-01,\n",
              "        2.05837786e-01, 6.50043249e-01],\n",
              "       [9.36471879e-01, 2.23579630e-01, 2.25923538e-01, 8.51818919e-01,\n",
              "        8.27655017e-01, 3.51703346e-01, 2.65096277e-01, 1.27388477e-01,\n",
              "        9.87936080e-01, 8.35343122e-01],\n",
              "       [8.99391592e-01, 5.13679326e-01, 1.14384830e-01, 5.25803380e-02,\n",
              "        3.30582112e-01, 9.20330405e-01, 9.47581828e-01, 8.41163874e-01,\n",
              "        1.58679143e-01, 4.19923156e-01],\n",
              "       [2.46242926e-01, 2.05349773e-01, 6.84825838e-01, 4.86111671e-01,\n",
              "        3.24909657e-01, 1.00214459e-01, 5.44763386e-01, 3.47025156e-01,\n",
              "        3.91095817e-01, 3.10508728e-01],\n",
              "       [3.87195200e-01, 5.55859566e-01, 1.41438060e-02, 8.47647011e-01,\n",
              "        9.21919882e-01, 5.50529718e-01, 2.68021107e-01, 9.90239024e-01,\n",
              "        3.83194029e-01, 6.93655372e-01],\n",
              "       [6.89952552e-01, 4.34309065e-01, 1.99158162e-01, 9.66579378e-01,\n",
              "        6.36908561e-02, 4.85149384e-01, 2.20730707e-01, 2.93974131e-01,\n",
              "        8.28527331e-01, 3.67265552e-01],\n",
              "       [8.33482668e-02, 1.96309000e-01, 8.60373437e-01, 9.77028847e-01,\n",
              "        2.67982155e-01, 6.75408959e-01, 8.11989978e-02, 7.23465621e-01,\n",
              "        4.16436613e-01, 9.18159902e-01],\n",
              "       [3.11536163e-01, 9.41466987e-01, 5.03247440e-01, 3.48892927e-01,\n",
              "        6.47019625e-01, 2.49746203e-01, 2.29763597e-01, 1.96346447e-01,\n",
              "        9.59899545e-01, 4.92913723e-01],\n",
              "       [7.51614988e-01, 4.73991871e-01, 5.87540150e-01, 5.84138989e-01,\n",
              "        9.79886293e-01, 6.68433130e-01, 2.39769474e-01, 1.51976589e-02,\n",
              "        2.18682140e-01, 4.55519646e-01],\n",
              "       [3.93420339e-01, 8.12326252e-01, 7.85556734e-01, 8.90959650e-02,\n",
              "        9.52010751e-01, 5.27456701e-01, 5.96403956e-01, 4.05056775e-01,\n",
              "        6.49500966e-01, 8.71326327e-01],\n",
              "       [6.73935950e-01, 9.70098555e-01, 7.01122224e-01, 8.21720719e-01,\n",
              "        4.50395830e-02, 6.72698498e-01, 6.54752672e-01, 1.01746053e-01,\n",
              "        8.42387497e-01, 6.14172399e-01],\n",
              "       [9.83280912e-02, 5.94467103e-01, 4.78415847e-01, 2.33293563e-01,\n",
              "        1.97560899e-02, 3.65567267e-01, 6.19851053e-01, 3.29279125e-01,\n",
              "        3.07254642e-01, 7.51121223e-01],\n",
              "       [7.58624673e-01, 7.18765855e-01, 1.01181954e-01, 5.16165972e-01,\n",
              "        5.57798684e-01, 7.44804502e-01, 9.03177738e-01, 3.69038880e-01,\n",
              "        4.28663462e-01, 7.32767463e-01],\n",
              "       [6.62636399e-01, 5.57869911e-01, 3.50139618e-01, 1.95352346e-01,\n",
              "        1.83807373e-01, 8.15832913e-02, 8.12008530e-02, 8.45798194e-01,\n",
              "        3.83672744e-01, 6.07396215e-02],\n",
              "       [8.96425664e-01, 2.23270476e-01, 2.68124431e-01, 1.94497839e-01,\n",
              "        9.67501044e-01, 1.12540089e-01, 7.22163260e-01, 9.32088733e-01,\n",
              "        6.68001294e-01, 8.58726621e-01],\n",
              "       [2.42447108e-01, 6.73927963e-01, 7.00871348e-01, 4.58332509e-01,\n",
              "        8.70545626e-01, 6.94386125e-01, 8.94877791e-01, 7.53204346e-01,\n",
              "        5.20290434e-01, 4.98688221e-01],\n",
              "       [4.53727633e-01, 2.16468628e-02, 5.35141408e-01, 4.22973245e-01,\n",
              "        1.57533601e-01, 1.19069695e-01, 4.49351877e-01, 3.99130546e-02,\n",
              "        9.86579895e-01, 3.78120929e-01],\n",
              "       [3.82109195e-01, 5.11263013e-02, 4.26672339e-01, 1.57454368e-02,\n",
              "        3.00936326e-02, 3.39099228e-01, 8.20968926e-01, 4.58821088e-01,\n",
              "        1.48405796e-02, 1.63220033e-01],\n",
              "       [7.39922702e-01, 7.38293707e-01, 7.54522920e-01, 3.51669371e-01,\n",
              "        3.52276951e-01, 8.02075684e-01, 3.98137897e-01, 7.27191031e-01,\n",
              "        5.81122994e-01, 3.64341676e-01],\n",
              "       [8.00065175e-02, 1.16125375e-01, 8.89558733e-01, 4.52340513e-01,\n",
              "        9.94004548e-01, 3.63896936e-01, 2.49954298e-01, 3.50539327e-01,\n",
              "        3.43086094e-01, 6.37356758e-01],\n",
              "       [1.27375638e-02, 7.63268650e-01, 4.16414618e-01, 4.32239205e-01,\n",
              "        4.81115013e-01, 4.49212462e-01, 4.97470886e-01, 3.45904320e-01,\n",
              "        4.53346133e-01, 4.04651344e-01],\n",
              "       [5.18242717e-01, 6.23269081e-01, 2.41040602e-01, 5.08437157e-01,\n",
              "        5.94621897e-01, 1.69483144e-02, 5.20493746e-01, 2.39293247e-01,\n",
              "        4.04538542e-01, 8.26530159e-01],\n",
              "       [3.26235592e-01, 4.83216912e-01, 2.47411542e-02, 3.08750868e-01,\n",
              "        6.39721096e-01, 3.15161765e-01, 2.05797508e-01, 2.90655673e-01,\n",
              "        9.54378307e-01, 8.68018195e-02],\n",
              "       [4.63357776e-01, 5.83869033e-02, 5.38658261e-01, 1.46035731e-01,\n",
              "        6.34084821e-01, 2.64397472e-01, 6.90915406e-01, 3.47146064e-01,\n",
              "        4.16848855e-03, 2.94894695e-01]], dtype=float32)>"
            ]
          },
          "metadata": {},
          "execution_count": 6
        }
      ]
    },
    {
      "cell_type": "code",
      "source": [
        "# define the first layer\n",
        "dense1= keras.layers.Dense(7, activation='sigmoid')(borrower_features)\n",
        "\n",
        "# define the dense layer with 3 output nodes\n",
        "dense2= keras.layers.Dense(3, activation='sigmoid')(dense1)\n",
        "\n",
        "# define dense layer with 1 output node\n",
        "predictions= keras.layers.Dense(1, activation='sigmoid')(dense2)\n",
        "\n",
        "# Print the shapes of dense1, dense2, and predictions\n",
        "print('\\n shape of dense1: ', dense1.shape)\n",
        "print('\\n shape of dense2: ', dense2.shape)\n",
        "print('\\n shape of predictions: ', predictions.shape)"
      ],
      "metadata": {
        "colab": {
          "base_uri": "https://localhost:8080/"
        },
        "id": "BMem5Ob50Rww",
        "outputId": "6304bcd1-0054-4506-b96d-25ce37403d87"
      },
      "execution_count": 7,
      "outputs": [
        {
          "output_type": "stream",
          "name": "stdout",
          "text": [
            "\n",
            " shape of dense1:  (100, 7)\n",
            "\n",
            " shape of dense2:  (100, 3)\n",
            "\n",
            " shape of predictions:  (100, 1)\n"
          ]
        }
      ]
    },
    {
      "cell_type": "markdown",
      "source": [
        "# Binary classification problems\n",
        "In this exercise, you will again make use of credit card data. The target variable, default, indicates whether a credit card holder defaults on his or her payment in the following period. Since there are only two options--default or not--this is a binary classification problem. While the dataset has many features, you will focus on just three: the size of the three latest credit card bills. Finally, you will compute predictions from your untrained network, outputs, and compare those the target variable, default.\n",
        "\n",
        "The tensor of features has been loaded and is available as bill_amounts. Additionally, the constant(), float32, and keras.layers.Dense() operations are available."
      ],
      "metadata": {
        "id": "KW3h8Fx62dNd"
      }
    },
    {
      "cell_type": "code",
      "source": [
        "print(df.shape)\n",
        "df.head()"
      ],
      "metadata": {
        "colab": {
          "base_uri": "https://localhost:8080/",
          "height": 317
        },
        "id": "y04qhEYl40NY",
        "outputId": "611f137e-d50e-4bf0-e114-8e0213d63502"
      },
      "execution_count": 49,
      "outputs": [
        {
          "output_type": "stream",
          "name": "stdout",
          "text": [
            "(30000, 25)\n"
          ]
        },
        {
          "output_type": "execute_result",
          "data": {
            "text/plain": [
              "   ID  LIMIT_BAL  SEX  EDUCATION  MARRIAGE  AGE  PAY_0  PAY_2  PAY_3  PAY_4  \\\n",
              "0   1    20000.0    2          2         1   24      2      2     -1     -1   \n",
              "1   2   120000.0    2          2         2   26     -1      2      0      0   \n",
              "2   3    90000.0    2          2         2   34      0      0      0      0   \n",
              "3   4    50000.0    2          2         1   37      0      0      0      0   \n",
              "4   5    50000.0    1          2         1   57     -1      0     -1      0   \n",
              "\n",
              "   ...  BILL_AMT4  BILL_AMT5  BILL_AMT6  PAY_AMT1  PAY_AMT2  PAY_AMT3  \\\n",
              "0  ...        0.0        0.0        0.0       0.0     689.0       0.0   \n",
              "1  ...     3272.0     3455.0     3261.0       0.0    1000.0    1000.0   \n",
              "2  ...    14331.0    14948.0    15549.0    1518.0    1500.0    1000.0   \n",
              "3  ...    28314.0    28959.0    29547.0    2000.0    2019.0    1200.0   \n",
              "4  ...    20940.0    19146.0    19131.0    2000.0   36681.0   10000.0   \n",
              "\n",
              "   PAY_AMT4  PAY_AMT5  PAY_AMT6  default.payment.next.month  \n",
              "0       0.0       0.0       0.0                           1  \n",
              "1    1000.0       0.0    2000.0                           1  \n",
              "2    1000.0    1000.0    5000.0                           0  \n",
              "3    1100.0    1069.0    1000.0                           0  \n",
              "4    9000.0     689.0     679.0                           0  \n",
              "\n",
              "[5 rows x 25 columns]"
            ],
            "text/html": [
              "\n",
              "  <div id=\"df-bfc1b164-ebb1-496f-a64a-d3c7d8656061\">\n",
              "    <div class=\"colab-df-container\">\n",
              "      <div>\n",
              "<style scoped>\n",
              "    .dataframe tbody tr th:only-of-type {\n",
              "        vertical-align: middle;\n",
              "    }\n",
              "\n",
              "    .dataframe tbody tr th {\n",
              "        vertical-align: top;\n",
              "    }\n",
              "\n",
              "    .dataframe thead th {\n",
              "        text-align: right;\n",
              "    }\n",
              "</style>\n",
              "<table border=\"1\" class=\"dataframe\">\n",
              "  <thead>\n",
              "    <tr style=\"text-align: right;\">\n",
              "      <th></th>\n",
              "      <th>ID</th>\n",
              "      <th>LIMIT_BAL</th>\n",
              "      <th>SEX</th>\n",
              "      <th>EDUCATION</th>\n",
              "      <th>MARRIAGE</th>\n",
              "      <th>AGE</th>\n",
              "      <th>PAY_0</th>\n",
              "      <th>PAY_2</th>\n",
              "      <th>PAY_3</th>\n",
              "      <th>PAY_4</th>\n",
              "      <th>...</th>\n",
              "      <th>BILL_AMT4</th>\n",
              "      <th>BILL_AMT5</th>\n",
              "      <th>BILL_AMT6</th>\n",
              "      <th>PAY_AMT1</th>\n",
              "      <th>PAY_AMT2</th>\n",
              "      <th>PAY_AMT3</th>\n",
              "      <th>PAY_AMT4</th>\n",
              "      <th>PAY_AMT5</th>\n",
              "      <th>PAY_AMT6</th>\n",
              "      <th>default.payment.next.month</th>\n",
              "    </tr>\n",
              "  </thead>\n",
              "  <tbody>\n",
              "    <tr>\n",
              "      <th>0</th>\n",
              "      <td>1</td>\n",
              "      <td>20000.0</td>\n",
              "      <td>2</td>\n",
              "      <td>2</td>\n",
              "      <td>1</td>\n",
              "      <td>24</td>\n",
              "      <td>2</td>\n",
              "      <td>2</td>\n",
              "      <td>-1</td>\n",
              "      <td>-1</td>\n",
              "      <td>...</td>\n",
              "      <td>0.0</td>\n",
              "      <td>0.0</td>\n",
              "      <td>0.0</td>\n",
              "      <td>0.0</td>\n",
              "      <td>689.0</td>\n",
              "      <td>0.0</td>\n",
              "      <td>0.0</td>\n",
              "      <td>0.0</td>\n",
              "      <td>0.0</td>\n",
              "      <td>1</td>\n",
              "    </tr>\n",
              "    <tr>\n",
              "      <th>1</th>\n",
              "      <td>2</td>\n",
              "      <td>120000.0</td>\n",
              "      <td>2</td>\n",
              "      <td>2</td>\n",
              "      <td>2</td>\n",
              "      <td>26</td>\n",
              "      <td>-1</td>\n",
              "      <td>2</td>\n",
              "      <td>0</td>\n",
              "      <td>0</td>\n",
              "      <td>...</td>\n",
              "      <td>3272.0</td>\n",
              "      <td>3455.0</td>\n",
              "      <td>3261.0</td>\n",
              "      <td>0.0</td>\n",
              "      <td>1000.0</td>\n",
              "      <td>1000.0</td>\n",
              "      <td>1000.0</td>\n",
              "      <td>0.0</td>\n",
              "      <td>2000.0</td>\n",
              "      <td>1</td>\n",
              "    </tr>\n",
              "    <tr>\n",
              "      <th>2</th>\n",
              "      <td>3</td>\n",
              "      <td>90000.0</td>\n",
              "      <td>2</td>\n",
              "      <td>2</td>\n",
              "      <td>2</td>\n",
              "      <td>34</td>\n",
              "      <td>0</td>\n",
              "      <td>0</td>\n",
              "      <td>0</td>\n",
              "      <td>0</td>\n",
              "      <td>...</td>\n",
              "      <td>14331.0</td>\n",
              "      <td>14948.0</td>\n",
              "      <td>15549.0</td>\n",
              "      <td>1518.0</td>\n",
              "      <td>1500.0</td>\n",
              "      <td>1000.0</td>\n",
              "      <td>1000.0</td>\n",
              "      <td>1000.0</td>\n",
              "      <td>5000.0</td>\n",
              "      <td>0</td>\n",
              "    </tr>\n",
              "    <tr>\n",
              "      <th>3</th>\n",
              "      <td>4</td>\n",
              "      <td>50000.0</td>\n",
              "      <td>2</td>\n",
              "      <td>2</td>\n",
              "      <td>1</td>\n",
              "      <td>37</td>\n",
              "      <td>0</td>\n",
              "      <td>0</td>\n",
              "      <td>0</td>\n",
              "      <td>0</td>\n",
              "      <td>...</td>\n",
              "      <td>28314.0</td>\n",
              "      <td>28959.0</td>\n",
              "      <td>29547.0</td>\n",
              "      <td>2000.0</td>\n",
              "      <td>2019.0</td>\n",
              "      <td>1200.0</td>\n",
              "      <td>1100.0</td>\n",
              "      <td>1069.0</td>\n",
              "      <td>1000.0</td>\n",
              "      <td>0</td>\n",
              "    </tr>\n",
              "    <tr>\n",
              "      <th>4</th>\n",
              "      <td>5</td>\n",
              "      <td>50000.0</td>\n",
              "      <td>1</td>\n",
              "      <td>2</td>\n",
              "      <td>1</td>\n",
              "      <td>57</td>\n",
              "      <td>-1</td>\n",
              "      <td>0</td>\n",
              "      <td>-1</td>\n",
              "      <td>0</td>\n",
              "      <td>...</td>\n",
              "      <td>20940.0</td>\n",
              "      <td>19146.0</td>\n",
              "      <td>19131.0</td>\n",
              "      <td>2000.0</td>\n",
              "      <td>36681.0</td>\n",
              "      <td>10000.0</td>\n",
              "      <td>9000.0</td>\n",
              "      <td>689.0</td>\n",
              "      <td>679.0</td>\n",
              "      <td>0</td>\n",
              "    </tr>\n",
              "  </tbody>\n",
              "</table>\n",
              "<p>5 rows × 25 columns</p>\n",
              "</div>\n",
              "      <button class=\"colab-df-convert\" onclick=\"convertToInteractive('df-bfc1b164-ebb1-496f-a64a-d3c7d8656061')\"\n",
              "              title=\"Convert this dataframe to an interactive table.\"\n",
              "              style=\"display:none;\">\n",
              "        \n",
              "  <svg xmlns=\"http://www.w3.org/2000/svg\" height=\"24px\"viewBox=\"0 0 24 24\"\n",
              "       width=\"24px\">\n",
              "    <path d=\"M0 0h24v24H0V0z\" fill=\"none\"/>\n",
              "    <path d=\"M18.56 5.44l.94 2.06.94-2.06 2.06-.94-2.06-.94-.94-2.06-.94 2.06-2.06.94zm-11 1L8.5 8.5l.94-2.06 2.06-.94-2.06-.94L8.5 2.5l-.94 2.06-2.06.94zm10 10l.94 2.06.94-2.06 2.06-.94-2.06-.94-.94-2.06-.94 2.06-2.06.94z\"/><path d=\"M17.41 7.96l-1.37-1.37c-.4-.4-.92-.59-1.43-.59-.52 0-1.04.2-1.43.59L10.3 9.45l-7.72 7.72c-.78.78-.78 2.05 0 2.83L4 21.41c.39.39.9.59 1.41.59.51 0 1.02-.2 1.41-.59l7.78-7.78 2.81-2.81c.8-.78.8-2.07 0-2.86zM5.41 20L4 18.59l7.72-7.72 1.47 1.35L5.41 20z\"/>\n",
              "  </svg>\n",
              "      </button>\n",
              "      \n",
              "  <style>\n",
              "    .colab-df-container {\n",
              "      display:flex;\n",
              "      flex-wrap:wrap;\n",
              "      gap: 12px;\n",
              "    }\n",
              "\n",
              "    .colab-df-convert {\n",
              "      background-color: #E8F0FE;\n",
              "      border: none;\n",
              "      border-radius: 50%;\n",
              "      cursor: pointer;\n",
              "      display: none;\n",
              "      fill: #1967D2;\n",
              "      height: 32px;\n",
              "      padding: 0 0 0 0;\n",
              "      width: 32px;\n",
              "    }\n",
              "\n",
              "    .colab-df-convert:hover {\n",
              "      background-color: #E2EBFA;\n",
              "      box-shadow: 0px 1px 2px rgba(60, 64, 67, 0.3), 0px 1px 3px 1px rgba(60, 64, 67, 0.15);\n",
              "      fill: #174EA6;\n",
              "    }\n",
              "\n",
              "    [theme=dark] .colab-df-convert {\n",
              "      background-color: #3B4455;\n",
              "      fill: #D2E3FC;\n",
              "    }\n",
              "\n",
              "    [theme=dark] .colab-df-convert:hover {\n",
              "      background-color: #434B5C;\n",
              "      box-shadow: 0px 1px 3px 1px rgba(0, 0, 0, 0.15);\n",
              "      filter: drop-shadow(0px 1px 2px rgba(0, 0, 0, 0.3));\n",
              "      fill: #FFFFFF;\n",
              "    }\n",
              "  </style>\n",
              "\n",
              "      <script>\n",
              "        const buttonEl =\n",
              "          document.querySelector('#df-bfc1b164-ebb1-496f-a64a-d3c7d8656061 button.colab-df-convert');\n",
              "        buttonEl.style.display =\n",
              "          google.colab.kernel.accessAllowed ? 'block' : 'none';\n",
              "\n",
              "        async function convertToInteractive(key) {\n",
              "          const element = document.querySelector('#df-bfc1b164-ebb1-496f-a64a-d3c7d8656061');\n",
              "          const dataTable =\n",
              "            await google.colab.kernel.invokeFunction('convertToInteractive',\n",
              "                                                     [key], {});\n",
              "          if (!dataTable) return;\n",
              "\n",
              "          const docLinkHtml = 'Like what you see? Visit the ' +\n",
              "            '<a target=\"_blank\" href=https://colab.research.google.com/notebooks/data_table.ipynb>data table notebook</a>'\n",
              "            + ' to learn more about interactive tables.';\n",
              "          element.innerHTML = '';\n",
              "          dataTable['output_type'] = 'display_data';\n",
              "          await google.colab.output.renderOutput(dataTable, element);\n",
              "          const docLink = document.createElement('div');\n",
              "          docLink.innerHTML = docLinkHtml;\n",
              "          element.appendChild(docLink);\n",
              "        }\n",
              "      </script>\n",
              "    </div>\n",
              "  </div>\n",
              "  "
            ]
          },
          "metadata": {},
          "execution_count": 49
        }
      ]
    },
    {
      "cell_type": "code",
      "source": [
        "df= pd.read_csv('uci_credit_card.csv')\n",
        "df.head()\n",
        "bill_amounts= df[['BILL_AMT1', 'BILL_AMT2', 'BILL_AMT3']].to_numpy()\n",
        "default= df['default.payment.next.month'].to_numpy()\n",
        "bill_amounts"
      ],
      "metadata": {
        "colab": {
          "base_uri": "https://localhost:8080/"
        },
        "id": "aUQdhg5Q1QiR",
        "outputId": "9d15b50f-4183-4ec1-b6fb-bdc803ab9d4b"
      },
      "execution_count": 17,
      "outputs": [
        {
          "output_type": "execute_result",
          "data": {
            "text/plain": [
              "array([[ 3913.,  3102.,   689.],\n",
              "       [ 2682.,  1725.,  2682.],\n",
              "       [29239., 14027., 13559.],\n",
              "       ...,\n",
              "       [ 3565.,  3356.,  2758.],\n",
              "       [-1645., 78379., 76304.],\n",
              "       [47929., 48905., 49764.]])"
            ]
          },
          "metadata": {},
          "execution_count": 17
        }
      ]
    },
    {
      "cell_type": "code",
      "source": [
        "from tensorflow import constant\n",
        "# Construct input layres from features\n",
        "inputs= constant(bill_amounts, float32)\n",
        "\n",
        "# Define first dense layer\n",
        "dense1 = keras.layers.Dense(3, activation='relu')(inputs)\n",
        "\n",
        "# Define second dense layer\n",
        "dense2 = keras.layers.Dense(2, activation='relu')(dense1)\n",
        "\n",
        "# Define output layer\n",
        "outputs = keras.layers.Dense(1, activation='sigmoid')(dense2)\n",
        "\n",
        "# Print error for first five examples\n",
        "error = default[:5] - outputs.numpy()[:5]\n",
        "print(error)"
      ],
      "metadata": {
        "colab": {
          "base_uri": "https://localhost:8080/"
        },
        "id": "uqC5gX632xm8",
        "outputId": "6cd2ae08-8506-4096-c4cb-53a4e81e6b32"
      },
      "execution_count": 18,
      "outputs": [
        {
          "output_type": "stream",
          "name": "stdout",
          "text": [
            "[[ 0.5  0.5 -0.5 -0.5 -0.5]\n",
            " [ 0.5  0.5 -0.5 -0.5 -0.5]\n",
            " [ 0.5  0.5 -0.5 -0.5 -0.5]\n",
            " [ 0.5  0.5 -0.5 -0.5 -0.5]\n",
            " [ 0.5  0.5 -0.5 -0.5 -0.5]]\n"
          ]
        }
      ]
    },
    {
      "cell_type": "markdown",
      "source": [
        "# Multiclass classification problems\n",
        "In this exercise, we expand beyond binary classification to cover multiclass problems. A multiclass problem has targets that can take on three or more values. In the credit card dataset, the education variable can take on 6 different values, each corresponding to a different level of education. We will use that as our target in this exercise and will also expand the feature set from 3 to 10 columns.\n",
        "\n",
        "As in the previous problem, you will define an input layer, dense layers, and an output layer. You will also print the untrained model's predictions, which are probabilities assigned to the classes. The tensor of features has been loaded and is available as borrower_features. Additionally, the constant(), float32, and keras.layers.Dense() operations are available."
      ],
      "metadata": {
        "id": "YVKS_r9o4lkh"
      }
    },
    {
      "cell_type": "code",
      "source": [
        "# Construct input layer from borrower features\n",
        "inputs = constant(borrower_features, float32)\n",
        "\n",
        "# Define first dense layer\n",
        "dense1 = keras.layers.Dense(10, activation='sigmoid')(inputs)\n",
        "\n",
        "# Define second dense layer\n",
        "dense2 = keras.layers.Dense(8, activation='relu')(dense1)\n",
        "\n",
        "# Define output layer\n",
        "outputs = keras.layers.Dense(6, activation='softmax')(dense2)\n",
        "\n",
        "# Print first five predictions\n",
        "print(outputs.numpy()[:5])"
      ],
      "metadata": {
        "colab": {
          "base_uri": "https://localhost:8080/"
        },
        "id": "ta3RFTGL4auy",
        "outputId": "05d88cb0-85d6-449e-ebd5-6d11b53bfeb6"
      },
      "execution_count": 20,
      "outputs": [
        {
          "output_type": "stream",
          "name": "stdout",
          "text": [
            "[[0.15945822 0.14593859 0.16867043 0.19449317 0.19906294 0.13237664]\n",
            " [0.16009365 0.14027879 0.17783315 0.19295382 0.20548496 0.12335552]\n",
            " [0.15991412 0.14132328 0.18050177 0.18967205 0.20391218 0.12467656]\n",
            " [0.15889274 0.14471792 0.16495816 0.19933465 0.201253   0.13084355]\n",
            " [0.1657837  0.14600182 0.17094366 0.18973123 0.19494691 0.1325927 ]]\n"
          ]
        }
      ]
    },
    {
      "cell_type": "markdown",
      "source": [
        "# The dangers of local minima\n",
        "Consider the plot of the following loss function, loss_function(), which contains a global minimum, marked by the dot on the right, and several local minima, including the one marked by the dot on the left.\n",
        "\n",
        "The graph is of a single variable function that contains multiple local minima and a global minimum.\n",
        "\n",
        "In this exercise, you will try to find the global minimum of loss_function() using keras.optimizers.SGD(). You will do this twice, each time with a different initial value of the input to loss_function(). First, you will use x_1, which is a variable with an initial value of 6.0. Second, you will use x_2, which is a variable with an initial value of 0.3. Note that loss_function() has been defined and is available."
      ],
      "metadata": {
        "id": "be2BaHUM671t"
      }
    },
    {
      "cell_type": "code",
      "source": [
        "from tensorflow import divide\n",
        "from math import pi\n",
        "def loss_function(x): \n",
        "  return 4.0*math.cos(x-1)+divide(math.cos(2.0*pi*x),x)\n",
        "\n",
        "# Initialize x_1 and x_2\n",
        "x_1 = Variable(6.0,float32)\n",
        "x_2 = Variable(0.3,float32)\n",
        "\n",
        "# Define the optimization operation\n",
        "opt = keras.optimizers.SGD(learning_rate=.01)\n",
        "\n",
        "for j in range(100):\n",
        "\t# Perform minimization using the loss function and x_1\n",
        "\topt.minimize(lambda: loss_function(x_1), var_list=[x_1])\n",
        "\t# Perform minimization using the loss function and x_2\n",
        "\topt.minimize(lambda: loss_function(x_2), var_list=[x_2])\n",
        "\n",
        "# Print x_1 and x_2 as numpy arrays\n",
        "print(x_1.numpy(), x_2.numpy())"
      ],
      "metadata": {
        "colab": {
          "base_uri": "https://localhost:8080/"
        },
        "id": "oZcxegYk5Qkm",
        "outputId": "4ce6a1e2-165c-4235-93fc-0b517d6fd83c"
      },
      "execution_count": 27,
      "outputs": [
        {
          "output_type": "stream",
          "name": "stdout",
          "text": [
            "4.3801394 0.42052683\n"
          ]
        }
      ]
    },
    {
      "cell_type": "markdown",
      "source": [
        "# Avoiding local minima\n",
        "The previous problem showed how easy it is to get stuck in local minima. We had a simple optimization problem in one variable and gradient descent still failed to deliver the global minimum when we had to travel through local minima first. One way to avoid this problem is to use momentum, which allows the optimizer to break through local minima. We will again use the loss function from the previous problem, which has been defined and is available for you as loss_function().\n",
        "\n",
        "\n",
        "The graph is of a single variable function that contains multiple local minima and a global minimum.\n",
        "\n",
        "Several optimizers in tensorflow have a momentum parameter, including SGD and RMSprop. You will make use of RMSprop in this exercise. Note that x_1 and x_2 have been initialized to the same value this time. Furthermore, keras.optimizers.RMSprop() has also been imported for you from tensorflow."
      ],
      "metadata": {
        "id": "ql62G3qUApGh"
      }
    },
    {
      "cell_type": "code",
      "source": [
        "# Initialize x_1 and x_2\n",
        "x_1 = Variable(0.05,float32)\n",
        "x_2 = Variable(0.05,float32)\n",
        "\n",
        "# Define the optimization operation for opt_1 and opt_2\n",
        "opt_1 = keras.optimizers.RMSprop(learning_rate=.01, momentum=.99)\n",
        "opt_2 = keras.optimizers.RMSprop(learning_rate=0.01, momentum=0.00)\n",
        "\n",
        "for j in range(100):\n",
        "\topt_1.minimize(lambda: loss_function(x_1), var_list=[x_1])\n",
        "    # Define the minimization operation for opt_2\n",
        "\topt_2.minimize(lambda: loss_function(x_2), var_list=[x_2])\n",
        "\n",
        "# Print x_1 and x_2 as numpy arrays\n",
        "print(x_1.numpy(), x_2.numpy())"
      ],
      "metadata": {
        "colab": {
          "base_uri": "https://localhost:8080/"
        },
        "id": "cQghVgy77R2c",
        "outputId": "5f589319-e031-43f9-9d02-462bb1fd2318"
      },
      "execution_count": 28,
      "outputs": [
        {
          "output_type": "stream",
          "name": "stdout",
          "text": [
            "4.315026 0.4205261\n"
          ]
        }
      ]
    },
    {
      "cell_type": "markdown",
      "source": [
        "# Initialization in TensorFlow\n",
        "A good initialization can reduce the amount of time needed to find the global minimum. In this exercise, we will initialize weights and biases for a neural network that will be used to predict credit card default decisions. To build intuition, we will use the low-level, linear algebraic approach, rather than making use of convenience functions and high-level keras operations. We will also expand the set of input features from 3 to 23. Several operations have been imported from tensorflow: Variable(), random(), and ones()."
      ],
      "metadata": {
        "id": "5jv2D-NIBsxI"
      }
    },
    {
      "cell_type": "code",
      "source": [
        "from tensorflow import Variable, random, ones\n",
        "# Define layer 1 weights\n",
        "w1= Variable(random.normal([23,7]), float32)\n",
        "print('\\n w1:', w1[0:3])\n",
        "\n",
        "# Initialize the layer 1 bias\n",
        "b1= Variable(ones([7]), float32)\n",
        "print('\\n b1:', b1)\n",
        "\n",
        "# Define the layer 2 weights\n",
        "w2 = Variable(random.normal([7,1]), float32)\n",
        "print('\\n w2:', w2)\n",
        "\n",
        "# Define the layer 2 bias\n",
        "b2 = Variable(ones([0]), float32)\n",
        "print('\\n b2:', b2)"
      ],
      "metadata": {
        "colab": {
          "base_uri": "https://localhost:8080/"
        },
        "id": "lfC8fbtvBfjO",
        "outputId": "60b2c27a-eb16-4f09-d87d-fca916c0565b"
      },
      "execution_count": 62,
      "outputs": [
        {
          "output_type": "stream",
          "name": "stdout",
          "text": [
            "\n",
            " w1: tf.Tensor(\n",
            "[[-0.70357114  0.10741152 -0.99401665  0.56926185 -1.3144608   0.6989371\n",
            "   1.0502824 ]\n",
            " [-0.61763674 -0.29760334  0.29577795  0.41939247 -0.42299017 -0.03174335\n",
            "   1.3151972 ]\n",
            " [-0.2655664   0.18825804 -1.1340133  -0.38481694 -0.41872802  0.76578933\n",
            "   0.7452691 ]], shape=(3, 7), dtype=float32)\n",
            "\n",
            " b1: <tf.Variable 'Variable:0' shape=(7,) dtype=float32, numpy=array([1., 1., 1., 1., 1., 1., 1.], dtype=float32)>\n",
            "\n",
            " w2: <tf.Variable 'Variable:0' shape=(7, 1) dtype=float32, numpy=\n",
            "array([[ 0.5432494],\n",
            "       [-0.4596732],\n",
            "       [-0.3667241],\n",
            "       [-1.3653041],\n",
            "       [-2.0151103],\n",
            "       [ 0.5871636],\n",
            "       [-1.7849593]], dtype=float32)>\n",
            "\n",
            " b2: <tf.Variable 'Variable:0' shape=(0,) dtype=float32, numpy=array([], dtype=float32)>\n"
          ]
        }
      ]
    },
    {
      "cell_type": "markdown",
      "source": [
        "# Defining the model and loss function\n",
        "In this exercise, you will train a neural network to predict whether a credit card holder will default. The features and targets you will use to train your network are available in the Python shell as borrower_features and default. You defined the weights and biases in the previous exercise.\n",
        "\n",
        "Note that the predictions layer is defined as , where  is the sigmoid activation, layer1 is a tensor of nodes for the first hidden dense layer, w2 is a tensor of weights, and b2 is the bias tensor.\n",
        "\n",
        "The trainable variables are w1, b1, w2, and b2. Additionally, the following operations have been imported for you: keras.activations.relu() and keras.layers.Dropout()."
      ],
      "metadata": {
        "id": "tr_qdckQGLNN"
      }
    },
    {
      "cell_type": "code",
      "source": [
        "borrower_features= np.array(df.drop(['ID', 'default.payment.next.month'], axis=1), np.float32)\n",
        "default= np.array(df['default.payment.next.month'], np.float32)\n",
        "borrower_features"
      ],
      "metadata": {
        "colab": {
          "base_uri": "https://localhost:8080/"
        },
        "id": "uc-Bcr80Fw1M",
        "outputId": "35b0d3c4-7f0b-4a22-ded1-6469cfd96f79"
      },
      "execution_count": 67,
      "outputs": [
        {
          "output_type": "execute_result",
          "data": {
            "text/plain": [
              "array([[2.0000e+04, 2.0000e+00, 2.0000e+00, ..., 0.0000e+00, 0.0000e+00,\n",
              "        0.0000e+00],\n",
              "       [1.2000e+05, 2.0000e+00, 2.0000e+00, ..., 1.0000e+03, 0.0000e+00,\n",
              "        2.0000e+03],\n",
              "       [9.0000e+04, 2.0000e+00, 2.0000e+00, ..., 1.0000e+03, 1.0000e+03,\n",
              "        5.0000e+03],\n",
              "       ...,\n",
              "       [3.0000e+04, 1.0000e+00, 2.0000e+00, ..., 4.2000e+03, 2.0000e+03,\n",
              "        3.1000e+03],\n",
              "       [8.0000e+04, 1.0000e+00, 3.0000e+00, ..., 1.9260e+03, 5.2964e+04,\n",
              "        1.8040e+03],\n",
              "       [5.0000e+04, 1.0000e+00, 2.0000e+00, ..., 1.0000e+03, 1.0000e+03,\n",
              "        1.0000e+03]], dtype=float32)"
            ]
          },
          "metadata": {},
          "execution_count": 67
        }
      ]
    },
    {
      "cell_type": "code",
      "source": [
        "# Define the model\n",
        "def model(w1, b1, w2, b2, features = borrower_features):\n",
        "\t# Apply relu activation functions to layer 1\n",
        "\tlayer1 = keras.activations.relu(matmul(features, w1) + b1)\n",
        "    # Apply dropout rate of 0.25\n",
        "\tdropout = keras.layers.Dropout(0.25)(layer1)\n",
        "\treturn keras.activations.sigmoid(matmul(dropout, w2) + b2)\n",
        "\n",
        "# Define the loss function\n",
        "def loss_function(w1, b1, w2, b2, features = borrower_features, targets = default):\n",
        "\tpredictions = model(w1, b1, w2, b2)\n",
        "\t# Pass targets and predictions to the cross entropy loss\n",
        "\treturn keras.losses.binary_crossentropy(targets, predictions)"
      ],
      "metadata": {
        "id": "3ugEPftSGWVJ"
      },
      "execution_count": 68,
      "outputs": []
    },
    {
      "cell_type": "markdown",
      "source": [
        "# Training neural networks with TensorFlow\n",
        "In the previous exercise, you defined a model, model(w1, b1, w2, b2, features), and a loss function, loss_function(w1, b1, w2, b2, features, targets), both of which are available to you in this exercise. You will now train the model and then evaluate its performance by predicting default outcomes in a test set, which consists of test_features and test_targets and is available to you. The trainable variables are w1, b1, w2, and b2. Additionally, the following operations have been imported for you: keras.activations.relu() and keras.layers.Dropout()."
      ],
      "metadata": {
        "id": "gY64kJhfIAhW"
      }
    },
    {
      "cell_type": "code",
      "source": [
        "from sklearn.model_selection import train_test_split\n",
        "train_features, test_features, train_targets, test_targets= train_test_split(borrower_features, default, test_size=0.2)"
      ],
      "metadata": {
        "id": "tz1y2cjSHrq1"
      },
      "execution_count": 72,
      "outputs": []
    },
    {
      "cell_type": "code",
      "source": [
        "# Train the model\n",
        "for j in range(100):\n",
        "    # Complete the optimizer\n",
        "\topt.minimize(lambda: loss_function(w1, b1, w2, b2), \n",
        "                 var_list=[w1, b1, w2, b2])\n",
        "\n",
        "# Make predictions with model using test features\n",
        "model_predictions = model(w1, b1, w2, b2, test_features)\n",
        "\n",
        "# Construct the confusion matrix\n",
        "confusion_matrix(test_targets, model_predictions)"
      ],
      "metadata": {
        "id": "dQSkZMOCLSh7"
      },
      "execution_count": null,
      "outputs": []
    },
    {
      "cell_type": "code",
      "source": [
        "# define input data\n",
        "inputs= np.array(borrower_features, np.float32)\n",
        "\n",
        "# define Dense layer 1\n",
        "dense1= tf.keras.layers.Dense(32, activation='relu')(inputs)\n",
        "\n",
        "# define Dense 2\n",
        "dense2= tf.keras.layers.Dense(16, activation='relu')(dense1)\n",
        "\n",
        "#apply dropout \n",
        "dropout1= tf.keras.layers.Dropout(0.25)(dense2)\n",
        "\n",
        "#Define output layers\n",
        "outputs= tf.keras.layers.Dense(1, activation='sigmoid')(dropout1)"
      ],
      "metadata": {
        "id": "laMR2MhzM6mh"
      },
      "execution_count": 77,
      "outputs": []
    },
    {
      "cell_type": "markdown",
      "source": [
        "# The sequential model in Keras\n",
        "In chapter 3, we used components of the keras API in tensorflow to define a neural network, but we stopped short of using its full capabilities to streamline model definition and training. In this exercise, you will use the keras sequential model API to define a neural network that can be used to classify images of sign language letters. You will also use the .summary() method to print the model's architecture, including the shape and number of parameters associated with each layer.\n",
        "\n",
        "Note that the images were reshaped from (28, 28) to (784,), so that they could be used as inputs to a dense layer. Additionally, note that keras has been imported from tensorflow for you."
      ],
      "metadata": {
        "id": "uWepHthPM58T"
      }
    },
    {
      "cell_type": "code",
      "source": [
        "# Define a Keras sequential model \n",
        "model= keras.Sequential()\n",
        "\n",
        "# Define the first dense layer\n",
        "model.add(keras.layers.Dense(16, activation='relu', input_shape=(784,)))\n",
        "\n",
        "# define the second dense layer\n",
        "model.add(keras.layers.Dense(8, activation='relu'))\n",
        "\n",
        "# define the output layer\n",
        "model.add(keras.layers.Dense(4, activation='softmax'))\n",
        "\n",
        "# print the model architecture\n",
        "print(model.summary())"
      ],
      "metadata": {
        "colab": {
          "base_uri": "https://localhost:8080/"
        },
        "id": "iz4ERRxQPQ7i",
        "outputId": "d80eb818-17c1-48a9-915e-9d75242af217"
      },
      "execution_count": 79,
      "outputs": [
        {
          "output_type": "stream",
          "name": "stdout",
          "text": [
            "Model: \"sequential_1\"\n",
            "_________________________________________________________________\n",
            " Layer (type)                Output Shape              Param #   \n",
            "=================================================================\n",
            " dense_18 (Dense)            (None, 16)                12560     \n",
            "                                                                 \n",
            " dense_19 (Dense)            (None, 8)                 136       \n",
            "                                                                 \n",
            " dense_20 (Dense)            (None, 4)                 36        \n",
            "                                                                 \n",
            "=================================================================\n",
            "Total params: 12,732\n",
            "Trainable params: 12,732\n",
            "Non-trainable params: 0\n",
            "_________________________________________________________________\n",
            "None\n"
          ]
        }
      ]
    },
    {
      "cell_type": "markdown",
      "source": [
        "# The sequential model in Keras\n",
        "In chapter 3, we used components of the keras API in tensorflow to define a neural network, but we stopped short of using its full capabilities to streamline model definition and training. In this exercise, you will use the keras sequential model API to define a neural network that can be used to classify images of sign language letters. You will also use the .summary() method to print the model's architecture, including the shape and number of parameters associated with each layer.\n",
        "\n",
        "Note that the images were reshaped from (28, 28) to (784,), so that they could be used as inputs to a dense layer. Additionally, note that keras has been imported from tensorflow for you."
      ],
      "metadata": {
        "id": "A-8-6brUMvPR"
      }
    },
    {
      "cell_type": "code",
      "source": [
        "# Define the first dense layer\n",
        "model.add(keras.layers.Dense(16,activation='sigmoid', input_shape=(784,)))\n",
        "\n",
        "# Apply dropout to the first layer's output\n",
        "model.add(keras.layers.Dropout(0.25))\n",
        "\n",
        "# Define the output layer\n",
        "model.add(keras.layers.Dense(4, activation='softmax'))\n",
        "\n",
        "# Compile the model\n",
        "model.compile('adam', loss='categorical_crossentropy')\n",
        "\n",
        "# Print a model summary\n",
        "print(model.summary())"
      ],
      "metadata": {
        "colab": {
          "base_uri": "https://localhost:8080/"
        },
        "id": "IAYcnxL4P9mI",
        "outputId": "848ed1b7-9142-4cb4-e5bf-4bcffdc9ed24"
      },
      "execution_count": 80,
      "outputs": [
        {
          "output_type": "stream",
          "name": "stdout",
          "text": [
            "Model: \"sequential_1\"\n",
            "_________________________________________________________________\n",
            " Layer (type)                Output Shape              Param #   \n",
            "=================================================================\n",
            " dense_18 (Dense)            (None, 16)                12560     \n",
            "                                                                 \n",
            " dense_19 (Dense)            (None, 8)                 136       \n",
            "                                                                 \n",
            " dense_20 (Dense)            (None, 4)                 36        \n",
            "                                                                 \n",
            " dense_21 (Dense)            (None, 16)                80        \n",
            "                                                                 \n",
            " dropout_6 (Dropout)         (None, 16)                0         \n",
            "                                                                 \n",
            " dense_22 (Dense)            (None, 4)                 68        \n",
            "                                                                 \n",
            "=================================================================\n",
            "Total params: 12,880\n",
            "Trainable params: 12,880\n",
            "Non-trainable params: 0\n",
            "_________________________________________________________________\n",
            "None\n"
          ]
        }
      ]
    },
    {
      "cell_type": "markdown",
      "source": [
        "# Defining a multiple input model\n",
        "In some cases, the sequential API will not be sufficiently flexible to accommodate your desired model architecture and you will need to use the functional API instead. If, for instance, you want to train two models with different architectures jointly, you will need to use the functional API to do this. In this exercise, we will see how to do this. We will also use the .summary() method to examine the joint model's architecture.\n",
        "\n",
        "Note that keras has been imported from tensorflow for you. Additionally, the input layers of the first and second models have been defined as m1_inputs and m2_inputs, respectively. Note that the two models have the same architecture, but one of them uses a sigmoid activation in the first layer and the other uses a relu."
      ],
      "metadata": {
        "id": "SzfAjWeCSd_K"
      }
    },
    {
      "cell_type": "code",
      "source": [
        "#Define model 1 input layer shape\n",
        "m1_inputs= tf.keras.Input(shape=(784,))\n",
        "\n",
        "# For model 1, pass the input layer to layer 1 and layer 1 to layer 2\n",
        "m1_layer1 = keras.layers.Dense(12, activation='sigmoid')(m1_inputs)\n",
        "m1_layer2 = keras.layers.Dense(4, activation='softmax')(m1_layer1)\n",
        "\n",
        "#define model 2 input layer shape\n",
        "m2_inputs= tf.keras.Input(shape=(784,))\n",
        "\n",
        "# For model 2, pass the input layer to layer 1 and layer 1 to layer 2\n",
        "m2_layer1 = keras.layers.Dense(12, activation='relu')(m2_inputs)\n",
        "m2_layer2 = keras.layers.Dense(4, activation='softmax')(m2_layer1)\n",
        "\n",
        "# Merge model outputs and define a functional model\n",
        "merged = keras.layers.add([m1_layer2, m2_layer2])\n",
        "model = keras.Model(inputs=[m1_inputs, m2_inputs], outputs=merged)\n",
        "\n",
        "# Print a model summary\n",
        "print(model.summary())"
      ],
      "metadata": {
        "colab": {
          "base_uri": "https://localhost:8080/"
        },
        "id": "tQT0kmYiSZPh",
        "outputId": "b588641f-e74f-4ded-a2e6-e295dfbe43f3"
      },
      "execution_count": 81,
      "outputs": [
        {
          "output_type": "stream",
          "name": "stdout",
          "text": [
            "Model: \"model\"\n",
            "__________________________________________________________________________________________________\n",
            " Layer (type)                   Output Shape         Param #     Connected to                     \n",
            "==================================================================================================\n",
            " input_1 (InputLayer)           [(None, 784)]        0           []                               \n",
            "                                                                                                  \n",
            " input_2 (InputLayer)           [(None, 784)]        0           []                               \n",
            "                                                                                                  \n",
            " dense_23 (Dense)               (None, 12)           9420        ['input_1[0][0]']                \n",
            "                                                                                                  \n",
            " dense_25 (Dense)               (None, 12)           9420        ['input_2[0][0]']                \n",
            "                                                                                                  \n",
            " dense_24 (Dense)               (None, 4)            52          ['dense_23[0][0]']               \n",
            "                                                                                                  \n",
            " dense_26 (Dense)               (None, 4)            52          ['dense_25[0][0]']               \n",
            "                                                                                                  \n",
            " add (Add)                      (None, 4)            0           ['dense_24[0][0]',               \n",
            "                                                                  'dense_26[0][0]']               \n",
            "                                                                                                  \n",
            "==================================================================================================\n",
            "Total params: 18,944\n",
            "Trainable params: 18,944\n",
            "Non-trainable params: 0\n",
            "__________________________________________________________________________________________________\n",
            "None\n"
          ]
        }
      ]
    },
    {
      "cell_type": "markdown",
      "source": [
        "# Training with Keras\n",
        "In this exercise, we return to our sign language letter classification problem. We have 2000 images of four letters--A, B, C, and D--and we want to classify them with a high level of accuracy. We will complete all parts of the problem, including the model definition, compilation, and training.\n",
        "\n",
        "Note that keras has been imported from tensorflow for you. Additionally, the features are available as sign_language_features and the targets are available as sign_language_labels."
      ],
      "metadata": {
        "id": "Z-w_mCFWV8Bj"
      }
    },
    {
      "cell_type": "code",
      "source": [
        "sign= pd.read_csv('slmnist.csv')\n",
        "sign= sign.loc[0:999]\n",
        "sign"
      ],
      "metadata": {
        "colab": {
          "base_uri": "https://localhost:8080/",
          "height": 488
        },
        "id": "RkTPADVgXgB-",
        "outputId": "fb0c47e0-280e-4eca-a767-cfce66fb6b22"
      },
      "execution_count": 109,
      "outputs": [
        {
          "output_type": "execute_result",
          "data": {
            "text/plain": [
              "     1  142  143  146  148  149  149.1  149.2  150  151  ...  0.1   15   55  \\\n",
              "0    0  141  142  144  145  147    149    150  151  152  ...  173  179  179   \n",
              "1    1  156  157  160  162  164    166    169  171  171  ...  181  197  195   \n",
              "2    3   63   26   65   86   97    106    117  123  128  ...  175  179  180   \n",
              "3    1  156  160  164  168  172    175    178  180  182  ...  108  107  106   \n",
              "4    0  159  163  167  168  170    173    175  178  178  ...  173  233  235   \n",
              "..  ..  ...  ...  ...  ...  ...    ...    ...  ...  ...  ...  ...  ...  ...   \n",
              "995  1  156  159  164  168  172    175    177  179  180  ...  108  107  106   \n",
              "996  2  207  207  207  208  209    209    209  209  209  ...  252  251  250   \n",
              "997  1  110  115  120  123  125    129    132  133  134  ...  115  190  176   \n",
              "998  3  108  118  128  134  137    142    147  151  154  ...  104  104  104   \n",
              "999  0  240  245  246  248  250    251    255  255  255  ...   77   83  255   \n",
              "\n",
              "      63  37.2  61.1  77.2  65.1  38.1   23  \n",
              "0    180   181   181   182   182   183  183  \n",
              "1    193   193   191   192   198   193  182  \n",
              "2    182   183   183   184   185   185  185  \n",
              "3    110   111   108   108   102    84   70  \n",
              "4    235   236   235   235   236   235  235  \n",
              "..   ...   ...   ...   ...   ...   ...  ...  \n",
              "995  110   111   108   108   102    85   71  \n",
              "996  249   250   248   247   247   244  241  \n",
              "997  177   175   174   171   169   168  164  \n",
              "998  102   100   151   221   203   194  212  \n",
              "999  255   255   255   255   255   255  255  \n",
              "\n",
              "[1000 rows x 785 columns]"
            ],
            "text/html": [
              "\n",
              "  <div id=\"df-272fe13b-8eac-4914-8561-9d0cc06fe9a7\">\n",
              "    <div class=\"colab-df-container\">\n",
              "      <div>\n",
              "<style scoped>\n",
              "    .dataframe tbody tr th:only-of-type {\n",
              "        vertical-align: middle;\n",
              "    }\n",
              "\n",
              "    .dataframe tbody tr th {\n",
              "        vertical-align: top;\n",
              "    }\n",
              "\n",
              "    .dataframe thead th {\n",
              "        text-align: right;\n",
              "    }\n",
              "</style>\n",
              "<table border=\"1\" class=\"dataframe\">\n",
              "  <thead>\n",
              "    <tr style=\"text-align: right;\">\n",
              "      <th></th>\n",
              "      <th>1</th>\n",
              "      <th>142</th>\n",
              "      <th>143</th>\n",
              "      <th>146</th>\n",
              "      <th>148</th>\n",
              "      <th>149</th>\n",
              "      <th>149.1</th>\n",
              "      <th>149.2</th>\n",
              "      <th>150</th>\n",
              "      <th>151</th>\n",
              "      <th>...</th>\n",
              "      <th>0.1</th>\n",
              "      <th>15</th>\n",
              "      <th>55</th>\n",
              "      <th>63</th>\n",
              "      <th>37.2</th>\n",
              "      <th>61.1</th>\n",
              "      <th>77.2</th>\n",
              "      <th>65.1</th>\n",
              "      <th>38.1</th>\n",
              "      <th>23</th>\n",
              "    </tr>\n",
              "  </thead>\n",
              "  <tbody>\n",
              "    <tr>\n",
              "      <th>0</th>\n",
              "      <td>0</td>\n",
              "      <td>141</td>\n",
              "      <td>142</td>\n",
              "      <td>144</td>\n",
              "      <td>145</td>\n",
              "      <td>147</td>\n",
              "      <td>149</td>\n",
              "      <td>150</td>\n",
              "      <td>151</td>\n",
              "      <td>152</td>\n",
              "      <td>...</td>\n",
              "      <td>173</td>\n",
              "      <td>179</td>\n",
              "      <td>179</td>\n",
              "      <td>180</td>\n",
              "      <td>181</td>\n",
              "      <td>181</td>\n",
              "      <td>182</td>\n",
              "      <td>182</td>\n",
              "      <td>183</td>\n",
              "      <td>183</td>\n",
              "    </tr>\n",
              "    <tr>\n",
              "      <th>1</th>\n",
              "      <td>1</td>\n",
              "      <td>156</td>\n",
              "      <td>157</td>\n",
              "      <td>160</td>\n",
              "      <td>162</td>\n",
              "      <td>164</td>\n",
              "      <td>166</td>\n",
              "      <td>169</td>\n",
              "      <td>171</td>\n",
              "      <td>171</td>\n",
              "      <td>...</td>\n",
              "      <td>181</td>\n",
              "      <td>197</td>\n",
              "      <td>195</td>\n",
              "      <td>193</td>\n",
              "      <td>193</td>\n",
              "      <td>191</td>\n",
              "      <td>192</td>\n",
              "      <td>198</td>\n",
              "      <td>193</td>\n",
              "      <td>182</td>\n",
              "    </tr>\n",
              "    <tr>\n",
              "      <th>2</th>\n",
              "      <td>3</td>\n",
              "      <td>63</td>\n",
              "      <td>26</td>\n",
              "      <td>65</td>\n",
              "      <td>86</td>\n",
              "      <td>97</td>\n",
              "      <td>106</td>\n",
              "      <td>117</td>\n",
              "      <td>123</td>\n",
              "      <td>128</td>\n",
              "      <td>...</td>\n",
              "      <td>175</td>\n",
              "      <td>179</td>\n",
              "      <td>180</td>\n",
              "      <td>182</td>\n",
              "      <td>183</td>\n",
              "      <td>183</td>\n",
              "      <td>184</td>\n",
              "      <td>185</td>\n",
              "      <td>185</td>\n",
              "      <td>185</td>\n",
              "    </tr>\n",
              "    <tr>\n",
              "      <th>3</th>\n",
              "      <td>1</td>\n",
              "      <td>156</td>\n",
              "      <td>160</td>\n",
              "      <td>164</td>\n",
              "      <td>168</td>\n",
              "      <td>172</td>\n",
              "      <td>175</td>\n",
              "      <td>178</td>\n",
              "      <td>180</td>\n",
              "      <td>182</td>\n",
              "      <td>...</td>\n",
              "      <td>108</td>\n",
              "      <td>107</td>\n",
              "      <td>106</td>\n",
              "      <td>110</td>\n",
              "      <td>111</td>\n",
              "      <td>108</td>\n",
              "      <td>108</td>\n",
              "      <td>102</td>\n",
              "      <td>84</td>\n",
              "      <td>70</td>\n",
              "    </tr>\n",
              "    <tr>\n",
              "      <th>4</th>\n",
              "      <td>0</td>\n",
              "      <td>159</td>\n",
              "      <td>163</td>\n",
              "      <td>167</td>\n",
              "      <td>168</td>\n",
              "      <td>170</td>\n",
              "      <td>173</td>\n",
              "      <td>175</td>\n",
              "      <td>178</td>\n",
              "      <td>178</td>\n",
              "      <td>...</td>\n",
              "      <td>173</td>\n",
              "      <td>233</td>\n",
              "      <td>235</td>\n",
              "      <td>235</td>\n",
              "      <td>236</td>\n",
              "      <td>235</td>\n",
              "      <td>235</td>\n",
              "      <td>236</td>\n",
              "      <td>235</td>\n",
              "      <td>235</td>\n",
              "    </tr>\n",
              "    <tr>\n",
              "      <th>...</th>\n",
              "      <td>...</td>\n",
              "      <td>...</td>\n",
              "      <td>...</td>\n",
              "      <td>...</td>\n",
              "      <td>...</td>\n",
              "      <td>...</td>\n",
              "      <td>...</td>\n",
              "      <td>...</td>\n",
              "      <td>...</td>\n",
              "      <td>...</td>\n",
              "      <td>...</td>\n",
              "      <td>...</td>\n",
              "      <td>...</td>\n",
              "      <td>...</td>\n",
              "      <td>...</td>\n",
              "      <td>...</td>\n",
              "      <td>...</td>\n",
              "      <td>...</td>\n",
              "      <td>...</td>\n",
              "      <td>...</td>\n",
              "      <td>...</td>\n",
              "    </tr>\n",
              "    <tr>\n",
              "      <th>995</th>\n",
              "      <td>1</td>\n",
              "      <td>156</td>\n",
              "      <td>159</td>\n",
              "      <td>164</td>\n",
              "      <td>168</td>\n",
              "      <td>172</td>\n",
              "      <td>175</td>\n",
              "      <td>177</td>\n",
              "      <td>179</td>\n",
              "      <td>180</td>\n",
              "      <td>...</td>\n",
              "      <td>108</td>\n",
              "      <td>107</td>\n",
              "      <td>106</td>\n",
              "      <td>110</td>\n",
              "      <td>111</td>\n",
              "      <td>108</td>\n",
              "      <td>108</td>\n",
              "      <td>102</td>\n",
              "      <td>85</td>\n",
              "      <td>71</td>\n",
              "    </tr>\n",
              "    <tr>\n",
              "      <th>996</th>\n",
              "      <td>2</td>\n",
              "      <td>207</td>\n",
              "      <td>207</td>\n",
              "      <td>207</td>\n",
              "      <td>208</td>\n",
              "      <td>209</td>\n",
              "      <td>209</td>\n",
              "      <td>209</td>\n",
              "      <td>209</td>\n",
              "      <td>209</td>\n",
              "      <td>...</td>\n",
              "      <td>252</td>\n",
              "      <td>251</td>\n",
              "      <td>250</td>\n",
              "      <td>249</td>\n",
              "      <td>250</td>\n",
              "      <td>248</td>\n",
              "      <td>247</td>\n",
              "      <td>247</td>\n",
              "      <td>244</td>\n",
              "      <td>241</td>\n",
              "    </tr>\n",
              "    <tr>\n",
              "      <th>997</th>\n",
              "      <td>1</td>\n",
              "      <td>110</td>\n",
              "      <td>115</td>\n",
              "      <td>120</td>\n",
              "      <td>123</td>\n",
              "      <td>125</td>\n",
              "      <td>129</td>\n",
              "      <td>132</td>\n",
              "      <td>133</td>\n",
              "      <td>134</td>\n",
              "      <td>...</td>\n",
              "      <td>115</td>\n",
              "      <td>190</td>\n",
              "      <td>176</td>\n",
              "      <td>177</td>\n",
              "      <td>175</td>\n",
              "      <td>174</td>\n",
              "      <td>171</td>\n",
              "      <td>169</td>\n",
              "      <td>168</td>\n",
              "      <td>164</td>\n",
              "    </tr>\n",
              "    <tr>\n",
              "      <th>998</th>\n",
              "      <td>3</td>\n",
              "      <td>108</td>\n",
              "      <td>118</td>\n",
              "      <td>128</td>\n",
              "      <td>134</td>\n",
              "      <td>137</td>\n",
              "      <td>142</td>\n",
              "      <td>147</td>\n",
              "      <td>151</td>\n",
              "      <td>154</td>\n",
              "      <td>...</td>\n",
              "      <td>104</td>\n",
              "      <td>104</td>\n",
              "      <td>104</td>\n",
              "      <td>102</td>\n",
              "      <td>100</td>\n",
              "      <td>151</td>\n",
              "      <td>221</td>\n",
              "      <td>203</td>\n",
              "      <td>194</td>\n",
              "      <td>212</td>\n",
              "    </tr>\n",
              "    <tr>\n",
              "      <th>999</th>\n",
              "      <td>0</td>\n",
              "      <td>240</td>\n",
              "      <td>245</td>\n",
              "      <td>246</td>\n",
              "      <td>248</td>\n",
              "      <td>250</td>\n",
              "      <td>251</td>\n",
              "      <td>255</td>\n",
              "      <td>255</td>\n",
              "      <td>255</td>\n",
              "      <td>...</td>\n",
              "      <td>77</td>\n",
              "      <td>83</td>\n",
              "      <td>255</td>\n",
              "      <td>255</td>\n",
              "      <td>255</td>\n",
              "      <td>255</td>\n",
              "      <td>255</td>\n",
              "      <td>255</td>\n",
              "      <td>255</td>\n",
              "      <td>255</td>\n",
              "    </tr>\n",
              "  </tbody>\n",
              "</table>\n",
              "<p>1000 rows × 785 columns</p>\n",
              "</div>\n",
              "      <button class=\"colab-df-convert\" onclick=\"convertToInteractive('df-272fe13b-8eac-4914-8561-9d0cc06fe9a7')\"\n",
              "              title=\"Convert this dataframe to an interactive table.\"\n",
              "              style=\"display:none;\">\n",
              "        \n",
              "  <svg xmlns=\"http://www.w3.org/2000/svg\" height=\"24px\"viewBox=\"0 0 24 24\"\n",
              "       width=\"24px\">\n",
              "    <path d=\"M0 0h24v24H0V0z\" fill=\"none\"/>\n",
              "    <path d=\"M18.56 5.44l.94 2.06.94-2.06 2.06-.94-2.06-.94-.94-2.06-.94 2.06-2.06.94zm-11 1L8.5 8.5l.94-2.06 2.06-.94-2.06-.94L8.5 2.5l-.94 2.06-2.06.94zm10 10l.94 2.06.94-2.06 2.06-.94-2.06-.94-.94-2.06-.94 2.06-2.06.94z\"/><path d=\"M17.41 7.96l-1.37-1.37c-.4-.4-.92-.59-1.43-.59-.52 0-1.04.2-1.43.59L10.3 9.45l-7.72 7.72c-.78.78-.78 2.05 0 2.83L4 21.41c.39.39.9.59 1.41.59.51 0 1.02-.2 1.41-.59l7.78-7.78 2.81-2.81c.8-.78.8-2.07 0-2.86zM5.41 20L4 18.59l7.72-7.72 1.47 1.35L5.41 20z\"/>\n",
              "  </svg>\n",
              "      </button>\n",
              "      \n",
              "  <style>\n",
              "    .colab-df-container {\n",
              "      display:flex;\n",
              "      flex-wrap:wrap;\n",
              "      gap: 12px;\n",
              "    }\n",
              "\n",
              "    .colab-df-convert {\n",
              "      background-color: #E8F0FE;\n",
              "      border: none;\n",
              "      border-radius: 50%;\n",
              "      cursor: pointer;\n",
              "      display: none;\n",
              "      fill: #1967D2;\n",
              "      height: 32px;\n",
              "      padding: 0 0 0 0;\n",
              "      width: 32px;\n",
              "    }\n",
              "\n",
              "    .colab-df-convert:hover {\n",
              "      background-color: #E2EBFA;\n",
              "      box-shadow: 0px 1px 2px rgba(60, 64, 67, 0.3), 0px 1px 3px 1px rgba(60, 64, 67, 0.15);\n",
              "      fill: #174EA6;\n",
              "    }\n",
              "\n",
              "    [theme=dark] .colab-df-convert {\n",
              "      background-color: #3B4455;\n",
              "      fill: #D2E3FC;\n",
              "    }\n",
              "\n",
              "    [theme=dark] .colab-df-convert:hover {\n",
              "      background-color: #434B5C;\n",
              "      box-shadow: 0px 1px 3px 1px rgba(0, 0, 0, 0.15);\n",
              "      filter: drop-shadow(0px 1px 2px rgba(0, 0, 0, 0.3));\n",
              "      fill: #FFFFFF;\n",
              "    }\n",
              "  </style>\n",
              "\n",
              "      <script>\n",
              "        const buttonEl =\n",
              "          document.querySelector('#df-272fe13b-8eac-4914-8561-9d0cc06fe9a7 button.colab-df-convert');\n",
              "        buttonEl.style.display =\n",
              "          google.colab.kernel.accessAllowed ? 'block' : 'none';\n",
              "\n",
              "        async function convertToInteractive(key) {\n",
              "          const element = document.querySelector('#df-272fe13b-8eac-4914-8561-9d0cc06fe9a7');\n",
              "          const dataTable =\n",
              "            await google.colab.kernel.invokeFunction('convertToInteractive',\n",
              "                                                     [key], {});\n",
              "          if (!dataTable) return;\n",
              "\n",
              "          const docLinkHtml = 'Like what you see? Visit the ' +\n",
              "            '<a target=\"_blank\" href=https://colab.research.google.com/notebooks/data_table.ipynb>data table notebook</a>'\n",
              "            + ' to learn more about interactive tables.';\n",
              "          element.innerHTML = '';\n",
              "          dataTable['output_type'] = 'display_data';\n",
              "          await google.colab.output.renderOutput(dataTable, element);\n",
              "          const docLink = document.createElement('div');\n",
              "          docLink.innerHTML = docLinkHtml;\n",
              "          element.appendChild(docLink);\n",
              "        }\n",
              "      </script>\n",
              "    </div>\n",
              "  </div>\n",
              "  "
            ]
          },
          "metadata": {},
          "execution_count": 109
        }
      ]
    },
    {
      "cell_type": "code",
      "source": [
        "X = sign.iloc[:, 1:]\n",
        "y = sign.iloc[:, 0]\n",
        "sign_language_features = (X -  X.mean()) / (X.max() - X.min()).to_numpy()\n",
        "sign_language_labels = pd.get_dummies(y).astype(np.float32).to_numpy()"
      ],
      "metadata": {
        "id": "lPBF_NWsT8wo"
      },
      "execution_count": 116,
      "outputs": []
    },
    {
      "cell_type": "code",
      "source": [
        "# Define a sequential model\n",
        "model= keras.Sequential()\n",
        "\n",
        "# Define a hidden layer\n",
        "model.add(keras.layers.Dense(16, activation='relu', input_shape=(784,)))\n",
        "\n",
        "# Define the output layer\n",
        "model.add(keras.layers.Dense(4, activation='softmax'))\n",
        "\n",
        "# Compile the model\n",
        "model.compile('SGD', loss='categorical_crossentropy')\n",
        "\n",
        "# Complete the fitting operation\n",
        "model.fit(sign_language_features, sign_language_labels, epochs=5)"
      ],
      "metadata": {
        "colab": {
          "base_uri": "https://localhost:8080/"
        },
        "id": "no2OrwV0W4-1",
        "outputId": "939599e0-2b9b-4a9e-f27d-35a5966c4cf1"
      },
      "execution_count": 120,
      "outputs": [
        {
          "output_type": "stream",
          "name": "stdout",
          "text": [
            "Epoch 1/5\n",
            "32/32 [==============================] - 1s 5ms/step - loss: 1.3454\n",
            "Epoch 2/5\n",
            "32/32 [==============================] - 0s 5ms/step - loss: 1.1906\n",
            "Epoch 3/5\n",
            "32/32 [==============================] - 0s 4ms/step - loss: 1.0691\n",
            "Epoch 4/5\n",
            "32/32 [==============================] - 0s 3ms/step - loss: 0.9658\n",
            "Epoch 5/5\n",
            "32/32 [==============================] - 0s 5ms/step - loss: 0.8751\n"
          ]
        },
        {
          "output_type": "execute_result",
          "data": {
            "text/plain": [
              "<keras.callbacks.History at 0x7fa0170c2d50>"
            ]
          },
          "metadata": {},
          "execution_count": 120
        }
      ]
    },
    {
      "cell_type": "markdown",
      "source": [
        "# Metrics and validation with Keras\n",
        "We trained a model to predict sign language letters in the previous exercise, but it is unclear how successful we were in doing so. In this exercise, we will try to improve upon the interpretability of our results. Since we did not use a validation split, we only observed performance improvements within the training set; however, it is unclear how much of that was due to overfitting. Furthermore, since we did not supply a metric, we only saw decreases in the loss function, which do not have any clear interpretation.\n",
        "\n",
        "Note that keras has been imported for you from tensorflow."
      ],
      "metadata": {
        "id": "JzqIIYNxakSj"
      }
    },
    {
      "cell_type": "code",
      "source": [
        "# Define model \n",
        "model= keras.Sequential()\n",
        "\n",
        "# Define first layer\n",
        "model.add(keras.layers.Dense(32, activation='sigmoid', input_shape=(784,)))\n",
        "\n",
        "# define output layers\n",
        "model.add(keras.layers.Dense(4, activation='softmax'))\n",
        "\n",
        "# set the optimizer, loss function and metrics \n",
        "model.compile(optimizer='RMSprop', loss='categorical_crossentropy', metrics=['accuracy'])\n",
        "\n",
        "# fit the model\n",
        "model.fit(sign_language_features, sign_language_labels, epochs=10, validation_split=.10)"
      ],
      "metadata": {
        "colab": {
          "base_uri": "https://localhost:8080/"
        },
        "id": "yhxTXcJiX4Et",
        "outputId": "ae806f7a-ab17-4002-e0b8-df96693c962c"
      },
      "execution_count": 122,
      "outputs": [
        {
          "output_type": "stream",
          "name": "stdout",
          "text": [
            "Epoch 1/10\n",
            "29/29 [==============================] - 1s 13ms/step - loss: 1.0452 - accuracy: 0.5744 - val_loss: 0.7522 - val_accuracy: 0.8200\n",
            "Epoch 2/10\n",
            "29/29 [==============================] - 0s 5ms/step - loss: 0.6327 - accuracy: 0.9156 - val_loss: 0.5300 - val_accuracy: 0.9300\n",
            "Epoch 3/10\n",
            "29/29 [==============================] - 0s 4ms/step - loss: 0.4497 - accuracy: 0.9711 - val_loss: 0.3915 - val_accuracy: 0.9700\n",
            "Epoch 4/10\n",
            "29/29 [==============================] - 0s 5ms/step - loss: 0.3257 - accuracy: 0.9844 - val_loss: 0.2833 - val_accuracy: 0.9900\n",
            "Epoch 5/10\n",
            "29/29 [==============================] - 0s 4ms/step - loss: 0.2399 - accuracy: 0.9911 - val_loss: 0.2095 - val_accuracy: 0.9900\n",
            "Epoch 6/10\n",
            "29/29 [==============================] - 0s 6ms/step - loss: 0.1775 - accuracy: 0.9944 - val_loss: 0.1582 - val_accuracy: 0.9900\n",
            "Epoch 7/10\n",
            "29/29 [==============================] - 0s 7ms/step - loss: 0.1287 - accuracy: 0.9956 - val_loss: 0.1117 - val_accuracy: 0.9900\n",
            "Epoch 8/10\n",
            "29/29 [==============================] - 0s 8ms/step - loss: 0.0931 - accuracy: 0.9944 - val_loss: 0.0800 - val_accuracy: 0.9900\n",
            "Epoch 9/10\n",
            "29/29 [==============================] - 0s 7ms/step - loss: 0.0685 - accuracy: 0.9967 - val_loss: 0.0607 - val_accuracy: 0.9900\n",
            "Epoch 10/10\n",
            "29/29 [==============================] - 0s 8ms/step - loss: 0.0503 - accuracy: 0.9978 - val_loss: 0.0447 - val_accuracy: 1.0000\n"
          ]
        },
        {
          "output_type": "execute_result",
          "data": {
            "text/plain": [
              "<keras.callbacks.History at 0x7fa0139e7c50>"
            ]
          },
          "metadata": {},
          "execution_count": 122
        }
      ]
    },
    {
      "cell_type": "markdown",
      "source": [
        "# Overfitting detection\n",
        "In this exercise, we'll work with a small subset of the examples from the original sign language letters dataset. A small sample, coupled with a heavily-parameterized model, will generally lead to overfitting. This means that your model will simply memorize the class of each example, rather than identifying features that generalize to many examples.\n",
        "\n",
        "You will detect overfitting by checking whether the validation sample loss is substantially higher than the training sample loss and whether it increases with further training. With a small sample and a high learning rate, the model will struggle to converge on an optimum. You will set a low learning rate for the optimizer, which will make it easier to identify overfitting.\n",
        "\n",
        "Note that keras has been imported from tensorflow."
      ],
      "metadata": {
        "id": "rW-Tmy3ewiSi"
      }
    },
    {
      "cell_type": "code",
      "source": [
        "# Define sequential model\n",
        "# Define sequential model\n",
        "model= keras.Sequential()\n",
        "\n",
        "# Define the first layer\n",
        "model.add(keras.layers.Dense(1024, activation='relu', input_shape=(784,)))\n",
        "\n",
        "# Add activation function to classifier\n",
        "model.add(keras.layers.Dense(4, activation='softmax'))\n",
        "\n",
        "# Finish the model compilation\n",
        "model.compile(optimizer=keras.optimizers.Adam(lr=.001), \n",
        "              loss='categorical_crossentropy', metrics=['accuracy'])\n",
        "\n",
        "# Complete the model fit operation\n",
        "model.fit(sign_language_features, sign_language_labels, epochs=5, validation_split=0.5)\n",
        "\n",
        "# val loss much greating then loss you get overfitting \n",
        "# val_loss started to increase before the training process was terminated, then we may have overfitted. \n",
        "# When this happens, you will want to try decreasing the number of epochs."
      ],
      "metadata": {
        "colab": {
          "base_uri": "https://localhost:8080/"
        },
        "id": "NzBWpEn0btqi",
        "outputId": "953c9da4-4e5f-4232-b47f-ee6030072eb5"
      },
      "execution_count": 125,
      "outputs": [
        {
          "output_type": "stream",
          "name": "stdout",
          "text": [
            "Epoch 1/5\n"
          ]
        },
        {
          "output_type": "stream",
          "name": "stderr",
          "text": [
            "/usr/local/lib/python3.7/dist-packages/keras/optimizer_v2/adam.py:105: UserWarning: The `lr` argument is deprecated, use `learning_rate` instead.\n",
            "  super(Adam, self).__init__(name, **kwargs)\n"
          ]
        },
        {
          "output_type": "stream",
          "name": "stdout",
          "text": [
            "16/16 [==============================] - 2s 56ms/step - loss: 0.4594 - accuracy: 0.8740 - val_loss: 0.1387 - val_accuracy: 0.9660\n",
            "Epoch 2/5\n",
            "16/16 [==============================] - 0s 29ms/step - loss: 0.0600 - accuracy: 0.9860 - val_loss: 0.0523 - val_accuracy: 0.9860\n",
            "Epoch 3/5\n",
            "16/16 [==============================] - 0s 29ms/step - loss: 0.0178 - accuracy: 1.0000 - val_loss: 0.0312 - val_accuracy: 0.9880\n",
            "Epoch 4/5\n",
            "16/16 [==============================] - 0s 28ms/step - loss: 0.0071 - accuracy: 1.0000 - val_loss: 0.0270 - val_accuracy: 0.9880\n",
            "Epoch 5/5\n",
            "16/16 [==============================] - 0s 27ms/step - loss: 0.0047 - accuracy: 1.0000 - val_loss: 0.0210 - val_accuracy: 0.9880\n"
          ]
        },
        {
          "output_type": "execute_result",
          "data": {
            "text/plain": [
              "<keras.callbacks.History at 0x7fa014704610>"
            ]
          },
          "metadata": {},
          "execution_count": 125
        }
      ]
    },
    {
      "cell_type": "markdown",
      "source": [
        "# Evaluating models\n",
        "Two models have been trained and are available: large_model, which has many parameters; and small_model, which has fewer parameters. Both models have been trained using train_features and train_labels, which are available to you. A separate test set, which consists of test_features and test_labels, is also available.\n",
        "\n",
        "Your goal is to evaluate relative model performance and also determine whether either model exhibits signs of overfitting. You will do this by evaluating large_model and small_model on both the train and test sets. For each model, you can do this by applying the .evaluate(x, y) method to compute the loss for features x and labels y. You will then compare the four losses generated."
      ],
      "metadata": {
        "id": "lA1VmNdOyAiW"
      }
    },
    {
      "cell_type": "code",
      "source": [
        "train_features, test_features, train_labels, test_labels= train_test_split(sign_language_features, sign_language_labels, test_size=0.2)\n",
        "# Evaluate the small model using the train data\n",
        "small_train = model.evaluate(train_features, train_labels)\n",
        "\n",
        "# Evaluate the small model using the test data\n",
        "small_test = model.evaluate(test_features, test_labels)\n",
        "\n",
        "# Print losses\n",
        "print('\\n Small - Train: {}, Test: {}'.format(small_train, small_test))\n"
      ],
      "metadata": {
        "colab": {
          "base_uri": "https://localhost:8080/"
        },
        "id": "7VyWcNaPxY9e",
        "outputId": "1dbf5705-2881-4a84-81b5-a90aa72800dc"
      },
      "execution_count": 127,
      "outputs": [
        {
          "output_type": "stream",
          "name": "stdout",
          "text": [
            "25/25 [==============================] - 1s 15ms/step - loss: 0.0122 - accuracy: 0.9937\n",
            "7/7 [==============================] - 0s 16ms/step - loss: 0.0134 - accuracy: 0.9950\n",
            "\n",
            " Small - Train: [0.012176238000392914, 0.9937499761581421], Test: [0.01335420086979866, 0.9950000047683716]\n"
          ]
        }
      ]
    },
    {
      "cell_type": "markdown",
      "source": [
        "# Preparing to train with Estimators\n",
        "For this exercise, we'll return to the King County housing transaction dataset from chapter 2. We will again develop and train a machine learning model to predict house prices; however, this time, we'll do it using the estimator API.\n",
        "\n",
        "Rather than completing everything in one step, we'll break this procedure down into parts. We'll begin by defining the feature columns and loading the data. In the next exercise, we'll define and train a premade estimator. Note that feature_column has been imported for you from tensorflow. Additionally, numpy has been imported as np, and the Kings County housing dataset is available as a pandas DataFrame: housing."
      ],
      "metadata": {
        "id": "AOcH7G8a0Q5g"
      }
    },
    {
      "cell_type": "code",
      "source": [
        "housing= pd.read_csv('kc_house_data.csv')\n",
        "housing.head()"
      ],
      "metadata": {
        "colab": {
          "base_uri": "https://localhost:8080/",
          "height": 300
        },
        "id": "up_dyQSby2X_",
        "outputId": "b154ba74-432b-4416-a795-b35d8883ed2b"
      },
      "execution_count": 131,
      "outputs": [
        {
          "output_type": "execute_result",
          "data": {
            "text/plain": [
              "           id             date     price  bedrooms  bathrooms  sqft_living  \\\n",
              "0  7129300520  20141013T000000  221900.0         3       1.00         1180   \n",
              "1  6414100192  20141209T000000  538000.0         3       2.25         2570   \n",
              "2  5631500400  20150225T000000  180000.0         2       1.00          770   \n",
              "3  2487200875  20141209T000000  604000.0         4       3.00         1960   \n",
              "4  1954400510  20150218T000000  510000.0         3       2.00         1680   \n",
              "\n",
              "   sqft_lot  floors  waterfront  view  ...  grade  sqft_above  sqft_basement  \\\n",
              "0      5650     1.0           0     0  ...      7        1180              0   \n",
              "1      7242     2.0           0     0  ...      7        2170            400   \n",
              "2     10000     1.0           0     0  ...      6         770              0   \n",
              "3      5000     1.0           0     0  ...      7        1050            910   \n",
              "4      8080     1.0           0     0  ...      8        1680              0   \n",
              "\n",
              "   yr_built  yr_renovated  zipcode      lat     long  sqft_living15  \\\n",
              "0      1955             0    98178  47.5112 -122.257           1340   \n",
              "1      1951          1991    98125  47.7210 -122.319           1690   \n",
              "2      1933             0    98028  47.7379 -122.233           2720   \n",
              "3      1965             0    98136  47.5208 -122.393           1360   \n",
              "4      1987             0    98074  47.6168 -122.045           1800   \n",
              "\n",
              "   sqft_lot15  \n",
              "0        5650  \n",
              "1        7639  \n",
              "2        8062  \n",
              "3        5000  \n",
              "4        7503  \n",
              "\n",
              "[5 rows x 21 columns]"
            ],
            "text/html": [
              "\n",
              "  <div id=\"df-6febe65c-dd36-4f50-a834-1320807192a1\">\n",
              "    <div class=\"colab-df-container\">\n",
              "      <div>\n",
              "<style scoped>\n",
              "    .dataframe tbody tr th:only-of-type {\n",
              "        vertical-align: middle;\n",
              "    }\n",
              "\n",
              "    .dataframe tbody tr th {\n",
              "        vertical-align: top;\n",
              "    }\n",
              "\n",
              "    .dataframe thead th {\n",
              "        text-align: right;\n",
              "    }\n",
              "</style>\n",
              "<table border=\"1\" class=\"dataframe\">\n",
              "  <thead>\n",
              "    <tr style=\"text-align: right;\">\n",
              "      <th></th>\n",
              "      <th>id</th>\n",
              "      <th>date</th>\n",
              "      <th>price</th>\n",
              "      <th>bedrooms</th>\n",
              "      <th>bathrooms</th>\n",
              "      <th>sqft_living</th>\n",
              "      <th>sqft_lot</th>\n",
              "      <th>floors</th>\n",
              "      <th>waterfront</th>\n",
              "      <th>view</th>\n",
              "      <th>...</th>\n",
              "      <th>grade</th>\n",
              "      <th>sqft_above</th>\n",
              "      <th>sqft_basement</th>\n",
              "      <th>yr_built</th>\n",
              "      <th>yr_renovated</th>\n",
              "      <th>zipcode</th>\n",
              "      <th>lat</th>\n",
              "      <th>long</th>\n",
              "      <th>sqft_living15</th>\n",
              "      <th>sqft_lot15</th>\n",
              "    </tr>\n",
              "  </thead>\n",
              "  <tbody>\n",
              "    <tr>\n",
              "      <th>0</th>\n",
              "      <td>7129300520</td>\n",
              "      <td>20141013T000000</td>\n",
              "      <td>221900.0</td>\n",
              "      <td>3</td>\n",
              "      <td>1.00</td>\n",
              "      <td>1180</td>\n",
              "      <td>5650</td>\n",
              "      <td>1.0</td>\n",
              "      <td>0</td>\n",
              "      <td>0</td>\n",
              "      <td>...</td>\n",
              "      <td>7</td>\n",
              "      <td>1180</td>\n",
              "      <td>0</td>\n",
              "      <td>1955</td>\n",
              "      <td>0</td>\n",
              "      <td>98178</td>\n",
              "      <td>47.5112</td>\n",
              "      <td>-122.257</td>\n",
              "      <td>1340</td>\n",
              "      <td>5650</td>\n",
              "    </tr>\n",
              "    <tr>\n",
              "      <th>1</th>\n",
              "      <td>6414100192</td>\n",
              "      <td>20141209T000000</td>\n",
              "      <td>538000.0</td>\n",
              "      <td>3</td>\n",
              "      <td>2.25</td>\n",
              "      <td>2570</td>\n",
              "      <td>7242</td>\n",
              "      <td>2.0</td>\n",
              "      <td>0</td>\n",
              "      <td>0</td>\n",
              "      <td>...</td>\n",
              "      <td>7</td>\n",
              "      <td>2170</td>\n",
              "      <td>400</td>\n",
              "      <td>1951</td>\n",
              "      <td>1991</td>\n",
              "      <td>98125</td>\n",
              "      <td>47.7210</td>\n",
              "      <td>-122.319</td>\n",
              "      <td>1690</td>\n",
              "      <td>7639</td>\n",
              "    </tr>\n",
              "    <tr>\n",
              "      <th>2</th>\n",
              "      <td>5631500400</td>\n",
              "      <td>20150225T000000</td>\n",
              "      <td>180000.0</td>\n",
              "      <td>2</td>\n",
              "      <td>1.00</td>\n",
              "      <td>770</td>\n",
              "      <td>10000</td>\n",
              "      <td>1.0</td>\n",
              "      <td>0</td>\n",
              "      <td>0</td>\n",
              "      <td>...</td>\n",
              "      <td>6</td>\n",
              "      <td>770</td>\n",
              "      <td>0</td>\n",
              "      <td>1933</td>\n",
              "      <td>0</td>\n",
              "      <td>98028</td>\n",
              "      <td>47.7379</td>\n",
              "      <td>-122.233</td>\n",
              "      <td>2720</td>\n",
              "      <td>8062</td>\n",
              "    </tr>\n",
              "    <tr>\n",
              "      <th>3</th>\n",
              "      <td>2487200875</td>\n",
              "      <td>20141209T000000</td>\n",
              "      <td>604000.0</td>\n",
              "      <td>4</td>\n",
              "      <td>3.00</td>\n",
              "      <td>1960</td>\n",
              "      <td>5000</td>\n",
              "      <td>1.0</td>\n",
              "      <td>0</td>\n",
              "      <td>0</td>\n",
              "      <td>...</td>\n",
              "      <td>7</td>\n",
              "      <td>1050</td>\n",
              "      <td>910</td>\n",
              "      <td>1965</td>\n",
              "      <td>0</td>\n",
              "      <td>98136</td>\n",
              "      <td>47.5208</td>\n",
              "      <td>-122.393</td>\n",
              "      <td>1360</td>\n",
              "      <td>5000</td>\n",
              "    </tr>\n",
              "    <tr>\n",
              "      <th>4</th>\n",
              "      <td>1954400510</td>\n",
              "      <td>20150218T000000</td>\n",
              "      <td>510000.0</td>\n",
              "      <td>3</td>\n",
              "      <td>2.00</td>\n",
              "      <td>1680</td>\n",
              "      <td>8080</td>\n",
              "      <td>1.0</td>\n",
              "      <td>0</td>\n",
              "      <td>0</td>\n",
              "      <td>...</td>\n",
              "      <td>8</td>\n",
              "      <td>1680</td>\n",
              "      <td>0</td>\n",
              "      <td>1987</td>\n",
              "      <td>0</td>\n",
              "      <td>98074</td>\n",
              "      <td>47.6168</td>\n",
              "      <td>-122.045</td>\n",
              "      <td>1800</td>\n",
              "      <td>7503</td>\n",
              "    </tr>\n",
              "  </tbody>\n",
              "</table>\n",
              "<p>5 rows × 21 columns</p>\n",
              "</div>\n",
              "      <button class=\"colab-df-convert\" onclick=\"convertToInteractive('df-6febe65c-dd36-4f50-a834-1320807192a1')\"\n",
              "              title=\"Convert this dataframe to an interactive table.\"\n",
              "              style=\"display:none;\">\n",
              "        \n",
              "  <svg xmlns=\"http://www.w3.org/2000/svg\" height=\"24px\"viewBox=\"0 0 24 24\"\n",
              "       width=\"24px\">\n",
              "    <path d=\"M0 0h24v24H0V0z\" fill=\"none\"/>\n",
              "    <path d=\"M18.56 5.44l.94 2.06.94-2.06 2.06-.94-2.06-.94-.94-2.06-.94 2.06-2.06.94zm-11 1L8.5 8.5l.94-2.06 2.06-.94-2.06-.94L8.5 2.5l-.94 2.06-2.06.94zm10 10l.94 2.06.94-2.06 2.06-.94-2.06-.94-.94-2.06-.94 2.06-2.06.94z\"/><path d=\"M17.41 7.96l-1.37-1.37c-.4-.4-.92-.59-1.43-.59-.52 0-1.04.2-1.43.59L10.3 9.45l-7.72 7.72c-.78.78-.78 2.05 0 2.83L4 21.41c.39.39.9.59 1.41.59.51 0 1.02-.2 1.41-.59l7.78-7.78 2.81-2.81c.8-.78.8-2.07 0-2.86zM5.41 20L4 18.59l7.72-7.72 1.47 1.35L5.41 20z\"/>\n",
              "  </svg>\n",
              "      </button>\n",
              "      \n",
              "  <style>\n",
              "    .colab-df-container {\n",
              "      display:flex;\n",
              "      flex-wrap:wrap;\n",
              "      gap: 12px;\n",
              "    }\n",
              "\n",
              "    .colab-df-convert {\n",
              "      background-color: #E8F0FE;\n",
              "      border: none;\n",
              "      border-radius: 50%;\n",
              "      cursor: pointer;\n",
              "      display: none;\n",
              "      fill: #1967D2;\n",
              "      height: 32px;\n",
              "      padding: 0 0 0 0;\n",
              "      width: 32px;\n",
              "    }\n",
              "\n",
              "    .colab-df-convert:hover {\n",
              "      background-color: #E2EBFA;\n",
              "      box-shadow: 0px 1px 2px rgba(60, 64, 67, 0.3), 0px 1px 3px 1px rgba(60, 64, 67, 0.15);\n",
              "      fill: #174EA6;\n",
              "    }\n",
              "\n",
              "    [theme=dark] .colab-df-convert {\n",
              "      background-color: #3B4455;\n",
              "      fill: #D2E3FC;\n",
              "    }\n",
              "\n",
              "    [theme=dark] .colab-df-convert:hover {\n",
              "      background-color: #434B5C;\n",
              "      box-shadow: 0px 1px 3px 1px rgba(0, 0, 0, 0.15);\n",
              "      filter: drop-shadow(0px 1px 2px rgba(0, 0, 0, 0.3));\n",
              "      fill: #FFFFFF;\n",
              "    }\n",
              "  </style>\n",
              "\n",
              "      <script>\n",
              "        const buttonEl =\n",
              "          document.querySelector('#df-6febe65c-dd36-4f50-a834-1320807192a1 button.colab-df-convert');\n",
              "        buttonEl.style.display =\n",
              "          google.colab.kernel.accessAllowed ? 'block' : 'none';\n",
              "\n",
              "        async function convertToInteractive(key) {\n",
              "          const element = document.querySelector('#df-6febe65c-dd36-4f50-a834-1320807192a1');\n",
              "          const dataTable =\n",
              "            await google.colab.kernel.invokeFunction('convertToInteractive',\n",
              "                                                     [key], {});\n",
              "          if (!dataTable) return;\n",
              "\n",
              "          const docLinkHtml = 'Like what you see? Visit the ' +\n",
              "            '<a target=\"_blank\" href=https://colab.research.google.com/notebooks/data_table.ipynb>data table notebook</a>'\n",
              "            + ' to learn more about interactive tables.';\n",
              "          element.innerHTML = '';\n",
              "          dataTable['output_type'] = 'display_data';\n",
              "          await google.colab.output.renderOutput(dataTable, element);\n",
              "          const docLink = document.createElement('div');\n",
              "          docLink.innerHTML = docLinkHtml;\n",
              "          element.appendChild(docLink);\n",
              "        }\n",
              "      </script>\n",
              "    </div>\n",
              "  </div>\n",
              "  "
            ]
          },
          "metadata": {},
          "execution_count": 131
        }
      ]
    },
    {
      "cell_type": "code",
      "source": [
        "from tensorflow import feature_column\n",
        "\n",
        "# Define feature columns for bedrooms and bathrooms\n",
        "bedrooms = feature_column.numeric_column(\"bedrooms\")\n",
        "bathrooms = feature_column.numeric_column(\"bathrooms\")\n",
        "\n",
        "# Define the list of feature columns\n",
        "feature_list = [bedrooms, bathrooms]\n",
        "\n",
        "def input_fn():\n",
        "\t# Define the labels\n",
        "\tlabels = np.array(housing['price'])\n",
        "\t# Define the features\n",
        "\tfeatures = {'bedrooms':np.array(housing['bedrooms']), \n",
        "                'bathrooms':np.array(housing['bathrooms'])}\n",
        "\treturn features, labels"
      ],
      "metadata": {
        "id": "vyP-TNx80XP2"
      },
      "execution_count": 133,
      "outputs": []
    },
    {
      "cell_type": "markdown",
      "source": [
        "# Defining Estimators\n",
        "In the previous exercise, you defined a list of feature columns, feature_list, and a data input function, input_fn(). In this exercise, you will build on that work by defining an estimator that makes use of input data."
      ],
      "metadata": {
        "id": "lmRIALtF1cT_"
      }
    },
    {
      "cell_type": "code",
      "source": [
        "from tensorflow import estimator\n",
        "# Define the model and set the number of steps\n",
        "model= estimator.DNNRegressor(feature_columns=feature_list, hidden_units=[2,2])\n",
        "model.train(input_fn, steps=1)\n"
      ],
      "metadata": {
        "colab": {
          "base_uri": "https://localhost:8080/"
        },
        "id": "iiE0OmBL1EGj",
        "outputId": "c1ed0c20-f470-4f8a-f98f-bba3c93f70b6"
      },
      "execution_count": 137,
      "outputs": [
        {
          "output_type": "stream",
          "name": "stderr",
          "text": [
            "WARNING:tensorflow:Using temporary folder as model directory: /tmp/tmpf4meodpb\n"
          ]
        },
        {
          "output_type": "execute_result",
          "data": {
            "text/plain": [
              "<tensorflow_estimator.python.estimator.canned.dnn.DNNRegressorV2 at 0x7fa00e7ae750>"
            ]
          },
          "metadata": {},
          "execution_count": 137
        }
      ]
    },
    {
      "cell_type": "code",
      "source": [
        "# Define the model and set the number of steps\n",
        "model = estimator.LinearRegressor(feature_columns=feature_list)\n",
        "model.train(input_fn, steps=2)\n"
      ],
      "metadata": {
        "colab": {
          "base_uri": "https://localhost:8080/"
        },
        "id": "W5s1xUey19zX",
        "outputId": "692821fb-9487-4f27-82cd-f18ac034b5c7"
      },
      "execution_count": 138,
      "outputs": [
        {
          "output_type": "stream",
          "name": "stderr",
          "text": [
            "WARNING:tensorflow:Using temporary folder as model directory: /tmp/tmpbe67xzwm\n"
          ]
        },
        {
          "output_type": "execute_result",
          "data": {
            "text/plain": [
              "<tensorflow_estimator.python.estimator.canned.linear.LinearRegressorV2 at 0x7fa00e835f50>"
            ]
          },
          "metadata": {},
          "execution_count": 138
        }
      ]
    },
    {
      "cell_type": "code",
      "source": [],
      "metadata": {
        "id": "vDvnIEJf2J98"
      },
      "execution_count": null,
      "outputs": []
    }
  ]
}