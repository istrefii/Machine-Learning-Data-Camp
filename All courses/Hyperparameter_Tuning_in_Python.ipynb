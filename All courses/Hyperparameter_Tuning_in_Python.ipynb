{
  "nbformat": 4,
  "nbformat_minor": 0,
  "metadata": {
    "colab": {
      "provenance": [],
      "collapsed_sections": []
    },
    "kernelspec": {
      "name": "python3",
      "display_name": "Python 3"
    },
    "language_info": {
      "name": "python"
    },
    "widgets": {
      "application/vnd.jupyter.widget-state+json": {
        "da5ef2bb3c334cfa9e506b68cc065001": {
          "model_module": "@jupyter-widgets/controls",
          "model_name": "HBoxModel",
          "model_module_version": "1.5.0",
          "state": {
            "_dom_classes": [],
            "_model_module": "@jupyter-widgets/controls",
            "_model_module_version": "1.5.0",
            "_model_name": "HBoxModel",
            "_view_count": null,
            "_view_module": "@jupyter-widgets/controls",
            "_view_module_version": "1.5.0",
            "_view_name": "HBoxView",
            "box_style": "",
            "children": [
              "IPY_MODEL_4c1c8dad276f445697dfd30e8b99e25a",
              "IPY_MODEL_6a174572faf843768aefd314a776eb88",
              "IPY_MODEL_b4302117445b43269ea1c0b98a8d6d39"
            ],
            "layout": "IPY_MODEL_846c67e671b34c079819bfda57ae47c3"
          }
        },
        "4c1c8dad276f445697dfd30e8b99e25a": {
          "model_module": "@jupyter-widgets/controls",
          "model_name": "HTMLModel",
          "model_module_version": "1.5.0",
          "state": {
            "_dom_classes": [],
            "_model_module": "@jupyter-widgets/controls",
            "_model_module_version": "1.5.0",
            "_model_name": "HTMLModel",
            "_view_count": null,
            "_view_module": "@jupyter-widgets/controls",
            "_view_module_version": "1.5.0",
            "_view_name": "HTMLView",
            "description": "",
            "description_tooltip": null,
            "layout": "IPY_MODEL_f8e130608b10478dbc56facfaeb393f5",
            "placeholder": "​",
            "style": "IPY_MODEL_223e553834bc4558b987e7ca65e3b982",
            "value": "Optimization Progress: 100%"
          }
        },
        "6a174572faf843768aefd314a776eb88": {
          "model_module": "@jupyter-widgets/controls",
          "model_name": "FloatProgressModel",
          "model_module_version": "1.5.0",
          "state": {
            "_dom_classes": [],
            "_model_module": "@jupyter-widgets/controls",
            "_model_module_version": "1.5.0",
            "_model_name": "FloatProgressModel",
            "_view_count": null,
            "_view_module": "@jupyter-widgets/controls",
            "_view_module_version": "1.5.0",
            "_view_name": "ProgressView",
            "bar_style": "",
            "description": "",
            "description_tooltip": null,
            "layout": "IPY_MODEL_ca4df19972c642a6a0e3549bca0d1a92",
            "max": 13,
            "min": 0,
            "orientation": "horizontal",
            "style": "IPY_MODEL_94f161c08aa043d0b71fdbe98bc9465b",
            "value": 13
          }
        },
        "b4302117445b43269ea1c0b98a8d6d39": {
          "model_module": "@jupyter-widgets/controls",
          "model_name": "HTMLModel",
          "model_module_version": "1.5.0",
          "state": {
            "_dom_classes": [],
            "_model_module": "@jupyter-widgets/controls",
            "_model_module_version": "1.5.0",
            "_model_name": "HTMLModel",
            "_view_count": null,
            "_view_module": "@jupyter-widgets/controls",
            "_view_module_version": "1.5.0",
            "_view_name": "HTMLView",
            "description": "",
            "description_tooltip": null,
            "layout": "IPY_MODEL_450017ddaf1a4b1395aab2d37e465ff7",
            "placeholder": "​",
            "style": "IPY_MODEL_96a5fca4ef92449f9c7637b9cc1ebfd6",
            "value": " 13/13 [00:00&lt;00:00, 12.10pipeline/s]"
          }
        },
        "846c67e671b34c079819bfda57ae47c3": {
          "model_module": "@jupyter-widgets/base",
          "model_name": "LayoutModel",
          "model_module_version": "1.2.0",
          "state": {
            "_model_module": "@jupyter-widgets/base",
            "_model_module_version": "1.2.0",
            "_model_name": "LayoutModel",
            "_view_count": null,
            "_view_module": "@jupyter-widgets/base",
            "_view_module_version": "1.2.0",
            "_view_name": "LayoutView",
            "align_content": null,
            "align_items": null,
            "align_self": null,
            "border": null,
            "bottom": null,
            "display": null,
            "flex": null,
            "flex_flow": null,
            "grid_area": null,
            "grid_auto_columns": null,
            "grid_auto_flow": null,
            "grid_auto_rows": null,
            "grid_column": null,
            "grid_gap": null,
            "grid_row": null,
            "grid_template_areas": null,
            "grid_template_columns": null,
            "grid_template_rows": null,
            "height": null,
            "justify_content": null,
            "justify_items": null,
            "left": null,
            "margin": null,
            "max_height": null,
            "max_width": null,
            "min_height": null,
            "min_width": null,
            "object_fit": null,
            "object_position": null,
            "order": null,
            "overflow": null,
            "overflow_x": null,
            "overflow_y": null,
            "padding": null,
            "right": null,
            "top": null,
            "visibility": "hidden",
            "width": null
          }
        },
        "f8e130608b10478dbc56facfaeb393f5": {
          "model_module": "@jupyter-widgets/base",
          "model_name": "LayoutModel",
          "model_module_version": "1.2.0",
          "state": {
            "_model_module": "@jupyter-widgets/base",
            "_model_module_version": "1.2.0",
            "_model_name": "LayoutModel",
            "_view_count": null,
            "_view_module": "@jupyter-widgets/base",
            "_view_module_version": "1.2.0",
            "_view_name": "LayoutView",
            "align_content": null,
            "align_items": null,
            "align_self": null,
            "border": null,
            "bottom": null,
            "display": null,
            "flex": null,
            "flex_flow": null,
            "grid_area": null,
            "grid_auto_columns": null,
            "grid_auto_flow": null,
            "grid_auto_rows": null,
            "grid_column": null,
            "grid_gap": null,
            "grid_row": null,
            "grid_template_areas": null,
            "grid_template_columns": null,
            "grid_template_rows": null,
            "height": null,
            "justify_content": null,
            "justify_items": null,
            "left": null,
            "margin": null,
            "max_height": null,
            "max_width": null,
            "min_height": null,
            "min_width": null,
            "object_fit": null,
            "object_position": null,
            "order": null,
            "overflow": null,
            "overflow_x": null,
            "overflow_y": null,
            "padding": null,
            "right": null,
            "top": null,
            "visibility": null,
            "width": null
          }
        },
        "223e553834bc4558b987e7ca65e3b982": {
          "model_module": "@jupyter-widgets/controls",
          "model_name": "DescriptionStyleModel",
          "model_module_version": "1.5.0",
          "state": {
            "_model_module": "@jupyter-widgets/controls",
            "_model_module_version": "1.5.0",
            "_model_name": "DescriptionStyleModel",
            "_view_count": null,
            "_view_module": "@jupyter-widgets/base",
            "_view_module_version": "1.2.0",
            "_view_name": "StyleView",
            "description_width": ""
          }
        },
        "ca4df19972c642a6a0e3549bca0d1a92": {
          "model_module": "@jupyter-widgets/base",
          "model_name": "LayoutModel",
          "model_module_version": "1.2.0",
          "state": {
            "_model_module": "@jupyter-widgets/base",
            "_model_module_version": "1.2.0",
            "_model_name": "LayoutModel",
            "_view_count": null,
            "_view_module": "@jupyter-widgets/base",
            "_view_module_version": "1.2.0",
            "_view_name": "LayoutView",
            "align_content": null,
            "align_items": null,
            "align_self": null,
            "border": null,
            "bottom": null,
            "display": null,
            "flex": null,
            "flex_flow": null,
            "grid_area": null,
            "grid_auto_columns": null,
            "grid_auto_flow": null,
            "grid_auto_rows": null,
            "grid_column": null,
            "grid_gap": null,
            "grid_row": null,
            "grid_template_areas": null,
            "grid_template_columns": null,
            "grid_template_rows": null,
            "height": null,
            "justify_content": null,
            "justify_items": null,
            "left": null,
            "margin": null,
            "max_height": null,
            "max_width": null,
            "min_height": null,
            "min_width": null,
            "object_fit": null,
            "object_position": null,
            "order": null,
            "overflow": null,
            "overflow_x": null,
            "overflow_y": null,
            "padding": null,
            "right": null,
            "top": null,
            "visibility": null,
            "width": null
          }
        },
        "94f161c08aa043d0b71fdbe98bc9465b": {
          "model_module": "@jupyter-widgets/controls",
          "model_name": "ProgressStyleModel",
          "model_module_version": "1.5.0",
          "state": {
            "_model_module": "@jupyter-widgets/controls",
            "_model_module_version": "1.5.0",
            "_model_name": "ProgressStyleModel",
            "_view_count": null,
            "_view_module": "@jupyter-widgets/base",
            "_view_module_version": "1.2.0",
            "_view_name": "StyleView",
            "bar_color": null,
            "description_width": ""
          }
        },
        "450017ddaf1a4b1395aab2d37e465ff7": {
          "model_module": "@jupyter-widgets/base",
          "model_name": "LayoutModel",
          "model_module_version": "1.2.0",
          "state": {
            "_model_module": "@jupyter-widgets/base",
            "_model_module_version": "1.2.0",
            "_model_name": "LayoutModel",
            "_view_count": null,
            "_view_module": "@jupyter-widgets/base",
            "_view_module_version": "1.2.0",
            "_view_name": "LayoutView",
            "align_content": null,
            "align_items": null,
            "align_self": null,
            "border": null,
            "bottom": null,
            "display": null,
            "flex": null,
            "flex_flow": null,
            "grid_area": null,
            "grid_auto_columns": null,
            "grid_auto_flow": null,
            "grid_auto_rows": null,
            "grid_column": null,
            "grid_gap": null,
            "grid_row": null,
            "grid_template_areas": null,
            "grid_template_columns": null,
            "grid_template_rows": null,
            "height": null,
            "justify_content": null,
            "justify_items": null,
            "left": null,
            "margin": null,
            "max_height": null,
            "max_width": null,
            "min_height": null,
            "min_width": null,
            "object_fit": null,
            "object_position": null,
            "order": null,
            "overflow": null,
            "overflow_x": null,
            "overflow_y": null,
            "padding": null,
            "right": null,
            "top": null,
            "visibility": null,
            "width": null
          }
        },
        "96a5fca4ef92449f9c7637b9cc1ebfd6": {
          "model_module": "@jupyter-widgets/controls",
          "model_name": "DescriptionStyleModel",
          "model_module_version": "1.5.0",
          "state": {
            "_model_module": "@jupyter-widgets/controls",
            "_model_module_version": "1.5.0",
            "_model_name": "DescriptionStyleModel",
            "_view_count": null,
            "_view_module": "@jupyter-widgets/base",
            "_view_module_version": "1.2.0",
            "_view_name": "StyleView",
            "description_width": ""
          }
        },
        "7e06a235a93a43d8870b8199e56161c3": {
          "model_module": "@jupyter-widgets/controls",
          "model_name": "HBoxModel",
          "model_module_version": "1.5.0",
          "state": {
            "_dom_classes": [],
            "_model_module": "@jupyter-widgets/controls",
            "_model_module_version": "1.5.0",
            "_model_name": "HBoxModel",
            "_view_count": null,
            "_view_module": "@jupyter-widgets/controls",
            "_view_module_version": "1.5.0",
            "_view_name": "HBoxView",
            "box_style": "",
            "children": [
              "IPY_MODEL_8782928eae9f4ef1a27b5570ddc1c97b",
              "IPY_MODEL_7674b52655114bfc92119489fcb97818",
              "IPY_MODEL_70fb0020e618410cbdc36998a3d2753b"
            ],
            "layout": "IPY_MODEL_e21f98c595004d5cbe9ef9664ae46d65"
          }
        },
        "8782928eae9f4ef1a27b5570ddc1c97b": {
          "model_module": "@jupyter-widgets/controls",
          "model_name": "HTMLModel",
          "model_module_version": "1.5.0",
          "state": {
            "_dom_classes": [],
            "_model_module": "@jupyter-widgets/controls",
            "_model_module_version": "1.5.0",
            "_model_name": "HTMLModel",
            "_view_count": null,
            "_view_module": "@jupyter-widgets/controls",
            "_view_module_version": "1.5.0",
            "_view_name": "HTMLView",
            "description": "",
            "description_tooltip": null,
            "layout": "IPY_MODEL_64f17d175fe24c41ac948fd847492bb9",
            "placeholder": "​",
            "style": "IPY_MODEL_4b9d2e02b792433aa348b87476c5f498",
            "value": "Optimization Progress: 100%"
          }
        },
        "7674b52655114bfc92119489fcb97818": {
          "model_module": "@jupyter-widgets/controls",
          "model_name": "FloatProgressModel",
          "model_module_version": "1.5.0",
          "state": {
            "_dom_classes": [],
            "_model_module": "@jupyter-widgets/controls",
            "_model_module_version": "1.5.0",
            "_model_name": "FloatProgressModel",
            "_view_count": null,
            "_view_module": "@jupyter-widgets/controls",
            "_view_module_version": "1.5.0",
            "_view_name": "ProgressView",
            "bar_style": "",
            "description": "",
            "description_tooltip": null,
            "layout": "IPY_MODEL_4203426dddcc48c7b346541e6bb96504",
            "max": 10,
            "min": 0,
            "orientation": "horizontal",
            "style": "IPY_MODEL_01672b52168c4bce8a5288b3a1cdfc28",
            "value": 10
          }
        },
        "70fb0020e618410cbdc36998a3d2753b": {
          "model_module": "@jupyter-widgets/controls",
          "model_name": "HTMLModel",
          "model_module_version": "1.5.0",
          "state": {
            "_dom_classes": [],
            "_model_module": "@jupyter-widgets/controls",
            "_model_module_version": "1.5.0",
            "_model_name": "HTMLModel",
            "_view_count": null,
            "_view_module": "@jupyter-widgets/controls",
            "_view_module_version": "1.5.0",
            "_view_name": "HTMLView",
            "description": "",
            "description_tooltip": null,
            "layout": "IPY_MODEL_6813caa7d6e34516bc4d06edecb80d6b",
            "placeholder": "​",
            "style": "IPY_MODEL_56c8c35698944c6ab3ee27e3c758f4a7",
            "value": " 10/10 [00:02&lt;00:00,  4.66pipeline/s]"
          }
        },
        "e21f98c595004d5cbe9ef9664ae46d65": {
          "model_module": "@jupyter-widgets/base",
          "model_name": "LayoutModel",
          "model_module_version": "1.2.0",
          "state": {
            "_model_module": "@jupyter-widgets/base",
            "_model_module_version": "1.2.0",
            "_model_name": "LayoutModel",
            "_view_count": null,
            "_view_module": "@jupyter-widgets/base",
            "_view_module_version": "1.2.0",
            "_view_name": "LayoutView",
            "align_content": null,
            "align_items": null,
            "align_self": null,
            "border": null,
            "bottom": null,
            "display": null,
            "flex": null,
            "flex_flow": null,
            "grid_area": null,
            "grid_auto_columns": null,
            "grid_auto_flow": null,
            "grid_auto_rows": null,
            "grid_column": null,
            "grid_gap": null,
            "grid_row": null,
            "grid_template_areas": null,
            "grid_template_columns": null,
            "grid_template_rows": null,
            "height": null,
            "justify_content": null,
            "justify_items": null,
            "left": null,
            "margin": null,
            "max_height": null,
            "max_width": null,
            "min_height": null,
            "min_width": null,
            "object_fit": null,
            "object_position": null,
            "order": null,
            "overflow": null,
            "overflow_x": null,
            "overflow_y": null,
            "padding": null,
            "right": null,
            "top": null,
            "visibility": "hidden",
            "width": null
          }
        },
        "64f17d175fe24c41ac948fd847492bb9": {
          "model_module": "@jupyter-widgets/base",
          "model_name": "LayoutModel",
          "model_module_version": "1.2.0",
          "state": {
            "_model_module": "@jupyter-widgets/base",
            "_model_module_version": "1.2.0",
            "_model_name": "LayoutModel",
            "_view_count": null,
            "_view_module": "@jupyter-widgets/base",
            "_view_module_version": "1.2.0",
            "_view_name": "LayoutView",
            "align_content": null,
            "align_items": null,
            "align_self": null,
            "border": null,
            "bottom": null,
            "display": null,
            "flex": null,
            "flex_flow": null,
            "grid_area": null,
            "grid_auto_columns": null,
            "grid_auto_flow": null,
            "grid_auto_rows": null,
            "grid_column": null,
            "grid_gap": null,
            "grid_row": null,
            "grid_template_areas": null,
            "grid_template_columns": null,
            "grid_template_rows": null,
            "height": null,
            "justify_content": null,
            "justify_items": null,
            "left": null,
            "margin": null,
            "max_height": null,
            "max_width": null,
            "min_height": null,
            "min_width": null,
            "object_fit": null,
            "object_position": null,
            "order": null,
            "overflow": null,
            "overflow_x": null,
            "overflow_y": null,
            "padding": null,
            "right": null,
            "top": null,
            "visibility": null,
            "width": null
          }
        },
        "4b9d2e02b792433aa348b87476c5f498": {
          "model_module": "@jupyter-widgets/controls",
          "model_name": "DescriptionStyleModel",
          "model_module_version": "1.5.0",
          "state": {
            "_model_module": "@jupyter-widgets/controls",
            "_model_module_version": "1.5.0",
            "_model_name": "DescriptionStyleModel",
            "_view_count": null,
            "_view_module": "@jupyter-widgets/base",
            "_view_module_version": "1.2.0",
            "_view_name": "StyleView",
            "description_width": ""
          }
        },
        "4203426dddcc48c7b346541e6bb96504": {
          "model_module": "@jupyter-widgets/base",
          "model_name": "LayoutModel",
          "model_module_version": "1.2.0",
          "state": {
            "_model_module": "@jupyter-widgets/base",
            "_model_module_version": "1.2.0",
            "_model_name": "LayoutModel",
            "_view_count": null,
            "_view_module": "@jupyter-widgets/base",
            "_view_module_version": "1.2.0",
            "_view_name": "LayoutView",
            "align_content": null,
            "align_items": null,
            "align_self": null,
            "border": null,
            "bottom": null,
            "display": null,
            "flex": null,
            "flex_flow": null,
            "grid_area": null,
            "grid_auto_columns": null,
            "grid_auto_flow": null,
            "grid_auto_rows": null,
            "grid_column": null,
            "grid_gap": null,
            "grid_row": null,
            "grid_template_areas": null,
            "grid_template_columns": null,
            "grid_template_rows": null,
            "height": null,
            "justify_content": null,
            "justify_items": null,
            "left": null,
            "margin": null,
            "max_height": null,
            "max_width": null,
            "min_height": null,
            "min_width": null,
            "object_fit": null,
            "object_position": null,
            "order": null,
            "overflow": null,
            "overflow_x": null,
            "overflow_y": null,
            "padding": null,
            "right": null,
            "top": null,
            "visibility": null,
            "width": null
          }
        },
        "01672b52168c4bce8a5288b3a1cdfc28": {
          "model_module": "@jupyter-widgets/controls",
          "model_name": "ProgressStyleModel",
          "model_module_version": "1.5.0",
          "state": {
            "_model_module": "@jupyter-widgets/controls",
            "_model_module_version": "1.5.0",
            "_model_name": "ProgressStyleModel",
            "_view_count": null,
            "_view_module": "@jupyter-widgets/base",
            "_view_module_version": "1.2.0",
            "_view_name": "StyleView",
            "bar_color": null,
            "description_width": ""
          }
        },
        "6813caa7d6e34516bc4d06edecb80d6b": {
          "model_module": "@jupyter-widgets/base",
          "model_name": "LayoutModel",
          "model_module_version": "1.2.0",
          "state": {
            "_model_module": "@jupyter-widgets/base",
            "_model_module_version": "1.2.0",
            "_model_name": "LayoutModel",
            "_view_count": null,
            "_view_module": "@jupyter-widgets/base",
            "_view_module_version": "1.2.0",
            "_view_name": "LayoutView",
            "align_content": null,
            "align_items": null,
            "align_self": null,
            "border": null,
            "bottom": null,
            "display": null,
            "flex": null,
            "flex_flow": null,
            "grid_area": null,
            "grid_auto_columns": null,
            "grid_auto_flow": null,
            "grid_auto_rows": null,
            "grid_column": null,
            "grid_gap": null,
            "grid_row": null,
            "grid_template_areas": null,
            "grid_template_columns": null,
            "grid_template_rows": null,
            "height": null,
            "justify_content": null,
            "justify_items": null,
            "left": null,
            "margin": null,
            "max_height": null,
            "max_width": null,
            "min_height": null,
            "min_width": null,
            "object_fit": null,
            "object_position": null,
            "order": null,
            "overflow": null,
            "overflow_x": null,
            "overflow_y": null,
            "padding": null,
            "right": null,
            "top": null,
            "visibility": null,
            "width": null
          }
        },
        "56c8c35698944c6ab3ee27e3c758f4a7": {
          "model_module": "@jupyter-widgets/controls",
          "model_name": "DescriptionStyleModel",
          "model_module_version": "1.5.0",
          "state": {
            "_model_module": "@jupyter-widgets/controls",
            "_model_module_version": "1.5.0",
            "_model_name": "DescriptionStyleModel",
            "_view_count": null,
            "_view_module": "@jupyter-widgets/base",
            "_view_module_version": "1.2.0",
            "_view_name": "StyleView",
            "description_width": ""
          }
        },
        "3e6c6b01e91c4f548d5b0e0ae613a174": {
          "model_module": "@jupyter-widgets/controls",
          "model_name": "HBoxModel",
          "model_module_version": "1.5.0",
          "state": {
            "_dom_classes": [],
            "_model_module": "@jupyter-widgets/controls",
            "_model_module_version": "1.5.0",
            "_model_name": "HBoxModel",
            "_view_count": null,
            "_view_module": "@jupyter-widgets/controls",
            "_view_module_version": "1.5.0",
            "_view_name": "HBoxView",
            "box_style": "",
            "children": [
              "IPY_MODEL_5a54cd72693c477cb664d7dc6ba88a22",
              "IPY_MODEL_1e50c6182063419cb9822dab86da24d7",
              "IPY_MODEL_bb7502a0a8844202b3392e06b882bc66"
            ],
            "layout": "IPY_MODEL_147e7e411733453991c48d8c00de6116"
          }
        },
        "5a54cd72693c477cb664d7dc6ba88a22": {
          "model_module": "@jupyter-widgets/controls",
          "model_name": "HTMLModel",
          "model_module_version": "1.5.0",
          "state": {
            "_dom_classes": [],
            "_model_module": "@jupyter-widgets/controls",
            "_model_module_version": "1.5.0",
            "_model_name": "HTMLModel",
            "_view_count": null,
            "_view_module": "@jupyter-widgets/controls",
            "_view_module_version": "1.5.0",
            "_view_name": "HTMLView",
            "description": "",
            "description_tooltip": null,
            "layout": "IPY_MODEL_c9840c3cc90446639ac8a1ae27e63de9",
            "placeholder": "​",
            "style": "IPY_MODEL_56efc7ddf7e14b19ba3fa31b05f6ce0d",
            "value": "Optimization Progress: 100%"
          }
        },
        "1e50c6182063419cb9822dab86da24d7": {
          "model_module": "@jupyter-widgets/controls",
          "model_name": "FloatProgressModel",
          "model_module_version": "1.5.0",
          "state": {
            "_dom_classes": [],
            "_model_module": "@jupyter-widgets/controls",
            "_model_module_version": "1.5.0",
            "_model_name": "FloatProgressModel",
            "_view_count": null,
            "_view_module": "@jupyter-widgets/controls",
            "_view_module_version": "1.5.0",
            "_view_name": "ProgressView",
            "bar_style": "",
            "description": "",
            "description_tooltip": null,
            "layout": "IPY_MODEL_251fc38aa15d49f285e196a29d12bcac",
            "max": 10,
            "min": 0,
            "orientation": "horizontal",
            "style": "IPY_MODEL_3324e45b06c043fe88076fe1de576fc7",
            "value": 10
          }
        },
        "bb7502a0a8844202b3392e06b882bc66": {
          "model_module": "@jupyter-widgets/controls",
          "model_name": "HTMLModel",
          "model_module_version": "1.5.0",
          "state": {
            "_dom_classes": [],
            "_model_module": "@jupyter-widgets/controls",
            "_model_module_version": "1.5.0",
            "_model_name": "HTMLModel",
            "_view_count": null,
            "_view_module": "@jupyter-widgets/controls",
            "_view_module_version": "1.5.0",
            "_view_name": "HTMLView",
            "description": "",
            "description_tooltip": null,
            "layout": "IPY_MODEL_3e40895d563f4afd9ff56f5ff9ad6920",
            "placeholder": "​",
            "style": "IPY_MODEL_47a2ae1a60634afa9adceecc90ab7914",
            "value": " 10/10 [00:01&lt;00:00,  3.50pipeline/s]"
          }
        },
        "147e7e411733453991c48d8c00de6116": {
          "model_module": "@jupyter-widgets/base",
          "model_name": "LayoutModel",
          "model_module_version": "1.2.0",
          "state": {
            "_model_module": "@jupyter-widgets/base",
            "_model_module_version": "1.2.0",
            "_model_name": "LayoutModel",
            "_view_count": null,
            "_view_module": "@jupyter-widgets/base",
            "_view_module_version": "1.2.0",
            "_view_name": "LayoutView",
            "align_content": null,
            "align_items": null,
            "align_self": null,
            "border": null,
            "bottom": null,
            "display": null,
            "flex": null,
            "flex_flow": null,
            "grid_area": null,
            "grid_auto_columns": null,
            "grid_auto_flow": null,
            "grid_auto_rows": null,
            "grid_column": null,
            "grid_gap": null,
            "grid_row": null,
            "grid_template_areas": null,
            "grid_template_columns": null,
            "grid_template_rows": null,
            "height": null,
            "justify_content": null,
            "justify_items": null,
            "left": null,
            "margin": null,
            "max_height": null,
            "max_width": null,
            "min_height": null,
            "min_width": null,
            "object_fit": null,
            "object_position": null,
            "order": null,
            "overflow": null,
            "overflow_x": null,
            "overflow_y": null,
            "padding": null,
            "right": null,
            "top": null,
            "visibility": "hidden",
            "width": null
          }
        },
        "c9840c3cc90446639ac8a1ae27e63de9": {
          "model_module": "@jupyter-widgets/base",
          "model_name": "LayoutModel",
          "model_module_version": "1.2.0",
          "state": {
            "_model_module": "@jupyter-widgets/base",
            "_model_module_version": "1.2.0",
            "_model_name": "LayoutModel",
            "_view_count": null,
            "_view_module": "@jupyter-widgets/base",
            "_view_module_version": "1.2.0",
            "_view_name": "LayoutView",
            "align_content": null,
            "align_items": null,
            "align_self": null,
            "border": null,
            "bottom": null,
            "display": null,
            "flex": null,
            "flex_flow": null,
            "grid_area": null,
            "grid_auto_columns": null,
            "grid_auto_flow": null,
            "grid_auto_rows": null,
            "grid_column": null,
            "grid_gap": null,
            "grid_row": null,
            "grid_template_areas": null,
            "grid_template_columns": null,
            "grid_template_rows": null,
            "height": null,
            "justify_content": null,
            "justify_items": null,
            "left": null,
            "margin": null,
            "max_height": null,
            "max_width": null,
            "min_height": null,
            "min_width": null,
            "object_fit": null,
            "object_position": null,
            "order": null,
            "overflow": null,
            "overflow_x": null,
            "overflow_y": null,
            "padding": null,
            "right": null,
            "top": null,
            "visibility": null,
            "width": null
          }
        },
        "56efc7ddf7e14b19ba3fa31b05f6ce0d": {
          "model_module": "@jupyter-widgets/controls",
          "model_name": "DescriptionStyleModel",
          "model_module_version": "1.5.0",
          "state": {
            "_model_module": "@jupyter-widgets/controls",
            "_model_module_version": "1.5.0",
            "_model_name": "DescriptionStyleModel",
            "_view_count": null,
            "_view_module": "@jupyter-widgets/base",
            "_view_module_version": "1.2.0",
            "_view_name": "StyleView",
            "description_width": ""
          }
        },
        "251fc38aa15d49f285e196a29d12bcac": {
          "model_module": "@jupyter-widgets/base",
          "model_name": "LayoutModel",
          "model_module_version": "1.2.0",
          "state": {
            "_model_module": "@jupyter-widgets/base",
            "_model_module_version": "1.2.0",
            "_model_name": "LayoutModel",
            "_view_count": null,
            "_view_module": "@jupyter-widgets/base",
            "_view_module_version": "1.2.0",
            "_view_name": "LayoutView",
            "align_content": null,
            "align_items": null,
            "align_self": null,
            "border": null,
            "bottom": null,
            "display": null,
            "flex": null,
            "flex_flow": null,
            "grid_area": null,
            "grid_auto_columns": null,
            "grid_auto_flow": null,
            "grid_auto_rows": null,
            "grid_column": null,
            "grid_gap": null,
            "grid_row": null,
            "grid_template_areas": null,
            "grid_template_columns": null,
            "grid_template_rows": null,
            "height": null,
            "justify_content": null,
            "justify_items": null,
            "left": null,
            "margin": null,
            "max_height": null,
            "max_width": null,
            "min_height": null,
            "min_width": null,
            "object_fit": null,
            "object_position": null,
            "order": null,
            "overflow": null,
            "overflow_x": null,
            "overflow_y": null,
            "padding": null,
            "right": null,
            "top": null,
            "visibility": null,
            "width": null
          }
        },
        "3324e45b06c043fe88076fe1de576fc7": {
          "model_module": "@jupyter-widgets/controls",
          "model_name": "ProgressStyleModel",
          "model_module_version": "1.5.0",
          "state": {
            "_model_module": "@jupyter-widgets/controls",
            "_model_module_version": "1.5.0",
            "_model_name": "ProgressStyleModel",
            "_view_count": null,
            "_view_module": "@jupyter-widgets/base",
            "_view_module_version": "1.2.0",
            "_view_name": "StyleView",
            "bar_color": null,
            "description_width": ""
          }
        },
        "3e40895d563f4afd9ff56f5ff9ad6920": {
          "model_module": "@jupyter-widgets/base",
          "model_name": "LayoutModel",
          "model_module_version": "1.2.0",
          "state": {
            "_model_module": "@jupyter-widgets/base",
            "_model_module_version": "1.2.0",
            "_model_name": "LayoutModel",
            "_view_count": null,
            "_view_module": "@jupyter-widgets/base",
            "_view_module_version": "1.2.0",
            "_view_name": "LayoutView",
            "align_content": null,
            "align_items": null,
            "align_self": null,
            "border": null,
            "bottom": null,
            "display": null,
            "flex": null,
            "flex_flow": null,
            "grid_area": null,
            "grid_auto_columns": null,
            "grid_auto_flow": null,
            "grid_auto_rows": null,
            "grid_column": null,
            "grid_gap": null,
            "grid_row": null,
            "grid_template_areas": null,
            "grid_template_columns": null,
            "grid_template_rows": null,
            "height": null,
            "justify_content": null,
            "justify_items": null,
            "left": null,
            "margin": null,
            "max_height": null,
            "max_width": null,
            "min_height": null,
            "min_width": null,
            "object_fit": null,
            "object_position": null,
            "order": null,
            "overflow": null,
            "overflow_x": null,
            "overflow_y": null,
            "padding": null,
            "right": null,
            "top": null,
            "visibility": null,
            "width": null
          }
        },
        "47a2ae1a60634afa9adceecc90ab7914": {
          "model_module": "@jupyter-widgets/controls",
          "model_name": "DescriptionStyleModel",
          "model_module_version": "1.5.0",
          "state": {
            "_model_module": "@jupyter-widgets/controls",
            "_model_module_version": "1.5.0",
            "_model_name": "DescriptionStyleModel",
            "_view_count": null,
            "_view_module": "@jupyter-widgets/base",
            "_view_module_version": "1.2.0",
            "_view_name": "StyleView",
            "description_width": ""
          }
        },
        "efb24c78167b4d1298dfc297a8bb4b7a": {
          "model_module": "@jupyter-widgets/controls",
          "model_name": "HBoxModel",
          "model_module_version": "1.5.0",
          "state": {
            "_dom_classes": [],
            "_model_module": "@jupyter-widgets/controls",
            "_model_module_version": "1.5.0",
            "_model_name": "HBoxModel",
            "_view_count": null,
            "_view_module": "@jupyter-widgets/controls",
            "_view_module_version": "1.5.0",
            "_view_name": "HBoxView",
            "box_style": "",
            "children": [
              "IPY_MODEL_41d0b9f9cd564fa8af8f6c50d17b4390",
              "IPY_MODEL_695e8f7cb58b4ae9a75ec644bf1709ec",
              "IPY_MODEL_683c603f62554cde985ea949155f48b5"
            ],
            "layout": "IPY_MODEL_0ce7b61d64494d96938c2a10be641224"
          }
        },
        "41d0b9f9cd564fa8af8f6c50d17b4390": {
          "model_module": "@jupyter-widgets/controls",
          "model_name": "HTMLModel",
          "model_module_version": "1.5.0",
          "state": {
            "_dom_classes": [],
            "_model_module": "@jupyter-widgets/controls",
            "_model_module_version": "1.5.0",
            "_model_name": "HTMLModel",
            "_view_count": null,
            "_view_module": "@jupyter-widgets/controls",
            "_view_module_version": "1.5.0",
            "_view_name": "HTMLView",
            "description": "",
            "description_tooltip": null,
            "layout": "IPY_MODEL_1d34b80df78b4225abb2e7c05baf8d99",
            "placeholder": "​",
            "style": "IPY_MODEL_72f4ba5c4a0a421b9474c7b4b0667125",
            "value": "Optimization Progress: 100%"
          }
        },
        "695e8f7cb58b4ae9a75ec644bf1709ec": {
          "model_module": "@jupyter-widgets/controls",
          "model_name": "FloatProgressModel",
          "model_module_version": "1.5.0",
          "state": {
            "_dom_classes": [],
            "_model_module": "@jupyter-widgets/controls",
            "_model_module_version": "1.5.0",
            "_model_name": "FloatProgressModel",
            "_view_count": null,
            "_view_module": "@jupyter-widgets/controls",
            "_view_module_version": "1.5.0",
            "_view_name": "ProgressView",
            "bar_style": "",
            "description": "",
            "description_tooltip": null,
            "layout": "IPY_MODEL_5164c3dc733f404e98d528da6ce52fcf",
            "max": 10,
            "min": 0,
            "orientation": "horizontal",
            "style": "IPY_MODEL_e28bad7b8bdb4e8bbc5bbf4440ad56ad",
            "value": 10
          }
        },
        "683c603f62554cde985ea949155f48b5": {
          "model_module": "@jupyter-widgets/controls",
          "model_name": "HTMLModel",
          "model_module_version": "1.5.0",
          "state": {
            "_dom_classes": [],
            "_model_module": "@jupyter-widgets/controls",
            "_model_module_version": "1.5.0",
            "_model_name": "HTMLModel",
            "_view_count": null,
            "_view_module": "@jupyter-widgets/controls",
            "_view_module_version": "1.5.0",
            "_view_name": "HTMLView",
            "description": "",
            "description_tooltip": null,
            "layout": "IPY_MODEL_c91b6b0ac7be42f7baaa83e3ac1e0ec3",
            "placeholder": "​",
            "style": "IPY_MODEL_62177a4c645a4e8182473916a8cc0b30",
            "value": " 10/10 [00:02&lt;00:00,  3.40pipeline/s]"
          }
        },
        "0ce7b61d64494d96938c2a10be641224": {
          "model_module": "@jupyter-widgets/base",
          "model_name": "LayoutModel",
          "model_module_version": "1.2.0",
          "state": {
            "_model_module": "@jupyter-widgets/base",
            "_model_module_version": "1.2.0",
            "_model_name": "LayoutModel",
            "_view_count": null,
            "_view_module": "@jupyter-widgets/base",
            "_view_module_version": "1.2.0",
            "_view_name": "LayoutView",
            "align_content": null,
            "align_items": null,
            "align_self": null,
            "border": null,
            "bottom": null,
            "display": null,
            "flex": null,
            "flex_flow": null,
            "grid_area": null,
            "grid_auto_columns": null,
            "grid_auto_flow": null,
            "grid_auto_rows": null,
            "grid_column": null,
            "grid_gap": null,
            "grid_row": null,
            "grid_template_areas": null,
            "grid_template_columns": null,
            "grid_template_rows": null,
            "height": null,
            "justify_content": null,
            "justify_items": null,
            "left": null,
            "margin": null,
            "max_height": null,
            "max_width": null,
            "min_height": null,
            "min_width": null,
            "object_fit": null,
            "object_position": null,
            "order": null,
            "overflow": null,
            "overflow_x": null,
            "overflow_y": null,
            "padding": null,
            "right": null,
            "top": null,
            "visibility": "hidden",
            "width": null
          }
        },
        "1d34b80df78b4225abb2e7c05baf8d99": {
          "model_module": "@jupyter-widgets/base",
          "model_name": "LayoutModel",
          "model_module_version": "1.2.0",
          "state": {
            "_model_module": "@jupyter-widgets/base",
            "_model_module_version": "1.2.0",
            "_model_name": "LayoutModel",
            "_view_count": null,
            "_view_module": "@jupyter-widgets/base",
            "_view_module_version": "1.2.0",
            "_view_name": "LayoutView",
            "align_content": null,
            "align_items": null,
            "align_self": null,
            "border": null,
            "bottom": null,
            "display": null,
            "flex": null,
            "flex_flow": null,
            "grid_area": null,
            "grid_auto_columns": null,
            "grid_auto_flow": null,
            "grid_auto_rows": null,
            "grid_column": null,
            "grid_gap": null,
            "grid_row": null,
            "grid_template_areas": null,
            "grid_template_columns": null,
            "grid_template_rows": null,
            "height": null,
            "justify_content": null,
            "justify_items": null,
            "left": null,
            "margin": null,
            "max_height": null,
            "max_width": null,
            "min_height": null,
            "min_width": null,
            "object_fit": null,
            "object_position": null,
            "order": null,
            "overflow": null,
            "overflow_x": null,
            "overflow_y": null,
            "padding": null,
            "right": null,
            "top": null,
            "visibility": null,
            "width": null
          }
        },
        "72f4ba5c4a0a421b9474c7b4b0667125": {
          "model_module": "@jupyter-widgets/controls",
          "model_name": "DescriptionStyleModel",
          "model_module_version": "1.5.0",
          "state": {
            "_model_module": "@jupyter-widgets/controls",
            "_model_module_version": "1.5.0",
            "_model_name": "DescriptionStyleModel",
            "_view_count": null,
            "_view_module": "@jupyter-widgets/base",
            "_view_module_version": "1.2.0",
            "_view_name": "StyleView",
            "description_width": ""
          }
        },
        "5164c3dc733f404e98d528da6ce52fcf": {
          "model_module": "@jupyter-widgets/base",
          "model_name": "LayoutModel",
          "model_module_version": "1.2.0",
          "state": {
            "_model_module": "@jupyter-widgets/base",
            "_model_module_version": "1.2.0",
            "_model_name": "LayoutModel",
            "_view_count": null,
            "_view_module": "@jupyter-widgets/base",
            "_view_module_version": "1.2.0",
            "_view_name": "LayoutView",
            "align_content": null,
            "align_items": null,
            "align_self": null,
            "border": null,
            "bottom": null,
            "display": null,
            "flex": null,
            "flex_flow": null,
            "grid_area": null,
            "grid_auto_columns": null,
            "grid_auto_flow": null,
            "grid_auto_rows": null,
            "grid_column": null,
            "grid_gap": null,
            "grid_row": null,
            "grid_template_areas": null,
            "grid_template_columns": null,
            "grid_template_rows": null,
            "height": null,
            "justify_content": null,
            "justify_items": null,
            "left": null,
            "margin": null,
            "max_height": null,
            "max_width": null,
            "min_height": null,
            "min_width": null,
            "object_fit": null,
            "object_position": null,
            "order": null,
            "overflow": null,
            "overflow_x": null,
            "overflow_y": null,
            "padding": null,
            "right": null,
            "top": null,
            "visibility": null,
            "width": null
          }
        },
        "e28bad7b8bdb4e8bbc5bbf4440ad56ad": {
          "model_module": "@jupyter-widgets/controls",
          "model_name": "ProgressStyleModel",
          "model_module_version": "1.5.0",
          "state": {
            "_model_module": "@jupyter-widgets/controls",
            "_model_module_version": "1.5.0",
            "_model_name": "ProgressStyleModel",
            "_view_count": null,
            "_view_module": "@jupyter-widgets/base",
            "_view_module_version": "1.2.0",
            "_view_name": "StyleView",
            "bar_color": null,
            "description_width": ""
          }
        },
        "c91b6b0ac7be42f7baaa83e3ac1e0ec3": {
          "model_module": "@jupyter-widgets/base",
          "model_name": "LayoutModel",
          "model_module_version": "1.2.0",
          "state": {
            "_model_module": "@jupyter-widgets/base",
            "_model_module_version": "1.2.0",
            "_model_name": "LayoutModel",
            "_view_count": null,
            "_view_module": "@jupyter-widgets/base",
            "_view_module_version": "1.2.0",
            "_view_name": "LayoutView",
            "align_content": null,
            "align_items": null,
            "align_self": null,
            "border": null,
            "bottom": null,
            "display": null,
            "flex": null,
            "flex_flow": null,
            "grid_area": null,
            "grid_auto_columns": null,
            "grid_auto_flow": null,
            "grid_auto_rows": null,
            "grid_column": null,
            "grid_gap": null,
            "grid_row": null,
            "grid_template_areas": null,
            "grid_template_columns": null,
            "grid_template_rows": null,
            "height": null,
            "justify_content": null,
            "justify_items": null,
            "left": null,
            "margin": null,
            "max_height": null,
            "max_width": null,
            "min_height": null,
            "min_width": null,
            "object_fit": null,
            "object_position": null,
            "order": null,
            "overflow": null,
            "overflow_x": null,
            "overflow_y": null,
            "padding": null,
            "right": null,
            "top": null,
            "visibility": null,
            "width": null
          }
        },
        "62177a4c645a4e8182473916a8cc0b30": {
          "model_module": "@jupyter-widgets/controls",
          "model_name": "DescriptionStyleModel",
          "model_module_version": "1.5.0",
          "state": {
            "_model_module": "@jupyter-widgets/controls",
            "_model_module_version": "1.5.0",
            "_model_name": "DescriptionStyleModel",
            "_view_count": null,
            "_view_module": "@jupyter-widgets/base",
            "_view_module_version": "1.2.0",
            "_view_name": "StyleView",
            "description_width": ""
          }
        }
      }
    }
  },
  "cells": [
    {
      "cell_type": "markdown",
      "source": [
        "# Learning:\n",
        "\n",
        "1. Hyperparameters vs Parameters:\n",
        "\n",
        "  Hypyperparameters are inputs to the estimator or algorithm that you set, they are not learned by the algorithm in the modeling process. Parameters are learned by the algorithm and returned to you. You do not set these.\n",
        "\n",
        "2. Grid Search: Construct a matrix of hyperparmeter combinations and values \n",
        "3. Random Search: main difference is selecting (n) random combinations, more efficient\n",
        "4. Informed search: each iteration learns from the last\n",
        "\n",
        "  Coarse to Fine, Bayesian Hyperparamter tuning, Genetic algorithms "
      ],
      "metadata": {
        "id": "86jU4UTl3pj2"
      }
    },
    {
      "cell_type": "markdown",
      "source": [
        "# Course Description\n",
        "Building powerful machine learning models depends heavily on the set of hyperparameters used. But with increasingly complex models with lots of options, how do you efficiently find the best settings for your particular problem? In this course you will get practical experience in using some common methodologies for automated hyperparameter tuning in Python using Scikit Learn. These include Grid Search, Random Search & advanced optimization methodologies including Bayesian & Genetic algorithms . You will use a dataset predicting credit card defaults as you build skills to dramatically increase the efficiency and effectiveness of your machine learning model building.\n",
        "\n",
        "\n"
      ],
      "metadata": {
        "id": "VZ4R-0ga3pmD"
      }
    },
    {
      "cell_type": "markdown",
      "source": [
        "# CHAPTER 1\n",
        "\n",
        "## Hyperparameter and Parameters\n",
        "\n",
        "In this introductory chapter you will learn the difference between hyperparameters and parameters. You will practice extracting and analyzing parameters, setting hyperparameter values for several popular machine learning algorithms. Along the way you will learn some best practice tips & tricks for choosing which hyperparameters to tune and what values to set & build learning curves to analyze your hyperparameter choices."
      ],
      "metadata": {
        "id": "XF1zYVfC3poc"
      }
    },
    {
      "cell_type": "markdown",
      "source": [
        "# Extracting a Logistic Regression parameter\n",
        "You are now going to practice extracting an important parameter of the logistic regression model. The logistic regression has a few other parameters you will not explore here but you can review them in the scikit-learn.org documentation for the LogisticRegression() module under 'Attributes'.\n",
        "\n",
        "This parameter is important for understanding the direction and magnitude of the effect the variables have on the target.\n",
        "\n",
        "In this exercise we will extract the coefficient parameter (found in the coef_ attribute), zip it up with the original column names, and see which variables had the largest positive effect on the target variable.\n",
        "\n",
        "You will have available:\n",
        "\n",
        "A logistic regression model object named log_reg_clf\n",
        "The X_train DataFrame\n",
        "sklearn and pandas have been imported for you."
      ],
      "metadata": {
        "id": "nxB-8J7D5fw3"
      }
    },
    {
      "cell_type": "code",
      "source": [
        "import pandas as pd \n",
        "import numpy as np\n",
        "import matplotlib.pyplot as plt\n",
        "from sklearn.linear_model import LogisticRegression\n",
        "from sklearn.model_selection import train_test_split\n",
        "df= pd.read_csv('credit-card-full.csv')\n",
        "X= df.drop(['ID', 'default payment next month'], axis=1)\n",
        "X_train=X[:1600]\n",
        "y= df['default payment next month']\n",
        "y_train= y[:1600]\n",
        "log_reg_clf= LogisticRegression()\n",
        "log_reg_clf.fit(X_train, y_train)\n",
        "df.head()"
      ],
      "metadata": {
        "colab": {
          "base_uri": "https://localhost:8080/",
          "height": 490
        },
        "id": "Jafsgyrk36ES",
        "outputId": "101f5571-7bef-4152-b734-a2c6ad334356"
      },
      "execution_count": 40,
      "outputs": [
        {
          "output_type": "stream",
          "name": "stderr",
          "text": [
            "/usr/local/lib/python3.7/dist-packages/sklearn/linear_model/_logistic.py:818: ConvergenceWarning: lbfgs failed to converge (status=1):\n",
            "STOP: TOTAL NO. of ITERATIONS REACHED LIMIT.\n",
            "\n",
            "Increase the number of iterations (max_iter) or scale the data as shown in:\n",
            "    https://scikit-learn.org/stable/modules/preprocessing.html\n",
            "Please also refer to the documentation for alternative solver options:\n",
            "    https://scikit-learn.org/stable/modules/linear_model.html#logistic-regression\n",
            "  extra_warning_msg=_LOGISTIC_SOLVER_CONVERGENCE_MSG,\n"
          ]
        },
        {
          "output_type": "execute_result",
          "data": {
            "text/plain": [
              "   ID  LIMIT_BAL  SEX  EDUCATION  MARRIAGE  AGE  PAY_0  PAY_2  PAY_3  PAY_4  \\\n",
              "0   1      20000    2          2         1   24      2      2     -1     -1   \n",
              "1   2     120000    2          2         2   26     -1      2      0      0   \n",
              "2   3      90000    2          2         2   34      0      0      0      0   \n",
              "3   4      50000    2          2         1   37      0      0      0      0   \n",
              "4   5      50000    1          2         1   57     -1      0     -1      0   \n",
              "\n",
              "   ...  BILL_AMT4  BILL_AMT5  BILL_AMT6  PAY_AMT1  PAY_AMT2  PAY_AMT3  \\\n",
              "0  ...          0          0          0         0       689         0   \n",
              "1  ...       3272       3455       3261         0      1000      1000   \n",
              "2  ...      14331      14948      15549      1518      1500      1000   \n",
              "3  ...      28314      28959      29547      2000      2019      1200   \n",
              "4  ...      20940      19146      19131      2000     36681     10000   \n",
              "\n",
              "   PAY_AMT4  PAY_AMT5  PAY_AMT6  default payment next month  \n",
              "0         0         0         0                           1  \n",
              "1      1000         0      2000                           1  \n",
              "2      1000      1000      5000                           0  \n",
              "3      1100      1069      1000                           0  \n",
              "4      9000       689       679                           0  \n",
              "\n",
              "[5 rows x 25 columns]"
            ],
            "text/html": [
              "\n",
              "  <div id=\"df-9ecc9465-088e-45f7-8576-1d40d8d67ee6\">\n",
              "    <div class=\"colab-df-container\">\n",
              "      <div>\n",
              "<style scoped>\n",
              "    .dataframe tbody tr th:only-of-type {\n",
              "        vertical-align: middle;\n",
              "    }\n",
              "\n",
              "    .dataframe tbody tr th {\n",
              "        vertical-align: top;\n",
              "    }\n",
              "\n",
              "    .dataframe thead th {\n",
              "        text-align: right;\n",
              "    }\n",
              "</style>\n",
              "<table border=\"1\" class=\"dataframe\">\n",
              "  <thead>\n",
              "    <tr style=\"text-align: right;\">\n",
              "      <th></th>\n",
              "      <th>ID</th>\n",
              "      <th>LIMIT_BAL</th>\n",
              "      <th>SEX</th>\n",
              "      <th>EDUCATION</th>\n",
              "      <th>MARRIAGE</th>\n",
              "      <th>AGE</th>\n",
              "      <th>PAY_0</th>\n",
              "      <th>PAY_2</th>\n",
              "      <th>PAY_3</th>\n",
              "      <th>PAY_4</th>\n",
              "      <th>...</th>\n",
              "      <th>BILL_AMT4</th>\n",
              "      <th>BILL_AMT5</th>\n",
              "      <th>BILL_AMT6</th>\n",
              "      <th>PAY_AMT1</th>\n",
              "      <th>PAY_AMT2</th>\n",
              "      <th>PAY_AMT3</th>\n",
              "      <th>PAY_AMT4</th>\n",
              "      <th>PAY_AMT5</th>\n",
              "      <th>PAY_AMT6</th>\n",
              "      <th>default payment next month</th>\n",
              "    </tr>\n",
              "  </thead>\n",
              "  <tbody>\n",
              "    <tr>\n",
              "      <th>0</th>\n",
              "      <td>1</td>\n",
              "      <td>20000</td>\n",
              "      <td>2</td>\n",
              "      <td>2</td>\n",
              "      <td>1</td>\n",
              "      <td>24</td>\n",
              "      <td>2</td>\n",
              "      <td>2</td>\n",
              "      <td>-1</td>\n",
              "      <td>-1</td>\n",
              "      <td>...</td>\n",
              "      <td>0</td>\n",
              "      <td>0</td>\n",
              "      <td>0</td>\n",
              "      <td>0</td>\n",
              "      <td>689</td>\n",
              "      <td>0</td>\n",
              "      <td>0</td>\n",
              "      <td>0</td>\n",
              "      <td>0</td>\n",
              "      <td>1</td>\n",
              "    </tr>\n",
              "    <tr>\n",
              "      <th>1</th>\n",
              "      <td>2</td>\n",
              "      <td>120000</td>\n",
              "      <td>2</td>\n",
              "      <td>2</td>\n",
              "      <td>2</td>\n",
              "      <td>26</td>\n",
              "      <td>-1</td>\n",
              "      <td>2</td>\n",
              "      <td>0</td>\n",
              "      <td>0</td>\n",
              "      <td>...</td>\n",
              "      <td>3272</td>\n",
              "      <td>3455</td>\n",
              "      <td>3261</td>\n",
              "      <td>0</td>\n",
              "      <td>1000</td>\n",
              "      <td>1000</td>\n",
              "      <td>1000</td>\n",
              "      <td>0</td>\n",
              "      <td>2000</td>\n",
              "      <td>1</td>\n",
              "    </tr>\n",
              "    <tr>\n",
              "      <th>2</th>\n",
              "      <td>3</td>\n",
              "      <td>90000</td>\n",
              "      <td>2</td>\n",
              "      <td>2</td>\n",
              "      <td>2</td>\n",
              "      <td>34</td>\n",
              "      <td>0</td>\n",
              "      <td>0</td>\n",
              "      <td>0</td>\n",
              "      <td>0</td>\n",
              "      <td>...</td>\n",
              "      <td>14331</td>\n",
              "      <td>14948</td>\n",
              "      <td>15549</td>\n",
              "      <td>1518</td>\n",
              "      <td>1500</td>\n",
              "      <td>1000</td>\n",
              "      <td>1000</td>\n",
              "      <td>1000</td>\n",
              "      <td>5000</td>\n",
              "      <td>0</td>\n",
              "    </tr>\n",
              "    <tr>\n",
              "      <th>3</th>\n",
              "      <td>4</td>\n",
              "      <td>50000</td>\n",
              "      <td>2</td>\n",
              "      <td>2</td>\n",
              "      <td>1</td>\n",
              "      <td>37</td>\n",
              "      <td>0</td>\n",
              "      <td>0</td>\n",
              "      <td>0</td>\n",
              "      <td>0</td>\n",
              "      <td>...</td>\n",
              "      <td>28314</td>\n",
              "      <td>28959</td>\n",
              "      <td>29547</td>\n",
              "      <td>2000</td>\n",
              "      <td>2019</td>\n",
              "      <td>1200</td>\n",
              "      <td>1100</td>\n",
              "      <td>1069</td>\n",
              "      <td>1000</td>\n",
              "      <td>0</td>\n",
              "    </tr>\n",
              "    <tr>\n",
              "      <th>4</th>\n",
              "      <td>5</td>\n",
              "      <td>50000</td>\n",
              "      <td>1</td>\n",
              "      <td>2</td>\n",
              "      <td>1</td>\n",
              "      <td>57</td>\n",
              "      <td>-1</td>\n",
              "      <td>0</td>\n",
              "      <td>-1</td>\n",
              "      <td>0</td>\n",
              "      <td>...</td>\n",
              "      <td>20940</td>\n",
              "      <td>19146</td>\n",
              "      <td>19131</td>\n",
              "      <td>2000</td>\n",
              "      <td>36681</td>\n",
              "      <td>10000</td>\n",
              "      <td>9000</td>\n",
              "      <td>689</td>\n",
              "      <td>679</td>\n",
              "      <td>0</td>\n",
              "    </tr>\n",
              "  </tbody>\n",
              "</table>\n",
              "<p>5 rows × 25 columns</p>\n",
              "</div>\n",
              "      <button class=\"colab-df-convert\" onclick=\"convertToInteractive('df-9ecc9465-088e-45f7-8576-1d40d8d67ee6')\"\n",
              "              title=\"Convert this dataframe to an interactive table.\"\n",
              "              style=\"display:none;\">\n",
              "        \n",
              "  <svg xmlns=\"http://www.w3.org/2000/svg\" height=\"24px\"viewBox=\"0 0 24 24\"\n",
              "       width=\"24px\">\n",
              "    <path d=\"M0 0h24v24H0V0z\" fill=\"none\"/>\n",
              "    <path d=\"M18.56 5.44l.94 2.06.94-2.06 2.06-.94-2.06-.94-.94-2.06-.94 2.06-2.06.94zm-11 1L8.5 8.5l.94-2.06 2.06-.94-2.06-.94L8.5 2.5l-.94 2.06-2.06.94zm10 10l.94 2.06.94-2.06 2.06-.94-2.06-.94-.94-2.06-.94 2.06-2.06.94z\"/><path d=\"M17.41 7.96l-1.37-1.37c-.4-.4-.92-.59-1.43-.59-.52 0-1.04.2-1.43.59L10.3 9.45l-7.72 7.72c-.78.78-.78 2.05 0 2.83L4 21.41c.39.39.9.59 1.41.59.51 0 1.02-.2 1.41-.59l7.78-7.78 2.81-2.81c.8-.78.8-2.07 0-2.86zM5.41 20L4 18.59l7.72-7.72 1.47 1.35L5.41 20z\"/>\n",
              "  </svg>\n",
              "      </button>\n",
              "      \n",
              "  <style>\n",
              "    .colab-df-container {\n",
              "      display:flex;\n",
              "      flex-wrap:wrap;\n",
              "      gap: 12px;\n",
              "    }\n",
              "\n",
              "    .colab-df-convert {\n",
              "      background-color: #E8F0FE;\n",
              "      border: none;\n",
              "      border-radius: 50%;\n",
              "      cursor: pointer;\n",
              "      display: none;\n",
              "      fill: #1967D2;\n",
              "      height: 32px;\n",
              "      padding: 0 0 0 0;\n",
              "      width: 32px;\n",
              "    }\n",
              "\n",
              "    .colab-df-convert:hover {\n",
              "      background-color: #E2EBFA;\n",
              "      box-shadow: 0px 1px 2px rgba(60, 64, 67, 0.3), 0px 1px 3px 1px rgba(60, 64, 67, 0.15);\n",
              "      fill: #174EA6;\n",
              "    }\n",
              "\n",
              "    [theme=dark] .colab-df-convert {\n",
              "      background-color: #3B4455;\n",
              "      fill: #D2E3FC;\n",
              "    }\n",
              "\n",
              "    [theme=dark] .colab-df-convert:hover {\n",
              "      background-color: #434B5C;\n",
              "      box-shadow: 0px 1px 3px 1px rgba(0, 0, 0, 0.15);\n",
              "      filter: drop-shadow(0px 1px 2px rgba(0, 0, 0, 0.3));\n",
              "      fill: #FFFFFF;\n",
              "    }\n",
              "  </style>\n",
              "\n",
              "      <script>\n",
              "        const buttonEl =\n",
              "          document.querySelector('#df-9ecc9465-088e-45f7-8576-1d40d8d67ee6 button.colab-df-convert');\n",
              "        buttonEl.style.display =\n",
              "          google.colab.kernel.accessAllowed ? 'block' : 'none';\n",
              "\n",
              "        async function convertToInteractive(key) {\n",
              "          const element = document.querySelector('#df-9ecc9465-088e-45f7-8576-1d40d8d67ee6');\n",
              "          const dataTable =\n",
              "            await google.colab.kernel.invokeFunction('convertToInteractive',\n",
              "                                                     [key], {});\n",
              "          if (!dataTable) return;\n",
              "\n",
              "          const docLinkHtml = 'Like what you see? Visit the ' +\n",
              "            '<a target=\"_blank\" href=https://colab.research.google.com/notebooks/data_table.ipynb>data table notebook</a>'\n",
              "            + ' to learn more about interactive tables.';\n",
              "          element.innerHTML = '';\n",
              "          dataTable['output_type'] = 'display_data';\n",
              "          await google.colab.output.renderOutput(dataTable, element);\n",
              "          const docLink = document.createElement('div');\n",
              "          docLink.innerHTML = docLinkHtml;\n",
              "          element.appendChild(docLink);\n",
              "        }\n",
              "      </script>\n",
              "    </div>\n",
              "  </div>\n",
              "  "
            ]
          },
          "metadata": {},
          "execution_count": 40
        }
      ]
    },
    {
      "cell_type": "code",
      "source": [
        "# Create a list of original variable names from the training DataFrame\n",
        "original_variables = X_train.columns\n",
        "\n",
        "# Extract the coefficients of the logistic regression estimator\n",
        "model_coefficients = log_reg_clf.coef_[0]\n",
        "\n",
        "# Create a dataframe of the variables and coefficients & print it out\n",
        "coefficient_df = pd.DataFrame({\"Variable\" : original_variables, \"Coefficient\": model_coefficients})\n",
        "print(coefficient_df)\n",
        "\n",
        "# Print out the top 3 positive variables\n",
        "top_three_df = coefficient_df.sort_values(by=\"Coefficient\", axis=0, ascending=False)[0:3]\n",
        "print(top_three_df)"
      ],
      "metadata": {
        "colab": {
          "base_uri": "https://localhost:8080/"
        },
        "id": "szCHqYFC5s_n",
        "outputId": "fd1fbfe9-0858-4ea7-def4-1b2c86beb880"
      },
      "execution_count": 41,
      "outputs": [
        {
          "output_type": "stream",
          "name": "stdout",
          "text": [
            "     Variable  Coefficient\n",
            "0   LIMIT_BAL    -0.000004\n",
            "1         SEX    -0.000004\n",
            "2   EDUCATION    -0.000005\n",
            "3    MARRIAGE    -0.000004\n",
            "4         AGE    -0.000074\n",
            "5       PAY_0     0.000003\n",
            "6       PAY_2     0.000002\n",
            "7       PAY_3     0.000002\n",
            "8       PAY_4     0.000002\n",
            "9       PAY_5     0.000002\n",
            "10      PAY_6     0.000001\n",
            "11  BILL_AMT1    -0.000018\n",
            "12  BILL_AMT2     0.000006\n",
            "13  BILL_AMT3     0.000013\n",
            "14  BILL_AMT4     0.000001\n",
            "15  BILL_AMT5     0.000007\n",
            "16  BILL_AMT6    -0.000005\n",
            "17   PAY_AMT1    -0.000053\n",
            "18   PAY_AMT2    -0.000051\n",
            "19   PAY_AMT3    -0.000009\n",
            "20   PAY_AMT4    -0.000034\n",
            "21   PAY_AMT5     0.000010\n",
            "22   PAY_AMT6     0.000002\n",
            "     Variable  Coefficient\n",
            "13  BILL_AMT3     0.000013\n",
            "21   PAY_AMT5     0.000010\n",
            "15  BILL_AMT5     0.000007\n"
          ]
        }
      ]
    },
    {
      "cell_type": "markdown",
      "source": [
        "# Extracting a Random Forest parameter\n",
        "You will now translate the work previously undertaken on the logistic regression model to a random forest model. A parameter of this model is, for a given tree, how it decided to split at each level.\n",
        "\n",
        "This analysis is not as useful as the coefficients of logistic regression as you will be unlikely to ever explore every split and every tree in a random forest model. However, it is a very useful exercise to peak under the hood at what the model is doing.\n",
        "\n",
        "In this exercise we will extract a single tree from our random forest model, visualize it and programmatically extract one of the splits.\n",
        "\n",
        "You have available:\n",
        "\n",
        "A random forest model object, rf_clf\n",
        "An image of the top of the chosen decision tree, tree_viz_image\n",
        "The X_train DataFrame & the original_variables list"
      ],
      "metadata": {
        "id": "mMmUzZ02WoZe"
      }
    },
    {
      "cell_type": "code",
      "source": [
        "# Extract the 7th (index 6) tree from the random forest\n",
        "chosen_tree = rf_clf.estimators_[6]\n",
        "\n",
        "# Visualize the graph using the provided image\n",
        "imgplot = plt.imshow(tree_viz_image)\n",
        "plt.show()\n",
        "\n",
        "# Extract the parameters and level of the top (index 0) node\n",
        "split_column = chosen_tree.tree_.feature[0]\n",
        "split_column_name = X_train.columns[split_column]\n",
        "split_value = chosen_tree.tree_.threshold[0]\n",
        "\n",
        "# Print out the feature and level\n",
        "print(\"This node split on feature {}, at a value of {}\".format(split_column_name, split_value))"
      ],
      "metadata": {
        "id": "FlSjlR80f8Yr"
      },
      "execution_count": null,
      "outputs": []
    },
    {
      "cell_type": "markdown",
      "source": [
        "# Hyperparameters in Random Forests\n",
        "As you saw, there are many different hyperparameters available in a Random Forest model using Scikit Learn. Here you can remind yourself how to differentiate between a hyperparameter and a parameter, and easily check whether something is a hyperparameter.\n",
        "\n",
        "You can create a random forest estimator yourself from the imported Scikit Learn package. Then print this estimator out to see the hyperparameters and their values.\n",
        "\n",
        "Which of the following is a hyperparameter for the Scikit Learn random forest model?\n",
        "\n",
        "oob_score"
      ],
      "metadata": {
        "id": "HPpLjXyPYwhQ"
      }
    },
    {
      "cell_type": "markdown",
      "source": [
        "# Exploring Random Forest Hyperparameters\n",
        "Understanding what hyperparameters are available and the impact of different hyperparameters is a core skill for any data scientist. As models become more complex, there are many different settings you can set, but only some will have a large impact on your model.\n",
        "\n",
        "You will now assess an existing random forest model (it has some bad choices for hyperparameters!) and then make better choices for a new random forest model and assess its performance.\n",
        "\n",
        "You will have available:\n",
        "\n",
        "X_train, X_test, y_train, y_test DataFrames\n",
        "An existing pre-trained random forest estimator, rf_clf_old\n",
        "The predictions of the existing random forest estimator on the test set, rf_old_predictions"
      ],
      "metadata": {
        "id": "WI8eyg1WY7AN"
      }
    },
    {
      "cell_type": "code",
      "source": [
        "from sklearn.ensemble import RandomForestClassifier\n",
        "from sklearn.metrics import confusion_matrix, accuracy_score\n",
        "rf_clf_old= RandomForestClassifier(n_estimators=5, random_state=42)\n",
        "X_train, X_test, y_train, y_test= train_test_split(X,y, test_size=.20, random_state=42)\n",
        "rf_clf_old.fit(X_train, y_train)\n",
        "rf_old_predictions= rf_clf_old.predict(X_test)"
      ],
      "metadata": {
        "id": "sZPucIHWYw6k"
      },
      "execution_count": 42,
      "outputs": []
    },
    {
      "cell_type": "code",
      "source": [
        "# Print out the old estimator, notice which hyperparameter is badly set\n",
        "print(rf_clf_old)\n",
        "\n",
        "# Get confusion matrix & accuracy for the old rf_model\n",
        "print(\"Confusion Matrix: \\n\\n {} \\n Accuracy Score: \\n\\n {}\".format(\n",
        "  confusion_matrix(y_test, rf_old_predictions),\n",
        "  accuracy_score(y_test, rf_old_predictions))) \n",
        "\n",
        "# Create a new random forest classifier with better hyperparamaters\n",
        "rf_clf_new = RandomForestClassifier(n_estimators=500)\n",
        "\n",
        "# Fit this to the data and obtain predictions\n",
        "rf_new_predictions = rf_clf_new.fit(X_train, y_train).predict(X_test)\n",
        "\n",
        "# Assess the new model (using new predictions!)\n",
        "print(\"Confusion Matrix: \\n\\n\", confusion_matrix(y_test, rf_new_predictions))\n",
        "print(\"Accuracy Score: \\n\\n\", accuracy_score(y_test, rf_new_predictions))\n",
        "\n",
        "# got boost when changing hyperparameters"
      ],
      "metadata": {
        "colab": {
          "base_uri": "https://localhost:8080/"
        },
        "id": "KCCR1FYaZ7sn",
        "outputId": "417c3b4e-e626-473a-84bd-42cf65156414"
      },
      "execution_count": 43,
      "outputs": [
        {
          "output_type": "stream",
          "name": "stdout",
          "text": [
            "RandomForestClassifier(n_estimators=5, random_state=42)\n",
            "Confusion Matrix: \n",
            "\n",
            " [[4233  454]\n",
            " [ 829  484]] \n",
            " Accuracy Score: \n",
            "\n",
            " 0.7861666666666667\n",
            "Confusion Matrix: \n",
            "\n",
            " [[4419  268]\n",
            " [ 825  488]]\n",
            "Accuracy Score: \n",
            "\n",
            " 0.8178333333333333\n"
          ]
        }
      ]
    },
    {
      "cell_type": "markdown",
      "source": [
        "# Hyperparameters of KNN\n",
        "To apply the concepts learned in the prior exercise, it is good practice to try out learnings on a new algorithm. The k-nearest-neighbors algorithm is not as popular as it used to be but can still be an excellent choice for data that has groups of data that behave similarly. Could this be the case for our credit card users?\n",
        "\n",
        "In this case you will try out several different values for one of the core hyperparameters for the knn algorithm and compare performance.\n",
        "\n",
        "You will have available:\n",
        "\n",
        "X_train, X_test, y_train, y_test DataFrames"
      ],
      "metadata": {
        "id": "kBp5XNjWbfv1"
      }
    },
    {
      "cell_type": "code",
      "source": [
        "from sklearn.neighbors import KNeighborsClassifier\n",
        "from sklearn.metrics import accuracy_score, confusion_matrix"
      ],
      "metadata": {
        "id": "1_xPRRRvaIlY"
      },
      "execution_count": 44,
      "outputs": []
    },
    {
      "cell_type": "code",
      "source": [
        "# Build a knn estimator for each value of n_neighbours\n",
        "knn_5 = KNeighborsClassifier(n_neighbors=5)\n",
        "knn_10 = KNeighborsClassifier(n_neighbors=10)\n",
        "knn_20 = KNeighborsClassifier(n_neighbors=20)\n",
        "\n",
        "# Fit each to the training data & produce predictions\n",
        "knn_5_predictions = knn_5.fit(X_train, y_train).predict(X_test)\n",
        "knn_10_predictions = knn_10.fit(X_train, y_train).predict(X_test)\n",
        "knn_20_predictions = knn_20.fit(X_train, y_train).predict(X_test)\n",
        "\n",
        "# Get an accuracy score for each of the models\n",
        "knn_5_accuracy = accuracy_score(y_test, knn_5_predictions)\n",
        "knn_10_accuracy = accuracy_score(y_test, knn_10_predictions)\n",
        "knn_20_accuracy = accuracy_score(y_test, knn_20_predictions)\n",
        "print(\"The accuracy of 5, 10, 20 neighbours was {}, {}, {}\".format(knn_5_accuracy, knn_10_accuracy, knn_20_accuracy))"
      ],
      "metadata": {
        "colab": {
          "base_uri": "https://localhost:8080/"
        },
        "id": "H47jU7QAbmzG",
        "outputId": "2ff138e9-b45b-4d3e-c221-e9b3f6a195c7"
      },
      "execution_count": 45,
      "outputs": [
        {
          "output_type": "stream",
          "name": "stdout",
          "text": [
            "The accuracy of 5, 10, 20 neighbours was 0.7561666666666667, 0.7761666666666667, 0.7801666666666667\n"
          ]
        }
      ]
    },
    {
      "cell_type": "markdown",
      "source": [
        "# Automating Hyperparameter Choice\n",
        "Finding the best hyperparameter of interest without writing hundreds of lines of code for hundreds of models is an important efficiency gain that will greatly assist your future machine learning model building.\n",
        "\n",
        "An important hyperparameter for the GBM algorithm is the learning rate. But which learning rate is best for this problem? By writing a loop to search through a number of possibilities, collating these and viewing them you can find the best one.\n",
        "\n",
        "Possible learning rates to try include 0.001, 0.01, 0.05, 0.1, 0.2 and 0.5\n",
        "\n",
        "You will have available X_train, X_test, y_train & y_test datasets, and GradientBoostingClassifier has been imported for you."
      ],
      "metadata": {
        "id": "5JbyUM1Ienjq"
      }
    },
    {
      "cell_type": "code",
      "source": [
        "from sklearn.ensemble import GradientBoostingClassifier\n",
        "df1= df[0:2000]\n",
        "df1\n",
        "X= df1.drop(['ID', 'default payment next month'], axis=1)\n",
        "y= df1['default payment next month']\n",
        "X_train, X_test, y_train, y_test= train_test_split(X,y, test_size=.20, random_state=42)"
      ],
      "metadata": {
        "id": "tmcSohuecTMN"
      },
      "execution_count": 46,
      "outputs": []
    },
    {
      "cell_type": "code",
      "source": [
        "# Set the learning rates & results storage\n",
        "learning_rates = [0.001, 0.01, 0.05, 0.1, 0.2, 0.5]\n",
        "results_list = []\n",
        "\n",
        "# Create the for loop to evaluate model predictions for each learning rate\n",
        "for x in learning_rates:\n",
        "    model = GradientBoostingClassifier(learning_rate=x)\n",
        "    predictions = model.fit(X_train, y_train).predict(X_test)\n",
        "    # Save the learning rate and accuracy score\n",
        "    results_list.append([x, accuracy_score(y_test, predictions)])\n",
        "\n",
        "# Gather everything into a DataFrame\n",
        "results_df = pd.DataFrame(results_list, columns=['learning_rate', 'accuracy'])\n",
        "print(results_df)"
      ],
      "metadata": {
        "colab": {
          "base_uri": "https://localhost:8080/"
        },
        "id": "8vpkoYuWe2gn",
        "outputId": "ccf30c85-d81f-4da0-9188-49680b1b4ad7"
      },
      "execution_count": 47,
      "outputs": [
        {
          "output_type": "stream",
          "name": "stdout",
          "text": [
            "   learning_rate  accuracy\n",
            "0          0.001    0.7975\n",
            "1          0.010    0.7950\n",
            "2          0.050    0.8275\n",
            "3          0.100    0.8100\n",
            "4          0.200    0.8125\n",
            "5          0.500    0.7950\n"
          ]
        }
      ]
    },
    {
      "cell_type": "markdown",
      "source": [
        "# Building Learning Curves\n",
        "If we want to test many different values for a single hyperparameter it can be difficult to easily view that in the form of a DataFrame. Previously you learned about a nice trick to analyze this. A graph called a 'learning curve' can nicely demonstrate the effect of increasing or decreasing a particular hyperparameter on the final result.\n",
        "\n",
        "Instead of testing only a few values for the learning rate, you will test many to easily see the effect of this hyperparameter across a large range of values. A useful function from NumPy is np.linspace(start, end, num) which allows you to create a number of values (num) evenly spread within an interval (start, end) that you specify.\n",
        "\n",
        "You will have available X_train, X_test, y_train & y_test datasets."
      ],
      "metadata": {
        "id": "i_k9eIwLgVnK"
      }
    },
    {
      "cell_type": "code",
      "source": [
        "# Set the learning rates & accuracies list\n",
        "learn_rates = np.linspace(0.01, 2, num=30)\n",
        "accuracies = []\n",
        "\n",
        "# Create the for loop\n",
        "for learn_rate in learn_rates:\n",
        "  \t# Create the model, predictions & save the accuracies as before\n",
        "    model = GradientBoostingClassifier(learning_rate=learn_rate)\n",
        "    predictions = model.fit(X_train, y_train).predict(X_test)\n",
        "    accuracies.append(accuracy_score(y_test, predictions))\n",
        "\n",
        "# Plot results    \n",
        "plt.plot(learn_rates, accuracies)\n",
        "plt.gca().set(xlabel='learning_rate', ylabel='Accuracy', title='Accuracy for different learning_rates')\n",
        "plt.show() \n",
        "\n",
        "# accuracy drops when learning rate gets over 1.5"
      ],
      "metadata": {
        "colab": {
          "base_uri": "https://localhost:8080/",
          "height": 296
        },
        "id": "zIfsbIg2ffqF",
        "outputId": "e0c835df-bee6-40c6-a4c3-13ba9bc60d4c"
      },
      "execution_count": 48,
      "outputs": [
        {
          "output_type": "display_data",
          "data": {
            "text/plain": [
              "<Figure size 432x288 with 1 Axes>"
            ],
            "image/png": "[encoded data removed]"
          },
          "metadata": {
            "needs_background": "light"
          }
        }
      ]
    },
    {
      "cell_type": "markdown",
      "source": [
        "# CHAPTER 2\n",
        "\n",
        "## Grid Search\n",
        "\n",
        "This chapter introduces you to a popular automated hyperparameter tuning methodology called Grid Search. You will learn what it is, how it works and practice undertaking a Grid Search using Scikit Learn. You will then learn how to analyze the output of a Grid Search & gain practical experience doing this."
      ],
      "metadata": {
        "id": "QltAUjyvFYUd"
      }
    },
    {
      "cell_type": "markdown",
      "source": [
        "# Build Grid Search functions\n",
        "In data science it is a great idea to try building algorithms, models and processes 'from scratch' so you can really understand what is happening at a deeper level. Of course there are great packages and libraries for this work (and we will get to that very soon!) but building from scratch will give you a great edge in your data science work.\n",
        "\n",
        "In this exercise, you will create a function to take in 2 hyperparameters, build models and return results. You will use this function in a future exercise.\n",
        "\n",
        "You will have available the X_train, X_test, y_train and y_test datasets available."
      ],
      "metadata": {
        "id": "rMrF-5cAlkkI"
      }
    },
    {
      "cell_type": "code",
      "source": [
        "# Create the function\n",
        "def gbm_grid_search(learning_rate, max_depth):\n",
        "\n",
        "\t# Create the model\n",
        "    model = GradientBoostingClassifier(learning_rate=learning_rate, max_depth=max_depth)\n",
        "    \n",
        "    # Use the model to make predictions\n",
        "    predictions = model.fit(X_train, y_train).predict(X_test)\n",
        "    \n",
        "    # Return the hyperparameters and score\n",
        "    return([learning_rate, max_depth, accuracy_score(y_test, predictions)])"
      ],
      "metadata": {
        "id": "hEBi5rbMg1l2"
      },
      "execution_count": 49,
      "outputs": []
    },
    {
      "cell_type": "markdown",
      "source": [
        "# Iteratively tune multiple hyperparameters\n",
        "In this exercise, you will build on the function you previously created to take in 2 hyperparameters, build a model and return the results. You will now use that to loop through some values and then extend this function and loop with another hyperparameter.\n",
        "\n",
        "The function gbm_grid_search(learn_rate, max_depth) is available in this exercise.\n",
        "\n",
        "If you need to remind yourself of the function you can run the function print_func() that has been created for you"
      ],
      "metadata": {
        "id": "jeYMSiBdmkmn"
      }
    },
    {
      "cell_type": "code",
      "source": [
        "# Create the relevant lists\n",
        "results_list = []\n",
        "learn_rate_list = [0.01, 0.1, 0.5]\n",
        "max_depth_list = [2,4,6]\n",
        "\n",
        "# Create the for loop\n",
        "for learn_rate in learn_rate_list:\n",
        "    for max_depth in max_depth_list:\n",
        "        results_list.append(gbm_grid_search(learn_rate,max_depth))\n",
        "\n",
        "# Print the results\n",
        "print(results_list)   "
      ],
      "metadata": {
        "colab": {
          "base_uri": "https://localhost:8080/"
        },
        "id": "HxJ4WXTmmh9C",
        "outputId": "47bb1543-0a63-48b5-a1d9-7d653e914c72"
      },
      "execution_count": 50,
      "outputs": [
        {
          "output_type": "stream",
          "name": "stdout",
          "text": [
            "[[0.01, 2, 0.7975], [0.01, 4, 0.81], [0.01, 6, 0.81], [0.1, 2, 0.8125], [0.1, 4, 0.81], [0.1, 6, 0.8025], [0.5, 2, 0.7775], [0.5, 4, 0.7925], [0.5, 6, 0.78]]\n"
          ]
        }
      ]
    },
    {
      "cell_type": "code",
      "source": [
        "results_list = []\n",
        "learn_rate_list = [0.01, 0.1, 0.5]\n",
        "max_depth_list = [2,4,6]\n",
        "\n",
        "# Extend the function input\n",
        "def gbm_grid_search_extended(learn_rate, max_depth, subsample):\n",
        "\n",
        "\t# Extend the model creation section\n",
        "    model = GradientBoostingClassifier(learning_rate=learn_rate, max_depth=max_depth, subsample=subsample)\n",
        "    \n",
        "    predictions = model.fit(X_train, y_train).predict(X_test)\n",
        "    \n",
        "    # Extend the return part\n",
        "    return([learn_rate, max_depth, subsample, accuracy_score(y_test, predictions)])       "
      ],
      "metadata": {
        "id": "Nmhp-l0EnV3x"
      },
      "execution_count": 51,
      "outputs": []
    },
    {
      "cell_type": "code",
      "source": [
        "results_list = []\n",
        "\n",
        "# Create the new list to test\n",
        "subsample_list = [0.4, 0.6]\n",
        "\n",
        "for learn_rate in learn_rate_list:\n",
        "    for max_depth in max_depth_list:\n",
        "    \n",
        "    \t# Extend the for loop\n",
        "        for subsample in subsample_list:\n",
        "        \t\n",
        "            # Extend the results to include the new hyperparameter\n",
        "            results_list.append(gbm_grid_search_extended(learn_rate, max_depth, subsample))\n",
        "            \n",
        "# Print results\n",
        "print(results_list)            "
      ],
      "metadata": {
        "colab": {
          "base_uri": "https://localhost:8080/"
        },
        "id": "rx2nwAdPnjjf",
        "outputId": "d8286425-ed78-41ce-d45f-c391a0e07729"
      },
      "execution_count": 52,
      "outputs": [
        {
          "output_type": "stream",
          "name": "stdout",
          "text": [
            "[[0.01, 2, 0.4, 0.8025], [0.01, 2, 0.6, 0.8], [0.01, 4, 0.4, 0.815], [0.01, 4, 0.6, 0.8175], [0.01, 6, 0.4, 0.815], [0.01, 6, 0.6, 0.82], [0.1, 2, 0.4, 0.8075], [0.1, 2, 0.6, 0.815], [0.1, 4, 0.4, 0.8125], [0.1, 4, 0.6, 0.8075], [0.1, 6, 0.4, 0.7925], [0.1, 6, 0.6, 0.805], [0.5, 2, 0.4, 0.785], [0.5, 2, 0.6, 0.765], [0.5, 4, 0.4, 0.7575], [0.5, 4, 0.6, 0.765], [0.5, 6, 0.4, 0.705], [0.5, 6, 0.6, 0.7575]]\n"
          ]
        }
      ]
    },
    {
      "cell_type": "code",
      "source": [
        "from sklearn import metrics\n",
        "sorted(metrics.SCORERS.keys())"
      ],
      "metadata": {
        "colab": {
          "base_uri": "https://localhost:8080/"
        },
        "id": "EpqxySM4nv-q",
        "outputId": "c428a4b5-25cb-4807-e784-5521565eff6e"
      },
      "execution_count": 53,
      "outputs": [
        {
          "output_type": "execute_result",
          "data": {
            "text/plain": [
              "['accuracy',\n",
              " 'adjusted_mutual_info_score',\n",
              " 'adjusted_rand_score',\n",
              " 'average_precision',\n",
              " 'balanced_accuracy',\n",
              " 'completeness_score',\n",
              " 'explained_variance',\n",
              " 'f1',\n",
              " 'f1_macro',\n",
              " 'f1_micro',\n",
              " 'f1_samples',\n",
              " 'f1_weighted',\n",
              " 'fowlkes_mallows_score',\n",
              " 'homogeneity_score',\n",
              " 'jaccard',\n",
              " 'jaccard_macro',\n",
              " 'jaccard_micro',\n",
              " 'jaccard_samples',\n",
              " 'jaccard_weighted',\n",
              " 'max_error',\n",
              " 'mutual_info_score',\n",
              " 'neg_brier_score',\n",
              " 'neg_log_loss',\n",
              " 'neg_mean_absolute_error',\n",
              " 'neg_mean_absolute_percentage_error',\n",
              " 'neg_mean_gamma_deviance',\n",
              " 'neg_mean_poisson_deviance',\n",
              " 'neg_mean_squared_error',\n",
              " 'neg_mean_squared_log_error',\n",
              " 'neg_median_absolute_error',\n",
              " 'neg_root_mean_squared_error',\n",
              " 'normalized_mutual_info_score',\n",
              " 'precision',\n",
              " 'precision_macro',\n",
              " 'precision_micro',\n",
              " 'precision_samples',\n",
              " 'precision_weighted',\n",
              " 'r2',\n",
              " 'rand_score',\n",
              " 'recall',\n",
              " 'recall_macro',\n",
              " 'recall_micro',\n",
              " 'recall_samples',\n",
              " 'recall_weighted',\n",
              " 'roc_auc',\n",
              " 'roc_auc_ovo',\n",
              " 'roc_auc_ovo_weighted',\n",
              " 'roc_auc_ovr',\n",
              " 'roc_auc_ovr_weighted',\n",
              " 'top_k_accuracy',\n",
              " 'v_measure_score']"
            ]
          },
          "metadata": {},
          "execution_count": 53
        }
      ]
    },
    {
      "cell_type": "markdown",
      "source": [
        "# GridSearchCV with Scikit Learn\n",
        "The GridSearchCV module from Scikit Learn provides many useful features to assist with efficiently undertaking a grid search. You will now put your learning into practice by creating a GridSearchCV object with certain parameters.\n",
        "\n",
        "The desired options are:\n",
        "\n",
        "A Random Forest Estimator, with the split criterion as 'entropy'\n",
        "5-fold cross validation\n",
        "The hyperparameters max_depth (2, 4, 8, 15) and max_features ('auto' vs 'sqrt')\n",
        "Use roc_auc to score the models\n",
        "Use 4 cores for processing in parallel\n",
        "Ensure you refit the best model and return training scores\n",
        "You will have available X_train, X_test, y_train & y_test datasets."
      ],
      "metadata": {
        "id": "BRuemsiP2gau"
      }
    },
    {
      "cell_type": "code",
      "source": [
        "from sklearn.model_selection import GridSearchCV\n",
        "# Create a Random Forest Classifier with specified criterion\n",
        "rf_class = RandomForestClassifier(criterion='entropy')\n",
        "\n",
        "# Create the parameter grid\n",
        "param_grid = {'max_depth': [2,4,8,15], 'max_features': ['auto', 'sqrt']} \n",
        "\n",
        "# Create a GridSearchCV object\n",
        "grid_rf_class = GridSearchCV(\n",
        "    estimator=rf_class,\n",
        "    param_grid=param_grid,\n",
        "    scoring='roc_auc',\n",
        "    n_jobs=4,\n",
        "    cv=5,\n",
        "    refit=True, return_train_score=True)\n",
        "print(grid_rf_class)"
      ],
      "metadata": {
        "colab": {
          "base_uri": "https://localhost:8080/"
        },
        "id": "ZJ3JxoVJ10u1",
        "outputId": "714a183f-962b-4851-977f-9df1cebfa527"
      },
      "execution_count": 54,
      "outputs": [
        {
          "output_type": "stream",
          "name": "stdout",
          "text": [
            "GridSearchCV(cv=5, estimator=RandomForestClassifier(criterion='entropy'),\n",
            "             n_jobs=4,\n",
            "             param_grid={'max_depth': [2, 4, 8, 15],\n",
            "                         'max_features': ['auto', 'sqrt']},\n",
            "             return_train_score=True, scoring='roc_auc')\n"
          ]
        }
      ]
    },
    {
      "cell_type": "markdown",
      "source": [
        "# Exploring the grid search results\n",
        "You will now explore the cv_results_ property of the GridSearchCV object defined in the video. This is a dictionary that we can read into a pandas DataFrame and contains a lot of useful information about the grid search we just undertook.\n",
        "\n",
        "A reminder of the different column types in this property:\n",
        "\n",
        "time_ columns\n",
        "\n",
        "param_ columns (one for each hyperparameter) and the singular params column (with all hyperparameter settings)\n",
        "\n",
        "a train_score column for each cv fold including the mean_train_score and std_train_score columns\n",
        "\n",
        "a test_score column for each cv fold including the mean_test_score and std_test_score columns\n",
        "\n",
        "a rank_test_score column with a number from 1 to n (number of iterations) ranking the rows based on their mean_test_score"
      ],
      "metadata": {
        "id": "kZbLSVts87BD"
      }
    },
    {
      "cell_type": "code",
      "source": [
        "grid_rf_class.fit(X_train, y_train)"
      ],
      "metadata": {
        "colab": {
          "base_uri": "https://localhost:8080/"
        },
        "id": "13t1sP10-HVP",
        "outputId": "42cb7793-4d4c-4bf4-b5e4-9e8195b83c14"
      },
      "execution_count": 55,
      "outputs": [
        {
          "output_type": "execute_result",
          "data": {
            "text/plain": [
              "GridSearchCV(cv=5, estimator=RandomForestClassifier(criterion='entropy'),\n",
              "             n_jobs=4,\n",
              "             param_grid={'max_depth': [2, 4, 8, 15],\n",
              "                         'max_features': ['auto', 'sqrt']},\n",
              "             return_train_score=True, scoring='roc_auc')"
            ]
          },
          "metadata": {},
          "execution_count": 55
        }
      ]
    },
    {
      "cell_type": "code",
      "source": [
        "from sklearn.model_selection import GridSearchCV\n",
        "# Read the cv_results property into a dataframe & print it out\n",
        "cv_results_df = pd.DataFrame(grid_rf_class.cv_results_)\n",
        "print('cv_results:', cv_results_df)\n",
        "\n",
        "# Extract and print the column with a dictionary of hyperparameters used\n",
        "column = cv_results_df.loc[:, [\"params\"]]\n",
        "print('hyperparmeters:', column)\n",
        "\n",
        "# Extract and print the row that had the best mean test score\n",
        "best_row = cv_results_df[cv_results_df[\"rank_test_score\"] == 1]\n",
        "print('best_score:', best_row)"
      ],
      "metadata": {
        "colab": {
          "base_uri": "https://localhost:8080/"
        },
        "id": "-2pb22IJ3Km3",
        "outputId": "1b1ce88b-9890-4eb2-f436-9cc4940ad181"
      },
      "execution_count": 56,
      "outputs": [
        {
          "output_type": "stream",
          "name": "stdout",
          "text": [
            "cv_results:    mean_fit_time  std_fit_time  mean_score_time  std_score_time  \\\n",
            "0       0.672983      0.048873         0.047977        0.012984   \n",
            "1       0.679266      0.061392         0.052585        0.003470   \n",
            "2       0.880777      0.025770         0.045640        0.012453   \n",
            "3       0.877963      0.046474         0.048021        0.010367   \n",
            "4       1.292855      0.065996         0.047509        0.018342   \n",
            "5       2.164539      0.252663         0.090103        0.021245   \n",
            "6       1.676160      0.223933         0.060574        0.009208   \n",
            "7       1.347266      0.237257         0.036573        0.015763   \n",
            "\n",
            "  param_max_depth param_max_features  \\\n",
            "0               2               auto   \n",
            "1               2               sqrt   \n",
            "2               4               auto   \n",
            "3               4               sqrt   \n",
            "4               8               auto   \n",
            "5               8               sqrt   \n",
            "6              15               auto   \n",
            "7              15               sqrt   \n",
            "\n",
            "                                      params  split0_test_score  \\\n",
            "0   {'max_depth': 2, 'max_features': 'auto'}           0.649314   \n",
            "1   {'max_depth': 2, 'max_features': 'sqrt'}           0.653971   \n",
            "2   {'max_depth': 4, 'max_features': 'auto'}           0.650000   \n",
            "3   {'max_depth': 4, 'max_features': 'sqrt'}           0.651086   \n",
            "4   {'max_depth': 8, 'max_features': 'auto'}           0.672914   \n",
            "5   {'max_depth': 8, 'max_features': 'sqrt'}           0.683029   \n",
            "6  {'max_depth': 15, 'max_features': 'auto'}           0.669714   \n",
            "7  {'max_depth': 15, 'max_features': 'sqrt'}           0.671543   \n",
            "\n",
            "   split1_test_score  split2_test_score  ...  mean_test_score  std_test_score  \\\n",
            "0           0.747286           0.728633  ...         0.725771        0.041985   \n",
            "1           0.742086           0.722665  ...         0.722738        0.037617   \n",
            "2           0.755343           0.727077  ...         0.731875        0.045311   \n",
            "3           0.734029           0.727247  ...         0.727331        0.044272   \n",
            "4           0.734314           0.715482  ...         0.728654        0.034375   \n",
            "5           0.739171           0.731207  ...         0.731117        0.026746   \n",
            "6           0.718829           0.729396  ...         0.720335        0.027147   \n",
            "7           0.704543           0.698908  ...         0.707498        0.023228   \n",
            "\n",
            "   rank_test_score  split0_train_score  split1_train_score  \\\n",
            "0                5            0.764566            0.751252   \n",
            "1                6            0.766644            0.753552   \n",
            "2                1            0.822806            0.818246   \n",
            "3                4            0.824222            0.820279   \n",
            "4                3            0.959582            0.969382   \n",
            "5                2            0.957448            0.963626   \n",
            "6                7            0.999631            0.999961   \n",
            "7                8            0.999677            0.999950   \n",
            "\n",
            "   split2_train_score  split3_train_score  split4_train_score  \\\n",
            "0            0.751913            0.751526            0.741248   \n",
            "1            0.751618            0.752768            0.740158   \n",
            "2            0.819401            0.811319            0.811456   \n",
            "3            0.818245            0.814580            0.812993   \n",
            "4            0.965399            0.961890            0.965520   \n",
            "5            0.965887            0.962942            0.962183   \n",
            "6            0.999730            0.999726            0.999812   \n",
            "7            0.999744            0.999734            0.999883   \n",
            "\n",
            "   mean_train_score  std_train_score  \n",
            "0          0.752101         0.007406  \n",
            "1          0.752948         0.008407  \n",
            "2          0.816646         0.004548  \n",
            "3          0.818064         0.004018  \n",
            "4          0.964354         0.003364  \n",
            "5          0.962417         0.002776  \n",
            "6          0.999772         0.000110  \n",
            "7          0.999798         0.000102  \n",
            "\n",
            "[8 rows x 22 columns]\n",
            "hyperparmeters:                                       params\n",
            "0   {'max_depth': 2, 'max_features': 'auto'}\n",
            "1   {'max_depth': 2, 'max_features': 'sqrt'}\n",
            "2   {'max_depth': 4, 'max_features': 'auto'}\n",
            "3   {'max_depth': 4, 'max_features': 'sqrt'}\n",
            "4   {'max_depth': 8, 'max_features': 'auto'}\n",
            "5   {'max_depth': 8, 'max_features': 'sqrt'}\n",
            "6  {'max_depth': 15, 'max_features': 'auto'}\n",
            "7  {'max_depth': 15, 'max_features': 'sqrt'}\n",
            "best_score:    mean_fit_time  std_fit_time  mean_score_time  std_score_time  \\\n",
            "2       0.880777       0.02577          0.04564        0.012453   \n",
            "\n",
            "  param_max_depth param_max_features  \\\n",
            "2               4               auto   \n",
            "\n",
            "                                     params  split0_test_score  \\\n",
            "2  {'max_depth': 4, 'max_features': 'auto'}               0.65   \n",
            "\n",
            "   split1_test_score  split2_test_score  ...  mean_test_score  std_test_score  \\\n",
            "2           0.755343           0.727077  ...         0.731875        0.045311   \n",
            "\n",
            "   rank_test_score  split0_train_score  split1_train_score  \\\n",
            "2                1            0.822806            0.818246   \n",
            "\n",
            "   split2_train_score  split3_train_score  split4_train_score  \\\n",
            "2            0.819401            0.811319            0.811456   \n",
            "\n",
            "   mean_train_score  std_train_score  \n",
            "2          0.816646         0.004548  \n",
            "\n",
            "[1 rows x 22 columns]\n"
          ]
        }
      ]
    },
    {
      "cell_type": "markdown",
      "source": [
        "# Analyzing the best results\n",
        "At the end of the day, we primarily care about the best performing 'square' in a grid search. Luckily Scikit Learn's gridSearchCv objects have a number of parameters that provide key information on just the best square (or row in cv_results_).\n",
        "\n",
        "Three properties you will explore are:\n",
        "\n",
        "best_score_ – The score (here ROC_AUC) from the best-performing square.\n",
        "\n",
        "best_index_ – The index of the row in cv_results_ containing information on the best-performing square.\n",
        "\n",
        "best_params_ – A dictionary of the parameters that gave the best score, for example 'max_depth': 10\n",
        "\n",
        "The grid search object grid_rf_class is available.\n",
        "\n",
        "A dataframe (cv_results_df) has been created from the cv_results_ for you on line 6. This will help you index into the results."
      ],
      "metadata": {
        "id": "oWbmOF2z_hLs"
      }
    },
    {
      "cell_type": "code",
      "source": [
        "# Print out the ROC_AUC score from the best-performing square\n",
        "best_score = grid_rf_class.best_score_\n",
        "print(best_score)\n",
        "\n",
        "# Create a variable from the row related to the best-performing square\n",
        "cv_results_df = pd.DataFrame(grid_rf_class.cv_results_)\n",
        "best_row = cv_results_df.loc[[grid_rf_class.best_index_]]\n",
        "print(best_row)\n",
        "\n",
        "# Get the n_estimators parameter from the best-performing square and print\n",
        "best_n_estimators = grid_rf_class.best_params_\n",
        "print(best_n_estimators)"
      ],
      "metadata": {
        "colab": {
          "base_uri": "https://localhost:8080/"
        },
        "id": "j46qCaaH9XYp",
        "outputId": "f1752701-b21e-48ac-f062-b6ced6145753"
      },
      "execution_count": 57,
      "outputs": [
        {
          "output_type": "stream",
          "name": "stdout",
          "text": [
            "0.7318746124942426\n",
            "   mean_fit_time  std_fit_time  mean_score_time  std_score_time  \\\n",
            "2       0.880777       0.02577          0.04564        0.012453   \n",
            "\n",
            "  param_max_depth param_max_features  \\\n",
            "2               4               auto   \n",
            "\n",
            "                                     params  split0_test_score  \\\n",
            "2  {'max_depth': 4, 'max_features': 'auto'}               0.65   \n",
            "\n",
            "   split1_test_score  split2_test_score  ...  mean_test_score  std_test_score  \\\n",
            "2           0.755343           0.727077  ...         0.731875        0.045311   \n",
            "\n",
            "   rank_test_score  split0_train_score  split1_train_score  \\\n",
            "2                1            0.822806            0.818246   \n",
            "\n",
            "   split2_train_score  split3_train_score  split4_train_score  \\\n",
            "2            0.819401            0.811319            0.811456   \n",
            "\n",
            "   mean_train_score  std_train_score  \n",
            "2          0.816646         0.004548  \n",
            "\n",
            "[1 rows x 22 columns]\n",
            "{'max_depth': 4, 'max_features': 'auto'}\n"
          ]
        }
      ]
    },
    {
      "cell_type": "markdown",
      "source": [
        "# Using the best results\n",
        "While it is interesting to analyze the results of our grid search, our final goal is practical in nature; we want to make predictions on our test set using our estimator object.\n",
        "\n",
        "We can access this object through the best_estimator_ property of our grid search object.\n",
        "\n",
        "Let's take a look inside the best_estimator_ property, make predictions, and generate evaluation scores. We will firstly use the default predict (giving class predictions), but then we will need to use predict_proba rather than predict to generate the roc-auc score as roc-auc needs probability scores for its calculation. We use a slice [:,1] to get probabilities of the positive class.\n",
        "\n",
        "You have available the X_test and y_test datasets to use and the grid_rf_class object from previous exercises."
      ],
      "metadata": {
        "id": "hkf5JU2GA9uh"
      }
    },
    {
      "cell_type": "code",
      "source": [
        "from sklearn.metrics import roc_auc_score\n",
        "# See what type of object the best_estimator_ property is\n",
        "print(type(grid_rf_class.best_estimator_))\n",
        "\n",
        "# Create an array of predictions directly using the best_estimator_ property\n",
        "predictions = grid_rf_class.best_estimator_.predict(X_test)\n",
        "\n",
        "# Take a look to confirm it worked, this should be an array of 1's and 0's\n",
        "print(predictions[0:5])\n",
        "\n",
        "# Now create a confusion matrix \n",
        "print(\"Confusion Matrix \\n\", confusion_matrix(y_test, predictions))\n",
        "\n",
        "# Get the ROC-AUC score\n",
        "predictions_proba = grid_rf_class.best_estimator_.predict_proba(X_test)[:,1]\n",
        "print(\"ROC-AUC Score \\n\", roc_auc_score(y_test, predictions_proba))"
      ],
      "metadata": {
        "colab": {
          "base_uri": "https://localhost:8080/"
        },
        "id": "uu4tUSip_6zh",
        "outputId": "c2c9944a-f9ec-484f-a33e-3134f1ba26e3"
      },
      "execution_count": 58,
      "outputs": [
        {
          "output_type": "stream",
          "name": "stdout",
          "text": [
            "<class 'sklearn.ensemble._forest.RandomForestClassifier'>\n",
            "[0 0 0 0 0]\n",
            "Confusion Matrix \n",
            " [[318   1]\n",
            " [ 72   9]]\n",
            "ROC-AUC Score \n",
            " 0.7225511823212972\n"
          ]
        }
      ]
    },
    {
      "cell_type": "markdown",
      "source": [
        "# CHAPTER 3\n",
        "\n",
        "## Random Search\n",
        "\n",
        "In this chapter you will be introduced to another popular automated hyperparameter tuning methodology called Random Search. You will learn what it is, how it works and importantly how it differs from grid search. You will learn some advantages and disadvantages of this method and when to choose this method compared to Grid Search. You will practice undertaking a Random Search with Scikit Learn as well as visualizing & interpreting the output."
      ],
      "metadata": {
        "id": "_u8AHiYqFJwQ"
      }
    },
    {
      "cell_type": "markdown",
      "source": [
        "# Randomly Sample Hyperparameters\n",
        "To undertake a random search, we firstly need to undertake a random sampling of our hyperparameter space.\n",
        "\n",
        "In this exercise, you will firstly create some lists of hyperparameters that can be zipped up to a list of lists. Then you will randomly sample hyperparameter combinations in preparation for running a random search.\n",
        "\n",
        "You will use just the hyperparameters learning_rate and min_samples_leaf of the GBM algorithm to keep the example illustrative and not overly complicated."
      ],
      "metadata": {
        "id": "sVEN7nVhFizf"
      }
    },
    {
      "cell_type": "code",
      "source": [
        "from itertools import product\n",
        "\n",
        "# Create a list of values for the learning_rate hyperparameter\n",
        "learn_rate_list = list(np.linspace(0.01,1.5,200))\n",
        "\n",
        "# Create a list of values for the min_samples_leaf hyperparameter\n",
        "min_samples_list = list(range(10,41))\n",
        "\n",
        "# Combination list\n",
        "combinations_list = [list(x) for x in product(learn_rate_list, min_samples_list)]\n",
        "\n",
        "# Sample hyperparameter combinations for a random search.\n",
        "random_combinations_index = np.random.choice(range(0, len(combinations_list)), 250, replace=False)\n",
        "combinations_random_chosen = [combinations_list[x] for x in random_combinations_index]\n",
        "\n",
        "# Print the result\n",
        "print(combinations_random_chosen)"
      ],
      "metadata": {
        "colab": {
          "base_uri": "https://localhost:8080/"
        },
        "id": "uypVNNe7BcBk",
        "outputId": "db694d62-91db-4fc9-868c-010ffdd8f387"
      },
      "execution_count": 63,
      "outputs": [
        {
          "output_type": "stream",
          "name": "stdout",
          "text": [
            "[[1.4775376884422111, 38], [1.3352763819095477, 21], [0.43678391959798996, 27], [0.7437688442211056, 14], [1.327788944723618, 27], [0.04743718592964824, 17], [1.200502512562814, 23], [1.4625628140703517, 37], [1.1930150753768844, 17], [0.30201005025125627, 34], [0.15974874371859296, 15], [0.668894472361809, 38], [0.691356783919598, 29], [0.1822110552763819, 19], [1.178040201005025, 27], [0.7287939698492463, 10], [0.48170854271356783, 29], [1.1630653266331659, 37], [0.287035175879397, 11], [1.1406030150753768, 34], [1.3951758793969848, 36], [0.039949748743718594, 32], [1.222964824120603, 33], [0.5565829145728644, 13], [0.8036683417085427, 21], [0.8485929648241206, 22], [0.09236180904522612, 10], [0.7886934673366834, 40], [1.3802010050251257, 35], [1.2379396984924622, 33], [0.287035175879397, 30], [1.4401005025125628, 38], [0.9234673366834171, 27], [1.305326633165829, 14], [1.1930150753768844, 12], [1.095678391959799, 18], [1.1855276381909547, 20], [0.5041708542713568, 16], [1.1555778894472362, 10], [0.2121608040201005, 16], [1.1406030150753768, 25], [1.1181407035175879, 32], [1.0208040201005024, 26], [1.3427638190954774, 40], [0.46673366834170854, 15], [0.7138190954773869, 39], [1.4850251256281406, 12], [0.9908542713567839, 20], [0.5640703517587939, 34], [0.5116582914572865, 24], [0.15226130653266332, 19], [0.7587437185929649, 36], [1.1331155778894473, 25], [0.4442713567839196, 21], [0.5191457286432161, 31], [0.8710552763819095, 31], [0.9234673366834171, 25], [1.5, 22], [0.5865326633165829, 17], [0.06241206030150754, 37], [0.1672361809045226, 17], [0.968391959798995, 36], [0.6539195979899497, 30], [0.11482412060301507, 13], [0.4742211055276382, 37], [0.017487437185929648, 38], [1.1181407035175879, 15], [0.2570854271356784, 17], [0.8336180904522613, 11], [1.178040201005025, 30], [1.3427638190954774, 30], [0.36939698492462314, 11], [1.4475879396984925, 13], [1.0058291457286432, 21], [1.0432663316582915, 14], [0.26457286432160804, 30], [0.5416080402010051, 36], [1.013316582914573, 30], [0.287035175879397, 14], [0.4742211055276382, 14], [0.3544221105527638, 28], [0.414321608040201, 39], [1.29035175879397, 34], [0.039949748743718594, 39], [1.455075376884422, 39], [0.08487437185929647, 35], [0.8860301507537688, 29], [0.5341206030150754, 33], [1.455075376884422, 26], [0.19718592964824122, 32], [1.013316582914573, 10], [0.2421105527638191, 15], [0.6464321608040201, 39], [0.4292964824120603, 11], [1.2379396984924622, 37], [1.0208040201005024, 35], [0.15974874371859296, 33], [0.45175879396984925, 37], [1.2529145728643216, 21], [0.05492462311557789, 39], [0.5715577889447236, 25], [0.7512562814070352, 22], [1.2079899497487436, 11], [0.2271356783919598, 21], [0.2271356783919598, 30], [0.27954773869346733, 32], [0.30201005025125627, 31], [1.178040201005025, 31], [0.3918592964824121, 37], [1.1480904522613065, 27], [0.8036683417085427, 18], [1.0881909547738693, 35], [1.1555778894472362, 40], [0.30201005025125627, 32], [1.200502512562814, 34], [0.13728643216080402, 39], [0.7512562814070352, 11], [0.03246231155778895, 26], [1.0208040201005024, 15], [0.08487437185929647, 34], [0.05492462311557789, 35], [0.9534170854271357, 22], [0.3544221105527638, 24], [1.0582412060301507, 40], [1.1855276381909547, 21], [0.24959798994974874, 32], [0.5940201005025125, 36], [1.4700502512562814, 31], [0.1822110552763819, 11], [1.4475879396984925, 32], [0.4742211055276382, 24], [0.1672361809045226, 12], [1.327788944723618, 28], [0.13728643216080402, 21], [0.414321608040201, 30], [0.14477386934673367, 33], [1.3427638190954774, 29], [1.0282914572864321, 37], [0.4592462311557789, 14], [0.8935175879396985, 30], [1.2604020100502513, 33], [1.2753768844221105, 25], [0.07738693467336683, 33], [1.4925125628140703, 16], [1.0282914572864321, 17], [0.3094974874371859, 11], [0.15974874371859296, 18], [0.9384422110552764, 28], [0.9309547738693467, 28], [1.0357788944723618, 14], [0.3993467336683417, 21], [1.2304522613065327, 28], [0.2945226130653266, 23], [1.4850251256281406, 34], [0.2720603015075377, 11], [0.9084924623115578, 35], [0.3544221105527638, 19], [0.7886934673366834, 29], [1.1331155778894473, 39], [0.6838693467336683, 14], [0.8411055276381909, 39], [0.4292964824120603, 25], [0.8261306532663316, 14], [1.3128140703517588, 23], [1.4700502512562814, 39], [1.0357788944723618, 25], [1.4775376884422111, 14], [0.024974874371859294, 26], [0.18969849246231157, 32], [0.9609045226130652, 27], [1.2978391959798994, 31], [1.3352763819095477, 40], [0.24959798994974874, 27], [1.1031658291457287, 38], [0.6464321608040201, 17], [0.5416080402010051, 22], [0.5865326633165829, 18], [1.3652261306532663, 27], [0.3993467336683417, 23], [0.3544221105527638, 29], [0.6614070351758794, 11], [0.287035175879397, 17], [0.03246231155778895, 39], [1.3577386934673366, 33], [0.3768844221105528, 35], [1.1181407035175879, 25], [0.1672361809045226, 21], [0.5116582914572865, 17], [1.1331155778894473, 20], [1.050753768844221, 40], [0.6015075376884422, 15], [0.07738693467336683, 12], [0.8036683417085427, 11], [0.414321608040201, 38], [1.1630653266331659, 27], [0.31698492462311556, 13], [0.2720603015075377, 22], [0.23462311557788945, 17], [0.27954773869346733, 11], [0.2720603015075377, 39], [0.3244723618090452, 21], [1.2978391959798994, 14], [0.12979899497487438, 26], [1.1630653266331659, 34], [1.3876884422110551, 21], [0.9908542713567839, 36], [0.5565829145728644, 10], [0.48170854271356783, 11], [0.7063316582914573, 19], [1.29035175879397, 17], [1.455075376884422, 35], [0.36939698492462314, 38], [0.5116582914572865, 36], [1.3951758793969848, 30], [1.2678894472361808, 16], [0.27954773869346733, 16], [0.968391959798995, 26], [0.8036683417085427, 29], [1.2753768844221105, 23], [0.4742211055276382, 38], [0.5715577889447236, 14], [0.5490954773869346, 21], [1.3802010050251257, 13], [0.4891959798994975, 23], [1.2828643216080402, 20], [0.9833668341708542, 16], [0.5640703517587939, 13], [0.6838693467336683, 16], [1.0432663316582915, 23], [1.4625628140703517, 30], [0.039949748743718594, 37], [0.4292964824120603, 26], [1.1256281407035176, 39], [0.40683417085427137, 27], [1.327788944723618, 16], [1.5, 17], [0.01, 13], [1.4026633165829145, 23], [0.13728643216080402, 29], [1.200502512562814, 40], [1.3427638190954774, 21], [0.5041708542713568, 26], [0.08487437185929647, 36], [0.42180904522613066, 19], [0.9010050251256281, 34], [0.03246231155778895, 25], [0.9908542713567839, 13], [0.5191457286432161, 18], [0.42180904522613066, 28], [1.3577386934673366, 15]]\n"
          ]
        }
      ]
    },
    {
      "cell_type": "markdown",
      "source": [
        "# Randomly Search with Random Forest\n",
        "To solidify your knowledge of random sampling, let's try a similar exercise but using different hyperparameters and a different algorithm.\n",
        "\n",
        "As before, create some lists of hyperparameters that can be zipped up to a list of lists. You will use the hyperparameters criterion, max_depth and max_features of the random forest algorithm. Then you will randomly sample hyperparameter combinations in preparation for running a random search.\n",
        "\n",
        "You will use a slightly different package for sampling in this task, random.sample()."
      ],
      "metadata": {
        "id": "rDXwf8eEGLnw"
      }
    },
    {
      "cell_type": "code",
      "source": [
        "import random\n",
        "# Create lists for criterion and max_features\n",
        "criterion_list = [\"gini\", \"entropy\"]\n",
        "max_feature_list = [\"auto\", \"sqrt\", \"log2\", None]\n",
        "\n",
        "# Create a list of values for the max_depth hyperparameter\n",
        "max_depth_list = list(range(3,56))\n",
        "\n",
        "# Combination list\n",
        "combinations_list = [list(x) for x in product(criterion_list, max_feature_list, max_depth_list)]\n",
        "\n",
        "# Sample hyperparameter combinations for a random search\n",
        "combinations_random_chosen = random.sample(combinations_list, 150)\n",
        "\n",
        "# Print the result\n",
        "print(combinations_random_chosen)"
      ],
      "metadata": {
        "colab": {
          "base_uri": "https://localhost:8080/"
        },
        "id": "OxnsCMimGCDF",
        "outputId": "4b97627b-9c78-40cc-9536-512a48b56287"
      },
      "execution_count": 60,
      "outputs": [
        {
          "output_type": "stream",
          "name": "stdout",
          "text": [
            "[['entropy', 'sqrt', 9], ['entropy', 'log2', 35], ['entropy', 'log2', 43], ['entropy', 'sqrt', 13], ['gini', 'auto', 48], ['entropy', 'log2', 4], ['entropy', 'auto', 41], ['gini', 'sqrt', 52], ['entropy', 'auto', 6], ['entropy', 'log2', 54], ['entropy', 'sqrt', 51], ['entropy', 'sqrt', 39], ['gini', 'log2', 7], ['entropy', None, 37], ['entropy', None, 35], ['gini', None, 35], ['gini', None, 42], ['entropy', 'log2', 34], ['gini', 'log2', 5], ['gini', 'sqrt', 27], ['entropy', 'auto', 27], ['entropy', 'log2', 23], ['gini', 'sqrt', 41], ['entropy', 'sqrt', 28], ['gini', None, 17], ['gini', 'auto', 45], ['entropy', 'log2', 51], ['entropy', 'sqrt', 8], ['entropy', 'log2', 31], ['gini', 'auto', 47], ['entropy', 'auto', 31], ['gini', None, 5], ['gini', None, 50], ['gini', 'auto', 24], ['gini', 'log2', 34], ['entropy', 'sqrt', 23], ['gini', 'auto', 6], ['entropy', 'auto', 8], ['gini', 'sqrt', 54], ['gini', None, 29], ['entropy', 'sqrt', 11], ['gini', 'auto', 44], ['entropy', None, 41], ['entropy', 'sqrt', 3], ['gini', 'sqrt', 51], ['entropy', 'sqrt', 48], ['entropy', None, 13], ['gini', 'auto', 29], ['gini', None, 27], ['gini', 'sqrt', 16], ['entropy', None, 43], ['entropy', None, 29], ['gini', 'sqrt', 32], ['entropy', 'auto', 17], ['entropy', 'sqrt', 42], ['gini', 'sqrt', 40], ['entropy', 'auto', 48], ['entropy', None, 34], ['entropy', 'log2', 53], ['gini', 'auto', 21], ['gini', 'sqrt', 6], ['gini', 'auto', 14], ['gini', 'sqrt', 37], ['entropy', 'auto', 33], ['entropy', None, 54], ['entropy', 'auto', 5], ['entropy', None, 14], ['entropy', None, 18], ['entropy', 'log2', 8], ['entropy', None, 26], ['gini', 'sqrt', 23], ['gini', 'log2', 55], ['entropy', 'sqrt', 54], ['gini', 'auto', 5], ['gini', None, 39], ['gini', None, 12], ['gini', 'sqrt', 19], ['entropy', 'sqrt', 5], ['gini', None, 51], ['entropy', None, 48], ['gini', 'auto', 31], ['entropy', 'log2', 12], ['entropy', None, 42], ['entropy', 'log2', 55], ['gini', 'log2', 28], ['entropy', 'sqrt', 17], ['entropy', None, 23], ['gini', 'sqrt', 14], ['gini', None, 25], ['entropy', 'auto', 34], ['entropy', 'log2', 28], ['gini', 'sqrt', 17], ['entropy', 'sqrt', 45], ['entropy', None, 36], ['entropy', 'sqrt', 49], ['gini', None, 53], ['gini', 'sqrt', 13], ['gini', 'auto', 52], ['gini', 'sqrt', 10], ['entropy', 'log2', 38], ['gini', 'log2', 48], ['gini', 'sqrt', 39], ['entropy', 'log2', 50], ['entropy', 'log2', 13], ['gini', 'sqrt', 24], ['gini', 'log2', 3], ['entropy', 'sqrt', 25], ['gini', None, 7], ['entropy', 'auto', 46], ['gini', 'log2', 16], ['entropy', 'log2', 24], ['entropy', 'log2', 10], ['entropy', None, 16], ['gini', 'sqrt', 45], ['gini', 'auto', 40], ['entropy', 'auto', 47], ['gini', 'log2', 44], ['gini', 'auto', 8], ['entropy', 'sqrt', 37], ['gini', 'auto', 27], ['gini', None, 16], ['entropy', None, 5], ['gini', None, 37], ['gini', None, 48], ['entropy', 'sqrt', 41], ['entropy', 'sqrt', 38], ['gini', None, 41], ['entropy', 'auto', 3], ['gini', None, 33], ['entropy', None, 15], ['gini', 'auto', 50], ['gini', 'sqrt', 42], ['gini', 'auto', 22], ['gini', None, 34], ['entropy', 'sqrt', 36], ['entropy', 'auto', 18], ['gini', 'log2', 14], ['gini', None, 3], ['gini', 'log2', 12], ['entropy', 'sqrt', 24], ['gini', 'sqrt', 4], ['gini', None, 4], ['gini', 'log2', 8], ['gini', 'log2', 24], ['gini', None, 40], ['entropy', 'log2', 40], ['entropy', 'auto', 15], ['entropy', 'log2', 42], ['entropy', 'sqrt', 15], ['entropy', None, 47]]\n"
          ]
        }
      ]
    },
    {
      "cell_type": "markdown",
      "source": [
        "# Visualizing a Random Search\n",
        "Visualizing the search space of random search allows you to easily see the coverage of this technique and therefore allows you to see the effect of your sampling on the search space.\n",
        "\n",
        "In this exercise you will use several different samples of hyperparameter combinations and produce visualizations of the search space.\n",
        "\n",
        "The function sample_and_visualize_hyperparameters() takes a single argument (number of combinations to sample) and then randomly samples hyperparameter combinations, just like you did in the last exercise! The function will then visualize the combinations.\n",
        "\n",
        "If you want to see the function definition, you can use Python's handy inspect library, like so:\n",
        "\n",
        "print(inspect.getsource(sample_and_visualize_hyperparameters))"
      ],
      "metadata": {
        "id": "THfUYs7iJeZx"
      }
    },
    {
      "cell_type": "code",
      "source": [
        "x_lims= [0.01, 1.5]\n",
        "y_lims= [10, 29]\n",
        "def sample_and_visualize_hyperparameters(n_samples):\n",
        "\n",
        "  # If asking for all combinations, just return the entire list.\n",
        "  if n_samples == len(combinations_list):\n",
        "    combinations_random_chosen = combinations_list\n",
        "  else:\n",
        "    combinations_random_chosen = []\n",
        "    random_combinations_index = np.random.choice(range(0, len(combinations_list)), n_samples, replace=False)\n",
        "    combinations_random_chosen = [combinations_list[x] for x in random_combinations_index]\n",
        "    \n",
        "  # Pull out the X and Y to plot\n",
        "  rand_y, rand_x = [x[0] for x in combinations_random_chosen], [x[1] for x in combinations_random_chosen]\n",
        "\n",
        "  # Plot \n",
        "  plt.clf() \n",
        "  plt.scatter(rand_y, rand_x, c=['blue']*len(combinations_random_chosen))\n",
        "  plt.gca().set(xlabel='learn_rate', ylabel='min_samples_leaf', title='Random Search Hyperparameters')\n",
        "  plt.gca().set_xlim(x_lims)\n",
        "  plt.gca().set_ylim(y_lims)\n",
        "  plt.show()\n"
      ],
      "metadata": {
        "id": "y_QIZtyKHsTB"
      },
      "execution_count": 65,
      "outputs": []
    },
    {
      "cell_type": "code",
      "source": [
        "# Confirm how many hyperparameter combinations & print\n",
        "number_combs = len(combinations_list)\n",
        "print(number_combs)\n",
        "\n",
        "# Sample and visualise specified combinations\n",
        "for x in [50, 500, 1500]:\n",
        " sample_and_visualize_hyperparameters(x)\n",
        "    \n",
        "# Sample all the hyperparameter combinations & visualise\n",
        "sample_and_visualize_hyperparameters(number_combs)"
      ],
      "metadata": {
        "colab": {
          "base_uri": "https://localhost:8080/",
          "height": 1000
        },
        "id": "z-rYM39ke45N",
        "outputId": "0058a999-ebad-4510-8f8b-8ef23ac2c589"
      },
      "execution_count": 66,
      "outputs": [
        {
          "output_type": "stream",
          "name": "stdout",
          "text": [
            "6200\n"
          ]
        },
        {
          "output_type": "display_data",
          "data": {
            "text/plain": [
              "<Figure size 432x288 with 1 Axes>"
            ],
            "image/png": "[encoded data removed]"
          },
          "metadata": {
            "needs_background": "light"
          }
        },
        {
          "output_type": "display_data",
          "data": {
            "text/plain": [
              "<Figure size 432x288 with 1 Axes>"
            ],
            "image/png": "[encoded data removed]"
          },
          "metadata": {
            "needs_background": "light"
          }
        },
        {
          "output_type": "display_data",
          "data": {
            "text/plain": [
              "<Figure size 432x288 with 1 Axes>"
            ],
            "image/png": "[encoded data removed]"
          },
          "metadata": {
            "needs_background": "light"
          }
        },
        {
          "output_type": "display_data",
          "data": {
            "text/plain": [
              "<Figure size 432x288 with 1 Axes>"
            ],
            "image/png": "[encoded data removed]"
          },
          "metadata": {
            "needs_background": "light"
          }
        }
      ]
    },
    {
      "cell_type": "markdown",
      "source": [
        "# RandomSearchCV inputs\n",
        "Let's test your knowledge of how RandomizedSearchCV differs from GridSearchCV.\n",
        "\n",
        "You can check the documentation on Scitkit Learn's website to compare these two functions.\n",
        "\n",
        "Which of these parameters is only for a RandomizedSearchCV?\n",
        "\n",
        "n_iter"
      ],
      "metadata": {
        "id": "0IOpvB3xhpi0"
      }
    },
    {
      "cell_type": "markdown",
      "source": [
        "# The RandomizedSearchCV Object\n",
        "Just like the GridSearchCV library from Scikit Learn, RandomizedSearchCV provides many useful features to assist with efficiently undertaking a random search. You're going to create a RandomizedSearchCV object, making the small adjustment needed from the GridSearchCV object.\n",
        "\n",
        "The desired options are:\n",
        "\n",
        "A default Gradient Boosting Classifier Estimator\n",
        "\n",
        "5-fold cross validation\n",
        "\n",
        "Use accuracy to score the models\n",
        "\n",
        "Use 4 cores for processing in parallel\n",
        "\n",
        "Ensure you refit the best model and return training scores\n",
        "\n",
        "Randomly sample 10 models\n",
        "\n",
        "The hyperparameter grid should be for learning_rate (150 values between 0.1 and 2) and min_samples_leaf (all values between and including 20 and 64).\n",
        "\n",
        "You will have available X_train & y_train datasets."
      ],
      "metadata": {
        "id": "eMrBlt8JhvCj"
      }
    },
    {
      "cell_type": "code",
      "source": [
        "from sklearn.model_selection import RandomizedSearchCV\n",
        "\n",
        "# Create the parameter grid\n",
        "param_grid = {'learning_rate': np.linspace(0.1, 2, 150), 'min_samples_leaf': list(range(20, 65))} \n",
        "\n",
        "# Create a random search object\n",
        "random_GBM_class = RandomizedSearchCV(\n",
        "    estimator = GradientBoostingClassifier(),\n",
        "    param_distributions = param_grid,\n",
        "    n_iter = 10,\n",
        "    scoring='accuracy', n_jobs=4, cv = 5, refit=True, return_train_score = True)\n",
        "\n",
        "# Fit to the training data\n",
        "random_GBM_class.fit(X_train, y_train)\n",
        "\n",
        "# Print the values used for both hyperparameters\n",
        "print(random_GBM_class.cv_results_['param_learning_rate'])\n",
        "print(random_GBM_class.cv_results_['param_min_samples_leaf'])"
      ],
      "metadata": {
        "id": "GmR9wKRTfWnk",
        "colab": {
          "base_uri": "https://localhost:8080/"
        },
        "outputId": "b165b3d6-33a8-4e2c-9a8c-1ef071f8a8fd"
      },
      "execution_count": 67,
      "outputs": [
        {
          "output_type": "stream",
          "name": "stdout",
          "text": [
            "[0.18926174496644296 0.49530201342281877 0.125503355704698\n",
            " 1.8979865771812081 1.1583892617449665 0.9671140939597315\n",
            " 1.2986577181208054 1.5026845637583892 2.0 0.9926174496644294]\n",
            "[56 20 49 60 47 64 33 35 21 49]\n"
          ]
        }
      ]
    },
    {
      "cell_type": "markdown",
      "source": [
        "# RandomSearchCV in Scikit Learn\n",
        "Let's practice building a RandomizedSearchCV object using Scikit Learn.\n",
        "\n",
        "The hyperparameter grid should be for max_depth (all values between and including 5 and 25) and max_features ('auto' and 'sqrt').\n",
        "\n",
        "The desired options for the RandomizedSearchCV object are:\n",
        "\n",
        "A RandomForestClassifier Estimator with n_estimators of 80.\n",
        "\n",
        "3-fold cross validation (cv)\n",
        "\n",
        "Use roc_auc to score the models\n",
        "\n",
        "Use 4 cores for processing in parallel (n_jobs)\n",
        "\n",
        "Ensure you refit the best model and return training scores\n",
        "\n",
        "Only sample 5 models for efficiency (n_iter)\n",
        "\n",
        "X_train & y_train datasets are loaded for you.\n",
        "\n",
        "Remember, to extract the chosen hyperparameters these are found in cv_results_ with a column per hyperparameter. For example, the column for the hyperparameter criterion would be param_criterion"
      ],
      "metadata": {
        "id": "aDqqzZk0jvT_"
      }
    },
    {
      "cell_type": "code",
      "source": [
        "# Create the parameter grid\n",
        "param_grid = {'max_depth': list(range(5,26)), 'max_features': ['auto' , 'sqrt']} \n",
        "\n",
        "# Create a random search object\n",
        "random_rf_class = RandomizedSearchCV(\n",
        "    estimator = RandomForestClassifier(n_estimators=80),\n",
        "    param_distributions = param_grid, n_iter = 5,\n",
        "    scoring='roc_auc', n_jobs=4, cv = 3, refit=True, return_train_score = True )\n",
        "\n",
        "# Fit to the training data\n",
        "random_rf_class.fit(X_train, y_train)\n",
        "\n",
        "# Print the values used for both hyperparameters\n",
        "print(random_rf_class.cv_results_['param_max_depth'])\n",
        "print(random_rf_class.cv_results_['param_max_features'])\n",
        "\n"
      ],
      "metadata": {
        "colab": {
          "base_uri": "https://localhost:8080/"
        },
        "id": "INupmYkOiFJq",
        "outputId": "b3a151b7-31df-4955-bee6-fd8913cbc8ad"
      },
      "execution_count": 68,
      "outputs": [
        {
          "output_type": "stream",
          "name": "stdout",
          "text": [
            "[6 22 12 21 21]\n",
            "['sqrt' 'auto' 'auto' 'sqrt' 'auto']\n"
          ]
        }
      ]
    },
    {
      "cell_type": "markdown",
      "source": [
        "# Comparing Random & Grid Search\n",
        "In the video, you just studied some of the advantages and disadvantages of random search as compared to grid search.\n",
        "\n",
        "Which of the following is an advantage of random search?\n",
        "\n",
        "It is more computationally efficient than Grid Search."
      ],
      "metadata": {
        "id": "1ZbApuUJoaiD"
      }
    },
    {
      "cell_type": "markdown",
      "source": [
        "# Grid and Random Search Side by Side\n",
        "Visualizing the search space of random and grid search together allows you to easily see the coverage that each technique has and therefore brings to life their specific advantages and disadvantages.\n",
        "\n",
        "In this exercise, you will sample hyperparameter combinations in a grid search way as well as a random search way, then plot these to see the difference.\n",
        "\n",
        "You will have available:\n",
        "\n",
        "combinations_list which is a list of combinations of learn_rate and min_samples_leaf for this algorithm\n",
        "\n",
        "The function visualize_search() which will make your hyperparameter combinations into X and Y coordinates and plot both grid and random search combinations on the same graph. It takes as input two lists of hyperparameter combinations.\n",
        "\n",
        "If you wish to view the visualize_search() function definition, you can run this code:"
      ],
      "metadata": {
        "id": "r8VZMS4JokL6"
      }
    },
    {
      "cell_type": "code",
      "source": [
        "x_lims= [0.01, 3.0]\n",
        "y_lims= [5,24]\n",
        "def visualize_search(grid_combinations_chosen, random_combinations_chosen):\n",
        "  grid_y, grid_x = [x[0] for x in grid_combinations_chosen], [x[1] for x in grid_combinations_chosen]\n",
        "  rand_y, rand_x = [x[0] for x in random_combinations_chosen], [x[1] for x in random_combinations_chosen]\n",
        "\n",
        "  # Plot all together\n",
        "  plt.scatter(grid_y + rand_y, grid_x + rand_x, c=['red']*300 + ['blue']*300)\n",
        "  plt.gca().set(xlabel='learn_rate', ylabel='min_samples_leaf', title='Grid and Random Search Hyperparameters')\n",
        "  plt.gca().set_xlim(x_lims)\n",
        "  plt.gca().set_ylim(y_lims)\n",
        "  plt.show()"
      ],
      "metadata": {
        "id": "j_vY_iYilOy3"
      },
      "execution_count": 69,
      "outputs": []
    },
    {
      "cell_type": "code",
      "source": [
        "# Sample grid coordinates\n",
        "grid_combinations_chosen = combinations_list[0:300]\n",
        "\n",
        "# Print result\n",
        "print(grid_combinations_chosen)"
      ],
      "metadata": {
        "colab": {
          "base_uri": "https://localhost:8080/"
        },
        "id": "UkYf-hCloiWp",
        "outputId": "0d71dec7-e381-44a0-dcd3-daa4deca4e86"
      },
      "execution_count": 70,
      "outputs": [
        {
          "output_type": "stream",
          "name": "stdout",
          "text": [
            "[[0.01, 10], [0.01, 11], [0.01, 12], [0.01, 13], [0.01, 14], [0.01, 15], [0.01, 16], [0.01, 17], [0.01, 18], [0.01, 19], [0.01, 20], [0.01, 21], [0.01, 22], [0.01, 23], [0.01, 24], [0.01, 25], [0.01, 26], [0.01, 27], [0.01, 28], [0.01, 29], [0.01, 30], [0.01, 31], [0.01, 32], [0.01, 33], [0.01, 34], [0.01, 35], [0.01, 36], [0.01, 37], [0.01, 38], [0.01, 39], [0.01, 40], [0.017487437185929648, 10], [0.017487437185929648, 11], [0.017487437185929648, 12], [0.017487437185929648, 13], [0.017487437185929648, 14], [0.017487437185929648, 15], [0.017487437185929648, 16], [0.017487437185929648, 17], [0.017487437185929648, 18], [0.017487437185929648, 19], [0.017487437185929648, 20], [0.017487437185929648, 21], [0.017487437185929648, 22], [0.017487437185929648, 23], [0.017487437185929648, 24], [0.017487437185929648, 25], [0.017487437185929648, 26], [0.017487437185929648, 27], [0.017487437185929648, 28], [0.017487437185929648, 29], [0.017487437185929648, 30], [0.017487437185929648, 31], [0.017487437185929648, 32], [0.017487437185929648, 33], [0.017487437185929648, 34], [0.017487437185929648, 35], [0.017487437185929648, 36], [0.017487437185929648, 37], [0.017487437185929648, 38], [0.017487437185929648, 39], [0.017487437185929648, 40], [0.024974874371859294, 10], [0.024974874371859294, 11], [0.024974874371859294, 12], [0.024974874371859294, 13], [0.024974874371859294, 14], [0.024974874371859294, 15], [0.024974874371859294, 16], [0.024974874371859294, 17], [0.024974874371859294, 18], [0.024974874371859294, 19], [0.024974874371859294, 20], [0.024974874371859294, 21], [0.024974874371859294, 22], [0.024974874371859294, 23], [0.024974874371859294, 24], [0.024974874371859294, 25], [0.024974874371859294, 26], [0.024974874371859294, 27], [0.024974874371859294, 28], [0.024974874371859294, 29], [0.024974874371859294, 30], [0.024974874371859294, 31], [0.024974874371859294, 32], [0.024974874371859294, 33], [0.024974874371859294, 34], [0.024974874371859294, 35], [0.024974874371859294, 36], [0.024974874371859294, 37], [0.024974874371859294, 38], [0.024974874371859294, 39], [0.024974874371859294, 40], [0.03246231155778895, 10], [0.03246231155778895, 11], [0.03246231155778895, 12], [0.03246231155778895, 13], [0.03246231155778895, 14], [0.03246231155778895, 15], [0.03246231155778895, 16], [0.03246231155778895, 17], [0.03246231155778895, 18], [0.03246231155778895, 19], [0.03246231155778895, 20], [0.03246231155778895, 21], [0.03246231155778895, 22], [0.03246231155778895, 23], [0.03246231155778895, 24], [0.03246231155778895, 25], [0.03246231155778895, 26], [0.03246231155778895, 27], [0.03246231155778895, 28], [0.03246231155778895, 29], [0.03246231155778895, 30], [0.03246231155778895, 31], [0.03246231155778895, 32], [0.03246231155778895, 33], [0.03246231155778895, 34], [0.03246231155778895, 35], [0.03246231155778895, 36], [0.03246231155778895, 37], [0.03246231155778895, 38], [0.03246231155778895, 39], [0.03246231155778895, 40], [0.039949748743718594, 10], [0.039949748743718594, 11], [0.039949748743718594, 12], [0.039949748743718594, 13], [0.039949748743718594, 14], [0.039949748743718594, 15], [0.039949748743718594, 16], [0.039949748743718594, 17], [0.039949748743718594, 18], [0.039949748743718594, 19], [0.039949748743718594, 20], [0.039949748743718594, 21], [0.039949748743718594, 22], [0.039949748743718594, 23], [0.039949748743718594, 24], [0.039949748743718594, 25], [0.039949748743718594, 26], [0.039949748743718594, 27], [0.039949748743718594, 28], [0.039949748743718594, 29], [0.039949748743718594, 30], [0.039949748743718594, 31], [0.039949748743718594, 32], [0.039949748743718594, 33], [0.039949748743718594, 34], [0.039949748743718594, 35], [0.039949748743718594, 36], [0.039949748743718594, 37], [0.039949748743718594, 38], [0.039949748743718594, 39], [0.039949748743718594, 40], [0.04743718592964824, 10], [0.04743718592964824, 11], [0.04743718592964824, 12], [0.04743718592964824, 13], [0.04743718592964824, 14], [0.04743718592964824, 15], [0.04743718592964824, 16], [0.04743718592964824, 17], [0.04743718592964824, 18], [0.04743718592964824, 19], [0.04743718592964824, 20], [0.04743718592964824, 21], [0.04743718592964824, 22], [0.04743718592964824, 23], [0.04743718592964824, 24], [0.04743718592964824, 25], [0.04743718592964824, 26], [0.04743718592964824, 27], [0.04743718592964824, 28], [0.04743718592964824, 29], [0.04743718592964824, 30], [0.04743718592964824, 31], [0.04743718592964824, 32], [0.04743718592964824, 33], [0.04743718592964824, 34], [0.04743718592964824, 35], [0.04743718592964824, 36], [0.04743718592964824, 37], [0.04743718592964824, 38], [0.04743718592964824, 39], [0.04743718592964824, 40], [0.05492462311557789, 10], [0.05492462311557789, 11], [0.05492462311557789, 12], [0.05492462311557789, 13], [0.05492462311557789, 14], [0.05492462311557789, 15], [0.05492462311557789, 16], [0.05492462311557789, 17], [0.05492462311557789, 18], [0.05492462311557789, 19], [0.05492462311557789, 20], [0.05492462311557789, 21], [0.05492462311557789, 22], [0.05492462311557789, 23], [0.05492462311557789, 24], [0.05492462311557789, 25], [0.05492462311557789, 26], [0.05492462311557789, 27], [0.05492462311557789, 28], [0.05492462311557789, 29], [0.05492462311557789, 30], [0.05492462311557789, 31], [0.05492462311557789, 32], [0.05492462311557789, 33], [0.05492462311557789, 34], [0.05492462311557789, 35], [0.05492462311557789, 36], [0.05492462311557789, 37], [0.05492462311557789, 38], [0.05492462311557789, 39], [0.05492462311557789, 40], [0.06241206030150754, 10], [0.06241206030150754, 11], [0.06241206030150754, 12], [0.06241206030150754, 13], [0.06241206030150754, 14], [0.06241206030150754, 15], [0.06241206030150754, 16], [0.06241206030150754, 17], [0.06241206030150754, 18], [0.06241206030150754, 19], [0.06241206030150754, 20], [0.06241206030150754, 21], [0.06241206030150754, 22], [0.06241206030150754, 23], [0.06241206030150754, 24], [0.06241206030150754, 25], [0.06241206030150754, 26], [0.06241206030150754, 27], [0.06241206030150754, 28], [0.06241206030150754, 29], [0.06241206030150754, 30], [0.06241206030150754, 31], [0.06241206030150754, 32], [0.06241206030150754, 33], [0.06241206030150754, 34], [0.06241206030150754, 35], [0.06241206030150754, 36], [0.06241206030150754, 37], [0.06241206030150754, 38], [0.06241206030150754, 39], [0.06241206030150754, 40], [0.06989949748743718, 10], [0.06989949748743718, 11], [0.06989949748743718, 12], [0.06989949748743718, 13], [0.06989949748743718, 14], [0.06989949748743718, 15], [0.06989949748743718, 16], [0.06989949748743718, 17], [0.06989949748743718, 18], [0.06989949748743718, 19], [0.06989949748743718, 20], [0.06989949748743718, 21], [0.06989949748743718, 22], [0.06989949748743718, 23], [0.06989949748743718, 24], [0.06989949748743718, 25], [0.06989949748743718, 26], [0.06989949748743718, 27], [0.06989949748743718, 28], [0.06989949748743718, 29], [0.06989949748743718, 30], [0.06989949748743718, 31], [0.06989949748743718, 32], [0.06989949748743718, 33], [0.06989949748743718, 34], [0.06989949748743718, 35], [0.06989949748743718, 36], [0.06989949748743718, 37], [0.06989949748743718, 38], [0.06989949748743718, 39], [0.06989949748743718, 40], [0.07738693467336683, 10], [0.07738693467336683, 11], [0.07738693467336683, 12], [0.07738693467336683, 13], [0.07738693467336683, 14], [0.07738693467336683, 15], [0.07738693467336683, 16], [0.07738693467336683, 17], [0.07738693467336683, 18], [0.07738693467336683, 19], [0.07738693467336683, 20], [0.07738693467336683, 21], [0.07738693467336683, 22], [0.07738693467336683, 23], [0.07738693467336683, 24], [0.07738693467336683, 25], [0.07738693467336683, 26], [0.07738693467336683, 27], [0.07738693467336683, 28], [0.07738693467336683, 29], [0.07738693467336683, 30]]\n"
          ]
        }
      ]
    },
    {
      "cell_type": "code",
      "source": [
        "# Sample grid coordinates\n",
        "grid_combinations_chosen = combinations_list[0:300]\n",
        "\n",
        "# Create a list of sample indexes\n",
        "sample_indexes = list(range(0,len(combinations_list)))\n",
        "\n",
        "# Randomly sample 300 indexes\n",
        "random_indexes = np.random.choice(sample_indexes, 300, replace=False)"
      ],
      "metadata": {
        "id": "NjHi3cRYoyLp"
      },
      "execution_count": 71,
      "outputs": []
    },
    {
      "cell_type": "code",
      "source": [
        "# Sample grid coordinates\n",
        "grid_combinations_chosen = combinations_list[0:300]\n",
        "\n",
        "# Create a list of sample indexes\n",
        "sample_indexes = list(range(0,len(combinations_list)))\n",
        "\n",
        "# Randomly sample 300 indexes\n",
        "random_indexes = np.random.choice(sample_indexes, 300, replace=False)\n",
        "\n",
        "# Use indexes to create random sample\n",
        "random_combinations_chosen = [combinations_list[index] for index in random_indexes]\n",
        "\n",
        "# Call the function to produce the visualization\n",
        "visualize_search(grid_combinations_chosen, random_combinations_chosen)\n",
        "\n",
        "# You can really see how a grid search will cover a small area completely  \n",
        "# random search will cover a much larger area but not completely.\n"
      ],
      "metadata": {
        "colab": {
          "base_uri": "https://localhost:8080/",
          "height": 296
        },
        "id": "JIRzwGD4pAay",
        "outputId": "56e08e32-b2dc-4aeb-9c97-166f59d6d041"
      },
      "execution_count": 72,
      "outputs": [
        {
          "output_type": "display_data",
          "data": {
            "text/plain": [
              "<Figure size 432x288 with 1 Axes>"
            ],
            "image/png": "[encoded data removed]"
          },
          "metadata": {
            "needs_background": "light"
          }
        }
      ]
    },
    {
      "cell_type": "markdown",
      "source": [
        "# Visualizing Coarse to Fine\n",
        "You're going to undertake the first part of a Coarse to Fine search. This involves analyzing the results of an initial random search that took place over a large search space, then deciding what would be the next logical step to make your hyperparameter search finer.\n",
        "\n",
        "You have available:\n",
        "\n",
        "combinations_list - a list of the possible hyperparameter combinations the random search was undertaken on.\n",
        "\n",
        "results_df - a DataFrame that has each hyperparameter combination and the resulting accuracy of all 500 trials. Each hyperparameter is a column, with the header the hyperparameter name.\n",
        "\n",
        "visualize_hyperparameter() - a function that takes in a column of the DataFrame (as a string) and produces a scatter plot of this column's values compared to the accuracy scores. An example call of the function would be visualize_hyperparameter('accuracy')\n",
        "If you wish to view the visualize_hyperparameter() function definition, you can run this code:"
      ],
      "metadata": {
        "id": "wBnyZdoU3VC6"
      }
    },
    {
      "cell_type": "code",
      "source": [
        "def visualize_hyperparameter(name):\n",
        "  plt.clf()\n",
        "  plt.scatter(results_df[name],results_df['accuracy'], c=['blue']*500)\n",
        "  plt.gca().set(xlabel='{}'.format(name), ylabel='accuracy', title='Accuracy for different {}s'.format(name))\n",
        "  plt.gca().set_ylim([0,100])\n",
        "  plt.show()"
      ],
      "metadata": {
        "id": "eZfXP5LMpImK"
      },
      "execution_count": 73,
      "outputs": []
    },
    {
      "cell_type": "code",
      "source": [
        "# Confirm the size of the combinations_list\n",
        "print(len(combinations_list))\n",
        "\n",
        "# Sort the results_df by accuracy and print the top 10 rows\n",
        "print(results_df.sort_values(by='accuracy', ascending=False).head(10))\n",
        "\n",
        "# Confirm which hyperparameters were used in this search\n",
        "print(results_df.columns)\n",
        "\n",
        "# Call visualize_hyperparameter() with each hyperparameter in turn\n",
        "visualize_hyperparameter('max_depth')\n",
        "visualize_hyperparameter('min_samples_leaf')\n",
        "visualize_hyperparameter('learning_rate')"
      ],
      "metadata": {
        "colab": {
          "base_uri": "https://localhost:8080/"
        },
        "id": "cIhA4-ZK3brV",
        "outputId": "7dff2301-dfa1-428f-9da0-bb46cf610252"
      },
      "execution_count": 75,
      "outputs": [
        {
          "output_type": "stream",
          "name": "stdout",
          "text": [
            "6200\n",
            "   learning_rate  accuracy\n",
            "2          0.050    0.8275\n",
            "4          0.200    0.8125\n",
            "3          0.100    0.8100\n",
            "0          0.001    0.7975\n",
            "1          0.010    0.7950\n",
            "5          0.500    0.7950\n",
            "Index(['learning_rate', 'accuracy'], dtype='object')\n"
          ]
        }
      ]
    },
    {
      "cell_type": "markdown",
      "source": [
        "# Coarse to Fine Iterations\n",
        "You will now visualize the first random search undertaken, construct a tighter grid and check the results. You will have available:\n",
        "\n",
        "results_df - a DataFrame that has the hyperparameter combination and the resulting accuracy of all 500 trials. Only the hyperparameters that had the strongest visualizations from the previous exercise are included (max_depth and learn_rate)\n",
        "\n",
        "visualize_first() - This function takes no arguments but will visualize each of your hyperparameters against accuracy for your first random search."
      ],
      "metadata": {
        "id": "H03KzVmO4jHy"
      }
    },
    {
      "cell_type": "code",
      "source": [
        "def visualize_first():\n",
        "  for name in results_df.columns[0:2]:\n",
        "    plt.clf()\n",
        "    plt.scatter(results_df[name],results_df['accuracy'], c=['blue']*500)\n",
        "    plt.gca().set(xlabel='{}'.format(name), ylabel='accuracy', title='Accuracy for different {}s'.format(name))\n",
        "    plt.gca().set_ylim([0,100])\n",
        "    x_line = 20\n",
        "    if name == \"learn_rate\":\n",
        "      \tx_line = 1\n",
        "    plt.axvline(x=x_line, color=\"red\", linewidth=4)\n",
        "    plt.show() "
      ],
      "metadata": {
        "id": "TxJLtrlq5MOx"
      },
      "execution_count": 76,
      "outputs": []
    },
    {
      "cell_type": "code",
      "source": [
        "from sklearn.ensemble import RandomForestClassifier\n",
        "from sklearn.model_selection import RandomizedSearchCV\n",
        "# Create the parameter grid\n",
        "param_grid = {'max_depth': list(range(5,26)), 'max_features': ['auto' , 'sqrt']} \n",
        "\n",
        "# Create a random search object\n",
        "random_rf_class = RandomizedSearchCV(\n",
        "    estimator = RandomForestClassifier(n_estimators=80),\n",
        "    param_distributions = param_grid, n_iter = 5,\n",
        "    scoring='roc_auc', n_jobs=4, cv = 3, refit=True, return_train_score = True )\n",
        "\n",
        "# Fit to the training data\n",
        "random_rf_class.fit(X_train, y_train)\n",
        "\n",
        "# Print the values used for both hyperparameters\n",
        "print(random_rf_class.best_params_['max_depth'])\n",
        "print(random_rf_class.best_params_['max_features'])"
      ],
      "metadata": {
        "colab": {
          "base_uri": "https://localhost:8080/"
        },
        "id": "hpoq_X_P4juo",
        "outputId": "e75029f5-cd80-401c-f9d8-0347aa12e6fe"
      },
      "execution_count": 77,
      "outputs": [
        {
          "output_type": "stream",
          "name": "stdout",
          "text": [
            "6\n",
            "sqrt\n"
          ]
        }
      ]
    },
    {
      "cell_type": "code",
      "source": [
        "# Use the provided function to visualize the first results\n",
        "visualize_first()\n",
        "\n",
        "# Create some combinations lists & combine:\n",
        "max_depth_list = list(range(1,21))\n",
        "learn_rate_list = np.linspace(0.001,1,50)\n",
        "\n",
        "# Call the function to visualize the second results\n",
        "visualize_second()"
      ],
      "metadata": {
        "id": "xRXP-vH34vPp"
      },
      "execution_count": 78,
      "outputs": []
    },
    {
      "cell_type": "markdown",
      "source": [
        "# Bayes Rule in Python\n",
        "In this exercise you will undertake a practical example of setting up Bayes formula, obtaining new evidence and updating your 'beliefs' in order to get a more accurate result. The example will relate to the likelihood that someone will close their account for your online software product.\n",
        "\n",
        "These are the probabilities we know:\n",
        "\n",
        "7% (0.07) of people are likely to close their account next month\n",
        "\n",
        "15% (0.15) of people with accounts are unhappy with your product (you don't know who though!)\n",
        "\n",
        "35% (0.35) of people who are likely to close their account are unhappy with your product"
      ],
      "metadata": {
        "id": "AVMBZ-AA8UXh"
      }
    },
    {
      "cell_type": "code",
      "source": [
        "# Assign probabilities to variables \n",
        "p_unhappy = 0.15\n",
        "p_unhappy_close = 0.35\n",
        "\n",
        "# Probabiliy someone will close\n",
        "p_close = 0.07\n",
        "\n",
        "# Probability unhappy person will close\n",
        "p_close_unhappy = (p_unhappy_close * p_close) / p_unhappy\n",
        "print(p_close_unhappy)"
      ],
      "metadata": {
        "colab": {
          "base_uri": "https://localhost:8080/"
        },
        "id": "ZpOUBmov54Rx",
        "outputId": "633d065d-3cae-4b9e-97b8-3b2ad30dd9f0"
      },
      "execution_count": 79,
      "outputs": [
        {
          "output_type": "stream",
          "name": "stdout",
          "text": [
            "0.16333333333333336\n"
          ]
        }
      ]
    },
    {
      "cell_type": "markdown",
      "source": [
        "# Bayesian Hyperparameter tuning with Hyperopt\n",
        "In this example you will set up and run a Bayesian hyperparameter optimization process using the package Hyperopt (already imported as hp for you). You will set up the domain (which is similar to setting up the grid for a grid search), then set up the objective function. Finally, you will run the optimizer over 20 iterations.\n",
        "\n",
        "You will need to set up the domain using values:\n",
        "\n",
        "max_depth using quniform distribution (between 2 and 10, increasing by 2)\n",
        "learning_rate using uniform distribution (0.001 to 0.9)\n",
        "Note that for the purpose of this exercise, this process was reduced in data sample size and hyperopt & GBM iterations. If you are trying out this method by yourself on your own machine, try a larger search space, more trials, more cvs and a larger dataset size to really see this in action!"
      ],
      "metadata": {
        "id": "bILtmcHx8v5b"
      }
    },
    {
      "cell_type": "code",
      "source": [
        "\n",
        "from hyperopt import hp"
      ],
      "metadata": {
        "id": "7Iy3hF5J8s0f"
      },
      "execution_count": 80,
      "outputs": []
    },
    {
      "cell_type": "code",
      "source": [
        "from hyperopt import hp\n",
        "from hyperopt import fmin, tpe\n",
        "from sklearn.ensemble import GradientBoostingClassifier\n",
        "from sklearn.model_selection import cross_val_score\n",
        "\n",
        "# Set up space dictionary with specified hyperparameters\n",
        "space = {'max_depth': hp.quniform('max_depth', 2, 10, 2),'learning_rate': hp.uniform('learning_rate', 0.001, 0.9)}\n",
        "\n",
        "# Set up objective function\n",
        "def objective(params):\n",
        "    params = {'max_depth': int(params['max_depth']),'learning_rate': params['learning_rate']}\n",
        "    gbm_clf = GradientBoostingClassifier(n_estimators=100, **params) \n",
        "    best_score = cross_val_score(gbm_clf, X_train, y_train, scoring='accuracy', cv=2, n_jobs=4).mean()\n",
        "    loss = 1 - best_score\n",
        "    return loss\n",
        "\n",
        "# Run the algorithm\n",
        "best = fmin(fn=objective,space=space, max_evals=20, algo=tpe.suggest)\n",
        "print(best)"
      ],
      "metadata": {
        "colab": {
          "base_uri": "https://localhost:8080/"
        },
        "id": "U7I1b67FViNM",
        "outputId": "bd54954b-39a4-4237-bee6-e78780f6797d"
      },
      "execution_count": 81,
      "outputs": [
        {
          "output_type": "stream",
          "name": "stdout",
          "text": [
            "100%|██████████| 20/20 [00:21<00:00,  1.06s/it, best loss: 0.20750000000000002]\n",
            "{'learning_rate': 0.04483936275001921, 'max_depth': 4.0}\n"
          ]
        }
      ]
    },
    {
      "cell_type": "markdown",
      "source": [
        "# Genetic Hyperparameter Tuning with TPOT\n",
        "You're going to undertake a simple example of genetic hyperparameter tuning. TPOT is a very powerful library that has a lot of features. You're just scratching the surface in this lesson, but you are highly encouraged to explore in your own time.\n",
        "\n",
        "This is a very small example. In real life, TPOT is designed to be run for many hours to find the best model. You would have a much larger population and offspring size as well as hundreds more generations to find a good model.\n",
        "\n",
        "You will create the estimator, fit the estimator to the training data and then score this on the test data.\n",
        "\n",
        "For this example we wish to use:\n",
        "\n",
        "3 generations\n",
        "\n",
        "4 in the population size\n",
        "\n",
        "3 offspring in each generation\n",
        "\n",
        "accuracy for scoring\n",
        "\n",
        "A random_state of 2 has been set for consistency of results"
      ],
      "metadata": {
        "id": "9hg00H7fZNF5"
      }
    },
    {
      "cell_type": "code",
      "source": [
        "X_train= X_train[0:400]\n",
        "y_train= y_train[0:400]\n",
        "X_test= X_test[0:100]\n",
        "y_test= y_test[0:100]\n",
        "X_test"
      ],
      "metadata": {
        "colab": {
          "base_uri": "https://localhost:8080/",
          "height": 488
        },
        "id": "pO2u_NDcZuYo",
        "outputId": "ac6af84a-fb5e-4947-ddce-c2bed2c91257"
      },
      "execution_count": 82,
      "outputs": [
        {
          "output_type": "execute_result",
          "data": {
            "text/plain": [
              "      LIMIT_BAL  SEX  EDUCATION  MARRIAGE  AGE  PAY_0  PAY_2  PAY_3  PAY_4  \\\n",
              "1860      20000    2          2         2   24      1     -2     -2     -2   \n",
              "353       80000    2          2         2   43      0      0      0      0   \n",
              "1333      80000    1          2         1   41     -2     -2     -2     -2   \n",
              "905       30000    2          2         2   27     -1     -1      2      0   \n",
              "1289     210000    2          2         2   24      0      0      0      0   \n",
              "...         ...  ...        ...       ...  ...    ...    ...    ...    ...   \n",
              "1833      60000    1          3         2   24      0      0      0      0   \n",
              "651      240000    2          2         2   26      0      0     -1     -1   \n",
              "1233     100000    2          2         1   40     -1     -1     -1      0   \n",
              "1502     240000    1          2         1   43     -2     -2     -2     -2   \n",
              "1931      20000    2          1         2   24     -1     -1     -1      2   \n",
              "\n",
              "      PAY_5  ...  BILL_AMT3  BILL_AMT4  BILL_AMT5  BILL_AMT6  PAY_AMT1  \\\n",
              "1860     -1  ...          0          0        222       6345         0   \n",
              "353       0  ...      58501      51042      19036      19414      3177   \n",
              "1333     -2  ...          0          0       2115       4264      1013   \n",
              "905      -1  ...      29325      21449      29709      29086      3136   \n",
              "1289      0  ...     110716      97168      94524      96777      5800   \n",
              "...     ...  ...        ...        ...        ...        ...       ...   \n",
              "1833      2  ...      56566      30627      30203      28648      3000   \n",
              "651      -1  ...       7816       7500       7500      14497      1000   \n",
              "1233     -1  ...        652        326        326        326       326   \n",
              "1502     -2  ...          0          0          0          0         0   \n",
              "1931      2  ...       1320        930        780        240      1097   \n",
              "\n",
              "      PAY_AMT2  PAY_AMT3  PAY_AMT4  PAY_AMT5  PAY_AMT6  \n",
              "1860         0         0       222      6345      2000  \n",
              "353       2600      3000      1691       695       882  \n",
              "1333         0         0      2115      4264         0  \n",
              "905          0         0     29709         0      1576  \n",
              "1289      3700      3505      3400      3769      3229  \n",
              "...        ...       ...       ...       ...       ...  \n",
              "1833      1768      3954      1000      1500      1200  \n",
              "651       7816      7500      7500     14497       500  \n",
              "1233       652         0       326       326       652  \n",
              "1502         0         0         0         0         0  \n",
              "1931      1003         0       240         0       780  \n",
              "\n",
              "[100 rows x 23 columns]"
            ],
            "text/html": [
              "\n",
              "  <div id=\"df-9c74b1b0-494e-4494-98ac-097b4bb0ed1b\">\n",
              "    <div class=\"colab-df-container\">\n",
              "      <div>\n",
              "<style scoped>\n",
              "    .dataframe tbody tr th:only-of-type {\n",
              "        vertical-align: middle;\n",
              "    }\n",
              "\n",
              "    .dataframe tbody tr th {\n",
              "        vertical-align: top;\n",
              "    }\n",
              "\n",
              "    .dataframe thead th {\n",
              "        text-align: right;\n",
              "    }\n",
              "</style>\n",
              "<table border=\"1\" class=\"dataframe\">\n",
              "  <thead>\n",
              "    <tr style=\"text-align: right;\">\n",
              "      <th></th>\n",
              "      <th>LIMIT_BAL</th>\n",
              "      <th>SEX</th>\n",
              "      <th>EDUCATION</th>\n",
              "      <th>MARRIAGE</th>\n",
              "      <th>AGE</th>\n",
              "      <th>PAY_0</th>\n",
              "      <th>PAY_2</th>\n",
              "      <th>PAY_3</th>\n",
              "      <th>PAY_4</th>\n",
              "      <th>PAY_5</th>\n",
              "      <th>...</th>\n",
              "      <th>BILL_AMT3</th>\n",
              "      <th>BILL_AMT4</th>\n",
              "      <th>BILL_AMT5</th>\n",
              "      <th>BILL_AMT6</th>\n",
              "      <th>PAY_AMT1</th>\n",
              "      <th>PAY_AMT2</th>\n",
              "      <th>PAY_AMT3</th>\n",
              "      <th>PAY_AMT4</th>\n",
              "      <th>PAY_AMT5</th>\n",
              "      <th>PAY_AMT6</th>\n",
              "    </tr>\n",
              "  </thead>\n",
              "  <tbody>\n",
              "    <tr>\n",
              "      <th>1860</th>\n",
              "      <td>20000</td>\n",
              "      <td>2</td>\n",
              "      <td>2</td>\n",
              "      <td>2</td>\n",
              "      <td>24</td>\n",
              "      <td>1</td>\n",
              "      <td>-2</td>\n",
              "      <td>-2</td>\n",
              "      <td>-2</td>\n",
              "      <td>-1</td>\n",
              "      <td>...</td>\n",
              "      <td>0</td>\n",
              "      <td>0</td>\n",
              "      <td>222</td>\n",
              "      <td>6345</td>\n",
              "      <td>0</td>\n",
              "      <td>0</td>\n",
              "      <td>0</td>\n",
              "      <td>222</td>\n",
              "      <td>6345</td>\n",
              "      <td>2000</td>\n",
              "    </tr>\n",
              "    <tr>\n",
              "      <th>353</th>\n",
              "      <td>80000</td>\n",
              "      <td>2</td>\n",
              "      <td>2</td>\n",
              "      <td>2</td>\n",
              "      <td>43</td>\n",
              "      <td>0</td>\n",
              "      <td>0</td>\n",
              "      <td>0</td>\n",
              "      <td>0</td>\n",
              "      <td>0</td>\n",
              "      <td>...</td>\n",
              "      <td>58501</td>\n",
              "      <td>51042</td>\n",
              "      <td>19036</td>\n",
              "      <td>19414</td>\n",
              "      <td>3177</td>\n",
              "      <td>2600</td>\n",
              "      <td>3000</td>\n",
              "      <td>1691</td>\n",
              "      <td>695</td>\n",
              "      <td>882</td>\n",
              "    </tr>\n",
              "    <tr>\n",
              "      <th>1333</th>\n",
              "      <td>80000</td>\n",
              "      <td>1</td>\n",
              "      <td>2</td>\n",
              "      <td>1</td>\n",
              "      <td>41</td>\n",
              "      <td>-2</td>\n",
              "      <td>-2</td>\n",
              "      <td>-2</td>\n",
              "      <td>-2</td>\n",
              "      <td>-2</td>\n",
              "      <td>...</td>\n",
              "      <td>0</td>\n",
              "      <td>0</td>\n",
              "      <td>2115</td>\n",
              "      <td>4264</td>\n",
              "      <td>1013</td>\n",
              "      <td>0</td>\n",
              "      <td>0</td>\n",
              "      <td>2115</td>\n",
              "      <td>4264</td>\n",
              "      <td>0</td>\n",
              "    </tr>\n",
              "    <tr>\n",
              "      <th>905</th>\n",
              "      <td>30000</td>\n",
              "      <td>2</td>\n",
              "      <td>2</td>\n",
              "      <td>2</td>\n",
              "      <td>27</td>\n",
              "      <td>-1</td>\n",
              "      <td>-1</td>\n",
              "      <td>2</td>\n",
              "      <td>0</td>\n",
              "      <td>-1</td>\n",
              "      <td>...</td>\n",
              "      <td>29325</td>\n",
              "      <td>21449</td>\n",
              "      <td>29709</td>\n",
              "      <td>29086</td>\n",
              "      <td>3136</td>\n",
              "      <td>0</td>\n",
              "      <td>0</td>\n",
              "      <td>29709</td>\n",
              "      <td>0</td>\n",
              "      <td>1576</td>\n",
              "    </tr>\n",
              "    <tr>\n",
              "      <th>1289</th>\n",
              "      <td>210000</td>\n",
              "      <td>2</td>\n",
              "      <td>2</td>\n",
              "      <td>2</td>\n",
              "      <td>24</td>\n",
              "      <td>0</td>\n",
              "      <td>0</td>\n",
              "      <td>0</td>\n",
              "      <td>0</td>\n",
              "      <td>0</td>\n",
              "      <td>...</td>\n",
              "      <td>110716</td>\n",
              "      <td>97168</td>\n",
              "      <td>94524</td>\n",
              "      <td>96777</td>\n",
              "      <td>5800</td>\n",
              "      <td>3700</td>\n",
              "      <td>3505</td>\n",
              "      <td>3400</td>\n",
              "      <td>3769</td>\n",
              "      <td>3229</td>\n",
              "    </tr>\n",
              "    <tr>\n",
              "      <th>...</th>\n",
              "      <td>...</td>\n",
              "      <td>...</td>\n",
              "      <td>...</td>\n",
              "      <td>...</td>\n",
              "      <td>...</td>\n",
              "      <td>...</td>\n",
              "      <td>...</td>\n",
              "      <td>...</td>\n",
              "      <td>...</td>\n",
              "      <td>...</td>\n",
              "      <td>...</td>\n",
              "      <td>...</td>\n",
              "      <td>...</td>\n",
              "      <td>...</td>\n",
              "      <td>...</td>\n",
              "      <td>...</td>\n",
              "      <td>...</td>\n",
              "      <td>...</td>\n",
              "      <td>...</td>\n",
              "      <td>...</td>\n",
              "      <td>...</td>\n",
              "    </tr>\n",
              "    <tr>\n",
              "      <th>1833</th>\n",
              "      <td>60000</td>\n",
              "      <td>1</td>\n",
              "      <td>3</td>\n",
              "      <td>2</td>\n",
              "      <td>24</td>\n",
              "      <td>0</td>\n",
              "      <td>0</td>\n",
              "      <td>0</td>\n",
              "      <td>0</td>\n",
              "      <td>2</td>\n",
              "      <td>...</td>\n",
              "      <td>56566</td>\n",
              "      <td>30627</td>\n",
              "      <td>30203</td>\n",
              "      <td>28648</td>\n",
              "      <td>3000</td>\n",
              "      <td>1768</td>\n",
              "      <td>3954</td>\n",
              "      <td>1000</td>\n",
              "      <td>1500</td>\n",
              "      <td>1200</td>\n",
              "    </tr>\n",
              "    <tr>\n",
              "      <th>651</th>\n",
              "      <td>240000</td>\n",
              "      <td>2</td>\n",
              "      <td>2</td>\n",
              "      <td>2</td>\n",
              "      <td>26</td>\n",
              "      <td>0</td>\n",
              "      <td>0</td>\n",
              "      <td>-1</td>\n",
              "      <td>-1</td>\n",
              "      <td>-1</td>\n",
              "      <td>...</td>\n",
              "      <td>7816</td>\n",
              "      <td>7500</td>\n",
              "      <td>7500</td>\n",
              "      <td>14497</td>\n",
              "      <td>1000</td>\n",
              "      <td>7816</td>\n",
              "      <td>7500</td>\n",
              "      <td>7500</td>\n",
              "      <td>14497</td>\n",
              "      <td>500</td>\n",
              "    </tr>\n",
              "    <tr>\n",
              "      <th>1233</th>\n",
              "      <td>100000</td>\n",
              "      <td>2</td>\n",
              "      <td>2</td>\n",
              "      <td>1</td>\n",
              "      <td>40</td>\n",
              "      <td>-1</td>\n",
              "      <td>-1</td>\n",
              "      <td>-1</td>\n",
              "      <td>0</td>\n",
              "      <td>-1</td>\n",
              "      <td>...</td>\n",
              "      <td>652</td>\n",
              "      <td>326</td>\n",
              "      <td>326</td>\n",
              "      <td>326</td>\n",
              "      <td>326</td>\n",
              "      <td>652</td>\n",
              "      <td>0</td>\n",
              "      <td>326</td>\n",
              "      <td>326</td>\n",
              "      <td>652</td>\n",
              "    </tr>\n",
              "    <tr>\n",
              "      <th>1502</th>\n",
              "      <td>240000</td>\n",
              "      <td>1</td>\n",
              "      <td>2</td>\n",
              "      <td>1</td>\n",
              "      <td>43</td>\n",
              "      <td>-2</td>\n",
              "      <td>-2</td>\n",
              "      <td>-2</td>\n",
              "      <td>-2</td>\n",
              "      <td>-2</td>\n",
              "      <td>...</td>\n",
              "      <td>0</td>\n",
              "      <td>0</td>\n",
              "      <td>0</td>\n",
              "      <td>0</td>\n",
              "      <td>0</td>\n",
              "      <td>0</td>\n",
              "      <td>0</td>\n",
              "      <td>0</td>\n",
              "      <td>0</td>\n",
              "      <td>0</td>\n",
              "    </tr>\n",
              "    <tr>\n",
              "      <th>1931</th>\n",
              "      <td>20000</td>\n",
              "      <td>2</td>\n",
              "      <td>1</td>\n",
              "      <td>2</td>\n",
              "      <td>24</td>\n",
              "      <td>-1</td>\n",
              "      <td>-1</td>\n",
              "      <td>-1</td>\n",
              "      <td>2</td>\n",
              "      <td>2</td>\n",
              "      <td>...</td>\n",
              "      <td>1320</td>\n",
              "      <td>930</td>\n",
              "      <td>780</td>\n",
              "      <td>240</td>\n",
              "      <td>1097</td>\n",
              "      <td>1003</td>\n",
              "      <td>0</td>\n",
              "      <td>240</td>\n",
              "      <td>0</td>\n",
              "      <td>780</td>\n",
              "    </tr>\n",
              "  </tbody>\n",
              "</table>\n",
              "<p>100 rows × 23 columns</p>\n",
              "</div>\n",
              "      <button class=\"colab-df-convert\" onclick=\"convertToInteractive('df-9c74b1b0-494e-4494-98ac-097b4bb0ed1b')\"\n",
              "              title=\"Convert this dataframe to an interactive table.\"\n",
              "              style=\"display:none;\">\n",
              "        \n",
              "  <svg xmlns=\"http://www.w3.org/2000/svg\" height=\"24px\"viewBox=\"0 0 24 24\"\n",
              "       width=\"24px\">\n",
              "    <path d=\"M0 0h24v24H0V0z\" fill=\"none\"/>\n",
              "    <path d=\"M18.56 5.44l.94 2.06.94-2.06 2.06-.94-2.06-.94-.94-2.06-.94 2.06-2.06.94zm-11 1L8.5 8.5l.94-2.06 2.06-.94-2.06-.94L8.5 2.5l-.94 2.06-2.06.94zm10 10l.94 2.06.94-2.06 2.06-.94-2.06-.94-.94-2.06-.94 2.06-2.06.94z\"/><path d=\"M17.41 7.96l-1.37-1.37c-.4-.4-.92-.59-1.43-.59-.52 0-1.04.2-1.43.59L10.3 9.45l-7.72 7.72c-.78.78-.78 2.05 0 2.83L4 21.41c.39.39.9.59 1.41.59.51 0 1.02-.2 1.41-.59l7.78-7.78 2.81-2.81c.8-.78.8-2.07 0-2.86zM5.41 20L4 18.59l7.72-7.72 1.47 1.35L5.41 20z\"/>\n",
              "  </svg>\n",
              "      </button>\n",
              "      \n",
              "  <style>\n",
              "    .colab-df-container {\n",
              "      display:flex;\n",
              "      flex-wrap:wrap;\n",
              "      gap: 12px;\n",
              "    }\n",
              "\n",
              "    .colab-df-convert {\n",
              "      background-color: #E8F0FE;\n",
              "      border: none;\n",
              "      border-radius: 50%;\n",
              "      cursor: pointer;\n",
              "      display: none;\n",
              "      fill: #1967D2;\n",
              "      height: 32px;\n",
              "      padding: 0 0 0 0;\n",
              "      width: 32px;\n",
              "    }\n",
              "\n",
              "    .colab-df-convert:hover {\n",
              "      background-color: #E2EBFA;\n",
              "      box-shadow: 0px 1px 2px rgba(60, 64, 67, 0.3), 0px 1px 3px 1px rgba(60, 64, 67, 0.15);\n",
              "      fill: #174EA6;\n",
              "    }\n",
              "\n",
              "    [theme=dark] .colab-df-convert {\n",
              "      background-color: #3B4455;\n",
              "      fill: #D2E3FC;\n",
              "    }\n",
              "\n",
              "    [theme=dark] .colab-df-convert:hover {\n",
              "      background-color: #434B5C;\n",
              "      box-shadow: 0px 1px 3px 1px rgba(0, 0, 0, 0.15);\n",
              "      filter: drop-shadow(0px 1px 2px rgba(0, 0, 0, 0.3));\n",
              "      fill: #FFFFFF;\n",
              "    }\n",
              "  </style>\n",
              "\n",
              "      <script>\n",
              "        const buttonEl =\n",
              "          document.querySelector('#df-9c74b1b0-494e-4494-98ac-097b4bb0ed1b button.colab-df-convert');\n",
              "        buttonEl.style.display =\n",
              "          google.colab.kernel.accessAllowed ? 'block' : 'none';\n",
              "\n",
              "        async function convertToInteractive(key) {\n",
              "          const element = document.querySelector('#df-9c74b1b0-494e-4494-98ac-097b4bb0ed1b');\n",
              "          const dataTable =\n",
              "            await google.colab.kernel.invokeFunction('convertToInteractive',\n",
              "                                                     [key], {});\n",
              "          if (!dataTable) return;\n",
              "\n",
              "          const docLinkHtml = 'Like what you see? Visit the ' +\n",
              "            '<a target=\"_blank\" href=https://colab.research.google.com/notebooks/data_table.ipynb>data table notebook</a>'\n",
              "            + ' to learn more about interactive tables.';\n",
              "          element.innerHTML = '';\n",
              "          dataTable['output_type'] = 'display_data';\n",
              "          await google.colab.output.renderOutput(dataTable, element);\n",
              "          const docLink = document.createElement('div');\n",
              "          docLink.innerHTML = docLinkHtml;\n",
              "          element.appendChild(docLink);\n",
              "        }\n",
              "      </script>\n",
              "    </div>\n",
              "  </div>\n",
              "  "
            ]
          },
          "metadata": {},
          "execution_count": 82
        }
      ]
    },
    {
      "cell_type": "code",
      "source": [
        "\n",
        "import tpot\n",
        "# Assign the values outlined to the inputs\n",
        "number_generations = 3\n",
        "population_size = 4\n",
        "offspring_size = 3\n",
        "scoring_function = 'accuracy'\n",
        "\n",
        "# Create the tpot classifier\n",
        "tpot_clf = tpot.TPOTClassifier(generations=number_generations, population_size=population_size,\n",
        "                          offspring_size=offspring_size, scoring=scoring_function,\n",
        "                          verbosity=2, random_state=2, cv=2)\n",
        "\n",
        "# Fit the classifier to the training data\n",
        "tpot_clf.fit(X_train, y_train)\n",
        "\n",
        "# Score on the test set\n",
        "print(tpot_clf.score(X_test, y_test))"
      ],
      "metadata": {
        "colab": {
          "base_uri": "https://localhost:8080/",
          "height": 193,
          "referenced_widgets": [
            "da5ef2bb3c334cfa9e506b68cc065001",
            "4c1c8dad276f445697dfd30e8b99e25a",
            "6a174572faf843768aefd314a776eb88",
            "b4302117445b43269ea1c0b98a8d6d39",
            "846c67e671b34c079819bfda57ae47c3",
            "f8e130608b10478dbc56facfaeb393f5",
            "223e553834bc4558b987e7ca65e3b982",
            "ca4df19972c642a6a0e3549bca0d1a92",
            "94f161c08aa043d0b71fdbe98bc9465b",
            "450017ddaf1a4b1395aab2d37e465ff7",
            "96a5fca4ef92449f9c7637b9cc1ebfd6"
          ]
        },
        "id": "Z5yw8V1yWo-_",
        "outputId": "c29e7348-6756-4b3d-be5d-0663adf8a1cd"
      },
      "execution_count": 83,
      "outputs": [
        {
          "output_type": "display_data",
          "data": {
            "text/plain": [
              "Optimization Progress:   0%|          | 0/13 [00:00<?, ?pipeline/s]"
            ],
            "application/vnd.jupyter.widget-view+json": {
              "version_major": 2,
              "version_minor": 0,
              "model_id": "da5ef2bb3c334cfa9e506b68cc065001"
            }
          },
          "metadata": {}
        },
        {
          "output_type": "stream",
          "name": "stdout",
          "text": [
            "\n",
            "Generation 1 - Current best internal CV score: 0.795\n",
            "\n",
            "Generation 2 - Current best internal CV score: 0.795\n",
            "\n",
            "Generation 3 - Current best internal CV score: 0.795\n",
            "\n",
            "Best pipeline: DecisionTreeClassifier(input_matrix, criterion=gini, max_depth=1, min_samples_leaf=10, min_samples_split=9)\n",
            "0.8\n"
          ]
        }
      ]
    },
    {
      "cell_type": "markdown",
      "source": [
        "# Analysing TPOT's stability\n",
        "You will now see the random nature of TPOT by constructing the classifier with different random states and seeing what model is found to be best by the algorithm. This assists to see that TPOT is quite unstable when not run for a reasonable amount of time."
      ],
      "metadata": {
        "id": "8FUUlxpDa26o"
      }
    },
    {
      "cell_type": "code",
      "source": [
        "from tpot import TPOTClassifier\n",
        "# Create the tpot classifier \n",
        "tpot_clf = TPOTClassifier(generations=2, population_size=4, offspring_size=3, scoring='accuracy', cv=2,\n",
        "                          verbosity=2, random_state=42)\n",
        "\n",
        "# Fit the classifier to the training data\n",
        "tpot_clf.fit(X_train, y_train)\n",
        "\n",
        "# Score on the test set\n",
        "print(tpot_clf.score(X_test, y_test))"
      ],
      "metadata": {
        "colab": {
          "base_uri": "https://localhost:8080/",
          "height": 159,
          "referenced_widgets": [
            "7e06a235a93a43d8870b8199e56161c3",
            "8782928eae9f4ef1a27b5570ddc1c97b",
            "7674b52655114bfc92119489fcb97818",
            "70fb0020e618410cbdc36998a3d2753b",
            "e21f98c595004d5cbe9ef9664ae46d65",
            "64f17d175fe24c41ac948fd847492bb9",
            "4b9d2e02b792433aa348b87476c5f498",
            "4203426dddcc48c7b346541e6bb96504",
            "01672b52168c4bce8a5288b3a1cdfc28",
            "6813caa7d6e34516bc4d06edecb80d6b",
            "56c8c35698944c6ab3ee27e3c758f4a7"
          ]
        },
        "id": "1xi6dlvlbJn6",
        "outputId": "fd6c2e45-13af-476d-abe4-4bbd77e97446"
      },
      "execution_count": 84,
      "outputs": [
        {
          "output_type": "display_data",
          "data": {
            "text/plain": [
              "Optimization Progress:   0%|          | 0/10 [00:00<?, ?pipeline/s]"
            ],
            "application/vnd.jupyter.widget-view+json": {
              "version_major": 2,
              "version_minor": 0,
              "model_id": "7e06a235a93a43d8870b8199e56161c3"
            }
          },
          "metadata": {}
        },
        {
          "output_type": "stream",
          "name": "stdout",
          "text": [
            "\n",
            "Generation 1 - Current best internal CV score: 0.785\n",
            "\n",
            "Generation 2 - Current best internal CV score: 0.785\n",
            "\n",
            "Best pipeline: RandomForestClassifier(input_matrix, bootstrap=True, criterion=gini, max_features=0.2, min_samples_leaf=8, min_samples_split=4, n_estimators=100)\n",
            "0.78\n"
          ]
        }
      ]
    },
    {
      "cell_type": "code",
      "source": [
        "# Create the tpot classifier \n",
        "tpot_clf = TPOTClassifier(generations=2, population_size=4, offspring_size=3, scoring='accuracy', cv=2,\n",
        "                          verbosity=2, random_state=122)\n",
        "\n",
        "# Fit the classifier to the training data\n",
        "tpot_clf.fit(X_train, y_train)\n",
        "\n",
        "# Score on the test set\n",
        "print(tpot_clf.score(X_test, y_test))"
      ],
      "metadata": {
        "colab": {
          "base_uri": "https://localhost:8080/",
          "height": 159,
          "referenced_widgets": [
            "3e6c6b01e91c4f548d5b0e0ae613a174",
            "5a54cd72693c477cb664d7dc6ba88a22",
            "1e50c6182063419cb9822dab86da24d7",
            "bb7502a0a8844202b3392e06b882bc66",
            "147e7e411733453991c48d8c00de6116",
            "c9840c3cc90446639ac8a1ae27e63de9",
            "56efc7ddf7e14b19ba3fa31b05f6ce0d",
            "251fc38aa15d49f285e196a29d12bcac",
            "3324e45b06c043fe88076fe1de576fc7",
            "3e40895d563f4afd9ff56f5ff9ad6920",
            "47a2ae1a60634afa9adceecc90ab7914"
          ]
        },
        "id": "sxxqPalPbJ5g",
        "outputId": "fbcdd4ea-df2d-429b-a9d0-8ebe33c0d9fc"
      },
      "execution_count": 85,
      "outputs": [
        {
          "output_type": "display_data",
          "data": {
            "text/plain": [
              "Optimization Progress:   0%|          | 0/10 [00:00<?, ?pipeline/s]"
            ],
            "application/vnd.jupyter.widget-view+json": {
              "version_major": 2,
              "version_minor": 0,
              "model_id": "3e6c6b01e91c4f548d5b0e0ae613a174"
            }
          },
          "metadata": {}
        },
        {
          "output_type": "stream",
          "name": "stdout",
          "text": [
            "\n",
            "Generation 1 - Current best internal CV score: 0.76\n",
            "\n",
            "Generation 2 - Current best internal CV score: 0.765\n",
            "\n",
            "Best pipeline: LogisticRegression(RFE(input_matrix, criterion=entropy, max_features=0.4, n_estimators=100, step=0.6500000000000001), C=0.5, dual=False, penalty=l2)\n",
            "0.79\n"
          ]
        }
      ]
    },
    {
      "cell_type": "code",
      "source": [
        "# Create the tpot classifier \n",
        "tpot_clf = TPOTClassifier(generations=2, population_size=4, offspring_size=3, scoring='accuracy', cv=2,\n",
        "                          verbosity=2, random_state=99)\n",
        "\n",
        "# Fit the classifier to the training data\n",
        "tpot_clf.fit(X_train, y_train)\n",
        "\n",
        "# Score on the test set\n",
        "print(tpot_clf.score(X_test, y_test))"
      ],
      "metadata": {
        "colab": {
          "base_uri": "https://localhost:8080/",
          "height": 159,
          "referenced_widgets": [
            "efb24c78167b4d1298dfc297a8bb4b7a",
            "41d0b9f9cd564fa8af8f6c50d17b4390",
            "695e8f7cb58b4ae9a75ec644bf1709ec",
            "683c603f62554cde985ea949155f48b5",
            "0ce7b61d64494d96938c2a10be641224",
            "1d34b80df78b4225abb2e7c05baf8d99",
            "72f4ba5c4a0a421b9474c7b4b0667125",
            "5164c3dc733f404e98d528da6ce52fcf",
            "e28bad7b8bdb4e8bbc5bbf4440ad56ad",
            "c91b6b0ac7be42f7baaa83e3ac1e0ec3",
            "62177a4c645a4e8182473916a8cc0b30"
          ]
        },
        "id": "TkxxzPgXbbIZ",
        "outputId": "75c4e3b5-d932-4e3d-dcfb-0571d771f912"
      },
      "execution_count": 86,
      "outputs": [
        {
          "output_type": "display_data",
          "data": {
            "text/plain": [
              "Optimization Progress:   0%|          | 0/10 [00:00<?, ?pipeline/s]"
            ],
            "application/vnd.jupyter.widget-view+json": {
              "version_major": 2,
              "version_minor": 0,
              "model_id": "efb24c78167b4d1298dfc297a8bb4b7a"
            }
          },
          "metadata": {}
        },
        {
          "output_type": "stream",
          "name": "stdout",
          "text": [
            "\n",
            "Generation 1 - Current best internal CV score: 0.78\n",
            "\n",
            "Generation 2 - Current best internal CV score: 0.78\n",
            "\n",
            "Best pipeline: RandomForestClassifier(input_matrix, bootstrap=False, criterion=gini, max_features=0.55, min_samples_leaf=20, min_samples_split=17, n_estimators=100)\n",
            "0.79\n"
          ]
        }
      ]
    }
  ]
}