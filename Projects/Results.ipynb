{
  "nbformat": 4,
  "nbformat_minor": 0,
  "metadata": {
    "colab": {
      "provenance": []
    },
    "kernelspec": {
      "name": "python3",
      "display_name": "Python 3"
    },
    "language_info": {
      "name": "python"
    }
  },
  "cells": [
    {
      "cell_type": "code",
      "execution_count": null,
      "metadata": {
        "id": "L7Jh9ErWbg-1"
      },
      "outputs": [],
      "source": []
    },
    {
      "cell_type": "markdown",
      "source": [
        "# REAL RESULTS \n",
        "\n",
        "GROUP A: Netherlands,Senegal, Ecuador, Qatar\n",
        "\n",
        "GROUP B: England, USA, Iran, Wales\n",
        "\n",
        "GROUP C: Argentina, Poland, Mexico, SA\n",
        "\n",
        "GROUP D: France, Australia, Tunisia, Denmark\n",
        "\n",
        "GROUP E: Japan, Spain, Germany, Costa rica\n",
        "\n",
        "GROUP F: Morocco, Croatia, Belgium, Canada\n",
        "\n",
        "GROUP G: Brazil, Switzerland, Cameroon, Serbia\n",
        "\n",
        "GROUP H: Portgual, South Korea, Uruguay, Ghana\n",
        "\n",
        "ROUND OF 16 WINNERS: Netherlands, Argentina, Croatia, Brazil, France, England, Morocco, Portugal\n",
        "\n",
        "Quarter Final Winners: Argentina, Croatia, France, Morocco\n",
        "\n",
        "Semi Final Winners: Argentina, France\n",
        "\n",
        "Final Winners: Argentina\n",
        "\n",
        "thirds place: Croatia"
      ],
      "metadata": {
        "id": "mVAOprQLbmnU"
      }
    },
    {
      "cell_type": "code",
      "source": [],
      "metadata": {
        "id": "dT8o-Cc9cRFA"
      },
      "execution_count": null,
      "outputs": []
    }
  ]
}