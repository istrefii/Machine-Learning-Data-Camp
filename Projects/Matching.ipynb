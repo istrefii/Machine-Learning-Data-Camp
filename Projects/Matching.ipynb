{
  "nbformat": 4,
  "nbformat_minor": 0,
  "metadata": {
    "colab": {
      "provenance": []
    },
    "kernelspec": {
      "name": "python3",
      "display_name": "Python 3"
    },
    "language_info": {
      "name": "python"
    }
  },
  "cells": [
    {
      "cell_type": "code",
      "execution_count": 4,
      "metadata": {
        "id": "0gQScsichZw5"
      },
      "outputs": [],
      "source": [
        "import re\n",
        "from sklearn.metrics.pairwise import cosine_similarity\n",
        "import numpy as np\n",
        "\n",
        "def extract_skills(project_description):\n",
        "    # Define the regular expression pattern for matching skills\n",
        "    pattern = r'(Python|JavaScript|C\\+\\+|SQL)'\n",
        "    # Search for the skills in the project description\n",
        "    matches = re.finditer(pattern, project_description)\n",
        "    skills = []\n",
        "    # Extract the skills from the matches\n",
        "    for match in matches:\n",
        "        skills.append(match.group(1).strip())\n",
        "    return skills\n",
        "\n",
        "def match_resumes(resumes, matrix, project_description):\n",
        "    # Create a dictionary to store the final scores for each resume\n",
        "    scores = {}\n",
        "    employee_skills = []\n",
        "    # Extract the skills from the matrix\n",
        "    matrix_skills = list(matrix.keys())\n",
        "    # Extract the skills from the project description\n",
        "    project_skills = extract_skills(project_description)\n",
        "    # Iterate over each resume\n",
        "    for resume in resumes:\n",
        "        score = 0\n",
        "        # Get the skills from the resume\n",
        "        resume_skills = resume.get('skills', [])\n",
        "        # Check for the skills that match between the project description and the resume\n",
        "        for skill in project_skills:\n",
        "            if skill in matrix_skills and skill in resume_skills:\n",
        "                score += matrix[skill]\n",
        "        employee_skills.append({'name': resume['name'], 'score': score, 'skills': resume['skills']})\n",
        "        # Assign the final score to the resume\n",
        "        scores[resume['name']] = score\n",
        "\n",
        "    # Sort the resumes by score\n",
        "    sorted_resumes = sorted(scores.items(), key=lambda x: x[1], reverse=True)\n",
        "    return sorted_resumes\n"
      ]
    },
    {
      "cell_type": "code",
      "source": [
        "# Define the skills matrix\n",
        "matrix = {'Python': 10, 'JavaScript': 5, 'C++': 3, 'SQL': 7}\n",
        "\n",
        "# Define the list of resumes\n",
        "resumes = [\n",
        "    {'name': 'John Doe', 'skills': ['Python', 'JavaScript', 'SQL']},\n",
        "    {'name': 'Jane Smith', 'skills': ['Python', 'C++']}\n",
        "]\n",
        "\n",
        "# Define the project description\n",
        "project_description = \"We are looking for a developer with skills in Python, JavaScript, and SQL to work on our web application.\"\n",
        "\n",
        "# Match the resumes to the project description\n",
        "#sorted_resumes, employee_skills = \n",
        "match_resumes(resumes, matrix, project_description)"
      ],
      "metadata": {
        "colab": {
          "base_uri": "https://localhost:8080/"
        },
        "id": "ravV6cXChcXH",
        "outputId": "a4ee55ce-c039-4637-e2fb-336b90e8d934"
      },
      "execution_count": 5,
      "outputs": [
        {
          "output_type": "execute_result",
          "data": {
            "text/plain": [
              "[('John Doe', 22), ('Jane Smith', 10)]"
            ]
          },
          "metadata": {},
          "execution_count": 5
        }
      ]
    },
    {
      "cell_type": "code",
      "source": [],
      "metadata": {
        "id": "WfcaAf71hgQ9"
      },
      "execution_count": null,
      "outputs": []
    }
  ]
}