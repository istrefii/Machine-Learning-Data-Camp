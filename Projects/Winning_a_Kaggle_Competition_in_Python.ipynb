{
  "nbformat": 4,
  "nbformat_minor": 0,
  "metadata": {
    "colab": {
      "provenance": [],
      "collapsed_sections": [
        "M1EVyEzPAc7c",
        "Rg6iVGL-05Ut",
        "QcSu0oSSA0TA"
      ]
    },
    "kernelspec": {
      "name": "python3",
      "display_name": "Python 3"
    },
    "language_info": {
      "name": "python"
    }
  },
  "cells": [
    {
      "cell_type": "markdown",
      "source": [
        "# Course Description\n",
        "Kaggle is the most famous platform for Data Science competitions. Taking part in such competitions allows you to work with real-world datasets, explore various machine learning problems, compete with other participants and, finally, get invaluable hands-on experience. In this course, you will learn how to approach and structure any Data Science competition. You will be able to select the correct local validation scheme and to avoid overfitting. Moreover, you will master advanced feature engineering together with model ensembling approaches. All these techniques will be practiced on Kaggle competitions datasets.)"
      ],
      "metadata": {
        "id": "72a5NQqrKuhw"
      }
    },
    {
      "cell_type": "markdown",
      "source": [
        "# CHAPTER 1\n",
        "## Kaggle competitions process\n",
        "In this first chapter, you will get exposure to the Kaggle competition process. You will train a model and prepare a csv file ready for submission. You will learn the difference between Public and Private test splits, and how to prevent overfitting.\n",
        "\n"
      ],
      "metadata": {
        "id": "OZc81C4wKujB"
      }
    },
    {
      "cell_type": "markdown",
      "source": [
        "# Explore train data\n",
        "You will work with another Kaggle competition called \"Store Item Demand Forecasting Challenge\". In this competition, you are given 5 years of store-item sales data, and asked to predict 3 months of sales for 50 different items in 10 different stores.\n",
        "\n",
        "To begin, let's explore the train data for this competition. For the faster performance, you will work with a subset of the train data containing only a single month history.\n",
        "\n",
        "Your initial goal is to read the input data and take the first look at it."
      ],
      "metadata": {
        "id": "IPB-MzM07ccR"
      }
    },
    {
      "cell_type": "code",
      "source": [
        "# Import pandas\n",
        "import pandas as pd\n",
        "\n",
        "# Read train data\n",
        "train = pd.read_csv('demand_forecasting_train_1_month.csv')\n",
        "\n",
        "# Look at the shape of the data\n",
        "print('Train shape:', train.shape)\n",
        "\n",
        "# Look at the head() of the data\n",
        "print(train.head())"
      ],
      "metadata": {
        "colab": {
          "base_uri": "https://localhost:8080/"
        },
        "id": "NCm10S79K3xE",
        "outputId": "313da077-67c3-4a81-eab4-a7b2bfa20804"
      },
      "execution_count": 68,
      "outputs": [
        {
          "output_type": "stream",
          "name": "stdout",
          "text": [
            "Train shape: (15500, 5)\n",
            "       id        date  store  item  sales\n",
            "0  100000  2017-12-01      1     1     19\n",
            "1  100001  2017-12-02      1     1     16\n",
            "2  100002  2017-12-03      1     1     31\n",
            "3  100003  2017-12-04      1     1      7\n",
            "4  100004  2017-12-05      1     1     20\n"
          ]
        }
      ]
    },
    {
      "cell_type": "markdown",
      "source": [
        "# Explore test data\n",
        "Having looked at the train data, let's explore the test data in the \"Store Item Demand Forecasting Challenge\". Remember, that the test dataset generally contains one column less than the train one.\n",
        "\n",
        "This column, together with the output format, is presented in the sample submission file. Before making any progress in the competition, you should get familiar with the expected output.\n",
        "\n",
        "That is why, let's look at the columns of the test dataset and compare it to the train columns. Additionally, let's explore the format of the sample submission. The train DataFrame is available in your workspace."
      ],
      "metadata": {
        "id": "S-wIs_Sq_unU"
      }
    },
    {
      "cell_type": "code",
      "source": [
        "import pandas as pd\n",
        "\n",
        "# Read the test data\n",
        "test = pd.read_csv('demand_forecasting_test.csv')\n",
        "\n",
        "# Print train and test columns\n",
        "print('Train columns:', train.columns.tolist())\n",
        "print('Test columns:', test.columns.tolist())"
      ],
      "metadata": {
        "colab": {
          "base_uri": "https://localhost:8080/"
        },
        "id": "eXJv5xvf-G3r",
        "outputId": "97f02263-92f8-41bf-fa86-a7262b52c4cb"
      },
      "execution_count": 69,
      "outputs": [
        {
          "output_type": "stream",
          "name": "stdout",
          "text": [
            "Train columns: ['id', 'date', 'store', 'item', 'sales']\n",
            "Test columns: ['id', 'date', 'store', 'item']\n"
          ]
        }
      ]
    },
    {
      "cell_type": "markdown",
      "source": [
        "# Determine a problem type\n",
        "You will keep working on the Store Item Demand Forecasting Challenge. Recall that you are given a history of store-item sales data, and asked to predict 3 months of the future sales.\n",
        "\n",
        "Before building a model, you should determine the problem type you are addressing. The goal of this exercise is to look at the distribution of the target variable, and select the correct problem type you will be building a model for.\n",
        "\n",
        "The train DataFrame is already available in your workspace. It has the target variable column called \"sales\". Also, matplotlib.pyplot is already imported as plt.\n",
        "\n",
        "Regression type of problem"
      ],
      "metadata": {
        "id": "m5Bnlb2SC-bO"
      }
    },
    {
      "cell_type": "markdown",
      "source": [
        "# Train a simple model\n",
        "As you determined, you are dealing with a regression problem. So, now you're ready to build a model for a subsequent submission. But now, instead of building the simplest Linear Regression model as in the slides, let's build an out-of-box Random Forest model.\n",
        "\n",
        "You will use the RandomForestRegressor class from the scikit-learn library.\n",
        "\n",
        "Your objective is to train a Random Forest model with default parameters on the \"store\" and \"item\" features."
      ],
      "metadata": {
        "id": "-3L4r-T-7MFS"
      }
    },
    {
      "cell_type": "code",
      "source": [
        "import matplotlib.pyplot as plt\n",
        "from sklearn.ensemble import RandomForestRegressor\n",
        "\n",
        "#view 5 rows of dataframe\n",
        "print(train.head())\n",
        "\n",
        "# Create a Random Forest object\n",
        "rf = RandomForestRegressor()\n",
        "\n",
        "# Train a model\n",
        "rf.fit(X=train[['store', 'item']], y=train['sales'])"
      ],
      "metadata": {
        "colab": {
          "base_uri": "https://localhost:8080/"
        },
        "id": "11A4u_oS_7X1",
        "outputId": "cbc4e8c1-f2a3-48c5-f7b2-4fedb9553a48"
      },
      "execution_count": 70,
      "outputs": [
        {
          "output_type": "stream",
          "name": "stdout",
          "text": [
            "       id        date  store  item  sales\n",
            "0  100000  2017-12-01      1     1     19\n",
            "1  100001  2017-12-02      1     1     16\n",
            "2  100002  2017-12-03      1     1     31\n",
            "3  100003  2017-12-04      1     1      7\n",
            "4  100004  2017-12-05      1     1     20\n"
          ]
        },
        {
          "output_type": "execute_result",
          "data": {
            "text/plain": [
              "RandomForestRegressor()"
            ]
          },
          "metadata": {},
          "execution_count": 70
        }
      ]
    },
    {
      "cell_type": "markdown",
      "source": [
        "# Prepare a submission\n",
        "You've already built a model on the training data from the Kaggle Store Item Demand Forecasting Challenge. Now, it's time to make predictions on the test data and create a submission file in the specified format.\n",
        "\n",
        "Your goal is to read the test data, make predictions, and save these in the format specified in the \"sample_submission.csv\" file. The rf object you created in the previous exercise is available in your workspace.\n",
        "\n",
        "Note that starting from now and for the rest of the course, pandas library will be always imported for you and could be accessed as pd"
      ],
      "metadata": {
        "id": "Nj2SBF_W7vzJ"
      }
    },
    {
      "cell_type": "code",
      "source": [
        "# Get predictions for the test set\n",
        "test['sales'] = rf.predict(test[['store', 'item']])\n",
        "\n",
        "# Write test predictions using the sample_submission format\n",
        "test[['id', 'sales']].to_csv('kaggle_submission.csv', index=False)"
      ],
      "metadata": {
        "id": "8xHR_8b07r8Z"
      },
      "execution_count": 71,
      "outputs": []
    },
    {
      "cell_type": "markdown",
      "source": [
        "# Train XGBoost models\n",
        "Every Machine Learning method could potentially overfit. You will see it on this example with XGBoost. Again, you are working with the Store Item Demand Forecasting Challenge. The train DataFrame is available in your workspace.\n",
        "\n",
        "Firstly, let's train multiple XGBoost models with different sets of hyperparameters using XGBoost's learning API. The single hyperparameter you will change is:\n",
        "\n",
        "max_depth - maximum depth of a tree. Increasing this value will make the model more complex and more likely to overfit."
      ],
      "metadata": {
        "id": "A-FTHKjy-UZg"
      }
    },
    {
      "cell_type": "code",
      "source": [
        "import xgboost as xgb\n",
        "\n",
        "# Create DMatrix on train data\n",
        "dtrain = xgb.DMatrix(data=train[['store', 'item']],\n",
        "                     label=train['sales'])\n",
        "\n",
        "# Define xgboost parameters\n",
        "params = {'objective': 'reg:linear',\n",
        "          'max_depth': 2,\n",
        "          'verbosity': 0}\n",
        "\n",
        "# Train xgboost model\n",
        "xg_depth_2 = xgb.train(params=params, dtrain=dtrain)"
      ],
      "metadata": {
        "id": "OlN1PPuI9JP7"
      },
      "execution_count": 72,
      "outputs": []
    },
    {
      "cell_type": "code",
      "source": [
        "import xgboost as xgb\n",
        "\n",
        "# Create DMatrix on train data\n",
        "dtrain = xgb.DMatrix(data=train[['store', 'item']],\n",
        "                     label=train['sales'])\n",
        "\n",
        "# Define xgboost parameters\n",
        "params = {'objective': 'reg:linear',\n",
        "          'max_depth': 8,\n",
        "          'verbosity': 0}\n",
        "\n",
        "# Train xgboost model\n",
        "xg_depth_8 = xgb.train(params=params, dtrain=dtrain)"
      ],
      "metadata": {
        "id": "ug3OIIwh-eg3"
      },
      "execution_count": 73,
      "outputs": []
    },
    {
      "cell_type": "code",
      "source": [
        "import xgboost as xgb\n",
        "\n",
        "# Create DMatrix on train data\n",
        "dtrain = xgb.DMatrix(data=train[['store', 'item']],\n",
        "                     label=train['sales'])\n",
        "\n",
        "# Define xgboost parameters\n",
        "params = {'objective': 'reg:linear',\n",
        "          'max_depth': 15,\n",
        "          'verbosity': 0}\n",
        "\n",
        "# Train xgboost model\n",
        "xg_depth_15 = xgb.train(params=params, dtrain=dtrain)"
      ],
      "metadata": {
        "id": "498kCdqw-6ib"
      },
      "execution_count": 74,
      "outputs": []
    },
    {
      "cell_type": "markdown",
      "source": [
        "# Explore overfitting XGBoost\n",
        "Having trained 3 XGBoost models with different maximum depths, you will now evaluate their quality. For this purpose, you will measure the quality of each model on both the train data and the test data. As you know by now, the train data is the data models have been trained on. The test data is the next month sales data that models have never seen before.\n",
        "\n",
        "The goal of this exercise is to determine whether any of the models trained is overfitting. To measure the quality of the models you will use Mean Squared Error (MSE). It's available in sklearn.metrics as mean_squared_error() function that takes two arguments: true values and predicted values.\n",
        "\n",
        "train and test DataFrames together with 3 models trained (xg_depth_2, xg_depth_8, xg_depth_15) are available in your workspace."
      ],
      "metadata": {
        "id": "GsKjEqix_TtX"
      }
    },
    {
      "cell_type": "code",
      "source": [
        "from sklearn.metrics import mean_squared_error\n",
        "\n",
        "dtrain = xgb.DMatrix(data=train[['store', 'item']])\n",
        "dtest = xgb.DMatrix(data=test[['store', 'item']])\n",
        "\n",
        "# For each of 3 trained models\n",
        "for model in [xg_depth_2, xg_depth_8, xg_depth_15]:\n",
        "    # Make predictions\n",
        "    train_pred = model.predict(dtrain)     \n",
        "    test_pred = model.predict(dtest)          \n",
        "    \n",
        "    # Calculate metrics\n",
        "    mse_train = mean_squared_error(train['sales'], train_pred)                  \n",
        "    mse_test = mean_squared_error(test['sales'], test_pred)\n",
        "    print('MSE Train: {:.3f}. MSE Test: {:.3f}'.format(mse_train, mse_test))"
      ],
      "metadata": {
        "colab": {
          "base_uri": "https://localhost:8080/"
        },
        "id": "LhkLzWKa_K-b",
        "outputId": "fada631b-23b9-4778-f6bd-011bf5cf6201"
      },
      "execution_count": 75,
      "outputs": [
        {
          "output_type": "stream",
          "name": "stdout",
          "text": [
            "MSE Train: 331.064. MSE Test: 249.522\n",
            "MSE Train: 112.057. MSE Test: 30.577\n",
            "MSE Train: 84.952. MSE Test: 3.516\n"
          ]
        }
      ]
    },
    {
      "cell_type": "markdown",
      "source": [
        "# CHAPTER 2\n",
        "## Dive into competition\n",
        "\n",
        "Now that you know the basics of Kaggle competitions, you will learn how to study the specific problem at hand. You will practice EDA and get to establish correct local validation strategies. You will also learn about data leakage."
      ],
      "metadata": {
        "id": "M1EVyEzPAc7c"
      }
    },
    {
      "cell_type": "markdown",
      "source": [
        "# Define a competition metric\n",
        "Competition metric is used by Kaggle to evaluate your submissions. Moreover, you also need to measure the performance of different models on a local validation set.\n",
        "\n",
        "For now, your goal is to manually develop a couple of competition metrics in case if they are not available in sklearn.metrics.\n",
        "\n",
        "In particular, you will define:\n",
        "\n",
        "Mean Squared Error (MSE) for the regression problem:\n",
        " \n",
        " \n",
        "\n",
        "Logarithmic Loss (LogLoss) for the binary classification problem:\n",
        " \n",
        " \n"
      ],
      "metadata": {
        "id": "iZ_AIn2XAc92"
      }
    },
    {
      "cell_type": "code",
      "source": [
        "from sklearn.metrics import mean_squared_error\n",
        "\n",
        "dtrain = xgb.DMatrix(data=train[['store', 'item']])\n",
        "dtest = xgb.DMatrix(data=test[['store', 'item']])\n",
        "\n",
        "# For each of 3 trained models\n",
        "for model in [xg_depth_2, xg_depth_8, xg_depth_15]:\n",
        "    # Make predictions\n",
        "    train_pred = model.predict(dtrain)     \n",
        "    test_pred = model.predict(dtest)          \n",
        "    \n",
        "    # Calculate metrics\n",
        "    mse_train = mean_squared_error(train['sales'], train_pred)                  \n",
        "    mse_test = mean_squared_error(test['sales'], test_pred)\n",
        "    print('MSE Train: {:.3f}. MSE Test: {:.3f}'.format(mse_train, mse_test))"
      ],
      "metadata": {
        "id": "DGvaR5UvTeaS",
        "colab": {
          "base_uri": "https://localhost:8080/"
        },
        "outputId": "da71d64a-dc1b-4c14-a4c8-e53e56759b50"
      },
      "execution_count": 76,
      "outputs": [
        {
          "output_type": "stream",
          "name": "stdout",
          "text": [
            "MSE Train: 331.064. MSE Test: 249.522\n",
            "MSE Train: 112.057. MSE Test: 30.577\n",
            "MSE Train: 84.952. MSE Test: 3.516\n"
          ]
        }
      ]
    },
    {
      "cell_type": "code",
      "source": [
        "import numpy as np\n",
        "\n",
        "# Import log_loss from sklearn\n",
        "from sklearn.metrics import log_loss\n",
        "\n",
        "# Define your own LogLoss function\n",
        "def own_logloss(y_true, prob_pred):\n",
        "  \t# Find loss for each observation\n",
        "    terms = y_true * np.log(prob_pred) + (1 - y_true) * np.log(1 - prob_pred)\n",
        "    # Find mean over all observations\n",
        "    err = np.mean(terms)   \n",
        "    return -err\n",
        "\n",
        "print('Sklearn LogLoss: {:.5f}'.format(log_loss(y_classification_true, y_classification_pred)))\n",
        "print('Your LogLoss: {:.5f}'.format(own_logloss(y_classification_true, y_classification_pred)))"
      ],
      "metadata": {
        "id": "KwRj7DtVoXcn"
      },
      "execution_count": null,
      "outputs": []
    },
    {
      "cell_type": "markdown",
      "source": [
        "# EDA statistics\n",
        "As mentioned in the slides, you'll work with New York City taxi fare prediction data. You'll start with finding some basic statistics about the data. Then you'll move forward to plot some dependencies and generate hypotheses on them.\n",
        "\n",
        "The train and test DataFrames are already available in your workspace."
      ],
      "metadata": {
        "id": "Om1Ddx7gq_xr"
      }
    },
    {
      "cell_type": "code",
      "source": [
        "import pandas as pd\n",
        "train= pd.read_csv('taxi_train_chapter_4.csv')\n",
        "test= pd.read_csv('taxi_test_chapter_4.csv')\n",
        "\n",
        "# Shapes of train and test data\n",
        "print('Train shape:', train.shape)\n",
        "print('Test shape:', test.shape)\n",
        "\n",
        "# Train head()\n",
        "(train.head())"
      ],
      "metadata": {
        "colab": {
          "base_uri": "https://localhost:8080/",
          "height": 241
        },
        "id": "IXk4g7u7qAdV",
        "outputId": "cb035451-2f17-49aa-da1b-c528d4aa1b14"
      },
      "execution_count": 77,
      "outputs": [
        {
          "output_type": "stream",
          "name": "stdout",
          "text": [
            "Train shape: (20000, 8)\n",
            "Test shape: (9914, 7)\n"
          ]
        },
        {
          "output_type": "execute_result",
          "data": {
            "text/plain": [
              "   id  fare_amount          pickup_datetime  pickup_longitude  \\\n",
              "0   0          4.5  2009-06-15 17:26:21 UTC        -73.844311   \n",
              "1   1         16.9  2010-01-05 16:52:16 UTC        -74.016048   \n",
              "2   2          5.7  2011-08-18 00:35:00 UTC        -73.982738   \n",
              "3   3          7.7  2012-04-21 04:30:42 UTC        -73.987130   \n",
              "4   4          5.3  2010-03-09 07:51:00 UTC        -73.968095   \n",
              "\n",
              "   pickup_latitude  dropoff_longitude  dropoff_latitude  passenger_count  \n",
              "0        40.721319         -73.841610         40.712278                1  \n",
              "1        40.711303         -73.979268         40.782004                1  \n",
              "2        40.761270         -73.991242         40.750562                2  \n",
              "3        40.733143         -73.991567         40.758092                1  \n",
              "4        40.768008         -73.956655         40.783762                1  "
            ],
            "text/html": [
              "\n",
              "  <div id=\"df-acfa7067-526b-4554-bc5c-a5ceb37119a5\">\n",
              "    <div class=\"colab-df-container\">\n",
              "      <div>\n",
              "<style scoped>\n",
              "    .dataframe tbody tr th:only-of-type {\n",
              "        vertical-align: middle;\n",
              "    }\n",
              "\n",
              "    .dataframe tbody tr th {\n",
              "        vertical-align: top;\n",
              "    }\n",
              "\n",
              "    .dataframe thead th {\n",
              "        text-align: right;\n",
              "    }\n",
              "</style>\n",
              "<table border=\"1\" class=\"dataframe\">\n",
              "  <thead>\n",
              "    <tr style=\"text-align: right;\">\n",
              "      <th></th>\n",
              "      <th>id</th>\n",
              "      <th>fare_amount</th>\n",
              "      <th>pickup_datetime</th>\n",
              "      <th>pickup_longitude</th>\n",
              "      <th>pickup_latitude</th>\n",
              "      <th>dropoff_longitude</th>\n",
              "      <th>dropoff_latitude</th>\n",
              "      <th>passenger_count</th>\n",
              "    </tr>\n",
              "  </thead>\n",
              "  <tbody>\n",
              "    <tr>\n",
              "      <th>0</th>\n",
              "      <td>0</td>\n",
              "      <td>4.5</td>\n",
              "      <td>2009-06-15 17:26:21 UTC</td>\n",
              "      <td>-73.844311</td>\n",
              "      <td>40.721319</td>\n",
              "      <td>-73.841610</td>\n",
              "      <td>40.712278</td>\n",
              "      <td>1</td>\n",
              "    </tr>\n",
              "    <tr>\n",
              "      <th>1</th>\n",
              "      <td>1</td>\n",
              "      <td>16.9</td>\n",
              "      <td>2010-01-05 16:52:16 UTC</td>\n",
              "      <td>-74.016048</td>\n",
              "      <td>40.711303</td>\n",
              "      <td>-73.979268</td>\n",
              "      <td>40.782004</td>\n",
              "      <td>1</td>\n",
              "    </tr>\n",
              "    <tr>\n",
              "      <th>2</th>\n",
              "      <td>2</td>\n",
              "      <td>5.7</td>\n",
              "      <td>2011-08-18 00:35:00 UTC</td>\n",
              "      <td>-73.982738</td>\n",
              "      <td>40.761270</td>\n",
              "      <td>-73.991242</td>\n",
              "      <td>40.750562</td>\n",
              "      <td>2</td>\n",
              "    </tr>\n",
              "    <tr>\n",
              "      <th>3</th>\n",
              "      <td>3</td>\n",
              "      <td>7.7</td>\n",
              "      <td>2012-04-21 04:30:42 UTC</td>\n",
              "      <td>-73.987130</td>\n",
              "      <td>40.733143</td>\n",
              "      <td>-73.991567</td>\n",
              "      <td>40.758092</td>\n",
              "      <td>1</td>\n",
              "    </tr>\n",
              "    <tr>\n",
              "      <th>4</th>\n",
              "      <td>4</td>\n",
              "      <td>5.3</td>\n",
              "      <td>2010-03-09 07:51:00 UTC</td>\n",
              "      <td>-73.968095</td>\n",
              "      <td>40.768008</td>\n",
              "      <td>-73.956655</td>\n",
              "      <td>40.783762</td>\n",
              "      <td>1</td>\n",
              "    </tr>\n",
              "  </tbody>\n",
              "</table>\n",
              "</div>\n",
              "      <button class=\"colab-df-convert\" onclick=\"convertToInteractive('df-acfa7067-526b-4554-bc5c-a5ceb37119a5')\"\n",
              "              title=\"Convert this dataframe to an interactive table.\"\n",
              "              style=\"display:none;\">\n",
              "        \n",
              "  <svg xmlns=\"http://www.w3.org/2000/svg\" height=\"24px\"viewBox=\"0 0 24 24\"\n",
              "       width=\"24px\">\n",
              "    <path d=\"M0 0h24v24H0V0z\" fill=\"none\"/>\n",
              "    <path d=\"M18.56 5.44l.94 2.06.94-2.06 2.06-.94-2.06-.94-.94-2.06-.94 2.06-2.06.94zm-11 1L8.5 8.5l.94-2.06 2.06-.94-2.06-.94L8.5 2.5l-.94 2.06-2.06.94zm10 10l.94 2.06.94-2.06 2.06-.94-2.06-.94-.94-2.06-.94 2.06-2.06.94z\"/><path d=\"M17.41 7.96l-1.37-1.37c-.4-.4-.92-.59-1.43-.59-.52 0-1.04.2-1.43.59L10.3 9.45l-7.72 7.72c-.78.78-.78 2.05 0 2.83L4 21.41c.39.39.9.59 1.41.59.51 0 1.02-.2 1.41-.59l7.78-7.78 2.81-2.81c.8-.78.8-2.07 0-2.86zM5.41 20L4 18.59l7.72-7.72 1.47 1.35L5.41 20z\"/>\n",
              "  </svg>\n",
              "      </button>\n",
              "      \n",
              "  <style>\n",
              "    .colab-df-container {\n",
              "      display:flex;\n",
              "      flex-wrap:wrap;\n",
              "      gap: 12px;\n",
              "    }\n",
              "\n",
              "    .colab-df-convert {\n",
              "      background-color: #E8F0FE;\n",
              "      border: none;\n",
              "      border-radius: 50%;\n",
              "      cursor: pointer;\n",
              "      display: none;\n",
              "      fill: #1967D2;\n",
              "      height: 32px;\n",
              "      padding: 0 0 0 0;\n",
              "      width: 32px;\n",
              "    }\n",
              "\n",
              "    .colab-df-convert:hover {\n",
              "      background-color: #E2EBFA;\n",
              "      box-shadow: 0px 1px 2px rgba(60, 64, 67, 0.3), 0px 1px 3px 1px rgba(60, 64, 67, 0.15);\n",
              "      fill: #174EA6;\n",
              "    }\n",
              "\n",
              "    [theme=dark] .colab-df-convert {\n",
              "      background-color: #3B4455;\n",
              "      fill: #D2E3FC;\n",
              "    }\n",
              "\n",
              "    [theme=dark] .colab-df-convert:hover {\n",
              "      background-color: #434B5C;\n",
              "      box-shadow: 0px 1px 3px 1px rgba(0, 0, 0, 0.15);\n",
              "      filter: drop-shadow(0px 1px 2px rgba(0, 0, 0, 0.3));\n",
              "      fill: #FFFFFF;\n",
              "    }\n",
              "  </style>\n",
              "\n",
              "      <script>\n",
              "        const buttonEl =\n",
              "          document.querySelector('#df-acfa7067-526b-4554-bc5c-a5ceb37119a5 button.colab-df-convert');\n",
              "        buttonEl.style.display =\n",
              "          google.colab.kernel.accessAllowed ? 'block' : 'none';\n",
              "\n",
              "        async function convertToInteractive(key) {\n",
              "          const element = document.querySelector('#df-acfa7067-526b-4554-bc5c-a5ceb37119a5');\n",
              "          const dataTable =\n",
              "            await google.colab.kernel.invokeFunction('convertToInteractive',\n",
              "                                                     [key], {});\n",
              "          if (!dataTable) return;\n",
              "\n",
              "          const docLinkHtml = 'Like what you see? Visit the ' +\n",
              "            '<a target=\"_blank\" href=https://colab.research.google.com/notebooks/data_table.ipynb>data table notebook</a>'\n",
              "            + ' to learn more about interactive tables.';\n",
              "          element.innerHTML = '';\n",
              "          dataTable['output_type'] = 'display_data';\n",
              "          await google.colab.output.renderOutput(dataTable, element);\n",
              "          const docLink = document.createElement('div');\n",
              "          docLink.innerHTML = docLinkHtml;\n",
              "          element.appendChild(docLink);\n",
              "        }\n",
              "      </script>\n",
              "    </div>\n",
              "  </div>\n",
              "  "
            ]
          },
          "metadata": {},
          "execution_count": 77
        }
      ]
    },
    {
      "cell_type": "code",
      "source": [
        "# Describe the target variable\n",
        "print(train.fare_amount.describe())\n",
        "\n",
        "# Train distribution of passengers within rides\n",
        "print(train.passenger_count.value_counts())"
      ],
      "metadata": {
        "colab": {
          "base_uri": "https://localhost:8080/"
        },
        "id": "W7l6f9MzraKg",
        "outputId": "b012faba-9b64-4133-95ef-81d6e3d9c7d4"
      },
      "execution_count": 78,
      "outputs": [
        {
          "output_type": "stream",
          "name": "stdout",
          "text": [
            "count    20000.000000\n",
            "mean        11.303321\n",
            "std          9.541637\n",
            "min         -3.000000\n",
            "25%          6.000000\n",
            "50%          8.500000\n",
            "75%         12.500000\n",
            "max        180.000000\n",
            "Name: fare_amount, dtype: float64\n",
            "1    13999\n",
            "2     2912\n",
            "5     1327\n",
            "3      860\n",
            "4      420\n",
            "6      407\n",
            "0       75\n",
            "Name: passenger_count, dtype: int64\n"
          ]
        }
      ]
    },
    {
      "cell_type": "markdown",
      "source": [
        "# EDA plots I\n",
        "After generating a couple of basic statistics, it's time to come up with and validate some ideas about the data dependencies. Again, the train DataFrame from the taxi competition is already available in your workspace.\n",
        "\n",
        "To begin with, let's make a scatterplot plotting the relationship between the fare amount and the distance of the ride. Intuitively, the longer the ride, the higher its price.\n",
        "\n",
        "To get the distance in kilometers between two geo-coordinates, you will use Haversine distance. Its calculation is available with the haversine_distance() function defined for you. The function expects train DataFrame as input."
      ],
      "metadata": {
        "id": "c85XkeRCTzhh"
      }
    },
    {
      "cell_type": "code",
      "source": [
        "def haversine_distance(train):\n",
        "    \n",
        "    data = [train]\n",
        "    lat1, long1, lat2, long2 = 'pickup_latitude', 'pickup_longitude', 'dropoff_latitude', 'dropoff_longitude'\n",
        "    \n",
        "    for i in data:\n",
        "        R = 6371  #radius of earth in kilometers\n",
        "        #R = 3959 #radius of earth in miles\n",
        "        phi1 = np.radians(i[lat1])\n",
        "        phi2 = np.radians(i[lat2])\n",
        "    \n",
        "        delta_phi = np.radians(i[lat2]-i[lat1])\n",
        "        delta_lambda = np.radians(i[long2]-i[long1])\n",
        "    \n",
        "        #a = sin²((φB - φA)/2) + cos φA . cos φB . sin²((λB - λA)/2)\n",
        "        a = np.sin(delta_phi / 2.0) ** 2 + np.cos(phi1) * np.cos(phi2) * np.sin(delta_lambda / 2.0) ** 2\n",
        "    \n",
        "        #c = 2 * atan2( √a, √(1−a) )\n",
        "        c = 2 * np.arctan2(np.sqrt(a), np.sqrt(1-a))\n",
        "    \n",
        "        #d = R*c\n",
        "        d = (R * c) #in kilometers\n",
        "        \n",
        "    return d"
      ],
      "metadata": {
        "id": "k2-5WiqRrmTh"
      },
      "execution_count": 79,
      "outputs": []
    },
    {
      "cell_type": "code",
      "source": [
        "import matplotlib.pyplot as plt\n",
        "import numpy as np\n",
        "import pandas as pd\n",
        "# Calculate the ride distance\n",
        "train['distance_km'] = haversine_distance(train)\n",
        "test['distance_km']= haversine_distance(test)\n",
        "\n",
        "# Draw a scatterplot\n",
        "plt.scatter(x=train['fare_amount'], y=train['distance_km'], alpha=0.5)\n",
        "plt.xlabel('Fare amount')\n",
        "plt.ylabel('Distance, km')\n",
        "plt.title('Fare amount based on the distance')\n",
        "\n",
        "# Limit on the distance\n",
        "plt.ylim(0, 50)\n",
        "plt.show()"
      ],
      "metadata": {
        "colab": {
          "base_uri": "https://localhost:8080/",
          "height": 295
        },
        "id": "sVyqdCZ6T-WJ",
        "outputId": "d9d95be4-fe4e-4b9e-c7b5-eadc1511184b"
      },
      "execution_count": 80,
      "outputs": [
        {
          "output_type": "display_data",
          "data": {
            "text/plain": [
              "<Figure size 432x288 with 1 Axes>"
            ],
            "image/png": "[encoded data removed]"
          },
          "metadata": {
            "needs_background": "light"
          }
        }
      ]
    },
    {
      "cell_type": "markdown",
      "source": [
        "# EDA plots II\n",
        "Another idea that comes to mind is that the price of a ride could change during the day.\n",
        "\n",
        "Your goal is to plot the median fare amount for each hour of the day as a simple line plot. The hour feature is calculated for you. Don't worry if you do not know how to work with the date features. We will explore them in the chapter on Feature Engineering."
      ],
      "metadata": {
        "id": "oCv7OGIuUmGh"
      }
    },
    {
      "cell_type": "code",
      "source": [
        "# Create hour feature\n",
        "train['pickup_datetime'] = pd.to_datetime(train.pickup_datetime)\n",
        "train['hour'] = train.pickup_datetime.dt.hour\n",
        "\n",
        "# Find median fare_amount for each hour\n",
        "hour_price = train.groupby('hour', as_index=False)['fare_amount'].median()\n",
        "\n",
        "# Plot the line plot\n",
        "plt.plot(hour_price['hour'], hour_price['fare_amount'], marker='o')\n",
        "plt.xlabel('Hour of the day')\n",
        "plt.ylabel('Median fare amount')\n",
        "plt.title('Fare amount based on day time')\n",
        "plt.xticks(range(24))\n",
        "plt.show()\n",
        "\n",
        "# prices higher at night, we should includer hours at night in the model "
      ],
      "metadata": {
        "colab": {
          "base_uri": "https://localhost:8080/",
          "height": 295
        },
        "id": "ubU3_inpUVwa",
        "outputId": "2e00adbb-5812-4a19-8543-e283c4c322d6"
      },
      "execution_count": 81,
      "outputs": [
        {
          "output_type": "display_data",
          "data": {
            "text/plain": [
              "<Figure size 432x288 with 1 Axes>"
            ],
            "image/png": "[encoded data removed]"
          },
          "metadata": {
            "needs_background": "light"
          }
        }
      ]
    },
    {
      "cell_type": "markdown",
      "source": [
        "# K-fold cross-validation\n",
        "You will start by getting hands-on experience in the most commonly used K-fold cross-validation.\n",
        "\n",
        "The data you'll be working with is from the \"Two sigma connect: rental listing inquiries\" Kaggle competition. The competition problem is a multi-class classification of the rental listings into 3 classes: low interest, medium interest and high interest. For faster performance, you will work with a subsample consisting of 1,000 observations.\n",
        "\n",
        "You need to implement a K-fold validation strategy and look at the sizes of each fold obtained. train DataFrame is already available in your workspace."
      ],
      "metadata": {
        "id": "eu9b8iq4Ybqn"
      }
    },
    {
      "cell_type": "markdown",
      "source": [
        "# Stratified K-fold\n",
        "As you've just noticed, you have a pretty different target variable distribution among the folds due to the random splits. It's not crucial for this particular competition, but could be an issue for the classification competitions with the highly imbalanced target variable.\n",
        "\n",
        "To overcome this, let's implement the stratified K-fold strategy with the stratification on the target variable. train DataFrame is already available in your workspace."
      ],
      "metadata": {
        "id": "B7yXbm4DqwSm"
      }
    },
    {
      "cell_type": "code",
      "source": [
        "# Import KFold\n",
        "from sklearn.model_selection import KFold\n",
        "\n",
        "# Create a KFold object\n",
        "kf = KFold(n_splits=3, shuffle=True, random_state=123)\n",
        "\n",
        "# Loop through each split\n",
        "fold = 0\n",
        "for train_index, test_index in kf.split(train):\n",
        "    # Obtain training and testing folds\n",
        "    cv_train, cv_test = train.iloc[train_index], train.iloc[test_index]\n",
        "    print('Fold: {}'.format(fold))\n",
        "    print('CV train shape: {}'.format(cv_train.shape))\n",
        "    print('Medium interest listings in CV train: {}\\n'.format(sum(cv_train.interest_level == 'medium')))\n",
        "    fold += 1"
      ],
      "metadata": {
        "id": "b_BoXAkYrwlt"
      },
      "execution_count": null,
      "outputs": []
    },
    {
      "cell_type": "code",
      "source": [
        "# Import StratifiedKFold\n",
        "from sklearn.model_selection import StratifiedKFold\n",
        "\n",
        "# Create a StratifiedKFold object\n",
        "str_kf = StratifiedKFold(n_splits=3, shuffle=True, random_state=123)\n",
        "\n",
        "# Loop through each split\n",
        "fold = 0\n",
        "for train_index, test_index in str_kf.split(train, train['interest_level']):\n",
        "    # Obtain training and testing folds\n",
        "    cv_train, cv_test = train.iloc[train_index], train.iloc[test_index]\n",
        "    print('Fold: {}'.format(fold))\n",
        "    print('CV train shape: {}'.format(cv_train.shape))\n",
        "    print('Medium interest listings in CV train: {}\\n'.format(sum(cv_train.interest_level == 'medium')))\n",
        "    fold += 1\n"
      ],
      "metadata": {
        "id": "0jouYfD8ifRg"
      },
      "execution_count": 82,
      "outputs": []
    },
    {
      "cell_type": "markdown",
      "source": [
        "# Time K-fold\n",
        "Remember the \"Store Item Demand Forecasting Challenge\" where you are given store-item sales data, and have to predict future sales?\n",
        "\n",
        "It's a competition with time series data. So, time K-fold cross-validation should be applied. Your goal is to create this cross-validation strategy and make sure that it works as expected.\n",
        "\n",
        "Note that the train DataFrame is already available in your workspace, and that TimeSeriesSplit has been imported from sklearn.model_selection."
      ],
      "metadata": {
        "id": "iBmqhWDZtvwV"
      }
    },
    {
      "cell_type": "code",
      "source": [
        "train= pd.read_csv('demand_forecasting_train_1_month.csv')\n",
        "test= pd.read_csv('demand_forecasting_test.csv')\n",
        "from sklearn.model_selection import TimeSeriesSplit\n",
        "\n",
        "# Create TimeSeriesSplit object\n",
        "time_kfold = TimeSeriesSplit(n_splits=3)\n",
        "\n",
        "# Sort train data by date\n",
        "train = train.sort_values('date')\n",
        "\n",
        "# Iterate through each split\n",
        "fold = 0\n",
        "for train_index, test_index in time_kfold.split(train):\n",
        "    cv_train, cv_test = train.iloc[train_index], train.iloc[test_index]\n",
        "    \n",
        "    print('Fold :', fold)\n",
        "    print('Train date range: from {} to {}'.format(cv_train.date.min(), cv_train.date.max()))\n",
        "    print('Test date range: from {} to {}\\n'.format(cv_test.date.min(), cv_test.date.max()))\n",
        "    fold += 1"
      ],
      "metadata": {
        "colab": {
          "base_uri": "https://localhost:8080/"
        },
        "id": "HUpOqEhWroIE",
        "outputId": "4c913e5c-2903-4e9d-a1e0-b9ac2b2360a1"
      },
      "execution_count": 83,
      "outputs": [
        {
          "output_type": "stream",
          "name": "stdout",
          "text": [
            "Fold : 0\n",
            "Train date range: from 2017-12-01 to 2017-12-08\n",
            "Test date range: from 2017-12-08 to 2017-12-16\n",
            "\n",
            "Fold : 1\n",
            "Train date range: from 2017-12-01 to 2017-12-16\n",
            "Test date range: from 2017-12-16 to 2017-12-24\n",
            "\n",
            "Fold : 2\n",
            "Train date range: from 2017-12-01 to 2017-12-24\n",
            "Test date range: from 2017-12-24 to 2017-12-31\n",
            "\n"
          ]
        }
      ]
    },
    {
      "cell_type": "markdown",
      "source": [
        "# Overall validation score\n",
        "Now it's time to get the actual model performance using cross-validation! How does our store item demand prediction model perform?\n",
        "\n",
        "Your task is to take the Mean Squared Error (MSE) for each fold separately, and then combine these results into a single number.\n",
        "\n",
        "For simplicity, you're given get_fold_mse() function that for each cross-validation split fits a Random Forest model and returns a list of MSE scores by fold. get_fold_mse() accepts two arguments: train and TimeSeriesSplit object."
      ],
      "metadata": {
        "id": "RPgnhvCAxADw"
      }
    },
    {
      "cell_type": "code",
      "source": [
        "def get_fold_mse(train, kf):\n",
        "    mse_scores = []\n",
        "    \n",
        "    for train_index, test_index in kf.split(train):\n",
        "        fold_train, fold_test = train.loc[train_index], train.loc[test_index]\n",
        "\n",
        "        # Fit the data and make predictions\n",
        "        # Create a Random Forest object\n",
        "        rf = RandomForestRegressor(n_estimators=10, random_state=123)\n",
        "\n",
        "        # Train a model\n",
        "        rf.fit(X=fold_train[['store', 'item']], y=fold_train['sales'])\n",
        "\n",
        "        # Get predictions for the test set\n",
        "        pred = rf.predict(fold_test[['store', 'item']])\n",
        "    \n",
        "        fold_score = round(mean_squared_error(fold_test['sales'], pred), 5)\n",
        "        mse_scores.append(fold_score)\n",
        "        \n",
        "    return mse_scores"
      ],
      "metadata": {
        "id": "p1ON4fLhuwJ2"
      },
      "execution_count": 84,
      "outputs": []
    },
    {
      "cell_type": "code",
      "source": [
        "from sklearn.model_selection import TimeSeriesSplit\n",
        "import numpy as np\n",
        "from sklearn.ensemble import RandomForestRegressor\n",
        "\n",
        "# Sort train data by date\n",
        "train= train.sort_values('date')\n",
        "\n",
        "# Initialize a 3-fold time cross-validation\n",
        "kf= TimeSeriesSplit(n_splits= 3)\n",
        "\n",
        "# create empty mse scores list\n",
        "mse_scores= []\n",
        "\n",
        "# run a for loop \n",
        "for train_index, test_index in kf.split(train):\n",
        "        cv_train, cv_test = train.loc[train_index], train.loc[test_index]\n",
        "\n",
        "        # Fit the data and make predictions\n",
        "        # Create a Random Forest object\n",
        "        rf = RandomForestRegressor(n_estimators=10, random_state=123)\n",
        "\n",
        "        # Train a model\n",
        "        rf.fit(X=cv_train[['store', 'item']], y=cv_train['sales'])\n",
        "\n",
        "        # Get predictions for the test set\n",
        "        pred = rf.predict(cv_test[['store', 'item']])\n",
        "    \n",
        "        fold_score = round(mean_squared_error(cv_test['sales'], pred), 5)\n",
        "        mse_scores.append(fold_score)\n",
        "\n",
        "\n",
        "print('Mean validation MSE: {:.5f}'.format(np.mean(mse_scores)))\n",
        "print('MSE by fold: {}'.format(mse_scores))\n",
        "print('Overall validation MSE: {:.5f}'.format(np.mean(mse_scores) + np.std(mse_scores)))\n"
      ],
      "metadata": {
        "colab": {
          "base_uri": "https://localhost:8080/"
        },
        "id": "RctSJHGdxmLv",
        "outputId": "d4fe18c5-a4ad-410c-835c-c5b4b3b632fa"
      },
      "execution_count": 85,
      "outputs": [
        {
          "output_type": "stream",
          "name": "stdout",
          "text": [
            "Mean validation MSE: 955.49186\n",
            "MSE by fold: [890.30336, 961.65797, 1014.51424]\n",
            "Overall validation MSE: 1006.38784\n"
          ]
        }
      ]
    },
    {
      "cell_type": "markdown",
      "source": [
        "# CHAPTER 3\n",
        "\n",
        "## Feature Engeering\n",
        "\n",
        "You will now get exposure to different types of features. You will modify existing features and create new ones. Also, you will treat the missing data accordingly."
      ],
      "metadata": {
        "id": "Rg6iVGL-05Ut"
      }
    },
    {
      "cell_type": "markdown",
      "source": [
        "# Arithmetical features\n",
        "To practice creating new features, you will be working with a subsample from the Kaggle competition called \"House Prices: Advanced Regression Techniques\". The goal of this competition is to predict the price of the house based on its properties. It's a regression problem with Root Mean Squared Error as an evaluation metric.\n",
        "\n",
        "Your goal is to create new features and determine whether they improve your validation score. To get the validation score from 5-fold cross-validation, you're given the get_kfold_rmse() function. Use it with the train DataFrame, available in your workspace, as an argument."
      ],
      "metadata": {
        "id": "qVUs_Hx805x7"
      }
    },
    {
      "cell_type": "code",
      "source": [
        "train= pd.read_csv('house_prices_train.csv')\n",
        "test= pd.read_csv('house_prices_test.csv')\n",
        "train.head()"
      ],
      "metadata": {
        "colab": {
          "base_uri": "https://localhost:8080/",
          "height": 270
        },
        "id": "l79qo0BazcXB",
        "outputId": "89f8359d-9f61-4203-8353-2deff906e478"
      },
      "execution_count": 86,
      "outputs": [
        {
          "output_type": "execute_result",
          "data": {
            "text/plain": [
              "   Id  LotArea  OverallQual  YearBuilt RoofStyle  TotalBsmtSF CentralAir  \\\n",
              "0   1     8450            7       2003     Gable          856          Y   \n",
              "1   2     9600            6       1976     Gable         1262          Y   \n",
              "2   3    11250            7       2001     Gable          920          Y   \n",
              "3   4     9550            7       1915     Gable          756          Y   \n",
              "4   5    14260            8       2000     Gable         1145          Y   \n",
              "\n",
              "   1stFlrSF  2ndFlrSF  FullBath  HalfBath  BedroomAbvGr  KitchenAbvGr  \\\n",
              "0       856       854         2         1             3             1   \n",
              "1      1262         0         2         0             3             1   \n",
              "2       920       866         2         1             3             1   \n",
              "3       961       756         1         0             3             1   \n",
              "4      1145      1053         2         1             4             1   \n",
              "\n",
              "   TotRmsAbvGrd  GarageCars  GarageArea  SalePrice  \n",
              "0             8           2         548     208500  \n",
              "1             6           2         460     181500  \n",
              "2             6           2         608     223500  \n",
              "3             7           3         642     140000  \n",
              "4             9           3         836     250000  "
            ],
            "text/html": [
              "\n",
              "  <div id=\"df-641a6ff0-4284-468f-b8e4-58b7dbffa62e\">\n",
              "    <div class=\"colab-df-container\">\n",
              "      <div>\n",
              "<style scoped>\n",
              "    .dataframe tbody tr th:only-of-type {\n",
              "        vertical-align: middle;\n",
              "    }\n",
              "\n",
              "    .dataframe tbody tr th {\n",
              "        vertical-align: top;\n",
              "    }\n",
              "\n",
              "    .dataframe thead th {\n",
              "        text-align: right;\n",
              "    }\n",
              "</style>\n",
              "<table border=\"1\" class=\"dataframe\">\n",
              "  <thead>\n",
              "    <tr style=\"text-align: right;\">\n",
              "      <th></th>\n",
              "      <th>Id</th>\n",
              "      <th>LotArea</th>\n",
              "      <th>OverallQual</th>\n",
              "      <th>YearBuilt</th>\n",
              "      <th>RoofStyle</th>\n",
              "      <th>TotalBsmtSF</th>\n",
              "      <th>CentralAir</th>\n",
              "      <th>1stFlrSF</th>\n",
              "      <th>2ndFlrSF</th>\n",
              "      <th>FullBath</th>\n",
              "      <th>HalfBath</th>\n",
              "      <th>BedroomAbvGr</th>\n",
              "      <th>KitchenAbvGr</th>\n",
              "      <th>TotRmsAbvGrd</th>\n",
              "      <th>GarageCars</th>\n",
              "      <th>GarageArea</th>\n",
              "      <th>SalePrice</th>\n",
              "    </tr>\n",
              "  </thead>\n",
              "  <tbody>\n",
              "    <tr>\n",
              "      <th>0</th>\n",
              "      <td>1</td>\n",
              "      <td>8450</td>\n",
              "      <td>7</td>\n",
              "      <td>2003</td>\n",
              "      <td>Gable</td>\n",
              "      <td>856</td>\n",
              "      <td>Y</td>\n",
              "      <td>856</td>\n",
              "      <td>854</td>\n",
              "      <td>2</td>\n",
              "      <td>1</td>\n",
              "      <td>3</td>\n",
              "      <td>1</td>\n",
              "      <td>8</td>\n",
              "      <td>2</td>\n",
              "      <td>548</td>\n",
              "      <td>208500</td>\n",
              "    </tr>\n",
              "    <tr>\n",
              "      <th>1</th>\n",
              "      <td>2</td>\n",
              "      <td>9600</td>\n",
              "      <td>6</td>\n",
              "      <td>1976</td>\n",
              "      <td>Gable</td>\n",
              "      <td>1262</td>\n",
              "      <td>Y</td>\n",
              "      <td>1262</td>\n",
              "      <td>0</td>\n",
              "      <td>2</td>\n",
              "      <td>0</td>\n",
              "      <td>3</td>\n",
              "      <td>1</td>\n",
              "      <td>6</td>\n",
              "      <td>2</td>\n",
              "      <td>460</td>\n",
              "      <td>181500</td>\n",
              "    </tr>\n",
              "    <tr>\n",
              "      <th>2</th>\n",
              "      <td>3</td>\n",
              "      <td>11250</td>\n",
              "      <td>7</td>\n",
              "      <td>2001</td>\n",
              "      <td>Gable</td>\n",
              "      <td>920</td>\n",
              "      <td>Y</td>\n",
              "      <td>920</td>\n",
              "      <td>866</td>\n",
              "      <td>2</td>\n",
              "      <td>1</td>\n",
              "      <td>3</td>\n",
              "      <td>1</td>\n",
              "      <td>6</td>\n",
              "      <td>2</td>\n",
              "      <td>608</td>\n",
              "      <td>223500</td>\n",
              "    </tr>\n",
              "    <tr>\n",
              "      <th>3</th>\n",
              "      <td>4</td>\n",
              "      <td>9550</td>\n",
              "      <td>7</td>\n",
              "      <td>1915</td>\n",
              "      <td>Gable</td>\n",
              "      <td>756</td>\n",
              "      <td>Y</td>\n",
              "      <td>961</td>\n",
              "      <td>756</td>\n",
              "      <td>1</td>\n",
              "      <td>0</td>\n",
              "      <td>3</td>\n",
              "      <td>1</td>\n",
              "      <td>7</td>\n",
              "      <td>3</td>\n",
              "      <td>642</td>\n",
              "      <td>140000</td>\n",
              "    </tr>\n",
              "    <tr>\n",
              "      <th>4</th>\n",
              "      <td>5</td>\n",
              "      <td>14260</td>\n",
              "      <td>8</td>\n",
              "      <td>2000</td>\n",
              "      <td>Gable</td>\n",
              "      <td>1145</td>\n",
              "      <td>Y</td>\n",
              "      <td>1145</td>\n",
              "      <td>1053</td>\n",
              "      <td>2</td>\n",
              "      <td>1</td>\n",
              "      <td>4</td>\n",
              "      <td>1</td>\n",
              "      <td>9</td>\n",
              "      <td>3</td>\n",
              "      <td>836</td>\n",
              "      <td>250000</td>\n",
              "    </tr>\n",
              "  </tbody>\n",
              "</table>\n",
              "</div>\n",
              "      <button class=\"colab-df-convert\" onclick=\"convertToInteractive('df-641a6ff0-4284-468f-b8e4-58b7dbffa62e')\"\n",
              "              title=\"Convert this dataframe to an interactive table.\"\n",
              "              style=\"display:none;\">\n",
              "        \n",
              "  <svg xmlns=\"http://www.w3.org/2000/svg\" height=\"24px\"viewBox=\"0 0 24 24\"\n",
              "       width=\"24px\">\n",
              "    <path d=\"M0 0h24v24H0V0z\" fill=\"none\"/>\n",
              "    <path d=\"M18.56 5.44l.94 2.06.94-2.06 2.06-.94-2.06-.94-.94-2.06-.94 2.06-2.06.94zm-11 1L8.5 8.5l.94-2.06 2.06-.94-2.06-.94L8.5 2.5l-.94 2.06-2.06.94zm10 10l.94 2.06.94-2.06 2.06-.94-2.06-.94-.94-2.06-.94 2.06-2.06.94z\"/><path d=\"M17.41 7.96l-1.37-1.37c-.4-.4-.92-.59-1.43-.59-.52 0-1.04.2-1.43.59L10.3 9.45l-7.72 7.72c-.78.78-.78 2.05 0 2.83L4 21.41c.39.39.9.59 1.41.59.51 0 1.02-.2 1.41-.59l7.78-7.78 2.81-2.81c.8-.78.8-2.07 0-2.86zM5.41 20L4 18.59l7.72-7.72 1.47 1.35L5.41 20z\"/>\n",
              "  </svg>\n",
              "      </button>\n",
              "      \n",
              "  <style>\n",
              "    .colab-df-container {\n",
              "      display:flex;\n",
              "      flex-wrap:wrap;\n",
              "      gap: 12px;\n",
              "    }\n",
              "\n",
              "    .colab-df-convert {\n",
              "      background-color: #E8F0FE;\n",
              "      border: none;\n",
              "      border-radius: 50%;\n",
              "      cursor: pointer;\n",
              "      display: none;\n",
              "      fill: #1967D2;\n",
              "      height: 32px;\n",
              "      padding: 0 0 0 0;\n",
              "      width: 32px;\n",
              "    }\n",
              "\n",
              "    .colab-df-convert:hover {\n",
              "      background-color: #E2EBFA;\n",
              "      box-shadow: 0px 1px 2px rgba(60, 64, 67, 0.3), 0px 1px 3px 1px rgba(60, 64, 67, 0.15);\n",
              "      fill: #174EA6;\n",
              "    }\n",
              "\n",
              "    [theme=dark] .colab-df-convert {\n",
              "      background-color: #3B4455;\n",
              "      fill: #D2E3FC;\n",
              "    }\n",
              "\n",
              "    [theme=dark] .colab-df-convert:hover {\n",
              "      background-color: #434B5C;\n",
              "      box-shadow: 0px 1px 3px 1px rgba(0, 0, 0, 0.15);\n",
              "      filter: drop-shadow(0px 1px 2px rgba(0, 0, 0, 0.3));\n",
              "      fill: #FFFFFF;\n",
              "    }\n",
              "  </style>\n",
              "\n",
              "      <script>\n",
              "        const buttonEl =\n",
              "          document.querySelector('#df-641a6ff0-4284-468f-b8e4-58b7dbffa62e button.colab-df-convert');\n",
              "        buttonEl.style.display =\n",
              "          google.colab.kernel.accessAllowed ? 'block' : 'none';\n",
              "\n",
              "        async function convertToInteractive(key) {\n",
              "          const element = document.querySelector('#df-641a6ff0-4284-468f-b8e4-58b7dbffa62e');\n",
              "          const dataTable =\n",
              "            await google.colab.kernel.invokeFunction('convertToInteractive',\n",
              "                                                     [key], {});\n",
              "          if (!dataTable) return;\n",
              "\n",
              "          const docLinkHtml = 'Like what you see? Visit the ' +\n",
              "            '<a target=\"_blank\" href=https://colab.research.google.com/notebooks/data_table.ipynb>data table notebook</a>'\n",
              "            + ' to learn more about interactive tables.';\n",
              "          element.innerHTML = '';\n",
              "          dataTable['output_type'] = 'display_data';\n",
              "          await google.colab.output.renderOutput(dataTable, element);\n",
              "          const docLink = document.createElement('div');\n",
              "          docLink.innerHTML = docLinkHtml;\n",
              "          element.appendChild(docLink);\n",
              "        }\n",
              "      </script>\n",
              "    </div>\n",
              "  </div>\n",
              "  "
            ]
          },
          "metadata": {},
          "execution_count": 86
        }
      ]
    },
    {
      "cell_type": "code",
      "source": [
        "def get_kfold_rmse(train):\n",
        "    mse_scores = []\n",
        "\n",
        "    for train_index, test_index in kf.split(train):\n",
        "        train = train.fillna(0)\n",
        "        feats = [x for x in train.columns if x not in ['Id', 'SalePrice', 'RoofStyle', 'CentralAir']]\n",
        "        \n",
        "        fold_train, fold_test = train.loc[train_index], train.loc[test_index]\n",
        "\n",
        "        # Fit the data and make predictions\n",
        "        # Create a Random Forest object\n",
        "        rf = RandomForestRegressor(n_estimators=10, min_samples_split=10, random_state=123)\n",
        "\n",
        "        # Train a model\n",
        "        rf.fit(X=fold_train[feats], y=fold_train['SalePrice'])\n",
        "\n",
        "        # Get predictions for the test set\n",
        "        pred = rf.predict(fold_test[feats])\n",
        "    \n",
        "        fold_score = mean_squared_error(fold_test['SalePrice'], pred)\n",
        "        mse_scores.append(np.sqrt(fold_score))\n",
        "        \n",
        "    return round(np.mean(mse_scores) + np.std(mse_scores), 2)"
      ],
      "metadata": {
        "id": "h3-BTMDT2twp"
      },
      "execution_count": 87,
      "outputs": []
    },
    {
      "cell_type": "code",
      "source": [
        "# Look at the initial RMSE\n",
        "print('RMSE before feature engineering:', get_kfold_rmse(train))\n",
        "\n",
        "# Find the total area of the house\n",
        "train['TotalArea'] = train['TotalBsmtSF'] + train['1stFlrSF'] + train['2ndFlrSF']\n",
        "print('RMSE with total area:', get_kfold_rmse(train))\n",
        "\n",
        "# Find the area of the garden\n",
        "train['GardenArea'] = train['LotArea'] - train['1stFlrSF']\n",
        "print('RMSE with garden area:', get_kfold_rmse(train))\n",
        "\n",
        "# Find total number of bathrooms\n",
        "train['TotalBath'] = train['FullBath'] + train['HalfBath']\n",
        "print('RMSE with number of bathrooms:', get_kfold_rmse(train))\n",
        "\n",
        "# showing the prices of houses and how much they increased or decreased with the new info \n",
        "# adding garden area improved the model by $600 "
      ],
      "metadata": {
        "colab": {
          "base_uri": "https://localhost:8080/"
        },
        "id": "n7Vxsh9v2-gw",
        "outputId": "1d2d3eeb-eef1-4160-deee-a13a47f0453d"
      },
      "execution_count": 88,
      "outputs": [
        {
          "output_type": "stream",
          "name": "stdout",
          "text": [
            "RMSE before feature engineering: 39774.72\n",
            "RMSE with total area: 36823.99\n",
            "RMSE with garden area: 36736.5\n",
            "RMSE with number of bathrooms: 36624.96\n"
          ]
        }
      ]
    },
    {
      "cell_type": "markdown",
      "source": [
        "# Date features\n",
        "You've built some basic features using numerical variables. Now, it's time to create features based on date and time. You will practice on a subsample from the Taxi Fare Prediction Kaggle competition data. The data represents information about the taxi rides and the goal is to predict the price for each ride.\n",
        "\n",
        "Your objective is to generate date features from the pickup datetime. Recall that it's better to create new features for train and test data simultaneously. After the features are created, split the data back into the train and test DataFrames. Here it's done using pandas' isin() method.\n",
        "\n",
        "The train and test DataFrames are already available in your workspace."
      ],
      "metadata": {
        "id": "ZTbK-Ml35177"
      }
    },
    {
      "cell_type": "code",
      "source": [
        "train= pd.read_csv('taxi_train_chapter_4.csv')\n",
        "test= pd.read_csv('taxi_test_chapter_4.csv')\n",
        "train.head()"
      ],
      "metadata": {
        "colab": {
          "base_uri": "https://localhost:8080/",
          "height": 206
        },
        "id": "dJGpQ2U03old",
        "outputId": "530f56fb-e2bf-4940-ce03-e2ea7c0bb40f"
      },
      "execution_count": 93,
      "outputs": [
        {
          "output_type": "execute_result",
          "data": {
            "text/plain": [
              "   id  fare_amount          pickup_datetime  pickup_longitude  \\\n",
              "0   0          4.5  2009-06-15 17:26:21 UTC        -73.844311   \n",
              "1   1         16.9  2010-01-05 16:52:16 UTC        -74.016048   \n",
              "2   2          5.7  2011-08-18 00:35:00 UTC        -73.982738   \n",
              "3   3          7.7  2012-04-21 04:30:42 UTC        -73.987130   \n",
              "4   4          5.3  2010-03-09 07:51:00 UTC        -73.968095   \n",
              "\n",
              "   pickup_latitude  dropoff_longitude  dropoff_latitude  passenger_count  \n",
              "0        40.721319         -73.841610         40.712278                1  \n",
              "1        40.711303         -73.979268         40.782004                1  \n",
              "2        40.761270         -73.991242         40.750562                2  \n",
              "3        40.733143         -73.991567         40.758092                1  \n",
              "4        40.768008         -73.956655         40.783762                1  "
            ],
            "text/html": [
              "\n",
              "  <div id=\"df-bd9609da-0a28-46c6-9041-d1c6e8617037\">\n",
              "    <div class=\"colab-df-container\">\n",
              "      <div>\n",
              "<style scoped>\n",
              "    .dataframe tbody tr th:only-of-type {\n",
              "        vertical-align: middle;\n",
              "    }\n",
              "\n",
              "    .dataframe tbody tr th {\n",
              "        vertical-align: top;\n",
              "    }\n",
              "\n",
              "    .dataframe thead th {\n",
              "        text-align: right;\n",
              "    }\n",
              "</style>\n",
              "<table border=\"1\" class=\"dataframe\">\n",
              "  <thead>\n",
              "    <tr style=\"text-align: right;\">\n",
              "      <th></th>\n",
              "      <th>id</th>\n",
              "      <th>fare_amount</th>\n",
              "      <th>pickup_datetime</th>\n",
              "      <th>pickup_longitude</th>\n",
              "      <th>pickup_latitude</th>\n",
              "      <th>dropoff_longitude</th>\n",
              "      <th>dropoff_latitude</th>\n",
              "      <th>passenger_count</th>\n",
              "    </tr>\n",
              "  </thead>\n",
              "  <tbody>\n",
              "    <tr>\n",
              "      <th>0</th>\n",
              "      <td>0</td>\n",
              "      <td>4.5</td>\n",
              "      <td>2009-06-15 17:26:21 UTC</td>\n",
              "      <td>-73.844311</td>\n",
              "      <td>40.721319</td>\n",
              "      <td>-73.841610</td>\n",
              "      <td>40.712278</td>\n",
              "      <td>1</td>\n",
              "    </tr>\n",
              "    <tr>\n",
              "      <th>1</th>\n",
              "      <td>1</td>\n",
              "      <td>16.9</td>\n",
              "      <td>2010-01-05 16:52:16 UTC</td>\n",
              "      <td>-74.016048</td>\n",
              "      <td>40.711303</td>\n",
              "      <td>-73.979268</td>\n",
              "      <td>40.782004</td>\n",
              "      <td>1</td>\n",
              "    </tr>\n",
              "    <tr>\n",
              "      <th>2</th>\n",
              "      <td>2</td>\n",
              "      <td>5.7</td>\n",
              "      <td>2011-08-18 00:35:00 UTC</td>\n",
              "      <td>-73.982738</td>\n",
              "      <td>40.761270</td>\n",
              "      <td>-73.991242</td>\n",
              "      <td>40.750562</td>\n",
              "      <td>2</td>\n",
              "    </tr>\n",
              "    <tr>\n",
              "      <th>3</th>\n",
              "      <td>3</td>\n",
              "      <td>7.7</td>\n",
              "      <td>2012-04-21 04:30:42 UTC</td>\n",
              "      <td>-73.987130</td>\n",
              "      <td>40.733143</td>\n",
              "      <td>-73.991567</td>\n",
              "      <td>40.758092</td>\n",
              "      <td>1</td>\n",
              "    </tr>\n",
              "    <tr>\n",
              "      <th>4</th>\n",
              "      <td>4</td>\n",
              "      <td>5.3</td>\n",
              "      <td>2010-03-09 07:51:00 UTC</td>\n",
              "      <td>-73.968095</td>\n",
              "      <td>40.768008</td>\n",
              "      <td>-73.956655</td>\n",
              "      <td>40.783762</td>\n",
              "      <td>1</td>\n",
              "    </tr>\n",
              "  </tbody>\n",
              "</table>\n",
              "</div>\n",
              "      <button class=\"colab-df-convert\" onclick=\"convertToInteractive('df-bd9609da-0a28-46c6-9041-d1c6e8617037')\"\n",
              "              title=\"Convert this dataframe to an interactive table.\"\n",
              "              style=\"display:none;\">\n",
              "        \n",
              "  <svg xmlns=\"http://www.w3.org/2000/svg\" height=\"24px\"viewBox=\"0 0 24 24\"\n",
              "       width=\"24px\">\n",
              "    <path d=\"M0 0h24v24H0V0z\" fill=\"none\"/>\n",
              "    <path d=\"M18.56 5.44l.94 2.06.94-2.06 2.06-.94-2.06-.94-.94-2.06-.94 2.06-2.06.94zm-11 1L8.5 8.5l.94-2.06 2.06-.94-2.06-.94L8.5 2.5l-.94 2.06-2.06.94zm10 10l.94 2.06.94-2.06 2.06-.94-2.06-.94-.94-2.06-.94 2.06-2.06.94z\"/><path d=\"M17.41 7.96l-1.37-1.37c-.4-.4-.92-.59-1.43-.59-.52 0-1.04.2-1.43.59L10.3 9.45l-7.72 7.72c-.78.78-.78 2.05 0 2.83L4 21.41c.39.39.9.59 1.41.59.51 0 1.02-.2 1.41-.59l7.78-7.78 2.81-2.81c.8-.78.8-2.07 0-2.86zM5.41 20L4 18.59l7.72-7.72 1.47 1.35L5.41 20z\"/>\n",
              "  </svg>\n",
              "      </button>\n",
              "      \n",
              "  <style>\n",
              "    .colab-df-container {\n",
              "      display:flex;\n",
              "      flex-wrap:wrap;\n",
              "      gap: 12px;\n",
              "    }\n",
              "\n",
              "    .colab-df-convert {\n",
              "      background-color: #E8F0FE;\n",
              "      border: none;\n",
              "      border-radius: 50%;\n",
              "      cursor: pointer;\n",
              "      display: none;\n",
              "      fill: #1967D2;\n",
              "      height: 32px;\n",
              "      padding: 0 0 0 0;\n",
              "      width: 32px;\n",
              "    }\n",
              "\n",
              "    .colab-df-convert:hover {\n",
              "      background-color: #E2EBFA;\n",
              "      box-shadow: 0px 1px 2px rgba(60, 64, 67, 0.3), 0px 1px 3px 1px rgba(60, 64, 67, 0.15);\n",
              "      fill: #174EA6;\n",
              "    }\n",
              "\n",
              "    [theme=dark] .colab-df-convert {\n",
              "      background-color: #3B4455;\n",
              "      fill: #D2E3FC;\n",
              "    }\n",
              "\n",
              "    [theme=dark] .colab-df-convert:hover {\n",
              "      background-color: #434B5C;\n",
              "      box-shadow: 0px 1px 3px 1px rgba(0, 0, 0, 0.15);\n",
              "      filter: drop-shadow(0px 1px 2px rgba(0, 0, 0, 0.3));\n",
              "      fill: #FFFFFF;\n",
              "    }\n",
              "  </style>\n",
              "\n",
              "      <script>\n",
              "        const buttonEl =\n",
              "          document.querySelector('#df-bd9609da-0a28-46c6-9041-d1c6e8617037 button.colab-df-convert');\n",
              "        buttonEl.style.display =\n",
              "          google.colab.kernel.accessAllowed ? 'block' : 'none';\n",
              "\n",
              "        async function convertToInteractive(key) {\n",
              "          const element = document.querySelector('#df-bd9609da-0a28-46c6-9041-d1c6e8617037');\n",
              "          const dataTable =\n",
              "            await google.colab.kernel.invokeFunction('convertToInteractive',\n",
              "                                                     [key], {});\n",
              "          if (!dataTable) return;\n",
              "\n",
              "          const docLinkHtml = 'Like what you see? Visit the ' +\n",
              "            '<a target=\"_blank\" href=https://colab.research.google.com/notebooks/data_table.ipynb>data table notebook</a>'\n",
              "            + ' to learn more about interactive tables.';\n",
              "          element.innerHTML = '';\n",
              "          dataTable['output_type'] = 'display_data';\n",
              "          await google.colab.output.renderOutput(dataTable, element);\n",
              "          const docLink = document.createElement('div');\n",
              "          docLink.innerHTML = docLinkHtml;\n",
              "          element.appendChild(docLink);\n",
              "        }\n",
              "      </script>\n",
              "    </div>\n",
              "  </div>\n",
              "  "
            ]
          },
          "metadata": {},
          "execution_count": 93
        }
      ]
    },
    {
      "cell_type": "code",
      "source": [
        "# Concatenate train and test together\n",
        "taxi = pd.concat([train, test])\n",
        "\n",
        "# Convert pickup date to datetime object\n",
        "taxi['pickup_datetime'] = pd.to_datetime(taxi['pickup_datetime'])\n",
        "\n",
        "# Create a day of week feature\n",
        "taxi['dayofweek'] = taxi['pickup_datetime'].dt.dayofweek\n",
        "\n",
        "# Create an hour feature\n",
        "taxi['hour'] = taxi['pickup_datetime'].dt.hour\n",
        "\n",
        "# Split back into train and test\n",
        "new_train = taxi[taxi['id'].isin(train['id'])]\n",
        "new_test = taxi[taxi['id'].isin(test['id'])]"
      ],
      "metadata": {
        "id": "cW0F9CJH6GTM"
      },
      "execution_count": 94,
      "outputs": []
    },
    {
      "cell_type": "markdown",
      "source": [
        "# Label encoding\n",
        "Let's work on categorical variables encoding. You will again work with a subsample from the House Prices Kaggle competition.\n",
        "\n",
        "Your objective is to encode categorical features \"RoofStyle\" and \"CentralAir\" using label encoding. The train and test DataFrames are already available in your workspace."
      ],
      "metadata": {
        "id": "G1F6913o7evm"
      }
    },
    {
      "cell_type": "code",
      "source": [
        "train= pd.read_csv('house_prices_train.csv')\n",
        "test= pd.read_csv('house_prices_test.csv')\n",
        "train.head()"
      ],
      "metadata": {
        "colab": {
          "base_uri": "https://localhost:8080/",
          "height": 270
        },
        "id": "1qigYrIB6Udf",
        "outputId": "1255784b-bd26-4794-90b6-851a8c75dacb"
      },
      "execution_count": 95,
      "outputs": [
        {
          "output_type": "execute_result",
          "data": {
            "text/plain": [
              "   Id  LotArea  OverallQual  YearBuilt RoofStyle  TotalBsmtSF CentralAir  \\\n",
              "0   1     8450            7       2003     Gable          856          Y   \n",
              "1   2     9600            6       1976     Gable         1262          Y   \n",
              "2   3    11250            7       2001     Gable          920          Y   \n",
              "3   4     9550            7       1915     Gable          756          Y   \n",
              "4   5    14260            8       2000     Gable         1145          Y   \n",
              "\n",
              "   1stFlrSF  2ndFlrSF  FullBath  HalfBath  BedroomAbvGr  KitchenAbvGr  \\\n",
              "0       856       854         2         1             3             1   \n",
              "1      1262         0         2         0             3             1   \n",
              "2       920       866         2         1             3             1   \n",
              "3       961       756         1         0             3             1   \n",
              "4      1145      1053         2         1             4             1   \n",
              "\n",
              "   TotRmsAbvGrd  GarageCars  GarageArea  SalePrice  \n",
              "0             8           2         548     208500  \n",
              "1             6           2         460     181500  \n",
              "2             6           2         608     223500  \n",
              "3             7           3         642     140000  \n",
              "4             9           3         836     250000  "
            ],
            "text/html": [
              "\n",
              "  <div id=\"df-d8e8add2-4dee-4d4c-ab67-820fd14d09de\">\n",
              "    <div class=\"colab-df-container\">\n",
              "      <div>\n",
              "<style scoped>\n",
              "    .dataframe tbody tr th:only-of-type {\n",
              "        vertical-align: middle;\n",
              "    }\n",
              "\n",
              "    .dataframe tbody tr th {\n",
              "        vertical-align: top;\n",
              "    }\n",
              "\n",
              "    .dataframe thead th {\n",
              "        text-align: right;\n",
              "    }\n",
              "</style>\n",
              "<table border=\"1\" class=\"dataframe\">\n",
              "  <thead>\n",
              "    <tr style=\"text-align: right;\">\n",
              "      <th></th>\n",
              "      <th>Id</th>\n",
              "      <th>LotArea</th>\n",
              "      <th>OverallQual</th>\n",
              "      <th>YearBuilt</th>\n",
              "      <th>RoofStyle</th>\n",
              "      <th>TotalBsmtSF</th>\n",
              "      <th>CentralAir</th>\n",
              "      <th>1stFlrSF</th>\n",
              "      <th>2ndFlrSF</th>\n",
              "      <th>FullBath</th>\n",
              "      <th>HalfBath</th>\n",
              "      <th>BedroomAbvGr</th>\n",
              "      <th>KitchenAbvGr</th>\n",
              "      <th>TotRmsAbvGrd</th>\n",
              "      <th>GarageCars</th>\n",
              "      <th>GarageArea</th>\n",
              "      <th>SalePrice</th>\n",
              "    </tr>\n",
              "  </thead>\n",
              "  <tbody>\n",
              "    <tr>\n",
              "      <th>0</th>\n",
              "      <td>1</td>\n",
              "      <td>8450</td>\n",
              "      <td>7</td>\n",
              "      <td>2003</td>\n",
              "      <td>Gable</td>\n",
              "      <td>856</td>\n",
              "      <td>Y</td>\n",
              "      <td>856</td>\n",
              "      <td>854</td>\n",
              "      <td>2</td>\n",
              "      <td>1</td>\n",
              "      <td>3</td>\n",
              "      <td>1</td>\n",
              "      <td>8</td>\n",
              "      <td>2</td>\n",
              "      <td>548</td>\n",
              "      <td>208500</td>\n",
              "    </tr>\n",
              "    <tr>\n",
              "      <th>1</th>\n",
              "      <td>2</td>\n",
              "      <td>9600</td>\n",
              "      <td>6</td>\n",
              "      <td>1976</td>\n",
              "      <td>Gable</td>\n",
              "      <td>1262</td>\n",
              "      <td>Y</td>\n",
              "      <td>1262</td>\n",
              "      <td>0</td>\n",
              "      <td>2</td>\n",
              "      <td>0</td>\n",
              "      <td>3</td>\n",
              "      <td>1</td>\n",
              "      <td>6</td>\n",
              "      <td>2</td>\n",
              "      <td>460</td>\n",
              "      <td>181500</td>\n",
              "    </tr>\n",
              "    <tr>\n",
              "      <th>2</th>\n",
              "      <td>3</td>\n",
              "      <td>11250</td>\n",
              "      <td>7</td>\n",
              "      <td>2001</td>\n",
              "      <td>Gable</td>\n",
              "      <td>920</td>\n",
              "      <td>Y</td>\n",
              "      <td>920</td>\n",
              "      <td>866</td>\n",
              "      <td>2</td>\n",
              "      <td>1</td>\n",
              "      <td>3</td>\n",
              "      <td>1</td>\n",
              "      <td>6</td>\n",
              "      <td>2</td>\n",
              "      <td>608</td>\n",
              "      <td>223500</td>\n",
              "    </tr>\n",
              "    <tr>\n",
              "      <th>3</th>\n",
              "      <td>4</td>\n",
              "      <td>9550</td>\n",
              "      <td>7</td>\n",
              "      <td>1915</td>\n",
              "      <td>Gable</td>\n",
              "      <td>756</td>\n",
              "      <td>Y</td>\n",
              "      <td>961</td>\n",
              "      <td>756</td>\n",
              "      <td>1</td>\n",
              "      <td>0</td>\n",
              "      <td>3</td>\n",
              "      <td>1</td>\n",
              "      <td>7</td>\n",
              "      <td>3</td>\n",
              "      <td>642</td>\n",
              "      <td>140000</td>\n",
              "    </tr>\n",
              "    <tr>\n",
              "      <th>4</th>\n",
              "      <td>5</td>\n",
              "      <td>14260</td>\n",
              "      <td>8</td>\n",
              "      <td>2000</td>\n",
              "      <td>Gable</td>\n",
              "      <td>1145</td>\n",
              "      <td>Y</td>\n",
              "      <td>1145</td>\n",
              "      <td>1053</td>\n",
              "      <td>2</td>\n",
              "      <td>1</td>\n",
              "      <td>4</td>\n",
              "      <td>1</td>\n",
              "      <td>9</td>\n",
              "      <td>3</td>\n",
              "      <td>836</td>\n",
              "      <td>250000</td>\n",
              "    </tr>\n",
              "  </tbody>\n",
              "</table>\n",
              "</div>\n",
              "      <button class=\"colab-df-convert\" onclick=\"convertToInteractive('df-d8e8add2-4dee-4d4c-ab67-820fd14d09de')\"\n",
              "              title=\"Convert this dataframe to an interactive table.\"\n",
              "              style=\"display:none;\">\n",
              "        \n",
              "  <svg xmlns=\"http://www.w3.org/2000/svg\" height=\"24px\"viewBox=\"0 0 24 24\"\n",
              "       width=\"24px\">\n",
              "    <path d=\"M0 0h24v24H0V0z\" fill=\"none\"/>\n",
              "    <path d=\"M18.56 5.44l.94 2.06.94-2.06 2.06-.94-2.06-.94-.94-2.06-.94 2.06-2.06.94zm-11 1L8.5 8.5l.94-2.06 2.06-.94-2.06-.94L8.5 2.5l-.94 2.06-2.06.94zm10 10l.94 2.06.94-2.06 2.06-.94-2.06-.94-.94-2.06-.94 2.06-2.06.94z\"/><path d=\"M17.41 7.96l-1.37-1.37c-.4-.4-.92-.59-1.43-.59-.52 0-1.04.2-1.43.59L10.3 9.45l-7.72 7.72c-.78.78-.78 2.05 0 2.83L4 21.41c.39.39.9.59 1.41.59.51 0 1.02-.2 1.41-.59l7.78-7.78 2.81-2.81c.8-.78.8-2.07 0-2.86zM5.41 20L4 18.59l7.72-7.72 1.47 1.35L5.41 20z\"/>\n",
              "  </svg>\n",
              "      </button>\n",
              "      \n",
              "  <style>\n",
              "    .colab-df-container {\n",
              "      display:flex;\n",
              "      flex-wrap:wrap;\n",
              "      gap: 12px;\n",
              "    }\n",
              "\n",
              "    .colab-df-convert {\n",
              "      background-color: #E8F0FE;\n",
              "      border: none;\n",
              "      border-radius: 50%;\n",
              "      cursor: pointer;\n",
              "      display: none;\n",
              "      fill: #1967D2;\n",
              "      height: 32px;\n",
              "      padding: 0 0 0 0;\n",
              "      width: 32px;\n",
              "    }\n",
              "\n",
              "    .colab-df-convert:hover {\n",
              "      background-color: #E2EBFA;\n",
              "      box-shadow: 0px 1px 2px rgba(60, 64, 67, 0.3), 0px 1px 3px 1px rgba(60, 64, 67, 0.15);\n",
              "      fill: #174EA6;\n",
              "    }\n",
              "\n",
              "    [theme=dark] .colab-df-convert {\n",
              "      background-color: #3B4455;\n",
              "      fill: #D2E3FC;\n",
              "    }\n",
              "\n",
              "    [theme=dark] .colab-df-convert:hover {\n",
              "      background-color: #434B5C;\n",
              "      box-shadow: 0px 1px 3px 1px rgba(0, 0, 0, 0.15);\n",
              "      filter: drop-shadow(0px 1px 2px rgba(0, 0, 0, 0.3));\n",
              "      fill: #FFFFFF;\n",
              "    }\n",
              "  </style>\n",
              "\n",
              "      <script>\n",
              "        const buttonEl =\n",
              "          document.querySelector('#df-d8e8add2-4dee-4d4c-ab67-820fd14d09de button.colab-df-convert');\n",
              "        buttonEl.style.display =\n",
              "          google.colab.kernel.accessAllowed ? 'block' : 'none';\n",
              "\n",
              "        async function convertToInteractive(key) {\n",
              "          const element = document.querySelector('#df-d8e8add2-4dee-4d4c-ab67-820fd14d09de');\n",
              "          const dataTable =\n",
              "            await google.colab.kernel.invokeFunction('convertToInteractive',\n",
              "                                                     [key], {});\n",
              "          if (!dataTable) return;\n",
              "\n",
              "          const docLinkHtml = 'Like what you see? Visit the ' +\n",
              "            '<a target=\"_blank\" href=https://colab.research.google.com/notebooks/data_table.ipynb>data table notebook</a>'\n",
              "            + ' to learn more about interactive tables.';\n",
              "          element.innerHTML = '';\n",
              "          dataTable['output_type'] = 'display_data';\n",
              "          await google.colab.output.renderOutput(dataTable, element);\n",
              "          const docLink = document.createElement('div');\n",
              "          docLink.innerHTML = docLinkHtml;\n",
              "          element.appendChild(docLink);\n",
              "        }\n",
              "      </script>\n",
              "    </div>\n",
              "  </div>\n",
              "  "
            ]
          },
          "metadata": {},
          "execution_count": 95
        }
      ]
    },
    {
      "cell_type": "code",
      "source": [
        "# Concatenate train and test together\n",
        "houses = pd.concat([train, test])\n",
        "\n",
        "# Label encoder\n",
        "from sklearn.preprocessing import LabelEncoder\n",
        "le = LabelEncoder()\n",
        "\n",
        "# Create new features\n",
        "houses['RoofStyle_enc'] = le.fit_transform(houses['RoofStyle'])\n",
        "houses['CentralAir_enc'] = le.fit_transform(houses['CentralAir'])\n",
        "\n",
        "# Look at new features\n",
        "print(houses[['RoofStyle', 'RoofStyle_enc', 'CentralAir', 'CentralAir_enc']].head())"
      ],
      "metadata": {
        "colab": {
          "base_uri": "https://localhost:8080/"
        },
        "id": "X93tmvfM7igC",
        "outputId": "3681f2d4-e6cc-40c0-8f84-2890d9ef9377"
      },
      "execution_count": 96,
      "outputs": [
        {
          "output_type": "stream",
          "name": "stdout",
          "text": [
            "  RoofStyle  RoofStyle_enc CentralAir  CentralAir_enc\n",
            "0     Gable              1          Y               1\n",
            "1     Gable              1          Y               1\n",
            "2     Gable              1          Y               1\n",
            "3     Gable              1          Y               1\n",
            "4     Gable              1          Y               1\n"
          ]
        }
      ]
    },
    {
      "cell_type": "markdown",
      "source": [
        "# One-Hot encoding\n",
        "The problem with label encoding is that it implicitly assumes that there is a ranking dependency between the categories. So, let's change the encoding method for the features \"RoofStyle\" and \"CentralAir\" to one-hot encoding. Again, the train and test DataFrames from House Prices Kaggle competition are already available in your workspace.\n",
        "\n",
        "Recall that if you're dealing with binary features (categorical features with only two categories) it is suggested to apply label encoder only.\n",
        "\n",
        "Your goal is to determine which of the mentioned features is not binary, and to apply one-hot encoding only to this one."
      ],
      "metadata": {
        "id": "UhaZjJfiNDDG"
      }
    },
    {
      "cell_type": "code",
      "source": [
        "# Look at feature distributions\n",
        "print(houses['RoofStyle'].value_counts(), '\\n')\n",
        "print(houses['CentralAir'].value_counts())\n",
        "\n",
        "# Central Air is binary so use label encoder \n",
        "# RoofStyle is not so use one hot encoding "
      ],
      "metadata": {
        "colab": {
          "base_uri": "https://localhost:8080/"
        },
        "id": "8-yznXZiM88W",
        "outputId": "75a7ebe4-51f7-447d-aaec-7b304da7c14a"
      },
      "execution_count": 97,
      "outputs": [
        {
          "output_type": "stream",
          "name": "stdout",
          "text": [
            "Gable      2310\n",
            "Hip         551\n",
            "Gambrel      22\n",
            "Flat         20\n",
            "Mansard      11\n",
            "Shed          5\n",
            "Name: RoofStyle, dtype: int64 \n",
            "\n",
            "Y    2723\n",
            "N     196\n",
            "Name: CentralAir, dtype: int64\n"
          ]
        }
      ]
    },
    {
      "cell_type": "code",
      "source": [
        "# Concatenate train and test together\n",
        "houses = pd.concat([train, test])\n",
        "\n",
        "# Label encode binary 'CentralAir' feature\n",
        "from sklearn.preprocessing import LabelEncoder\n",
        "le = LabelEncoder()\n",
        "houses['CentralAir_enc'] = le.fit_transform(houses['CentralAir'])\n",
        "\n",
        "# Create One-Hot encoded features\n",
        "ohe = pd.get_dummies(houses['RoofStyle'], prefix='RoofStyle')\n",
        "\n",
        "# Concatenate OHE features to houses\n",
        "houses = pd.concat([houses, ohe], axis=1)\n",
        "\n",
        "# Look at OHE features\n",
        "print(houses[[col for col in houses.columns if 'RoofStyle' in col]].head(3))"
      ],
      "metadata": {
        "colab": {
          "base_uri": "https://localhost:8080/"
        },
        "id": "wTHnkXO8NU_x",
        "outputId": "b8dac1cb-eb6a-427c-b4f9-8082c850462d"
      },
      "execution_count": 98,
      "outputs": [
        {
          "output_type": "stream",
          "name": "stdout",
          "text": [
            "  RoofStyle  RoofStyle_Flat  RoofStyle_Gable  RoofStyle_Gambrel  \\\n",
            "0     Gable               0                1                  0   \n",
            "1     Gable               0                1                  0   \n",
            "2     Gable               0                1                  0   \n",
            "\n",
            "   RoofStyle_Hip  RoofStyle_Mansard  RoofStyle_Shed  \n",
            "0              0                  0               0  \n",
            "1              0                  0               0  \n",
            "2              0                  0               0  \n"
          ]
        }
      ]
    },
    {
      "cell_type": "markdown",
      "source": [
        "# Mean target encoding\n",
        "First of all, you will create a function that implements mean target encoding. Remember that you need to develop the two following steps:\n",
        "\n",
        "Calculate the mean on the train, apply to the test\n",
        "\n",
        "Split train into K folds. Calculate the out-of-fold mean for each fold, apply to this particular fold\n",
        "\n",
        "Each of these steps will be implemented in a separate function: test_mean_target_encoding() and train_mean_target_encoding(), respectively.\n",
        "\n",
        "The final function mean_target_encoding() takes as arguments: the train and test DataFrames, the name of the categorical column to be encoded, the name of the target column and a smoothing parameter alpha. It returns two values: a new feature for train and test DataFrames, respectively."
      ],
      "metadata": {
        "id": "CZDPBVVCZ16W"
      }
    },
    {
      "cell_type": "code",
      "source": [
        "def test_mean_target_encoding(train, test, target, categorical, alpha=5):\n",
        "    # Calculate global mean on the train data\n",
        "    global_mean = train[target].mean()\n",
        "    \n",
        "    # Group by the categorical feature and calculate its properties\n",
        "    train_groups = train.groupby(categorical)\n",
        "    category_sum = train_groups[target].sum()\n",
        "    category_size = train_groups.size()\n",
        "    \n",
        "    # Calculate smoothed mean target statistics\n",
        "    train_statistics = (category_sum + global_mean * alpha) / (category_size + alpha)\n",
        "    \n",
        "    # Apply statistics to the test data and fill new categories\n",
        "    test_feature = test[categorical].map(train_statistics).fillna(global_mean)\n",
        "    return test_feature.values"
      ],
      "metadata": {
        "id": "uf5OobO3ON_Z"
      },
      "execution_count": 99,
      "outputs": []
    },
    {
      "cell_type": "code",
      "source": [
        "def train_mean_target_encoding(train, target, categorical, alpha=5):\n",
        "    # Create 5-fold cross-validation\n",
        "    kf = KFold(n_splits=5, random_state=123, shuffle=True)\n",
        "    train_feature = pd.Series(index=train.index)\n",
        "    \n",
        "    # For each folds split\n",
        "    for train_index, test_index in kf.split(train):\n",
        "        cv_train, cv_test = train.iloc[train_index], train.iloc[test_index]\n",
        "      \n",
        "        # Calculate out-of-fold statistics and apply to cv_test\n",
        "        cv_test_feature = test_mean_target_encoding(cv_train, cv_test, target, categorical, alpha)\n",
        "        \n",
        "        # Save new feature for this particular fold\n",
        "        train_feature.iloc[test_index] = cv_test_feature       \n",
        "    return train_feature.values"
      ],
      "metadata": {
        "id": "BtxVgBR8a1XT"
      },
      "execution_count": 100,
      "outputs": []
    },
    {
      "cell_type": "code",
      "source": [
        "def mean_target_encoding(train, test, target, categorical, alpha=5):\n",
        "  \n",
        "    # Get the train feature\n",
        "    train_feature = train_mean_target_encoding(train, target, categorical, alpha)\n",
        "  \n",
        "    # Get the test feature\n",
        "    test_feature = test_mean_target_encoding(train, test, target, categorical, alpha)\n",
        "    \n",
        "    # Return new features to add to the model\n",
        "    return train_feature, test_feature"
      ],
      "metadata": {
        "id": "zHdGwfd9a_xV"
      },
      "execution_count": 101,
      "outputs": []
    },
    {
      "cell_type": "markdown",
      "source": [
        "# K-fold cross-validation\n",
        "You will work with a binary classification problem on a subsample from Kaggle playground competition. The objective of this competition is to predict whether a famous basketball player Kobe Bryant scored a basket or missed a particular shot.\n",
        "\n",
        "Train data is available in your workspace as bryant_shots DataFrame. It contains data on 10,000 shots with its properties and a target variable \"shot\\_made\\_flag\" -- whether shot was scored or not.\n",
        "\n",
        "One of the features in the data is \"game_id\" -- a particular game where the shot was made. There are 541 distinct games. So, you deal with a high-cardinality categorical feature. Let's encode it using a target mean!\n",
        "\n",
        "Suppose you're using 5-fold cross-validation and want to evaluate a mean target encoded feature on the local validation."
      ],
      "metadata": {
        "id": "4p6ccwYfbPot"
      }
    },
    {
      "cell_type": "code",
      "source": [
        "import pandas as pd\n",
        "bryant_shots= pd.read_csv('data.csv')\n",
        "bryant_shots=bryant_shots[['shot_id', 'game_id', 'lat', 'lon', 'minutes_remaining', 'playoffs', 'season', 'shot_distance', 'shot_type', 'shot_made_flag']]\n",
        "bryant_shots=bryant_shots.iloc[0:10000]\n",
        "bryant_shots.head()"
      ],
      "metadata": {
        "colab": {
          "base_uri": "https://localhost:8080/",
          "height": 206
        },
        "id": "tjVa9oA3bFX5",
        "outputId": "c12d68ff-00f5-436c-8052-c43f77a3b59d"
      },
      "execution_count": 102,
      "outputs": [
        {
          "output_type": "execute_result",
          "data": {
            "text/plain": [
              "   shot_id   game_id      lat       lon  minutes_remaining  playoffs   season  \\\n",
              "0        1  20000012  33.9723 -118.1028                 10         0  2000-01   \n",
              "1        2  20000012  34.0443 -118.4268                 10         0  2000-01   \n",
              "2        3  20000012  33.9093 -118.3708                  7         0  2000-01   \n",
              "3        4  20000012  33.8693 -118.1318                  6         0  2000-01   \n",
              "4        5  20000012  34.0443 -118.2698                  6         0  2000-01   \n",
              "\n",
              "   shot_distance       shot_type  shot_made_flag  \n",
              "0             18  2PT Field Goal             NaN  \n",
              "1             15  2PT Field Goal             0.0  \n",
              "2             16  2PT Field Goal             1.0  \n",
              "3             22  2PT Field Goal             0.0  \n",
              "4              0  2PT Field Goal             1.0  "
            ],
            "text/html": [
              "\n",
              "  <div id=\"df-f18af679-6b2f-4697-b5eb-7cbcc9f3f150\">\n",
              "    <div class=\"colab-df-container\">\n",
              "      <div>\n",
              "<style scoped>\n",
              "    .dataframe tbody tr th:only-of-type {\n",
              "        vertical-align: middle;\n",
              "    }\n",
              "\n",
              "    .dataframe tbody tr th {\n",
              "        vertical-align: top;\n",
              "    }\n",
              "\n",
              "    .dataframe thead th {\n",
              "        text-align: right;\n",
              "    }\n",
              "</style>\n",
              "<table border=\"1\" class=\"dataframe\">\n",
              "  <thead>\n",
              "    <tr style=\"text-align: right;\">\n",
              "      <th></th>\n",
              "      <th>shot_id</th>\n",
              "      <th>game_id</th>\n",
              "      <th>lat</th>\n",
              "      <th>lon</th>\n",
              "      <th>minutes_remaining</th>\n",
              "      <th>playoffs</th>\n",
              "      <th>season</th>\n",
              "      <th>shot_distance</th>\n",
              "      <th>shot_type</th>\n",
              "      <th>shot_made_flag</th>\n",
              "    </tr>\n",
              "  </thead>\n",
              "  <tbody>\n",
              "    <tr>\n",
              "      <th>0</th>\n",
              "      <td>1</td>\n",
              "      <td>20000012</td>\n",
              "      <td>33.9723</td>\n",
              "      <td>-118.1028</td>\n",
              "      <td>10</td>\n",
              "      <td>0</td>\n",
              "      <td>2000-01</td>\n",
              "      <td>18</td>\n",
              "      <td>2PT Field Goal</td>\n",
              "      <td>NaN</td>\n",
              "    </tr>\n",
              "    <tr>\n",
              "      <th>1</th>\n",
              "      <td>2</td>\n",
              "      <td>20000012</td>\n",
              "      <td>34.0443</td>\n",
              "      <td>-118.4268</td>\n",
              "      <td>10</td>\n",
              "      <td>0</td>\n",
              "      <td>2000-01</td>\n",
              "      <td>15</td>\n",
              "      <td>2PT Field Goal</td>\n",
              "      <td>0.0</td>\n",
              "    </tr>\n",
              "    <tr>\n",
              "      <th>2</th>\n",
              "      <td>3</td>\n",
              "      <td>20000012</td>\n",
              "      <td>33.9093</td>\n",
              "      <td>-118.3708</td>\n",
              "      <td>7</td>\n",
              "      <td>0</td>\n",
              "      <td>2000-01</td>\n",
              "      <td>16</td>\n",
              "      <td>2PT Field Goal</td>\n",
              "      <td>1.0</td>\n",
              "    </tr>\n",
              "    <tr>\n",
              "      <th>3</th>\n",
              "      <td>4</td>\n",
              "      <td>20000012</td>\n",
              "      <td>33.8693</td>\n",
              "      <td>-118.1318</td>\n",
              "      <td>6</td>\n",
              "      <td>0</td>\n",
              "      <td>2000-01</td>\n",
              "      <td>22</td>\n",
              "      <td>2PT Field Goal</td>\n",
              "      <td>0.0</td>\n",
              "    </tr>\n",
              "    <tr>\n",
              "      <th>4</th>\n",
              "      <td>5</td>\n",
              "      <td>20000012</td>\n",
              "      <td>34.0443</td>\n",
              "      <td>-118.2698</td>\n",
              "      <td>6</td>\n",
              "      <td>0</td>\n",
              "      <td>2000-01</td>\n",
              "      <td>0</td>\n",
              "      <td>2PT Field Goal</td>\n",
              "      <td>1.0</td>\n",
              "    </tr>\n",
              "  </tbody>\n",
              "</table>\n",
              "</div>\n",
              "      <button class=\"colab-df-convert\" onclick=\"convertToInteractive('df-f18af679-6b2f-4697-b5eb-7cbcc9f3f150')\"\n",
              "              title=\"Convert this dataframe to an interactive table.\"\n",
              "              style=\"display:none;\">\n",
              "        \n",
              "  <svg xmlns=\"http://www.w3.org/2000/svg\" height=\"24px\"viewBox=\"0 0 24 24\"\n",
              "       width=\"24px\">\n",
              "    <path d=\"M0 0h24v24H0V0z\" fill=\"none\"/>\n",
              "    <path d=\"M18.56 5.44l.94 2.06.94-2.06 2.06-.94-2.06-.94-.94-2.06-.94 2.06-2.06.94zm-11 1L8.5 8.5l.94-2.06 2.06-.94-2.06-.94L8.5 2.5l-.94 2.06-2.06.94zm10 10l.94 2.06.94-2.06 2.06-.94-2.06-.94-.94-2.06-.94 2.06-2.06.94z\"/><path d=\"M17.41 7.96l-1.37-1.37c-.4-.4-.92-.59-1.43-.59-.52 0-1.04.2-1.43.59L10.3 9.45l-7.72 7.72c-.78.78-.78 2.05 0 2.83L4 21.41c.39.39.9.59 1.41.59.51 0 1.02-.2 1.41-.59l7.78-7.78 2.81-2.81c.8-.78.8-2.07 0-2.86zM5.41 20L4 18.59l7.72-7.72 1.47 1.35L5.41 20z\"/>\n",
              "  </svg>\n",
              "      </button>\n",
              "      \n",
              "  <style>\n",
              "    .colab-df-container {\n",
              "      display:flex;\n",
              "      flex-wrap:wrap;\n",
              "      gap: 12px;\n",
              "    }\n",
              "\n",
              "    .colab-df-convert {\n",
              "      background-color: #E8F0FE;\n",
              "      border: none;\n",
              "      border-radius: 50%;\n",
              "      cursor: pointer;\n",
              "      display: none;\n",
              "      fill: #1967D2;\n",
              "      height: 32px;\n",
              "      padding: 0 0 0 0;\n",
              "      width: 32px;\n",
              "    }\n",
              "\n",
              "    .colab-df-convert:hover {\n",
              "      background-color: #E2EBFA;\n",
              "      box-shadow: 0px 1px 2px rgba(60, 64, 67, 0.3), 0px 1px 3px 1px rgba(60, 64, 67, 0.15);\n",
              "      fill: #174EA6;\n",
              "    }\n",
              "\n",
              "    [theme=dark] .colab-df-convert {\n",
              "      background-color: #3B4455;\n",
              "      fill: #D2E3FC;\n",
              "    }\n",
              "\n",
              "    [theme=dark] .colab-df-convert:hover {\n",
              "      background-color: #434B5C;\n",
              "      box-shadow: 0px 1px 3px 1px rgba(0, 0, 0, 0.15);\n",
              "      filter: drop-shadow(0px 1px 2px rgba(0, 0, 0, 0.3));\n",
              "      fill: #FFFFFF;\n",
              "    }\n",
              "  </style>\n",
              "\n",
              "      <script>\n",
              "        const buttonEl =\n",
              "          document.querySelector('#df-f18af679-6b2f-4697-b5eb-7cbcc9f3f150 button.colab-df-convert');\n",
              "        buttonEl.style.display =\n",
              "          google.colab.kernel.accessAllowed ? 'block' : 'none';\n",
              "\n",
              "        async function convertToInteractive(key) {\n",
              "          const element = document.querySelector('#df-f18af679-6b2f-4697-b5eb-7cbcc9f3f150');\n",
              "          const dataTable =\n",
              "            await google.colab.kernel.invokeFunction('convertToInteractive',\n",
              "                                                     [key], {});\n",
              "          if (!dataTable) return;\n",
              "\n",
              "          const docLinkHtml = 'Like what you see? Visit the ' +\n",
              "            '<a target=\"_blank\" href=https://colab.research.google.com/notebooks/data_table.ipynb>data table notebook</a>'\n",
              "            + ' to learn more about interactive tables.';\n",
              "          element.innerHTML = '';\n",
              "          dataTable['output_type'] = 'display_data';\n",
              "          await google.colab.output.renderOutput(dataTable, element);\n",
              "          const docLink = document.createElement('div');\n",
              "          docLink.innerHTML = docLinkHtml;\n",
              "          element.appendChild(docLink);\n",
              "        }\n",
              "      </script>\n",
              "    </div>\n",
              "  </div>\n",
              "  "
            ]
          },
          "metadata": {},
          "execution_count": 102
        }
      ]
    },
    {
      "cell_type": "code",
      "source": [
        "from sklearn.model_selection import KFold\n",
        "# Create 5-fold cross-validation\n",
        "kf = KFold(n_splits=5, random_state=123, shuffle=True)\n",
        "\n",
        "# For each folds split\n",
        "for train_index, test_index in kf.split(bryant_shots):\n",
        "    cv_train, cv_test = bryant_shots.iloc[train_index], bryant_shots.iloc[test_index]\n",
        "\n",
        "    # Create mean target encoded feature\n",
        "    cv_train['game_id_enc'], cv_test['game_id_enc'] = mean_target_encoding(train=cv_train,\n",
        "                                                                           test=cv_test,\n",
        "                                                                           target='shot_made_flag',\n",
        "                                                                           categorical='game_id',\n",
        "                                                                           alpha=5)\n",
        "    # Look at the encoding\n",
        "    print(cv_train[['game_id', 'shot_made_flag', 'game_id_enc']].sample(n=1))"
      ],
      "metadata": {
        "colab": {
          "base_uri": "https://localhost:8080/"
        },
        "id": "dB44S_FMz_vk",
        "outputId": "f60f22d9-508a-4f6b-8037-3f809c811f67"
      },
      "execution_count": 103,
      "outputs": [
        {
          "output_type": "stream",
          "name": "stdout",
          "text": [
            "       game_id  shot_made_flag  game_id_enc\n",
            "7248  20400960             1.0     0.392645\n",
            "       game_id  shot_made_flag  game_id_enc\n",
            "1434  20001059             0.0     0.316941\n",
            "       game_id  shot_made_flag  game_id_enc\n",
            "1128  20000723             0.0     0.401367\n",
            "       game_id  shot_made_flag  game_id_enc\n",
            "6506  20400205             NaN     0.355225\n",
            "      game_id  shot_made_flag  game_id_enc\n",
            "177  20000124             0.0     0.426366\n"
          ]
        },
        {
          "output_type": "stream",
          "name": "stderr",
          "text": [
            "/usr/local/lib/python3.7/dist-packages/ipykernel_launcher.py:4: DeprecationWarning: The default dtype for empty Series will be 'object' instead of 'float64' in a future version. Specify a dtype explicitly to silence this warning.\n",
            "  after removing the cwd from sys.path.\n",
            "/usr/local/lib/python3.7/dist-packages/ipykernel_launcher.py:14: SettingWithCopyWarning: \n",
            "A value is trying to be set on a copy of a slice from a DataFrame.\n",
            "Try using .loc[row_indexer,col_indexer] = value instead\n",
            "\n",
            "See the caveats in the documentation: https://pandas.pydata.org/pandas-docs/stable/user_guide/indexing.html#returning-a-view-versus-a-copy\n",
            "  \n",
            "/usr/local/lib/python3.7/dist-packages/ipykernel_launcher.py:4: DeprecationWarning: The default dtype for empty Series will be 'object' instead of 'float64' in a future version. Specify a dtype explicitly to silence this warning.\n",
            "  after removing the cwd from sys.path.\n",
            "/usr/local/lib/python3.7/dist-packages/ipykernel_launcher.py:14: SettingWithCopyWarning: \n",
            "A value is trying to be set on a copy of a slice from a DataFrame.\n",
            "Try using .loc[row_indexer,col_indexer] = value instead\n",
            "\n",
            "See the caveats in the documentation: https://pandas.pydata.org/pandas-docs/stable/user_guide/indexing.html#returning-a-view-versus-a-copy\n",
            "  \n",
            "/usr/local/lib/python3.7/dist-packages/ipykernel_launcher.py:4: DeprecationWarning: The default dtype for empty Series will be 'object' instead of 'float64' in a future version. Specify a dtype explicitly to silence this warning.\n",
            "  after removing the cwd from sys.path.\n",
            "/usr/local/lib/python3.7/dist-packages/ipykernel_launcher.py:14: SettingWithCopyWarning: \n",
            "A value is trying to be set on a copy of a slice from a DataFrame.\n",
            "Try using .loc[row_indexer,col_indexer] = value instead\n",
            "\n",
            "See the caveats in the documentation: https://pandas.pydata.org/pandas-docs/stable/user_guide/indexing.html#returning-a-view-versus-a-copy\n",
            "  \n",
            "/usr/local/lib/python3.7/dist-packages/ipykernel_launcher.py:4: DeprecationWarning: The default dtype for empty Series will be 'object' instead of 'float64' in a future version. Specify a dtype explicitly to silence this warning.\n",
            "  after removing the cwd from sys.path.\n",
            "/usr/local/lib/python3.7/dist-packages/ipykernel_launcher.py:14: SettingWithCopyWarning: \n",
            "A value is trying to be set on a copy of a slice from a DataFrame.\n",
            "Try using .loc[row_indexer,col_indexer] = value instead\n",
            "\n",
            "See the caveats in the documentation: https://pandas.pydata.org/pandas-docs/stable/user_guide/indexing.html#returning-a-view-versus-a-copy\n",
            "  \n",
            "/usr/local/lib/python3.7/dist-packages/ipykernel_launcher.py:4: DeprecationWarning: The default dtype for empty Series will be 'object' instead of 'float64' in a future version. Specify a dtype explicitly to silence this warning.\n",
            "  after removing the cwd from sys.path.\n",
            "/usr/local/lib/python3.7/dist-packages/ipykernel_launcher.py:14: SettingWithCopyWarning: \n",
            "A value is trying to be set on a copy of a slice from a DataFrame.\n",
            "Try using .loc[row_indexer,col_indexer] = value instead\n",
            "\n",
            "See the caveats in the documentation: https://pandas.pydata.org/pandas-docs/stable/user_guide/indexing.html#returning-a-view-versus-a-copy\n",
            "  \n"
          ]
        }
      ]
    },
    {
      "cell_type": "markdown",
      "source": [
        "# Beyond binary classification\n",
        "Of course, binary classification is just a single special case. Target encoding could be applied to any target variable type:\n",
        "\n",
        "For binary classification usually mean target encoding is used\n",
        "\n",
        "For regression mean could be changed to median, quartiles, etc.\n",
        "\n",
        "For multi-class classification with N classes we create N features with target mean for each category in one vs. all fashion\n",
        "\n",
        "The mean_target_encoding() function you've created could be used for any target type specified above. Let's apply it for the regression problem on the example of House Prices Kaggle competition.\n",
        "\n",
        "Your goal is to encode a categorical feature \"RoofStyle\" using mean target encoding. The train and test DataFrames are already available in your workspace."
      ],
      "metadata": {
        "id": "ehfZJX6t15zQ"
      }
    },
    {
      "cell_type": "code",
      "source": [
        "train= pd.read_csv('house_prices_train.csv')\n",
        "test= pd.read_csv('house_prices_test.csv')"
      ],
      "metadata": {
        "id": "oOSd-gwU1pZ3"
      },
      "execution_count": 104,
      "outputs": []
    },
    {
      "cell_type": "code",
      "source": [
        "# Create mean target encoded feature\n",
        "train['RoofStyle_enc'], test['RoofStyle_enc'] = mean_target_encoding(train=train,\n",
        "                                                                     test=test,\n",
        "                                                                     target='SalePrice',\n",
        "                                                                     categorical='RoofStyle',\n",
        "                                                                     alpha=10)\n",
        "\n",
        "# Look at the encoding\n",
        "print(test[['RoofStyle', 'RoofStyle_enc']].drop_duplicates())\n",
        "\n",
        "#Hip is most pricey while Gambrel is cheapest "
      ],
      "metadata": {
        "colab": {
          "base_uri": "https://localhost:8080/"
        },
        "id": "KQVzQ3-s5Zfh",
        "outputId": "d4d635b5-0949-4896-d657-951d0c346027"
      },
      "execution_count": 105,
      "outputs": [
        {
          "output_type": "stream",
          "name": "stdout",
          "text": [
            "     RoofStyle  RoofStyle_enc\n",
            "0        Gable  171565.947836\n",
            "1          Hip  217594.645131\n",
            "98     Gambrel  164152.950424\n",
            "133       Flat  188703.563431\n",
            "362    Mansard  180775.938759\n",
            "1053      Shed  188267.663242\n"
          ]
        },
        {
          "output_type": "stream",
          "name": "stderr",
          "text": [
            "/usr/local/lib/python3.7/dist-packages/ipykernel_launcher.py:4: DeprecationWarning: The default dtype for empty Series will be 'object' instead of 'float64' in a future version. Specify a dtype explicitly to silence this warning.\n",
            "  after removing the cwd from sys.path.\n"
          ]
        }
      ]
    },
    {
      "cell_type": "markdown",
      "source": [
        "# Find missing data\n",
        "Let's impute missing data on a real Kaggle dataset. For this purpose, you will be using a data subsample from the Kaggle \"Two sigma connect: rental listing inquiries\" competition.\n",
        "\n",
        "Before proceeding with any imputing you need to know the number of missing values for each of the features. Moreover, if the feature has missing values, you should explore the type of this feature."
      ],
      "metadata": {
        "id": "jPRc7OeR8xMf"
      }
    },
    {
      "cell_type": "code",
      "source": [
        "# find the number of missing values in each column\n",
        "print(bryant_shots.isnull().sum())\n",
        "\n",
        "# Look at columns with missing values\n",
        "print(bryant_shots[['shot_made_flag']].head())"
      ],
      "metadata": {
        "colab": {
          "base_uri": "https://localhost:8080/"
        },
        "id": "E9pLb0ja59W2",
        "outputId": "9cac7488-86f0-45c8-d9e3-a73df1f895c9"
      },
      "execution_count": 106,
      "outputs": [
        {
          "output_type": "stream",
          "name": "stdout",
          "text": [
            "shot_id                 0\n",
            "game_id                 0\n",
            "lat                     0\n",
            "lon                     0\n",
            "minutes_remaining       0\n",
            "playoffs                0\n",
            "season                  0\n",
            "shot_distance           0\n",
            "shot_type               0\n",
            "shot_made_flag       1623\n",
            "dtype: int64\n",
            "   shot_made_flag\n",
            "0             NaN\n",
            "1             0.0\n",
            "2             1.0\n",
            "3             0.0\n",
            "4             1.0\n"
          ]
        }
      ]
    },
    {
      "cell_type": "markdown",
      "source": [
        "# Impute missing data\n",
        "You've found that \"price\" and \"building_id\" columns have missing values in the Rental Listing Inquiries dataset. So, before passing the data to the models you need to impute these values.\n",
        "\n",
        "Numerical feature \"price\" will be encoded with a mean value of non-missing prices.\n",
        "\n",
        "Imputing categorical feature \"building_id\" with the most frequent category is a bad idea, because it would mean that all the apartments with a missing \"building_id\" are located in the most popular building. The better idea is to impute it with a new category.\n",
        "\n",
        "The DataFrame rental_listings with competition data is read for you."
      ],
      "metadata": {
        "id": "vfyxnffK9Hvx"
      }
    },
    {
      "cell_type": "code",
      "source": [
        "# for numerical imputing values could do mean/median or constant value imputation\n",
        "# Import SimpleImputer\n",
        "from sklearn.impute import SimpleImputer\n",
        "\n",
        "# Create mean imputer\n",
        "mean_imputer = SimpleImputer(strategy='mean')\n",
        "\n",
        "# Price imputation\n",
        "bryant_shots[['shot_made_flag']] = mean_imputer.fit_transform(bryant_shots[['shot_made_flag']])"
      ],
      "metadata": {
        "id": "tKPxzMP99E7e"
      },
      "execution_count": 107,
      "outputs": []
    },
    {
      "cell_type": "code",
      "source": [
        "# for CATEGORICAL features can do most frequency or a new category imputation\n",
        "\n",
        "# Import SimpleImputer\n",
        "from sklearn.impute import SimpleImputer\n",
        "\n",
        "# Create constant imputer\n",
        "constant_imputer = SimpleImputer(strategy='constant', fill_value='MISSING')\n",
        "\n",
        "# building_id imputation\n",
        "rental_listings[['building_id']] = constant_imputer.fit_transform(rental_listings[['building_id']])"
      ],
      "metadata": {
        "id": "mxc2zbxEsHxT"
      },
      "execution_count": null,
      "outputs": []
    },
    {
      "cell_type": "markdown",
      "source": [
        "# CHAPTER 4\n",
        "\n",
        "## Modeling\n",
        "\n",
        "Time to bring everything together and build some models! In this last chapter, you will build a base model before tuning some hyperparameters and improving your results with ensembles. You will then get some final tips and tricks to help you compete more efficiently."
      ],
      "metadata": {
        "id": "QcSu0oSSA0TA"
      }
    },
    {
      "cell_type": "markdown",
      "source": [
        "# Replicate validation score\n",
        "You've seen both validation and Public Leaderboard scores in the video. However, the code examples are available only for the test data. To get the validation scores you have to repeat the same process on the holdout set.\n",
        "\n",
        "Throughout this chapter, you will work with New York City Taxi competition data. The problem is to predict the fare amount for a taxi ride in New York City. The competition metric is the root mean squared error.\n",
        "\n",
        "The first goal is to evaluate the Baseline model on the validation data. You will replicate the simplest Baseline based on the mean of \"fare_amount\". Recall that as a validation strategy we used a 30% holdout split with validation_train as train and validation_test as holdout DataFrames. Both of them are available in your workspace."
      ],
      "metadata": {
        "id": "UTe32VuhEKxt"
      }
    },
    {
      "cell_type": "code",
      "source": [
        "import pandas as pd\n",
        "from sklearn.model_selection import train_test_split\n",
        "train= pd.read_csv('taxi_train_chapter_4.csv',parse_dates=['pickup_datetime'])\n",
        "test= pd.read_csv('taxi_test_chapter_4.csv',parse_dates=['pickup_datetime'])\n",
        "validation_train, validation_test= train_test_split(train, test_size=0.3)"
      ],
      "metadata": {
        "id": "3y7l7DgRA56j"
      },
      "execution_count": 109,
      "outputs": []
    },
    {
      "cell_type": "code",
      "source": [
        "import numpy as np\n",
        "from sklearn.metrics import mean_squared_error\n",
        "from math import sqrt\n",
        "\n",
        "# Calculate the mean fare_amount on the validation_train data\n",
        "naive_prediction = np.mean(validation_train['fare_amount'])\n",
        "\n",
        "# Assign naive prediction to all the holdout observations\n",
        "validation_test['pred'] = naive_prediction\n",
        "\n",
        "# Measure the local RMSE\n",
        "rmse = sqrt(mean_squared_error(validation_test['fare_amount'], validation_test['pred']))\n",
        "print('Validation RMSE for Baseline I model: {:.3f}'.format(rmse))"
      ],
      "metadata": {
        "colab": {
          "base_uri": "https://localhost:8080/"
        },
        "id": "J373hEjvE-gr",
        "outputId": "46bfdc60-b4b2-4e55-9a80-3dd08c27448c"
      },
      "execution_count": null,
      "outputs": [
        {
          "output_type": "stream",
          "name": "stdout",
          "text": [
            "Validation RMSE for Baseline I model: 9.223\n"
          ]
        }
      ]
    },
    {
      "cell_type": "markdown",
      "source": [
        "# Baseline based on the date\n",
        "We've already built 3 different baseline models. To get more practice, let's build a couple more. The first model is based on the grouping variables. It's clear that the ride fare could depend on the part of the day. For example, prices could be higher during the rush hours.\n",
        "\n",
        "Your goal is to build a baseline model that will assign the average \"fare_amount\" for the corresponding hour. For now, you will create the model for the whole train data and make predictions for the test dataset.\n",
        "\n",
        "The train and test DataFrames are available in your workspace. Moreover, the \"pickup_datetime\" column in both DataFrames is already converted to a datetime object for you."
      ],
      "metadata": {
        "id": "hUZouzQaF7V_"
      }
    },
    {
      "cell_type": "code",
      "source": [
        "# Get pickup hour from the pickup_datetime column\n",
        "train['hour'] = train['pickup_datetime'].dt.hour\n",
        "test['hour'] = test['pickup_datetime'].dt.hour\n",
        "\n",
        "# Calculate average fare_amount grouped by pickup hour \n",
        "hour_groups = train.groupby('hour')['fare_amount'].mean()\n",
        "\n",
        "# Make predictions on the test set\n",
        "test['fare_amount'] = test.hour.map(hour_groups)\n",
        "\n",
        "# Write predictions\n",
        "test[['id','fare_amount']].to_csv('hour_mean_sub.csv', index=False)"
      ],
      "metadata": {
        "id": "4lF0b4JdGDhJ"
      },
      "execution_count": null,
      "outputs": []
    },
    {
      "cell_type": "markdown",
      "source": [
        "# Baseline based on the gradient boosting\n",
        "Let's build a final baseline based on the Random Forest. You've seen a huge score improvement moving from the grouping baseline to the Gradient Boosting in the video. Now, you will use sklearn's Random Forest to further improve this score.\n",
        "\n",
        "The goal of this exercise is to take numeric features and train a Random Forest model without any tuning. After that, you could make test predictions and validate the result on the Public Leaderboard. Note that you've already got an \"hour\" feature which could also be used as an input to the model."
      ],
      "metadata": {
        "id": "OKTHHuQVKbPx"
      }
    },
    {
      "cell_type": "code",
      "source": [
        "from sklearn.ensemble import RandomForestRegressor\n",
        "\n",
        "# Select only numeric features\n",
        "features = ['pickup_longitude', 'pickup_latitude', 'dropoff_longitude',\n",
        "            'dropoff_latitude', 'passenger_count', 'hour']\n",
        "\n",
        "# Train a Random Forest model\n",
        "rf = RandomForestRegressor()\n",
        "rf.fit(train[features], train.fare_amount)\n",
        "\n",
        "# Make predictions on the test data\n",
        "test['fare_amount'] = rf.predict(test[features])\n",
        "\n",
        "# Write predictions\n",
        "test[['id','fare_amount']].to_csv('rf_sub.csv', index=False)"
      ],
      "metadata": {
        "id": "rUUewMsDKUwT"
      },
      "execution_count": null,
      "outputs": []
    },
    {
      "cell_type": "markdown",
      "source": [
        "# Grid search\n",
        "Recall that we've created a baseline Gradient Boosting model in the previous lesson. Your goal now is to find the best max_depth hyperparameter value for this Gradient Boosting model. This hyperparameter limits the number of nodes in each individual tree. You will be using K-fold cross-validation to measure the local performance of the model for each hyperparameter value.\n",
        "\n",
        "You're given a function get_cv_score(), which takes the train dataset and dictionary of the model parameters as arguments and returns the overall validation RMSE score over 3-fold cross-validation."
      ],
      "metadata": {
        "id": "RdRlCklzRypr"
      }
    },
    {
      "cell_type": "code",
      "source": [
        "from sklearn.model_selection import KFold\n",
        "from sklearn.ensemble import GradientBoostingRegressor\n",
        "def get_cv_score(train, params):\n",
        "    # Create KFold object\n",
        "    kf = KFold(n_splits=3, shuffle=True, random_state=123)\n",
        "\n",
        "    rmse_scores = []\n",
        "    \n",
        "    # Loop through each split\n",
        "    for train_index, test_index in kf.split(train):\n",
        "        cv_train, cv_test = train.iloc[train_index], train.iloc[test_index]\n",
        "    \n",
        "        # Train a Gradient Boosting model\n",
        "        gb = GradientBoostingRegressor(random_state=123, **params).fit(cv_train[features], cv_train.fare_amount)\n",
        "    \n",
        "        # Make predictions on the test data\n",
        "        pred = gb.predict(cv_test[features])\n",
        "    \n",
        "        fold_score = np.sqrt(mean_squared_error(cv_test['fare_amount'], pred))\n",
        "        rmse_scores.append(fold_score)\n",
        "    \n",
        "    return np.round(np.mean(rmse_scores) + np.std(rmse_scores), 5)"
      ],
      "metadata": {
        "id": "cun7LfXIbqFc"
      },
      "execution_count": null,
      "outputs": []
    },
    {
      "cell_type": "code",
      "source": [
        "# Possible max depth values\n",
        "max_depth_grid = [3, 6, 9, 12, 15]\n",
        "results = {}\n",
        "\n",
        "# For each value in the grid\n",
        "for max_depth_candidate in max_depth_grid:\n",
        "    # Specify parameters for the model\n",
        "    params = {'max_depth': max_depth_candidate}\n",
        "\n",
        "    # Calculate validation score for a particular hyperparameter\n",
        "    validation_score = get_cv_score(train, params)\n",
        "\n",
        "    # Save the results for each max depth value\n",
        "    results[max_depth_candidate] = validation_score   \n",
        "print(results)"
      ],
      "metadata": {
        "colab": {
          "base_uri": "https://localhost:8080/"
        },
        "id": "pNzzrFEubyVm",
        "outputId": "f132388f-f31d-465d-96e2-20f762175183"
      },
      "execution_count": null,
      "outputs": [
        {
          "output_type": "stream",
          "name": "stdout",
          "text": [
            "{3: 5.67296, 6: 5.36925, 9: 5.35641, 12: 5.49932, 15: 5.70246}\n"
          ]
        }
      ]
    },
    {
      "cell_type": "markdown",
      "source": [
        "# 2D grid search\n",
        "The drawback of tuning each hyperparameter independently is a potential dependency between different hyperparameters. The better approach is to try all the possible hyperparameter combinations. However, in such cases, the grid search space is rapidly expanding. For example, if we have 2 parameters with 10 possible values, it will yield 100 experiment runs.\n",
        "\n",
        "Your goal is to find the best hyperparameter couple of max_depth and subsample for the Gradient Boosting model. subsample is a fraction of observations to be used for fitting the individual trees.\n",
        "\n",
        "You're given a function get_cv_score(), which takes the train dataset and dictionary of the model parameters as arguments and returns the overall validation RMSE score over 3-fold cross-validation."
      ],
      "metadata": {
        "id": "PQ1lnMxYcxh1"
      }
    },
    {
      "cell_type": "code",
      "source": [
        "import itertools\n",
        "\n",
        "# Hyperparameter grids\n",
        "max_depth_grid = [3, 5, 7]\n",
        "subsample_grid = [0.8, 0.9, 1.0]\n",
        "results = {}\n",
        "\n",
        "# For each couple in the grid\n",
        "for max_depth_candidate, subsample_candidate in itertools.product(max_depth_grid, subsample_grid):\n",
        "    params = {'max_depth': max_depth_candidate,\n",
        "              'subsample': subsample_candidate}\n",
        "    validation_score = get_cv_score(train, params)\n",
        "    # Save the results for each couple\n",
        "    results[(max_depth_candidate, subsample_candidate)] = validation_score   \n",
        "print(results)"
      ],
      "metadata": {
        "colab": {
          "base_uri": "https://localhost:8080/"
        },
        "id": "ebLc_q2kcIHn",
        "outputId": "66f51e6f-fb58-451f-b1e5-c129e4175d09"
      },
      "execution_count": null,
      "outputs": [
        {
          "output_type": "stream",
          "name": "stdout",
          "text": [
            "{(3, 0.8): 5.65813, (3, 0.9): 5.65228, (3, 1.0): 5.67296, (5, 0.8): 5.34947, (5, 0.9): 5.44506, (5, 1.0): 5.3132, (7, 0.8): 5.38994, (7, 0.9): 5.40631, (7, 1.0): 5.3591}\n"
          ]
        }
      ]
    },
    {
      "cell_type": "markdown",
      "source": [
        "# Model blending\n",
        "You will start creating model ensembles with a blending technique.\n",
        "\n",
        "Your goal is to train 2 different models on the New York City Taxi competition data. Make predictions on the test data and then blend them using a simple arithmetic mean.\n",
        "\n",
        "The train and test DataFrames are already available in your workspace. features is a list of columns to be used for training and it is also available in your workspace. The target variable name is \"fare_amount\"."
      ],
      "metadata": {
        "id": "KqTqHXf4e_ZE"
      }
    },
    {
      "cell_type": "code",
      "source": [
        "# Get pickup hour from the pickup_datetime column\n",
        "train['hour'] = train['pickup_datetime'].dt.hour\n",
        "test['hour'] = test['pickup_datetime'].dt.hour\n",
        "features= ['pickup_longitude',\n",
        " 'pickup_latitude',\n",
        " 'dropoff_longitude',\n",
        " 'dropoff_latitude',\n",
        " 'passenger_count',\n",
        " 'distance_km',\n",
        " 'hour']"
      ],
      "metadata": {
        "id": "YH0mhCmRdNtA"
      },
      "execution_count": null,
      "outputs": []
    },
    {
      "cell_type": "code",
      "source": [
        "from sklearn.ensemble import GradientBoostingRegressor, RandomForestRegressor\n",
        "\n",
        "# Train a Gradient Boosting model\n",
        "gb = GradientBoostingRegressor().fit(train[features], train.fare_amount)\n",
        "\n",
        "# Train a Random Forest model\n",
        "rf = RandomForestRegressor().fit(train[features], train.fare_amount)\n",
        "\n",
        "# Make predictions on the test data\n",
        "test['gb_pred'] = gb.predict(test[features])\n",
        "test['rf_pred'] = rf.predict(test[features])\n",
        "\n",
        "# Find mean of model predictions\n",
        "test['blend'] = (test['gb_pred'] + test['rf_pred']) / 2\n",
        "print(test[['gb_pred', 'rf_pred', 'blend']].head(3))\n",
        "\n",
        "# Blending allows you to get additional score improvements almost for free just by averaging multiple models predictions."
      ],
      "metadata": {
        "colab": {
          "base_uri": "https://localhost:8080/"
        },
        "id": "Ar6aBs92fIlU",
        "outputId": "d5e96d52-7cd6-4a08-e825-a0c0fd10158a"
      },
      "execution_count": null,
      "outputs": [
        {
          "output_type": "stream",
          "name": "stdout",
          "text": [
            "    gb_pred  rf_pred     blend\n",
            "0  9.125411    9.052  9.088706\n",
            "1  9.455938    8.941  9.198469\n",
            "2  5.514908    4.665  5.089954\n"
          ]
        }
      ]
    },
    {
      "cell_type": "markdown",
      "source": [
        "# Model stacking I\n",
        "Now it's time for stacking. To implement the stacking approach, you will follow the 6 steps we've discussed in the previous video:\n",
        "\n",
        "1. Split train data into two parts\n",
        "2. Train multiple models on Part 1\n",
        "3. Make predictions on Part 2\n",
        "4. Make predictions on the test data\n",
        "5. Train a new model on Part 2 using predictions as features\n",
        "6. Make predictions on the test data using the 2nd level model\n",
        "\n",
        "train and test DataFrames are already available in your workspace. features is a list of columns to be used for training on the Part 1 data and it is also available in your workspace. Target variable name is \"fare_amount\"."
      ],
      "metadata": {
        "id": "dGa3fypjhWvu"
      }
    },
    {
      "cell_type": "code",
      "source": [
        "from sklearn.model_selection import train_test_split\n",
        "from sklearn.ensemble import GradientBoostingRegressor, RandomForestRegressor\n",
        "\n",
        "# Split train data into two parts\n",
        "part_1, part_2 = train_test_split(train, test_size=0.5, random_state=123)\n",
        "\n",
        "# Train a Gradient Boosting model\n",
        "gb = GradientBoostingRegressor().fit(part_1[features], part_1.fare_amount)\n",
        "\n",
        "# Train a Random Forest model on Part 1\n",
        "rf = RandomForestRegressor().fit(part_1[features], part_1.fare_amount)"
      ],
      "metadata": {
        "id": "-neUSywUgmUz"
      },
      "execution_count": null,
      "outputs": []
    },
    {
      "cell_type": "code",
      "source": [
        "# Make predictions on the Part 2 data\n",
        "part_2['gb_pred'] = gb.predict(part_2[features])\n",
        "part_2['rf_pred'] = rf.predict(part_2[features])\n",
        "\n",
        "# Make predictions on the test data\n",
        "test['gb_pred'] = gb.predict(test[features])\n",
        "test['rf_pred'] = rf.predict(test[features])"
      ],
      "metadata": {
        "id": "2TlS3EDGgozg"
      },
      "execution_count": null,
      "outputs": []
    },
    {
      "cell_type": "markdown",
      "source": [
        "# Model stacking II\n",
        "OK, what you've done so far in the stacking implementation:\n",
        "\n",
        "1. Split train data into two parts\n",
        "2. Train multiple models on Part 1\n",
        "3. Make predictions on Part 2\n",
        "4. Make predictions on the test data\n",
        "\n",
        "Now, your goal is to create a second level model using predictions from steps 3 and 4 as features. So, this model is trained on Part 2 data and then you can make stacking predictions on the test data.\n",
        "\n",
        "part_2 and test DataFrames are already available in your workspace. Gradient Boosting and Random Forest predictions are stored in these DataFrames under the names \"gb_pred\" and \"rf_pred\", respectiv"
      ],
      "metadata": {
        "id": "9DvMIDpskROj"
      }
    },
    {
      "cell_type": "code",
      "source": [
        "from sklearn.linear_model import LinearRegression\n",
        "\n",
        "# Create linear regression model without the intercept\n",
        "lr = LinearRegression(fit_intercept=False)\n",
        "\n",
        "# Train 2nd level model on the Part 2 data\n",
        "lr.fit(part_2[['gb_pred', 'rf_pred']], part_2.fare_amount)\n",
        "\n",
        "# Make stacking predictions on the test data\n",
        "test['stacking'] = lr.predict(test[['gb_pred', 'rf_pred']])\n",
        "\n",
        "# Look at the model coefficients\n",
        "print(lr.coef_)\n",
        "\n",
        "#shows what model to choose GBR, RFR "
      ],
      "metadata": {
        "colab": {
          "base_uri": "https://localhost:8080/"
        },
        "id": "KdqDUuyzkDaP",
        "outputId": "fdbed184-0e4d-440f-9517-1e913151a2e3"
      },
      "execution_count": null,
      "outputs": [
        {
          "output_type": "stream",
          "name": "stdout",
          "text": [
            "[0.43727697 0.55803425]\n"
          ]
        }
      ]
    },
    {
      "cell_type": "markdown",
      "source": [
        "# Testing Kaggle forum ideas\n",
        "Unfortunately, not all the Forum posts and Kernels are necessarily useful for your model. So instead of blindly incorporating ideas into your pipeline, you should test them first.\n",
        "\n",
        "You're given a function get_cv_score(), which takes a train dataset as an argument and returns the overall validation root mean squared error over 3-fold cross-validation. The train DataFrame is already available in your workspace.\n",
        "\n",
        "You should try different suggestions from the Kaggle Forum and check whether they improve your validation score."
      ],
      "metadata": {
        "id": "9jHuUuheppSa"
      }
    },
    {
      "cell_type": "code",
      "source": [
        "def get_cv_score(train):\n",
        "    features = ['pickup_longitude', 'pickup_latitude',\n",
        "            'dropoff_longitude', 'dropoff_latitude',\n",
        "            'passenger_count', 'distance_km', 'hour', 'weird_feature']\n",
        "    \n",
        "    features = [x for x in features if x in train.columns]\n",
        "  \n",
        "    # Create KFold object\n",
        "    kf = KFold(n_splits=3, shuffle=True, random_state=123)\n",
        "\n",
        "    rmse_scores = []\n",
        "    \n",
        "    # Loop through each split\n",
        "    for train_index, test_index in kf.split(train):\n",
        "        cv_train, cv_test = train.iloc[train_index], train.iloc[test_index]\n",
        "    \n",
        "        # Train a Gradient Boosting model\n",
        "        gb = GradientBoostingRegressor(random_state=123).fit(cv_train[features], cv_train.fare_amount)\n",
        "    \n",
        "        # Make predictions on the test data\n",
        "        pred = gb.predict(cv_test[features])\n",
        "    \n",
        "        fold_score = np.sqrt(mean_squared_error(cv_test['fare_amount'], pred))\n",
        "        rmse_scores.append(fold_score)\n",
        "    \n",
        "    return np.round(np.mean(rmse_scores) + np.std(rmse_scores), 5)"
      ],
      "metadata": {
        "id": "gw5BYvsep5ik"
      },
      "execution_count": 31,
      "outputs": []
    },
    {
      "cell_type": "code",
      "source": [
        "# Drop passenger_count column\n",
        "new_train_1 = train.drop('passenger_count', axis=1)\n",
        "\n",
        "# Compare validation scores\n",
        "initial_score = get_cv_score(train)\n",
        "new_score = get_cv_score(new_train_1)\n",
        "\n",
        "print('Initial score is {} and the new score is {}'.format(initial_score, new_score))"
      ],
      "metadata": {
        "id": "QSQTbpNvo0Tb",
        "colab": {
          "base_uri": "https://localhost:8080/"
        },
        "outputId": "2a748baf-f942-4a38-9a05-d3293d619004"
      },
      "execution_count": 32,
      "outputs": [
        {
          "output_type": "stream",
          "name": "stdout",
          "text": [
            "Initial score is 5.11684 and the new score is 5.13542\n"
          ]
        }
      ]
    },
    {
      "cell_type": "code",
      "source": [
        "# Create copy of the initial train DataFrame\n",
        "new_train_2 = train.copy()\n",
        "\n",
        "# Find sum of pickup latitude and ride distance\n",
        "new_train_2['weird_feature'] = new_train_2['pickup_latitude'] + new_train_2['distance_km']\n",
        "\n",
        "# Compare validation scores\n",
        "initial_score = get_cv_score(train)\n",
        "new_score = get_cv_score(new_train_2)\n",
        "\n",
        "print('Initial score is {} and the new score is {}'.format(initial_score, new_score))"
      ],
      "metadata": {
        "colab": {
          "base_uri": "https://localhost:8080/"
        },
        "id": "g9Xi4kaNpxsz",
        "outputId": "113af06f-5c2e-4ec8-990a-f6a0b4ea5f1c"
      },
      "execution_count": 35,
      "outputs": [
        {
          "output_type": "stream",
          "name": "stdout",
          "text": [
            "Initial score is 5.11684 and the new score is 5.14729\n"
          ]
        }
      ]
    }
  ]
}